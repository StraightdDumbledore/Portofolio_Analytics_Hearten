{
 "cells": [
  {
   "cell_type": "markdown",
   "metadata": {
    "id": "E0vqbgi9ay0H"
   },
   "source": [
    "# Y.Music"
   ]
  },
  {
   "cell_type": "markdown",
   "metadata": {
    "id": "fhq_eyov_Zcs"
   },
   "source": [
    "# Konten <a id='back'></a>\n",
    "\n",
    "* [Pendahuluan](#intro)\n",
    "* [Tahap 1. Ikhtisar Data](#data_review)\n",
    "    * [Kesimpulan](#data_review_conclusions)\n",
    "* [Tahap 2. Pra-pemrosesan Data](#data_preprocessing)\n",
    "    * [2.1 Gaya penulisan judul](#header_style)\n",
    "    * [2.2 Nilai-nilai yang hilang](#missing_values)\n",
    "    * [2.3 Duplikat](#duplicates)\n",
    "    * [2.4 Kesimpulan](#data_preprocessing_conclusions)\n",
    "* [Tahap 3. Menguji Hipotesis](#hypotheses)\n",
    "    * [3.1 Hipotesis 1: aktivitas pengguna di dua kota](#activity)\n",
    "    * [3.2 Hipotesis 2: preferensi musik pada hari Senin dan Jumat](#week)\n",
    "    * [3.3 Hipotesis 3: preferensi genre di kota Springfield dan Shelbyville](#genre)\n",
    "* [Temuan](#end)"
   ]
  },
  {
   "cell_type": "markdown",
   "metadata": {
    "id": "VUC88oWjTJw2"
   },
   "source": [
    "## Pendahuluan <a id='intro'></a>\n",
    "Setiap kali kita melakukan penelitian, kita perlu merumuskan hipotesis yang kemudian dapat kita uji. Terkadang kita menerima hipotesis ini; tetapi terkadang kita juga menolaknya. Untuk membuat keputusan yang tepat, sebuah bisnis harus dapat memahami apakah asumsi yang dibuatnya benar atau tidak.\n",
    "\n",
    "Dalam proyek kali ini, Anda akan membandingkan preferensi musik kota Springfield dan Shelbyville. Anda akan mempelajari data Y.Music yang sebenarnya untuk menguji hipotesis di bawah ini dan membandingkan perilaku pengguna di kedua kota ini.\n",
    "\n",
    "### Tujuan: \n",
    "Menguji tiga hipotesis:\n",
    "1. Aktivitas pengguna berbeda-beda tergantung pada hari dan kotanya.\n",
    "2. Pada senin pagi, penduduk Springfield dan Shelbyville mendengarkan genre yang berbeda. Hal ini juga ini juga berlaku untuk Jumat malam.\n",
    "3. Pendengar di Springfield dan Shelbyville memiliki preferensi yang berbeda. Di Springfield, mereka lebih suka musik pop, sementara Shelbyville, musik rap memiliki lebih banyak penggemar.\n",
    "\n",
    "### Tahapan\n",
    "Data tentang perilaku pengguna disimpan dalam berkas `/datasets/music_project_en.csv`. Tidak ada informasi tentang kualitas data, jadi Anda perlu memeriksanya lebih dahulu sebelum menguji hipotesis.\n",
    "\n",
    "Pertama, Anda akan mengevaluasi kualitas data dan melihat apakah masalahnya signifikan. Kemudian, selama pra-pemrosesan data, Anda akan mencoba memperhitungkan masalah yang paling serius.\n",
    " \n",
    "Proyek ini akan terdiri dari tiga tahap:\n",
    " 1. Ikhtisar Data\n",
    " 2. Pra-pemrosesan Data\n",
    " 3. Menguji Hipotesis\n",
    "\n",
    " \n",
    "[Kembali ke Daftar Isi](#back)"
   ]
  },
  {
   "cell_type": "code",
   "execution_count": 1,
   "metadata": {
    "id": "AXN7PHPN_Zcs"
   },
   "outputs": [],
   "source": [
    "# mengimpor pandas\n",
    "\n",
    "import pandas as pd\n"
   ]
  },
  {
   "cell_type": "code",
   "execution_count": 3,
   "metadata": {
    "id": "fFVu7vqh_Zct"
   },
   "outputs": [],
   "source": [
    "# membaca berkas dan menyimpannya ke df\n",
    "\n",
    "url = 'music_project_en.csv'\n",
    "df = pd.read_csv(url)"
   ]
  },
  {
   "cell_type": "code",
   "execution_count": 4,
   "metadata": {
    "id": "oWTVX3gW_Zct",
    "scrolled": false
   },
   "outputs": [
    {
     "data": {
      "text/html": [
       "<div>\n",
       "<style scoped>\n",
       "    .dataframe tbody tr th:only-of-type {\n",
       "        vertical-align: middle;\n",
       "    }\n",
       "\n",
       "    .dataframe tbody tr th {\n",
       "        vertical-align: top;\n",
       "    }\n",
       "\n",
       "    .dataframe thead th {\n",
       "        text-align: right;\n",
       "    }\n",
       "</style>\n",
       "<table border=\"1\" class=\"dataframe\">\n",
       "  <thead>\n",
       "    <tr style=\"text-align: right;\">\n",
       "      <th></th>\n",
       "      <th>userID</th>\n",
       "      <th>Track</th>\n",
       "      <th>artist</th>\n",
       "      <th>genre</th>\n",
       "      <th>City</th>\n",
       "      <th>time</th>\n",
       "      <th>Day</th>\n",
       "    </tr>\n",
       "  </thead>\n",
       "  <tbody>\n",
       "    <tr>\n",
       "      <th>0</th>\n",
       "      <td>FFB692EC</td>\n",
       "      <td>Kamigata To Boots</td>\n",
       "      <td>The Mass Missile</td>\n",
       "      <td>rock</td>\n",
       "      <td>Shelbyville</td>\n",
       "      <td>20:28:33</td>\n",
       "      <td>Wednesday</td>\n",
       "    </tr>\n",
       "    <tr>\n",
       "      <th>1</th>\n",
       "      <td>55204538</td>\n",
       "      <td>Delayed Because of Accident</td>\n",
       "      <td>Andreas Rönnberg</td>\n",
       "      <td>rock</td>\n",
       "      <td>Springfield</td>\n",
       "      <td>14:07:09</td>\n",
       "      <td>Friday</td>\n",
       "    </tr>\n",
       "    <tr>\n",
       "      <th>2</th>\n",
       "      <td>20EC38</td>\n",
       "      <td>Funiculì funiculà</td>\n",
       "      <td>Mario Lanza</td>\n",
       "      <td>pop</td>\n",
       "      <td>Shelbyville</td>\n",
       "      <td>20:58:07</td>\n",
       "      <td>Wednesday</td>\n",
       "    </tr>\n",
       "    <tr>\n",
       "      <th>3</th>\n",
       "      <td>A3DD03C9</td>\n",
       "      <td>Dragons in the Sunset</td>\n",
       "      <td>Fire + Ice</td>\n",
       "      <td>folk</td>\n",
       "      <td>Shelbyville</td>\n",
       "      <td>08:37:09</td>\n",
       "      <td>Monday</td>\n",
       "    </tr>\n",
       "    <tr>\n",
       "      <th>4</th>\n",
       "      <td>E2DC1FAE</td>\n",
       "      <td>Soul People</td>\n",
       "      <td>Space Echo</td>\n",
       "      <td>dance</td>\n",
       "      <td>Springfield</td>\n",
       "      <td>08:34:34</td>\n",
       "      <td>Monday</td>\n",
       "    </tr>\n",
       "  </tbody>\n",
       "</table>\n",
       "</div>"
      ],
      "text/plain": [
       "     userID                        Track            artist  genre  \\\n",
       "0  FFB692EC            Kamigata To Boots  The Mass Missile   rock   \n",
       "1  55204538  Delayed Because of Accident  Andreas Rönnberg   rock   \n",
       "2    20EC38            Funiculì funiculà       Mario Lanza    pop   \n",
       "3  A3DD03C9        Dragons in the Sunset        Fire + Ice   folk   \n",
       "4  E2DC1FAE                  Soul People        Space Echo  dance   \n",
       "\n",
       "        City        time        Day  \n",
       "0  Shelbyville  20:28:33  Wednesday  \n",
       "1  Springfield  14:07:09     Friday  \n",
       "2  Shelbyville  20:58:07  Wednesday  \n",
       "3  Shelbyville  08:37:09     Monday  \n",
       "4  Springfield  08:34:34     Monday  "
      ]
     },
     "execution_count": 4,
     "metadata": {},
     "output_type": "execute_result"
    }
   ],
   "source": [
    "# memperoleh 10 baris pertama dari tabel df\n",
    "df.head()\n"
   ]
  },
  {
   "cell_type": "code",
   "execution_count": 7,
   "metadata": {},
   "outputs": [
    {
     "data": {
      "text/html": [
       "<div>\n",
       "<style scoped>\n",
       "    .dataframe tbody tr th:only-of-type {\n",
       "        vertical-align: middle;\n",
       "    }\n",
       "\n",
       "    .dataframe tbody tr th {\n",
       "        vertical-align: top;\n",
       "    }\n",
       "\n",
       "    .dataframe thead th {\n",
       "        text-align: right;\n",
       "    }\n",
       "</style>\n",
       "<table border=\"1\" class=\"dataframe\">\n",
       "  <thead>\n",
       "    <tr style=\"text-align: right;\">\n",
       "      <th></th>\n",
       "      <th>userID</th>\n",
       "      <th>Track</th>\n",
       "      <th>artist</th>\n",
       "      <th>genre</th>\n",
       "      <th>City</th>\n",
       "      <th>time</th>\n",
       "      <th>Day</th>\n",
       "    </tr>\n",
       "  </thead>\n",
       "  <tbody>\n",
       "    <tr>\n",
       "      <th>count</th>\n",
       "      <td>65079</td>\n",
       "      <td>63736</td>\n",
       "      <td>57512</td>\n",
       "      <td>63881</td>\n",
       "      <td>65079</td>\n",
       "      <td>65079</td>\n",
       "      <td>65079</td>\n",
       "    </tr>\n",
       "    <tr>\n",
       "      <th>unique</th>\n",
       "      <td>41748</td>\n",
       "      <td>39666</td>\n",
       "      <td>37806</td>\n",
       "      <td>268</td>\n",
       "      <td>2</td>\n",
       "      <td>20392</td>\n",
       "      <td>3</td>\n",
       "    </tr>\n",
       "    <tr>\n",
       "      <th>top</th>\n",
       "      <td>A8AE9169</td>\n",
       "      <td>Brand</td>\n",
       "      <td>Kartvelli</td>\n",
       "      <td>pop</td>\n",
       "      <td>Springfield</td>\n",
       "      <td>08:14:07</td>\n",
       "      <td>Friday</td>\n",
       "    </tr>\n",
       "    <tr>\n",
       "      <th>freq</th>\n",
       "      <td>76</td>\n",
       "      <td>136</td>\n",
       "      <td>136</td>\n",
       "      <td>8850</td>\n",
       "      <td>45360</td>\n",
       "      <td>14</td>\n",
       "      <td>23149</td>\n",
       "    </tr>\n",
       "  </tbody>\n",
       "</table>\n",
       "</div>"
      ],
      "text/plain": [
       "          userID  Track     artist  genre       City        time     Day\n",
       "count      65079  63736      57512  63881        65079     65079   65079\n",
       "unique     41748  39666      37806    268            2     20392       3\n",
       "top     A8AE9169  Brand  Kartvelli    pop  Springfield  08:14:07  Friday\n",
       "freq          76    136        136   8850        45360        14   23149"
      ]
     },
     "execution_count": 7,
     "metadata": {},
     "output_type": "execute_result"
    }
   ],
   "source": [
    "# Melakukan Pengecekan umum pada Dataset\n",
    "df.describe()"
   ]
  },
  {
   "cell_type": "code",
   "execution_count": 6,
   "metadata": {
    "id": "DSf2kIb-_Zct",
    "scrolled": true
   },
   "outputs": [
    {
     "name": "stdout",
     "output_type": "stream",
     "text": [
      "<class 'pandas.core.frame.DataFrame'>\n",
      "RangeIndex: 65079 entries, 0 to 65078\n",
      "Data columns (total 7 columns):\n",
      " #   Column    Non-Null Count  Dtype \n",
      "---  ------    --------------  ----- \n",
      " 0     userID  65079 non-null  object\n",
      " 1   Track     63736 non-null  object\n",
      " 2   artist    57512 non-null  object\n",
      " 3   genre     63881 non-null  object\n",
      " 4     City    65079 non-null  object\n",
      " 5   time      65079 non-null  object\n",
      " 6   Day       65079 non-null  object\n",
      "dtypes: object(7)\n",
      "memory usage: 3.5+ MB\n"
     ]
    }
   ],
   "source": [
    "# Melakukan pengecekan dataset\n",
    "df.info()"
   ]
  },
  {
   "cell_type": "markdown",
   "metadata": {
    "id": "3eL__vcwViOi"
   },
   "source": [
    "[Kembali ke Daftar Isi](#back)"
   ]
  },
  {
   "cell_type": "markdown",
   "metadata": {
    "id": "SjYF6Ub9_Zct"
   },
   "source": [
    "## Tahap 2. Pra-pemrosesan Data <a id='data_preprocessing'></a>\n",
    "Perbaiki format pada judul kolom dan atasi nilai yang hilang. Kemudian, periksa apakah ada duplikat dalam data."
   ]
  },
  {
   "cell_type": "markdown",
   "metadata": {
    "id": "dIaKXr29_Zct"
   },
   "source": [
    "### Menyesuaikan analysis pada dataset"
   ]
  },
  {
   "cell_type": "code",
   "execution_count": 8,
   "metadata": {
    "id": "oKOTdF_Q_Zct",
    "scrolled": true
   },
   "outputs": [
    {
     "data": {
      "text/plain": [
       "Index(['  userID', 'Track', 'artist', 'genre', '  City  ', 'time', 'Day'], dtype='object')"
      ]
     },
     "execution_count": 8,
     "metadata": {},
     "output_type": "execute_result"
    }
   ],
   "source": [
    "# Melakukan pengecekan column \n",
    "df.columns"
   ]
  },
  {
   "cell_type": "code",
   "execution_count": 9,
   "metadata": {
    "id": "ISlFqs5y_Zct"
   },
   "outputs": [],
   "source": [
    "# daftar nama kolom di tabel df\n",
    "\n",
    "df = df.rename(columns={'  userID': 'user_id','Track': 'track','artist': 'artist','genre': 'genre','  City  ': 'city','time': 'time','Day': 'day'})"
   ]
  },
  {
   "cell_type": "code",
   "execution_count": 10,
   "metadata": {
    "id": "d4NOAmTW_Zct"
   },
   "outputs": [
    {
     "data": {
      "text/plain": [
       "Index(['user_id', 'track', 'artist', 'genre', 'city', 'time', 'day'], dtype='object')"
      ]
     },
     "execution_count": 10,
     "metadata": {},
     "output_type": "execute_result"
    }
   ],
   "source": [
    "# Melakukan pemeriksaan nama kolom\n",
    "df.columns"
   ]
  },
  {
   "cell_type": "markdown",
   "metadata": {
    "id": "xYJk6ksJVpOl"
   },
   "source": [
    "[Kembali ke Daftar Isi](#back)"
   ]
  },
  {
   "cell_type": "markdown",
   "metadata": {
    "id": "5ISfbcfY_Zct"
   },
   "source": [
    "### Pemerikasaan terhadap Object pada Dataset"
   ]
  },
  {
   "cell_type": "code",
   "execution_count": 12,
   "metadata": {
    "id": "RskX29qr_Zct",
    "scrolled": true
   },
   "outputs": [
    {
     "data": {
      "text/plain": [
       "user_id       0\n",
       "track      1343\n",
       "artist     7567\n",
       "genre      1198\n",
       "city          0\n",
       "time          0\n",
       "day           0\n",
       "dtype: int64"
      ]
     },
     "execution_count": 12,
     "metadata": {},
     "output_type": "execute_result"
    }
   ],
   "source": [
    "# hasil pengecekan: daftar nama kolom\n",
    "\n",
    "df.isna().sum()"
   ]
  },
  {
   "cell_type": "code",
   "execution_count": 13,
   "metadata": {},
   "outputs": [
    {
     "data": {
      "text/html": [
       "<div>\n",
       "<style scoped>\n",
       "    .dataframe tbody tr th:only-of-type {\n",
       "        vertical-align: middle;\n",
       "    }\n",
       "\n",
       "    .dataframe tbody tr th {\n",
       "        vertical-align: top;\n",
       "    }\n",
       "\n",
       "    .dataframe thead th {\n",
       "        text-align: right;\n",
       "    }\n",
       "</style>\n",
       "<table border=\"1\" class=\"dataframe\">\n",
       "  <thead>\n",
       "    <tr style=\"text-align: right;\">\n",
       "      <th></th>\n",
       "      <th>track</th>\n",
       "      <th>genre</th>\n",
       "      <th>artist</th>\n",
       "    </tr>\n",
       "  </thead>\n",
       "  <tbody>\n",
       "    <tr>\n",
       "      <th>0</th>\n",
       "      <td>Kamigata To Boots</td>\n",
       "      <td>rock</td>\n",
       "      <td>The Mass Missile</td>\n",
       "    </tr>\n",
       "    <tr>\n",
       "      <th>1</th>\n",
       "      <td>Delayed Because of Accident</td>\n",
       "      <td>rock</td>\n",
       "      <td>Andreas Rönnberg</td>\n",
       "    </tr>\n",
       "    <tr>\n",
       "      <th>2</th>\n",
       "      <td>Funiculì funiculà</td>\n",
       "      <td>pop</td>\n",
       "      <td>Mario Lanza</td>\n",
       "    </tr>\n",
       "    <tr>\n",
       "      <th>3</th>\n",
       "      <td>Dragons in the Sunset</td>\n",
       "      <td>folk</td>\n",
       "      <td>Fire + Ice</td>\n",
       "    </tr>\n",
       "    <tr>\n",
       "      <th>4</th>\n",
       "      <td>Soul People</td>\n",
       "      <td>dance</td>\n",
       "      <td>Space Echo</td>\n",
       "    </tr>\n",
       "    <tr>\n",
       "      <th>...</th>\n",
       "      <td>...</td>\n",
       "      <td>...</td>\n",
       "      <td>...</td>\n",
       "    </tr>\n",
       "    <tr>\n",
       "      <th>65074</th>\n",
       "      <td>My Name</td>\n",
       "      <td>rnb</td>\n",
       "      <td>McLean</td>\n",
       "    </tr>\n",
       "    <tr>\n",
       "      <th>65075</th>\n",
       "      <td>Maybe One Day (feat. Black Spade)</td>\n",
       "      <td>hip</td>\n",
       "      <td>Blu &amp; Exile</td>\n",
       "    </tr>\n",
       "    <tr>\n",
       "      <th>65076</th>\n",
       "      <td>Jalopiina</td>\n",
       "      <td>industrial</td>\n",
       "      <td>NaN</td>\n",
       "    </tr>\n",
       "    <tr>\n",
       "      <th>65077</th>\n",
       "      <td>Freight Train</td>\n",
       "      <td>rock</td>\n",
       "      <td>Chas McDevitt</td>\n",
       "    </tr>\n",
       "    <tr>\n",
       "      <th>65078</th>\n",
       "      <td>Tell Me Sweet Little Lies</td>\n",
       "      <td>country</td>\n",
       "      <td>Monica Lopez</td>\n",
       "    </tr>\n",
       "  </tbody>\n",
       "</table>\n",
       "<p>65079 rows × 3 columns</p>\n",
       "</div>"
      ],
      "text/plain": [
       "                                   track       genre            artist\n",
       "0                      Kamigata To Boots        rock  The Mass Missile\n",
       "1            Delayed Because of Accident        rock  Andreas Rönnberg\n",
       "2                      Funiculì funiculà         pop       Mario Lanza\n",
       "3                  Dragons in the Sunset        folk        Fire + Ice\n",
       "4                            Soul People       dance        Space Echo\n",
       "...                                  ...         ...               ...\n",
       "65074                            My Name         rnb            McLean\n",
       "65075  Maybe One Day (feat. Black Spade)         hip       Blu & Exile\n",
       "65076                          Jalopiina  industrial               NaN\n",
       "65077                      Freight Train        rock     Chas McDevitt\n",
       "65078          Tell Me Sweet Little Lies     country      Monica Lopez\n",
       "\n",
       "[65079 rows x 3 columns]"
      ]
     },
     "execution_count": 13,
     "metadata": {},
     "output_type": "execute_result"
    }
   ],
   "source": [
    "# mengulang nama kolom dan mengganti nilai yang hilang dengan 'unknown'\n",
    "\n",
    "df.loc[:, ['track', 'genre', 'artist']]"
   ]
  },
  {
   "cell_type": "code",
   "execution_count": 14,
   "metadata": {
    "id": "KplB5qWs_Zct"
   },
   "outputs": [],
   "source": [
    "# mengulang nama kolom dan mengganti nilai yang hilang dengan 'unknown'\n",
    "\n",
    "columns_to_replace = ['track', 'artist','genre']\n",
    "for column in columns_to_replace:\n",
    "    df.loc[df[column].isna(), column] = 'unknown'\n",
    "    "
   ]
  },
  {
   "cell_type": "code",
   "execution_count": 15,
   "metadata": {
    "id": "Tq4nYRX4_Zct"
   },
   "outputs": [
    {
     "data": {
      "text/plain": [
       "user_id    0\n",
       "track      0\n",
       "artist     0\n",
       "genre      0\n",
       "city       0\n",
       "time       0\n",
       "day        0\n",
       "dtype: int64"
      ]
     },
     "execution_count": 15,
     "metadata": {},
     "output_type": "execute_result"
    }
   ],
   "source": [
    "# menghitung duplikat yang jelas\n",
    "\n",
    "df.isna().sum()"
   ]
  },
  {
   "cell_type": "code",
   "execution_count": 50,
   "metadata": {},
   "outputs": [
    {
     "data": {
      "text/plain": [
       "Index(['user_id', 'track', 'artist', 'genre', 'city', 'time', 'day'], dtype='object')"
      ]
     },
     "execution_count": 50,
     "metadata": {},
     "output_type": "execute_result"
    }
   ],
   "source": [
    "df.columns"
   ]
  },
  {
   "cell_type": "markdown",
   "metadata": {
    "id": "BWKRtBJ3_Zct"
   },
   "source": [
    "### Melakukan pengecekan duplikat object value"
   ]
  },
  {
   "cell_type": "code",
   "execution_count": 21,
   "metadata": {
    "id": "36eES_S0_Zct",
    "scrolled": true
   },
   "outputs": [
    {
     "data": {
      "text/plain": [
       "0"
      ]
     },
     "execution_count": 21,
     "metadata": {},
     "output_type": "execute_result"
    }
   ],
   "source": [
    "# menghitung duplikat yang jelas\n",
    "\n",
    "df.duplicated().sum()"
   ]
  },
  {
   "cell_type": "code",
   "execution_count": 20,
   "metadata": {
    "id": "exFHq6tt_Zct"
   },
   "outputs": [],
   "source": [
    "# menghapus duplikat yang jelas\n",
    "\n",
    "df = df.drop_duplicates().reset_index(drop=True)"
   ]
  },
  {
   "cell_type": "code",
   "execution_count": 18,
   "metadata": {
    "id": "-8PuNWQ0_Zct"
   },
   "outputs": [
    {
     "data": {
      "text/plain": [
       "0"
      ]
     },
     "execution_count": 18,
     "metadata": {},
     "output_type": "execute_result"
    }
   ],
   "source": [
    "# memeriksa duplikat\n",
    "\n",
    "df.duplicated().sum()"
   ]
  },
  {
   "cell_type": "code",
   "execution_count": 19,
   "metadata": {
    "id": "JIUcqzZN_Zct"
   },
   "outputs": [
    {
     "data": {
      "text/plain": [
       "235        acid\n",
       "145    acoustic\n",
       "157      action\n",
       "106       adult\n",
       "151      africa\n",
       "dtype: object"
      ]
     },
     "execution_count": 19,
     "metadata": {},
     "output_type": "execute_result"
    }
   ],
   "source": [
    "# memeriksa duplikat pada column genre\n",
    "\n",
    "column = 'genre'\n",
    "Genres = pd.Series(df[column].unique()).sort_values()\n",
    "\n",
    "\n",
    "Genres.head()"
   ]
  },
  {
   "cell_type": "code",
   "execution_count": 41,
   "metadata": {},
   "outputs": [
    {
     "data": {
      "text/plain": [
       "pop              8323\n",
       "dance            6367\n",
       "rock             5844\n",
       "electronic       5522\n",
       "hip              2975\n",
       "                 ... \n",
       "baile               1\n",
       "ghazal              1\n",
       "popelectronic       1\n",
       "acid                1\n",
       "regional            1\n",
       "Name: genre, Length: 269, dtype: int64"
      ]
     },
     "execution_count": 41,
     "metadata": {},
     "output_type": "execute_result"
    }
   ],
   "source": [
    "sart = df['genre'].value_counts(ascending=False)\n",
    "\n",
    "sart"
   ]
  },
  {
   "cell_type": "markdown",
   "metadata": {},
   "source": [
    "### Melakukan Perbaikan duplikat value object pada kolom genre"
   ]
  },
  {
   "cell_type": "code",
   "execution_count": 42,
   "metadata": {},
   "outputs": [],
   "source": [
    "# memeriksa duplikat\n",
    "\n",
    "def replace_wrong_genres(wrong_genres, correct_genres):\n",
    "    for wrong_genre in wrong_genres:\n",
    "        df['genre'] = df['genre'].replace(wrong_genres, correct_genres)"
   ]
  },
  {
   "cell_type": "code",
   "execution_count": 43,
   "metadata": {
    "id": "YN5i2hpmSo09"
   },
   "outputs": [],
   "source": [
    "# menghapus duplikat implisit\n",
    "\n",
    "wrong_genres = ['hip', 'hop', 'hip-hop']\n",
    "correct_genres = 'hiphop'\n",
    "replace_wrong_genres(wrong_genres, correct_genres)"
   ]
  },
  {
   "cell_type": "code",
   "execution_count": 44,
   "metadata": {
    "id": "wvixALnFG15m",
    "scrolled": true
   },
   "outputs": [
    {
     "data": {
      "text/plain": [
       "['acid',\n",
       " 'acoustic',\n",
       " 'action',\n",
       " 'adult',\n",
       " 'africa',\n",
       " 'afrikaans',\n",
       " 'alternative',\n",
       " 'ambient',\n",
       " 'americana',\n",
       " 'animated',\n",
       " 'anime',\n",
       " 'arabesk',\n",
       " 'arabic',\n",
       " 'arena',\n",
       " 'argentinetango',\n",
       " 'art',\n",
       " 'audiobook',\n",
       " 'avantgarde',\n",
       " 'axé',\n",
       " 'baile',\n",
       " 'balkan',\n",
       " 'beats',\n",
       " 'bigroom',\n",
       " 'black',\n",
       " 'bluegrass',\n",
       " 'blues',\n",
       " 'bollywood',\n",
       " 'bossa',\n",
       " 'brazilian',\n",
       " 'breakbeat',\n",
       " 'breaks',\n",
       " 'broadway',\n",
       " 'cantautori',\n",
       " 'cantopop',\n",
       " 'canzone',\n",
       " 'caribbean',\n",
       " 'caucasian',\n",
       " 'celtic',\n",
       " 'chamber',\n",
       " 'children',\n",
       " 'chill',\n",
       " 'chinese',\n",
       " 'choral',\n",
       " 'christian',\n",
       " 'christmas',\n",
       " 'classical',\n",
       " 'classicmetal',\n",
       " 'club',\n",
       " 'colombian',\n",
       " 'comedy',\n",
       " 'conjazz',\n",
       " 'contemporary',\n",
       " 'country',\n",
       " 'cuban',\n",
       " 'dance',\n",
       " 'dancehall',\n",
       " 'dancepop',\n",
       " 'dark',\n",
       " 'death',\n",
       " 'deep',\n",
       " 'deutschrock',\n",
       " 'deutschspr',\n",
       " 'dirty',\n",
       " 'disco',\n",
       " 'dnb',\n",
       " 'documentary',\n",
       " 'downbeat',\n",
       " 'downtempo',\n",
       " 'drum',\n",
       " 'dub',\n",
       " 'dubstep',\n",
       " 'eastern',\n",
       " 'easy',\n",
       " 'electronic',\n",
       " 'electropop',\n",
       " 'emo',\n",
       " 'entehno',\n",
       " 'epicmetal',\n",
       " 'estrada',\n",
       " 'ethnic',\n",
       " 'eurofolk',\n",
       " 'european',\n",
       " 'experimental',\n",
       " 'extrememetal',\n",
       " 'fado',\n",
       " 'film',\n",
       " 'fitness',\n",
       " 'flamenco',\n",
       " 'folk',\n",
       " 'folklore',\n",
       " 'folkmetal',\n",
       " 'folkrock',\n",
       " 'folktronica',\n",
       " 'forró',\n",
       " 'frankreich',\n",
       " 'französisch',\n",
       " 'french',\n",
       " 'funk',\n",
       " 'future',\n",
       " 'gangsta',\n",
       " 'garage',\n",
       " 'german',\n",
       " 'ghazal',\n",
       " 'gitarre',\n",
       " 'glitch',\n",
       " 'gospel',\n",
       " 'gothic',\n",
       " 'grime',\n",
       " 'grunge',\n",
       " 'gypsy',\n",
       " 'handsup',\n",
       " \"hard'n'heavy\",\n",
       " 'hardcore',\n",
       " 'hardstyle',\n",
       " 'hardtechno',\n",
       " 'hiphop',\n",
       " 'historisch',\n",
       " 'holiday',\n",
       " 'horror',\n",
       " 'house',\n",
       " 'idm',\n",
       " 'independent',\n",
       " 'indian',\n",
       " 'indie',\n",
       " 'indipop',\n",
       " 'industrial',\n",
       " 'inspirational',\n",
       " 'instrumental',\n",
       " 'international',\n",
       " 'irish',\n",
       " 'jam',\n",
       " 'japanese',\n",
       " 'jazz',\n",
       " 'jewish',\n",
       " 'jpop',\n",
       " 'jungle',\n",
       " 'k-pop',\n",
       " 'karadeniz',\n",
       " 'karaoke',\n",
       " 'kayokyoku',\n",
       " 'korean',\n",
       " 'laiko',\n",
       " 'latin',\n",
       " 'latino',\n",
       " 'leftfield',\n",
       " 'local',\n",
       " 'lounge',\n",
       " 'loungeelectronic',\n",
       " 'lovers',\n",
       " 'malaysian',\n",
       " 'mandopop',\n",
       " 'marschmusik',\n",
       " 'meditative',\n",
       " 'mediterranean',\n",
       " 'melodic',\n",
       " 'metal',\n",
       " 'metalcore',\n",
       " 'mexican',\n",
       " 'middle',\n",
       " 'minimal',\n",
       " 'miscellaneous',\n",
       " 'modern',\n",
       " 'mood',\n",
       " 'mpb',\n",
       " 'muslim',\n",
       " 'native',\n",
       " 'neoklassik',\n",
       " 'neue',\n",
       " 'new',\n",
       " 'newage',\n",
       " 'newwave',\n",
       " 'nu',\n",
       " 'nujazz',\n",
       " 'numetal',\n",
       " 'oceania',\n",
       " 'old',\n",
       " 'opera',\n",
       " 'orchestral',\n",
       " 'other',\n",
       " 'piano',\n",
       " 'pop',\n",
       " 'popelectronic',\n",
       " 'popeurodance',\n",
       " 'post',\n",
       " 'posthardcore',\n",
       " 'postrock',\n",
       " 'power',\n",
       " 'progmetal',\n",
       " 'progressive',\n",
       " 'psychedelic',\n",
       " 'punjabi',\n",
       " 'punk',\n",
       " 'quebecois',\n",
       " 'ragga',\n",
       " 'ram',\n",
       " 'rancheras',\n",
       " 'rap',\n",
       " 'rave',\n",
       " 'reggae',\n",
       " 'reggaeton',\n",
       " 'regional',\n",
       " 'relax',\n",
       " 'religious',\n",
       " 'retro',\n",
       " 'rhythm',\n",
       " 'rnb',\n",
       " 'rnr',\n",
       " 'rock',\n",
       " 'rockabilly',\n",
       " 'romance',\n",
       " 'roots',\n",
       " 'ruspop',\n",
       " 'rusrap',\n",
       " 'rusrock',\n",
       " 'salsa',\n",
       " 'samba',\n",
       " 'schlager',\n",
       " 'self',\n",
       " 'sertanejo',\n",
       " 'shoegazing',\n",
       " 'showtunes',\n",
       " 'singer',\n",
       " 'ska',\n",
       " 'slow',\n",
       " 'smooth',\n",
       " 'soul',\n",
       " 'soulful',\n",
       " 'sound',\n",
       " 'soundtrack',\n",
       " 'southern',\n",
       " 'specialty',\n",
       " 'speech',\n",
       " 'spiritual',\n",
       " 'sport',\n",
       " 'stonerrock',\n",
       " 'surf',\n",
       " 'swing',\n",
       " 'synthpop',\n",
       " 'sängerportrait',\n",
       " 'tango',\n",
       " 'tanzorchester',\n",
       " 'taraftar',\n",
       " 'tech',\n",
       " 'techno',\n",
       " 'thrash',\n",
       " 'top',\n",
       " 'traditional',\n",
       " 'tradjazz',\n",
       " 'trance',\n",
       " 'tribal',\n",
       " 'trip',\n",
       " 'triphop',\n",
       " 'tropical',\n",
       " 'türk',\n",
       " 'türkçe',\n",
       " 'unknown',\n",
       " 'urban',\n",
       " 'uzbek',\n",
       " 'variété',\n",
       " 'vi',\n",
       " 'videogame',\n",
       " 'vocal',\n",
       " 'western',\n",
       " 'world',\n",
       " 'worldbeat',\n",
       " 'ïîï']"
      ]
     },
     "execution_count": 44,
     "metadata": {},
     "output_type": "execute_result"
    }
   ],
   "source": [
    "# memeriksa duplikat implisit\n",
    "\n",
    "sart = df['genre'].unique()\n",
    "\n",
    "sorted(sart)"
   ]
  },
  {
   "cell_type": "markdown",
   "metadata": {
    "id": "jz6a9-7HQUDd"
   },
   "source": [
    "### Kesimpulan <a id='data_preprocessing_conclusions'></a>\n",
    "Kita mendeteksi tiga masalah dengan data:\n",
    "\n",
    "- Gaya penulisan judul yang salah\n",
    "- Nilai-nilai yang hilang\n",
    "- Duplikat yang jelas dan implisit\n",
    "\n",
    "Judul telah dibersihkan untuk mempermudah pemrosesan tabel.\n",
    "\n",
    "Semua nilai yang hilang telah diganti dengan `'unknown'`. Tapi kita masih harus melihat apakah nilai yang hilang dalam `'genre'` akan memengaruhi perhitungan kita.\n",
    "\n",
    "Tidak adanya duplikat akan membuat hasil lebih tepat dan lebih mudah dipahami.\n",
    "\n",
    "Sekarang kita dapat melanjutkan ke pengujian hipotesis."
   ]
  },
  {
   "cell_type": "markdown",
   "metadata": {
    "id": "eK1es74rVujj"
   },
   "source": [
    "[Kembali ke Daftar Isi](#back)"
   ]
  },
  {
   "cell_type": "markdown",
   "metadata": {
    "id": "WttZHXH0SqKk"
   },
   "source": [
    "## Tahap 3. Menguji Hipotesis <a id='hypotheses'></a>"
   ]
  },
  {
   "cell_type": "markdown",
   "metadata": {
    "id": "Im936VVi_Zcu"
   },
   "source": [
    "### Hipotesis 1: Membandingkan Perilaku Pengguna di Dua Kota <a id='activity'></a>"
   ]
  },
  {
   "cell_type": "markdown",
   "metadata": {
    "id": "nwt_MuaL_Zcu"
   },
   "source": [
    "Menurut hipotesis pertama, pengguna dari Springfield dan Shelbyville memiliki perbedaan dalam mendengarkan musik. Pengujian ini menggunakan data pada hari: Senin, Rabu, dan Jumat.\n",
    "\n",
    "* Pisahkan pengguna ke dalam kelompok berdasarkan kota.\n",
    "* Bandingkan berapa banyak lagu yang dimainkan setiap kelompok pada hari Senin, Rabu, dan Jumat."
   ]
  },
  {
   "cell_type": "code",
   "execution_count": 64,
   "metadata": {
    "id": "0_Qs96oh_Zcu",
    "scrolled": true
   },
   "outputs": [
    {
     "data": {
      "text/plain": [
       "city\n",
       "Shelbyville    18512\n",
       "Springfield    42741\n",
       "Name: user_id, dtype: int64"
      ]
     },
     "execution_count": 64,
     "metadata": {},
     "output_type": "execute_result"
    }
   ],
   "source": [
    "# Menghitung lagu yang diputar di setiap kota\n",
    "\n",
    "df.groupby('city').count()['user_id']"
   ]
  },
  {
   "cell_type": "markdown",
   "metadata": {
    "id": "dzli3w8o_Zcu"
   },
   "source": [
    "Springfield memiliki lebih banyak lagu yang dimainkan daripada Shelbyville. Namun bukan berarti warga Springfield lebih sering mendengarkan musik. Kota ini lebih besar, dan memiliki lebih banyak pengguna.\n",
    "\n",
    "Sekarang kelompokkan data menurut hari dan temukan jumlah lagu yang diputar pada hari Senin, Rabu, dan Jumat."
   ]
  },
  {
   "cell_type": "markdown",
   "metadata": {},
   "source": [
    "### Mengelompokan data menurut hari dan temukan jumlah lagu yang diputar pada hari Senin, Rabu, dan Jumat."
   ]
  },
  {
   "cell_type": "code",
   "execution_count": 46,
   "metadata": {
    "id": "uZMKjiJz_Zcu"
   },
   "outputs": [
    {
     "data": {
      "text/plain": [
       "day\n",
       "Friday       21840\n",
       "Monday       21354\n",
       "Wednesday    18059\n",
       "Name: track, dtype: int64"
      ]
     },
     "execution_count": 46,
     "metadata": {},
     "output_type": "execute_result"
    }
   ],
   "source": [
    "# Menghitung trek yang diputar pada masing-masing hari\n",
    "\n",
    "df.groupby('day').count()['track']"
   ]
  },
  {
   "cell_type": "markdown",
   "metadata": {},
   "source": [
    "### Membuat Fungsi untuk mempermudah analysis"
   ]
  },
  {
   "cell_type": "code",
   "execution_count": 47,
   "metadata": {
    "id": "Nz3GdQB1_Zcu"
   },
   "outputs": [],
   "source": [
    "\n",
    "def number_tracks (dataset, day, city):\n",
    "    track_list = dataset.loc[(dataset['day']==day) & (dataset['city']==city)]\n",
    "    track_list_count = track_list['user_id'].count()\n",
    "    return track_list_count\n"
   ]
  },
  {
   "cell_type": "code",
   "execution_count": 73,
   "metadata": {
    "id": "rJcRATNQ_Zcu"
   },
   "outputs": [
    {
     "data": {
      "text/plain": [
       "15740"
      ]
     },
     "execution_count": 73,
     "metadata": {},
     "output_type": "execute_result"
    }
   ],
   "source": [
    "# jumlah lagu yang diputar di Springfield pada hari Senin\n",
    "\n",
    "number_tracks (dataset=df, day='Monday', city='Springfield')"
   ]
  },
  {
   "cell_type": "code",
   "execution_count": 74,
   "metadata": {
    "id": "hq_ncZ5T_Zcu"
   },
   "outputs": [
    {
     "data": {
      "text/plain": [
       "5614"
      ]
     },
     "execution_count": 74,
     "metadata": {},
     "output_type": "execute_result"
    }
   ],
   "source": [
    "# jumlah lagu yang diputar di Shelbyville pada hari Senin\n",
    "\n",
    "number_tracks (dataset=df, day='Monday', city='Shelbyville')"
   ]
  },
  {
   "cell_type": "code",
   "execution_count": 75,
   "metadata": {
    "id": "_NTy2VPU_Zcu"
   },
   "outputs": [
    {
     "data": {
      "text/plain": [
       "11056"
      ]
     },
     "execution_count": 75,
     "metadata": {},
     "output_type": "execute_result"
    }
   ],
   "source": [
    "# jumlah lagu yang diputar di Springfield pada hari Rabu\n",
    "\n",
    "number_tracks (dataset=df, day='Wednesday', city='Springfield')"
   ]
  },
  {
   "cell_type": "code",
   "execution_count": 76,
   "metadata": {
    "id": "j2y3TAwo_Zcu"
   },
   "outputs": [
    {
     "data": {
      "text/plain": [
       "7003"
      ]
     },
     "execution_count": 76,
     "metadata": {},
     "output_type": "execute_result"
    }
   ],
   "source": [
    "#  jumlah lagu yang diputar di Shelbyville pada hari Rabu\n",
    "number_tracks (dataset=df, day='Wednesday', city='Shelbyville')"
   ]
  },
  {
   "cell_type": "code",
   "execution_count": 77,
   "metadata": {
    "id": "vYDw5u_K_Zcu"
   },
   "outputs": [
    {
     "data": {
      "text/plain": [
       "15945"
      ]
     },
     "execution_count": 77,
     "metadata": {},
     "output_type": "execute_result"
    }
   ],
   "source": [
    "# jumlah lagu yang diputar di Springfield pada hari Jumat\n",
    "number_tracks (dataset=df, day='Friday', city='Springfield')\n"
   ]
  },
  {
   "cell_type": "code",
   "execution_count": 78,
   "metadata": {
    "id": "8_yzFtW3_Zcu",
    "scrolled": false
   },
   "outputs": [
    {
     "data": {
      "text/plain": [
       "7003"
      ]
     },
     "execution_count": 78,
     "metadata": {},
     "output_type": "execute_result"
    }
   ],
   "source": [
    "# jumlah lagu yang diputar di Shelbyville pada hari Rabu\n",
    "number_tracks (dataset = df, day = 'Wednesday', city = 'Shelbyville')"
   ]
  },
  {
   "cell_type": "markdown",
   "metadata": {
    "id": "7QXffbO-_Zcu"
   },
   "source": [
    "Gunakan `pd.DataFrame` untuk membuat tabel, di mana\n",
    "* Nama kolom adalah: `['city', 'monday', 'wednesday', 'friday']`\n",
    "* Data adalah hasil yang Anda dapatkan dari `number_tracks()`"
   ]
  },
  {
   "cell_type": "markdown",
   "metadata": {},
   "source": [
    "### Mempermudah melihat lagu yang di putar di setiap kota "
   ]
  },
  {
   "cell_type": "code",
   "execution_count": 53,
   "metadata": {
    "id": "APAcLpOr_Zcu"
   },
   "outputs": [
    {
     "data": {
      "text/html": [
       "<div>\n",
       "<style scoped>\n",
       "    .dataframe tbody tr th:only-of-type {\n",
       "        vertical-align: middle;\n",
       "    }\n",
       "\n",
       "    .dataframe tbody tr th {\n",
       "        vertical-align: top;\n",
       "    }\n",
       "\n",
       "    .dataframe thead th {\n",
       "        text-align: right;\n",
       "    }\n",
       "</style>\n",
       "<table border=\"1\" class=\"dataframe\">\n",
       "  <thead>\n",
       "    <tr style=\"text-align: right;\">\n",
       "      <th></th>\n",
       "      <th>city</th>\n",
       "      <th>monday</th>\n",
       "      <th>wednesday</th>\n",
       "      <th>friday</th>\n",
       "    </tr>\n",
       "  </thead>\n",
       "  <tbody>\n",
       "    <tr>\n",
       "      <th>0</th>\n",
       "      <td>Springfield</td>\n",
       "      <td>15740</td>\n",
       "      <td>11056</td>\n",
       "      <td>15945</td>\n",
       "    </tr>\n",
       "    <tr>\n",
       "      <th>1</th>\n",
       "      <td>Shelbyville</td>\n",
       "      <td>5614</td>\n",
       "      <td>7003</td>\n",
       "      <td>5895</td>\n",
       "    </tr>\n",
       "  </tbody>\n",
       "</table>\n",
       "</div>"
      ],
      "text/plain": [
       "          city  monday  wednesday  friday\n",
       "0  Springfield   15740      11056   15945\n",
       "1  Shelbyville    5614       7003    5895"
      ]
     },
     "execution_count": 53,
     "metadata": {},
     "output_type": "execute_result"
    }
   ],
   "source": [
    "# tabel dengan hasil\n",
    "\n",
    "\n",
    "music = [\n",
    "    ['Springfield', 15740, 11056, 15945],\n",
    "    ['Shelbyville', 5614, 7003, 5895],\n",
    "]\n",
    "\n",
    "entries = ['city', 'monday', 'wednesday', 'friday']\n",
    "\n",
    "table_first_hypothesis = pd.DataFrame(data=music, columns=entries)\n",
    "table_first_hypothesis\n",
    "     "
   ]
  },
  {
   "cell_type": "code",
   "execution_count": 55,
   "metadata": {},
   "outputs": [
    {
     "data": {
      "text/plain": [
       "day\n",
       "Friday       21840\n",
       "Monday       21354\n",
       "Wednesday    18059\n",
       "Name: track, dtype: int64"
      ]
     },
     "execution_count": 55,
     "metadata": {},
     "output_type": "execute_result"
    }
   ],
   "source": [
    "# Lagu yang di putar per hari secara keseluruhan\n",
    "df.groupby('day').count()['track']"
   ]
  },
  {
   "cell_type": "markdown",
   "metadata": {
    "id": "-EgPIHYu_Zcu"
   },
   "source": [
    "**Kesimpulan**\n",
    "\n",
    "Data mengungkapkan perbedaan perilaku pengguna:\n",
    "\n",
    "- Pada Springfield, jumlah lagu yang diputar mencapai puncaknya pada hari Senin dan Jumat, sedangkan pada hari Rabu terjadi penurunan aktivitas.\n",
    "- Di Shelbyville, sebaliknya, pengguna lebih banyak mendengarkan musik pada hari Rabu.\n",
    "\n",
    "Aktivitas pengguna pada hari Senin dan Jumat lebih sedikit."
   ]
  },
  {
   "cell_type": "markdown",
   "metadata": {
    "id": "atZAxtq4_Zcu"
   },
   "source": [
    "### Hipotesis 2: Musik di Awal dan Akhir Minggu <a id='week'></a>"
   ]
  },
  {
   "cell_type": "markdown",
   "metadata": {
    "id": "eXrQqXFH_Zcu"
   },
   "source": [
    "Menurut hipotesis kedua, pada Senin pagi dan Jumat malam, warga Springfield mendengarkan genre yang berbeda dari yang dinikmati warga Shelbyville."
   ]
  },
  {
   "cell_type": "code",
   "execution_count": 56,
   "metadata": {
    "id": "qeaFfM_P_Zcu"
   },
   "outputs": [
    {
     "data": {
      "text/html": [
       "<div>\n",
       "<style scoped>\n",
       "    .dataframe tbody tr th:only-of-type {\n",
       "        vertical-align: middle;\n",
       "    }\n",
       "\n",
       "    .dataframe tbody tr th {\n",
       "        vertical-align: top;\n",
       "    }\n",
       "\n",
       "    .dataframe thead th {\n",
       "        text-align: right;\n",
       "    }\n",
       "</style>\n",
       "<table border=\"1\" class=\"dataframe\">\n",
       "  <thead>\n",
       "    <tr style=\"text-align: right;\">\n",
       "      <th></th>\n",
       "      <th>user_id</th>\n",
       "      <th>track</th>\n",
       "      <th>artist</th>\n",
       "      <th>genre</th>\n",
       "      <th>city</th>\n",
       "      <th>time</th>\n",
       "      <th>day</th>\n",
       "    </tr>\n",
       "  </thead>\n",
       "  <tbody>\n",
       "    <tr>\n",
       "      <th>1</th>\n",
       "      <td>55204538</td>\n",
       "      <td>Delayed Because of Accident</td>\n",
       "      <td>Andreas Rönnberg</td>\n",
       "      <td>rock</td>\n",
       "      <td>Springfield</td>\n",
       "      <td>14:07:09</td>\n",
       "      <td>Friday</td>\n",
       "    </tr>\n",
       "    <tr>\n",
       "      <th>4</th>\n",
       "      <td>E2DC1FAE</td>\n",
       "      <td>Soul People</td>\n",
       "      <td>Space Echo</td>\n",
       "      <td>dance</td>\n",
       "      <td>Springfield</td>\n",
       "      <td>08:34:34</td>\n",
       "      <td>Monday</td>\n",
       "    </tr>\n",
       "    <tr>\n",
       "      <th>6</th>\n",
       "      <td>4CB90AA5</td>\n",
       "      <td>True</td>\n",
       "      <td>Roman Messer</td>\n",
       "      <td>dance</td>\n",
       "      <td>Springfield</td>\n",
       "      <td>13:00:07</td>\n",
       "      <td>Wednesday</td>\n",
       "    </tr>\n",
       "    <tr>\n",
       "      <th>7</th>\n",
       "      <td>F03E1C1F</td>\n",
       "      <td>Feeling This Way</td>\n",
       "      <td>Polina Griffith</td>\n",
       "      <td>dance</td>\n",
       "      <td>Springfield</td>\n",
       "      <td>20:47:49</td>\n",
       "      <td>Wednesday</td>\n",
       "    </tr>\n",
       "    <tr>\n",
       "      <th>8</th>\n",
       "      <td>8FA1D3BE</td>\n",
       "      <td>L’estate</td>\n",
       "      <td>Julia Dalia</td>\n",
       "      <td>ruspop</td>\n",
       "      <td>Springfield</td>\n",
       "      <td>09:17:40</td>\n",
       "      <td>Friday</td>\n",
       "    </tr>\n",
       "    <tr>\n",
       "      <th>...</th>\n",
       "      <td>...</td>\n",
       "      <td>...</td>\n",
       "      <td>...</td>\n",
       "      <td>...</td>\n",
       "      <td>...</td>\n",
       "      <td>...</td>\n",
       "      <td>...</td>\n",
       "    </tr>\n",
       "    <tr>\n",
       "      <th>61247</th>\n",
       "      <td>83A474E7</td>\n",
       "      <td>I Worship Only What You Bleed</td>\n",
       "      <td>The Black Dahlia Murder</td>\n",
       "      <td>extrememetal</td>\n",
       "      <td>Springfield</td>\n",
       "      <td>21:07:12</td>\n",
       "      <td>Monday</td>\n",
       "    </tr>\n",
       "    <tr>\n",
       "      <th>61248</th>\n",
       "      <td>729CBB09</td>\n",
       "      <td>My Name</td>\n",
       "      <td>McLean</td>\n",
       "      <td>rnb</td>\n",
       "      <td>Springfield</td>\n",
       "      <td>13:32:28</td>\n",
       "      <td>Wednesday</td>\n",
       "    </tr>\n",
       "    <tr>\n",
       "      <th>61250</th>\n",
       "      <td>C5E3A0D5</td>\n",
       "      <td>Jalopiina</td>\n",
       "      <td>unknown</td>\n",
       "      <td>industrial</td>\n",
       "      <td>Springfield</td>\n",
       "      <td>20:09:26</td>\n",
       "      <td>Friday</td>\n",
       "    </tr>\n",
       "    <tr>\n",
       "      <th>61251</th>\n",
       "      <td>321D0506</td>\n",
       "      <td>Freight Train</td>\n",
       "      <td>Chas McDevitt</td>\n",
       "      <td>rock</td>\n",
       "      <td>Springfield</td>\n",
       "      <td>21:43:59</td>\n",
       "      <td>Friday</td>\n",
       "    </tr>\n",
       "    <tr>\n",
       "      <th>61252</th>\n",
       "      <td>3A64EF84</td>\n",
       "      <td>Tell Me Sweet Little Lies</td>\n",
       "      <td>Monica Lopez</td>\n",
       "      <td>country</td>\n",
       "      <td>Springfield</td>\n",
       "      <td>21:59:46</td>\n",
       "      <td>Friday</td>\n",
       "    </tr>\n",
       "  </tbody>\n",
       "</table>\n",
       "<p>42741 rows × 7 columns</p>\n",
       "</div>"
      ],
      "text/plain": [
       "        user_id                          track                   artist  \\\n",
       "1      55204538    Delayed Because of Accident         Andreas Rönnberg   \n",
       "4      E2DC1FAE                    Soul People               Space Echo   \n",
       "6      4CB90AA5                           True             Roman Messer   \n",
       "7      F03E1C1F               Feeling This Way          Polina Griffith   \n",
       "8      8FA1D3BE                       L’estate              Julia Dalia   \n",
       "...         ...                            ...                      ...   \n",
       "61247  83A474E7  I Worship Only What You Bleed  The Black Dahlia Murder   \n",
       "61248  729CBB09                        My Name                   McLean   \n",
       "61250  C5E3A0D5                      Jalopiina                  unknown   \n",
       "61251  321D0506                  Freight Train            Chas McDevitt   \n",
       "61252  3A64EF84      Tell Me Sweet Little Lies             Monica Lopez   \n",
       "\n",
       "              genre         city      time        day  \n",
       "1              rock  Springfield  14:07:09     Friday  \n",
       "4             dance  Springfield  08:34:34     Monday  \n",
       "6             dance  Springfield  13:00:07  Wednesday  \n",
       "7             dance  Springfield  20:47:49  Wednesday  \n",
       "8            ruspop  Springfield  09:17:40     Friday  \n",
       "...             ...          ...       ...        ...  \n",
       "61247  extrememetal  Springfield  21:07:12     Monday  \n",
       "61248           rnb  Springfield  13:32:28  Wednesday  \n",
       "61250    industrial  Springfield  20:09:26     Friday  \n",
       "61251          rock  Springfield  21:43:59     Friday  \n",
       "61252       country  Springfield  21:59:46     Friday  \n",
       "\n",
       "[42741 rows x 7 columns]"
      ]
     },
     "execution_count": 56,
     "metadata": {},
     "output_type": "execute_result"
    }
   ],
   "source": [
    "# mendapatkan tabel spr_general dari baris df,\n",
    "# dimana nilai dari kolom 'city' adalah 'Springfield'\n",
    "spr_general = df.loc[(df['city'])=='Springfield']\n",
    "spr_general\n"
   ]
  },
  {
   "cell_type": "code",
   "execution_count": 57,
   "metadata": {
    "id": "ORaVRKto_Zcu"
   },
   "outputs": [
    {
     "data": {
      "text/html": [
       "<div>\n",
       "<style scoped>\n",
       "    .dataframe tbody tr th:only-of-type {\n",
       "        vertical-align: middle;\n",
       "    }\n",
       "\n",
       "    .dataframe tbody tr th {\n",
       "        vertical-align: top;\n",
       "    }\n",
       "\n",
       "    .dataframe thead th {\n",
       "        text-align: right;\n",
       "    }\n",
       "</style>\n",
       "<table border=\"1\" class=\"dataframe\">\n",
       "  <thead>\n",
       "    <tr style=\"text-align: right;\">\n",
       "      <th></th>\n",
       "      <th>user_id</th>\n",
       "      <th>track</th>\n",
       "      <th>artist</th>\n",
       "      <th>genre</th>\n",
       "      <th>city</th>\n",
       "      <th>time</th>\n",
       "      <th>day</th>\n",
       "    </tr>\n",
       "  </thead>\n",
       "  <tbody>\n",
       "    <tr>\n",
       "      <th>0</th>\n",
       "      <td>FFB692EC</td>\n",
       "      <td>Kamigata To Boots</td>\n",
       "      <td>The Mass Missile</td>\n",
       "      <td>rock</td>\n",
       "      <td>Shelbyville</td>\n",
       "      <td>20:28:33</td>\n",
       "      <td>Wednesday</td>\n",
       "    </tr>\n",
       "    <tr>\n",
       "      <th>2</th>\n",
       "      <td>20EC38</td>\n",
       "      <td>Funiculì funiculà</td>\n",
       "      <td>Mario Lanza</td>\n",
       "      <td>pop</td>\n",
       "      <td>Shelbyville</td>\n",
       "      <td>20:58:07</td>\n",
       "      <td>Wednesday</td>\n",
       "    </tr>\n",
       "    <tr>\n",
       "      <th>3</th>\n",
       "      <td>A3DD03C9</td>\n",
       "      <td>Dragons in the Sunset</td>\n",
       "      <td>Fire + Ice</td>\n",
       "      <td>folk</td>\n",
       "      <td>Shelbyville</td>\n",
       "      <td>08:37:09</td>\n",
       "      <td>Monday</td>\n",
       "    </tr>\n",
       "    <tr>\n",
       "      <th>5</th>\n",
       "      <td>842029A1</td>\n",
       "      <td>Chains</td>\n",
       "      <td>Obladaet</td>\n",
       "      <td>rusrap</td>\n",
       "      <td>Shelbyville</td>\n",
       "      <td>13:09:41</td>\n",
       "      <td>Friday</td>\n",
       "    </tr>\n",
       "    <tr>\n",
       "      <th>9</th>\n",
       "      <td>E772D5C0</td>\n",
       "      <td>Pessimist</td>\n",
       "      <td>unknown</td>\n",
       "      <td>dance</td>\n",
       "      <td>Shelbyville</td>\n",
       "      <td>21:20:49</td>\n",
       "      <td>Wednesday</td>\n",
       "    </tr>\n",
       "    <tr>\n",
       "      <th>...</th>\n",
       "      <td>...</td>\n",
       "      <td>...</td>\n",
       "      <td>...</td>\n",
       "      <td>...</td>\n",
       "      <td>...</td>\n",
       "      <td>...</td>\n",
       "      <td>...</td>\n",
       "    </tr>\n",
       "    <tr>\n",
       "      <th>61239</th>\n",
       "      <td>D94F810B</td>\n",
       "      <td>Theme from the Walking Dead</td>\n",
       "      <td>Proyecto Halloween</td>\n",
       "      <td>film</td>\n",
       "      <td>Shelbyville</td>\n",
       "      <td>21:14:40</td>\n",
       "      <td>Monday</td>\n",
       "    </tr>\n",
       "    <tr>\n",
       "      <th>61240</th>\n",
       "      <td>BC8EC5CF</td>\n",
       "      <td>Red Lips: Gta (Rover Rework)</td>\n",
       "      <td>Rover</td>\n",
       "      <td>electronic</td>\n",
       "      <td>Shelbyville</td>\n",
       "      <td>21:06:50</td>\n",
       "      <td>Monday</td>\n",
       "    </tr>\n",
       "    <tr>\n",
       "      <th>61241</th>\n",
       "      <td>29E04611</td>\n",
       "      <td>Bre Petrunko</td>\n",
       "      <td>Perunika Trio</td>\n",
       "      <td>world</td>\n",
       "      <td>Shelbyville</td>\n",
       "      <td>13:56:00</td>\n",
       "      <td>Monday</td>\n",
       "    </tr>\n",
       "    <tr>\n",
       "      <th>61242</th>\n",
       "      <td>1B91C621</td>\n",
       "      <td>(Hello) Cloud Mountain</td>\n",
       "      <td>sleepmakeswaves</td>\n",
       "      <td>postrock</td>\n",
       "      <td>Shelbyville</td>\n",
       "      <td>09:22:13</td>\n",
       "      <td>Monday</td>\n",
       "    </tr>\n",
       "    <tr>\n",
       "      <th>61249</th>\n",
       "      <td>D08D4A55</td>\n",
       "      <td>Maybe One Day (feat. Black Spade)</td>\n",
       "      <td>Blu &amp; Exile</td>\n",
       "      <td>hiphop</td>\n",
       "      <td>Shelbyville</td>\n",
       "      <td>10:00:00</td>\n",
       "      <td>Monday</td>\n",
       "    </tr>\n",
       "  </tbody>\n",
       "</table>\n",
       "<p>18512 rows × 7 columns</p>\n",
       "</div>"
      ],
      "text/plain": [
       "        user_id                              track              artist  \\\n",
       "0      FFB692EC                  Kamigata To Boots    The Mass Missile   \n",
       "2        20EC38                  Funiculì funiculà         Mario Lanza   \n",
       "3      A3DD03C9              Dragons in the Sunset          Fire + Ice   \n",
       "5      842029A1                             Chains            Obladaet   \n",
       "9      E772D5C0                          Pessimist             unknown   \n",
       "...         ...                                ...                 ...   \n",
       "61239  D94F810B        Theme from the Walking Dead  Proyecto Halloween   \n",
       "61240  BC8EC5CF       Red Lips: Gta (Rover Rework)               Rover   \n",
       "61241  29E04611                       Bre Petrunko       Perunika Trio   \n",
       "61242  1B91C621             (Hello) Cloud Mountain     sleepmakeswaves   \n",
       "61249  D08D4A55  Maybe One Day (feat. Black Spade)         Blu & Exile   \n",
       "\n",
       "            genre         city      time        day  \n",
       "0            rock  Shelbyville  20:28:33  Wednesday  \n",
       "2             pop  Shelbyville  20:58:07  Wednesday  \n",
       "3            folk  Shelbyville  08:37:09     Monday  \n",
       "5          rusrap  Shelbyville  13:09:41     Friday  \n",
       "9           dance  Shelbyville  21:20:49  Wednesday  \n",
       "...           ...          ...       ...        ...  \n",
       "61239        film  Shelbyville  21:14:40     Monday  \n",
       "61240  electronic  Shelbyville  21:06:50     Monday  \n",
       "61241       world  Shelbyville  13:56:00     Monday  \n",
       "61242    postrock  Shelbyville  09:22:13     Monday  \n",
       "61249      hiphop  Shelbyville  10:00:00     Monday  \n",
       "\n",
       "[18512 rows x 7 columns]"
      ]
     },
     "execution_count": 57,
     "metadata": {},
     "output_type": "execute_result"
    }
   ],
   "source": [
    "# mendapatkan shel_general dari baris df,\n",
    "# dimana nilai dari kolom 'city' adalah 'Shelbyville'\n",
    "shel_general = df.loc[(df['city'])=='Shelbyville']\n",
    "shel_general\n"
   ]
  },
  {
   "cell_type": "markdown",
   "metadata": {},
   "source": [
    "### Membuat hipotesis dengan mendapatkan informasi mengenai genre yang paling populer perharinya`"
   ]
  },
  {
   "cell_type": "code",
   "execution_count": 58,
   "metadata": {
    "id": "laJT9BYl_Zcu"
   },
   "outputs": [],
   "source": [
    "\n",
    "def genre_weekday(dfset, day, time1, time2):\n",
    "    genre_df = dfset.loc[(dfset['day']==day) & (dfset['time']>=time1) & (dfset['time']<=time2)]\n",
    "    genre_df_count = genre_df.groupby('genre').count()\n",
    "    genre_df_sorted = genre_df_count.sort_values(by='user_id', ascending=False)['user_id']\n",
    "    return genre_df_sorted[:15]\n",
    "\n",
    "    \n"
   ]
  },
  {
   "cell_type": "markdown",
   "metadata": {
    "id": "la2s2_PF_Zcu"
   },
   "source": [
    "Bandingkan hasil fungsi `genre_weekday()` untuk Springfield dan Shelbyville pada Senin pagi (dari pukul 07.00 hingga 11.00) dan pada Jumat malam (dari pukul 17:00 hingga 23:00):"
   ]
  },
  {
   "cell_type": "code",
   "execution_count": 59,
   "metadata": {
    "id": "yz7itPUQ_Zcu"
   },
   "outputs": [
    {
     "data": {
      "text/plain": [
       "genre\n",
       "pop            713\n",
       "rock           517\n",
       "dance          495\n",
       "electronic     482\n",
       "hiphop         273\n",
       "world          208\n",
       "ruspop         170\n",
       "classical      163\n",
       "alternative    163\n",
       "rusrap         142\n",
       "jazz           111\n",
       "unknown        110\n",
       "soundtrack     105\n",
       "rnb             90\n",
       "metal           88\n",
       "Name: user_id, dtype: int64"
      ]
     },
     "execution_count": 59,
     "metadata": {},
     "output_type": "execute_result"
    }
   ],
   "source": [
    "# memanggil fungsi untuk Senin pagi di Springfield (gunakan spr_general alih-alih tabel df)\n",
    "\n",
    "genre_weekday(spr_general, 'Friday', '17:00', '23:00')\n"
   ]
  },
  {
   "cell_type": "code",
   "execution_count": 60,
   "metadata": {
    "id": "kwUcHPdy_Zcu"
   },
   "outputs": [
    {
     "data": {
      "text/plain": [
       "genre\n",
       "pop            218\n",
       "dance          182\n",
       "rock           162\n",
       "electronic     147\n",
       "hiphop          80\n",
       "ruspop          64\n",
       "alternative     58\n",
       "rusrap          55\n",
       "jazz            44\n",
       "classical       40\n",
       "world           36\n",
       "rap             32\n",
       "soundtrack      31\n",
       "rnb             27\n",
       "metal           27\n",
       "Name: user_id, dtype: int64"
      ]
     },
     "execution_count": 60,
     "metadata": {},
     "output_type": "execute_result"
    }
   ],
   "source": [
    "# memanggil fungsi untuk Senin pagi di Shelbyville (gunakan shel_general alih-alih tabel df)\n",
    "genre_weekday(shel_general, 'Monday', '07:00', '11:00')\n"
   ]
  },
  {
   "cell_type": "code",
   "execution_count": 61,
   "metadata": {
    "id": "EzXVRE1o_Zcu"
   },
   "outputs": [
    {
     "data": {
      "text/plain": [
       "genre\n",
       "pop            713\n",
       "rock           517\n",
       "dance          495\n",
       "electronic     482\n",
       "hiphop         273\n",
       "world          208\n",
       "ruspop         170\n",
       "classical      163\n",
       "alternative    163\n",
       "rusrap         142\n",
       "jazz           111\n",
       "unknown        110\n",
       "soundtrack     105\n",
       "rnb             90\n",
       "metal           88\n",
       "Name: user_id, dtype: int64"
      ]
     },
     "execution_count": 61,
     "metadata": {},
     "output_type": "execute_result"
    }
   ],
   "source": [
    "# memanggil fungsi untuk Jumat malam di Springfield\n",
    "genre_weekday(spr_general, 'Friday', '17:00', '23:00')\n",
    "\n"
   ]
  },
  {
   "cell_type": "code",
   "execution_count": 62,
   "metadata": {
    "id": "JZaEKu5v_Zcu",
    "scrolled": true
   },
   "outputs": [
    {
     "data": {
      "text/plain": [
       "genre\n",
       "pop            713\n",
       "rock           517\n",
       "dance          495\n",
       "electronic     482\n",
       "hiphop         273\n",
       "world          208\n",
       "ruspop         170\n",
       "classical      163\n",
       "alternative    163\n",
       "rusrap         142\n",
       "jazz           111\n",
       "unknown        110\n",
       "soundtrack     105\n",
       "rnb             90\n",
       "metal           88\n",
       "Name: user_id, dtype: int64"
      ]
     },
     "execution_count": 62,
     "metadata": {},
     "output_type": "execute_result"
    }
   ],
   "source": [
    "# memanggil fungsi untuk Jumat malam di Shelbyville\n",
    "genre_weekday(spr_general, 'Friday', '17:00', '23:00')\n"
   ]
  },
  {
   "cell_type": "markdown",
   "metadata": {
    "id": "jLmXgdanVyhP"
   },
   "source": [
    "[Kembali ke Daftar Isi](#back)"
   ]
  },
  {
   "cell_type": "markdown",
   "metadata": {
    "id": "JolODAqr_Zcu"
   },
   "source": [
    "### Hipotesis 3: Preferensi Genre di Springfield dan Shelbyville <a id='genre'></a>\n",
    "\n",
    "Hipotesis: Shelbyville menyukai musik rap. Warga Springfield lebih menyukai pop."
   ]
  },
  {
   "cell_type": "code",
   "execution_count": 63,
   "metadata": {
    "id": "r19lIPke_Zcu"
   },
   "outputs": [],
   "source": [
    "# pada satu baris: kelompokkan tabel spr_general berdasarkan kolom 'genre',\n",
    "# hitung nilai 'genre' dengan count() dalam pengelompokan,\n",
    "# urutkan Series yang dihasilkan dalam urutan menurun, lalu simpan ke spr_genres\n",
    "\n",
    "spr_genres = spr_general.groupby('genre')['genre'].count().sort_values(ascending = False)"
   ]
  },
  {
   "cell_type": "markdown",
   "metadata": {
    "id": "6kMuomxTiIr8"
   },
   "source": [
    "Tampilkan 10 baris pertama dari `spr_genres`:"
   ]
  },
  {
   "cell_type": "code",
   "execution_count": 64,
   "metadata": {
    "id": "WhCSooF8_Zcv"
   },
   "outputs": [
    {
     "data": {
      "text/plain": [
       "genre\n",
       "pop            5892\n",
       "dance          4435\n",
       "rock           3965\n",
       "electronic     3786\n",
       "hiphop         2096\n",
       "classical      1616\n",
       "world          1432\n",
       "alternative    1379\n",
       "ruspop         1372\n",
       "rusrap         1161\n",
       "Name: genre, dtype: int64"
      ]
     },
     "execution_count": 64,
     "metadata": {},
     "output_type": "execute_result"
    }
   ],
   "source": [
    "# menampilkan 10 baris pertama dari spr_genres\n",
    "spr_genres.head(10)"
   ]
  },
  {
   "cell_type": "markdown",
   "metadata": {
    "id": "cnPG2vnN_Zcv"
   },
   "source": [
    "Sekarang lakukan hal yang sama pada data di Shelbyville.\n",
    "\n",
    "Kelompokkan tabel `shel_general` berdasarkan genre dan temukan jumlah lagu yang dimainkan untuk setiap genre. Kemudian urutkan hasilnya dalam urutan menurun dan simpan ke tabel `shel_genres`:"
   ]
  },
  {
   "cell_type": "code",
   "execution_count": 65,
   "metadata": {
    "id": "gluLIpE7_Zcv"
   },
   "outputs": [],
   "source": [
    "# pada satu baris: kelompokkan tabel shel_general menurut kolom 'genre',\n",
    "# hitung nilai 'genre' dalam pengelompokan menggunakan count(),\n",
    "# urutkan Series yang dihasilkan dalam urutan menurun dan simpan ke shel_genres\n",
    "\n",
    "shel_genres = shel_general.groupby('genre')['user_id'].count().sort_values(ascending = False)"
   ]
  },
  {
   "cell_type": "markdown",
   "metadata": {
    "id": "5Doha_ODgyQ8"
   },
   "source": [
    "Tampilkan 10 baris pertama dari `shel_genres`:"
   ]
  },
  {
   "cell_type": "code",
   "execution_count": 66,
   "metadata": {
    "id": "uaGJHjVU_Zcv"
   },
   "outputs": [
    {
     "data": {
      "text/plain": [
       "genre\n",
       "pop            2431\n",
       "dance          1932\n",
       "rock           1879\n",
       "electronic     1736\n",
       "hiphop          960\n",
       "alternative     649\n",
       "classical       646\n",
       "rusrap          564\n",
       "ruspop          538\n",
       "world           515\n",
       "Name: user_id, dtype: int64"
      ]
     },
     "execution_count": 66,
     "metadata": {},
     "output_type": "execute_result"
    }
   ],
   "source": [
    "# menampilkan 10 baris pertama dari shel_genres\n",
    "shel_genres.head(10)"
   ]
  },
  {
   "cell_type": "markdown",
   "metadata": {
    "id": "Byr0RfpPVz14"
   },
   "source": [
    "[Kembali ke Daftar Isi](#back)"
   ]
  },
  {
   "cell_type": "markdown",
   "metadata": {
    "id": "ykKQ0N65_Zcv"
   },
   "source": [
    "# Temuan <a id='end'></a>"
   ]
  },
  {
   "cell_type": "markdown",
   "metadata": {
    "id": "tjUwbHb3_Zcv"
   },
   "source": [
    "Kita telah menguji tiga hipotesis berikut:\n",
    "\n",
    "1. Aktivitas pengguna berbeda-beda tergantung pada hari dan kotanya.\n",
    "2. Pada senin pagi, penduduk Springfield dan Shelbyville mendengarkan genre yang berbeda. Hal ini juga ini juga berlaku untuk Jumat malam.\n",
    "3. Pendengar di Springfield dan Shelbyville memiliki preferensi yang berbeda. Baik Springfield maupun di Shelbyville, mereka lebih suka musik pop.\n",
    "\n",
    "Setelah menganalisis data, kita dapat menyimpulkan:\n",
    "\n",
    "1. Aktivitas pengguna di Springfield dan Shelbyville bergantung pada harinya, walaupun kotanya berbeda.\n",
    "\n",
    "Hipotesis pertama dapat diterima sepenuhnya.\n",
    "\n",
    "2. Preferensi musik tidak terlalu berbeda selama seminggu di Springfield dan Shelbyville. Kita dapat melihat perbedaan kecil dalam urutan pada hari Senin, tetapi:\n",
    "* Baik di Springfield maupun di Shelbyville, orang paling banyak mendengarkan musik pop.\n",
    "\n",
    "Jadi hipotesis ini tidak dapat kita terima. Kita juga harus ingat bahwa hasilnya bisa berbeda jika bukan karena nilai yang hilang.\n",
    "\n",
    "3. Ternyata preferensi musik pengguna dari Springfield dan Shelbyville sangat mirip.\n",
    "\n",
    "Hipotesis ketiga ditolak. Jika ada perbedaan preferensi, tidak dapat dilihat dari data ini.\n",
    "\n",
    "### Catatan\n",
    "Dalam proyek sesungguhnya, penelitian melibatkan pengujian hipotesis statistik, yang lebih tepat dan lebih kuantitatif. Perhatikan juga bahwa Anda tidak dapat selalu menarik kesimpulan tentang seluruh kota berdasarkan data dari satu sumber saja.\n",
    "\n",
    "Anda akan mempelajari pengujian hipotesis dalam sprint analisis data statistik."
   ]
  },
  {
   "cell_type": "markdown",
   "metadata": {
    "id": "Ju4AHDSgV1FE"
   },
   "source": [
    "[Kembali ke Daftar Isi](#back)"
   ]
  }
 ],
 "metadata": {
  "ExecuteTimeLog": [
   {
    "duration": 61,
    "start_time": "2022-08-07T14:42:25.033Z"
   },
   {
    "duration": 346,
    "start_time": "2022-08-07T14:49:06.367Z"
   },
   {
    "duration": 68,
    "start_time": "2022-08-07T14:52:50.184Z"
   },
   {
    "duration": 2,
    "start_time": "2022-08-07T14:53:25.908Z"
   },
   {
    "duration": 2,
    "start_time": "2022-08-07T14:53:29.710Z"
   },
   {
    "duration": 282,
    "start_time": "2022-08-07T14:54:11.023Z"
   },
   {
    "duration": 156,
    "start_time": "2022-08-07T15:27:50.451Z"
   },
   {
    "duration": 3,
    "start_time": "2022-08-07T15:28:27.841Z"
   },
   {
    "duration": 151,
    "start_time": "2022-08-07T15:28:33.258Z"
   },
   {
    "duration": 6,
    "start_time": "2022-08-07T15:30:59.168Z"
   },
   {
    "duration": 4,
    "start_time": "2022-08-07T15:35:41.136Z"
   },
   {
    "duration": 10,
    "start_time": "2022-08-07T15:37:57.315Z"
   },
   {
    "duration": 41,
    "start_time": "2022-08-07T15:39:58.765Z"
   },
   {
    "duration": 8,
    "start_time": "2022-08-07T15:40:07.255Z"
   },
   {
    "duration": 8,
    "start_time": "2022-08-07T15:40:48.972Z"
   },
   {
    "duration": 42,
    "start_time": "2022-08-07T15:41:03.407Z"
   },
   {
    "duration": 8,
    "start_time": "2022-08-07T15:41:11.763Z"
   },
   {
    "duration": 8,
    "start_time": "2022-08-07T15:41:36.968Z"
   },
   {
    "duration": 13,
    "start_time": "2022-08-07T15:46:43.611Z"
   },
   {
    "duration": 6,
    "start_time": "2022-08-07T15:46:57.981Z"
   },
   {
    "duration": 7,
    "start_time": "2022-08-07T15:48:21.931Z"
   },
   {
    "duration": 44,
    "start_time": "2022-08-08T05:37:24.139Z"
   },
   {
    "duration": 6,
    "start_time": "2022-08-08T05:38:06.270Z"
   },
   {
    "duration": 733,
    "start_time": "2022-08-08T05:38:52.113Z"
   },
   {
    "duration": 172,
    "start_time": "2022-08-08T05:39:08.794Z"
   },
   {
    "duration": 9,
    "start_time": "2022-08-08T05:39:25.853Z"
   },
   {
    "duration": 3,
    "start_time": "2022-08-08T05:39:40.758Z"
   },
   {
    "duration": 72,
    "start_time": "2022-08-08T06:28:30.105Z"
   },
   {
    "duration": 85,
    "start_time": "2022-08-08T06:28:47.705Z"
   },
   {
    "duration": 55,
    "start_time": "2022-08-08T06:29:15.545Z"
   },
   {
    "duration": 60,
    "start_time": "2022-08-08T06:29:25.805Z"
   },
   {
    "duration": 62,
    "start_time": "2022-08-08T06:30:26.567Z"
   },
   {
    "duration": 46,
    "start_time": "2022-08-08T06:30:41.055Z"
   },
   {
    "duration": 74,
    "start_time": "2022-08-08T06:30:51.905Z"
   },
   {
    "duration": 7,
    "start_time": "2022-08-08T06:31:13.878Z"
   },
   {
    "duration": 7,
    "start_time": "2022-08-08T06:31:26.768Z"
   },
   {
    "duration": 8,
    "start_time": "2022-08-08T06:32:32.946Z"
   },
   {
    "duration": 8,
    "start_time": "2022-08-08T06:33:25.744Z"
   },
   {
    "duration": 12,
    "start_time": "2022-08-08T06:33:45.669Z"
   },
   {
    "duration": 9,
    "start_time": "2022-08-08T06:34:21.064Z"
   },
   {
    "duration": 11,
    "start_time": "2022-08-08T06:34:36.398Z"
   },
   {
    "duration": 9,
    "start_time": "2022-08-08T06:34:47.528Z"
   },
   {
    "duration": 8,
    "start_time": "2022-08-08T06:35:03.255Z"
   },
   {
    "duration": 8,
    "start_time": "2022-08-08T06:36:35.216Z"
   },
   {
    "duration": 8,
    "start_time": "2022-08-08T06:37:05.636Z"
   },
   {
    "duration": 8,
    "start_time": "2022-08-08T06:37:33.351Z"
   },
   {
    "duration": 8,
    "start_time": "2022-08-08T06:38:27.574Z"
   },
   {
    "duration": 8,
    "start_time": "2022-08-08T06:39:40.308Z"
   },
   {
    "duration": 8,
    "start_time": "2022-08-08T06:41:05.764Z"
   },
   {
    "duration": 7,
    "start_time": "2022-08-08T06:43:39.121Z"
   },
   {
    "duration": 5,
    "start_time": "2022-08-08T06:43:44.370Z"
   },
   {
    "duration": 48,
    "start_time": "2022-08-08T06:51:21.795Z"
   },
   {
    "duration": 49,
    "start_time": "2022-08-08T06:51:30.436Z"
   },
   {
    "duration": 48,
    "start_time": "2022-08-08T06:52:03.211Z"
   },
   {
    "duration": 9,
    "start_time": "2022-08-08T06:52:59.774Z"
   },
   {
    "duration": 9,
    "start_time": "2022-08-08T06:54:33.674Z"
   },
   {
    "duration": 22,
    "start_time": "2022-08-08T06:59:16.213Z"
   },
   {
    "duration": 20,
    "start_time": "2022-08-08T07:42:08.314Z"
   },
   {
    "duration": 11,
    "start_time": "2022-08-08T07:47:35.548Z"
   },
   {
    "duration": 7,
    "start_time": "2022-08-08T07:50:42.613Z"
   },
   {
    "duration": 7,
    "start_time": "2022-08-08T07:51:15.522Z"
   },
   {
    "duration": 9,
    "start_time": "2022-08-08T07:51:39.627Z"
   },
   {
    "duration": 8,
    "start_time": "2022-08-08T07:55:39.940Z"
   },
   {
    "duration": 7,
    "start_time": "2022-08-08T07:56:04.986Z"
   },
   {
    "duration": 7,
    "start_time": "2022-08-08T07:57:57.143Z"
   },
   {
    "duration": 5,
    "start_time": "2022-08-08T07:58:11.113Z"
   },
   {
    "duration": 7,
    "start_time": "2022-08-08T07:59:50.918Z"
   },
   {
    "duration": 15,
    "start_time": "2022-08-08T07:59:57.886Z"
   },
   {
    "duration": 7,
    "start_time": "2022-08-08T08:10:05.165Z"
   },
   {
    "duration": 7,
    "start_time": "2022-08-08T08:10:25.082Z"
   },
   {
    "duration": 7,
    "start_time": "2022-08-08T08:10:39.986Z"
   },
   {
    "duration": 8,
    "start_time": "2022-08-08T08:10:45.528Z"
   },
   {
    "duration": 6,
    "start_time": "2022-08-08T08:11:47.345Z"
   },
   {
    "duration": 4,
    "start_time": "2022-08-08T08:16:52.185Z"
   },
   {
    "duration": 12,
    "start_time": "2022-08-08T08:52:48.468Z"
   },
   {
    "duration": 8,
    "start_time": "2022-08-08T09:02:05.075Z"
   },
   {
    "duration": 44,
    "start_time": "2022-08-08T13:30:23.122Z"
   },
   {
    "duration": 6,
    "start_time": "2022-08-08T13:30:31.491Z"
   },
   {
    "duration": 86,
    "start_time": "2022-08-08T13:34:04.934Z"
   },
   {
    "duration": 6,
    "start_time": "2022-08-08T13:35:12.119Z"
   },
   {
    "duration": 5,
    "start_time": "2022-08-08T13:36:16.102Z"
   },
   {
    "duration": 5,
    "start_time": "2022-08-08T13:36:57.486Z"
   },
   {
    "duration": 7,
    "start_time": "2022-08-08T13:37:56.356Z"
   },
   {
    "duration": 7,
    "start_time": "2022-08-08T13:38:18.559Z"
   },
   {
    "duration": 9,
    "start_time": "2022-08-08T13:38:29.154Z"
   },
   {
    "duration": 9,
    "start_time": "2022-08-08T13:38:40.166Z"
   },
   {
    "duration": 7,
    "start_time": "2022-08-08T13:40:15.728Z"
   },
   {
    "duration": 6,
    "start_time": "2022-08-08T13:40:25.316Z"
   },
   {
    "duration": 6,
    "start_time": "2022-08-08T13:40:32.926Z"
   },
   {
    "duration": 7,
    "start_time": "2022-08-08T13:41:14.202Z"
   },
   {
    "duration": 6,
    "start_time": "2022-08-08T13:41:35.756Z"
   },
   {
    "duration": 7,
    "start_time": "2022-08-08T13:44:28.845Z"
   },
   {
    "duration": 5,
    "start_time": "2022-08-08T13:45:50.486Z"
   },
   {
    "duration": 6,
    "start_time": "2022-08-08T13:50:02.724Z"
   },
   {
    "duration": 6,
    "start_time": "2022-08-08T13:51:10.435Z"
   },
   {
    "duration": 6,
    "start_time": "2022-08-08T13:53:00.787Z"
   },
   {
    "duration": 399,
    "start_time": "2022-08-08T13:53:19.371Z"
   },
   {
    "duration": 266,
    "start_time": "2022-08-08T13:53:25.356Z"
   },
   {
    "duration": 7,
    "start_time": "2022-08-08T13:53:38.976Z"
   },
   {
    "duration": 6,
    "start_time": "2022-08-08T13:53:47.560Z"
   },
   {
    "duration": 58,
    "start_time": "2022-08-08T13:54:08.789Z"
   },
   {
    "duration": 8,
    "start_time": "2022-08-08T13:54:13.670Z"
   },
   {
    "duration": 54,
    "start_time": "2022-08-08T13:54:24.764Z"
   },
   {
    "duration": 4,
    "start_time": "2022-08-08T13:54:29.173Z"
   },
   {
    "duration": 7,
    "start_time": "2022-08-08T13:54:43.505Z"
   },
   {
    "duration": 4,
    "start_time": "2022-08-08T13:56:15.792Z"
   },
   {
    "duration": 3,
    "start_time": "2022-08-08T13:56:38.705Z"
   },
   {
    "duration": 11,
    "start_time": "2022-08-08T13:56:42.232Z"
   },
   {
    "duration": 4,
    "start_time": "2022-08-08T13:56:46.625Z"
   },
   {
    "duration": 12,
    "start_time": "2022-08-08T13:56:50.904Z"
   },
   {
    "duration": 6,
    "start_time": "2022-08-08T13:57:21.345Z"
   },
   {
    "duration": 3,
    "start_time": "2022-08-08T13:57:26.679Z"
   },
   {
    "duration": 16,
    "start_time": "2022-08-08T13:58:02.887Z"
   },
   {
    "duration": 27,
    "start_time": "2022-08-08T13:58:37.720Z"
   },
   {
    "duration": 51,
    "start_time": "2022-08-08T13:58:51.024Z"
   },
   {
    "duration": 8,
    "start_time": "2022-08-08T14:00:49.373Z"
   },
   {
    "duration": 8,
    "start_time": "2022-08-08T14:01:06.352Z"
   },
   {
    "duration": 18,
    "start_time": "2022-08-08T14:01:16.867Z"
   },
   {
    "duration": 16,
    "start_time": "2022-08-08T14:01:21.023Z"
   },
   {
    "duration": 16,
    "start_time": "2022-08-08T14:01:36.108Z"
   },
   {
    "duration": 16,
    "start_time": "2022-08-08T14:01:49.860Z"
   },
   {
    "duration": 54,
    "start_time": "2022-08-08T14:04:10.356Z"
   },
   {
    "duration": 9,
    "start_time": "2022-08-08T14:05:13.642Z"
   },
   {
    "duration": 48,
    "start_time": "2022-08-08T14:08:05.471Z"
   },
   {
    "duration": 7,
    "start_time": "2022-08-08T14:08:20.803Z"
   },
   {
    "duration": 55,
    "start_time": "2022-08-08T14:09:23.903Z"
   },
   {
    "duration": 54,
    "start_time": "2022-08-08T14:09:33.869Z"
   },
   {
    "duration": 1134,
    "start_time": "2022-08-08T14:12:36.767Z"
   },
   {
    "duration": 819,
    "start_time": "2022-08-08T14:15:47.739Z"
   },
   {
    "duration": 7,
    "start_time": "2022-08-08T14:16:11.192Z"
   },
   {
    "duration": 6,
    "start_time": "2022-08-08T14:38:38.607Z"
   },
   {
    "duration": 54,
    "start_time": "2022-08-08T14:39:29.339Z"
   },
   {
    "duration": 7,
    "start_time": "2022-08-08T14:39:56.860Z"
   },
   {
    "duration": 12,
    "start_time": "2022-08-08T15:09:14.819Z"
   },
   {
    "duration": 11,
    "start_time": "2022-08-08T15:12:55.016Z"
   },
   {
    "duration": 9,
    "start_time": "2022-08-08T15:23:10.060Z"
   },
   {
    "duration": 8,
    "start_time": "2022-08-08T15:23:27.387Z"
   },
   {
    "duration": 6,
    "start_time": "2022-08-08T15:23:44.774Z"
   },
   {
    "duration": 7,
    "start_time": "2022-08-08T15:24:40.993Z"
   },
   {
    "duration": 8,
    "start_time": "2022-08-08T15:25:20.376Z"
   },
   {
    "duration": 8,
    "start_time": "2022-08-08T15:25:43.769Z"
   },
   {
    "duration": 9,
    "start_time": "2022-08-08T15:34:08.950Z"
   },
   {
    "duration": 10,
    "start_time": "2022-08-08T15:34:15.253Z"
   },
   {
    "duration": 12,
    "start_time": "2022-08-08T15:34:44.557Z"
   },
   {
    "duration": 11,
    "start_time": "2022-08-08T15:34:54.629Z"
   },
   {
    "duration": 8,
    "start_time": "2022-08-08T15:40:55.655Z"
   },
   {
    "duration": 11,
    "start_time": "2022-08-08T15:41:58.568Z"
   },
   {
    "duration": 54,
    "start_time": "2022-08-08T15:44:29.675Z"
   },
   {
    "duration": 10,
    "start_time": "2022-08-08T15:44:38.420Z"
   },
   {
    "duration": 9,
    "start_time": "2022-08-08T15:45:22.156Z"
   },
   {
    "duration": 8,
    "start_time": "2022-08-08T15:45:26.987Z"
   },
   {
    "duration": 9,
    "start_time": "2022-08-08T15:47:02.675Z"
   },
   {
    "duration": 12,
    "start_time": "2022-08-08T15:49:25.463Z"
   },
   {
    "duration": 9,
    "start_time": "2022-08-08T15:50:15.752Z"
   },
   {
    "duration": 11,
    "start_time": "2022-08-08T15:50:30.010Z"
   },
   {
    "duration": 8,
    "start_time": "2022-08-08T15:51:02.969Z"
   },
   {
    "duration": 62,
    "start_time": "2022-08-08T16:24:01.290Z"
   },
   {
    "duration": 75,
    "start_time": "2022-08-08T16:25:35.042Z"
   },
   {
    "duration": 58,
    "start_time": "2022-08-08T16:25:39.716Z"
   },
   {
    "duration": 9,
    "start_time": "2022-08-08T16:26:03.417Z"
   },
   {
    "duration": 10,
    "start_time": "2022-08-08T16:26:28.738Z"
   },
   {
    "duration": 8,
    "start_time": "2022-08-08T16:34:15.816Z"
   },
   {
    "duration": 3,
    "start_time": "2022-08-08T16:38:26.458Z"
   },
   {
    "duration": 10,
    "start_time": "2022-08-08T16:42:05.225Z"
   },
   {
    "duration": 7,
    "start_time": "2022-08-08T16:46:39.219Z"
   },
   {
    "duration": 8,
    "start_time": "2022-08-08T17:39:21.567Z"
   },
   {
    "duration": 8,
    "start_time": "2022-08-08T17:39:54.310Z"
   },
   {
    "duration": 8,
    "start_time": "2022-08-08T17:40:23.746Z"
   },
   {
    "duration": 7,
    "start_time": "2022-08-08T17:41:38.149Z"
   },
   {
    "duration": 7,
    "start_time": "2022-08-08T17:44:08.062Z"
   },
   {
    "duration": 7,
    "start_time": "2022-08-08T18:19:04.399Z"
   },
   {
    "duration": 7,
    "start_time": "2022-08-08T18:19:29.149Z"
   },
   {
    "duration": 11,
    "start_time": "2022-08-08T18:36:28.472Z"
   },
   {
    "duration": 13,
    "start_time": "2022-08-08T18:36:56.518Z"
   },
   {
    "duration": 11,
    "start_time": "2022-08-08T18:39:10.412Z"
   },
   {
    "duration": 12,
    "start_time": "2022-08-08T18:39:34.772Z"
   },
   {
    "duration": 9,
    "start_time": "2022-08-08T18:40:20.153Z"
   },
   {
    "duration": 8,
    "start_time": "2022-08-08T18:42:57.913Z"
   },
   {
    "duration": 8,
    "start_time": "2022-08-08T18:49:04.963Z"
   },
   {
    "duration": 4,
    "start_time": "2022-08-08T18:49:20.220Z"
   },
   {
    "duration": 17,
    "start_time": "2022-08-08T18:52:54.859Z"
   },
   {
    "duration": 19,
    "start_time": "2022-08-08T18:53:39.917Z"
   },
   {
    "duration": 49,
    "start_time": "2022-08-08T18:53:56.333Z"
   },
   {
    "duration": 3,
    "start_time": "2022-08-08T18:54:19.419Z"
   },
   {
    "duration": 40,
    "start_time": "2022-08-08T18:54:19.424Z"
   },
   {
    "duration": 0,
    "start_time": "2022-08-08T18:54:19.466Z"
   },
   {
    "duration": 0,
    "start_time": "2022-08-08T18:54:19.467Z"
   },
   {
    "duration": 0,
    "start_time": "2022-08-08T18:54:19.469Z"
   },
   {
    "duration": 0,
    "start_time": "2022-08-08T18:54:19.470Z"
   },
   {
    "duration": 8,
    "start_time": "2022-08-08T18:54:19.643Z"
   },
   {
    "duration": 5,
    "start_time": "2022-08-08T18:54:19.653Z"
   },
   {
    "duration": 22,
    "start_time": "2022-08-08T18:54:19.660Z"
   },
   {
    "duration": 12,
    "start_time": "2022-08-08T18:54:19.684Z"
   },
   {
    "duration": 8,
    "start_time": "2022-08-08T18:54:19.699Z"
   },
   {
    "duration": 22,
    "start_time": "2022-08-08T18:54:19.708Z"
   },
   {
    "duration": 15,
    "start_time": "2022-08-08T18:54:19.863Z"
   },
   {
    "duration": 55,
    "start_time": "2022-08-08T18:54:19.880Z"
   },
   {
    "duration": 78,
    "start_time": "2022-08-08T18:54:19.936Z"
   },
   {
    "duration": 60,
    "start_time": "2022-08-08T18:54:20.016Z"
   },
   {
    "duration": 8,
    "start_time": "2022-08-08T18:54:20.078Z"
   },
   {
    "duration": 43,
    "start_time": "2022-08-08T18:54:20.087Z"
   },
   {
    "duration": 26,
    "start_time": "2022-08-08T18:54:20.135Z"
   },
   {
    "duration": 9,
    "start_time": "2022-08-08T18:54:20.163Z"
   },
   {
    "duration": 11,
    "start_time": "2022-08-08T18:54:20.174Z"
   },
   {
    "duration": 6,
    "start_time": "2022-08-08T18:54:20.187Z"
   },
   {
    "duration": 7,
    "start_time": "2022-08-08T18:54:20.194Z"
   },
   {
    "duration": 3,
    "start_time": "2022-08-08T18:54:20.302Z"
   },
   {
    "duration": 14,
    "start_time": "2022-08-08T18:54:20.307Z"
   },
   {
    "duration": 6,
    "start_time": "2022-08-08T18:54:20.323Z"
   },
   {
    "duration": 8,
    "start_time": "2022-08-08T18:54:20.330Z"
   },
   {
    "duration": 4,
    "start_time": "2022-08-08T18:54:20.341Z"
   },
   {
    "duration": 6,
    "start_time": "2022-08-08T18:54:20.346Z"
   },
   {
    "duration": 3,
    "start_time": "2022-08-08T18:54:20.372Z"
   },
   {
    "duration": 4,
    "start_time": "2022-08-08T18:54:20.522Z"
   },
   {
    "duration": 11,
    "start_time": "2022-08-08T18:54:20.528Z"
   },
   {
    "duration": 51,
    "start_time": "2022-08-08T18:54:20.742Z"
   },
   {
    "duration": 0,
    "start_time": "2022-08-08T18:54:20.794Z"
   },
   {
    "duration": 0,
    "start_time": "2022-08-08T18:54:20.795Z"
   },
   {
    "duration": 0,
    "start_time": "2022-08-08T18:54:20.797Z"
   },
   {
    "duration": 0,
    "start_time": "2022-08-08T18:54:20.798Z"
   },
   {
    "duration": 2,
    "start_time": "2022-08-08T18:54:20.961Z"
   },
   {
    "duration": 8,
    "start_time": "2022-08-08T18:54:20.965Z"
   },
   {
    "duration": 7,
    "start_time": "2022-08-08T18:54:20.974Z"
   },
   {
    "duration": 5,
    "start_time": "2022-08-08T18:54:20.983Z"
   },
   {
    "duration": 205,
    "start_time": "2022-08-08T18:55:16.015Z"
   },
   {
    "duration": 3,
    "start_time": "2022-08-08T18:55:40.334Z"
   },
   {
    "duration": 154,
    "start_time": "2022-08-08T18:55:40.339Z"
   },
   {
    "duration": 7,
    "start_time": "2022-08-08T18:55:40.495Z"
   },
   {
    "duration": 11,
    "start_time": "2022-08-08T18:55:40.504Z"
   },
   {
    "duration": 9,
    "start_time": "2022-08-08T18:55:40.516Z"
   },
   {
    "duration": 13,
    "start_time": "2022-08-08T18:55:40.526Z"
   },
   {
    "duration": 3,
    "start_time": "2022-08-08T18:55:40.560Z"
   },
   {
    "duration": 25,
    "start_time": "2022-08-08T18:55:40.565Z"
   },
   {
    "duration": 13,
    "start_time": "2022-08-08T18:55:40.592Z"
   },
   {
    "duration": 0,
    "start_time": "2022-08-08T18:55:40.606Z"
   },
   {
    "duration": 0,
    "start_time": "2022-08-08T18:55:40.607Z"
   },
   {
    "duration": 22,
    "start_time": "2022-08-08T18:55:40.718Z"
   },
   {
    "duration": 58,
    "start_time": "2022-08-08T18:55:40.780Z"
   },
   {
    "duration": 67,
    "start_time": "2022-08-08T18:55:40.840Z"
   },
   {
    "duration": 51,
    "start_time": "2022-08-08T18:55:40.909Z"
   },
   {
    "duration": 6,
    "start_time": "2022-08-08T18:55:40.962Z"
   },
   {
    "duration": 6,
    "start_time": "2022-08-08T18:55:40.970Z"
   },
   {
    "duration": 38,
    "start_time": "2022-08-08T18:55:40.977Z"
   },
   {
    "duration": 8,
    "start_time": "2022-08-08T18:55:41.017Z"
   },
   {
    "duration": 12,
    "start_time": "2022-08-08T18:55:41.026Z"
   },
   {
    "duration": 18,
    "start_time": "2022-08-08T18:55:41.039Z"
   },
   {
    "duration": 7,
    "start_time": "2022-08-08T18:55:41.059Z"
   },
   {
    "duration": 2,
    "start_time": "2022-08-08T18:55:41.158Z"
   },
   {
    "duration": 3,
    "start_time": "2022-08-08T18:55:41.220Z"
   },
   {
    "duration": 7,
    "start_time": "2022-08-08T18:55:41.224Z"
   },
   {
    "duration": 7,
    "start_time": "2022-08-08T18:55:41.233Z"
   },
   {
    "duration": 8,
    "start_time": "2022-08-08T18:55:41.241Z"
   },
   {
    "duration": 6,
    "start_time": "2022-08-08T18:55:41.252Z"
   },
   {
    "duration": 10,
    "start_time": "2022-08-08T18:55:41.260Z"
   },
   {
    "duration": 2,
    "start_time": "2022-08-08T18:55:41.383Z"
   },
   {
    "duration": 2,
    "start_time": "2022-08-08T18:55:41.441Z"
   },
   {
    "duration": 50,
    "start_time": "2022-08-08T18:55:41.610Z"
   },
   {
    "duration": 7,
    "start_time": "2022-08-08T18:55:41.662Z"
   },
   {
    "duration": 6,
    "start_time": "2022-08-08T18:55:41.670Z"
   },
   {
    "duration": 7,
    "start_time": "2022-08-08T18:55:41.677Z"
   },
   {
    "duration": 3,
    "start_time": "2022-08-08T18:55:41.830Z"
   },
   {
    "duration": 5,
    "start_time": "2022-08-08T18:55:41.834Z"
   },
   {
    "duration": 2,
    "start_time": "2022-08-08T18:55:41.881Z"
   },
   {
    "duration": 6,
    "start_time": "2022-08-08T18:55:41.885Z"
   },
   {
    "duration": 4,
    "start_time": "2022-08-08T18:55:41.892Z"
   },
   {
    "duration": 6,
    "start_time": "2022-08-08T19:02:43.578Z"
   },
   {
    "duration": 4,
    "start_time": "2022-08-08T19:02:55.043Z"
   },
   {
    "duration": 12,
    "start_time": "2022-08-08T19:03:57.812Z"
   },
   {
    "duration": 12,
    "start_time": "2022-08-08T19:04:09.866Z"
   },
   {
    "duration": 88,
    "start_time": "2022-08-08T19:09:28.525Z"
   },
   {
    "duration": 45,
    "start_time": "2022-08-08T19:14:19.194Z"
   },
   {
    "duration": 12,
    "start_time": "2022-08-08T19:14:34.923Z"
   },
   {
    "duration": 2,
    "start_time": "2022-08-08T19:18:54.353Z"
   },
   {
    "duration": 743,
    "start_time": "2022-08-08T19:19:12.278Z"
   },
   {
    "duration": 3,
    "start_time": "2022-08-08T19:23:34.222Z"
   },
   {
    "duration": 9,
    "start_time": "2022-08-08T19:25:04.781Z"
   },
   {
    "duration": 14,
    "start_time": "2022-08-08T19:25:29.865Z"
   },
   {
    "duration": 3,
    "start_time": "2022-08-08T19:25:42.014Z"
   },
   {
    "duration": 21,
    "start_time": "2022-08-08T19:27:21.681Z"
   },
   {
    "duration": 3,
    "start_time": "2022-08-08T19:27:27.276Z"
   },
   {
    "duration": 164,
    "start_time": "2022-08-08T19:27:27.281Z"
   },
   {
    "duration": 6,
    "start_time": "2022-08-08T19:27:27.447Z"
   },
   {
    "duration": 7,
    "start_time": "2022-08-08T19:27:27.457Z"
   },
   {
    "duration": 6,
    "start_time": "2022-08-08T19:27:27.466Z"
   },
   {
    "duration": 12,
    "start_time": "2022-08-08T19:27:27.473Z"
   },
   {
    "duration": 2,
    "start_time": "2022-08-08T19:27:27.497Z"
   },
   {
    "duration": 28,
    "start_time": "2022-08-08T19:27:27.501Z"
   },
   {
    "duration": 35,
    "start_time": "2022-08-08T19:27:27.531Z"
   },
   {
    "duration": 4,
    "start_time": "2022-08-08T19:27:27.568Z"
   },
   {
    "duration": 18,
    "start_time": "2022-08-08T19:27:27.574Z"
   },
   {
    "duration": 40,
    "start_time": "2022-08-08T19:27:27.594Z"
   },
   {
    "duration": 59,
    "start_time": "2022-08-08T19:27:27.717Z"
   },
   {
    "duration": 71,
    "start_time": "2022-08-08T19:27:27.778Z"
   },
   {
    "duration": 64,
    "start_time": "2022-08-08T19:27:27.851Z"
   },
   {
    "duration": 16,
    "start_time": "2022-08-08T19:27:27.916Z"
   },
   {
    "duration": 14,
    "start_time": "2022-08-08T19:27:27.935Z"
   },
   {
    "duration": 709,
    "start_time": "2022-08-08T19:27:27.952Z"
   },
   {
    "duration": 0,
    "start_time": "2022-08-08T19:27:28.664Z"
   },
   {
    "duration": 0,
    "start_time": "2022-08-08T19:27:28.665Z"
   },
   {
    "duration": 0,
    "start_time": "2022-08-08T19:27:28.666Z"
   },
   {
    "duration": 0,
    "start_time": "2022-08-08T19:27:28.668Z"
   },
   {
    "duration": 0,
    "start_time": "2022-08-08T19:27:28.670Z"
   },
   {
    "duration": 0,
    "start_time": "2022-08-08T19:27:28.671Z"
   },
   {
    "duration": 0,
    "start_time": "2022-08-08T19:27:28.672Z"
   },
   {
    "duration": 0,
    "start_time": "2022-08-08T19:27:28.673Z"
   },
   {
    "duration": 0,
    "start_time": "2022-08-08T19:27:28.674Z"
   },
   {
    "duration": 0,
    "start_time": "2022-08-08T19:27:28.676Z"
   },
   {
    "duration": 0,
    "start_time": "2022-08-08T19:27:28.677Z"
   },
   {
    "duration": 0,
    "start_time": "2022-08-08T19:27:28.678Z"
   },
   {
    "duration": 0,
    "start_time": "2022-08-08T19:27:28.679Z"
   },
   {
    "duration": 0,
    "start_time": "2022-08-08T19:27:28.681Z"
   },
   {
    "duration": 0,
    "start_time": "2022-08-08T19:27:28.682Z"
   },
   {
    "duration": 0,
    "start_time": "2022-08-08T19:27:28.683Z"
   },
   {
    "duration": 0,
    "start_time": "2022-08-08T19:27:28.684Z"
   },
   {
    "duration": 0,
    "start_time": "2022-08-08T19:27:28.685Z"
   },
   {
    "duration": 0,
    "start_time": "2022-08-08T19:27:28.686Z"
   },
   {
    "duration": 2,
    "start_time": "2022-08-08T19:27:28.817Z"
   },
   {
    "duration": 9,
    "start_time": "2022-08-08T19:27:28.822Z"
   },
   {
    "duration": 7,
    "start_time": "2022-08-08T19:27:28.833Z"
   },
   {
    "duration": 3,
    "start_time": "2022-08-08T19:27:54.187Z"
   },
   {
    "duration": 21,
    "start_time": "2022-08-08T19:27:57.333Z"
   },
   {
    "duration": 9,
    "start_time": "2022-08-08T19:28:39.645Z"
   },
   {
    "duration": 4,
    "start_time": "2022-08-08T19:28:56.939Z"
   },
   {
    "duration": 11,
    "start_time": "2022-08-08T19:29:06.833Z"
   },
   {
    "duration": 60,
    "start_time": "2022-08-08T19:32:48.845Z"
   },
   {
    "duration": 7,
    "start_time": "2022-08-08T19:33:13.497Z"
   },
   {
    "duration": 10,
    "start_time": "2022-08-08T19:37:49.985Z"
   },
   {
    "duration": 10,
    "start_time": "2022-08-08T19:38:06.202Z"
   },
   {
    "duration": 7,
    "start_time": "2022-08-08T19:39:17.222Z"
   },
   {
    "duration": 12,
    "start_time": "2022-08-08T19:39:33.522Z"
   },
   {
    "duration": 9,
    "start_time": "2022-08-08T19:40:24.996Z"
   },
   {
    "duration": 9,
    "start_time": "2022-08-08T19:40:40.931Z"
   },
   {
    "duration": 9,
    "start_time": "2022-08-08T19:41:38.111Z"
   },
   {
    "duration": 9,
    "start_time": "2022-08-08T19:41:46.357Z"
   },
   {
    "duration": 9,
    "start_time": "2022-08-08T19:42:50.423Z"
   },
   {
    "duration": 10,
    "start_time": "2022-08-08T19:43:21.834Z"
   },
   {
    "duration": 7,
    "start_time": "2022-08-08T19:43:45.580Z"
   },
   {
    "duration": 46,
    "start_time": "2022-08-08T19:46:48.942Z"
   },
   {
    "duration": 58,
    "start_time": "2022-08-08T19:47:55.967Z"
   },
   {
    "duration": 47,
    "start_time": "2022-08-08T19:48:37.762Z"
   },
   {
    "duration": 73,
    "start_time": "2022-08-08T19:50:38.396Z"
   },
   {
    "duration": 49,
    "start_time": "2022-08-08T19:50:52.059Z"
   },
   {
    "duration": 52,
    "start_time": "2022-08-08T19:50:59.045Z"
   },
   {
    "duration": 12,
    "start_time": "2022-08-08T19:53:58.850Z"
   },
   {
    "duration": 3,
    "start_time": "2022-08-08T19:54:03.490Z"
   },
   {
    "duration": 2,
    "start_time": "2022-08-08T19:54:18.435Z"
   },
   {
    "duration": 148,
    "start_time": "2022-08-08T19:54:18.439Z"
   },
   {
    "duration": 7,
    "start_time": "2022-08-08T19:54:18.588Z"
   },
   {
    "duration": 12,
    "start_time": "2022-08-08T19:54:18.597Z"
   },
   {
    "duration": 4,
    "start_time": "2022-08-08T19:54:18.611Z"
   },
   {
    "duration": 10,
    "start_time": "2022-08-08T19:54:18.617Z"
   },
   {
    "duration": 3,
    "start_time": "2022-08-08T19:54:18.658Z"
   },
   {
    "duration": 27,
    "start_time": "2022-08-08T19:54:18.663Z"
   },
   {
    "duration": 17,
    "start_time": "2022-08-08T19:54:18.692Z"
   },
   {
    "duration": 11,
    "start_time": "2022-08-08T19:54:18.712Z"
   },
   {
    "duration": 33,
    "start_time": "2022-08-08T19:54:18.724Z"
   },
   {
    "duration": 21,
    "start_time": "2022-08-08T19:54:18.814Z"
   },
   {
    "duration": 52,
    "start_time": "2022-08-08T19:54:18.878Z"
   },
   {
    "duration": 58,
    "start_time": "2022-08-08T19:54:18.933Z"
   },
   {
    "duration": 50,
    "start_time": "2022-08-08T19:54:18.993Z"
   },
   {
    "duration": 16,
    "start_time": "2022-08-08T19:54:19.044Z"
   },
   {
    "duration": 11,
    "start_time": "2022-08-08T19:54:19.062Z"
   },
   {
    "duration": 26,
    "start_time": "2022-08-08T19:54:19.074Z"
   },
   {
    "duration": 6,
    "start_time": "2022-08-08T19:54:19.102Z"
   },
   {
    "duration": 10,
    "start_time": "2022-08-08T19:54:19.110Z"
   },
   {
    "duration": 0,
    "start_time": "2022-08-08T19:54:19.122Z"
   },
   {
    "duration": 3,
    "start_time": "2022-08-08T19:54:19.266Z"
   },
   {
    "duration": 10,
    "start_time": "2022-08-08T19:54:19.271Z"
   },
   {
    "duration": 2,
    "start_time": "2022-08-08T19:54:19.317Z"
   },
   {
    "duration": 8,
    "start_time": "2022-08-08T19:54:19.321Z"
   },
   {
    "duration": 7,
    "start_time": "2022-08-08T19:54:19.331Z"
   },
   {
    "duration": 5,
    "start_time": "2022-08-08T19:54:19.340Z"
   },
   {
    "duration": 15,
    "start_time": "2022-08-08T19:54:19.347Z"
   },
   {
    "duration": 3,
    "start_time": "2022-08-08T19:54:19.492Z"
   },
   {
    "duration": 3,
    "start_time": "2022-08-08T19:54:19.537Z"
   },
   {
    "duration": 5,
    "start_time": "2022-08-08T19:54:19.542Z"
   },
   {
    "duration": 50,
    "start_time": "2022-08-08T19:54:19.758Z"
   },
   {
    "duration": 0,
    "start_time": "2022-08-08T19:54:19.810Z"
   },
   {
    "duration": 0,
    "start_time": "2022-08-08T19:54:19.811Z"
   },
   {
    "duration": 0,
    "start_time": "2022-08-08T19:54:19.812Z"
   },
   {
    "duration": 4,
    "start_time": "2022-08-08T19:54:19.814Z"
   },
   {
    "duration": 2,
    "start_time": "2022-08-08T19:54:19.977Z"
   },
   {
    "duration": 20,
    "start_time": "2022-08-08T19:54:19.981Z"
   },
   {
    "duration": 17,
    "start_time": "2022-08-08T19:54:20.003Z"
   },
   {
    "duration": 11,
    "start_time": "2022-08-08T19:54:20.022Z"
   },
   {
    "duration": 30,
    "start_time": "2022-08-08T19:54:31.124Z"
   },
   {
    "duration": 27,
    "start_time": "2022-08-08T19:54:44.835Z"
   },
   {
    "duration": 3,
    "start_time": "2022-08-08T19:58:20.956Z"
   },
   {
    "duration": 26,
    "start_time": "2022-08-08T20:01:39.558Z"
   },
   {
    "duration": 23,
    "start_time": "2022-08-08T20:02:20.269Z"
   },
   {
    "duration": 6,
    "start_time": "2022-08-08T20:02:37.502Z"
   },
   {
    "duration": 22,
    "start_time": "2022-08-08T20:02:44.141Z"
   },
   {
    "duration": 27,
    "start_time": "2022-08-08T20:03:05.180Z"
   },
   {
    "duration": 2,
    "start_time": "2022-08-08T20:03:14.193Z"
   },
   {
    "duration": 24,
    "start_time": "2022-08-08T20:03:19.923Z"
   },
   {
    "duration": 23,
    "start_time": "2022-08-08T20:03:32.811Z"
   },
   {
    "duration": 9,
    "start_time": "2022-08-08T20:05:47.027Z"
   },
   {
    "duration": 2,
    "start_time": "2022-08-08T20:08:38.797Z"
   },
   {
    "duration": 18,
    "start_time": "2022-08-08T20:08:41.617Z"
   },
   {
    "duration": 16,
    "start_time": "2022-08-08T20:09:08.475Z"
   },
   {
    "duration": 26,
    "start_time": "2022-08-08T20:10:27.458Z"
   },
   {
    "duration": 45,
    "start_time": "2022-08-08T20:33:59.207Z"
   },
   {
    "duration": 48,
    "start_time": "2022-08-08T20:37:44.575Z"
   },
   {
    "duration": 52,
    "start_time": "2022-08-08T20:37:54.539Z"
   },
   {
    "duration": 51,
    "start_time": "2022-08-08T20:38:26.445Z"
   },
   {
    "duration": 108,
    "start_time": "2022-08-08T20:40:02.798Z"
   },
   {
    "duration": 118,
    "start_time": "2022-08-08T20:49:32.893Z"
   },
   {
    "duration": 59,
    "start_time": "2022-08-08T20:49:49.182Z"
   },
   {
    "duration": 50,
    "start_time": "2022-08-08T20:52:24.267Z"
   },
   {
    "duration": 3,
    "start_time": "2022-08-08T21:03:52.729Z"
   },
   {
    "duration": 6,
    "start_time": "2022-08-08T21:04:49.800Z"
   },
   {
    "duration": 5,
    "start_time": "2022-08-08T21:06:24.670Z"
   },
   {
    "duration": 6,
    "start_time": "2022-08-08T21:17:45.902Z"
   },
   {
    "duration": 16,
    "start_time": "2022-08-08T22:01:50.124Z"
   },
   {
    "duration": 14,
    "start_time": "2022-08-08T22:02:34.036Z"
   },
   {
    "duration": 14,
    "start_time": "2022-08-08T22:36:33.396Z"
   },
   {
    "duration": 16,
    "start_time": "2022-08-08T22:41:15.418Z"
   },
   {
    "duration": 2,
    "start_time": "2022-08-08T22:41:47.775Z"
   },
   {
    "duration": 2,
    "start_time": "2022-08-08T22:41:54.548Z"
   },
   {
    "duration": 2,
    "start_time": "2022-08-08T22:43:05.472Z"
   },
   {
    "duration": 7,
    "start_time": "2022-08-08T22:46:08.501Z"
   },
   {
    "duration": 784,
    "start_time": "2022-08-08T22:46:11.339Z"
   },
   {
    "duration": 24,
    "start_time": "2022-08-08T22:46:34.867Z"
   },
   {
    "duration": 5,
    "start_time": "2022-08-08T22:46:38.828Z"
   },
   {
    "duration": 8,
    "start_time": "2022-08-08T22:47:31.221Z"
   },
   {
    "duration": 29,
    "start_time": "2022-08-08T22:53:55.234Z"
   },
   {
    "duration": 5,
    "start_time": "2022-08-08T22:54:33.170Z"
   },
   {
    "duration": 2,
    "start_time": "2022-08-08T23:46:38.713Z"
   },
   {
    "duration": 2,
    "start_time": "2022-08-08T23:46:56.818Z"
   },
   {
    "duration": 3,
    "start_time": "2022-08-08T23:47:08.714Z"
   },
   {
    "duration": 8,
    "start_time": "2022-08-08T23:48:22.380Z"
   },
   {
    "duration": 7,
    "start_time": "2022-08-08T23:49:38.553Z"
   },
   {
    "duration": 3,
    "start_time": "2022-08-08T23:50:21.820Z"
   },
   {
    "duration": 7,
    "start_time": "2022-08-08T23:50:34.799Z"
   },
   {
    "duration": 7,
    "start_time": "2022-08-08T23:51:49.017Z"
   },
   {
    "duration": 169,
    "start_time": "2022-08-10T03:01:05.722Z"
   },
   {
    "duration": 7,
    "start_time": "2022-08-12T14:12:49.248Z"
   },
   {
    "duration": 43,
    "start_time": "2022-08-12T14:13:52.109Z"
   },
   {
    "duration": 5,
    "start_time": "2022-08-12T14:14:23.335Z"
   },
   {
    "duration": 43,
    "start_time": "2022-08-14T16:06:30.847Z"
   },
   {
    "duration": 6,
    "start_time": "2022-08-14T16:06:44.090Z"
   },
   {
    "duration": 325,
    "start_time": "2022-08-14T16:06:58.659Z"
   },
   {
    "duration": 960,
    "start_time": "2022-08-14T16:07:02.467Z"
   },
   {
    "duration": 11,
    "start_time": "2022-08-14T16:07:06.208Z"
   },
   {
    "duration": 71,
    "start_time": "2022-08-14T16:07:35.201Z"
   },
   {
    "duration": 6,
    "start_time": "2022-08-14T16:07:41.990Z"
   },
   {
    "duration": 9,
    "start_time": "2022-08-14T16:07:55.048Z"
   },
   {
    "duration": 11,
    "start_time": "2022-08-14T16:08:15.888Z"
   },
   {
    "duration": 9,
    "start_time": "2022-08-14T16:11:08.953Z"
   },
   {
    "duration": 84,
    "start_time": "2022-08-14T16:11:30.405Z"
   },
   {
    "duration": 11,
    "start_time": "2022-08-14T16:11:37.164Z"
   },
   {
    "duration": 4,
    "start_time": "2022-08-14T16:17:49.787Z"
   },
   {
    "duration": 14,
    "start_time": "2022-08-14T16:19:57.995Z"
   },
   {
    "duration": 34,
    "start_time": "2022-08-14T16:20:33.677Z"
   },
   {
    "duration": 8,
    "start_time": "2022-08-14T16:20:46.520Z"
   },
   {
    "duration": 13,
    "start_time": "2022-08-14T16:20:56.589Z"
   },
   {
    "duration": 9,
    "start_time": "2022-08-14T16:21:10.879Z"
   },
   {
    "duration": 4,
    "start_time": "2022-08-14T16:21:21.788Z"
   },
   {
    "duration": 11,
    "start_time": "2022-08-14T16:22:58.472Z"
   },
   {
    "duration": 12,
    "start_time": "2022-08-14T16:23:08.431Z"
   },
   {
    "duration": 74,
    "start_time": "2022-08-14T16:24:26.164Z"
   },
   {
    "duration": 12,
    "start_time": "2022-08-14T16:25:23.943Z"
   },
   {
    "duration": 7,
    "start_time": "2022-08-14T16:27:28.918Z"
   },
   {
    "duration": 11,
    "start_time": "2022-08-14T16:30:05.332Z"
   },
   {
    "duration": 10,
    "start_time": "2022-08-14T16:30:44.533Z"
   },
   {
    "duration": 7,
    "start_time": "2022-08-14T16:31:15.256Z"
   },
   {
    "duration": 10,
    "start_time": "2022-08-14T16:31:26.177Z"
   },
   {
    "duration": 112,
    "start_time": "2022-08-14T16:31:37.432Z"
   },
   {
    "duration": 75,
    "start_time": "2022-08-14T16:31:48.548Z"
   },
   {
    "duration": 7,
    "start_time": "2022-08-14T16:32:56.441Z"
   },
   {
    "duration": 109,
    "start_time": "2022-08-14T16:34:17.769Z"
   },
   {
    "duration": 82,
    "start_time": "2022-08-14T16:34:25.969Z"
   },
   {
    "duration": 7,
    "start_time": "2022-08-14T16:34:37.068Z"
   },
   {
    "duration": 14,
    "start_time": "2022-08-14T16:36:47.334Z"
   },
   {
    "duration": 12,
    "start_time": "2022-08-14T16:36:53.927Z"
   },
   {
    "duration": 13,
    "start_time": "2022-08-14T16:39:26.403Z"
   },
   {
    "duration": 1924,
    "start_time": "2022-08-14T16:40:48.538Z"
   },
   {
    "duration": 1475,
    "start_time": "2022-08-14T16:41:28.401Z"
   },
   {
    "duration": 1594,
    "start_time": "2022-08-14T16:42:10.858Z"
   },
   {
    "duration": 46,
    "start_time": "2022-08-14T16:44:33.672Z"
   },
   {
    "duration": 13,
    "start_time": "2022-08-14T16:53:06.921Z"
   },
   {
    "duration": 7,
    "start_time": "2022-08-14T16:57:40.900Z"
   },
   {
    "duration": 7,
    "start_time": "2022-08-14T16:57:49.539Z"
   },
   {
    "duration": 1168,
    "start_time": "2022-08-14T17:13:49.311Z"
   },
   {
    "duration": 6,
    "start_time": "2022-08-14T17:14:59.521Z"
   },
   {
    "duration": 7,
    "start_time": "2022-08-14T17:19:21.989Z"
   },
   {
    "duration": 7,
    "start_time": "2022-08-14T17:19:48.452Z"
   },
   {
    "duration": 12,
    "start_time": "2022-08-14T17:20:28.341Z"
   },
   {
    "duration": 9,
    "start_time": "2022-08-14T17:20:58.606Z"
   },
   {
    "duration": 66,
    "start_time": "2022-08-14T17:21:37.455Z"
   },
   {
    "duration": 108,
    "start_time": "2022-08-14T17:21:44.044Z"
   },
   {
    "duration": 8,
    "start_time": "2022-08-14T17:26:48.363Z"
   },
   {
    "duration": 10,
    "start_time": "2022-08-14T18:04:02.485Z"
   },
   {
    "duration": 13,
    "start_time": "2022-08-14T18:04:08.256Z"
   },
   {
    "duration": 4,
    "start_time": "2022-08-14T18:04:31.633Z"
   },
   {
    "duration": 25,
    "start_time": "2022-08-14T18:04:44.845Z"
   },
   {
    "duration": 7,
    "start_time": "2022-08-14T18:06:29.926Z"
   },
   {
    "duration": 7,
    "start_time": "2022-08-14T18:06:33.771Z"
   },
   {
    "duration": 3,
    "start_time": "2022-08-14T18:06:41.883Z"
   },
   {
    "duration": 142,
    "start_time": "2022-08-14T18:06:41.888Z"
   },
   {
    "duration": 10,
    "start_time": "2022-08-14T18:06:42.031Z"
   },
   {
    "duration": 10,
    "start_time": "2022-08-14T18:06:42.042Z"
   },
   {
    "duration": 67,
    "start_time": "2022-08-14T18:06:42.054Z"
   },
   {
    "duration": 0,
    "start_time": "2022-08-14T18:06:42.123Z"
   },
   {
    "duration": 0,
    "start_time": "2022-08-14T18:06:42.124Z"
   },
   {
    "duration": 0,
    "start_time": "2022-08-14T18:06:42.125Z"
   },
   {
    "duration": 0,
    "start_time": "2022-08-14T18:06:42.126Z"
   },
   {
    "duration": 0,
    "start_time": "2022-08-14T18:06:42.127Z"
   },
   {
    "duration": 0,
    "start_time": "2022-08-14T18:06:42.128Z"
   },
   {
    "duration": 0,
    "start_time": "2022-08-14T18:06:42.129Z"
   },
   {
    "duration": 0,
    "start_time": "2022-08-14T18:06:42.130Z"
   },
   {
    "duration": 1,
    "start_time": "2022-08-14T18:06:42.130Z"
   },
   {
    "duration": 0,
    "start_time": "2022-08-14T18:06:42.131Z"
   },
   {
    "duration": 0,
    "start_time": "2022-08-14T18:06:42.132Z"
   },
   {
    "duration": 0,
    "start_time": "2022-08-14T18:06:42.133Z"
   },
   {
    "duration": 0,
    "start_time": "2022-08-14T18:06:42.134Z"
   },
   {
    "duration": 0,
    "start_time": "2022-08-14T18:06:42.135Z"
   },
   {
    "duration": 0,
    "start_time": "2022-08-14T18:06:42.136Z"
   },
   {
    "duration": 0,
    "start_time": "2022-08-14T18:06:42.136Z"
   },
   {
    "duration": 0,
    "start_time": "2022-08-14T18:06:42.137Z"
   },
   {
    "duration": 0,
    "start_time": "2022-08-14T18:06:42.138Z"
   },
   {
    "duration": 0,
    "start_time": "2022-08-14T18:06:42.139Z"
   },
   {
    "duration": 0,
    "start_time": "2022-08-14T18:06:42.140Z"
   },
   {
    "duration": 0,
    "start_time": "2022-08-14T18:06:42.141Z"
   },
   {
    "duration": 0,
    "start_time": "2022-08-14T18:06:42.142Z"
   },
   {
    "duration": 0,
    "start_time": "2022-08-14T18:06:42.143Z"
   },
   {
    "duration": 0,
    "start_time": "2022-08-14T18:06:42.144Z"
   },
   {
    "duration": 0,
    "start_time": "2022-08-14T18:06:42.145Z"
   },
   {
    "duration": 0,
    "start_time": "2022-08-14T18:06:42.146Z"
   },
   {
    "duration": 0,
    "start_time": "2022-08-14T18:06:42.146Z"
   },
   {
    "duration": 0,
    "start_time": "2022-08-14T18:06:42.148Z"
   },
   {
    "duration": 0,
    "start_time": "2022-08-14T18:06:42.148Z"
   },
   {
    "duration": 0,
    "start_time": "2022-08-14T18:06:42.149Z"
   },
   {
    "duration": 0,
    "start_time": "2022-08-14T18:06:42.150Z"
   },
   {
    "duration": 0,
    "start_time": "2022-08-14T18:06:42.151Z"
   },
   {
    "duration": 0,
    "start_time": "2022-08-14T18:06:42.152Z"
   },
   {
    "duration": 0,
    "start_time": "2022-08-14T18:06:42.153Z"
   },
   {
    "duration": 0,
    "start_time": "2022-08-14T18:06:42.154Z"
   },
   {
    "duration": 0,
    "start_time": "2022-08-14T18:06:42.155Z"
   },
   {
    "duration": 6,
    "start_time": "2022-08-14T18:06:55.934Z"
   },
   {
    "duration": 7,
    "start_time": "2022-08-14T18:07:47.452Z"
   },
   {
    "duration": 4,
    "start_time": "2022-08-14T18:07:55.354Z"
   },
   {
    "duration": 6,
    "start_time": "2022-08-14T18:07:59.726Z"
   },
   {
    "duration": 4,
    "start_time": "2022-08-14T18:08:03.788Z"
   },
   {
    "duration": 20,
    "start_time": "2022-08-14T18:08:07.443Z"
   },
   {
    "duration": 12,
    "start_time": "2022-08-14T18:08:17.741Z"
   },
   {
    "duration": 4,
    "start_time": "2022-08-14T18:08:21.426Z"
   },
   {
    "duration": 20,
    "start_time": "2022-08-14T18:08:29.659Z"
   },
   {
    "duration": 57,
    "start_time": "2022-08-14T18:08:33.747Z"
   },
   {
    "duration": 66,
    "start_time": "2022-08-14T18:08:39.041Z"
   },
   {
    "duration": 47,
    "start_time": "2022-08-14T18:08:42.312Z"
   },
   {
    "duration": 7,
    "start_time": "2022-08-14T18:08:47.990Z"
   },
   {
    "duration": 6,
    "start_time": "2022-08-14T18:08:55.712Z"
   },
   {
    "duration": 25,
    "start_time": "2022-08-14T18:09:02.094Z"
   },
   {
    "duration": 25,
    "start_time": "2022-08-14T18:09:05.797Z"
   },
   {
    "duration": 3,
    "start_time": "2022-08-14T18:09:11.426Z"
   },
   {
    "duration": 22,
    "start_time": "2022-08-14T18:09:17.788Z"
   },
   {
    "duration": 21,
    "start_time": "2022-08-14T18:09:24.249Z"
   },
   {
    "duration": 21,
    "start_time": "2022-08-14T18:09:43.261Z"
   },
   {
    "duration": 20,
    "start_time": "2022-08-14T18:09:47.862Z"
   },
   {
    "duration": 22,
    "start_time": "2022-08-14T18:09:51.860Z"
   },
   {
    "duration": 21,
    "start_time": "2022-08-14T18:09:55.390Z"
   },
   {
    "duration": 8,
    "start_time": "2022-08-14T18:10:08.672Z"
   },
   {
    "duration": 17,
    "start_time": "2022-08-14T18:10:21.574Z"
   },
   {
    "duration": 16,
    "start_time": "2022-08-14T18:10:24.642Z"
   },
   {
    "duration": 7,
    "start_time": "2022-08-14T18:13:16.933Z"
   },
   {
    "duration": 433,
    "start_time": "2022-08-29T15:29:12.936Z"
   },
   {
    "duration": 582,
    "start_time": "2022-08-29T15:29:13.371Z"
   },
   {
    "duration": 20,
    "start_time": "2022-08-29T15:29:13.955Z"
   },
   {
    "duration": 8,
    "start_time": "2022-08-29T15:29:13.978Z"
   },
   {
    "duration": 124,
    "start_time": "2022-08-29T15:29:13.988Z"
   },
   {
    "duration": 1,
    "start_time": "2022-08-29T15:29:14.115Z"
   },
   {
    "duration": 0,
    "start_time": "2022-08-29T15:29:14.118Z"
   },
   {
    "duration": 0,
    "start_time": "2022-08-29T15:29:14.119Z"
   },
   {
    "duration": 0,
    "start_time": "2022-08-29T15:29:14.120Z"
   },
   {
    "duration": 0,
    "start_time": "2022-08-29T15:29:14.122Z"
   },
   {
    "duration": 0,
    "start_time": "2022-08-29T15:29:14.123Z"
   },
   {
    "duration": 0,
    "start_time": "2022-08-29T15:29:14.124Z"
   },
   {
    "duration": 0,
    "start_time": "2022-08-29T15:29:14.126Z"
   },
   {
    "duration": 0,
    "start_time": "2022-08-29T15:29:14.127Z"
   },
   {
    "duration": 0,
    "start_time": "2022-08-29T15:29:14.128Z"
   },
   {
    "duration": 0,
    "start_time": "2022-08-29T15:29:14.130Z"
   },
   {
    "duration": 0,
    "start_time": "2022-08-29T15:29:14.131Z"
   },
   {
    "duration": 0,
    "start_time": "2022-08-29T15:29:14.132Z"
   },
   {
    "duration": 0,
    "start_time": "2022-08-29T15:29:14.133Z"
   },
   {
    "duration": 0,
    "start_time": "2022-08-29T15:29:14.134Z"
   },
   {
    "duration": 0,
    "start_time": "2022-08-29T15:29:14.135Z"
   },
   {
    "duration": 0,
    "start_time": "2022-08-29T15:29:14.137Z"
   },
   {
    "duration": 0,
    "start_time": "2022-08-29T15:29:14.138Z"
   },
   {
    "duration": 0,
    "start_time": "2022-08-29T15:29:14.139Z"
   },
   {
    "duration": 0,
    "start_time": "2022-08-29T15:29:14.142Z"
   },
   {
    "duration": 0,
    "start_time": "2022-08-29T15:29:14.143Z"
   },
   {
    "duration": 0,
    "start_time": "2022-08-29T15:29:14.144Z"
   },
   {
    "duration": 0,
    "start_time": "2022-08-29T15:29:14.145Z"
   },
   {
    "duration": 0,
    "start_time": "2022-08-29T15:29:14.147Z"
   },
   {
    "duration": 0,
    "start_time": "2022-08-29T15:29:14.149Z"
   },
   {
    "duration": 0,
    "start_time": "2022-08-29T15:29:14.150Z"
   },
   {
    "duration": 0,
    "start_time": "2022-08-29T15:29:14.152Z"
   },
   {
    "duration": 0,
    "start_time": "2022-08-29T15:29:14.153Z"
   },
   {
    "duration": 0,
    "start_time": "2022-08-29T15:29:14.192Z"
   },
   {
    "duration": 0,
    "start_time": "2022-08-29T15:29:14.193Z"
   },
   {
    "duration": 0,
    "start_time": "2022-08-29T15:29:14.194Z"
   },
   {
    "duration": 0,
    "start_time": "2022-08-29T15:29:14.194Z"
   },
   {
    "duration": 0,
    "start_time": "2022-08-29T15:29:14.195Z"
   },
   {
    "duration": 0,
    "start_time": "2022-08-29T15:29:14.196Z"
   },
   {
    "duration": 0,
    "start_time": "2022-08-29T15:29:14.197Z"
   },
   {
    "duration": 0,
    "start_time": "2022-08-29T15:29:14.198Z"
   },
   {
    "duration": 1470,
    "start_time": "2022-08-29T15:33:24.108Z"
   },
   {
    "duration": 1476,
    "start_time": "2022-08-29T15:34:17.639Z"
   },
   {
    "duration": 22,
    "start_time": "2022-08-29T15:34:28.464Z"
   },
   {
    "duration": 2,
    "start_time": "2022-08-29T15:34:39.736Z"
   },
   {
    "duration": 206,
    "start_time": "2022-08-29T15:34:39.740Z"
   },
   {
    "duration": 12,
    "start_time": "2022-08-29T15:34:39.947Z"
   },
   {
    "duration": 17,
    "start_time": "2022-08-29T15:34:39.960Z"
   },
   {
    "duration": 95,
    "start_time": "2022-08-29T15:34:39.995Z"
   },
   {
    "duration": 0,
    "start_time": "2022-08-29T15:34:40.094Z"
   },
   {
    "duration": 0,
    "start_time": "2022-08-29T15:34:40.095Z"
   },
   {
    "duration": 0,
    "start_time": "2022-08-29T15:34:40.095Z"
   },
   {
    "duration": 0,
    "start_time": "2022-08-29T15:34:40.096Z"
   },
   {
    "duration": 0,
    "start_time": "2022-08-29T15:34:40.097Z"
   },
   {
    "duration": 0,
    "start_time": "2022-08-29T15:34:40.100Z"
   },
   {
    "duration": 0,
    "start_time": "2022-08-29T15:34:40.100Z"
   },
   {
    "duration": 0,
    "start_time": "2022-08-29T15:34:40.101Z"
   },
   {
    "duration": 0,
    "start_time": "2022-08-29T15:34:40.102Z"
   },
   {
    "duration": 0,
    "start_time": "2022-08-29T15:34:40.103Z"
   },
   {
    "duration": 0,
    "start_time": "2022-08-29T15:34:40.104Z"
   },
   {
    "duration": 0,
    "start_time": "2022-08-29T15:34:40.104Z"
   },
   {
    "duration": 0,
    "start_time": "2022-08-29T15:34:40.105Z"
   },
   {
    "duration": 0,
    "start_time": "2022-08-29T15:34:40.106Z"
   },
   {
    "duration": 0,
    "start_time": "2022-08-29T15:34:40.109Z"
   },
   {
    "duration": 0,
    "start_time": "2022-08-29T15:34:40.113Z"
   },
   {
    "duration": 0,
    "start_time": "2022-08-29T15:34:40.114Z"
   },
   {
    "duration": 0,
    "start_time": "2022-08-29T15:34:40.116Z"
   },
   {
    "duration": 1,
    "start_time": "2022-08-29T15:34:40.117Z"
   },
   {
    "duration": 0,
    "start_time": "2022-08-29T15:34:40.119Z"
   },
   {
    "duration": 0,
    "start_time": "2022-08-29T15:34:40.119Z"
   },
   {
    "duration": 0,
    "start_time": "2022-08-29T15:34:40.120Z"
   },
   {
    "duration": 0,
    "start_time": "2022-08-29T15:34:40.121Z"
   },
   {
    "duration": 0,
    "start_time": "2022-08-29T15:34:40.122Z"
   },
   {
    "duration": 0,
    "start_time": "2022-08-29T15:34:40.123Z"
   },
   {
    "duration": 0,
    "start_time": "2022-08-29T15:34:40.124Z"
   },
   {
    "duration": 0,
    "start_time": "2022-08-29T15:34:40.124Z"
   },
   {
    "duration": 0,
    "start_time": "2022-08-29T15:34:40.126Z"
   },
   {
    "duration": 0,
    "start_time": "2022-08-29T15:34:40.127Z"
   },
   {
    "duration": 0,
    "start_time": "2022-08-29T15:34:40.128Z"
   },
   {
    "duration": 0,
    "start_time": "2022-08-29T15:34:40.129Z"
   },
   {
    "duration": 0,
    "start_time": "2022-08-29T15:34:40.130Z"
   },
   {
    "duration": 0,
    "start_time": "2022-08-29T15:34:40.131Z"
   },
   {
    "duration": 0,
    "start_time": "2022-08-29T15:34:40.132Z"
   },
   {
    "duration": 0,
    "start_time": "2022-08-29T15:34:40.133Z"
   },
   {
    "duration": 0,
    "start_time": "2022-08-29T15:34:40.134Z"
   },
   {
    "duration": 10,
    "start_time": "2022-08-29T15:35:14.313Z"
   },
   {
    "duration": 3206,
    "start_time": "2022-08-29T15:35:24.812Z"
   },
   {
    "duration": 4,
    "start_time": "2022-08-29T15:38:24.727Z"
   },
   {
    "duration": 1561,
    "start_time": "2022-08-29T15:38:31.283Z"
   },
   {
    "duration": 1631,
    "start_time": "2022-08-29T15:38:58.769Z"
   },
   {
    "duration": 1647,
    "start_time": "2022-08-29T15:39:13.992Z"
   },
   {
    "duration": 434,
    "start_time": "2022-09-05T07:18:04.179Z"
   },
   {
    "duration": 483,
    "start_time": "2022-09-05T07:18:09.705Z"
   },
   {
    "duration": 19,
    "start_time": "2022-09-05T07:18:12.822Z"
   },
   {
    "duration": 9,
    "start_time": "2022-09-05T07:18:23.799Z"
   },
   {
    "duration": 5,
    "start_time": "2022-09-05T07:20:01.972Z"
   },
   {
    "duration": 12,
    "start_time": "2022-09-05T07:20:45.679Z"
   },
   {
    "duration": 4,
    "start_time": "2022-09-05T07:20:51.135Z"
   },
   {
    "duration": 42,
    "start_time": "2022-09-05T07:21:08.146Z"
   },
   {
    "duration": 20,
    "start_time": "2022-09-05T07:21:15.660Z"
   },
   {
    "duration": 5,
    "start_time": "2022-09-05T07:21:30.156Z"
   },
   {
    "duration": 67,
    "start_time": "2022-09-05T07:34:18.156Z"
   },
   {
    "duration": 10,
    "start_time": "2022-09-05T07:34:51.050Z"
   },
   {
    "duration": 3,
    "start_time": "2022-09-05T07:35:50.769Z"
   },
   {
    "duration": 169,
    "start_time": "2022-09-05T07:35:55.267Z"
   },
   {
    "duration": 14,
    "start_time": "2022-09-05T07:35:58.800Z"
   },
   {
    "duration": 8,
    "start_time": "2022-09-05T07:36:04.779Z"
   },
   {
    "duration": 4,
    "start_time": "2022-09-05T07:36:15.434Z"
   },
   {
    "duration": 12,
    "start_time": "2022-09-05T07:36:26.340Z"
   },
   {
    "duration": 5,
    "start_time": "2022-09-05T07:36:30.406Z"
   },
   {
    "duration": 25,
    "start_time": "2022-09-05T07:36:34.658Z"
   },
   {
    "duration": 17,
    "start_time": "2022-09-05T07:36:41.925Z"
   },
   {
    "duration": 4,
    "start_time": "2022-09-05T07:36:46.364Z"
   },
   {
    "duration": 8,
    "start_time": "2022-09-05T07:36:53.020Z"
   },
   {
    "duration": 180,
    "start_time": "2022-09-05T07:38:10.399Z"
   },
   {
    "duration": 8,
    "start_time": "2022-09-05T07:38:29.147Z"
   },
   {
    "duration": 8,
    "start_time": "2022-09-05T07:38:43.673Z"
   },
   {
    "duration": 10,
    "start_time": "2022-09-05T07:40:17.566Z"
   },
   {
    "duration": 21,
    "start_time": "2022-09-05T09:39:02.312Z"
   },
   {
    "duration": 26,
    "start_time": "2022-09-05T09:43:25.728Z"
   },
   {
    "duration": 73,
    "start_time": "2022-09-05T09:43:35.245Z"
   },
   {
    "duration": 75,
    "start_time": "2022-09-05T09:43:41.584Z"
   },
   {
    "duration": 70,
    "start_time": "2022-09-05T09:43:45.894Z"
   },
   {
    "duration": 8,
    "start_time": "2022-09-05T09:43:53.916Z"
   },
   {
    "duration": 4,
    "start_time": "2022-09-05T09:44:01.798Z"
   },
   {
    "duration": 24,
    "start_time": "2022-09-05T09:44:06.101Z"
   },
   {
    "duration": 7,
    "start_time": "2022-09-05T09:47:04.758Z"
   },
   {
    "duration": 2464,
    "start_time": "2022-09-05T09:48:13.702Z"
   },
   {
    "duration": 8,
    "start_time": "2022-09-05T09:49:07.036Z"
   },
   {
    "duration": 8,
    "start_time": "2022-09-05T09:50:17.105Z"
   },
   {
    "duration": 8,
    "start_time": "2022-09-05T09:50:31.640Z"
   },
   {
    "duration": 7,
    "start_time": "2022-09-05T09:50:45.886Z"
   },
   {
    "duration": 3,
    "start_time": "2022-09-05T09:52:37.506Z"
   },
   {
    "duration": 33,
    "start_time": "2022-09-05T09:56:17.056Z"
   },
   {
    "duration": 3,
    "start_time": "2022-09-05T12:42:39.947Z"
   },
   {
    "duration": 203,
    "start_time": "2022-09-05T12:42:43.973Z"
   },
   {
    "duration": 11,
    "start_time": "2022-09-05T12:42:46.726Z"
   },
   {
    "duration": 11,
    "start_time": "2022-09-05T12:42:53.344Z"
   },
   {
    "duration": 5,
    "start_time": "2022-09-05T12:43:01.356Z"
   },
   {
    "duration": 7,
    "start_time": "2022-09-05T12:43:07.052Z"
   },
   {
    "duration": 4,
    "start_time": "2022-09-05T12:43:10.248Z"
   },
   {
    "duration": 34,
    "start_time": "2022-09-05T12:43:14.688Z"
   },
   {
    "duration": 14,
    "start_time": "2022-09-05T12:43:26.861Z"
   },
   {
    "duration": 5,
    "start_time": "2022-09-05T12:43:31.487Z"
   },
   {
    "duration": 28,
    "start_time": "2022-09-05T12:52:11.311Z"
   },
   {
    "duration": 116,
    "start_time": "2022-09-05T12:52:15.128Z"
   },
   {
    "duration": 115,
    "start_time": "2022-09-05T12:52:21.841Z"
   },
   {
    "duration": 99,
    "start_time": "2022-09-05T12:52:24.665Z"
   },
   {
    "duration": 8,
    "start_time": "2022-09-05T12:52:34.224Z"
   },
   {
    "duration": 19,
    "start_time": "2022-09-05T12:53:57.699Z"
   },
   {
    "duration": 10,
    "start_time": "2022-09-05T12:55:11.332Z"
   },
   {
    "duration": 10,
    "start_time": "2022-09-05T12:55:26.364Z"
   },
   {
    "duration": 4,
    "start_time": "2022-09-05T12:56:04.772Z"
   },
   {
    "duration": 25,
    "start_time": "2022-09-05T12:56:13.733Z"
   },
   {
    "duration": 26,
    "start_time": "2022-09-05T12:56:32.320Z"
   },
   {
    "duration": 26,
    "start_time": "2022-09-05T12:56:36.740Z"
   },
   {
    "duration": 32,
    "start_time": "2022-09-05T12:56:40.876Z"
   },
   {
    "duration": 26,
    "start_time": "2022-09-05T12:56:44.625Z"
   },
   {
    "duration": 10,
    "start_time": "2022-09-05T12:57:22.808Z"
   },
   {
    "duration": 25,
    "start_time": "2022-09-05T12:57:42.472Z"
   },
   {
    "duration": 63,
    "start_time": "2022-09-05T12:59:29.826Z"
   },
   {
    "duration": 6,
    "start_time": "2022-09-05T12:59:33.859Z"
   },
   {
    "duration": 9,
    "start_time": "2022-09-05T12:59:43.723Z"
   },
   {
    "duration": 9,
    "start_time": "2022-09-05T12:59:53.308Z"
   },
   {
    "duration": 10,
    "start_time": "2022-09-05T13:00:01.960Z"
   },
   {
    "duration": 7,
    "start_time": "2022-09-05T13:00:08.581Z"
   },
   {
    "duration": 33,
    "start_time": "2022-09-05T13:00:26.276Z"
   },
   {
    "duration": 7,
    "start_time": "2022-09-05T13:01:09.945Z"
   },
   {
    "duration": 7,
    "start_time": "2022-09-05T13:01:15.144Z"
   },
   {
    "duration": 9,
    "start_time": "2022-09-05T13:01:19.063Z"
   },
   {
    "duration": 8,
    "start_time": "2022-09-05T13:01:23.359Z"
   },
   {
    "duration": 68,
    "start_time": "2022-09-05T13:01:57.222Z"
   },
   {
    "duration": 5,
    "start_time": "2022-09-05T13:02:00.868Z"
   },
   {
    "duration": 33,
    "start_time": "2022-09-05T13:02:05.251Z"
   },
   {
    "duration": 4,
    "start_time": "2022-09-05T13:02:08.830Z"
   },
   {
    "duration": 10,
    "start_time": "2022-09-05T13:51:40.388Z"
   },
   {
    "duration": 2,
    "start_time": "2022-09-05T13:52:09.883Z"
   },
   {
    "duration": 185,
    "start_time": "2022-09-05T13:52:09.888Z"
   },
   {
    "duration": 15,
    "start_time": "2022-09-05T13:52:10.076Z"
   },
   {
    "duration": 13,
    "start_time": "2022-09-05T13:52:10.093Z"
   },
   {
    "duration": 7,
    "start_time": "2022-09-05T13:52:10.108Z"
   },
   {
    "duration": 10,
    "start_time": "2022-09-05T13:52:10.117Z"
   },
   {
    "duration": 5,
    "start_time": "2022-09-05T13:52:10.129Z"
   },
   {
    "duration": 27,
    "start_time": "2022-09-05T13:52:10.135Z"
   },
   {
    "duration": 14,
    "start_time": "2022-09-05T13:52:10.191Z"
   },
   {
    "duration": 4,
    "start_time": "2022-09-05T13:52:10.207Z"
   },
   {
    "duration": 29,
    "start_time": "2022-09-05T13:52:10.214Z"
   },
   {
    "duration": 52,
    "start_time": "2022-09-05T13:52:10.245Z"
   },
   {
    "duration": 78,
    "start_time": "2022-09-05T13:52:10.299Z"
   },
   {
    "duration": 81,
    "start_time": "2022-09-05T13:52:10.392Z"
   },
   {
    "duration": 68,
    "start_time": "2022-09-05T13:52:10.475Z"
   },
   {
    "duration": 8,
    "start_time": "2022-09-05T13:52:10.545Z"
   },
   {
    "duration": 6,
    "start_time": "2022-09-05T13:52:10.555Z"
   },
   {
    "duration": 41,
    "start_time": "2022-09-05T13:52:10.563Z"
   },
   {
    "duration": 68,
    "start_time": "2022-09-05T13:52:10.606Z"
   },
   {
    "duration": 0,
    "start_time": "2022-09-05T13:52:10.676Z"
   },
   {
    "duration": 0,
    "start_time": "2022-09-05T13:52:10.678Z"
   },
   {
    "duration": 0,
    "start_time": "2022-09-05T13:52:10.680Z"
   },
   {
    "duration": 0,
    "start_time": "2022-09-05T13:52:10.682Z"
   },
   {
    "duration": 0,
    "start_time": "2022-09-05T13:52:10.683Z"
   },
   {
    "duration": 0,
    "start_time": "2022-09-05T13:52:10.684Z"
   },
   {
    "duration": 0,
    "start_time": "2022-09-05T13:52:10.686Z"
   },
   {
    "duration": 0,
    "start_time": "2022-09-05T13:52:10.688Z"
   },
   {
    "duration": 0,
    "start_time": "2022-09-05T13:52:10.689Z"
   },
   {
    "duration": 0,
    "start_time": "2022-09-05T13:52:10.691Z"
   },
   {
    "duration": 0,
    "start_time": "2022-09-05T13:52:10.693Z"
   },
   {
    "duration": 0,
    "start_time": "2022-09-05T13:52:10.694Z"
   },
   {
    "duration": 0,
    "start_time": "2022-09-05T13:52:10.696Z"
   },
   {
    "duration": 0,
    "start_time": "2022-09-05T13:52:10.697Z"
   },
   {
    "duration": 0,
    "start_time": "2022-09-05T13:52:10.699Z"
   },
   {
    "duration": 0,
    "start_time": "2022-09-05T13:52:10.700Z"
   },
   {
    "duration": 0,
    "start_time": "2022-09-05T13:52:10.701Z"
   },
   {
    "duration": 0,
    "start_time": "2022-09-05T13:52:10.702Z"
   },
   {
    "duration": 0,
    "start_time": "2022-09-05T13:52:10.704Z"
   },
   {
    "duration": 0,
    "start_time": "2022-09-05T13:52:10.705Z"
   },
   {
    "duration": 0,
    "start_time": "2022-09-05T13:52:10.707Z"
   },
   {
    "duration": 6,
    "start_time": "2022-09-05T14:29:40.370Z"
   },
   {
    "duration": 8,
    "start_time": "2022-09-05T14:31:32.134Z"
   },
   {
    "duration": 8,
    "start_time": "2022-09-05T14:35:17.413Z"
   },
   {
    "duration": 7,
    "start_time": "2022-09-05T14:35:23.666Z"
   },
   {
    "duration": 7,
    "start_time": "2022-09-05T14:35:28.156Z"
   },
   {
    "duration": 10,
    "start_time": "2022-09-05T14:45:25.765Z"
   },
   {
    "duration": 5,
    "start_time": "2022-09-05T14:45:29.407Z"
   },
   {
    "duration": 61,
    "start_time": "2022-09-05T14:45:55.690Z"
   },
   {
    "duration": 5,
    "start_time": "2022-09-05T14:45:58.699Z"
   },
   {
    "duration": 8,
    "start_time": "2022-09-05T14:46:23.131Z"
   },
   {
    "duration": 4,
    "start_time": "2022-09-05T14:46:32.476Z"
   },
   {
    "duration": 6,
    "start_time": "2022-09-05T14:57:07.669Z"
   },
   {
    "duration": 81,
    "start_time": "2022-09-05T15:18:32.560Z"
   },
   {
    "duration": 137,
    "start_time": "2022-09-05T15:20:25.486Z"
   },
   {
    "duration": 5,
    "start_time": "2022-09-05T15:20:35.229Z"
   },
   {
    "duration": 6,
    "start_time": "2022-09-05T15:22:54.042Z"
   },
   {
    "duration": 7,
    "start_time": "2022-09-05T15:23:25.621Z"
   },
   {
    "duration": 5,
    "start_time": "2022-09-05T15:28:08.263Z"
   },
   {
    "duration": 8,
    "start_time": "2022-09-05T15:28:13.913Z"
   },
   {
    "duration": 8,
    "start_time": "2022-09-05T15:28:19.915Z"
   },
   {
    "duration": 7,
    "start_time": "2022-09-05T15:28:23.423Z"
   },
   {
    "duration": 7,
    "start_time": "2022-09-05T15:28:27.741Z"
   },
   {
    "duration": 9,
    "start_time": "2022-09-05T15:28:44.750Z"
   },
   {
    "duration": 7,
    "start_time": "2022-09-05T15:34:58.760Z"
   },
   {
    "duration": 9,
    "start_time": "2022-09-05T15:35:03.588Z"
   },
   {
    "duration": 446,
    "start_time": "2022-09-07T05:38:32.962Z"
   },
   {
    "duration": 517,
    "start_time": "2022-09-07T05:38:33.411Z"
   },
   {
    "duration": 19,
    "start_time": "2022-09-07T05:38:33.930Z"
   },
   {
    "duration": 12,
    "start_time": "2022-09-07T05:38:33.952Z"
   },
   {
    "duration": 30,
    "start_time": "2022-09-07T05:38:33.967Z"
   },
   {
    "duration": 31,
    "start_time": "2022-09-07T05:38:34.003Z"
   },
   {
    "duration": 8,
    "start_time": "2022-09-07T05:38:34.036Z"
   },
   {
    "duration": 31,
    "start_time": "2022-09-07T05:38:34.045Z"
   },
   {
    "duration": 34,
    "start_time": "2022-09-07T05:38:34.078Z"
   },
   {
    "duration": 11,
    "start_time": "2022-09-07T05:38:34.114Z"
   },
   {
    "duration": 19,
    "start_time": "2022-09-07T05:38:34.127Z"
   },
   {
    "duration": 26,
    "start_time": "2022-09-07T05:38:34.147Z"
   },
   {
    "duration": 80,
    "start_time": "2022-09-07T05:38:34.175Z"
   },
   {
    "duration": 97,
    "start_time": "2022-09-07T05:38:34.258Z"
   },
   {
    "duration": 75,
    "start_time": "2022-09-07T05:38:34.357Z"
   },
   {
    "duration": 9,
    "start_time": "2022-09-07T05:38:34.433Z"
   },
   {
    "duration": 20,
    "start_time": "2022-09-07T05:38:34.443Z"
   },
   {
    "duration": 41,
    "start_time": "2022-09-07T05:38:34.465Z"
   },
   {
    "duration": 77,
    "start_time": "2022-09-07T05:38:34.508Z"
   },
   {
    "duration": 0,
    "start_time": "2022-09-07T05:38:34.587Z"
   },
   {
    "duration": 0,
    "start_time": "2022-09-07T05:38:34.589Z"
   },
   {
    "duration": 0,
    "start_time": "2022-09-07T05:38:34.590Z"
   },
   {
    "duration": 0,
    "start_time": "2022-09-07T05:38:34.591Z"
   },
   {
    "duration": 0,
    "start_time": "2022-09-07T05:38:34.592Z"
   },
   {
    "duration": 0,
    "start_time": "2022-09-07T05:38:34.593Z"
   },
   {
    "duration": 0,
    "start_time": "2022-09-07T05:38:34.595Z"
   },
   {
    "duration": 0,
    "start_time": "2022-09-07T05:38:34.595Z"
   },
   {
    "duration": 1,
    "start_time": "2022-09-07T05:38:34.598Z"
   },
   {
    "duration": 0,
    "start_time": "2022-09-07T05:38:34.601Z"
   },
   {
    "duration": 0,
    "start_time": "2022-09-07T05:38:34.601Z"
   },
   {
    "duration": 0,
    "start_time": "2022-09-07T05:38:34.602Z"
   },
   {
    "duration": 0,
    "start_time": "2022-09-07T05:38:34.603Z"
   },
   {
    "duration": 0,
    "start_time": "2022-09-07T05:38:34.604Z"
   },
   {
    "duration": 0,
    "start_time": "2022-09-07T05:38:34.614Z"
   },
   {
    "duration": 0,
    "start_time": "2022-09-07T05:38:34.615Z"
   },
   {
    "duration": 0,
    "start_time": "2022-09-07T05:38:34.616Z"
   },
   {
    "duration": 0,
    "start_time": "2022-09-07T05:38:34.617Z"
   },
   {
    "duration": 0,
    "start_time": "2022-09-07T05:38:34.618Z"
   },
   {
    "duration": 0,
    "start_time": "2022-09-07T05:38:34.619Z"
   },
   {
    "duration": 0,
    "start_time": "2022-09-07T05:38:34.620Z"
   },
   {
    "duration": 9,
    "start_time": "2022-09-07T05:38:57.965Z"
   },
   {
    "duration": 450,
    "start_time": "2022-09-07T05:39:04.408Z"
   },
   {
    "duration": 199,
    "start_time": "2022-09-07T05:39:04.860Z"
   },
   {
    "duration": 18,
    "start_time": "2022-09-07T05:39:05.061Z"
   },
   {
    "duration": 38,
    "start_time": "2022-09-07T05:39:05.081Z"
   },
   {
    "duration": 15,
    "start_time": "2022-09-07T05:39:05.122Z"
   },
   {
    "duration": 20,
    "start_time": "2022-09-07T05:39:05.139Z"
   },
   {
    "duration": 13,
    "start_time": "2022-09-07T05:39:05.160Z"
   },
   {
    "duration": 52,
    "start_time": "2022-09-07T05:39:05.175Z"
   },
   {
    "duration": 18,
    "start_time": "2022-09-07T05:39:05.229Z"
   },
   {
    "duration": 8,
    "start_time": "2022-09-07T05:39:05.249Z"
   },
   {
    "duration": 51,
    "start_time": "2022-09-07T05:39:05.259Z"
   },
   {
    "duration": 27,
    "start_time": "2022-09-07T05:39:05.312Z"
   },
   {
    "duration": 99,
    "start_time": "2022-09-07T05:39:05.341Z"
   },
   {
    "duration": 97,
    "start_time": "2022-09-07T05:39:05.445Z"
   },
   {
    "duration": 84,
    "start_time": "2022-09-07T05:39:05.544Z"
   },
   {
    "duration": 10,
    "start_time": "2022-09-07T05:39:05.630Z"
   },
   {
    "duration": 15,
    "start_time": "2022-09-07T05:39:05.643Z"
   },
   {
    "duration": 58,
    "start_time": "2022-09-07T05:39:05.660Z"
   },
   {
    "duration": 16,
    "start_time": "2022-09-07T05:39:05.720Z"
   },
   {
    "duration": 41,
    "start_time": "2022-09-07T05:39:05.738Z"
   },
   {
    "duration": 55,
    "start_time": "2022-09-07T05:39:05.780Z"
   },
   {
    "duration": 6,
    "start_time": "2022-09-07T05:39:05.837Z"
   },
   {
    "duration": 36,
    "start_time": "2022-09-07T05:39:05.845Z"
   },
   {
    "duration": 32,
    "start_time": "2022-09-07T05:39:05.894Z"
   },
   {
    "duration": 44,
    "start_time": "2022-09-07T05:39:05.928Z"
   },
   {
    "duration": 42,
    "start_time": "2022-09-07T05:39:05.993Z"
   },
   {
    "duration": 39,
    "start_time": "2022-09-07T05:39:06.037Z"
   },
   {
    "duration": 53,
    "start_time": "2022-09-07T05:39:06.078Z"
   },
   {
    "duration": 13,
    "start_time": "2022-09-07T05:39:06.133Z"
   },
   {
    "duration": 65,
    "start_time": "2022-09-07T05:39:06.148Z"
   },
   {
    "duration": 32,
    "start_time": "2022-09-07T05:39:06.216Z"
   },
   {
    "duration": 6,
    "start_time": "2022-09-07T05:39:06.250Z"
   },
   {
    "duration": 16,
    "start_time": "2022-09-07T05:39:06.258Z"
   },
   {
    "duration": 17,
    "start_time": "2022-09-07T05:39:06.276Z"
   },
   {
    "duration": 34,
    "start_time": "2022-09-07T05:39:06.295Z"
   },
   {
    "duration": 14,
    "start_time": "2022-09-07T05:39:06.331Z"
   },
   {
    "duration": 16,
    "start_time": "2022-09-07T05:39:06.347Z"
   },
   {
    "duration": 11,
    "start_time": "2022-09-07T05:39:06.365Z"
   },
   {
    "duration": 10,
    "start_time": "2022-09-07T05:39:06.379Z"
   },
   {
    "duration": 31,
    "start_time": "2022-09-07T05:39:06.394Z"
   }
  ],
  "celltoolbar": "Raw Cell Format",
  "colab": {
   "collapsed_sections": [
    "E0vqbgi9ay0H",
    "VUC88oWjTJw2",
    "atZAxtq4_Zcu"
   ],
   "name": "EmptyFinalProject.ipynb\"",
   "provenance": []
  },
  "kernelspec": {
   "display_name": "Python 3 (ipykernel)",
   "language": "python",
   "name": "python3"
  },
  "language_info": {
   "codemirror_mode": {
    "name": "ipython",
    "version": 3
   },
   "file_extension": ".py",
   "mimetype": "text/x-python",
   "name": "python",
   "nbconvert_exporter": "python",
   "pygments_lexer": "ipython3",
   "version": "3.9.12"
  },
  "toc": {
   "base_numbering": 1,
   "nav_menu": {},
   "number_sections": true,
   "sideBar": true,
   "skip_h1_title": true,
   "title_cell": "Table of Contents",
   "title_sidebar": "Contents",
   "toc_cell": false,
   "toc_position": {},
   "toc_section_display": true,
   "toc_window_display": true
  }
 },
 "nbformat": 4,
 "nbformat_minor": 4
}
