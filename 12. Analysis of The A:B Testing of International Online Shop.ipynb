{
 "cells": [
  {
   "cell_type": "markdown",
   "metadata": {},
   "source": [
    "# Pendahuluan \n",
    "\n",
    "- Melanjutkan pekerjaan analysis yang di tinggal pada toko daring internasional. Secara teknis pekerjaan yang di lakukan adalah A/B testing, dimana user yang di kumpulkan pada dataset selama 14 hari dari 2020-12-07 sampai 2020-12-21. 15 percent dari user yang ada pada dataset ada tinggal di Uni Eropa, dimana secara keseluruhan user dari seluruh dunia. "
   ]
  },
  {
   "cell_type": "markdown",
   "metadata": {},
   "source": [
    "# Rincian Penelitian \n",
    "\n",
    "- User di kumpulkan pada  2020-12-07 sampai 2020-12-21.\n",
    "- Tanggal berakhirnya eksperimen: 01-01-2021.\n",
    "- 15 % dari user yang ada pada dataset ada tinggal di Uni Eropa.\n",
    "- Hasil yang diharapkan: dalam kurun waktu 14 hari setelah pendaftaran, para pengguna menunjukkan peningkatan dalam hal konversi ke tayangan halaman produk (peristiwa atau event product_page), aktivitas penambahan item ke keranjang belanja (product_cart), dan pembelian (purchase). Pada setiap tahapan corong product_page → product_cart → purchase, minimal akan ada peningkatan sebesar 10%.\n",
    "- Jumlah user sebgai eksperimen A/B yang diharapkan: 6.000"
   ]
  },
  {
   "cell_type": "markdown",
   "metadata": {},
   "source": [
    "# Tujuan Penelitian \n",
    "\n",
    "- Mencari tau hasil dari A/B testing dari ekploratotri data analysis dan Dataset terdahulu, yang mungkin sudah pernah mengalami perubahan\n",
    "- Hal ini di lakukan karena ini merupakan kelanjutan dari analysis yang sudah pernah di jalankan \n",
    "- Persebaran data yang sudah di lakukan apakah telah memberikan hasil"
   ]
  },
  {
   "cell_type": "markdown",
   "metadata": {},
   "source": [
    "## Ikhtisar data \n"
   ]
  },
  {
   "cell_type": "code",
   "execution_count": 1,
   "metadata": {},
   "outputs": [],
   "source": [
    "import pandas as pd\n",
    "import numpy as np\n",
    "import seaborn as sns\n",
    "from matplotlib import pyplot as plt\n",
    "import scipy.stats as stats\n",
    "import math as mth\n",
    "import warnings\n",
    "warnings.filterwarnings('ignore')"
   ]
  },
  {
   "cell_type": "code",
   "execution_count": 2,
   "metadata": {},
   "outputs": [],
   "source": [
    "df1_m_events = pd.read_csv('/datasets/ab_project_marketing_events_us.csv')"
   ]
  },
  {
   "cell_type": "code",
   "execution_count": 3,
   "metadata": {},
   "outputs": [
    {
     "data": {
      "text/html": [
       "<div>\n",
       "<style scoped>\n",
       "    .dataframe tbody tr th:only-of-type {\n",
       "        vertical-align: middle;\n",
       "    }\n",
       "\n",
       "    .dataframe tbody tr th {\n",
       "        vertical-align: top;\n",
       "    }\n",
       "\n",
       "    .dataframe thead th {\n",
       "        text-align: right;\n",
       "    }\n",
       "</style>\n",
       "<table border=\"1\" class=\"dataframe\">\n",
       "  <thead>\n",
       "    <tr style=\"text-align: right;\">\n",
       "      <th></th>\n",
       "      <th>name</th>\n",
       "      <th>regions</th>\n",
       "      <th>start_dt</th>\n",
       "      <th>finish_dt</th>\n",
       "    </tr>\n",
       "  </thead>\n",
       "  <tbody>\n",
       "    <tr>\n",
       "      <th>0</th>\n",
       "      <td>Christmas&amp;New Year Promo</td>\n",
       "      <td>EU, N.America</td>\n",
       "      <td>2020-12-25</td>\n",
       "      <td>2021-01-03</td>\n",
       "    </tr>\n",
       "    <tr>\n",
       "      <th>1</th>\n",
       "      <td>St. Valentine's Day Giveaway</td>\n",
       "      <td>EU, CIS, APAC, N.America</td>\n",
       "      <td>2020-02-14</td>\n",
       "      <td>2020-02-16</td>\n",
       "    </tr>\n",
       "    <tr>\n",
       "      <th>2</th>\n",
       "      <td>St. Patric's Day Promo</td>\n",
       "      <td>EU, N.America</td>\n",
       "      <td>2020-03-17</td>\n",
       "      <td>2020-03-19</td>\n",
       "    </tr>\n",
       "    <tr>\n",
       "      <th>3</th>\n",
       "      <td>Easter Promo</td>\n",
       "      <td>EU, CIS, APAC, N.America</td>\n",
       "      <td>2020-04-12</td>\n",
       "      <td>2020-04-19</td>\n",
       "    </tr>\n",
       "    <tr>\n",
       "      <th>4</th>\n",
       "      <td>4th of July Promo</td>\n",
       "      <td>N.America</td>\n",
       "      <td>2020-07-04</td>\n",
       "      <td>2020-07-11</td>\n",
       "    </tr>\n",
       "    <tr>\n",
       "      <th>5</th>\n",
       "      <td>Black Friday Ads Campaign</td>\n",
       "      <td>EU, CIS, APAC, N.America</td>\n",
       "      <td>2020-11-26</td>\n",
       "      <td>2020-12-01</td>\n",
       "    </tr>\n",
       "    <tr>\n",
       "      <th>6</th>\n",
       "      <td>Chinese New Year Promo</td>\n",
       "      <td>APAC</td>\n",
       "      <td>2020-01-25</td>\n",
       "      <td>2020-02-07</td>\n",
       "    </tr>\n",
       "    <tr>\n",
       "      <th>7</th>\n",
       "      <td>Labor day (May 1st) Ads Campaign</td>\n",
       "      <td>EU, CIS, APAC</td>\n",
       "      <td>2020-05-01</td>\n",
       "      <td>2020-05-03</td>\n",
       "    </tr>\n",
       "    <tr>\n",
       "      <th>8</th>\n",
       "      <td>International Women's Day Promo</td>\n",
       "      <td>EU, CIS, APAC</td>\n",
       "      <td>2020-03-08</td>\n",
       "      <td>2020-03-10</td>\n",
       "    </tr>\n",
       "    <tr>\n",
       "      <th>9</th>\n",
       "      <td>Victory Day CIS (May 9th) Event</td>\n",
       "      <td>CIS</td>\n",
       "      <td>2020-05-09</td>\n",
       "      <td>2020-05-11</td>\n",
       "    </tr>\n",
       "  </tbody>\n",
       "</table>\n",
       "</div>"
      ],
      "text/plain": [
       "                               name                   regions    start_dt  \\\n",
       "0          Christmas&New Year Promo             EU, N.America  2020-12-25   \n",
       "1      St. Valentine's Day Giveaway  EU, CIS, APAC, N.America  2020-02-14   \n",
       "2            St. Patric's Day Promo             EU, N.America  2020-03-17   \n",
       "3                      Easter Promo  EU, CIS, APAC, N.America  2020-04-12   \n",
       "4                 4th of July Promo                 N.America  2020-07-04   \n",
       "5         Black Friday Ads Campaign  EU, CIS, APAC, N.America  2020-11-26   \n",
       "6            Chinese New Year Promo                      APAC  2020-01-25   \n",
       "7  Labor day (May 1st) Ads Campaign             EU, CIS, APAC  2020-05-01   \n",
       "8   International Women's Day Promo             EU, CIS, APAC  2020-03-08   \n",
       "9   Victory Day CIS (May 9th) Event                       CIS  2020-05-09   \n",
       "\n",
       "    finish_dt  \n",
       "0  2021-01-03  \n",
       "1  2020-02-16  \n",
       "2  2020-03-19  \n",
       "3  2020-04-19  \n",
       "4  2020-07-11  \n",
       "5  2020-12-01  \n",
       "6  2020-02-07  \n",
       "7  2020-05-03  \n",
       "8  2020-03-10  \n",
       "9  2020-05-11  "
      ]
     },
     "execution_count": 3,
     "metadata": {},
     "output_type": "execute_result"
    }
   ],
   "source": [
    "df1_m_events.head(10)"
   ]
  },
  {
   "cell_type": "code",
   "execution_count": 4,
   "metadata": {},
   "outputs": [
    {
     "name": "stdout",
     "output_type": "stream",
     "text": [
      "<class 'pandas.core.frame.DataFrame'>\n",
      "RangeIndex: 14 entries, 0 to 13\n",
      "Data columns (total 4 columns):\n",
      " #   Column     Non-Null Count  Dtype \n",
      "---  ------     --------------  ----- \n",
      " 0   name       14 non-null     object\n",
      " 1   regions    14 non-null     object\n",
      " 2   start_dt   14 non-null     object\n",
      " 3   finish_dt  14 non-null     object\n",
      "dtypes: object(4)\n",
      "memory usage: 576.0+ bytes\n"
     ]
    }
   ],
   "source": [
    "df1_m_events.info()"
   ]
  },
  {
   "cell_type": "code",
   "execution_count": 5,
   "metadata": {},
   "outputs": [],
   "source": [
    "df2_newu = pd.read_csv('/datasets/final_ab_new_users_upd_us.csv')"
   ]
  },
  {
   "cell_type": "code",
   "execution_count": 6,
   "metadata": {},
   "outputs": [
    {
     "data": {
      "text/html": [
       "<div>\n",
       "<style scoped>\n",
       "    .dataframe tbody tr th:only-of-type {\n",
       "        vertical-align: middle;\n",
       "    }\n",
       "\n",
       "    .dataframe tbody tr th {\n",
       "        vertical-align: top;\n",
       "    }\n",
       "\n",
       "    .dataframe thead th {\n",
       "        text-align: right;\n",
       "    }\n",
       "</style>\n",
       "<table border=\"1\" class=\"dataframe\">\n",
       "  <thead>\n",
       "    <tr style=\"text-align: right;\">\n",
       "      <th></th>\n",
       "      <th>user_id</th>\n",
       "      <th>first_date</th>\n",
       "      <th>region</th>\n",
       "      <th>device</th>\n",
       "    </tr>\n",
       "  </thead>\n",
       "  <tbody>\n",
       "    <tr>\n",
       "      <th>0</th>\n",
       "      <td>D72A72121175D8BE</td>\n",
       "      <td>2020-12-07</td>\n",
       "      <td>EU</td>\n",
       "      <td>PC</td>\n",
       "    </tr>\n",
       "    <tr>\n",
       "      <th>1</th>\n",
       "      <td>F1C668619DFE6E65</td>\n",
       "      <td>2020-12-07</td>\n",
       "      <td>N.America</td>\n",
       "      <td>Android</td>\n",
       "    </tr>\n",
       "    <tr>\n",
       "      <th>2</th>\n",
       "      <td>2E1BF1D4C37EA01F</td>\n",
       "      <td>2020-12-07</td>\n",
       "      <td>EU</td>\n",
       "      <td>PC</td>\n",
       "    </tr>\n",
       "    <tr>\n",
       "      <th>3</th>\n",
       "      <td>50734A22C0C63768</td>\n",
       "      <td>2020-12-07</td>\n",
       "      <td>EU</td>\n",
       "      <td>iPhone</td>\n",
       "    </tr>\n",
       "    <tr>\n",
       "      <th>4</th>\n",
       "      <td>E1BDDCE0DAFA2679</td>\n",
       "      <td>2020-12-07</td>\n",
       "      <td>N.America</td>\n",
       "      <td>iPhone</td>\n",
       "    </tr>\n",
       "    <tr>\n",
       "      <th>5</th>\n",
       "      <td>137119F5A9E69421</td>\n",
       "      <td>2020-12-07</td>\n",
       "      <td>N.America</td>\n",
       "      <td>iPhone</td>\n",
       "    </tr>\n",
       "    <tr>\n",
       "      <th>6</th>\n",
       "      <td>62F0C741CC42D0CC</td>\n",
       "      <td>2020-12-07</td>\n",
       "      <td>APAC</td>\n",
       "      <td>iPhone</td>\n",
       "    </tr>\n",
       "    <tr>\n",
       "      <th>7</th>\n",
       "      <td>8942E64218C9A1ED</td>\n",
       "      <td>2020-12-07</td>\n",
       "      <td>EU</td>\n",
       "      <td>PC</td>\n",
       "    </tr>\n",
       "    <tr>\n",
       "      <th>8</th>\n",
       "      <td>499AFACF904BBAE3</td>\n",
       "      <td>2020-12-07</td>\n",
       "      <td>N.America</td>\n",
       "      <td>iPhone</td>\n",
       "    </tr>\n",
       "    <tr>\n",
       "      <th>9</th>\n",
       "      <td>FFCEA1179C253104</td>\n",
       "      <td>2020-12-07</td>\n",
       "      <td>EU</td>\n",
       "      <td>Android</td>\n",
       "    </tr>\n",
       "  </tbody>\n",
       "</table>\n",
       "</div>"
      ],
      "text/plain": [
       "            user_id  first_date     region   device\n",
       "0  D72A72121175D8BE  2020-12-07         EU       PC\n",
       "1  F1C668619DFE6E65  2020-12-07  N.America  Android\n",
       "2  2E1BF1D4C37EA01F  2020-12-07         EU       PC\n",
       "3  50734A22C0C63768  2020-12-07         EU   iPhone\n",
       "4  E1BDDCE0DAFA2679  2020-12-07  N.America   iPhone\n",
       "5  137119F5A9E69421  2020-12-07  N.America   iPhone\n",
       "6  62F0C741CC42D0CC  2020-12-07       APAC   iPhone\n",
       "7  8942E64218C9A1ED  2020-12-07         EU       PC\n",
       "8  499AFACF904BBAE3  2020-12-07  N.America   iPhone\n",
       "9  FFCEA1179C253104  2020-12-07         EU  Android"
      ]
     },
     "execution_count": 6,
     "metadata": {},
     "output_type": "execute_result"
    }
   ],
   "source": [
    "df2_newu.head(10)"
   ]
  },
  {
   "cell_type": "code",
   "execution_count": 7,
   "metadata": {},
   "outputs": [
    {
     "name": "stdout",
     "output_type": "stream",
     "text": [
      "<class 'pandas.core.frame.DataFrame'>\n",
      "RangeIndex: 58703 entries, 0 to 58702\n",
      "Data columns (total 4 columns):\n",
      " #   Column      Non-Null Count  Dtype \n",
      "---  ------      --------------  ----- \n",
      " 0   user_id     58703 non-null  object\n",
      " 1   first_date  58703 non-null  object\n",
      " 2   region      58703 non-null  object\n",
      " 3   device      58703 non-null  object\n",
      "dtypes: object(4)\n",
      "memory usage: 1.8+ MB\n"
     ]
    }
   ],
   "source": [
    "df2_newu.info()"
   ]
  },
  {
   "cell_type": "code",
   "execution_count": 8,
   "metadata": {},
   "outputs": [],
   "source": [
    "df3_events = pd.read_csv('/datasets/final_ab_events_upd_us.csv')"
   ]
  },
  {
   "cell_type": "code",
   "execution_count": 9,
   "metadata": {},
   "outputs": [
    {
     "data": {
      "text/html": [
       "<div>\n",
       "<style scoped>\n",
       "    .dataframe tbody tr th:only-of-type {\n",
       "        vertical-align: middle;\n",
       "    }\n",
       "\n",
       "    .dataframe tbody tr th {\n",
       "        vertical-align: top;\n",
       "    }\n",
       "\n",
       "    .dataframe thead th {\n",
       "        text-align: right;\n",
       "    }\n",
       "</style>\n",
       "<table border=\"1\" class=\"dataframe\">\n",
       "  <thead>\n",
       "    <tr style=\"text-align: right;\">\n",
       "      <th></th>\n",
       "      <th>user_id</th>\n",
       "      <th>event_dt</th>\n",
       "      <th>event_name</th>\n",
       "      <th>details</th>\n",
       "    </tr>\n",
       "  </thead>\n",
       "  <tbody>\n",
       "    <tr>\n",
       "      <th>0</th>\n",
       "      <td>E1BDDCE0DAFA2679</td>\n",
       "      <td>2020-12-07 20:22:03</td>\n",
       "      <td>purchase</td>\n",
       "      <td>99.99</td>\n",
       "    </tr>\n",
       "    <tr>\n",
       "      <th>1</th>\n",
       "      <td>7B6452F081F49504</td>\n",
       "      <td>2020-12-07 09:22:53</td>\n",
       "      <td>purchase</td>\n",
       "      <td>9.99</td>\n",
       "    </tr>\n",
       "    <tr>\n",
       "      <th>2</th>\n",
       "      <td>9CD9F34546DF254C</td>\n",
       "      <td>2020-12-07 12:59:29</td>\n",
       "      <td>purchase</td>\n",
       "      <td>4.99</td>\n",
       "    </tr>\n",
       "    <tr>\n",
       "      <th>3</th>\n",
       "      <td>96F27A054B191457</td>\n",
       "      <td>2020-12-07 04:02:40</td>\n",
       "      <td>purchase</td>\n",
       "      <td>4.99</td>\n",
       "    </tr>\n",
       "    <tr>\n",
       "      <th>4</th>\n",
       "      <td>1FD7660FDF94CA1F</td>\n",
       "      <td>2020-12-07 10:15:09</td>\n",
       "      <td>purchase</td>\n",
       "      <td>4.99</td>\n",
       "    </tr>\n",
       "    <tr>\n",
       "      <th>5</th>\n",
       "      <td>831887FE7F2D6CBA</td>\n",
       "      <td>2020-12-07 06:50:29</td>\n",
       "      <td>purchase</td>\n",
       "      <td>4.99</td>\n",
       "    </tr>\n",
       "    <tr>\n",
       "      <th>6</th>\n",
       "      <td>6B2F726BFD5F8220</td>\n",
       "      <td>2020-12-07 11:27:42</td>\n",
       "      <td>purchase</td>\n",
       "      <td>4.99</td>\n",
       "    </tr>\n",
       "    <tr>\n",
       "      <th>7</th>\n",
       "      <td>BEB37715AACF53B0</td>\n",
       "      <td>2020-12-07 04:26:15</td>\n",
       "      <td>purchase</td>\n",
       "      <td>4.99</td>\n",
       "    </tr>\n",
       "    <tr>\n",
       "      <th>8</th>\n",
       "      <td>B5FA27F582227197</td>\n",
       "      <td>2020-12-07 01:46:37</td>\n",
       "      <td>purchase</td>\n",
       "      <td>4.99</td>\n",
       "    </tr>\n",
       "    <tr>\n",
       "      <th>9</th>\n",
       "      <td>A92195E3CFB83DBD</td>\n",
       "      <td>2020-12-07 00:32:07</td>\n",
       "      <td>purchase</td>\n",
       "      <td>4.99</td>\n",
       "    </tr>\n",
       "  </tbody>\n",
       "</table>\n",
       "</div>"
      ],
      "text/plain": [
       "            user_id             event_dt event_name  details\n",
       "0  E1BDDCE0DAFA2679  2020-12-07 20:22:03   purchase    99.99\n",
       "1  7B6452F081F49504  2020-12-07 09:22:53   purchase     9.99\n",
       "2  9CD9F34546DF254C  2020-12-07 12:59:29   purchase     4.99\n",
       "3  96F27A054B191457  2020-12-07 04:02:40   purchase     4.99\n",
       "4  1FD7660FDF94CA1F  2020-12-07 10:15:09   purchase     4.99\n",
       "5  831887FE7F2D6CBA  2020-12-07 06:50:29   purchase     4.99\n",
       "6  6B2F726BFD5F8220  2020-12-07 11:27:42   purchase     4.99\n",
       "7  BEB37715AACF53B0  2020-12-07 04:26:15   purchase     4.99\n",
       "8  B5FA27F582227197  2020-12-07 01:46:37   purchase     4.99\n",
       "9  A92195E3CFB83DBD  2020-12-07 00:32:07   purchase     4.99"
      ]
     },
     "execution_count": 9,
     "metadata": {},
     "output_type": "execute_result"
    }
   ],
   "source": [
    "df3_events.head(10)"
   ]
  },
  {
   "cell_type": "code",
   "execution_count": 10,
   "metadata": {},
   "outputs": [
    {
     "name": "stdout",
     "output_type": "stream",
     "text": [
      "<class 'pandas.core.frame.DataFrame'>\n",
      "RangeIndex: 423761 entries, 0 to 423760\n",
      "Data columns (total 4 columns):\n",
      " #   Column      Non-Null Count   Dtype  \n",
      "---  ------      --------------   -----  \n",
      " 0   user_id     423761 non-null  object \n",
      " 1   event_dt    423761 non-null  object \n",
      " 2   event_name  423761 non-null  object \n",
      " 3   details     60314 non-null   float64\n",
      "dtypes: float64(1), object(3)\n",
      "memory usage: 12.9+ MB\n"
     ]
    }
   ],
   "source": [
    "df3_events.info()"
   ]
  },
  {
   "cell_type": "code",
   "execution_count": 11,
   "metadata": {},
   "outputs": [
    {
     "data": {
      "text/html": [
       "<div>\n",
       "<style scoped>\n",
       "    .dataframe tbody tr th:only-of-type {\n",
       "        vertical-align: middle;\n",
       "    }\n",
       "\n",
       "    .dataframe tbody tr th {\n",
       "        vertical-align: top;\n",
       "    }\n",
       "\n",
       "    .dataframe thead th {\n",
       "        text-align: right;\n",
       "    }\n",
       "</style>\n",
       "<table border=\"1\" class=\"dataframe\">\n",
       "  <thead>\n",
       "    <tr style=\"text-align: right;\">\n",
       "      <th></th>\n",
       "      <th>user_id</th>\n",
       "      <th>event_dt</th>\n",
       "      <th>event_name</th>\n",
       "      <th>details</th>\n",
       "    </tr>\n",
       "  </thead>\n",
       "  <tbody>\n",
       "    <tr>\n",
       "      <th>369544</th>\n",
       "      <td>63DAFFC2269C55E8</td>\n",
       "      <td>2020-12-21 20:48:24</td>\n",
       "      <td>login</td>\n",
       "      <td>NaN</td>\n",
       "    </tr>\n",
       "    <tr>\n",
       "      <th>10225</th>\n",
       "      <td>E7E95BA6DA8B75F7</td>\n",
       "      <td>2020-12-12 15:44:44</td>\n",
       "      <td>purchase</td>\n",
       "      <td>4.99</td>\n",
       "    </tr>\n",
       "    <tr>\n",
       "      <th>185309</th>\n",
       "      <td>540EE1E4700A79C3</td>\n",
       "      <td>2020-12-19 08:54:47</td>\n",
       "      <td>product_page</td>\n",
       "      <td>NaN</td>\n",
       "    </tr>\n",
       "    <tr>\n",
       "      <th>217536</th>\n",
       "      <td>C2A58362E9C70DA8</td>\n",
       "      <td>2020-12-23 04:23:25</td>\n",
       "      <td>product_page</td>\n",
       "      <td>NaN</td>\n",
       "    </tr>\n",
       "    <tr>\n",
       "      <th>284210</th>\n",
       "      <td>311CAEF5CF3B4559</td>\n",
       "      <td>2020-12-13 05:09:08</td>\n",
       "      <td>login</td>\n",
       "      <td>NaN</td>\n",
       "    </tr>\n",
       "    <tr>\n",
       "      <th>...</th>\n",
       "      <td>...</td>\n",
       "      <td>...</td>\n",
       "      <td>...</td>\n",
       "      <td>...</td>\n",
       "    </tr>\n",
       "    <tr>\n",
       "      <th>347558</th>\n",
       "      <td>1F6BE14591736FAA</td>\n",
       "      <td>2020-12-20 10:19:44</td>\n",
       "      <td>login</td>\n",
       "      <td>NaN</td>\n",
       "    </tr>\n",
       "    <tr>\n",
       "      <th>229018</th>\n",
       "      <td>1F6BF8CC526389FF</td>\n",
       "      <td>2020-12-26 12:40:25</td>\n",
       "      <td>product_page</td>\n",
       "      <td>NaN</td>\n",
       "    </tr>\n",
       "    <tr>\n",
       "      <th>416569</th>\n",
       "      <td>B8C7AFAA80D5D7FF</td>\n",
       "      <td>2020-12-28 06:24:30</td>\n",
       "      <td>login</td>\n",
       "      <td>NaN</td>\n",
       "    </tr>\n",
       "    <tr>\n",
       "      <th>107411</th>\n",
       "      <td>9AEA6AA3E750B570</td>\n",
       "      <td>2020-12-23 16:52:58</td>\n",
       "      <td>product_cart</td>\n",
       "      <td>NaN</td>\n",
       "    </tr>\n",
       "    <tr>\n",
       "      <th>391747</th>\n",
       "      <td>6988AC54587CF502</td>\n",
       "      <td>2020-12-23 22:33:56</td>\n",
       "      <td>login</td>\n",
       "      <td>NaN</td>\n",
       "    </tr>\n",
       "  </tbody>\n",
       "</table>\n",
       "<p>254257 rows × 4 columns</p>\n",
       "</div>"
      ],
      "text/plain": [
       "                 user_id             event_dt    event_name  details\n",
       "369544  63DAFFC2269C55E8  2020-12-21 20:48:24         login      NaN\n",
       "10225   E7E95BA6DA8B75F7  2020-12-12 15:44:44      purchase     4.99\n",
       "185309  540EE1E4700A79C3  2020-12-19 08:54:47  product_page      NaN\n",
       "217536  C2A58362E9C70DA8  2020-12-23 04:23:25  product_page      NaN\n",
       "284210  311CAEF5CF3B4559  2020-12-13 05:09:08         login      NaN\n",
       "...                  ...                  ...           ...      ...\n",
       "347558  1F6BE14591736FAA  2020-12-20 10:19:44         login      NaN\n",
       "229018  1F6BF8CC526389FF  2020-12-26 12:40:25  product_page      NaN\n",
       "416569  B8C7AFAA80D5D7FF  2020-12-28 06:24:30         login      NaN\n",
       "107411  9AEA6AA3E750B570  2020-12-23 16:52:58  product_cart      NaN\n",
       "391747  6988AC54587CF502  2020-12-23 22:33:56         login      NaN\n",
       "\n",
       "[254257 rows x 4 columns]"
      ]
     },
     "execution_count": 11,
     "metadata": {},
     "output_type": "execute_result"
    }
   ],
   "source": [
    "df3_events.sample(frac=0.6)"
   ]
  },
  {
   "cell_type": "code",
   "execution_count": 12,
   "metadata": {},
   "outputs": [],
   "source": [
    "df4_participant = pd.read_csv('/datasets/final_ab_participants_upd_us.csv')"
   ]
  },
  {
   "cell_type": "code",
   "execution_count": 13,
   "metadata": {},
   "outputs": [
    {
     "data": {
      "text/html": [
       "<div>\n",
       "<style scoped>\n",
       "    .dataframe tbody tr th:only-of-type {\n",
       "        vertical-align: middle;\n",
       "    }\n",
       "\n",
       "    .dataframe tbody tr th {\n",
       "        vertical-align: top;\n",
       "    }\n",
       "\n",
       "    .dataframe thead th {\n",
       "        text-align: right;\n",
       "    }\n",
       "</style>\n",
       "<table border=\"1\" class=\"dataframe\">\n",
       "  <thead>\n",
       "    <tr style=\"text-align: right;\">\n",
       "      <th></th>\n",
       "      <th>user_id</th>\n",
       "      <th>group</th>\n",
       "      <th>ab_test</th>\n",
       "    </tr>\n",
       "  </thead>\n",
       "  <tbody>\n",
       "    <tr>\n",
       "      <th>0</th>\n",
       "      <td>D1ABA3E2887B6A73</td>\n",
       "      <td>A</td>\n",
       "      <td>recommender_system_test</td>\n",
       "    </tr>\n",
       "    <tr>\n",
       "      <th>1</th>\n",
       "      <td>A7A3664BD6242119</td>\n",
       "      <td>A</td>\n",
       "      <td>recommender_system_test</td>\n",
       "    </tr>\n",
       "    <tr>\n",
       "      <th>2</th>\n",
       "      <td>DABC14FDDFADD29E</td>\n",
       "      <td>A</td>\n",
       "      <td>recommender_system_test</td>\n",
       "    </tr>\n",
       "    <tr>\n",
       "      <th>3</th>\n",
       "      <td>04988C5DF189632E</td>\n",
       "      <td>A</td>\n",
       "      <td>recommender_system_test</td>\n",
       "    </tr>\n",
       "    <tr>\n",
       "      <th>4</th>\n",
       "      <td>4FF2998A348C484F</td>\n",
       "      <td>A</td>\n",
       "      <td>recommender_system_test</td>\n",
       "    </tr>\n",
       "    <tr>\n",
       "      <th>5</th>\n",
       "      <td>7473E0943673C09E</td>\n",
       "      <td>A</td>\n",
       "      <td>recommender_system_test</td>\n",
       "    </tr>\n",
       "    <tr>\n",
       "      <th>6</th>\n",
       "      <td>C46FE336D240A054</td>\n",
       "      <td>A</td>\n",
       "      <td>recommender_system_test</td>\n",
       "    </tr>\n",
       "    <tr>\n",
       "      <th>7</th>\n",
       "      <td>92CB588012C10D3D</td>\n",
       "      <td>A</td>\n",
       "      <td>recommender_system_test</td>\n",
       "    </tr>\n",
       "    <tr>\n",
       "      <th>8</th>\n",
       "      <td>B3A2485649E4A012</td>\n",
       "      <td>A</td>\n",
       "      <td>recommender_system_test</td>\n",
       "    </tr>\n",
       "    <tr>\n",
       "      <th>9</th>\n",
       "      <td>66FC298441D50783</td>\n",
       "      <td>A</td>\n",
       "      <td>recommender_system_test</td>\n",
       "    </tr>\n",
       "  </tbody>\n",
       "</table>\n",
       "</div>"
      ],
      "text/plain": [
       "            user_id group                  ab_test\n",
       "0  D1ABA3E2887B6A73     A  recommender_system_test\n",
       "1  A7A3664BD6242119     A  recommender_system_test\n",
       "2  DABC14FDDFADD29E     A  recommender_system_test\n",
       "3  04988C5DF189632E     A  recommender_system_test\n",
       "4  4FF2998A348C484F     A  recommender_system_test\n",
       "5  7473E0943673C09E     A  recommender_system_test\n",
       "6  C46FE336D240A054     A  recommender_system_test\n",
       "7  92CB588012C10D3D     A  recommender_system_test\n",
       "8  B3A2485649E4A012     A  recommender_system_test\n",
       "9  66FC298441D50783     A  recommender_system_test"
      ]
     },
     "execution_count": 13,
     "metadata": {},
     "output_type": "execute_result"
    }
   ],
   "source": [
    "df4_participant.head(10)"
   ]
  },
  {
   "cell_type": "code",
   "execution_count": 14,
   "metadata": {},
   "outputs": [
    {
     "name": "stdout",
     "output_type": "stream",
     "text": [
      "<class 'pandas.core.frame.DataFrame'>\n",
      "RangeIndex: 14525 entries, 0 to 14524\n",
      "Data columns (total 3 columns):\n",
      " #   Column   Non-Null Count  Dtype \n",
      "---  ------   --------------  ----- \n",
      " 0   user_id  14525 non-null  object\n",
      " 1   group    14525 non-null  object\n",
      " 2   ab_test  14525 non-null  object\n",
      "dtypes: object(3)\n",
      "memory usage: 340.6+ KB\n"
     ]
    }
   ],
   "source": [
    "df4_participant.info()"
   ]
  },
  {
   "cell_type": "code",
   "execution_count": 15,
   "metadata": {},
   "outputs": [
    {
     "data": {
      "text/html": [
       "<div>\n",
       "<style scoped>\n",
       "    .dataframe tbody tr th:only-of-type {\n",
       "        vertical-align: middle;\n",
       "    }\n",
       "\n",
       "    .dataframe tbody tr th {\n",
       "        vertical-align: top;\n",
       "    }\n",
       "\n",
       "    .dataframe thead th {\n",
       "        text-align: right;\n",
       "    }\n",
       "</style>\n",
       "<table border=\"1\" class=\"dataframe\">\n",
       "  <thead>\n",
       "    <tr style=\"text-align: right;\">\n",
       "      <th></th>\n",
       "      <th>user_id</th>\n",
       "      <th>group</th>\n",
       "      <th>ab_test</th>\n",
       "    </tr>\n",
       "  </thead>\n",
       "  <tbody>\n",
       "    <tr>\n",
       "      <th>12542</th>\n",
       "      <td>3F93F5595A4EE673</td>\n",
       "      <td>B</td>\n",
       "      <td>interface_eu_test</td>\n",
       "    </tr>\n",
       "    <tr>\n",
       "      <th>9273</th>\n",
       "      <td>A0851310010B30D4</td>\n",
       "      <td>B</td>\n",
       "      <td>interface_eu_test</td>\n",
       "    </tr>\n",
       "    <tr>\n",
       "      <th>8579</th>\n",
       "      <td>9146FC2CDEC4CC24</td>\n",
       "      <td>A</td>\n",
       "      <td>interface_eu_test</td>\n",
       "    </tr>\n",
       "    <tr>\n",
       "      <th>5416</th>\n",
       "      <td>E693F7D38AB29B7E</td>\n",
       "      <td>A</td>\n",
       "      <td>interface_eu_test</td>\n",
       "    </tr>\n",
       "    <tr>\n",
       "      <th>1935</th>\n",
       "      <td>A25712EE46AD443A</td>\n",
       "      <td>A</td>\n",
       "      <td>recommender_system_test</td>\n",
       "    </tr>\n",
       "    <tr>\n",
       "      <th>...</th>\n",
       "      <td>...</td>\n",
       "      <td>...</td>\n",
       "      <td>...</td>\n",
       "    </tr>\n",
       "    <tr>\n",
       "      <th>12694</th>\n",
       "      <td>8936ADBF14CDE24B</td>\n",
       "      <td>B</td>\n",
       "      <td>interface_eu_test</td>\n",
       "    </tr>\n",
       "    <tr>\n",
       "      <th>3893</th>\n",
       "      <td>58CE1DA8D74F6D32</td>\n",
       "      <td>A</td>\n",
       "      <td>interface_eu_test</td>\n",
       "    </tr>\n",
       "    <tr>\n",
       "      <th>13077</th>\n",
       "      <td>59C51424645FE4ED</td>\n",
       "      <td>A</td>\n",
       "      <td>interface_eu_test</td>\n",
       "    </tr>\n",
       "    <tr>\n",
       "      <th>12135</th>\n",
       "      <td>B577E808B532A57A</td>\n",
       "      <td>A</td>\n",
       "      <td>interface_eu_test</td>\n",
       "    </tr>\n",
       "    <tr>\n",
       "      <th>11863</th>\n",
       "      <td>05762136CAF57B9C</td>\n",
       "      <td>A</td>\n",
       "      <td>interface_eu_test</td>\n",
       "    </tr>\n",
       "  </tbody>\n",
       "</table>\n",
       "<p>10168 rows × 3 columns</p>\n",
       "</div>"
      ],
      "text/plain": [
       "                user_id group                  ab_test\n",
       "12542  3F93F5595A4EE673     B        interface_eu_test\n",
       "9273   A0851310010B30D4     B        interface_eu_test\n",
       "8579   9146FC2CDEC4CC24     A        interface_eu_test\n",
       "5416   E693F7D38AB29B7E     A        interface_eu_test\n",
       "1935   A25712EE46AD443A     A  recommender_system_test\n",
       "...                 ...   ...                      ...\n",
       "12694  8936ADBF14CDE24B     B        interface_eu_test\n",
       "3893   58CE1DA8D74F6D32     A        interface_eu_test\n",
       "13077  59C51424645FE4ED     A        interface_eu_test\n",
       "12135  B577E808B532A57A     A        interface_eu_test\n",
       "11863  05762136CAF57B9C     A        interface_eu_test\n",
       "\n",
       "[10168 rows x 3 columns]"
      ]
     },
     "execution_count": 15,
     "metadata": {},
     "output_type": "execute_result"
    }
   ],
   "source": [
    "df4_participant.sample(frac=0.7)"
   ]
  },
  {
   "cell_type": "markdown",
   "metadata": {},
   "source": [
    "#### Kesimpulan Awal\n",
    "- Dari 4 dataset, data 3 memiliki nilai yang hilang \n",
    "- Pada dataset 3 nilai yang hilang, jika di lihat sekilas ada pada user yang hanya  berkunjung ke toko daring dimana kemungkina tidak melakukan pembelian pada kunjungan pertama \n"
   ]
  },
  {
   "cell_type": "markdown",
   "metadata": {},
   "source": [
    "## Pra Proses Data"
   ]
  },
  {
   "cell_type": "markdown",
   "metadata": {},
   "source": [
    "### Memproses nilai NaN"
   ]
  },
  {
   "cell_type": "code",
   "execution_count": 16,
   "metadata": {},
   "outputs": [
    {
     "data": {
      "text/plain": [
       "4.99      44579\n",
       "9.99       9158\n",
       "99.99      5405\n",
       "499.99     1172\n",
       "Name: details, dtype: int64"
      ]
     },
     "execution_count": 16,
     "metadata": {},
     "output_type": "execute_result"
    }
   ],
   "source": [
    "df3_events['details'].value_counts()"
   ]
  },
  {
   "cell_type": "code",
   "execution_count": 17,
   "metadata": {},
   "outputs": [
    {
     "data": {
      "text/html": [
       "<div>\n",
       "<style scoped>\n",
       "    .dataframe tbody tr th:only-of-type {\n",
       "        vertical-align: middle;\n",
       "    }\n",
       "\n",
       "    .dataframe tbody tr th {\n",
       "        vertical-align: top;\n",
       "    }\n",
       "\n",
       "    .dataframe thead th {\n",
       "        text-align: right;\n",
       "    }\n",
       "</style>\n",
       "<table border=\"1\" class=\"dataframe\">\n",
       "  <thead>\n",
       "    <tr style=\"text-align: right;\">\n",
       "      <th></th>\n",
       "      <th>user_id</th>\n",
       "      <th>event_dt</th>\n",
       "      <th>event_name</th>\n",
       "      <th>details</th>\n",
       "    </tr>\n",
       "  </thead>\n",
       "  <tbody>\n",
       "    <tr>\n",
       "      <th>60314</th>\n",
       "      <td>2E1BF1D4C37EA01F</td>\n",
       "      <td>2020-12-07 09:05:47</td>\n",
       "      <td>product_cart</td>\n",
       "      <td>NaN</td>\n",
       "    </tr>\n",
       "    <tr>\n",
       "      <th>60315</th>\n",
       "      <td>50734A22C0C63768</td>\n",
       "      <td>2020-12-07 13:24:03</td>\n",
       "      <td>product_cart</td>\n",
       "      <td>NaN</td>\n",
       "    </tr>\n",
       "    <tr>\n",
       "      <th>60316</th>\n",
       "      <td>5EB159DA9DC94DBA</td>\n",
       "      <td>2020-12-07 22:54:02</td>\n",
       "      <td>product_cart</td>\n",
       "      <td>NaN</td>\n",
       "    </tr>\n",
       "    <tr>\n",
       "      <th>60317</th>\n",
       "      <td>084A22B980BA8169</td>\n",
       "      <td>2020-12-07 15:25:55</td>\n",
       "      <td>product_cart</td>\n",
       "      <td>NaN</td>\n",
       "    </tr>\n",
       "    <tr>\n",
       "      <th>60318</th>\n",
       "      <td>0FC21E6F8FAA8DEC</td>\n",
       "      <td>2020-12-07 06:56:27</td>\n",
       "      <td>product_cart</td>\n",
       "      <td>NaN</td>\n",
       "    </tr>\n",
       "    <tr>\n",
       "      <th>...</th>\n",
       "      <td>...</td>\n",
       "      <td>...</td>\n",
       "      <td>...</td>\n",
       "      <td>...</td>\n",
       "    </tr>\n",
       "    <tr>\n",
       "      <th>423756</th>\n",
       "      <td>245E85F65C358E08</td>\n",
       "      <td>2020-12-30 19:35:55</td>\n",
       "      <td>login</td>\n",
       "      <td>NaN</td>\n",
       "    </tr>\n",
       "    <tr>\n",
       "      <th>423757</th>\n",
       "      <td>9385A108F5A0A7A7</td>\n",
       "      <td>2020-12-30 10:54:15</td>\n",
       "      <td>login</td>\n",
       "      <td>NaN</td>\n",
       "    </tr>\n",
       "    <tr>\n",
       "      <th>423758</th>\n",
       "      <td>DB650B7559AC6EAC</td>\n",
       "      <td>2020-12-30 10:59:09</td>\n",
       "      <td>login</td>\n",
       "      <td>NaN</td>\n",
       "    </tr>\n",
       "    <tr>\n",
       "      <th>423759</th>\n",
       "      <td>F80C9BDDEA02E53C</td>\n",
       "      <td>2020-12-30 09:53:39</td>\n",
       "      <td>login</td>\n",
       "      <td>NaN</td>\n",
       "    </tr>\n",
       "    <tr>\n",
       "      <th>423760</th>\n",
       "      <td>7AEC61159B672CC5</td>\n",
       "      <td>2020-12-30 11:36:13</td>\n",
       "      <td>login</td>\n",
       "      <td>NaN</td>\n",
       "    </tr>\n",
       "  </tbody>\n",
       "</table>\n",
       "<p>363447 rows × 4 columns</p>\n",
       "</div>"
      ],
      "text/plain": [
       "                 user_id             event_dt    event_name  details\n",
       "60314   2E1BF1D4C37EA01F  2020-12-07 09:05:47  product_cart      NaN\n",
       "60315   50734A22C0C63768  2020-12-07 13:24:03  product_cart      NaN\n",
       "60316   5EB159DA9DC94DBA  2020-12-07 22:54:02  product_cart      NaN\n",
       "60317   084A22B980BA8169  2020-12-07 15:25:55  product_cart      NaN\n",
       "60318   0FC21E6F8FAA8DEC  2020-12-07 06:56:27  product_cart      NaN\n",
       "...                  ...                  ...           ...      ...\n",
       "423756  245E85F65C358E08  2020-12-30 19:35:55         login      NaN\n",
       "423757  9385A108F5A0A7A7  2020-12-30 10:54:15         login      NaN\n",
       "423758  DB650B7559AC6EAC  2020-12-30 10:59:09         login      NaN\n",
       "423759  F80C9BDDEA02E53C  2020-12-30 09:53:39         login      NaN\n",
       "423760  7AEC61159B672CC5  2020-12-30 11:36:13         login      NaN\n",
       "\n",
       "[363447 rows x 4 columns]"
      ]
     },
     "execution_count": 17,
     "metadata": {},
     "output_type": "execute_result"
    }
   ],
   "source": [
    "df3_events.loc[df3_events['details'].isna()]"
   ]
  },
  {
   "cell_type": "code",
   "execution_count": 18,
   "metadata": {},
   "outputs": [
    {
     "data": {
      "text/plain": [
       "login           182465\n",
       "product_page    120862\n",
       "purchase         60314\n",
       "product_cart     60120\n",
       "Name: event_name, dtype: int64"
      ]
     },
     "execution_count": 18,
     "metadata": {},
     "output_type": "execute_result"
    }
   ],
   "source": [
    "df3_events['event_name'].value_counts(dropna=False)"
   ]
  },
  {
   "cell_type": "markdown",
   "metadata": {},
   "source": [
    "#### Kesimpulan awal 2\n",
    "- Pada dataset 3 terdapat 363447 nilai NaN, yang terdapat pada tanggal 2020-12-07 sampai 2020-12-21\n",
    "- Dari dataset yang tersedia, nilai nan tidak perlu di ganti, NaN sebagai penanda user tidak melakukan pembelian"
   ]
  },
  {
   "cell_type": "markdown",
   "metadata": {},
   "source": [
    "### Penggabungan table dan penggunaan datetime"
   ]
  },
  {
   "cell_type": "code",
   "execution_count": 19,
   "metadata": {},
   "outputs": [],
   "source": [
    "from datetime import datetime, timedelta"
   ]
  },
  {
   "cell_type": "code",
   "execution_count": 20,
   "metadata": {},
   "outputs": [
    {
     "data": {
      "text/html": [
       "<div>\n",
       "<style scoped>\n",
       "    .dataframe tbody tr th:only-of-type {\n",
       "        vertical-align: middle;\n",
       "    }\n",
       "\n",
       "    .dataframe tbody tr th {\n",
       "        vertical-align: top;\n",
       "    }\n",
       "\n",
       "    .dataframe thead th {\n",
       "        text-align: right;\n",
       "    }\n",
       "</style>\n",
       "<table border=\"1\" class=\"dataframe\">\n",
       "  <thead>\n",
       "    <tr style=\"text-align: right;\">\n",
       "      <th></th>\n",
       "      <th>user_id</th>\n",
       "      <th>first_date</th>\n",
       "      <th>region</th>\n",
       "      <th>device</th>\n",
       "    </tr>\n",
       "  </thead>\n",
       "  <tbody>\n",
       "    <tr>\n",
       "      <th>0</th>\n",
       "      <td>D72A72121175D8BE</td>\n",
       "      <td>2020-12-07</td>\n",
       "      <td>EU</td>\n",
       "      <td>PC</td>\n",
       "    </tr>\n",
       "    <tr>\n",
       "      <th>1</th>\n",
       "      <td>F1C668619DFE6E65</td>\n",
       "      <td>2020-12-07</td>\n",
       "      <td>N.America</td>\n",
       "      <td>Android</td>\n",
       "    </tr>\n",
       "    <tr>\n",
       "      <th>2</th>\n",
       "      <td>2E1BF1D4C37EA01F</td>\n",
       "      <td>2020-12-07</td>\n",
       "      <td>EU</td>\n",
       "      <td>PC</td>\n",
       "    </tr>\n",
       "    <tr>\n",
       "      <th>3</th>\n",
       "      <td>50734A22C0C63768</td>\n",
       "      <td>2020-12-07</td>\n",
       "      <td>EU</td>\n",
       "      <td>iPhone</td>\n",
       "    </tr>\n",
       "    <tr>\n",
       "      <th>4</th>\n",
       "      <td>E1BDDCE0DAFA2679</td>\n",
       "      <td>2020-12-07</td>\n",
       "      <td>N.America</td>\n",
       "      <td>iPhone</td>\n",
       "    </tr>\n",
       "  </tbody>\n",
       "</table>\n",
       "</div>"
      ],
      "text/plain": [
       "            user_id  first_date     region   device\n",
       "0  D72A72121175D8BE  2020-12-07         EU       PC\n",
       "1  F1C668619DFE6E65  2020-12-07  N.America  Android\n",
       "2  2E1BF1D4C37EA01F  2020-12-07         EU       PC\n",
       "3  50734A22C0C63768  2020-12-07         EU   iPhone\n",
       "4  E1BDDCE0DAFA2679  2020-12-07  N.America   iPhone"
      ]
     },
     "execution_count": 20,
     "metadata": {},
     "output_type": "execute_result"
    }
   ],
   "source": [
    "df2_newu.head()"
   ]
  },
  {
   "cell_type": "markdown",
   "metadata": {},
   "source": [
    "### Memembuat variable baru untuk user baru yang mendaftar pada tanggal 7 sampai 21 december 2020"
   ]
  },
  {
   "cell_type": "code",
   "execution_count": 21,
   "metadata": {},
   "outputs": [],
   "source": [
    "new_user = df2_newu.merge(df4_participant,on ='user_id', how ='left')"
   ]
  },
  {
   "cell_type": "code",
   "execution_count": 22,
   "metadata": {},
   "outputs": [
    {
     "data": {
      "text/html": [
       "<div>\n",
       "<style scoped>\n",
       "    .dataframe tbody tr th:only-of-type {\n",
       "        vertical-align: middle;\n",
       "    }\n",
       "\n",
       "    .dataframe tbody tr th {\n",
       "        vertical-align: top;\n",
       "    }\n",
       "\n",
       "    .dataframe thead th {\n",
       "        text-align: right;\n",
       "    }\n",
       "</style>\n",
       "<table border=\"1\" class=\"dataframe\">\n",
       "  <thead>\n",
       "    <tr style=\"text-align: right;\">\n",
       "      <th></th>\n",
       "      <th>user_id</th>\n",
       "      <th>first_date</th>\n",
       "      <th>region</th>\n",
       "      <th>device</th>\n",
       "      <th>group</th>\n",
       "      <th>ab_test</th>\n",
       "    </tr>\n",
       "  </thead>\n",
       "  <tbody>\n",
       "    <tr>\n",
       "      <th>0</th>\n",
       "      <td>D72A72121175D8BE</td>\n",
       "      <td>2020-12-07</td>\n",
       "      <td>EU</td>\n",
       "      <td>PC</td>\n",
       "      <td>A</td>\n",
       "      <td>recommender_system_test</td>\n",
       "    </tr>\n",
       "    <tr>\n",
       "      <th>1</th>\n",
       "      <td>F1C668619DFE6E65</td>\n",
       "      <td>2020-12-07</td>\n",
       "      <td>N.America</td>\n",
       "      <td>Android</td>\n",
       "      <td>NaN</td>\n",
       "      <td>NaN</td>\n",
       "    </tr>\n",
       "    <tr>\n",
       "      <th>2</th>\n",
       "      <td>2E1BF1D4C37EA01F</td>\n",
       "      <td>2020-12-07</td>\n",
       "      <td>EU</td>\n",
       "      <td>PC</td>\n",
       "      <td>A</td>\n",
       "      <td>interface_eu_test</td>\n",
       "    </tr>\n",
       "    <tr>\n",
       "      <th>3</th>\n",
       "      <td>50734A22C0C63768</td>\n",
       "      <td>2020-12-07</td>\n",
       "      <td>EU</td>\n",
       "      <td>iPhone</td>\n",
       "      <td>B</td>\n",
       "      <td>interface_eu_test</td>\n",
       "    </tr>\n",
       "    <tr>\n",
       "      <th>4</th>\n",
       "      <td>E1BDDCE0DAFA2679</td>\n",
       "      <td>2020-12-07</td>\n",
       "      <td>N.America</td>\n",
       "      <td>iPhone</td>\n",
       "      <td>NaN</td>\n",
       "      <td>NaN</td>\n",
       "    </tr>\n",
       "  </tbody>\n",
       "</table>\n",
       "</div>"
      ],
      "text/plain": [
       "            user_id  first_date     region   device group  \\\n",
       "0  D72A72121175D8BE  2020-12-07         EU       PC     A   \n",
       "1  F1C668619DFE6E65  2020-12-07  N.America  Android   NaN   \n",
       "2  2E1BF1D4C37EA01F  2020-12-07         EU       PC     A   \n",
       "3  50734A22C0C63768  2020-12-07         EU   iPhone     B   \n",
       "4  E1BDDCE0DAFA2679  2020-12-07  N.America   iPhone   NaN   \n",
       "\n",
       "                   ab_test  \n",
       "0  recommender_system_test  \n",
       "1                      NaN  \n",
       "2        interface_eu_test  \n",
       "3        interface_eu_test  \n",
       "4                      NaN  "
      ]
     },
     "execution_count": 22,
     "metadata": {},
     "output_type": "execute_result"
    }
   ],
   "source": [
    "new_user.head()"
   ]
  },
  {
   "cell_type": "code",
   "execution_count": 23,
   "metadata": {},
   "outputs": [],
   "source": [
    "new_user['first_date'] = pd.to_datetime(new_user['first_date'])"
   ]
  },
  {
   "cell_type": "code",
   "execution_count": 24,
   "metadata": {},
   "outputs": [
    {
     "data": {
      "text/html": [
       "<div>\n",
       "<style scoped>\n",
       "    .dataframe tbody tr th:only-of-type {\n",
       "        vertical-align: middle;\n",
       "    }\n",
       "\n",
       "    .dataframe tbody tr th {\n",
       "        vertical-align: top;\n",
       "    }\n",
       "\n",
       "    .dataframe thead th {\n",
       "        text-align: right;\n",
       "    }\n",
       "</style>\n",
       "<table border=\"1\" class=\"dataframe\">\n",
       "  <thead>\n",
       "    <tr style=\"text-align: right;\">\n",
       "      <th></th>\n",
       "      <th>user_id</th>\n",
       "      <th>first_date</th>\n",
       "      <th>region</th>\n",
       "      <th>device</th>\n",
       "      <th>group</th>\n",
       "      <th>ab_test</th>\n",
       "    </tr>\n",
       "  </thead>\n",
       "  <tbody>\n",
       "    <tr>\n",
       "      <th>0</th>\n",
       "      <td>D72A72121175D8BE</td>\n",
       "      <td>2020-12-07</td>\n",
       "      <td>EU</td>\n",
       "      <td>PC</td>\n",
       "      <td>A</td>\n",
       "      <td>recommender_system_test</td>\n",
       "    </tr>\n",
       "    <tr>\n",
       "      <th>1</th>\n",
       "      <td>F1C668619DFE6E65</td>\n",
       "      <td>2020-12-07</td>\n",
       "      <td>N.America</td>\n",
       "      <td>Android</td>\n",
       "      <td>NaN</td>\n",
       "      <td>NaN</td>\n",
       "    </tr>\n",
       "    <tr>\n",
       "      <th>2</th>\n",
       "      <td>2E1BF1D4C37EA01F</td>\n",
       "      <td>2020-12-07</td>\n",
       "      <td>EU</td>\n",
       "      <td>PC</td>\n",
       "      <td>A</td>\n",
       "      <td>interface_eu_test</td>\n",
       "    </tr>\n",
       "    <tr>\n",
       "      <th>3</th>\n",
       "      <td>50734A22C0C63768</td>\n",
       "      <td>2020-12-07</td>\n",
       "      <td>EU</td>\n",
       "      <td>iPhone</td>\n",
       "      <td>B</td>\n",
       "      <td>interface_eu_test</td>\n",
       "    </tr>\n",
       "    <tr>\n",
       "      <th>4</th>\n",
       "      <td>E1BDDCE0DAFA2679</td>\n",
       "      <td>2020-12-07</td>\n",
       "      <td>N.America</td>\n",
       "      <td>iPhone</td>\n",
       "      <td>NaN</td>\n",
       "      <td>NaN</td>\n",
       "    </tr>\n",
       "  </tbody>\n",
       "</table>\n",
       "</div>"
      ],
      "text/plain": [
       "            user_id first_date     region   device group  \\\n",
       "0  D72A72121175D8BE 2020-12-07         EU       PC     A   \n",
       "1  F1C668619DFE6E65 2020-12-07  N.America  Android   NaN   \n",
       "2  2E1BF1D4C37EA01F 2020-12-07         EU       PC     A   \n",
       "3  50734A22C0C63768 2020-12-07         EU   iPhone     B   \n",
       "4  E1BDDCE0DAFA2679 2020-12-07  N.America   iPhone   NaN   \n",
       "\n",
       "                   ab_test  \n",
       "0  recommender_system_test  \n",
       "1                      NaN  \n",
       "2        interface_eu_test  \n",
       "3        interface_eu_test  \n",
       "4                      NaN  "
      ]
     },
     "execution_count": 24,
     "metadata": {},
     "output_type": "execute_result"
    }
   ],
   "source": [
    "new_user.head()"
   ]
  },
  {
   "cell_type": "markdown",
   "metadata": {},
   "source": [
    "### Membuat variable untuk mengetahui user mana saja yang termasuk ke A/B testing dimana user melakukan pembelian atau tidak"
   ]
  },
  {
   "cell_type": "code",
   "execution_count": 25,
   "metadata": {},
   "outputs": [
    {
     "data": {
      "text/html": [
       "<div>\n",
       "<style scoped>\n",
       "    .dataframe tbody tr th:only-of-type {\n",
       "        vertical-align: middle;\n",
       "    }\n",
       "\n",
       "    .dataframe tbody tr th {\n",
       "        vertical-align: top;\n",
       "    }\n",
       "\n",
       "    .dataframe thead th {\n",
       "        text-align: right;\n",
       "    }\n",
       "</style>\n",
       "<table border=\"1\" class=\"dataframe\">\n",
       "  <thead>\n",
       "    <tr style=\"text-align: right;\">\n",
       "      <th></th>\n",
       "      <th>user_id</th>\n",
       "      <th>event_dt</th>\n",
       "      <th>event_name</th>\n",
       "      <th>details</th>\n",
       "      <th>group</th>\n",
       "      <th>ab_test</th>\n",
       "    </tr>\n",
       "  </thead>\n",
       "  <tbody>\n",
       "    <tr>\n",
       "      <th>0</th>\n",
       "      <td>E1BDDCE0DAFA2679</td>\n",
       "      <td>2020-12-07 20:22:03</td>\n",
       "      <td>purchase</td>\n",
       "      <td>99.99</td>\n",
       "      <td>NaN</td>\n",
       "      <td>NaN</td>\n",
       "    </tr>\n",
       "    <tr>\n",
       "      <th>1</th>\n",
       "      <td>7B6452F081F49504</td>\n",
       "      <td>2020-12-07 09:22:53</td>\n",
       "      <td>purchase</td>\n",
       "      <td>9.99</td>\n",
       "      <td>NaN</td>\n",
       "      <td>NaN</td>\n",
       "    </tr>\n",
       "    <tr>\n",
       "      <th>2</th>\n",
       "      <td>9CD9F34546DF254C</td>\n",
       "      <td>2020-12-07 12:59:29</td>\n",
       "      <td>purchase</td>\n",
       "      <td>4.99</td>\n",
       "      <td>NaN</td>\n",
       "      <td>NaN</td>\n",
       "    </tr>\n",
       "    <tr>\n",
       "      <th>3</th>\n",
       "      <td>96F27A054B191457</td>\n",
       "      <td>2020-12-07 04:02:40</td>\n",
       "      <td>purchase</td>\n",
       "      <td>4.99</td>\n",
       "      <td>B</td>\n",
       "      <td>interface_eu_test</td>\n",
       "    </tr>\n",
       "    <tr>\n",
       "      <th>4</th>\n",
       "      <td>1FD7660FDF94CA1F</td>\n",
       "      <td>2020-12-07 10:15:09</td>\n",
       "      <td>purchase</td>\n",
       "      <td>4.99</td>\n",
       "      <td>NaN</td>\n",
       "      <td>NaN</td>\n",
       "    </tr>\n",
       "    <tr>\n",
       "      <th>...</th>\n",
       "      <td>...</td>\n",
       "      <td>...</td>\n",
       "      <td>...</td>\n",
       "      <td>...</td>\n",
       "      <td>...</td>\n",
       "      <td>...</td>\n",
       "    </tr>\n",
       "    <tr>\n",
       "      <th>429471</th>\n",
       "      <td>245E85F65C358E08</td>\n",
       "      <td>2020-12-30 19:35:55</td>\n",
       "      <td>login</td>\n",
       "      <td>NaN</td>\n",
       "      <td>NaN</td>\n",
       "      <td>NaN</td>\n",
       "    </tr>\n",
       "    <tr>\n",
       "      <th>429472</th>\n",
       "      <td>9385A108F5A0A7A7</td>\n",
       "      <td>2020-12-30 10:54:15</td>\n",
       "      <td>login</td>\n",
       "      <td>NaN</td>\n",
       "      <td>NaN</td>\n",
       "      <td>NaN</td>\n",
       "    </tr>\n",
       "    <tr>\n",
       "      <th>429473</th>\n",
       "      <td>DB650B7559AC6EAC</td>\n",
       "      <td>2020-12-30 10:59:09</td>\n",
       "      <td>login</td>\n",
       "      <td>NaN</td>\n",
       "      <td>NaN</td>\n",
       "      <td>NaN</td>\n",
       "    </tr>\n",
       "    <tr>\n",
       "      <th>429474</th>\n",
       "      <td>F80C9BDDEA02E53C</td>\n",
       "      <td>2020-12-30 09:53:39</td>\n",
       "      <td>login</td>\n",
       "      <td>NaN</td>\n",
       "      <td>A</td>\n",
       "      <td>interface_eu_test</td>\n",
       "    </tr>\n",
       "    <tr>\n",
       "      <th>429475</th>\n",
       "      <td>7AEC61159B672CC5</td>\n",
       "      <td>2020-12-30 11:36:13</td>\n",
       "      <td>login</td>\n",
       "      <td>NaN</td>\n",
       "      <td>NaN</td>\n",
       "      <td>NaN</td>\n",
       "    </tr>\n",
       "  </tbody>\n",
       "</table>\n",
       "<p>429476 rows × 6 columns</p>\n",
       "</div>"
      ],
      "text/plain": [
       "                 user_id             event_dt event_name  details group  \\\n",
       "0       E1BDDCE0DAFA2679  2020-12-07 20:22:03   purchase    99.99   NaN   \n",
       "1       7B6452F081F49504  2020-12-07 09:22:53   purchase     9.99   NaN   \n",
       "2       9CD9F34546DF254C  2020-12-07 12:59:29   purchase     4.99   NaN   \n",
       "3       96F27A054B191457  2020-12-07 04:02:40   purchase     4.99     B   \n",
       "4       1FD7660FDF94CA1F  2020-12-07 10:15:09   purchase     4.99   NaN   \n",
       "...                  ...                  ...        ...      ...   ...   \n",
       "429471  245E85F65C358E08  2020-12-30 19:35:55      login      NaN   NaN   \n",
       "429472  9385A108F5A0A7A7  2020-12-30 10:54:15      login      NaN   NaN   \n",
       "429473  DB650B7559AC6EAC  2020-12-30 10:59:09      login      NaN   NaN   \n",
       "429474  F80C9BDDEA02E53C  2020-12-30 09:53:39      login      NaN     A   \n",
       "429475  7AEC61159B672CC5  2020-12-30 11:36:13      login      NaN   NaN   \n",
       "\n",
       "                  ab_test  \n",
       "0                     NaN  \n",
       "1                     NaN  \n",
       "2                     NaN  \n",
       "3       interface_eu_test  \n",
       "4                     NaN  \n",
       "...                   ...  \n",
       "429471                NaN  \n",
       "429472                NaN  \n",
       "429473                NaN  \n",
       "429474  interface_eu_test  \n",
       "429475                NaN  \n",
       "\n",
       "[429476 rows x 6 columns]"
      ]
     },
     "execution_count": 25,
     "metadata": {},
     "output_type": "execute_result"
    }
   ],
   "source": [
    "events = df3_events.merge(df4_participant, on = 'user_id', how = 'left')\n",
    "events"
   ]
  },
  {
   "cell_type": "code",
   "execution_count": 26,
   "metadata": {},
   "outputs": [],
   "source": [
    "events['event_dt'] = pd.to_datetime(events['event_dt'])"
   ]
  },
  {
   "cell_type": "markdown",
   "metadata": {},
   "source": [
    "### Penggunaan datetime pada marketing events"
   ]
  },
  {
   "cell_type": "code",
   "execution_count": 27,
   "metadata": {},
   "outputs": [],
   "source": [
    "df1_m_events['start_dt'] = pd.to_datetime(df1_m_events['start_dt'])\n",
    "df1_m_events['finish_dt'] = pd.to_datetime(df1_m_events['finish_dt'])"
   ]
  },
  {
   "cell_type": "markdown",
   "metadata": {},
   "source": [
    "#### Kesimpulan awal 3\n",
    "- Dari 4 dataset dilakukan penyesuaian pd.to_datetime untuk menjadi tipe data time stamp"
   ]
  },
  {
   "cell_type": "markdown",
   "metadata": {},
   "source": [
    "## Analisis Data Eksplorasi"
   ]
  },
  {
   "cell_type": "markdown",
   "metadata": {},
   "source": [
    "### Menentukan Paramater Eksplorasi Data"
   ]
  },
  {
   "cell_type": "code",
   "execution_count": 28,
   "metadata": {},
   "outputs": [],
   "source": [
    "test_start = pd.to_datetime('2020-12-07')\n",
    "user_acquisition_duration = 16 - 1 # hari di nominalkan dari 0\n",
    "activity_duration = 14 - 1\n",
    "user_acquisition_end = test_start + timedelta(user_acquisition_duration)\n",
    "test_end = test_start + timedelta(user_acquisition_duration + activity_duration)\n",
    "\n",
    "required_participants = 6000\n",
    "\n",
    "test_name = 'recommender_system_test'"
   ]
  },
  {
   "cell_type": "markdown",
   "metadata": {},
   "source": [
    "### Pengecekan Berjalannya Test "
   ]
  },
  {
   "cell_type": "code",
   "execution_count": 29,
   "metadata": {},
   "outputs": [],
   "source": [
    "# Dimulai dari marketing yang berfokus pada region EU yang memiliki 15% user baru\n",
    "\n",
    "df1_m_events['is_eu'] = df1_m_events [ 'regions'].apply(lambda x: 'EU' in x.split(',')) \n",
    "eu_marketing_events = df1_m_events.query('is_eu == True')\n"
   ]
  },
  {
   "cell_type": "code",
   "execution_count": 30,
   "metadata": {},
   "outputs": [
    {
     "name": "stdout",
     "output_type": "stream",
     "text": [
      "Time limits of the test:  2020-12-07 00:00:00 2021-01-04 00:00:00\n"
     ]
    },
    {
     "data": {
      "text/html": [
       "<div>\n",
       "<style scoped>\n",
       "    .dataframe tbody tr th:only-of-type {\n",
       "        vertical-align: middle;\n",
       "    }\n",
       "\n",
       "    .dataframe tbody tr th {\n",
       "        vertical-align: top;\n",
       "    }\n",
       "\n",
       "    .dataframe thead th {\n",
       "        text-align: right;\n",
       "    }\n",
       "</style>\n",
       "<table border=\"1\" class=\"dataframe\">\n",
       "  <thead>\n",
       "    <tr style=\"text-align: right;\">\n",
       "      <th></th>\n",
       "      <th>name</th>\n",
       "      <th>regions</th>\n",
       "      <th>start_dt</th>\n",
       "      <th>finish_dt</th>\n",
       "      <th>is_eu</th>\n",
       "    </tr>\n",
       "  </thead>\n",
       "  <tbody>\n",
       "    <tr>\n",
       "      <th>0</th>\n",
       "      <td>Christmas&amp;New Year Promo</td>\n",
       "      <td>EU, N.America</td>\n",
       "      <td>2020-12-25</td>\n",
       "      <td>2021-01-03</td>\n",
       "      <td>True</td>\n",
       "    </tr>\n",
       "  </tbody>\n",
       "</table>\n",
       "</div>"
      ],
      "text/plain": [
       "                       name        regions   start_dt  finish_dt  is_eu\n",
       "0  Christmas&New Year Promo  EU, N.America 2020-12-25 2021-01-03   True"
      ]
     },
     "execution_count": 30,
     "metadata": {},
     "output_type": "execute_result"
    }
   ],
   "source": [
    "print('Time limits of the test: ', test_start, test_end)\n",
    "eu_marketing_events.query('(start_dt >= @test_start and start_dt <= @test_end) or \\\n",
    "(finish_dt >= @test_start and finish_dt <= @test_end)')"
   ]
  },
  {
   "cell_type": "markdown",
   "metadata": {},
   "source": [
    "#### Kesimpulan awal 4\n",
    "- Test yang berjalan bersamaan dengan promo ahir tahun\n",
    "- Mungkin user yang berpartisipasi hanya melakukan sekali pembelian yang menjadikan hasil tes yang bias yang tidak akurat"
   ]
  },
  {
   "cell_type": "markdown",
   "metadata": {},
   "source": [
    "### Pengecekan distribusi penyebaran user yang berpartisipasi pada A/B test"
   ]
  },
  {
   "cell_type": "code",
   "execution_count": 31,
   "metadata": {},
   "outputs": [
    {
     "data": {
      "text/html": [
       "<div>\n",
       "<style scoped>\n",
       "    .dataframe tbody tr th:only-of-type {\n",
       "        vertical-align: middle;\n",
       "    }\n",
       "\n",
       "    .dataframe tbody tr th {\n",
       "        vertical-align: top;\n",
       "    }\n",
       "\n",
       "    .dataframe thead th {\n",
       "        text-align: right;\n",
       "    }\n",
       "</style>\n",
       "<table border=\"1\" class=\"dataframe\">\n",
       "  <thead>\n",
       "    <tr style=\"text-align: right;\">\n",
       "      <th></th>\n",
       "      <th></th>\n",
       "      <th>user_id</th>\n",
       "    </tr>\n",
       "    <tr>\n",
       "      <th>ab_test</th>\n",
       "      <th>group</th>\n",
       "      <th></th>\n",
       "    </tr>\n",
       "  </thead>\n",
       "  <tbody>\n",
       "    <tr>\n",
       "      <th rowspan=\"2\" valign=\"top\">interface_eu_test</th>\n",
       "      <th>A</th>\n",
       "      <td>5467</td>\n",
       "    </tr>\n",
       "    <tr>\n",
       "      <th>B</th>\n",
       "      <td>5383</td>\n",
       "    </tr>\n",
       "    <tr>\n",
       "      <th rowspan=\"2\" valign=\"top\">recommender_system_test</th>\n",
       "      <th>A</th>\n",
       "      <td>2747</td>\n",
       "    </tr>\n",
       "    <tr>\n",
       "      <th>B</th>\n",
       "      <td>928</td>\n",
       "    </tr>\n",
       "  </tbody>\n",
       "</table>\n",
       "</div>"
      ],
      "text/plain": [
       "                               user_id\n",
       "ab_test                 group         \n",
       "interface_eu_test       A         5467\n",
       "                        B         5383\n",
       "recommender_system_test A         2747\n",
       "                        B          928"
      ]
     },
     "execution_count": 31,
     "metadata": {},
     "output_type": "execute_result"
    }
   ],
   "source": [
    "df4_participant.groupby(['ab_test','group']).agg({'user_id': 'nunique'})"
   ]
  },
  {
   "cell_type": "markdown",
   "metadata": {},
   "source": [
    "#### Kesimpulan awal 5\n",
    "- Distribusi dari setiap group memiliki kemungkinan adanya user yang bertumpuk ketika melakukan A/B test\n",
    "- Hal ini bisa menggangu hasil test karena user yang berpartisipasi bersinggungan yang menjadikan salah perhitungan"
   ]
  },
  {
   "cell_type": "code",
   "execution_count": 32,
   "metadata": {},
   "outputs": [],
   "source": [
    "new_test_users = df4_participant.query('ab_test == @test_name')['user_id'].unique()\n",
    "both_test_participants = (df4_participant[df4_participant['user_id'].isin(new_test_users)]\n",
    "                         .groupby('user_id').agg({'ab_test':'nunique','group': 'nunique'})\n",
    "                         .query('ab_test > 1 or group > 1').shape[0])"
   ]
  },
  {
   "cell_type": "code",
   "execution_count": 33,
   "metadata": {},
   "outputs": [
    {
     "name": "stdout",
     "output_type": "stream",
     "text": [
      "Test Audience Intersection 887 (24.14%)\n"
     ]
    }
   ],
   "source": [
    "print('Test Audience Intersection {} ({:.2%})'.format(both_test_participants,both_test_participants \n",
    "                                                      / len(new_test_users)))"
   ]
  },
  {
   "cell_type": "markdown",
   "metadata": {},
   "source": [
    "#### kesimpulan awal 6\n",
    "- Terdapat 887 user yang bertumpuk dari user lain\n",
    "- 24.14 % dari keseluruhan hal ini merupakan bukti tambahan A/B test yang di jalankan tidak berjalan dengan lancar"
   ]
  },
  {
   "cell_type": "markdown",
   "metadata": {},
   "source": [
    "### Melakukan pengecekan user yang berpartisipasi dalam A/B testing di pisah dari variable both_test_participant"
   ]
  },
  {
   "cell_type": "code",
   "execution_count": 34,
   "metadata": {},
   "outputs": [],
   "source": [
    "df4_participant = df4_participant.query('ab_test == @test_name')"
   ]
  },
  {
   "cell_type": "code",
   "execution_count": 35,
   "metadata": {},
   "outputs": [],
   "source": [
    "new_user = new_user.query('ab_test != \"interface_eu_test\"')"
   ]
  },
  {
   "cell_type": "code",
   "execution_count": 36,
   "metadata": {},
   "outputs": [],
   "source": [
    "events = events.query('ab_test != \"interface_eu_test\"')"
   ]
  },
  {
   "cell_type": "markdown",
   "metadata": {},
   "source": [
    "### Analyisis mengenai user yang sebagaian besar berasal dari EU"
   ]
  },
  {
   "cell_type": "code",
   "execution_count": 37,
   "metadata": {},
   "outputs": [],
   "source": [
    "report = new_user.query('ab_test ==@test_name').groupby('region').agg({'user_id':'nunique'}).rename(columns = {'user_id': 'members'})\n",
    "report['% participants'] = (report['members'] / report['members'].sum()).round(2)"
   ]
  },
  {
   "cell_type": "code",
   "execution_count": 38,
   "metadata": {},
   "outputs": [
    {
     "data": {
      "text/html": [
       "<div>\n",
       "<style scoped>\n",
       "    .dataframe tbody tr th:only-of-type {\n",
       "        vertical-align: middle;\n",
       "    }\n",
       "\n",
       "    .dataframe tbody tr th {\n",
       "        vertical-align: top;\n",
       "    }\n",
       "\n",
       "    .dataframe thead th {\n",
       "        text-align: right;\n",
       "    }\n",
       "</style>\n",
       "<table border=\"1\" class=\"dataframe\">\n",
       "  <thead>\n",
       "    <tr style=\"text-align: right;\">\n",
       "      <th></th>\n",
       "      <th>members</th>\n",
       "      <th>% participants</th>\n",
       "    </tr>\n",
       "    <tr>\n",
       "      <th>region</th>\n",
       "      <th></th>\n",
       "      <th></th>\n",
       "    </tr>\n",
       "  </thead>\n",
       "  <tbody>\n",
       "    <tr>\n",
       "      <th>EU</th>\n",
       "      <td>3481</td>\n",
       "      <td>0.95</td>\n",
       "    </tr>\n",
       "    <tr>\n",
       "      <th>N.America</th>\n",
       "      <td>119</td>\n",
       "      <td>0.03</td>\n",
       "    </tr>\n",
       "    <tr>\n",
       "      <th>APAC</th>\n",
       "      <td>45</td>\n",
       "      <td>0.01</td>\n",
       "    </tr>\n",
       "    <tr>\n",
       "      <th>CIS</th>\n",
       "      <td>30</td>\n",
       "      <td>0.01</td>\n",
       "    </tr>\n",
       "  </tbody>\n",
       "</table>\n",
       "</div>"
      ],
      "text/plain": [
       "           members  % participants\n",
       "region                            \n",
       "EU            3481            0.95\n",
       "N.America      119            0.03\n",
       "APAC            45            0.01\n",
       "CIS             30            0.01"
      ]
     },
     "execution_count": 38,
     "metadata": {},
     "output_type": "execute_result"
    }
   ],
   "source": [
    "report.sort_values(by='members', ascending = False)"
   ]
  },
  {
   "cell_type": "markdown",
   "metadata": {},
   "source": [
    "#### Kesimpulan awal 7\n",
    "- Member terbagi di 4 region\n",
    "- 5 % tersebar di N.America, APAC, CIS\n",
    "- Dari Keseluruhan A/B testing partisipasi yang mengikuti tidak sepenuhnya ada di EU dalam dataset"
   ]
  },
  {
   "cell_type": "markdown",
   "metadata": {},
   "source": [
    "### Melakukan pengecekan proporsi user yang berpartisipasi dari EU yang masuk dalam A/B testing"
   ]
  },
  {
   "cell_type": "code",
   "execution_count": 39,
   "metadata": {},
   "outputs": [],
   "source": [
    "eu_test_users = new_user.query('region == \"EU\" and ab_test == @test_name').shape[0]\n",
    "eu_users = new_user.query('region == \"EU\" and first_date >= @test_start and first_date <= @user_acquisition_end').shape[0]\n"
   ]
  },
  {
   "cell_type": "code",
   "execution_count": 40,
   "metadata": {},
   "outputs": [
    {
     "data": {
      "text/plain": [
       "0.10807202732070785"
      ]
     },
     "execution_count": 40,
     "metadata": {},
     "output_type": "execute_result"
    }
   ],
   "source": [
    "eu_test_users / eu_users"
   ]
  },
  {
   "cell_type": "markdown",
   "metadata": {},
   "source": [
    "#### Kesimpulan awal 8\n",
    "- Ternyata hanya ada 10 % dari EU user yang termasuk atau berpartisipasi dalam A/B testing, bukannya 15 %. \n",
    "- Di butuhkan pengecekan perbedaan signifikansi statistik "
   ]
  },
  {
   "cell_type": "markdown",
   "metadata": {},
   "source": [
    "### Melakukan pengecekan presentase audience EU yang ada dalam A/B testing "
   ]
  },
  {
   "cell_type": "code",
   "execution_count": 41,
   "metadata": {},
   "outputs": [],
   "source": [
    "from statsmodels.stats.proportion import proportions_ztest"
   ]
  },
  {
   "cell_type": "code",
   "execution_count": 42,
   "metadata": {},
   "outputs": [
    {
     "name": "stdout",
     "output_type": "stream",
     "text": [
      "p-value: 9.081206686240402e-130\n",
      "Hyphothesis null di tolak: untuk user berasal dari EU, mempunyai probabilitas memasuki tes berbeda dari 15%.\n"
     ]
    }
   ],
   "source": [
    "alpha = 0.05\n",
    "alpha = alpha / 5\n",
    "pvalue = proportions_ztest(eu_test_users, eu_users, value = 0.15)[1]\n",
    "print('p-value: {}'.format(pvalue))\n",
    "if pvalue >= alpha: \n",
    "    print('Hyphothesis null tidak di tolak: untuk user berasal dari EU, mempunyai probabilitas memasuki tes adalah 15%.')\n",
    "else:\n",
    "    print('Hyphothesis null di tolak: untuk user berasal dari EU, mempunyai probabilitas memasuki tes berbeda dari 15%.')"
   ]
  },
  {
   "cell_type": "markdown",
   "metadata": {},
   "source": [
    "#### Kesimpulan awal 9\n",
    "- Kurang dari 15 % merupakan hal yang sudah di antisipasi dari proporsi user yang sudah di bagi pada chapter 3.6\n",
    "- Dimana pada saat untuk monetasi di EU bukan merupakan angka yang signifikan "
   ]
  },
  {
   "cell_type": "markdown",
   "metadata": {},
   "source": [
    "### Melakukan pengecekan distribusi user yang ada di dalam group"
   ]
  },
  {
   "cell_type": "code",
   "execution_count": 43,
   "metadata": {},
   "outputs": [
    {
     "data": {
      "text/plain": [
       "0.747482993197279"
      ]
     },
     "execution_count": 43,
     "metadata": {},
     "output_type": "execute_result"
    }
   ],
   "source": [
    "a_users = new_user.query('group == \"A\" and ab_test == @test_name').shape[0]\n",
    "all_participants = new_user.query('ab_test == @test_name').shape[0]\n",
    "a_users / all_participants"
   ]
  },
  {
   "cell_type": "markdown",
   "metadata": {},
   "source": [
    "#### Kesimpulan awal 10\n",
    "- 74 % user masuk ke dalam group A, hal yang mencurigakan. \n",
    "- Seharusnya user terbagi 50% - 50% antara group A dan B dalam melakukan A/B testing "
   ]
  },
  {
   "cell_type": "markdown",
   "metadata": {},
   "source": [
    "### Pengecekan signifikansi statistik user yang berpartisipasi"
   ]
  },
  {
   "cell_type": "code",
   "execution_count": 44,
   "metadata": {},
   "outputs": [
    {
     "name": "stdout",
     "output_type": "stream",
     "text": [
      "p-value: 2.6098712976965683e-261\n",
      "Hyphothesis null di tolak: probabilitas masuk ke dalam group A berbeda dari 50 %.\n"
     ]
    }
   ],
   "source": [
    "pvalue = proportions_ztest(a_users, all_participants, value = 0.5)[1]\n",
    "print('p-value: {}'.format(pvalue))\n",
    "if pvalue >= alpha: \n",
    "    print('Hyphothesis null tidak di tolak: probabilitas masuk ke dalam group A adalah 50 %.')\n",
    "else:\n",
    "    print('Hyphothesis null di tolak: probabilitas masuk ke dalam group A berbeda dari 50 %.')"
   ]
  },
  {
   "cell_type": "markdown",
   "metadata": {},
   "source": [
    "#### Kesimpulan awal 11\n",
    "- Tes yang sudah di jalankan memang memiliki keganjilan yang banyak di berbagai aspek\n",
    "- Melakukan pengecekan probabilitas masuk ke group A adalah salah satu aspek yang harus di cek "
   ]
  },
  {
   "cell_type": "markdown",
   "metadata": {},
   "source": [
    "## Analisis Funnel Cumulative Matriks "
   ]
  },
  {
   "cell_type": "markdown",
   "metadata": {},
   "source": [
    "### Melakukan set paramater data "
   ]
  },
  {
   "cell_type": "code",
   "execution_count": 45,
   "metadata": {},
   "outputs": [],
   "source": [
    "test_participants = df4_participant.query('ab_test == @test_name')\n",
    "new_users = new_user.query('ab_test == @test_name')\n",
    "events = events.query('ab_test == @test_name')"
   ]
  },
  {
   "cell_type": "markdown",
   "metadata": {},
   "source": [
    "### Set paramater data semenjak tes di jalan kan, sesuai dengan durasi selama A/B tes secara keseluruhan."
   ]
  },
  {
   "cell_type": "code",
   "execution_count": 46,
   "metadata": {},
   "outputs": [],
   "source": [
    "current_aquisition_duration = user_acquisition_duration\n",
    "test_dates = pd.date_range(start = test_start, periods = current_aquisition_duration)\n",
    "\n",
    "cumulative_test_users = pd.DataFrame(columns = ['A', 'B'])\n",
    "cumulative_test_carters = pd.DataFrame(columns = ['A', 'B'])\n",
    "cumulative_test_product = pd.DataFrame(columns = ['A', 'B'])\n",
    "cumulative_test_payers = pd.DataFrame(columns = ['A', 'B'])\n",
    "\n"
   ]
  },
  {
   "cell_type": "markdown",
   "metadata": {},
   "source": [
    "### Membuat fungsi analisis cummulative "
   ]
  },
  {
   "cell_type": "code",
   "execution_count": 47,
   "metadata": {},
   "outputs": [],
   "source": [
    "for i, dt in enumerate(test_dates):\n",
    "\n",
    "    #test participants\n",
    "    current_test_users = new_users.query('first_date <= @dt').groupby('group').agg({'user_id': 'nunique'}).T\n",
    "    current_test_users['date'] = dt\n",
    "    current_test_users['test_day'] = i\n",
    "    cumulative_test_users = cumulative_test_users.append(current_test_users, sort = False)\n",
    "    \n",
    "    \n",
    "    ##product card\n",
    "    current_test_prod = events.query('event_name == \"product_page\"').query('event_dt <= @dt').groupby('user_id').agg({'details': 'count'})\n",
    "    current_test_product = (new_users.merge(current_test_prod, on = 'user_id', how = 'inner')\n",
    "                                     .query('first_date <= @dt')\n",
    "                                     .groupby('group').agg({'user_id': 'nunique'}).T)\n",
    "    current_test_product['date'] = dt\n",
    "    current_test_product['test_day'] = i\n",
    "    cumulative_test_product = cumulative_test_product.append(current_test_product, sort = False)\n",
    "    \n",
    "    ##order basket\n",
    "    current_test_cart = events.query('event_name == \"product_cart\"').query('event_dt <= @dt').groupby('user_id').agg({'details': 'count'})\n",
    "    current_test_carters = (new_users.merge(current_test_cart, on = 'user_id', how = 'inner')\n",
    "                                     .query('first_date <= @dt')\n",
    "                                     .groupby('group').agg({'user_id': 'nunique'}).T)\n",
    "    current_test_carters['date'] = dt\n",
    "    current_test_carters['test_day'] = i\n",
    "    cumulative_test_carters = cumulative_test_carters.append(current_test_carters, sort = False)\n",
    "    \n",
    "    ##paying test takers\n",
    "    current_test_purchases = events.query('event_name == \"purchase\"').query('event_dt <= @dt').groupby('user_id').agg({'details': 'sum'})\n",
    "    current_test_payers = (new_users.merge(current_test_purchases, on = 'user_id', how = 'inner')\n",
    "                                    .query('first_date <= @dt')\n",
    "                                    .groupby('group').agg({'user_id': 'nunique'}).T)\n",
    "    current_test_payers['date'] = dt\n",
    "    current_test_payers['test_day'] = i\n",
    "    cumulative_test_payers = cumulative_test_payers.append(current_test_payers, sort = False)"
   ]
  },
  {
   "cell_type": "markdown",
   "metadata": {},
   "source": [
    "### User baru yang berpartisipasi tanpa akumulasi"
   ]
  },
  {
   "cell_type": "code",
   "execution_count": 48,
   "metadata": {},
   "outputs": [
    {
     "data": {
      "text/plain": [
       "<matplotlib.legend.Legend at 0x7ff4138ddd30>"
      ]
     },
     "execution_count": 48,
     "metadata": {},
     "output_type": "execute_result"
    },
    {
     "data": {
      "image/png": "[encoded data removed]",
      "text/plain": [
       "<Figure size 2160x1080 with 1 Axes>"
      ]
     },
     "metadata": {
      "needs_background": "light"
     },
     "output_type": "display_data"
    }
   ],
   "source": [
    "pd.pivot_table(new_users, \n",
    "               index = 'first_date', \n",
    "               columns = 'group', \n",
    "               values = 'user_id', \n",
    "               aggfunc = 'count').plot(ax = plt.subplot(2, 3, 1), grid = True, figsize = (30, 15))\n",
    "plt.title('User Baru yang Berpartisipasi Setiap Harinya')\n",
    "plt.xlabel('date')\n",
    "plt.xticks(rotation = 45)\n",
    "plt.legend()\n"
   ]
  },
  {
   "cell_type": "markdown",
   "metadata": {},
   "source": [
    "#### Kesimpulan awal 12\n",
    "- Group A jauh melampaui group B \n",
    "- Mungkin karena di karenakan ketimpangan distribusi persebaran user di group A sebanyak 74% seperti yang sudah di lakukan pada section 3.8"
   ]
  },
  {
   "cell_type": "markdown",
   "metadata": {},
   "source": [
    "### User yang berpartisipasi secara keseluruhan"
   ]
  },
  {
   "cell_type": "code",
   "execution_count": 49,
   "metadata": {},
   "outputs": [
    {
     "data": {
      "text/plain": [
       "Text(0.5, 0, 'Hari tes')"
      ]
     },
     "execution_count": 49,
     "metadata": {},
     "output_type": "execute_result"
    },
    {
     "data": {
      "image/png": "[encoded data removed]",
      "text/plain": [
       "<Figure size 2160x1080 with 1 Axes>"
      ]
     },
     "metadata": {
      "needs_background": "light"
     },
     "output_type": "display_data"
    }
   ],
   "source": [
    "cumulative_test_users = cumulative_test_users.query('date >= @test_start and date <= @user_acquisition_end').set_index('test_day')[['A', 'B']]\n",
    "cumulative_test_users['Total'] = cumulative_test_users['A'] + cumulative_test_users['B']\n",
    "cumulative_test_users.plot(ax = plt.subplot(2, 3, 2), grid = True, figsize = (30, 15))\n",
    "plt.axhline(y = required_participants, label = 'Jumlah User Yang di Harapkan', color = 'red', linestyle = '--')\n",
    "plt.title('Peserta Tes')\n",
    "plt.legend()\n",
    "plt.xlabel('Hari tes')\n"
   ]
  },
  {
   "cell_type": "markdown",
   "metadata": {},
   "source": [
    "### Conversion secara keseluruhan saat tes di jalankan "
   ]
  },
  {
   "cell_type": "code",
   "execution_count": 50,
   "metadata": {},
   "outputs": [
    {
     "data": {
      "text/plain": [
       "Text(0.5, 0, 'Hari Tes')"
      ]
     },
     "execution_count": 50,
     "metadata": {},
     "output_type": "execute_result"
    },
    {
     "data": {
      "image/png": "[encoded data removed]",
      "text/plain": [
       "<Figure size 2160x1080 with 1 Axes>"
      ]
     },
     "metadata": {
      "needs_background": "light"
     },
     "output_type": "display_data"
    }
   ],
   "source": [
    "cumulative_test_payers = cumulative_test_payers.query('date >= @test_start and date <= @user_acquisition_end').set_index('test_day')[['A', 'B']]\n",
    "cumulative_test_payers.div(cumulative_test_users)[['A', 'B']].fillna(0).plot(ax = plt.subplot(2, 3, 3), grid = True, figsize = (30, 15))\n",
    "plt.title('Konversi Pembelian')\n",
    "plt.legend()\n",
    "plt.xlabel('Hari Tes')"
   ]
  },
  {
   "cell_type": "markdown",
   "metadata": {},
   "source": [
    "#### Kesimpulan awal 13\n",
    "- Group B lebih stabil\n",
    "- Group A memiliki keganjilan antara test day 6 sampai 8\n",
    "- Mungkin di karenakan adanya persebaran Data EU yang kurang akurat\n",
    "- Seperti yang di eksplorasi pada chapter 3.6 dimana \n",
    "- Mungkin ada data yang tertumpuk pada proses input"
   ]
  },
  {
   "cell_type": "markdown",
   "metadata": {},
   "source": [
    "### Conversi ke keranjang pembelian  pada saat tes di jalankan"
   ]
  },
  {
   "cell_type": "code",
   "execution_count": 51,
   "metadata": {},
   "outputs": [
    {
     "data": {
      "text/plain": [
       "Text(0.5, 0, 'Hari Tes')"
      ]
     },
     "execution_count": 51,
     "metadata": {},
     "output_type": "execute_result"
    },
    {
     "data": {
      "image/png": "[encoded data removed]",
      "text/plain": [
       "<Figure size 2160x1080 with 1 Axes>"
      ]
     },
     "metadata": {
      "needs_background": "light"
     },
     "output_type": "display_data"
    }
   ],
   "source": [
    "cumulative_test_carters = cumulative_test_carters.query('date >= @test_start and date <= @user_acquisition_end').set_index('test_day')[['A', 'B']]\n",
    "cumulative_test_carters.div(cumulative_test_users)[['A', 'B']].fillna(0).plot(ax = plt.subplot(2, 3, 4), grid = True, figsize = (30, 15))\n",
    "plt.title('Konversi ke product_cart')\n",
    "plt.legend()\n",
    "plt.xlabel('Hari Tes')"
   ]
  },
  {
   "cell_type": "markdown",
   "metadata": {},
   "source": [
    "### Konversi ke event product saat test di jalankan"
   ]
  },
  {
   "cell_type": "code",
   "execution_count": 52,
   "metadata": {},
   "outputs": [
    {
     "data": {
      "text/plain": [
       "Text(0.5, 0, 'Hari Tes')"
      ]
     },
     "execution_count": 52,
     "metadata": {},
     "output_type": "execute_result"
    },
    {
     "data": {
      "image/png": "[encoded data removed]",
      "text/plain": [
       "<Figure size 2160x1080 with 1 Axes>"
      ]
     },
     "metadata": {
      "needs_background": "light"
     },
     "output_type": "display_data"
    }
   ],
   "source": [
    "cumulative_test_product = cumulative_test_product.query('date >= @test_start and date <= @user_acquisition_end').set_index('test_day')[['A', 'B']]\n",
    "cumulative_test_product.div(cumulative_test_users)[['A', 'B']].fillna(0).plot(ax = plt.subplot(2, 3, 5), grid = True, figsize = (30, 15))\n",
    "plt.title('Konversi ke product_page')\n",
    "plt.legend()\n",
    "plt.xlabel('Hari Tes')\n"
   ]
  },
  {
   "cell_type": "markdown",
   "metadata": {},
   "source": [
    "#### Kesimpulan awal 14\n",
    "- Hal yang sama terjadi pada setiap konversi dari grafik 4.7, 4.8. Dimana Group A melebihi group B\n",
    "- Conversi dari setiap funnel memiliki hasil yang berbeda di karenakan dataframe yang berbeda juga\n",
    "- Penjalanan A/B test sepanjang selama 14hari berjalan dengan lancar hal yang ganjil kebanyakan dari datanya "
   ]
  },
  {
   "cell_type": "markdown",
   "metadata": {},
   "source": [
    "## Tes hyphothesis"
   ]
  },
  {
   "cell_type": "markdown",
   "metadata": {},
   "source": [
    "### Pengecekan perbedaan antar group di fase converssion ke pembelian"
   ]
  },
  {
   "cell_type": "code",
   "execution_count": 53,
   "metadata": {},
   "outputs": [
    {
     "data": {
      "text/html": [
       "<div>\n",
       "<style scoped>\n",
       "    .dataframe tbody tr th:only-of-type {\n",
       "        vertical-align: middle;\n",
       "    }\n",
       "\n",
       "    .dataframe tbody tr th {\n",
       "        vertical-align: top;\n",
       "    }\n",
       "\n",
       "    .dataframe thead th {\n",
       "        text-align: right;\n",
       "    }\n",
       "</style>\n",
       "<table border=\"1\" class=\"dataframe\">\n",
       "  <thead>\n",
       "    <tr style=\"text-align: right;\">\n",
       "      <th></th>\n",
       "      <th>Members</th>\n",
       "      <th>Pembeli</th>\n",
       "      <th>Konfersi</th>\n",
       "    </tr>\n",
       "    <tr>\n",
       "      <th>group</th>\n",
       "      <th></th>\n",
       "      <th></th>\n",
       "      <th></th>\n",
       "    </tr>\n",
       "  </thead>\n",
       "  <tbody>\n",
       "    <tr>\n",
       "      <th>A</th>\n",
       "      <td>2747</td>\n",
       "      <td>872</td>\n",
       "      <td>0.32</td>\n",
       "    </tr>\n",
       "    <tr>\n",
       "      <th>B</th>\n",
       "      <td>928</td>\n",
       "      <td>256</td>\n",
       "      <td>0.28</td>\n",
       "    </tr>\n",
       "  </tbody>\n",
       "</table>\n",
       "</div>"
      ],
      "text/plain": [
       "       Members  Pembeli  Konfersi\n",
       "group                            \n",
       "A         2747      872      0.32\n",
       "B          928      256      0.28"
      ]
     },
     "execution_count": 53,
     "metadata": {},
     "output_type": "execute_result"
    }
   ],
   "source": [
    "report = test_participants.merge(events.query('event_name == \"purchase\"').groupby('user_id').agg({'details': 'count'}), on = 'user_id', how = 'left')\n",
    "report['is_buyer'] = (report['details'] > 0).astype(int)\n",
    "report = (report.groupby('group').agg({'user_id': 'count', 'is_buyer': 'sum'})\n",
    "                                 .rename(columns = {'user_id': 'Members', 'is_buyer': 'Pembeli'}))\n",
    "report['Konfersi'] = (report['Pembeli'] / report['Members']).round(2)\n",
    "report"
   ]
  },
  {
   "cell_type": "code",
   "execution_count": 54,
   "metadata": {},
   "outputs": [
    {
     "name": "stdout",
     "output_type": "stream",
     "text": [
      "p-value: 0.017592402663314678\n",
      "Hyphothesis null tidak di tolak: Dalam presentase tidak ada perbedaan konversi membeli antara kelompok A dan B.\n"
     ]
    }
   ],
   "source": [
    "count = list(report['Pembeli'].values)\n",
    "nobs = list(report['Members'].values)\n",
    "\n",
    "pvalue = proportions_ztest(count, nobs)[1]\n",
    "print('p-value: {}'.format(pvalue))\n",
    "if pvalue >= alpha: \n",
    "    print('Hyphothesis null tidak di tolak: Dalam presentase tidak ada perbedaan konversi membeli antara kelompok A dan B.')\n",
    "else:\n",
    "    print('Hyphothesis null di tolak: Dalam presentase ada perbedaan konversi membeli antara kelompok A dan B.')"
   ]
  },
  {
   "cell_type": "markdown",
   "metadata": {},
   "source": [
    "###  Pengecekan convertion user yang ke product page "
   ]
  },
  {
   "cell_type": "code",
   "execution_count": 55,
   "metadata": {},
   "outputs": [
    {
     "data": {
      "text/html": [
       "<div>\n",
       "<style scoped>\n",
       "    .dataframe tbody tr th:only-of-type {\n",
       "        vertical-align: middle;\n",
       "    }\n",
       "\n",
       "    .dataframe tbody tr th {\n",
       "        vertical-align: top;\n",
       "    }\n",
       "\n",
       "    .dataframe thead th {\n",
       "        text-align: right;\n",
       "    }\n",
       "</style>\n",
       "<table border=\"1\" class=\"dataframe\">\n",
       "  <thead>\n",
       "    <tr style=\"text-align: right;\">\n",
       "      <th></th>\n",
       "      <th>Members</th>\n",
       "      <th>User pada product page</th>\n",
       "      <th>Konversi</th>\n",
       "    </tr>\n",
       "    <tr>\n",
       "      <th>group</th>\n",
       "      <th></th>\n",
       "      <th></th>\n",
       "      <th></th>\n",
       "    </tr>\n",
       "  </thead>\n",
       "  <tbody>\n",
       "    <tr>\n",
       "      <th>A</th>\n",
       "      <td>2747</td>\n",
       "      <td>1780</td>\n",
       "      <td>0.65</td>\n",
       "    </tr>\n",
       "    <tr>\n",
       "      <th>B</th>\n",
       "      <td>928</td>\n",
       "      <td>523</td>\n",
       "      <td>0.56</td>\n",
       "    </tr>\n",
       "  </tbody>\n",
       "</table>\n",
       "</div>"
      ],
      "text/plain": [
       "       Members  User pada product page  Konversi\n",
       "group                                           \n",
       "A         2747                    1780      0.65\n",
       "B          928                     523      0.56"
      ]
     },
     "execution_count": 55,
     "metadata": {},
     "output_type": "execute_result"
    }
   ],
   "source": [
    "report = test_participants.merge(events.query('event_name == \"product_page\"').groupby('user_id').agg({'event_dt': 'count'}), on = 'user_id', how = 'left')\n",
    "report['is_buyer'] = (report['event_dt'] > 0).astype(int)\n",
    "report = (report.groupby('group').agg({'user_id': 'count', 'is_buyer': 'sum'})\n",
    "                                 .rename(columns = {'user_id': 'Members', 'is_buyer': 'User pada product page'}))\n",
    "report['Konversi'] = (report['User pada product page'] / report['Members']).round(2)\n",
    "report"
   ]
  },
  {
   "cell_type": "code",
   "execution_count": 56,
   "metadata": {},
   "outputs": [
    {
     "name": "stdout",
     "output_type": "stream",
     "text": [
      "p-value: 4.310980554712425e-06\n",
      "Hyphothesis null di tolak: Ada perbedaan antara group A dan B dalam presentase pengguna yang melihat product page.\n"
     ]
    }
   ],
   "source": [
    "count = list(report['User pada product page'].values)\n",
    "nobs = list(report['Members'].values)\n",
    "\n",
    "pvalue = proportions_ztest(count, nobs)[1]\n",
    "print('p-value: {}'.format(pvalue))\n",
    "if pvalue >= alpha: \n",
    "    print('Hyphothesis null tidak di tolak: Tidak ada perbedaan antara group A dan B dalam presentase pengguna yang melihat product page.')\n",
    "else:\n",
    "    print('Hyphothesis null di tolak: Ada perbedaan antara group A dan B dalam presentase pengguna yang melihat product page.')"
   ]
  },
  {
   "cell_type": "markdown",
   "metadata": {},
   "source": [
    "### Pengecekan perbedaan antara group dimana user mengunjungi product cart"
   ]
  },
  {
   "cell_type": "code",
   "execution_count": 57,
   "metadata": {},
   "outputs": [
    {
     "data": {
      "text/html": [
       "<div>\n",
       "<style scoped>\n",
       "    .dataframe tbody tr th:only-of-type {\n",
       "        vertical-align: middle;\n",
       "    }\n",
       "\n",
       "    .dataframe tbody tr th {\n",
       "        vertical-align: top;\n",
       "    }\n",
       "\n",
       "    .dataframe thead th {\n",
       "        text-align: right;\n",
       "    }\n",
       "</style>\n",
       "<table border=\"1\" class=\"dataframe\">\n",
       "  <thead>\n",
       "    <tr style=\"text-align: right;\">\n",
       "      <th></th>\n",
       "      <th>Members</th>\n",
       "      <th>Users pada cart page</th>\n",
       "      <th>Konfersi</th>\n",
       "    </tr>\n",
       "    <tr>\n",
       "      <th>group</th>\n",
       "      <th></th>\n",
       "      <th></th>\n",
       "      <th></th>\n",
       "    </tr>\n",
       "  </thead>\n",
       "  <tbody>\n",
       "    <tr>\n",
       "      <th>A</th>\n",
       "      <td>2747</td>\n",
       "      <td>824</td>\n",
       "      <td>0.30</td>\n",
       "    </tr>\n",
       "    <tr>\n",
       "      <th>B</th>\n",
       "      <td>928</td>\n",
       "      <td>255</td>\n",
       "      <td>0.27</td>\n",
       "    </tr>\n",
       "  </tbody>\n",
       "</table>\n",
       "</div>"
      ],
      "text/plain": [
       "       Members  Users pada cart page  Konfersi\n",
       "group                                         \n",
       "A         2747                   824      0.30\n",
       "B          928                   255      0.27"
      ]
     },
     "execution_count": 57,
     "metadata": {},
     "output_type": "execute_result"
    }
   ],
   "source": [
    "report = test_participants.merge(events.query('event_name == \"product_cart\"').groupby('user_id').agg({'event_dt': 'count'}), on = 'user_id', how = 'left')\n",
    "report['is_buyer'] = (report['event_dt'] > 0).astype(int)\n",
    "report = (report.groupby('group').agg({'user_id': 'count', 'is_buyer': 'sum'})\n",
    "                                 .rename(columns = {'user_id': 'Members', 'is_buyer': 'Users pada cart page'}))\n",
    "report['Konfersi'] = (report['Users pada cart page'] / report['Members']).round(2)\n",
    "report"
   ]
  },
  {
   "cell_type": "code",
   "execution_count": 58,
   "metadata": {},
   "outputs": [
    {
     "name": "stdout",
     "output_type": "stream",
     "text": [
      "p-value: 0.14534814557238196\n",
      "Hyphothesis null tidak di tolak: Tidak ada perbedaan antara group A danB dalam presentase User yang melihat cart page.\n"
     ]
    }
   ],
   "source": [
    "count = list(report['Users pada cart page'].values)\n",
    "nobs = list(report['Members'].values)\n",
    "\n",
    "pvalue = proportions_ztest(count, nobs)[1]\n",
    "print('p-value: {}'.format(pvalue))\n",
    "if pvalue >= alpha: \n",
    "    print('Hyphothesis null tidak di tolak: Tidak ada perbedaan antara group A danB dalam presentase User yang melihat cart page.')\n",
    "else:\n",
    "    print('Hyphothesis null di tolak: Ada perbedaan antara group A dan B dalam presentase User yang melihat cart page.')"
   ]
  },
  {
   "cell_type": "markdown",
   "metadata": {},
   "source": [
    "# Kesimpulan \n",
    "\n",
    " Tes di jalankan secara tidak benar, bisa di simpulkan dari temuan di bawah ini\n",
    "\n",
    "- Test yang berjalan bersamaan dengan promo ahir tahun\n",
    "- Mungkin user yang berpartisipasi hanya melakukan sekali pembelian yang menjadikan hasil tes yang bias yang tidak akurat\n",
    "- Distribusi user dari group A dan B memungkinkan adana user Ganda Selama A/B testing di jalankan\n",
    "- Terdapat 887 User ganda yang merupakan 24,14 % user ganjil. \n",
    "- Hal ini merupakan bukti bahwa Tes A/B ini tidak berjalan dengan seharusnya\n",
    "- Dari 6000 user yang berpawtisipasi ternyata ada 5% user yang berasal dari N. America, APAC, CIS\n",
    "- Dari pernyataan 15 % user EU yang berpartisipasi ternyata Tanya 10 %\n",
    "- Semua bisa di lakukan double cek dari chapter 3.1\n",
    "\n"
   ]
  },
  {
   "cell_type": "markdown",
   "metadata": {},
   "source": [
    "# Rekomendasi\n",
    "- Tes A/B ini lebih baik di lakukan ulang untuk mendapatkan hasil yang lebih baik"
   ]
  },
  {
   "cell_type": "code",
   "execution_count": null,
   "metadata": {},
   "outputs": [],
   "source": []
  }
 ],
 "metadata": {
  "kernelspec": {
   "display_name": "Python 3 (ipykernel)",
   "language": "python",
   "name": "python3"
  },
  "language_info": {
   "codemirror_mode": {
    "name": "ipython",
    "version": 3
   },
   "file_extension": ".py",
   "mimetype": "text/x-python",
   "name": "python",
   "nbconvert_exporter": "python",
   "pygments_lexer": "ipython3",
   "version": "3.9.12"
  },
  "toc": {
   "base_numbering": 1,
   "nav_menu": {},
   "number_sections": true,
   "sideBar": true,
   "skip_h1_title": true,
   "title_cell": "Table of Contents",
   "title_sidebar": "Contents",
   "toc_cell": false,
   "toc_position": {},
   "toc_section_display": true,
   "toc_window_display": false
  }
 },
 "nbformat": 4,
 "nbformat_minor": 2
}
