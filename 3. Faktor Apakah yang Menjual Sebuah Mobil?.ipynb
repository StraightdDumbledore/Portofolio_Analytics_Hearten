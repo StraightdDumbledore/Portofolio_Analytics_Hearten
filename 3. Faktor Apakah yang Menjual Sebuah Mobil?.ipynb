{
 "cells": [
  {
   "cell_type": "markdown",
   "metadata": {},
   "source": [
    "# Faktor Apakah yang Menjual Sebuah Mobil?\n",
    "\n",
    "Anda adalah seorang analis di Crankshaft List. Ratusan iklan kendaraan gratis ditayangkan di situs web Anda setiap hari. Anda perlu mempelajari kumpulan data selama beberapa tahun terakhir dan menentukan faktor-faktor yang memengaruhi harga sebuah kendaraan."
   ]
  },
  {
   "cell_type": "markdown",
   "metadata": {},
   "source": [
    "## Pra-pemrosesan"
   ]
  },
  {
   "cell_type": "code",
   "execution_count": 3,
   "metadata": {},
   "outputs": [],
   "source": [
    "# Muat semua library\n",
    "\n",
    "import pandas as pd, matplotlib.pyplot as plt, seaborn as sns, numpy as np"
   ]
  },
  {
   "cell_type": "markdown",
   "metadata": {},
   "source": [
    "### Memuat Data"
   ]
  },
  {
   "cell_type": "code",
   "execution_count": 4,
   "metadata": {},
   "outputs": [],
   "source": [
    "# Muat file data menjadi DataFrame\n",
    "\n",
    "df= pd.read_csv('vehicles_us.csv')\n"
   ]
  },
  {
   "cell_type": "markdown",
   "metadata": {},
   "source": [
    "### Mengeksplorasi Data Awal"
   ]
  },
  {
   "cell_type": "markdown",
   "metadata": {},
   "source": [
    "*Dataset* Anda berisi kolom-kolom berikut: \n",
    "\n",
    "\n",
    "- `price`\n",
    "- `model_year`\n",
    "- `model`\n",
    "- `condition`\n",
    "- `cylinders`\n",
    "- `fuel` — gas, disel, dan lain-lain.\n",
    "- `odometer` — jarak tempuh kendaraan saat iklan ditayangkan \n",
    "- `transmission`\n",
    "- `paint_color`\n",
    "- `is_4wd` — apakah kendaraan memiliki penggerak 4 roda (tipe Boolean)\n",
    "- `date_posted` — tanggal iklan ditayangkan\n",
    "- `days_listed` — jumlah hari iklan ditayangkan hingga dihapus\n",
    "[Pahami kolom-kolomnya, lakukan eksplorasi data agar Anda terbiasa dengan data tersebut.]"
   ]
  },
  {
   "cell_type": "code",
   "execution_count": 5,
   "metadata": {},
   "outputs": [
    {
     "name": "stdout",
     "output_type": "stream",
     "text": [
      "<class 'pandas.core.frame.DataFrame'>\n",
      "RangeIndex: 51525 entries, 0 to 51524\n",
      "Data columns (total 13 columns):\n",
      " #   Column        Non-Null Count  Dtype  \n",
      "---  ------        --------------  -----  \n",
      " 0   price         51525 non-null  int64  \n",
      " 1   model_year    47906 non-null  float64\n",
      " 2   model         51525 non-null  object \n",
      " 3   condition     51525 non-null  object \n",
      " 4   cylinders     46265 non-null  float64\n",
      " 5   fuel          51525 non-null  object \n",
      " 6   odometer      43633 non-null  float64\n",
      " 7   transmission  51525 non-null  object \n",
      " 8   type          51525 non-null  object \n",
      " 9   paint_color   42258 non-null  object \n",
      " 10  is_4wd        25572 non-null  float64\n",
      " 11  date_posted   51525 non-null  object \n",
      " 12  days_listed   51525 non-null  int64  \n",
      "dtypes: float64(4), int64(2), object(7)\n",
      "memory usage: 5.1+ MB\n"
     ]
    }
   ],
   "source": [
    "# memberikan tampilan informasi mengenai data yang akan disampaikan\n",
    "\n",
    "df.info()"
   ]
  },
  {
   "cell_type": "code",
   "execution_count": 6,
   "metadata": {},
   "outputs": [
    {
     "data": {
      "text/html": [
       "<div>\n",
       "<style scoped>\n",
       "    .dataframe tbody tr th:only-of-type {\n",
       "        vertical-align: middle;\n",
       "    }\n",
       "\n",
       "    .dataframe tbody tr th {\n",
       "        vertical-align: top;\n",
       "    }\n",
       "\n",
       "    .dataframe thead th {\n",
       "        text-align: right;\n",
       "    }\n",
       "</style>\n",
       "<table border=\"1\" class=\"dataframe\">\n",
       "  <thead>\n",
       "    <tr style=\"text-align: right;\">\n",
       "      <th></th>\n",
       "      <th>price</th>\n",
       "      <th>model_year</th>\n",
       "      <th>cylinders</th>\n",
       "      <th>odometer</th>\n",
       "      <th>is_4wd</th>\n",
       "      <th>days_listed</th>\n",
       "    </tr>\n",
       "  </thead>\n",
       "  <tbody>\n",
       "    <tr>\n",
       "      <th>count</th>\n",
       "      <td>51525.000000</td>\n",
       "      <td>47906.000000</td>\n",
       "      <td>46265.000000</td>\n",
       "      <td>43633.000000</td>\n",
       "      <td>25572.0</td>\n",
       "      <td>51525.00000</td>\n",
       "    </tr>\n",
       "    <tr>\n",
       "      <th>mean</th>\n",
       "      <td>12132.464920</td>\n",
       "      <td>2009.750470</td>\n",
       "      <td>6.125235</td>\n",
       "      <td>115553.461738</td>\n",
       "      <td>1.0</td>\n",
       "      <td>39.55476</td>\n",
       "    </tr>\n",
       "    <tr>\n",
       "      <th>std</th>\n",
       "      <td>10040.803015</td>\n",
       "      <td>6.282065</td>\n",
       "      <td>1.660360</td>\n",
       "      <td>65094.611341</td>\n",
       "      <td>0.0</td>\n",
       "      <td>28.20427</td>\n",
       "    </tr>\n",
       "    <tr>\n",
       "      <th>min</th>\n",
       "      <td>1.000000</td>\n",
       "      <td>1908.000000</td>\n",
       "      <td>3.000000</td>\n",
       "      <td>0.000000</td>\n",
       "      <td>1.0</td>\n",
       "      <td>0.00000</td>\n",
       "    </tr>\n",
       "    <tr>\n",
       "      <th>25%</th>\n",
       "      <td>5000.000000</td>\n",
       "      <td>2006.000000</td>\n",
       "      <td>4.000000</td>\n",
       "      <td>70000.000000</td>\n",
       "      <td>1.0</td>\n",
       "      <td>19.00000</td>\n",
       "    </tr>\n",
       "    <tr>\n",
       "      <th>50%</th>\n",
       "      <td>9000.000000</td>\n",
       "      <td>2011.000000</td>\n",
       "      <td>6.000000</td>\n",
       "      <td>113000.000000</td>\n",
       "      <td>1.0</td>\n",
       "      <td>33.00000</td>\n",
       "    </tr>\n",
       "    <tr>\n",
       "      <th>75%</th>\n",
       "      <td>16839.000000</td>\n",
       "      <td>2014.000000</td>\n",
       "      <td>8.000000</td>\n",
       "      <td>155000.000000</td>\n",
       "      <td>1.0</td>\n",
       "      <td>53.00000</td>\n",
       "    </tr>\n",
       "    <tr>\n",
       "      <th>max</th>\n",
       "      <td>375000.000000</td>\n",
       "      <td>2019.000000</td>\n",
       "      <td>12.000000</td>\n",
       "      <td>990000.000000</td>\n",
       "      <td>1.0</td>\n",
       "      <td>271.00000</td>\n",
       "    </tr>\n",
       "  </tbody>\n",
       "</table>\n",
       "</div>"
      ],
      "text/plain": [
       "               price    model_year     cylinders       odometer   is_4wd  \\\n",
       "count   51525.000000  47906.000000  46265.000000   43633.000000  25572.0   \n",
       "mean    12132.464920   2009.750470      6.125235  115553.461738      1.0   \n",
       "std     10040.803015      6.282065      1.660360   65094.611341      0.0   \n",
       "min         1.000000   1908.000000      3.000000       0.000000      1.0   \n",
       "25%      5000.000000   2006.000000      4.000000   70000.000000      1.0   \n",
       "50%      9000.000000   2011.000000      6.000000  113000.000000      1.0   \n",
       "75%     16839.000000   2014.000000      8.000000  155000.000000      1.0   \n",
       "max    375000.000000   2019.000000     12.000000  990000.000000      1.0   \n",
       "\n",
       "       days_listed  \n",
       "count  51525.00000  \n",
       "mean      39.55476  \n",
       "std       28.20427  \n",
       "min        0.00000  \n",
       "25%       19.00000  \n",
       "50%       33.00000  \n",
       "75%       53.00000  \n",
       "max      271.00000  "
      ]
     },
     "execution_count": 6,
     "metadata": {},
     "output_type": "execute_result"
    }
   ],
   "source": [
    "# Memperlihatkan distribusi data berdasarkan standard analisis\n",
    "\n",
    "df.describe()"
   ]
  },
  {
   "cell_type": "markdown",
   "metadata": {},
   "source": [
    "[Deskripsikan apa yang Anda lihat pada informasi umum dan sampel data yang ditampilkan. Apakah terdapat masalah yang mungkin memerlukan penyelidikan dan perubahan lebih lanjut?]"
   ]
  },
  {
   "cell_type": "code",
   "execution_count": 5,
   "metadata": {
    "scrolled": true
   },
   "outputs": [
    {
     "data": {
      "text/html": [
       "<div>\n",
       "<style scoped>\n",
       "    .dataframe tbody tr th:only-of-type {\n",
       "        vertical-align: middle;\n",
       "    }\n",
       "\n",
       "    .dataframe tbody tr th {\n",
       "        vertical-align: top;\n",
       "    }\n",
       "\n",
       "    .dataframe thead th {\n",
       "        text-align: right;\n",
       "    }\n",
       "</style>\n",
       "<table border=\"1\" class=\"dataframe\">\n",
       "  <thead>\n",
       "    <tr style=\"text-align: right;\">\n",
       "      <th></th>\n",
       "      <th>price</th>\n",
       "      <th>model_year</th>\n",
       "      <th>model</th>\n",
       "      <th>condition</th>\n",
       "      <th>cylinders</th>\n",
       "      <th>fuel</th>\n",
       "      <th>odometer</th>\n",
       "      <th>transmission</th>\n",
       "      <th>type</th>\n",
       "      <th>paint_color</th>\n",
       "      <th>is_4wd</th>\n",
       "      <th>date_posted</th>\n",
       "      <th>days_listed</th>\n",
       "    </tr>\n",
       "  </thead>\n",
       "  <tbody>\n",
       "    <tr>\n",
       "      <th>35857</th>\n",
       "      <td>9000</td>\n",
       "      <td>2009.0</td>\n",
       "      <td>honda pilot</td>\n",
       "      <td>excellent</td>\n",
       "      <td>6.0</td>\n",
       "      <td>gas</td>\n",
       "      <td>173000.0</td>\n",
       "      <td>automatic</td>\n",
       "      <td>SUV</td>\n",
       "      <td>brown</td>\n",
       "      <td>1.0</td>\n",
       "      <td>2019-01-18</td>\n",
       "      <td>99</td>\n",
       "    </tr>\n",
       "    <tr>\n",
       "      <th>16317</th>\n",
       "      <td>3750</td>\n",
       "      <td>2007.0</td>\n",
       "      <td>nissan altima</td>\n",
       "      <td>excellent</td>\n",
       "      <td>4.0</td>\n",
       "      <td>gas</td>\n",
       "      <td>153000.0</td>\n",
       "      <td>automatic</td>\n",
       "      <td>sedan</td>\n",
       "      <td>black</td>\n",
       "      <td>NaN</td>\n",
       "      <td>2019-03-16</td>\n",
       "      <td>6</td>\n",
       "    </tr>\n",
       "    <tr>\n",
       "      <th>3964</th>\n",
       "      <td>3500</td>\n",
       "      <td>2006.0</td>\n",
       "      <td>toyota prius</td>\n",
       "      <td>excellent</td>\n",
       "      <td>4.0</td>\n",
       "      <td>hybrid</td>\n",
       "      <td>169000.0</td>\n",
       "      <td>automatic</td>\n",
       "      <td>sedan</td>\n",
       "      <td>grey</td>\n",
       "      <td>NaN</td>\n",
       "      <td>2018-12-29</td>\n",
       "      <td>3</td>\n",
       "    </tr>\n",
       "    <tr>\n",
       "      <th>47603</th>\n",
       "      <td>10995</td>\n",
       "      <td>2014.0</td>\n",
       "      <td>ford fusion se</td>\n",
       "      <td>excellent</td>\n",
       "      <td>4.0</td>\n",
       "      <td>gas</td>\n",
       "      <td>78476.0</td>\n",
       "      <td>automatic</td>\n",
       "      <td>sedan</td>\n",
       "      <td>NaN</td>\n",
       "      <td>NaN</td>\n",
       "      <td>2019-04-09</td>\n",
       "      <td>7</td>\n",
       "    </tr>\n",
       "    <tr>\n",
       "      <th>1419</th>\n",
       "      <td>8950</td>\n",
       "      <td>2008.0</td>\n",
       "      <td>toyota prius</td>\n",
       "      <td>excellent</td>\n",
       "      <td>4.0</td>\n",
       "      <td>hybrid</td>\n",
       "      <td>76113.0</td>\n",
       "      <td>automatic</td>\n",
       "      <td>hatchback</td>\n",
       "      <td>NaN</td>\n",
       "      <td>NaN</td>\n",
       "      <td>2019-02-18</td>\n",
       "      <td>28</td>\n",
       "    </tr>\n",
       "    <tr>\n",
       "      <th>...</th>\n",
       "      <td>...</td>\n",
       "      <td>...</td>\n",
       "      <td>...</td>\n",
       "      <td>...</td>\n",
       "      <td>...</td>\n",
       "      <td>...</td>\n",
       "      <td>...</td>\n",
       "      <td>...</td>\n",
       "      <td>...</td>\n",
       "      <td>...</td>\n",
       "      <td>...</td>\n",
       "      <td>...</td>\n",
       "      <td>...</td>\n",
       "    </tr>\n",
       "    <tr>\n",
       "      <th>50686</th>\n",
       "      <td>14700</td>\n",
       "      <td>2012.0</td>\n",
       "      <td>ford f-150</td>\n",
       "      <td>excellent</td>\n",
       "      <td>NaN</td>\n",
       "      <td>gas</td>\n",
       "      <td>139000.0</td>\n",
       "      <td>automatic</td>\n",
       "      <td>pickup</td>\n",
       "      <td>NaN</td>\n",
       "      <td>1.0</td>\n",
       "      <td>2018-10-02</td>\n",
       "      <td>25</td>\n",
       "    </tr>\n",
       "    <tr>\n",
       "      <th>96</th>\n",
       "      <td>24600</td>\n",
       "      <td>2013.0</td>\n",
       "      <td>ford mustang gt coupe 2d</td>\n",
       "      <td>good</td>\n",
       "      <td>8.0</td>\n",
       "      <td>gas</td>\n",
       "      <td>22474.0</td>\n",
       "      <td>other</td>\n",
       "      <td>coupe</td>\n",
       "      <td>white</td>\n",
       "      <td>NaN</td>\n",
       "      <td>2018-10-28</td>\n",
       "      <td>22</td>\n",
       "    </tr>\n",
       "    <tr>\n",
       "      <th>5266</th>\n",
       "      <td>999</td>\n",
       "      <td>1998.0</td>\n",
       "      <td>toyota corolla</td>\n",
       "      <td>good</td>\n",
       "      <td>4.0</td>\n",
       "      <td>gas</td>\n",
       "      <td>201000.0</td>\n",
       "      <td>automatic</td>\n",
       "      <td>sedan</td>\n",
       "      <td>blue</td>\n",
       "      <td>NaN</td>\n",
       "      <td>2018-07-14</td>\n",
       "      <td>51</td>\n",
       "    </tr>\n",
       "    <tr>\n",
       "      <th>51349</th>\n",
       "      <td>9499</td>\n",
       "      <td>2015.0</td>\n",
       "      <td>nissan altima</td>\n",
       "      <td>excellent</td>\n",
       "      <td>4.0</td>\n",
       "      <td>gas</td>\n",
       "      <td>91870.0</td>\n",
       "      <td>automatic</td>\n",
       "      <td>sedan</td>\n",
       "      <td>brown</td>\n",
       "      <td>NaN</td>\n",
       "      <td>2019-03-22</td>\n",
       "      <td>16</td>\n",
       "    </tr>\n",
       "    <tr>\n",
       "      <th>41145</th>\n",
       "      <td>11500</td>\n",
       "      <td>2013.0</td>\n",
       "      <td>acura tl</td>\n",
       "      <td>excellent</td>\n",
       "      <td>6.0</td>\n",
       "      <td>gas</td>\n",
       "      <td>48960.0</td>\n",
       "      <td>automatic</td>\n",
       "      <td>sedan</td>\n",
       "      <td>grey</td>\n",
       "      <td>NaN</td>\n",
       "      <td>2019-03-02</td>\n",
       "      <td>44</td>\n",
       "    </tr>\n",
       "  </tbody>\n",
       "</table>\n",
       "<p>20610 rows × 13 columns</p>\n",
       "</div>"
      ],
      "text/plain": [
       "       price  model_year                     model  condition  cylinders  \\\n",
       "35857   9000      2009.0               honda pilot  excellent        6.0   \n",
       "16317   3750      2007.0             nissan altima  excellent        4.0   \n",
       "3964    3500      2006.0              toyota prius  excellent        4.0   \n",
       "47603  10995      2014.0            ford fusion se  excellent        4.0   \n",
       "1419    8950      2008.0              toyota prius  excellent        4.0   \n",
       "...      ...         ...                       ...        ...        ...   \n",
       "50686  14700      2012.0                ford f-150  excellent        NaN   \n",
       "96     24600      2013.0  ford mustang gt coupe 2d       good        8.0   \n",
       "5266     999      1998.0            toyota corolla       good        4.0   \n",
       "51349   9499      2015.0             nissan altima  excellent        4.0   \n",
       "41145  11500      2013.0                  acura tl  excellent        6.0   \n",
       "\n",
       "         fuel  odometer transmission       type paint_color  is_4wd  \\\n",
       "35857     gas  173000.0    automatic        SUV       brown     1.0   \n",
       "16317     gas  153000.0    automatic      sedan       black     NaN   \n",
       "3964   hybrid  169000.0    automatic      sedan        grey     NaN   \n",
       "47603     gas   78476.0    automatic      sedan         NaN     NaN   \n",
       "1419   hybrid   76113.0    automatic  hatchback         NaN     NaN   \n",
       "...       ...       ...          ...        ...         ...     ...   \n",
       "50686     gas  139000.0    automatic     pickup         NaN     1.0   \n",
       "96        gas   22474.0        other      coupe       white     NaN   \n",
       "5266      gas  201000.0    automatic      sedan        blue     NaN   \n",
       "51349     gas   91870.0    automatic      sedan       brown     NaN   \n",
       "41145     gas   48960.0    automatic      sedan        grey     NaN   \n",
       "\n",
       "      date_posted  days_listed  \n",
       "35857  2019-01-18           99  \n",
       "16317  2019-03-16            6  \n",
       "3964   2018-12-29            3  \n",
       "47603  2019-04-09            7  \n",
       "1419   2019-02-18           28  \n",
       "...           ...          ...  \n",
       "50686  2018-10-02           25  \n",
       "96     2018-10-28           22  \n",
       "5266   2018-07-14           51  \n",
       "51349  2019-03-22           16  \n",
       "41145  2019-03-02           44  \n",
       "\n",
       "[20610 rows x 13 columns]"
      ]
     },
     "execution_count": 5,
     "metadata": {},
     "output_type": "execute_result"
    }
   ],
   "source": [
    "# Memperlihatkan gambaran singkat akan pendistribusian value di dataset  yang akan di analisis\n",
    "\n",
    "df.sample(frac=0.4)"
   ]
  },
  {
   "cell_type": "markdown",
   "metadata": {},
   "source": [
    "*Jika melakukan sampling dengan beberapa kali menggunakan perintah (frac=) Bisa di lihat ada keganjian di kolom \n",
    "1. Odomater \n",
    "2. Paintolor\n",
    "3. cylinders\n",
    "\n",
    "- ada nilai nan yang tidak di inginkan\n",
    "\n",
    "- Mobil tertua yang diposting di web adalah tahun 1908 dan yang termuda adalah 2019.\n",
    "\n",
    "- Nilai mean, median, dan max pada kolom price terlalu jauh (variance 30%), mengindikasikan adanya data outlier, begitu pula dengan kolom days_listed.\n",
    "\n",
    "- Kolom is_4wd merupakan nilai Boolean, kita perlu mengisi kolom yang hilang menjadi False, karena kita berasumsi bahwa yang tidak terisi merupakan kendaraan yang tidak memiliki penggerak 4 roda."
   ]
  },
  {
   "cell_type": "markdown",
   "metadata": {},
   "source": [
    "### Eksplorasi dataset\n",
    "\n",
    "- Hal ini di lakukan untuk mengetahi kualitas data yang di dapat untuk di analysis"
   ]
  },
  {
   "cell_type": "code",
   "execution_count": 6,
   "metadata": {},
   "outputs": [
    {
     "data": {
      "text/plain": [
       "price            0.000000\n",
       "model_year       7.023775\n",
       "model            0.000000\n",
       "condition        0.000000\n",
       "cylinders       10.208637\n",
       "fuel             0.000000\n",
       "odometer        15.316836\n",
       "transmission     0.000000\n",
       "type             0.000000\n",
       "paint_color     17.985444\n",
       "is_4wd          50.369723\n",
       "date_posted      0.000000\n",
       "days_listed      0.000000\n",
       "dtype: float64"
      ]
     },
     "execution_count": 6,
     "metadata": {},
     "output_type": "execute_result"
    }
   ],
   "source": [
    "# Mencari nilai yang hilang di berbagai kolom \n",
    "\n",
    "df.isna().sum() / len(df) * 100"
   ]
  },
  {
   "cell_type": "code",
   "execution_count": 8,
   "metadata": {},
   "outputs": [
    {
     "data": {
      "text/plain": [
       "count     42258\n",
       "unique       12\n",
       "top       white\n",
       "freq      10029\n",
       "Name: paint_color, dtype: object"
      ]
     },
     "execution_count": 8,
     "metadata": {},
     "output_type": "execute_result"
    }
   ],
   "source": [
    "df['paint_color'].describe()"
   ]
  },
  {
   "cell_type": "markdown",
   "metadata": {},
   "source": [
    "**terdapat nilai yang hilang di 5 kolom, hal ini di dasari adanya persebaran data yang kosong dan hari di tinjau kembali. langkah tepat selanjutnya adalah mengatasi nilai nilai yang hilang.**"
   ]
  },
  {
   "cell_type": "markdown",
   "metadata": {},
   "source": [
    "## Mengatasi Nilai-Nilai yang Hilang (Jika Ada)"
   ]
  },
  {
   "cell_type": "code",
   "execution_count": 9,
   "metadata": {},
   "outputs": [
    {
     "data": {
      "text/html": [
       "<div>\n",
       "<style scoped>\n",
       "    .dataframe tbody tr th:only-of-type {\n",
       "        vertical-align: middle;\n",
       "    }\n",
       "\n",
       "    .dataframe tbody tr th {\n",
       "        vertical-align: top;\n",
       "    }\n",
       "\n",
       "    .dataframe thead th {\n",
       "        text-align: right;\n",
       "    }\n",
       "</style>\n",
       "<table border=\"1\" class=\"dataframe\">\n",
       "  <thead>\n",
       "    <tr style=\"text-align: right;\">\n",
       "      <th></th>\n",
       "      <th>price</th>\n",
       "      <th>model_year</th>\n",
       "      <th>model</th>\n",
       "      <th>condition</th>\n",
       "      <th>cylinders</th>\n",
       "      <th>fuel</th>\n",
       "      <th>odometer</th>\n",
       "      <th>transmission</th>\n",
       "      <th>type</th>\n",
       "      <th>paint_color</th>\n",
       "      <th>is_4wd</th>\n",
       "      <th>date_posted</th>\n",
       "      <th>days_listed</th>\n",
       "    </tr>\n",
       "  </thead>\n",
       "  <tbody>\n",
       "    <tr>\n",
       "      <th>0</th>\n",
       "      <td>9400</td>\n",
       "      <td>2011.0</td>\n",
       "      <td>bmw x5</td>\n",
       "      <td>good</td>\n",
       "      <td>6.0</td>\n",
       "      <td>gas</td>\n",
       "      <td>145000.0</td>\n",
       "      <td>automatic</td>\n",
       "      <td>SUV</td>\n",
       "      <td>NaN</td>\n",
       "      <td>1.0</td>\n",
       "      <td>2018-06-23</td>\n",
       "      <td>19</td>\n",
       "    </tr>\n",
       "    <tr>\n",
       "      <th>1</th>\n",
       "      <td>25500</td>\n",
       "      <td>NaN</td>\n",
       "      <td>ford f-150</td>\n",
       "      <td>good</td>\n",
       "      <td>6.0</td>\n",
       "      <td>gas</td>\n",
       "      <td>88705.0</td>\n",
       "      <td>automatic</td>\n",
       "      <td>pickup</td>\n",
       "      <td>white</td>\n",
       "      <td>1.0</td>\n",
       "      <td>2018-10-19</td>\n",
       "      <td>50</td>\n",
       "    </tr>\n",
       "    <tr>\n",
       "      <th>2</th>\n",
       "      <td>5500</td>\n",
       "      <td>2013.0</td>\n",
       "      <td>hyundai sonata</td>\n",
       "      <td>like new</td>\n",
       "      <td>4.0</td>\n",
       "      <td>gas</td>\n",
       "      <td>110000.0</td>\n",
       "      <td>automatic</td>\n",
       "      <td>sedan</td>\n",
       "      <td>red</td>\n",
       "      <td>NaN</td>\n",
       "      <td>2019-02-07</td>\n",
       "      <td>79</td>\n",
       "    </tr>\n",
       "    <tr>\n",
       "      <th>3</th>\n",
       "      <td>1500</td>\n",
       "      <td>2003.0</td>\n",
       "      <td>ford f-150</td>\n",
       "      <td>fair</td>\n",
       "      <td>8.0</td>\n",
       "      <td>gas</td>\n",
       "      <td>NaN</td>\n",
       "      <td>automatic</td>\n",
       "      <td>pickup</td>\n",
       "      <td>NaN</td>\n",
       "      <td>NaN</td>\n",
       "      <td>2019-03-22</td>\n",
       "      <td>9</td>\n",
       "    </tr>\n",
       "    <tr>\n",
       "      <th>4</th>\n",
       "      <td>14900</td>\n",
       "      <td>2017.0</td>\n",
       "      <td>chrysler 200</td>\n",
       "      <td>excellent</td>\n",
       "      <td>4.0</td>\n",
       "      <td>gas</td>\n",
       "      <td>80903.0</td>\n",
       "      <td>automatic</td>\n",
       "      <td>sedan</td>\n",
       "      <td>black</td>\n",
       "      <td>NaN</td>\n",
       "      <td>2019-04-02</td>\n",
       "      <td>28</td>\n",
       "    </tr>\n",
       "    <tr>\n",
       "      <th>...</th>\n",
       "      <td>...</td>\n",
       "      <td>...</td>\n",
       "      <td>...</td>\n",
       "      <td>...</td>\n",
       "      <td>...</td>\n",
       "      <td>...</td>\n",
       "      <td>...</td>\n",
       "      <td>...</td>\n",
       "      <td>...</td>\n",
       "      <td>...</td>\n",
       "      <td>...</td>\n",
       "      <td>...</td>\n",
       "      <td>...</td>\n",
       "    </tr>\n",
       "    <tr>\n",
       "      <th>51520</th>\n",
       "      <td>9249</td>\n",
       "      <td>2013.0</td>\n",
       "      <td>nissan maxima</td>\n",
       "      <td>like new</td>\n",
       "      <td>6.0</td>\n",
       "      <td>gas</td>\n",
       "      <td>88136.0</td>\n",
       "      <td>automatic</td>\n",
       "      <td>sedan</td>\n",
       "      <td>black</td>\n",
       "      <td>NaN</td>\n",
       "      <td>2018-10-03</td>\n",
       "      <td>37</td>\n",
       "    </tr>\n",
       "    <tr>\n",
       "      <th>51521</th>\n",
       "      <td>2700</td>\n",
       "      <td>2002.0</td>\n",
       "      <td>honda civic</td>\n",
       "      <td>salvage</td>\n",
       "      <td>4.0</td>\n",
       "      <td>gas</td>\n",
       "      <td>181500.0</td>\n",
       "      <td>automatic</td>\n",
       "      <td>sedan</td>\n",
       "      <td>white</td>\n",
       "      <td>NaN</td>\n",
       "      <td>2018-11-14</td>\n",
       "      <td>22</td>\n",
       "    </tr>\n",
       "    <tr>\n",
       "      <th>51522</th>\n",
       "      <td>3950</td>\n",
       "      <td>2009.0</td>\n",
       "      <td>hyundai sonata</td>\n",
       "      <td>excellent</td>\n",
       "      <td>4.0</td>\n",
       "      <td>gas</td>\n",
       "      <td>128000.0</td>\n",
       "      <td>automatic</td>\n",
       "      <td>sedan</td>\n",
       "      <td>blue</td>\n",
       "      <td>NaN</td>\n",
       "      <td>2018-11-15</td>\n",
       "      <td>32</td>\n",
       "    </tr>\n",
       "    <tr>\n",
       "      <th>51523</th>\n",
       "      <td>7455</td>\n",
       "      <td>2013.0</td>\n",
       "      <td>toyota corolla</td>\n",
       "      <td>good</td>\n",
       "      <td>4.0</td>\n",
       "      <td>gas</td>\n",
       "      <td>139573.0</td>\n",
       "      <td>automatic</td>\n",
       "      <td>sedan</td>\n",
       "      <td>black</td>\n",
       "      <td>NaN</td>\n",
       "      <td>2018-07-02</td>\n",
       "      <td>71</td>\n",
       "    </tr>\n",
       "    <tr>\n",
       "      <th>51524</th>\n",
       "      <td>6300</td>\n",
       "      <td>2014.0</td>\n",
       "      <td>nissan altima</td>\n",
       "      <td>good</td>\n",
       "      <td>4.0</td>\n",
       "      <td>gas</td>\n",
       "      <td>NaN</td>\n",
       "      <td>automatic</td>\n",
       "      <td>sedan</td>\n",
       "      <td>NaN</td>\n",
       "      <td>NaN</td>\n",
       "      <td>2018-06-05</td>\n",
       "      <td>10</td>\n",
       "    </tr>\n",
       "  </tbody>\n",
       "</table>\n",
       "<p>36673 rows × 13 columns</p>\n",
       "</div>"
      ],
      "text/plain": [
       "       price  model_year           model  condition  cylinders fuel  odometer  \\\n",
       "0       9400      2011.0          bmw x5       good        6.0  gas  145000.0   \n",
       "1      25500         NaN      ford f-150       good        6.0  gas   88705.0   \n",
       "2       5500      2013.0  hyundai sonata   like new        4.0  gas  110000.0   \n",
       "3       1500      2003.0      ford f-150       fair        8.0  gas       NaN   \n",
       "4      14900      2017.0    chrysler 200  excellent        4.0  gas   80903.0   \n",
       "...      ...         ...             ...        ...        ...  ...       ...   \n",
       "51520   9249      2013.0   nissan maxima   like new        6.0  gas   88136.0   \n",
       "51521   2700      2002.0     honda civic    salvage        4.0  gas  181500.0   \n",
       "51522   3950      2009.0  hyundai sonata  excellent        4.0  gas  128000.0   \n",
       "51523   7455      2013.0  toyota corolla       good        4.0  gas  139573.0   \n",
       "51524   6300      2014.0   nissan altima       good        4.0  gas       NaN   \n",
       "\n",
       "      transmission    type paint_color  is_4wd date_posted  days_listed  \n",
       "0        automatic     SUV         NaN     1.0  2018-06-23           19  \n",
       "1        automatic  pickup       white     1.0  2018-10-19           50  \n",
       "2        automatic   sedan         red     NaN  2019-02-07           79  \n",
       "3        automatic  pickup         NaN     NaN  2019-03-22            9  \n",
       "4        automatic   sedan       black     NaN  2019-04-02           28  \n",
       "...            ...     ...         ...     ...         ...          ...  \n",
       "51520    automatic   sedan       black     NaN  2018-10-03           37  \n",
       "51521    automatic   sedan       white     NaN  2018-11-14           22  \n",
       "51522    automatic   sedan        blue     NaN  2018-11-15           32  \n",
       "51523    automatic   sedan       black     NaN  2018-07-02           71  \n",
       "51524    automatic   sedan         NaN     NaN  2018-06-05           10  \n",
       "\n",
       "[36673 rows x 13 columns]"
      ]
     },
     "execution_count": 9,
     "metadata": {},
     "output_type": "execute_result"
    }
   ],
   "source": [
    "# Membuat satuan table untuk mempermudah proses pembersihan nilai\n",
    "df_null = df.loc[(df['model_year'].isna()) | (df['cylinders'].isna()) | \n",
    "                (df['odometer'].isna()) | (df['paint_color'].isna()) \n",
    "                 | (df['is_4wd'].isna())] \n",
    "df_null"
   ]
  },
  {
   "cell_type": "code",
   "execution_count": 10,
   "metadata": {
    "scrolled": true
   },
   "outputs": [
    {
     "data": {
      "text/html": [
       "<div>\n",
       "<style scoped>\n",
       "    .dataframe tbody tr th:only-of-type {\n",
       "        vertical-align: middle;\n",
       "    }\n",
       "\n",
       "    .dataframe tbody tr th {\n",
       "        vertical-align: top;\n",
       "    }\n",
       "\n",
       "    .dataframe thead th {\n",
       "        text-align: right;\n",
       "    }\n",
       "</style>\n",
       "<table border=\"1\" class=\"dataframe\">\n",
       "  <thead>\n",
       "    <tr style=\"text-align: right;\">\n",
       "      <th></th>\n",
       "      <th>price</th>\n",
       "      <th>model_year</th>\n",
       "      <th>model</th>\n",
       "      <th>condition</th>\n",
       "      <th>cylinders</th>\n",
       "      <th>fuel</th>\n",
       "      <th>odometer</th>\n",
       "      <th>transmission</th>\n",
       "      <th>type</th>\n",
       "      <th>paint_color</th>\n",
       "      <th>is_4wd</th>\n",
       "      <th>date_posted</th>\n",
       "      <th>days_listed</th>\n",
       "    </tr>\n",
       "  </thead>\n",
       "  <tbody>\n",
       "    <tr>\n",
       "      <th>1</th>\n",
       "      <td>25500</td>\n",
       "      <td>NaN</td>\n",
       "      <td>ford f-150</td>\n",
       "      <td>good</td>\n",
       "      <td>6.0</td>\n",
       "      <td>gas</td>\n",
       "      <td>88705.0</td>\n",
       "      <td>automatic</td>\n",
       "      <td>pickup</td>\n",
       "      <td>white</td>\n",
       "      <td>1.0</td>\n",
       "      <td>2018-10-19</td>\n",
       "      <td>50</td>\n",
       "    </tr>\n",
       "    <tr>\n",
       "      <th>20</th>\n",
       "      <td>6990</td>\n",
       "      <td>NaN</td>\n",
       "      <td>chevrolet tahoe</td>\n",
       "      <td>excellent</td>\n",
       "      <td>8.0</td>\n",
       "      <td>gas</td>\n",
       "      <td>147485.0</td>\n",
       "      <td>automatic</td>\n",
       "      <td>SUV</td>\n",
       "      <td>silver</td>\n",
       "      <td>1.0</td>\n",
       "      <td>2018-08-05</td>\n",
       "      <td>28</td>\n",
       "    </tr>\n",
       "    <tr>\n",
       "      <th>65</th>\n",
       "      <td>12800</td>\n",
       "      <td>NaN</td>\n",
       "      <td>ford f-150</td>\n",
       "      <td>excellent</td>\n",
       "      <td>6.0</td>\n",
       "      <td>gas</td>\n",
       "      <td>108500.0</td>\n",
       "      <td>automatic</td>\n",
       "      <td>pickup</td>\n",
       "      <td>white</td>\n",
       "      <td>NaN</td>\n",
       "      <td>2018-09-23</td>\n",
       "      <td>15</td>\n",
       "    </tr>\n",
       "    <tr>\n",
       "      <th>69</th>\n",
       "      <td>7800</td>\n",
       "      <td>NaN</td>\n",
       "      <td>ford f-150</td>\n",
       "      <td>like new</td>\n",
       "      <td>8.0</td>\n",
       "      <td>gas</td>\n",
       "      <td>97510.0</td>\n",
       "      <td>automatic</td>\n",
       "      <td>truck</td>\n",
       "      <td>white</td>\n",
       "      <td>1.0</td>\n",
       "      <td>2019-02-20</td>\n",
       "      <td>39</td>\n",
       "    </tr>\n",
       "    <tr>\n",
       "      <th>72</th>\n",
       "      <td>3650</td>\n",
       "      <td>NaN</td>\n",
       "      <td>subaru impreza</td>\n",
       "      <td>excellent</td>\n",
       "      <td>NaN</td>\n",
       "      <td>gas</td>\n",
       "      <td>74000.0</td>\n",
       "      <td>automatic</td>\n",
       "      <td>sedan</td>\n",
       "      <td>blue</td>\n",
       "      <td>1.0</td>\n",
       "      <td>2018-08-07</td>\n",
       "      <td>60</td>\n",
       "    </tr>\n",
       "    <tr>\n",
       "      <th>...</th>\n",
       "      <td>...</td>\n",
       "      <td>...</td>\n",
       "      <td>...</td>\n",
       "      <td>...</td>\n",
       "      <td>...</td>\n",
       "      <td>...</td>\n",
       "      <td>...</td>\n",
       "      <td>...</td>\n",
       "      <td>...</td>\n",
       "      <td>...</td>\n",
       "      <td>...</td>\n",
       "      <td>...</td>\n",
       "      <td>...</td>\n",
       "    </tr>\n",
       "    <tr>\n",
       "      <th>51464</th>\n",
       "      <td>8890</td>\n",
       "      <td>NaN</td>\n",
       "      <td>ford f250 super duty</td>\n",
       "      <td>good</td>\n",
       "      <td>8.0</td>\n",
       "      <td>gas</td>\n",
       "      <td>135778.0</td>\n",
       "      <td>automatic</td>\n",
       "      <td>truck</td>\n",
       "      <td>red</td>\n",
       "      <td>1.0</td>\n",
       "      <td>2018-11-28</td>\n",
       "      <td>24</td>\n",
       "    </tr>\n",
       "    <tr>\n",
       "      <th>51465</th>\n",
       "      <td>34595</td>\n",
       "      <td>NaN</td>\n",
       "      <td>gmc yukon</td>\n",
       "      <td>excellent</td>\n",
       "      <td>8.0</td>\n",
       "      <td>gas</td>\n",
       "      <td>86456.0</td>\n",
       "      <td>automatic</td>\n",
       "      <td>SUV</td>\n",
       "      <td>silver</td>\n",
       "      <td>1.0</td>\n",
       "      <td>2019-04-18</td>\n",
       "      <td>13</td>\n",
       "    </tr>\n",
       "    <tr>\n",
       "      <th>51487</th>\n",
       "      <td>1495</td>\n",
       "      <td>NaN</td>\n",
       "      <td>ford f-150</td>\n",
       "      <td>fair</td>\n",
       "      <td>6.0</td>\n",
       "      <td>gas</td>\n",
       "      <td>15804.0</td>\n",
       "      <td>manual</td>\n",
       "      <td>truck</td>\n",
       "      <td>white</td>\n",
       "      <td>1.0</td>\n",
       "      <td>2018-09-18</td>\n",
       "      <td>56</td>\n",
       "    </tr>\n",
       "    <tr>\n",
       "      <th>51488</th>\n",
       "      <td>21900</td>\n",
       "      <td>NaN</td>\n",
       "      <td>chevrolet silverado 3500hd</td>\n",
       "      <td>excellent</td>\n",
       "      <td>8.0</td>\n",
       "      <td>diesel</td>\n",
       "      <td>203000.0</td>\n",
       "      <td>automatic</td>\n",
       "      <td>truck</td>\n",
       "      <td>white</td>\n",
       "      <td>1.0</td>\n",
       "      <td>2018-12-27</td>\n",
       "      <td>37</td>\n",
       "    </tr>\n",
       "    <tr>\n",
       "      <th>51508</th>\n",
       "      <td>4950</td>\n",
       "      <td>NaN</td>\n",
       "      <td>chrysler town &amp; country</td>\n",
       "      <td>excellent</td>\n",
       "      <td>6.0</td>\n",
       "      <td>gas</td>\n",
       "      <td>150000.0</td>\n",
       "      <td>automatic</td>\n",
       "      <td>mini-van</td>\n",
       "      <td>silver</td>\n",
       "      <td>NaN</td>\n",
       "      <td>2018-06-30</td>\n",
       "      <td>48</td>\n",
       "    </tr>\n",
       "  </tbody>\n",
       "</table>\n",
       "<p>3619 rows × 13 columns</p>\n",
       "</div>"
      ],
      "text/plain": [
       "       price  model_year                       model  condition  cylinders  \\\n",
       "1      25500         NaN                  ford f-150       good        6.0   \n",
       "20      6990         NaN             chevrolet tahoe  excellent        8.0   \n",
       "65     12800         NaN                  ford f-150  excellent        6.0   \n",
       "69      7800         NaN                  ford f-150   like new        8.0   \n",
       "72      3650         NaN              subaru impreza  excellent        NaN   \n",
       "...      ...         ...                         ...        ...        ...   \n",
       "51464   8890         NaN        ford f250 super duty       good        8.0   \n",
       "51465  34595         NaN                   gmc yukon  excellent        8.0   \n",
       "51487   1495         NaN                  ford f-150       fair        6.0   \n",
       "51488  21900         NaN  chevrolet silverado 3500hd  excellent        8.0   \n",
       "51508   4950         NaN     chrysler town & country  excellent        6.0   \n",
       "\n",
       "         fuel  odometer transmission      type paint_color  is_4wd  \\\n",
       "1         gas   88705.0    automatic    pickup       white     1.0   \n",
       "20        gas  147485.0    automatic       SUV      silver     1.0   \n",
       "65        gas  108500.0    automatic    pickup       white     NaN   \n",
       "69        gas   97510.0    automatic     truck       white     1.0   \n",
       "72        gas   74000.0    automatic     sedan        blue     1.0   \n",
       "...       ...       ...          ...       ...         ...     ...   \n",
       "51464     gas  135778.0    automatic     truck         red     1.0   \n",
       "51465     gas   86456.0    automatic       SUV      silver     1.0   \n",
       "51487     gas   15804.0       manual     truck       white     1.0   \n",
       "51488  diesel  203000.0    automatic     truck       white     1.0   \n",
       "51508     gas  150000.0    automatic  mini-van      silver     NaN   \n",
       "\n",
       "      date_posted  days_listed  \n",
       "1      2018-10-19           50  \n",
       "20     2018-08-05           28  \n",
       "65     2018-09-23           15  \n",
       "69     2019-02-20           39  \n",
       "72     2018-08-07           60  \n",
       "...           ...          ...  \n",
       "51464  2018-11-28           24  \n",
       "51465  2019-04-18           13  \n",
       "51487  2018-09-18           56  \n",
       "51488  2018-12-27           37  \n",
       "51508  2018-06-30           48  \n",
       "\n",
       "[3619 rows x 13 columns]"
      ]
     },
     "execution_count": 10,
     "metadata": {},
     "output_type": "execute_result"
    }
   ],
   "source": [
    "# cek model_year untuk dapat mempermudah melihat value yang tersebar di dataset\n",
    "\n",
    "df[df['model_year'].isna()]"
   ]
  },
  {
   "cell_type": "code",
   "execution_count": 11,
   "metadata": {
    "scrolled": true
   },
   "outputs": [
    {
     "data": {
      "text/plain": [
       "2013.0    3549\n",
       "2012.0    3468\n",
       "2014.0    3448\n",
       "2011.0    3375\n",
       "2015.0    3323\n",
       "          ... \n",
       "1948.0       1\n",
       "1961.0       1\n",
       "1936.0       1\n",
       "1949.0       1\n",
       "1929.0       1\n",
       "Name: model_year, Length: 68, dtype: int64"
      ]
     },
     "execution_count": 11,
     "metadata": {},
     "output_type": "execute_result"
    }
   ],
   "source": [
    "# cek distribusi yang mudah di kolom dataset\n",
    "df['model_year'].value_counts()"
   ]
  },
  {
   "cell_type": "code",
   "execution_count": 12,
   "metadata": {},
   "outputs": [
    {
     "data": {
      "text/plain": [
       "count    47906.000000\n",
       "mean      2009.750470\n",
       "std          6.282065\n",
       "min       1908.000000\n",
       "25%       2006.000000\n",
       "50%       2011.000000\n",
       "75%       2014.000000\n",
       "max       2019.000000\n",
       "Name: model_year, dtype: float64"
      ]
     },
     "execution_count": 12,
     "metadata": {},
     "output_type": "execute_result"
    }
   ],
   "source": [
    "# Melihat distribusi value dari kolom model_year\n",
    "\n",
    "df['model_year'].describe() "
   ]
  },
  {
   "cell_type": "code",
   "execution_count": 14,
   "metadata": {},
   "outputs": [],
   "source": [
    "# Melakukan pergantian terhadap nilai nilai yang hilang dengan metode mengisi dengan nilai median\n",
    "\n",
    "df['model_year'] = df['model_year'].fillna(df['model_year'].median())"
   ]
  },
  {
   "cell_type": "code",
   "execution_count": 15,
   "metadata": {},
   "outputs": [
    {
     "data": {
      "text/plain": [
       "0"
      ]
     },
     "execution_count": 15,
     "metadata": {},
     "output_type": "execute_result"
    }
   ],
   "source": [
    "# Pengecekan terhadap nilai yang hilang \n",
    "df['model_year'].isna().sum()"
   ]
  },
  {
   "cell_type": "markdown",
   "metadata": {},
   "source": [
    "## Pergantian tipe data dibutuhkan untuk dapat mempermudah proses pengolahan data"
   ]
  },
  {
   "cell_type": "code",
   "execution_count": 16,
   "metadata": {},
   "outputs": [],
   "source": [
    "# Perubahan tipe data\n",
    "df['model_year'] = df['model_year'].astype(int)"
   ]
  },
  {
   "cell_type": "code",
   "execution_count": 17,
   "metadata": {},
   "outputs": [
    {
     "data": {
      "text/plain": [
       "count    46265.000000\n",
       "mean         6.125235\n",
       "std          1.660360\n",
       "min          3.000000\n",
       "25%          4.000000\n",
       "50%          6.000000\n",
       "75%          8.000000\n",
       "max         12.000000\n",
       "Name: cylinders, dtype: float64"
      ]
     },
     "execution_count": 17,
     "metadata": {},
     "output_type": "execute_result"
    }
   ],
   "source": [
    "#memperbaiki nilai yang hilang pada kolom 'cylinders'\n",
    "#melihat distribusi pada kolom cylinders\n",
    "df['cylinders'].describe()\n"
   ]
  },
  {
   "cell_type": "code",
   "execution_count": 18,
   "metadata": {},
   "outputs": [],
   "source": [
    "#mengganti nilai yang hilang dengan median\n",
    "df.loc[df['cylinders'].isna() , 'cylinders'] = df['cylinders'].median()"
   ]
  },
  {
   "cell_type": "code",
   "execution_count": 19,
   "metadata": {},
   "outputs": [
    {
     "data": {
      "text/plain": [
       "0"
      ]
     },
     "execution_count": 19,
     "metadata": {},
     "output_type": "execute_result"
    }
   ],
   "source": [
    "#cek kembali apakah masih ada nilai yang hilang\n",
    "df['cylinders'].isna().sum()"
   ]
  },
  {
   "cell_type": "code",
   "execution_count": 20,
   "metadata": {},
   "outputs": [],
   "source": [
    "#mengganti tipe data cylinders ke integer\n",
    "df['cylinders'] = df['cylinders'].astype(int)"
   ]
  },
  {
   "cell_type": "code",
   "execution_count": 21,
   "metadata": {},
   "outputs": [
    {
     "data": {
      "text/plain": [
       "count     43633.000000\n",
       "mean     115553.461738\n",
       "std       65094.611341\n",
       "min           0.000000\n",
       "25%       70000.000000\n",
       "50%      113000.000000\n",
       "75%      155000.000000\n",
       "max      990000.000000\n",
       "Name: odometer, dtype: float64"
      ]
     },
     "execution_count": 21,
     "metadata": {},
     "output_type": "execute_result"
    }
   ],
   "source": [
    "# cek pendistribusian value di kolom odomater\n",
    "df['odometer'].describe()"
   ]
  },
  {
   "cell_type": "markdown",
   "metadata": {},
   "source": [
    "**Kolom edomater memiliki outlier yang bagusnya diisi dengan median**"
   ]
  },
  {
   "cell_type": "code",
   "execution_count": 22,
   "metadata": {},
   "outputs": [],
   "source": [
    "# Mengubah nilai yang hilang pada kolom odomater\n",
    "df.loc[df['odometer'].isna() , 'odometer'] = df['odometer'].median()"
   ]
  },
  {
   "cell_type": "code",
   "execution_count": 23,
   "metadata": {},
   "outputs": [
    {
     "data": {
      "text/plain": [
       "0"
      ]
     },
     "execution_count": 23,
     "metadata": {},
     "output_type": "execute_result"
    }
   ],
   "source": [
    "# cek kolom odomater apakah nilai - nilai yang di inginkan sudah kembali lagi atau tidak\n",
    "df['odometer'].isna().sum()"
   ]
  },
  {
   "cell_type": "code",
   "execution_count": 24,
   "metadata": {},
   "outputs": [],
   "source": [
    "rules = df['cylinders'].unique()\n",
    "\n",
    "def data_imputation(df, column_filter, column_selected, column_target, rules): #paramater\n",
    "    df[column_target] = df[column_selected]\n",
    "    for rule in rules:\n",
    "        # get median\n",
    "        median = df.loc[(df[column_filter]==rule) & ~(df[column_target].isna()), column_target].median()\n",
    "        # change missing value\n",
    "        df.loc[(df[column_filter]==rule) & (df[column_target].isna()), column_target] = median\n",
    "    return df\n",
    " "
   ]
  },
  {
   "cell_type": "code",
   "execution_count": 25,
   "metadata": {},
   "outputs": [
    {
     "data": {
      "text/html": [
       "<div>\n",
       "<style scoped>\n",
       "    .dataframe tbody tr th:only-of-type {\n",
       "        vertical-align: middle;\n",
       "    }\n",
       "\n",
       "    .dataframe tbody tr th {\n",
       "        vertical-align: top;\n",
       "    }\n",
       "\n",
       "    .dataframe thead th {\n",
       "        text-align: right;\n",
       "    }\n",
       "</style>\n",
       "<table border=\"1\" class=\"dataframe\">\n",
       "  <thead>\n",
       "    <tr style=\"text-align: right;\">\n",
       "      <th></th>\n",
       "      <th>price</th>\n",
       "      <th>model_year</th>\n",
       "      <th>model</th>\n",
       "      <th>condition</th>\n",
       "      <th>cylinders</th>\n",
       "      <th>fuel</th>\n",
       "      <th>odometer</th>\n",
       "      <th>transmission</th>\n",
       "      <th>type</th>\n",
       "      <th>paint_color</th>\n",
       "      <th>is_4wd</th>\n",
       "      <th>date_posted</th>\n",
       "      <th>days_listed</th>\n",
       "    </tr>\n",
       "  </thead>\n",
       "  <tbody>\n",
       "    <tr>\n",
       "      <th>0</th>\n",
       "      <td>9400</td>\n",
       "      <td>2011</td>\n",
       "      <td>bmw x5</td>\n",
       "      <td>good</td>\n",
       "      <td>6</td>\n",
       "      <td>gas</td>\n",
       "      <td>6.0</td>\n",
       "      <td>automatic</td>\n",
       "      <td>SUV</td>\n",
       "      <td>NaN</td>\n",
       "      <td>1.0</td>\n",
       "      <td>2018-06-23</td>\n",
       "      <td>19</td>\n",
       "    </tr>\n",
       "    <tr>\n",
       "      <th>1</th>\n",
       "      <td>25500</td>\n",
       "      <td>2011</td>\n",
       "      <td>ford f-150</td>\n",
       "      <td>good</td>\n",
       "      <td>6</td>\n",
       "      <td>gas</td>\n",
       "      <td>6.0</td>\n",
       "      <td>automatic</td>\n",
       "      <td>pickup</td>\n",
       "      <td>white</td>\n",
       "      <td>1.0</td>\n",
       "      <td>2018-10-19</td>\n",
       "      <td>50</td>\n",
       "    </tr>\n",
       "    <tr>\n",
       "      <th>2</th>\n",
       "      <td>5500</td>\n",
       "      <td>2013</td>\n",
       "      <td>hyundai sonata</td>\n",
       "      <td>like new</td>\n",
       "      <td>4</td>\n",
       "      <td>gas</td>\n",
       "      <td>4.0</td>\n",
       "      <td>automatic</td>\n",
       "      <td>sedan</td>\n",
       "      <td>red</td>\n",
       "      <td>NaN</td>\n",
       "      <td>2019-02-07</td>\n",
       "      <td>79</td>\n",
       "    </tr>\n",
       "    <tr>\n",
       "      <th>3</th>\n",
       "      <td>1500</td>\n",
       "      <td>2003</td>\n",
       "      <td>ford f-150</td>\n",
       "      <td>fair</td>\n",
       "      <td>8</td>\n",
       "      <td>gas</td>\n",
       "      <td>8.0</td>\n",
       "      <td>automatic</td>\n",
       "      <td>pickup</td>\n",
       "      <td>NaN</td>\n",
       "      <td>NaN</td>\n",
       "      <td>2019-03-22</td>\n",
       "      <td>9</td>\n",
       "    </tr>\n",
       "    <tr>\n",
       "      <th>4</th>\n",
       "      <td>14900</td>\n",
       "      <td>2017</td>\n",
       "      <td>chrysler 200</td>\n",
       "      <td>excellent</td>\n",
       "      <td>4</td>\n",
       "      <td>gas</td>\n",
       "      <td>4.0</td>\n",
       "      <td>automatic</td>\n",
       "      <td>sedan</td>\n",
       "      <td>black</td>\n",
       "      <td>NaN</td>\n",
       "      <td>2019-04-02</td>\n",
       "      <td>28</td>\n",
       "    </tr>\n",
       "    <tr>\n",
       "      <th>...</th>\n",
       "      <td>...</td>\n",
       "      <td>...</td>\n",
       "      <td>...</td>\n",
       "      <td>...</td>\n",
       "      <td>...</td>\n",
       "      <td>...</td>\n",
       "      <td>...</td>\n",
       "      <td>...</td>\n",
       "      <td>...</td>\n",
       "      <td>...</td>\n",
       "      <td>...</td>\n",
       "      <td>...</td>\n",
       "      <td>...</td>\n",
       "    </tr>\n",
       "    <tr>\n",
       "      <th>51520</th>\n",
       "      <td>9249</td>\n",
       "      <td>2013</td>\n",
       "      <td>nissan maxima</td>\n",
       "      <td>like new</td>\n",
       "      <td>6</td>\n",
       "      <td>gas</td>\n",
       "      <td>6.0</td>\n",
       "      <td>automatic</td>\n",
       "      <td>sedan</td>\n",
       "      <td>black</td>\n",
       "      <td>NaN</td>\n",
       "      <td>2018-10-03</td>\n",
       "      <td>37</td>\n",
       "    </tr>\n",
       "    <tr>\n",
       "      <th>51521</th>\n",
       "      <td>2700</td>\n",
       "      <td>2002</td>\n",
       "      <td>honda civic</td>\n",
       "      <td>salvage</td>\n",
       "      <td>4</td>\n",
       "      <td>gas</td>\n",
       "      <td>4.0</td>\n",
       "      <td>automatic</td>\n",
       "      <td>sedan</td>\n",
       "      <td>white</td>\n",
       "      <td>NaN</td>\n",
       "      <td>2018-11-14</td>\n",
       "      <td>22</td>\n",
       "    </tr>\n",
       "    <tr>\n",
       "      <th>51522</th>\n",
       "      <td>3950</td>\n",
       "      <td>2009</td>\n",
       "      <td>hyundai sonata</td>\n",
       "      <td>excellent</td>\n",
       "      <td>4</td>\n",
       "      <td>gas</td>\n",
       "      <td>4.0</td>\n",
       "      <td>automatic</td>\n",
       "      <td>sedan</td>\n",
       "      <td>blue</td>\n",
       "      <td>NaN</td>\n",
       "      <td>2018-11-15</td>\n",
       "      <td>32</td>\n",
       "    </tr>\n",
       "    <tr>\n",
       "      <th>51523</th>\n",
       "      <td>7455</td>\n",
       "      <td>2013</td>\n",
       "      <td>toyota corolla</td>\n",
       "      <td>good</td>\n",
       "      <td>4</td>\n",
       "      <td>gas</td>\n",
       "      <td>4.0</td>\n",
       "      <td>automatic</td>\n",
       "      <td>sedan</td>\n",
       "      <td>black</td>\n",
       "      <td>NaN</td>\n",
       "      <td>2018-07-02</td>\n",
       "      <td>71</td>\n",
       "    </tr>\n",
       "    <tr>\n",
       "      <th>51524</th>\n",
       "      <td>6300</td>\n",
       "      <td>2014</td>\n",
       "      <td>nissan altima</td>\n",
       "      <td>good</td>\n",
       "      <td>4</td>\n",
       "      <td>gas</td>\n",
       "      <td>4.0</td>\n",
       "      <td>automatic</td>\n",
       "      <td>sedan</td>\n",
       "      <td>NaN</td>\n",
       "      <td>NaN</td>\n",
       "      <td>2018-06-05</td>\n",
       "      <td>10</td>\n",
       "    </tr>\n",
       "  </tbody>\n",
       "</table>\n",
       "<p>51525 rows × 13 columns</p>\n",
       "</div>"
      ],
      "text/plain": [
       "       price  model_year           model  condition  cylinders fuel  odometer  \\\n",
       "0       9400        2011          bmw x5       good          6  gas       6.0   \n",
       "1      25500        2011      ford f-150       good          6  gas       6.0   \n",
       "2       5500        2013  hyundai sonata   like new          4  gas       4.0   \n",
       "3       1500        2003      ford f-150       fair          8  gas       8.0   \n",
       "4      14900        2017    chrysler 200  excellent          4  gas       4.0   \n",
       "...      ...         ...             ...        ...        ...  ...       ...   \n",
       "51520   9249        2013   nissan maxima   like new          6  gas       6.0   \n",
       "51521   2700        2002     honda civic    salvage          4  gas       4.0   \n",
       "51522   3950        2009  hyundai sonata  excellent          4  gas       4.0   \n",
       "51523   7455        2013  toyota corolla       good          4  gas       4.0   \n",
       "51524   6300        2014   nissan altima       good          4  gas       4.0   \n",
       "\n",
       "      transmission    type paint_color  is_4wd date_posted  days_listed  \n",
       "0        automatic     SUV         NaN     1.0  2018-06-23           19  \n",
       "1        automatic  pickup       white     1.0  2018-10-19           50  \n",
       "2        automatic   sedan         red     NaN  2019-02-07           79  \n",
       "3        automatic  pickup         NaN     NaN  2019-03-22            9  \n",
       "4        automatic   sedan       black     NaN  2019-04-02           28  \n",
       "...            ...     ...         ...     ...         ...          ...  \n",
       "51520    automatic   sedan       black     NaN  2018-10-03           37  \n",
       "51521    automatic   sedan       white     NaN  2018-11-14           22  \n",
       "51522    automatic   sedan        blue     NaN  2018-11-15           32  \n",
       "51523    automatic   sedan       black     NaN  2018-07-02           71  \n",
       "51524    automatic   sedan         NaN     NaN  2018-06-05           10  \n",
       "\n",
       "[51525 rows x 13 columns]"
      ]
     },
     "execution_count": 25,
     "metadata": {},
     "output_type": "execute_result"
    }
   ],
   "source": [
    "data_imputation(df, column_filter='model_year', column_selected='cylinders',column_target='odometer', rules=rules)"
   ]
  },
  {
   "cell_type": "code",
   "execution_count": 28,
   "metadata": {},
   "outputs": [],
   "source": [
    "rules = df['odometer'].unique()\n",
    "\n",
    "def data_imputation(df, column_filter, column_selected, column_target, rules): #paramater\n",
    "    df[column_target] = df[column_selected]\n",
    "    for rule in rules:\n",
    "        # Mendapatkan value median \n",
    "        median = df.loc[(df[column_filter]==rule) & ~(df[column_target].isna()), column_target].median()\n",
    "        # Mengganti missing value\n",
    "        df.loc[(df[column_filter]==rule) & (df[column_target].isna()), column_target] = median\n",
    "    return df"
   ]
  },
  {
   "cell_type": "code",
   "execution_count": 29,
   "metadata": {},
   "outputs": [
    {
     "data": {
      "text/html": [
       "<div>\n",
       "<style scoped>\n",
       "    .dataframe tbody tr th:only-of-type {\n",
       "        vertical-align: middle;\n",
       "    }\n",
       "\n",
       "    .dataframe tbody tr th {\n",
       "        vertical-align: top;\n",
       "    }\n",
       "\n",
       "    .dataframe thead th {\n",
       "        text-align: right;\n",
       "    }\n",
       "</style>\n",
       "<table border=\"1\" class=\"dataframe\">\n",
       "  <thead>\n",
       "    <tr style=\"text-align: right;\">\n",
       "      <th></th>\n",
       "      <th>price</th>\n",
       "      <th>model_year</th>\n",
       "      <th>model</th>\n",
       "      <th>condition</th>\n",
       "      <th>cylinders</th>\n",
       "      <th>fuel</th>\n",
       "      <th>odometer</th>\n",
       "      <th>transmission</th>\n",
       "      <th>type</th>\n",
       "      <th>paint_color</th>\n",
       "      <th>is_4wd</th>\n",
       "      <th>date_posted</th>\n",
       "      <th>days_listed</th>\n",
       "    </tr>\n",
       "  </thead>\n",
       "  <tbody>\n",
       "    <tr>\n",
       "      <th>0</th>\n",
       "      <td>9400</td>\n",
       "      <td>2011</td>\n",
       "      <td>bmw x5</td>\n",
       "      <td>good</td>\n",
       "      <td>6</td>\n",
       "      <td>gas</td>\n",
       "      <td>6.0</td>\n",
       "      <td>automatic</td>\n",
       "      <td>SUV</td>\n",
       "      <td>NaN</td>\n",
       "      <td>1.0</td>\n",
       "      <td>2018-06-23</td>\n",
       "      <td>19</td>\n",
       "    </tr>\n",
       "    <tr>\n",
       "      <th>1</th>\n",
       "      <td>25500</td>\n",
       "      <td>2011</td>\n",
       "      <td>ford f-150</td>\n",
       "      <td>good</td>\n",
       "      <td>6</td>\n",
       "      <td>gas</td>\n",
       "      <td>6.0</td>\n",
       "      <td>automatic</td>\n",
       "      <td>pickup</td>\n",
       "      <td>white</td>\n",
       "      <td>1.0</td>\n",
       "      <td>2018-10-19</td>\n",
       "      <td>50</td>\n",
       "    </tr>\n",
       "    <tr>\n",
       "      <th>2</th>\n",
       "      <td>5500</td>\n",
       "      <td>2013</td>\n",
       "      <td>hyundai sonata</td>\n",
       "      <td>like new</td>\n",
       "      <td>4</td>\n",
       "      <td>gas</td>\n",
       "      <td>4.0</td>\n",
       "      <td>automatic</td>\n",
       "      <td>sedan</td>\n",
       "      <td>red</td>\n",
       "      <td>NaN</td>\n",
       "      <td>2019-02-07</td>\n",
       "      <td>79</td>\n",
       "    </tr>\n",
       "    <tr>\n",
       "      <th>3</th>\n",
       "      <td>1500</td>\n",
       "      <td>2003</td>\n",
       "      <td>ford f-150</td>\n",
       "      <td>fair</td>\n",
       "      <td>8</td>\n",
       "      <td>gas</td>\n",
       "      <td>8.0</td>\n",
       "      <td>automatic</td>\n",
       "      <td>pickup</td>\n",
       "      <td>NaN</td>\n",
       "      <td>NaN</td>\n",
       "      <td>2019-03-22</td>\n",
       "      <td>9</td>\n",
       "    </tr>\n",
       "    <tr>\n",
       "      <th>4</th>\n",
       "      <td>14900</td>\n",
       "      <td>2017</td>\n",
       "      <td>chrysler 200</td>\n",
       "      <td>excellent</td>\n",
       "      <td>4</td>\n",
       "      <td>gas</td>\n",
       "      <td>4.0</td>\n",
       "      <td>automatic</td>\n",
       "      <td>sedan</td>\n",
       "      <td>black</td>\n",
       "      <td>NaN</td>\n",
       "      <td>2019-04-02</td>\n",
       "      <td>28</td>\n",
       "    </tr>\n",
       "    <tr>\n",
       "      <th>...</th>\n",
       "      <td>...</td>\n",
       "      <td>...</td>\n",
       "      <td>...</td>\n",
       "      <td>...</td>\n",
       "      <td>...</td>\n",
       "      <td>...</td>\n",
       "      <td>...</td>\n",
       "      <td>...</td>\n",
       "      <td>...</td>\n",
       "      <td>...</td>\n",
       "      <td>...</td>\n",
       "      <td>...</td>\n",
       "      <td>...</td>\n",
       "    </tr>\n",
       "    <tr>\n",
       "      <th>51520</th>\n",
       "      <td>9249</td>\n",
       "      <td>2013</td>\n",
       "      <td>nissan maxima</td>\n",
       "      <td>like new</td>\n",
       "      <td>6</td>\n",
       "      <td>gas</td>\n",
       "      <td>6.0</td>\n",
       "      <td>automatic</td>\n",
       "      <td>sedan</td>\n",
       "      <td>black</td>\n",
       "      <td>NaN</td>\n",
       "      <td>2018-10-03</td>\n",
       "      <td>37</td>\n",
       "    </tr>\n",
       "    <tr>\n",
       "      <th>51521</th>\n",
       "      <td>2700</td>\n",
       "      <td>2002</td>\n",
       "      <td>honda civic</td>\n",
       "      <td>salvage</td>\n",
       "      <td>4</td>\n",
       "      <td>gas</td>\n",
       "      <td>4.0</td>\n",
       "      <td>automatic</td>\n",
       "      <td>sedan</td>\n",
       "      <td>white</td>\n",
       "      <td>NaN</td>\n",
       "      <td>2018-11-14</td>\n",
       "      <td>22</td>\n",
       "    </tr>\n",
       "    <tr>\n",
       "      <th>51522</th>\n",
       "      <td>3950</td>\n",
       "      <td>2009</td>\n",
       "      <td>hyundai sonata</td>\n",
       "      <td>excellent</td>\n",
       "      <td>4</td>\n",
       "      <td>gas</td>\n",
       "      <td>4.0</td>\n",
       "      <td>automatic</td>\n",
       "      <td>sedan</td>\n",
       "      <td>blue</td>\n",
       "      <td>NaN</td>\n",
       "      <td>2018-11-15</td>\n",
       "      <td>32</td>\n",
       "    </tr>\n",
       "    <tr>\n",
       "      <th>51523</th>\n",
       "      <td>7455</td>\n",
       "      <td>2013</td>\n",
       "      <td>toyota corolla</td>\n",
       "      <td>good</td>\n",
       "      <td>4</td>\n",
       "      <td>gas</td>\n",
       "      <td>4.0</td>\n",
       "      <td>automatic</td>\n",
       "      <td>sedan</td>\n",
       "      <td>black</td>\n",
       "      <td>NaN</td>\n",
       "      <td>2018-07-02</td>\n",
       "      <td>71</td>\n",
       "    </tr>\n",
       "    <tr>\n",
       "      <th>51524</th>\n",
       "      <td>6300</td>\n",
       "      <td>2014</td>\n",
       "      <td>nissan altima</td>\n",
       "      <td>good</td>\n",
       "      <td>4</td>\n",
       "      <td>gas</td>\n",
       "      <td>4.0</td>\n",
       "      <td>automatic</td>\n",
       "      <td>sedan</td>\n",
       "      <td>NaN</td>\n",
       "      <td>NaN</td>\n",
       "      <td>2018-06-05</td>\n",
       "      <td>10</td>\n",
       "    </tr>\n",
       "  </tbody>\n",
       "</table>\n",
       "<p>51525 rows × 13 columns</p>\n",
       "</div>"
      ],
      "text/plain": [
       "       price  model_year           model  condition  cylinders fuel  odometer  \\\n",
       "0       9400        2011          bmw x5       good          6  gas       6.0   \n",
       "1      25500        2011      ford f-150       good          6  gas       6.0   \n",
       "2       5500        2013  hyundai sonata   like new          4  gas       4.0   \n",
       "3       1500        2003      ford f-150       fair          8  gas       8.0   \n",
       "4      14900        2017    chrysler 200  excellent          4  gas       4.0   \n",
       "...      ...         ...             ...        ...        ...  ...       ...   \n",
       "51520   9249        2013   nissan maxima   like new          6  gas       6.0   \n",
       "51521   2700        2002     honda civic    salvage          4  gas       4.0   \n",
       "51522   3950        2009  hyundai sonata  excellent          4  gas       4.0   \n",
       "51523   7455        2013  toyota corolla       good          4  gas       4.0   \n",
       "51524   6300        2014   nissan altima       good          4  gas       4.0   \n",
       "\n",
       "      transmission    type paint_color  is_4wd date_posted  days_listed  \n",
       "0        automatic     SUV         NaN     1.0  2018-06-23           19  \n",
       "1        automatic  pickup       white     1.0  2018-10-19           50  \n",
       "2        automatic   sedan         red     NaN  2019-02-07           79  \n",
       "3        automatic  pickup         NaN     NaN  2019-03-22            9  \n",
       "4        automatic   sedan       black     NaN  2019-04-02           28  \n",
       "...            ...     ...         ...     ...         ...          ...  \n",
       "51520    automatic   sedan       black     NaN  2018-10-03           37  \n",
       "51521    automatic   sedan       white     NaN  2018-11-14           22  \n",
       "51522    automatic   sedan        blue     NaN  2018-11-15           32  \n",
       "51523    automatic   sedan       black     NaN  2018-07-02           71  \n",
       "51524    automatic   sedan         NaN     NaN  2018-06-05           10  \n",
       "\n",
       "[51525 rows x 13 columns]"
      ]
     },
     "execution_count": 29,
     "metadata": {},
     "output_type": "execute_result"
    }
   ],
   "source": [
    "data_imputation(df, column_filter='condition', column_selected='cylinders',column_target='odometer', rules=rules)"
   ]
  },
  {
   "cell_type": "code",
   "execution_count": 30,
   "metadata": {},
   "outputs": [
    {
     "data": {
      "text/plain": [
       "white     10029\n",
       "black      7692\n",
       "silver     6244\n",
       "grey       5037\n",
       "blue       4475\n",
       "red        4421\n",
       "green      1396\n",
       "brown      1223\n",
       "custom     1153\n",
       "yellow      255\n",
       "orange      231\n",
       "purple      102\n",
       "Name: paint_color, dtype: int64"
      ]
     },
     "execution_count": 30,
     "metadata": {},
     "output_type": "execute_result"
    }
   ],
   "source": [
    "#Kolom paint colour di lihat value nya untuk mengetahui berbagai macam value nya\n",
    "df['paint_color'].value_counts()"
   ]
  },
  {
   "cell_type": "code",
   "execution_count": 31,
   "metadata": {},
   "outputs": [],
   "source": [
    "# Pergantian nilai yang berguna untuk pemprosesan data selain string\n",
    "df.loc[df['paint_color'].isna() , 'paint_color'] = 'others'"
   ]
  },
  {
   "cell_type": "code",
   "execution_count": 32,
   "metadata": {},
   "outputs": [
    {
     "data": {
      "text/plain": [
       "0"
      ]
     },
     "execution_count": 32,
     "metadata": {},
     "output_type": "execute_result"
    }
   ],
   "source": [
    "#cek di kolom paint_colour apakah ada value selain 'others'\n",
    "df['paint_color'].isna().sum()\n"
   ]
  },
  {
   "cell_type": "code",
   "execution_count": 33,
   "metadata": {},
   "outputs": [
    {
     "data": {
      "text/plain": [
       "white     10029\n",
       "others     9267\n",
       "black      7692\n",
       "silver     6244\n",
       "grey       5037\n",
       "blue       4475\n",
       "red        4421\n",
       "green      1396\n",
       "brown      1223\n",
       "custom     1153\n",
       "yellow      255\n",
       "orange      231\n",
       "purple      102\n",
       "Name: paint_color, dtype: int64"
      ]
     },
     "execution_count": 33,
     "metadata": {},
     "output_type": "execute_result"
    }
   ],
   "source": [
    "# pengecekan di lakukan untuk melihat pergantian value apakah sudah sesuai dengan yang di harapkan\n",
    "df['paint_color'].value_counts()"
   ]
  },
  {
   "cell_type": "code",
   "execution_count": 34,
   "metadata": {},
   "outputs": [
    {
     "data": {
      "text/plain": [
       "1.0    25572\n",
       "Name: is_4wd, dtype: int64"
      ]
     },
     "execution_count": 34,
     "metadata": {},
     "output_type": "execute_result"
    }
   ],
   "source": [
    "# Melakukan pengecekan terhadap kolom is_4wd untuk apakah harus ada pergantian yang harus di lakukan \n",
    "df['is_4wd'].value_counts()"
   ]
  },
  {
   "cell_type": "code",
   "execution_count": 35,
   "metadata": {},
   "outputs": [],
   "source": [
    "#Mengganti nilai yang hilang dpada kolom dimana nilai sebagaian besar float\n",
    "df['is_4wd'].fillna(0, inplace=True)"
   ]
  },
  {
   "cell_type": "code",
   "execution_count": 36,
   "metadata": {},
   "outputs": [
    {
     "data": {
      "text/plain": [
       "0.0    25953\n",
       "1.0    25572\n",
       "Name: is_4wd, dtype: int64"
      ]
     },
     "execution_count": 36,
     "metadata": {},
     "output_type": "execute_result"
    }
   ],
   "source": [
    "#Penambahan di lakukan untuk dapat memberikan kategori boolean \n",
    "df['is_4wd'].value_counts()"
   ]
  },
  {
   "cell_type": "code",
   "execution_count": 37,
   "metadata": {},
   "outputs": [],
   "source": [
    "#Mengubah tipe data menjadi integer di kolom bolean untuk mempermudah mencari value dari dataset\n",
    "df['is_4wd'] = df['is_4wd'].astype(int)"
   ]
  },
  {
   "cell_type": "code",
   "execution_count": 38,
   "metadata": {},
   "outputs": [
    {
     "data": {
      "text/plain": [
       "0"
      ]
     },
     "execution_count": 38,
     "metadata": {},
     "output_type": "execute_result"
    }
   ],
   "source": [
    "# cek lagi apakah ada nilai duplikat\n",
    "df.duplicated().sum()"
   ]
  },
  {
   "cell_type": "markdown",
   "metadata": {},
   "source": [
    "## Memperbaiki Tipe Data"
   ]
  },
  {
   "cell_type": "markdown",
   "metadata": {},
   "source": [
    "[Karena data kurang lebih telah lengkap, maka perbaiki tipe datanya jika dibutuhkan.]"
   ]
  },
  {
   "cell_type": "code",
   "execution_count": 39,
   "metadata": {},
   "outputs": [],
   "source": [
    "# Mensejajarkan format pada kolom date_posted\n",
    "df['date_posted'] = pd.to_datetime(df['date_posted'], format='%Y-%m-%d')"
   ]
  },
  {
   "cell_type": "code",
   "execution_count": 40,
   "metadata": {},
   "outputs": [],
   "source": [
    "# Supaya dapat memberikan kemudahan dalam melihat kapan iklan ketika di tayangkan \n",
    "df['days_listed'] = pd.to_timedelta(df['days_listed'], unit='D')"
   ]
  },
  {
   "cell_type": "code",
   "execution_count": 41,
   "metadata": {},
   "outputs": [
    {
     "name": "stdout",
     "output_type": "stream",
     "text": [
      "<class 'pandas.core.frame.DataFrame'>\n",
      "RangeIndex: 51525 entries, 0 to 51524\n",
      "Data columns (total 13 columns):\n",
      " #   Column        Non-Null Count  Dtype          \n",
      "---  ------        --------------  -----          \n",
      " 0   price         51525 non-null  int64          \n",
      " 1   model_year    51525 non-null  int64          \n",
      " 2   model         51525 non-null  object         \n",
      " 3   condition     51525 non-null  object         \n",
      " 4   cylinders     51525 non-null  int64          \n",
      " 5   fuel          51525 non-null  object         \n",
      " 6   odometer      51525 non-null  float64        \n",
      " 7   transmission  51525 non-null  object         \n",
      " 8   type          51525 non-null  object         \n",
      " 9   paint_color   51525 non-null  object         \n",
      " 10  is_4wd        51525 non-null  int64          \n",
      " 11  date_posted   51525 non-null  datetime64[ns] \n",
      " 12  days_listed   51525 non-null  timedelta64[ns]\n",
      "dtypes: datetime64[ns](1), float64(1), int64(4), object(6), timedelta64[ns](1)\n",
      "memory usage: 5.1+ MB\n"
     ]
    }
   ],
   "source": [
    "#memastikan kembali tipe data-nya\n",
    "df.info()"
   ]
  },
  {
   "cell_type": "code",
   "execution_count": 45,
   "metadata": {},
   "outputs": [],
   "source": [
    "df['cylinders'] = df['cylinders'].astype(int)"
   ]
  },
  {
   "cell_type": "code",
   "execution_count": 46,
   "metadata": {},
   "outputs": [],
   "source": [
    "df['is_4wd'] = df['is_4wd'].astype(int)"
   ]
  },
  {
   "cell_type": "code",
   "execution_count": 47,
   "metadata": {},
   "outputs": [],
   "source": [
    "df['model_year'] = df['model_year'].astype(int)"
   ]
  },
  {
   "cell_type": "code",
   "execution_count": 48,
   "metadata": {},
   "outputs": [
    {
     "name": "stdout",
     "output_type": "stream",
     "text": [
      "<class 'pandas.core.frame.DataFrame'>\n",
      "RangeIndex: 51525 entries, 0 to 51524\n",
      "Data columns (total 13 columns):\n",
      " #   Column        Non-Null Count  Dtype          \n",
      "---  ------        --------------  -----          \n",
      " 0   price         51525 non-null  int64          \n",
      " 1   model_year    51525 non-null  int64          \n",
      " 2   model         51525 non-null  object         \n",
      " 3   condition     51525 non-null  object         \n",
      " 4   cylinders     51525 non-null  int64          \n",
      " 5   fuel          51525 non-null  object         \n",
      " 6   odometer      51525 non-null  float64        \n",
      " 7   transmission  51525 non-null  object         \n",
      " 8   type          51525 non-null  object         \n",
      " 9   paint_color   51525 non-null  object         \n",
      " 10  is_4wd        51525 non-null  int64          \n",
      " 11  date_posted   51525 non-null  datetime64[ns] \n",
      " 12  days_listed   51525 non-null  timedelta64[ns]\n",
      "dtypes: datetime64[ns](1), float64(1), int64(4), object(6), timedelta64[ns](1)\n",
      "memory usage: 5.1+ MB\n"
     ]
    }
   ],
   "source": [
    "df.info()"
   ]
  },
  {
   "cell_type": "markdown",
   "metadata": {},
   "source": [
    "## Memperbaiki Kualitas Data"
   ]
  },
  {
   "cell_type": "code",
   "execution_count": 49,
   "metadata": {},
   "outputs": [],
   "source": [
    "# Menambahkan waktu dan tanggal pada waktu di jalankannya iklan\n",
    "\n",
    "# Penambahan kolom untuk mendapatkan value yang bisa di jadikan variable \n",
    "df['days'] = df['date_posted'].dt.dayofweek\n",
    "df['months'] = df['date_posted'].dt.month\n",
    "df['years'] = df['date_posted'].dt.year\n",
    "\n",
    "# \n",
    "df['last_listed'] = df['date_posted'] + df['days_listed']"
   ]
  },
  {
   "cell_type": "code",
   "execution_count": 50,
   "metadata": {},
   "outputs": [
    {
     "data": {
      "text/html": [
       "<div>\n",
       "<style scoped>\n",
       "    .dataframe tbody tr th:only-of-type {\n",
       "        vertical-align: middle;\n",
       "    }\n",
       "\n",
       "    .dataframe tbody tr th {\n",
       "        vertical-align: top;\n",
       "    }\n",
       "\n",
       "    .dataframe thead th {\n",
       "        text-align: right;\n",
       "    }\n",
       "</style>\n",
       "<table border=\"1\" class=\"dataframe\">\n",
       "  <thead>\n",
       "    <tr style=\"text-align: right;\">\n",
       "      <th></th>\n",
       "      <th>price</th>\n",
       "      <th>model_year</th>\n",
       "      <th>model</th>\n",
       "      <th>condition</th>\n",
       "      <th>cylinders</th>\n",
       "      <th>fuel</th>\n",
       "      <th>odometer</th>\n",
       "      <th>transmission</th>\n",
       "      <th>type</th>\n",
       "      <th>paint_color</th>\n",
       "      <th>is_4wd</th>\n",
       "      <th>date_posted</th>\n",
       "      <th>days_listed</th>\n",
       "      <th>days</th>\n",
       "      <th>months</th>\n",
       "      <th>years</th>\n",
       "      <th>last_listed</th>\n",
       "    </tr>\n",
       "  </thead>\n",
       "  <tbody>\n",
       "    <tr>\n",
       "      <th>0</th>\n",
       "      <td>9400</td>\n",
       "      <td>2011</td>\n",
       "      <td>bmw x5</td>\n",
       "      <td>good</td>\n",
       "      <td>6</td>\n",
       "      <td>gas</td>\n",
       "      <td>6.0</td>\n",
       "      <td>automatic</td>\n",
       "      <td>SUV</td>\n",
       "      <td>others</td>\n",
       "      <td>1</td>\n",
       "      <td>2018-06-23</td>\n",
       "      <td>19 days</td>\n",
       "      <td>5</td>\n",
       "      <td>6</td>\n",
       "      <td>2018</td>\n",
       "      <td>2018-07-12</td>\n",
       "    </tr>\n",
       "    <tr>\n",
       "      <th>1</th>\n",
       "      <td>25500</td>\n",
       "      <td>2011</td>\n",
       "      <td>ford f-150</td>\n",
       "      <td>good</td>\n",
       "      <td>6</td>\n",
       "      <td>gas</td>\n",
       "      <td>6.0</td>\n",
       "      <td>automatic</td>\n",
       "      <td>pickup</td>\n",
       "      <td>white</td>\n",
       "      <td>1</td>\n",
       "      <td>2018-10-19</td>\n",
       "      <td>50 days</td>\n",
       "      <td>4</td>\n",
       "      <td>10</td>\n",
       "      <td>2018</td>\n",
       "      <td>2018-12-08</td>\n",
       "    </tr>\n",
       "    <tr>\n",
       "      <th>2</th>\n",
       "      <td>5500</td>\n",
       "      <td>2013</td>\n",
       "      <td>hyundai sonata</td>\n",
       "      <td>like new</td>\n",
       "      <td>4</td>\n",
       "      <td>gas</td>\n",
       "      <td>4.0</td>\n",
       "      <td>automatic</td>\n",
       "      <td>sedan</td>\n",
       "      <td>red</td>\n",
       "      <td>0</td>\n",
       "      <td>2019-02-07</td>\n",
       "      <td>79 days</td>\n",
       "      <td>3</td>\n",
       "      <td>2</td>\n",
       "      <td>2019</td>\n",
       "      <td>2019-04-27</td>\n",
       "    </tr>\n",
       "    <tr>\n",
       "      <th>3</th>\n",
       "      <td>1500</td>\n",
       "      <td>2003</td>\n",
       "      <td>ford f-150</td>\n",
       "      <td>fair</td>\n",
       "      <td>8</td>\n",
       "      <td>gas</td>\n",
       "      <td>8.0</td>\n",
       "      <td>automatic</td>\n",
       "      <td>pickup</td>\n",
       "      <td>others</td>\n",
       "      <td>0</td>\n",
       "      <td>2019-03-22</td>\n",
       "      <td>9 days</td>\n",
       "      <td>4</td>\n",
       "      <td>3</td>\n",
       "      <td>2019</td>\n",
       "      <td>2019-03-31</td>\n",
       "    </tr>\n",
       "    <tr>\n",
       "      <th>4</th>\n",
       "      <td>14900</td>\n",
       "      <td>2017</td>\n",
       "      <td>chrysler 200</td>\n",
       "      <td>excellent</td>\n",
       "      <td>4</td>\n",
       "      <td>gas</td>\n",
       "      <td>4.0</td>\n",
       "      <td>automatic</td>\n",
       "      <td>sedan</td>\n",
       "      <td>black</td>\n",
       "      <td>0</td>\n",
       "      <td>2019-04-02</td>\n",
       "      <td>28 days</td>\n",
       "      <td>1</td>\n",
       "      <td>4</td>\n",
       "      <td>2019</td>\n",
       "      <td>2019-04-30</td>\n",
       "    </tr>\n",
       "  </tbody>\n",
       "</table>\n",
       "</div>"
      ],
      "text/plain": [
       "   price  model_year           model  condition  cylinders fuel  odometer  \\\n",
       "0   9400        2011          bmw x5       good          6  gas       6.0   \n",
       "1  25500        2011      ford f-150       good          6  gas       6.0   \n",
       "2   5500        2013  hyundai sonata   like new          4  gas       4.0   \n",
       "3   1500        2003      ford f-150       fair          8  gas       8.0   \n",
       "4  14900        2017    chrysler 200  excellent          4  gas       4.0   \n",
       "\n",
       "  transmission    type paint_color  is_4wd date_posted days_listed  days  \\\n",
       "0    automatic     SUV      others       1  2018-06-23     19 days     5   \n",
       "1    automatic  pickup       white       1  2018-10-19     50 days     4   \n",
       "2    automatic   sedan         red       0  2019-02-07     79 days     3   \n",
       "3    automatic  pickup      others       0  2019-03-22      9 days     4   \n",
       "4    automatic   sedan       black       0  2019-04-02     28 days     1   \n",
       "\n",
       "   months  years last_listed  \n",
       "0       6   2018  2018-07-12  \n",
       "1      10   2018  2018-12-08  \n",
       "2       2   2019  2019-04-27  \n",
       "3       3   2019  2019-03-31  \n",
       "4       4   2019  2019-04-30  "
      ]
     },
     "execution_count": 50,
     "metadata": {},
     "output_type": "execute_result"
    }
   ],
   "source": [
    "# Melihat dataset dengan kolom terbaru\n",
    "df.head()"
   ]
  },
  {
   "cell_type": "code",
   "execution_count": 51,
   "metadata": {},
   "outputs": [
    {
     "data": {
      "text/html": [
       "<div>\n",
       "<style scoped>\n",
       "    .dataframe tbody tr th:only-of-type {\n",
       "        vertical-align: middle;\n",
       "    }\n",
       "\n",
       "    .dataframe tbody tr th {\n",
       "        vertical-align: top;\n",
       "    }\n",
       "\n",
       "    .dataframe thead th {\n",
       "        text-align: right;\n",
       "    }\n",
       "</style>\n",
       "<table border=\"1\" class=\"dataframe\">\n",
       "  <thead>\n",
       "    <tr style=\"text-align: right;\">\n",
       "      <th></th>\n",
       "      <th>price</th>\n",
       "      <th>model_year</th>\n",
       "      <th>model</th>\n",
       "      <th>condition</th>\n",
       "      <th>cylinders</th>\n",
       "      <th>fuel</th>\n",
       "      <th>odometer</th>\n",
       "      <th>transmission</th>\n",
       "      <th>type</th>\n",
       "      <th>paint_color</th>\n",
       "      <th>is_4wd</th>\n",
       "      <th>date_posted</th>\n",
       "      <th>days_listed</th>\n",
       "      <th>days</th>\n",
       "      <th>months</th>\n",
       "      <th>years</th>\n",
       "      <th>last_listed</th>\n",
       "      <th>age_of_car</th>\n",
       "    </tr>\n",
       "  </thead>\n",
       "  <tbody>\n",
       "    <tr>\n",
       "      <th>0</th>\n",
       "      <td>9400</td>\n",
       "      <td>2011</td>\n",
       "      <td>bmw x5</td>\n",
       "      <td>good</td>\n",
       "      <td>6</td>\n",
       "      <td>gas</td>\n",
       "      <td>6.0</td>\n",
       "      <td>automatic</td>\n",
       "      <td>SUV</td>\n",
       "      <td>others</td>\n",
       "      <td>1</td>\n",
       "      <td>2018-06-23</td>\n",
       "      <td>19 days</td>\n",
       "      <td>5</td>\n",
       "      <td>6</td>\n",
       "      <td>2018</td>\n",
       "      <td>2018-07-12</td>\n",
       "      <td>8</td>\n",
       "    </tr>\n",
       "    <tr>\n",
       "      <th>1</th>\n",
       "      <td>25500</td>\n",
       "      <td>2011</td>\n",
       "      <td>ford f-150</td>\n",
       "      <td>good</td>\n",
       "      <td>6</td>\n",
       "      <td>gas</td>\n",
       "      <td>6.0</td>\n",
       "      <td>automatic</td>\n",
       "      <td>pickup</td>\n",
       "      <td>white</td>\n",
       "      <td>1</td>\n",
       "      <td>2018-10-19</td>\n",
       "      <td>50 days</td>\n",
       "      <td>4</td>\n",
       "      <td>10</td>\n",
       "      <td>2018</td>\n",
       "      <td>2018-12-08</td>\n",
       "      <td>8</td>\n",
       "    </tr>\n",
       "    <tr>\n",
       "      <th>2</th>\n",
       "      <td>5500</td>\n",
       "      <td>2013</td>\n",
       "      <td>hyundai sonata</td>\n",
       "      <td>like new</td>\n",
       "      <td>4</td>\n",
       "      <td>gas</td>\n",
       "      <td>4.0</td>\n",
       "      <td>automatic</td>\n",
       "      <td>sedan</td>\n",
       "      <td>red</td>\n",
       "      <td>0</td>\n",
       "      <td>2019-02-07</td>\n",
       "      <td>79 days</td>\n",
       "      <td>3</td>\n",
       "      <td>2</td>\n",
       "      <td>2019</td>\n",
       "      <td>2019-04-27</td>\n",
       "      <td>7</td>\n",
       "    </tr>\n",
       "    <tr>\n",
       "      <th>3</th>\n",
       "      <td>1500</td>\n",
       "      <td>2003</td>\n",
       "      <td>ford f-150</td>\n",
       "      <td>fair</td>\n",
       "      <td>8</td>\n",
       "      <td>gas</td>\n",
       "      <td>8.0</td>\n",
       "      <td>automatic</td>\n",
       "      <td>pickup</td>\n",
       "      <td>others</td>\n",
       "      <td>0</td>\n",
       "      <td>2019-03-22</td>\n",
       "      <td>9 days</td>\n",
       "      <td>4</td>\n",
       "      <td>3</td>\n",
       "      <td>2019</td>\n",
       "      <td>2019-03-31</td>\n",
       "      <td>17</td>\n",
       "    </tr>\n",
       "    <tr>\n",
       "      <th>4</th>\n",
       "      <td>14900</td>\n",
       "      <td>2017</td>\n",
       "      <td>chrysler 200</td>\n",
       "      <td>excellent</td>\n",
       "      <td>4</td>\n",
       "      <td>gas</td>\n",
       "      <td>4.0</td>\n",
       "      <td>automatic</td>\n",
       "      <td>sedan</td>\n",
       "      <td>black</td>\n",
       "      <td>0</td>\n",
       "      <td>2019-04-02</td>\n",
       "      <td>28 days</td>\n",
       "      <td>1</td>\n",
       "      <td>4</td>\n",
       "      <td>2019</td>\n",
       "      <td>2019-04-30</td>\n",
       "      <td>3</td>\n",
       "    </tr>\n",
       "  </tbody>\n",
       "</table>\n",
       "</div>"
      ],
      "text/plain": [
       "   price  model_year           model  condition  cylinders fuel  odometer  \\\n",
       "0   9400        2011          bmw x5       good          6  gas       6.0   \n",
       "1  25500        2011      ford f-150       good          6  gas       6.0   \n",
       "2   5500        2013  hyundai sonata   like new          4  gas       4.0   \n",
       "3   1500        2003      ford f-150       fair          8  gas       8.0   \n",
       "4  14900        2017    chrysler 200  excellent          4  gas       4.0   \n",
       "\n",
       "  transmission    type paint_color  is_4wd date_posted days_listed  days  \\\n",
       "0    automatic     SUV      others       1  2018-06-23     19 days     5   \n",
       "1    automatic  pickup       white       1  2018-10-19     50 days     4   \n",
       "2    automatic   sedan         red       0  2019-02-07     79 days     3   \n",
       "3    automatic  pickup      others       0  2019-03-22      9 days     4   \n",
       "4    automatic   sedan       black       0  2019-04-02     28 days     1   \n",
       "\n",
       "   months  years last_listed  age_of_car  \n",
       "0       6   2018  2018-07-12           8  \n",
       "1      10   2018  2018-12-08           8  \n",
       "2       2   2019  2019-04-27           7  \n",
       "3       3   2019  2019-03-31          17  \n",
       "4       4   2019  2019-04-30           3  "
      ]
     },
     "execution_count": 51,
     "metadata": {},
     "output_type": "execute_result"
    }
   ],
   "source": [
    "# Memberikan tambahan kolom usia kendaraan \n",
    "df['age_of_car'] = df['years'] - df['model_year'] + 1\n",
    "df.head()"
   ]
  },
  {
   "cell_type": "code",
   "execution_count": 59,
   "metadata": {},
   "outputs": [
    {
     "data": {
      "text/plain": [
       "array([  8,   7,  17,   3,   5,   4,  12,   2,  11,   6,   9,   1,  16,\n",
       "        15,  10,  14,  18,  13,  54,  25,  19,  20,  27,  23,  39,  21,\n",
       "        24,  45,  22,  26,  34,  43,  32,  44,  30,  29,  47,  53,  50,\n",
       "        31,  41,  55,  40,  51,  28,  33,  56,  38,  57,  35,  46,  42,\n",
       "        52,  64,  48,  49,  37,  36,  66,  58,  72,  59,  60, 111,  83,\n",
       "        70,  61,  90])"
      ]
     },
     "execution_count": 59,
     "metadata": {},
     "output_type": "execute_result"
    }
   ],
   "source": [
    "df['age_of_car'].unique()"
   ]
  },
  {
   "cell_type": "code",
   "execution_count": 69,
   "metadata": {},
   "outputs": [
    {
     "data": {
      "text/plain": [
       "[1,\n",
       " 2,\n",
       " 3,\n",
       " 4,\n",
       " 5,\n",
       " 6,\n",
       " 7,\n",
       " 8,\n",
       " 9,\n",
       " 10,\n",
       " 11,\n",
       " 12,\n",
       " 13,\n",
       " 14,\n",
       " 15,\n",
       " 16,\n",
       " 17,\n",
       " 18,\n",
       " 19,\n",
       " 20,\n",
       " 21,\n",
       " 22,\n",
       " 23,\n",
       " 24,\n",
       " 25,\n",
       " 26,\n",
       " 27,\n",
       " 28,\n",
       " 29,\n",
       " 30,\n",
       " 31,\n",
       " 32,\n",
       " 33,\n",
       " 34,\n",
       " 35,\n",
       " 36,\n",
       " 37,\n",
       " 38,\n",
       " 39,\n",
       " 40,\n",
       " 41,\n",
       " 42,\n",
       " 43,\n",
       " 44,\n",
       " 45,\n",
       " 46,\n",
       " 47,\n",
       " 48,\n",
       " 49,\n",
       " 50,\n",
       " 51,\n",
       " 52,\n",
       " 53,\n",
       " 54,\n",
       " 55,\n",
       " 56,\n",
       " 57,\n",
       " 58,\n",
       " 59,\n",
       " 60,\n",
       " 61,\n",
       " 64,\n",
       " 66,\n",
       " 70,\n",
       " 72,\n",
       " 83,\n",
       " 90,\n",
       " 111]"
      ]
     },
     "execution_count": 69,
     "metadata": {},
     "output_type": "execute_result"
    }
   ],
   "source": [
    "sorted(df['age_of_car'].unique())"
   ]
  },
  {
   "cell_type": "code",
   "execution_count": 70,
   "metadata": {},
   "outputs": [
    {
     "data": {
      "text/html": [
       "<div>\n",
       "<style scoped>\n",
       "    .dataframe tbody tr th:only-of-type {\n",
       "        vertical-align: middle;\n",
       "    }\n",
       "\n",
       "    .dataframe tbody tr th {\n",
       "        vertical-align: top;\n",
       "    }\n",
       "\n",
       "    .dataframe thead th {\n",
       "        text-align: right;\n",
       "    }\n",
       "</style>\n",
       "<table border=\"1\" class=\"dataframe\">\n",
       "  <thead>\n",
       "    <tr style=\"text-align: right;\">\n",
       "      <th></th>\n",
       "      <th>price</th>\n",
       "      <th>model_year</th>\n",
       "      <th>model</th>\n",
       "      <th>condition</th>\n",
       "      <th>cylinders</th>\n",
       "      <th>fuel</th>\n",
       "      <th>odometer</th>\n",
       "      <th>transmission</th>\n",
       "      <th>type</th>\n",
       "      <th>paint_color</th>\n",
       "      <th>is_4wd</th>\n",
       "      <th>date_posted</th>\n",
       "      <th>days_listed</th>\n",
       "      <th>days</th>\n",
       "      <th>months</th>\n",
       "      <th>years</th>\n",
       "      <th>last_listed</th>\n",
       "      <th>age_of_car</th>\n",
       "      <th>avg_miles</th>\n",
       "      <th>scale_of_condition</th>\n",
       "    </tr>\n",
       "  </thead>\n",
       "  <tbody>\n",
       "    <tr>\n",
       "      <th>0</th>\n",
       "      <td>9400</td>\n",
       "      <td>2011</td>\n",
       "      <td>bmw x5</td>\n",
       "      <td>good</td>\n",
       "      <td>6</td>\n",
       "      <td>gas</td>\n",
       "      <td>6.0</td>\n",
       "      <td>automatic</td>\n",
       "      <td>SUV</td>\n",
       "      <td>others</td>\n",
       "      <td>1</td>\n",
       "      <td>2018-06-23</td>\n",
       "      <td>19 days</td>\n",
       "      <td>5</td>\n",
       "      <td>6</td>\n",
       "      <td>2018</td>\n",
       "      <td>2018-07-12</td>\n",
       "      <td>8</td>\n",
       "      <td>0.750000</td>\n",
       "      <td>4</td>\n",
       "    </tr>\n",
       "    <tr>\n",
       "      <th>1</th>\n",
       "      <td>25500</td>\n",
       "      <td>2011</td>\n",
       "      <td>ford f-150</td>\n",
       "      <td>good</td>\n",
       "      <td>6</td>\n",
       "      <td>gas</td>\n",
       "      <td>6.0</td>\n",
       "      <td>automatic</td>\n",
       "      <td>pickup</td>\n",
       "      <td>white</td>\n",
       "      <td>1</td>\n",
       "      <td>2018-10-19</td>\n",
       "      <td>50 days</td>\n",
       "      <td>4</td>\n",
       "      <td>10</td>\n",
       "      <td>2018</td>\n",
       "      <td>2018-12-08</td>\n",
       "      <td>8</td>\n",
       "      <td>0.750000</td>\n",
       "      <td>4</td>\n",
       "    </tr>\n",
       "    <tr>\n",
       "      <th>2</th>\n",
       "      <td>5500</td>\n",
       "      <td>2013</td>\n",
       "      <td>hyundai sonata</td>\n",
       "      <td>like new</td>\n",
       "      <td>4</td>\n",
       "      <td>gas</td>\n",
       "      <td>4.0</td>\n",
       "      <td>automatic</td>\n",
       "      <td>sedan</td>\n",
       "      <td>red</td>\n",
       "      <td>0</td>\n",
       "      <td>2019-02-07</td>\n",
       "      <td>79 days</td>\n",
       "      <td>3</td>\n",
       "      <td>2</td>\n",
       "      <td>2019</td>\n",
       "      <td>2019-04-27</td>\n",
       "      <td>7</td>\n",
       "      <td>0.571429</td>\n",
       "      <td>3</td>\n",
       "    </tr>\n",
       "    <tr>\n",
       "      <th>3</th>\n",
       "      <td>1500</td>\n",
       "      <td>2003</td>\n",
       "      <td>ford f-150</td>\n",
       "      <td>fair</td>\n",
       "      <td>8</td>\n",
       "      <td>gas</td>\n",
       "      <td>8.0</td>\n",
       "      <td>automatic</td>\n",
       "      <td>pickup</td>\n",
       "      <td>others</td>\n",
       "      <td>0</td>\n",
       "      <td>2019-03-22</td>\n",
       "      <td>9 days</td>\n",
       "      <td>4</td>\n",
       "      <td>3</td>\n",
       "      <td>2019</td>\n",
       "      <td>2019-03-31</td>\n",
       "      <td>17</td>\n",
       "      <td>0.470588</td>\n",
       "      <td>2</td>\n",
       "    </tr>\n",
       "    <tr>\n",
       "      <th>4</th>\n",
       "      <td>14900</td>\n",
       "      <td>2017</td>\n",
       "      <td>chrysler 200</td>\n",
       "      <td>excellent</td>\n",
       "      <td>4</td>\n",
       "      <td>gas</td>\n",
       "      <td>4.0</td>\n",
       "      <td>automatic</td>\n",
       "      <td>sedan</td>\n",
       "      <td>black</td>\n",
       "      <td>0</td>\n",
       "      <td>2019-04-02</td>\n",
       "      <td>28 days</td>\n",
       "      <td>1</td>\n",
       "      <td>4</td>\n",
       "      <td>2019</td>\n",
       "      <td>2019-04-30</td>\n",
       "      <td>3</td>\n",
       "      <td>1.333333</td>\n",
       "      <td>5</td>\n",
       "    </tr>\n",
       "  </tbody>\n",
       "</table>\n",
       "</div>"
      ],
      "text/plain": [
       "   price  model_year           model  condition  cylinders fuel  odometer  \\\n",
       "0   9400        2011          bmw x5       good          6  gas       6.0   \n",
       "1  25500        2011      ford f-150       good          6  gas       6.0   \n",
       "2   5500        2013  hyundai sonata   like new          4  gas       4.0   \n",
       "3   1500        2003      ford f-150       fair          8  gas       8.0   \n",
       "4  14900        2017    chrysler 200  excellent          4  gas       4.0   \n",
       "\n",
       "  transmission    type paint_color  is_4wd date_posted days_listed  days  \\\n",
       "0    automatic     SUV      others       1  2018-06-23     19 days     5   \n",
       "1    automatic  pickup       white       1  2018-10-19     50 days     4   \n",
       "2    automatic   sedan         red       0  2019-02-07     79 days     3   \n",
       "3    automatic  pickup      others       0  2019-03-22      9 days     4   \n",
       "4    automatic   sedan       black       0  2019-04-02     28 days     1   \n",
       "\n",
       "   months  years last_listed  age_of_car  avg_miles  scale_of_condition  \n",
       "0       6   2018  2018-07-12           8   0.750000                   4  \n",
       "1      10   2018  2018-12-08           8   0.750000                   4  \n",
       "2       2   2019  2019-04-27           7   0.571429                   3  \n",
       "3       3   2019  2019-03-31          17   0.470588                   2  \n",
       "4       4   2019  2019-04-30           3   1.333333                   5  "
      ]
     },
     "execution_count": 70,
     "metadata": {},
     "output_type": "execute_result"
    }
   ],
   "source": [
    "# Menambahkan kolom untuk memperliharkan jarak tempuh avg_miles untuk menambah variable hipotesis\n",
    "\n",
    "df['avg_miles'] = df['odometer'] / df['age_of_car']\n",
    "df.head()"
   ]
  },
  {
   "cell_type": "code",
   "execution_count": 71,
   "metadata": {},
   "outputs": [],
   "source": [
    "# Merubah nilai 0 menjadi 1 berguna untuk memberikan analysis dimana perhitungan menjadi dapat mudah di mengerti seperti melakukan klasifikasi \n",
    " \n",
    "df.loc[df['age_of_car'] == 0, 'age_of_car'] = 1\n"
   ]
  },
  {
   "cell_type": "code",
   "execution_count": 72,
   "metadata": {},
   "outputs": [],
   "source": [
    "# Melakukan perhitungan jarak rata rata pertahun dengan kolom spesifik\n",
    "\n",
    "df['avg_miles'] = df['odometer'] / df['age_of_car']"
   ]
  },
  {
   "cell_type": "code",
   "execution_count": 73,
   "metadata": {},
   "outputs": [
    {
     "data": {
      "text/plain": [
       "count    51525.000000\n",
       "mean         1.103162\n",
       "std          1.295621\n",
       "min          0.072072\n",
       "25%          0.461538\n",
       "50%          0.666667\n",
       "75%          1.142857\n",
       "max         10.000000\n",
       "Name: avg_miles, dtype: float64"
      ]
     },
     "execution_count": 73,
     "metadata": {},
     "output_type": "execute_result"
    }
   ],
   "source": [
    "# Mengecek lagi variable yang ada dari kolom secara spesifik\n",
    "df['avg_miles'].describe()"
   ]
  },
  {
   "cell_type": "code",
   "execution_count": 74,
   "metadata": {},
   "outputs": [
    {
     "data": {
      "text/plain": [
       "array(['good', 'like new', 'fair', 'excellent', 'salvage', 'new'],\n",
       "      dtype=object)"
      ]
     },
     "execution_count": 74,
     "metadata": {},
     "output_type": "execute_result"
    }
   ],
   "source": [
    "# Melakukan pengecekan terhadap kolom 'condition' untuk melihat value yang sudah ada\n",
    "\n",
    "df['condition'].unique()"
   ]
  },
  {
   "cell_type": "code",
   "execution_count": 75,
   "metadata": {},
   "outputs": [],
   "source": [
    "# Dengan menggunakan pengklasifikasian manipulasi untuk analysis akan menjadi lebih akurat untuk bisa memberikan hipotesis lebih lanjut di Dataset\n",
    "condition_categoric = df['condition']\n",
    "\n",
    "def scale_of_condition (condition_categoric):\n",
    "    if condition_categoric == 'excellent':\n",
    "        return 5\n",
    "    elif condition_categoric == 'good':\n",
    "        return 4\n",
    "    elif condition_categoric == 'like new':\n",
    "        return 3\n",
    "    elif condition_categoric == 'fair':\n",
    "        return 2\n",
    "    elif condition_categoric == 'new':\n",
    "        return 1\n",
    "    else:\n",
    "        return 0\n"
   ]
  },
  {
   "cell_type": "code",
   "execution_count": 76,
   "metadata": {
    "scrolled": true
   },
   "outputs": [
    {
     "data": {
      "text/html": [
       "<div>\n",
       "<style scoped>\n",
       "    .dataframe tbody tr th:only-of-type {\n",
       "        vertical-align: middle;\n",
       "    }\n",
       "\n",
       "    .dataframe tbody tr th {\n",
       "        vertical-align: top;\n",
       "    }\n",
       "\n",
       "    .dataframe thead th {\n",
       "        text-align: right;\n",
       "    }\n",
       "</style>\n",
       "<table border=\"1\" class=\"dataframe\">\n",
       "  <thead>\n",
       "    <tr style=\"text-align: right;\">\n",
       "      <th></th>\n",
       "      <th>price</th>\n",
       "      <th>model_year</th>\n",
       "      <th>model</th>\n",
       "      <th>condition</th>\n",
       "      <th>cylinders</th>\n",
       "      <th>fuel</th>\n",
       "      <th>odometer</th>\n",
       "      <th>transmission</th>\n",
       "      <th>type</th>\n",
       "      <th>paint_color</th>\n",
       "      <th>is_4wd</th>\n",
       "      <th>date_posted</th>\n",
       "      <th>days_listed</th>\n",
       "      <th>days</th>\n",
       "      <th>months</th>\n",
       "      <th>years</th>\n",
       "      <th>last_listed</th>\n",
       "      <th>age_of_car</th>\n",
       "      <th>avg_miles</th>\n",
       "      <th>scale_of_condition</th>\n",
       "    </tr>\n",
       "  </thead>\n",
       "  <tbody>\n",
       "    <tr>\n",
       "      <th>0</th>\n",
       "      <td>9400</td>\n",
       "      <td>2011</td>\n",
       "      <td>bmw x5</td>\n",
       "      <td>good</td>\n",
       "      <td>6</td>\n",
       "      <td>gas</td>\n",
       "      <td>6.0</td>\n",
       "      <td>automatic</td>\n",
       "      <td>SUV</td>\n",
       "      <td>others</td>\n",
       "      <td>1</td>\n",
       "      <td>2018-06-23</td>\n",
       "      <td>19 days</td>\n",
       "      <td>5</td>\n",
       "      <td>6</td>\n",
       "      <td>2018</td>\n",
       "      <td>2018-07-12</td>\n",
       "      <td>8</td>\n",
       "      <td>0.750000</td>\n",
       "      <td>4</td>\n",
       "    </tr>\n",
       "    <tr>\n",
       "      <th>1</th>\n",
       "      <td>25500</td>\n",
       "      <td>2011</td>\n",
       "      <td>ford f-150</td>\n",
       "      <td>good</td>\n",
       "      <td>6</td>\n",
       "      <td>gas</td>\n",
       "      <td>6.0</td>\n",
       "      <td>automatic</td>\n",
       "      <td>pickup</td>\n",
       "      <td>white</td>\n",
       "      <td>1</td>\n",
       "      <td>2018-10-19</td>\n",
       "      <td>50 days</td>\n",
       "      <td>4</td>\n",
       "      <td>10</td>\n",
       "      <td>2018</td>\n",
       "      <td>2018-12-08</td>\n",
       "      <td>8</td>\n",
       "      <td>0.750000</td>\n",
       "      <td>4</td>\n",
       "    </tr>\n",
       "    <tr>\n",
       "      <th>2</th>\n",
       "      <td>5500</td>\n",
       "      <td>2013</td>\n",
       "      <td>hyundai sonata</td>\n",
       "      <td>like new</td>\n",
       "      <td>4</td>\n",
       "      <td>gas</td>\n",
       "      <td>4.0</td>\n",
       "      <td>automatic</td>\n",
       "      <td>sedan</td>\n",
       "      <td>red</td>\n",
       "      <td>0</td>\n",
       "      <td>2019-02-07</td>\n",
       "      <td>79 days</td>\n",
       "      <td>3</td>\n",
       "      <td>2</td>\n",
       "      <td>2019</td>\n",
       "      <td>2019-04-27</td>\n",
       "      <td>7</td>\n",
       "      <td>0.571429</td>\n",
       "      <td>3</td>\n",
       "    </tr>\n",
       "    <tr>\n",
       "      <th>3</th>\n",
       "      <td>1500</td>\n",
       "      <td>2003</td>\n",
       "      <td>ford f-150</td>\n",
       "      <td>fair</td>\n",
       "      <td>8</td>\n",
       "      <td>gas</td>\n",
       "      <td>8.0</td>\n",
       "      <td>automatic</td>\n",
       "      <td>pickup</td>\n",
       "      <td>others</td>\n",
       "      <td>0</td>\n",
       "      <td>2019-03-22</td>\n",
       "      <td>9 days</td>\n",
       "      <td>4</td>\n",
       "      <td>3</td>\n",
       "      <td>2019</td>\n",
       "      <td>2019-03-31</td>\n",
       "      <td>17</td>\n",
       "      <td>0.470588</td>\n",
       "      <td>2</td>\n",
       "    </tr>\n",
       "    <tr>\n",
       "      <th>4</th>\n",
       "      <td>14900</td>\n",
       "      <td>2017</td>\n",
       "      <td>chrysler 200</td>\n",
       "      <td>excellent</td>\n",
       "      <td>4</td>\n",
       "      <td>gas</td>\n",
       "      <td>4.0</td>\n",
       "      <td>automatic</td>\n",
       "      <td>sedan</td>\n",
       "      <td>black</td>\n",
       "      <td>0</td>\n",
       "      <td>2019-04-02</td>\n",
       "      <td>28 days</td>\n",
       "      <td>1</td>\n",
       "      <td>4</td>\n",
       "      <td>2019</td>\n",
       "      <td>2019-04-30</td>\n",
       "      <td>3</td>\n",
       "      <td>1.333333</td>\n",
       "      <td>5</td>\n",
       "    </tr>\n",
       "  </tbody>\n",
       "</table>\n",
       "</div>"
      ],
      "text/plain": [
       "   price  model_year           model  condition  cylinders fuel  odometer  \\\n",
       "0   9400        2011          bmw x5       good          6  gas       6.0   \n",
       "1  25500        2011      ford f-150       good          6  gas       6.0   \n",
       "2   5500        2013  hyundai sonata   like new          4  gas       4.0   \n",
       "3   1500        2003      ford f-150       fair          8  gas       8.0   \n",
       "4  14900        2017    chrysler 200  excellent          4  gas       4.0   \n",
       "\n",
       "  transmission    type paint_color  is_4wd date_posted days_listed  days  \\\n",
       "0    automatic     SUV      others       1  2018-06-23     19 days     5   \n",
       "1    automatic  pickup       white       1  2018-10-19     50 days     4   \n",
       "2    automatic   sedan         red       0  2019-02-07     79 days     3   \n",
       "3    automatic  pickup      others       0  2019-03-22      9 days     4   \n",
       "4    automatic   sedan       black       0  2019-04-02     28 days     1   \n",
       "\n",
       "   months  years last_listed  age_of_car  avg_miles  scale_of_condition  \n",
       "0       6   2018  2018-07-12           8   0.750000                   4  \n",
       "1      10   2018  2018-12-08           8   0.750000                   4  \n",
       "2       2   2019  2019-04-27           7   0.571429                   3  \n",
       "3       3   2019  2019-03-31          17   0.470588                   2  \n",
       "4       4   2019  2019-04-30           3   1.333333                   5  "
      ]
     },
     "execution_count": 76,
     "metadata": {},
     "output_type": "execute_result"
    }
   ],
   "source": [
    "# Memberikan kolom tambahan untuk dijadikan sebagai skala numerik\n",
    "\n",
    "df['scale_of_condition'] = df['condition'].apply(scale_of_condition)\n",
    "df.head()"
   ]
  },
  {
   "cell_type": "markdown",
   "metadata": {},
   "source": [
    "## Memeriksa Data yang Sudah Bersih"
   ]
  },
  {
   "cell_type": "markdown",
   "metadata": {},
   "source": [
    "[Mengingat data sudah siap untuk dianalisis, mari kita lihat data Anda sekilas lagi. Sangat berguna untuk melihat apa yang sebenarnya akan Anda gunakan untuk analisis.]"
   ]
  },
  {
   "cell_type": "code",
   "execution_count": 77,
   "metadata": {},
   "outputs": [
    {
     "name": "stdout",
     "output_type": "stream",
     "text": [
      "<class 'pandas.core.frame.DataFrame'>\n",
      "RangeIndex: 51525 entries, 0 to 51524\n",
      "Data columns (total 20 columns):\n",
      " #   Column              Non-Null Count  Dtype          \n",
      "---  ------              --------------  -----          \n",
      " 0   price               51525 non-null  int64          \n",
      " 1   model_year          51525 non-null  int64          \n",
      " 2   model               51525 non-null  object         \n",
      " 3   condition           51525 non-null  object         \n",
      " 4   cylinders           51525 non-null  int64          \n",
      " 5   fuel                51525 non-null  object         \n",
      " 6   odometer            51525 non-null  float64        \n",
      " 7   transmission        51525 non-null  object         \n",
      " 8   type                51525 non-null  object         \n",
      " 9   paint_color         51525 non-null  object         \n",
      " 10  is_4wd              51525 non-null  int64          \n",
      " 11  date_posted         51525 non-null  datetime64[ns] \n",
      " 12  days_listed         51525 non-null  timedelta64[ns]\n",
      " 13  days                51525 non-null  int64          \n",
      " 14  months              51525 non-null  int64          \n",
      " 15  years               51525 non-null  int64          \n",
      " 16  last_listed         51525 non-null  datetime64[ns] \n",
      " 17  age_of_car          51525 non-null  int64          \n",
      " 18  avg_miles           51525 non-null  float64        \n",
      " 19  scale_of_condition  51525 non-null  int64          \n",
      "dtypes: datetime64[ns](2), float64(2), int64(9), object(6), timedelta64[ns](1)\n",
      "memory usage: 7.9+ MB\n"
     ]
    }
   ],
   "source": [
    "# Melihat dataset yang sudah di perbaharui untuk melakukan analysis lebih lanjut\n",
    "\n",
    "df.info()"
   ]
  },
  {
   "cell_type": "code",
   "execution_count": 78,
   "metadata": {},
   "outputs": [
    {
     "data": {
      "text/html": [
       "<div>\n",
       "<style scoped>\n",
       "    .dataframe tbody tr th:only-of-type {\n",
       "        vertical-align: middle;\n",
       "    }\n",
       "\n",
       "    .dataframe tbody tr th {\n",
       "        vertical-align: top;\n",
       "    }\n",
       "\n",
       "    .dataframe thead th {\n",
       "        text-align: right;\n",
       "    }\n",
       "</style>\n",
       "<table border=\"1\" class=\"dataframe\">\n",
       "  <thead>\n",
       "    <tr style=\"text-align: right;\">\n",
       "      <th></th>\n",
       "      <th>price</th>\n",
       "      <th>model_year</th>\n",
       "      <th>cylinders</th>\n",
       "      <th>odometer</th>\n",
       "      <th>is_4wd</th>\n",
       "      <th>days_listed</th>\n",
       "      <th>days</th>\n",
       "      <th>months</th>\n",
       "      <th>years</th>\n",
       "      <th>age_of_car</th>\n",
       "      <th>avg_miles</th>\n",
       "      <th>scale_of_condition</th>\n",
       "    </tr>\n",
       "  </thead>\n",
       "  <tbody>\n",
       "    <tr>\n",
       "      <th>count</th>\n",
       "      <td>51525.000000</td>\n",
       "      <td>51525.000000</td>\n",
       "      <td>51525.000000</td>\n",
       "      <td>51525.000000</td>\n",
       "      <td>51525.000000</td>\n",
       "      <td>51525</td>\n",
       "      <td>51525.000000</td>\n",
       "      <td>51525.000000</td>\n",
       "      <td>51525.000000</td>\n",
       "      <td>51525.000000</td>\n",
       "      <td>51525.000000</td>\n",
       "      <td>51525.000000</td>\n",
       "    </tr>\n",
       "    <tr>\n",
       "      <th>mean</th>\n",
       "      <td>12132.464920</td>\n",
       "      <td>2009.838234</td>\n",
       "      <td>6.112450</td>\n",
       "      <td>6.112450</td>\n",
       "      <td>0.496303</td>\n",
       "      <td>39 days 13:18:51.248908297</td>\n",
       "      <td>3.005434</td>\n",
       "      <td>6.628491</td>\n",
       "      <td>2018.307462</td>\n",
       "      <td>9.469229</td>\n",
       "      <td>1.103162</td>\n",
       "      <td>4.309131</td>\n",
       "    </tr>\n",
       "    <tr>\n",
       "      <th>std</th>\n",
       "      <td>10040.803015</td>\n",
       "      <td>6.065836</td>\n",
       "      <td>1.573784</td>\n",
       "      <td>1.573784</td>\n",
       "      <td>0.499991</td>\n",
       "      <td>28 days 04:54:08.916817944</td>\n",
       "      <td>1.997759</td>\n",
       "      <td>3.474134</td>\n",
       "      <td>0.461447</td>\n",
       "      <td>6.079773</td>\n",
       "      <td>1.295621</td>\n",
       "      <td>0.814078</td>\n",
       "    </tr>\n",
       "    <tr>\n",
       "      <th>min</th>\n",
       "      <td>1.000000</td>\n",
       "      <td>1908.000000</td>\n",
       "      <td>3.000000</td>\n",
       "      <td>3.000000</td>\n",
       "      <td>0.000000</td>\n",
       "      <td>0 days 00:00:00</td>\n",
       "      <td>0.000000</td>\n",
       "      <td>1.000000</td>\n",
       "      <td>2018.000000</td>\n",
       "      <td>1.000000</td>\n",
       "      <td>0.072072</td>\n",
       "      <td>0.000000</td>\n",
       "    </tr>\n",
       "    <tr>\n",
       "      <th>25%</th>\n",
       "      <td>5000.000000</td>\n",
       "      <td>2007.000000</td>\n",
       "      <td>4.000000</td>\n",
       "      <td>4.000000</td>\n",
       "      <td>0.000000</td>\n",
       "      <td>19 days 00:00:00</td>\n",
       "      <td>1.000000</td>\n",
       "      <td>3.000000</td>\n",
       "      <td>2018.000000</td>\n",
       "      <td>5.000000</td>\n",
       "      <td>0.461538</td>\n",
       "      <td>4.000000</td>\n",
       "    </tr>\n",
       "    <tr>\n",
       "      <th>50%</th>\n",
       "      <td>9000.000000</td>\n",
       "      <td>2011.000000</td>\n",
       "      <td>6.000000</td>\n",
       "      <td>6.000000</td>\n",
       "      <td>0.000000</td>\n",
       "      <td>33 days 00:00:00</td>\n",
       "      <td>3.000000</td>\n",
       "      <td>7.000000</td>\n",
       "      <td>2018.000000</td>\n",
       "      <td>8.000000</td>\n",
       "      <td>0.666667</td>\n",
       "      <td>4.000000</td>\n",
       "    </tr>\n",
       "    <tr>\n",
       "      <th>75%</th>\n",
       "      <td>16839.000000</td>\n",
       "      <td>2014.000000</td>\n",
       "      <td>8.000000</td>\n",
       "      <td>8.000000</td>\n",
       "      <td>1.000000</td>\n",
       "      <td>53 days 00:00:00</td>\n",
       "      <td>5.000000</td>\n",
       "      <td>10.000000</td>\n",
       "      <td>2019.000000</td>\n",
       "      <td>13.000000</td>\n",
       "      <td>1.142857</td>\n",
       "      <td>5.000000</td>\n",
       "    </tr>\n",
       "    <tr>\n",
       "      <th>max</th>\n",
       "      <td>375000.000000</td>\n",
       "      <td>2019.000000</td>\n",
       "      <td>12.000000</td>\n",
       "      <td>12.000000</td>\n",
       "      <td>1.000000</td>\n",
       "      <td>271 days 00:00:00</td>\n",
       "      <td>6.000000</td>\n",
       "      <td>12.000000</td>\n",
       "      <td>2019.000000</td>\n",
       "      <td>111.000000</td>\n",
       "      <td>10.000000</td>\n",
       "      <td>5.000000</td>\n",
       "    </tr>\n",
       "  </tbody>\n",
       "</table>\n",
       "</div>"
      ],
      "text/plain": [
       "               price    model_year     cylinders      odometer        is_4wd  \\\n",
       "count   51525.000000  51525.000000  51525.000000  51525.000000  51525.000000   \n",
       "mean    12132.464920   2009.838234      6.112450      6.112450      0.496303   \n",
       "std     10040.803015      6.065836      1.573784      1.573784      0.499991   \n",
       "min         1.000000   1908.000000      3.000000      3.000000      0.000000   \n",
       "25%      5000.000000   2007.000000      4.000000      4.000000      0.000000   \n",
       "50%      9000.000000   2011.000000      6.000000      6.000000      0.000000   \n",
       "75%     16839.000000   2014.000000      8.000000      8.000000      1.000000   \n",
       "max    375000.000000   2019.000000     12.000000     12.000000      1.000000   \n",
       "\n",
       "                      days_listed          days        months         years  \\\n",
       "count                       51525  51525.000000  51525.000000  51525.000000   \n",
       "mean   39 days 13:18:51.248908297      3.005434      6.628491   2018.307462   \n",
       "std    28 days 04:54:08.916817944      1.997759      3.474134      0.461447   \n",
       "min               0 days 00:00:00      0.000000      1.000000   2018.000000   \n",
       "25%              19 days 00:00:00      1.000000      3.000000   2018.000000   \n",
       "50%              33 days 00:00:00      3.000000      7.000000   2018.000000   \n",
       "75%              53 days 00:00:00      5.000000     10.000000   2019.000000   \n",
       "max             271 days 00:00:00      6.000000     12.000000   2019.000000   \n",
       "\n",
       "         age_of_car     avg_miles  scale_of_condition  \n",
       "count  51525.000000  51525.000000        51525.000000  \n",
       "mean       9.469229      1.103162            4.309131  \n",
       "std        6.079773      1.295621            0.814078  \n",
       "min        1.000000      0.072072            0.000000  \n",
       "25%        5.000000      0.461538            4.000000  \n",
       "50%        8.000000      0.666667            4.000000  \n",
       "75%       13.000000      1.142857            5.000000  \n",
       "max      111.000000     10.000000            5.000000  "
      ]
     },
     "execution_count": 78,
     "metadata": {},
     "output_type": "execute_result"
    }
   ],
   "source": [
    "# Melihat distribusi variable yang tersebar di dataset setelah di perbaharui \n",
    "df.describe()\n"
   ]
  },
  {
   "cell_type": "code",
   "execution_count": 79,
   "metadata": {},
   "outputs": [
    {
     "data": {
      "text/html": [
       "<div>\n",
       "<style scoped>\n",
       "    .dataframe tbody tr th:only-of-type {\n",
       "        vertical-align: middle;\n",
       "    }\n",
       "\n",
       "    .dataframe tbody tr th {\n",
       "        vertical-align: top;\n",
       "    }\n",
       "\n",
       "    .dataframe thead th {\n",
       "        text-align: right;\n",
       "    }\n",
       "</style>\n",
       "<table border=\"1\" class=\"dataframe\">\n",
       "  <thead>\n",
       "    <tr style=\"text-align: right;\">\n",
       "      <th></th>\n",
       "      <th>price</th>\n",
       "      <th>model_year</th>\n",
       "      <th>model</th>\n",
       "      <th>condition</th>\n",
       "      <th>cylinders</th>\n",
       "      <th>fuel</th>\n",
       "      <th>odometer</th>\n",
       "      <th>transmission</th>\n",
       "      <th>type</th>\n",
       "      <th>paint_color</th>\n",
       "      <th>is_4wd</th>\n",
       "      <th>date_posted</th>\n",
       "      <th>days_listed</th>\n",
       "      <th>days</th>\n",
       "      <th>months</th>\n",
       "      <th>years</th>\n",
       "      <th>last_listed</th>\n",
       "      <th>age_of_car</th>\n",
       "      <th>avg_miles</th>\n",
       "      <th>scale_of_condition</th>\n",
       "    </tr>\n",
       "  </thead>\n",
       "  <tbody>\n",
       "    <tr>\n",
       "      <th>42801</th>\n",
       "      <td>9999</td>\n",
       "      <td>2006</td>\n",
       "      <td>ford f250</td>\n",
       "      <td>good</td>\n",
       "      <td>8</td>\n",
       "      <td>diesel</td>\n",
       "      <td>8.0</td>\n",
       "      <td>automatic</td>\n",
       "      <td>truck</td>\n",
       "      <td>white</td>\n",
       "      <td>1</td>\n",
       "      <td>2018-12-14</td>\n",
       "      <td>30 days</td>\n",
       "      <td>4</td>\n",
       "      <td>12</td>\n",
       "      <td>2018</td>\n",
       "      <td>2019-01-13</td>\n",
       "      <td>13</td>\n",
       "      <td>0.615385</td>\n",
       "      <td>4</td>\n",
       "    </tr>\n",
       "    <tr>\n",
       "      <th>45203</th>\n",
       "      <td>4000</td>\n",
       "      <td>1983</td>\n",
       "      <td>chevrolet silverado</td>\n",
       "      <td>good</td>\n",
       "      <td>8</td>\n",
       "      <td>gas</td>\n",
       "      <td>8.0</td>\n",
       "      <td>automatic</td>\n",
       "      <td>truck</td>\n",
       "      <td>silver</td>\n",
       "      <td>1</td>\n",
       "      <td>2018-09-27</td>\n",
       "      <td>16 days</td>\n",
       "      <td>3</td>\n",
       "      <td>9</td>\n",
       "      <td>2018</td>\n",
       "      <td>2018-10-13</td>\n",
       "      <td>36</td>\n",
       "      <td>0.222222</td>\n",
       "      <td>4</td>\n",
       "    </tr>\n",
       "    <tr>\n",
       "      <th>28437</th>\n",
       "      <td>25000</td>\n",
       "      <td>2014</td>\n",
       "      <td>toyota tundra</td>\n",
       "      <td>excellent</td>\n",
       "      <td>8</td>\n",
       "      <td>gas</td>\n",
       "      <td>8.0</td>\n",
       "      <td>automatic</td>\n",
       "      <td>pickup</td>\n",
       "      <td>black</td>\n",
       "      <td>1</td>\n",
       "      <td>2019-01-17</td>\n",
       "      <td>26 days</td>\n",
       "      <td>3</td>\n",
       "      <td>1</td>\n",
       "      <td>2019</td>\n",
       "      <td>2019-02-12</td>\n",
       "      <td>6</td>\n",
       "      <td>1.333333</td>\n",
       "      <td>5</td>\n",
       "    </tr>\n",
       "    <tr>\n",
       "      <th>17158</th>\n",
       "      <td>12299</td>\n",
       "      <td>2018</td>\n",
       "      <td>nissan sentra</td>\n",
       "      <td>excellent</td>\n",
       "      <td>4</td>\n",
       "      <td>gas</td>\n",
       "      <td>4.0</td>\n",
       "      <td>automatic</td>\n",
       "      <td>other</td>\n",
       "      <td>silver</td>\n",
       "      <td>0</td>\n",
       "      <td>2018-11-14</td>\n",
       "      <td>19 days</td>\n",
       "      <td>2</td>\n",
       "      <td>11</td>\n",
       "      <td>2018</td>\n",
       "      <td>2018-12-03</td>\n",
       "      <td>1</td>\n",
       "      <td>4.000000</td>\n",
       "      <td>5</td>\n",
       "    </tr>\n",
       "    <tr>\n",
       "      <th>46249</th>\n",
       "      <td>24950</td>\n",
       "      <td>2013</td>\n",
       "      <td>toyota tundra</td>\n",
       "      <td>excellent</td>\n",
       "      <td>8</td>\n",
       "      <td>gas</td>\n",
       "      <td>8.0</td>\n",
       "      <td>automatic</td>\n",
       "      <td>pickup</td>\n",
       "      <td>grey</td>\n",
       "      <td>1</td>\n",
       "      <td>2018-10-31</td>\n",
       "      <td>29 days</td>\n",
       "      <td>2</td>\n",
       "      <td>10</td>\n",
       "      <td>2018</td>\n",
       "      <td>2018-11-29</td>\n",
       "      <td>6</td>\n",
       "      <td>1.333333</td>\n",
       "      <td>5</td>\n",
       "    </tr>\n",
       "    <tr>\n",
       "      <th>...</th>\n",
       "      <td>...</td>\n",
       "      <td>...</td>\n",
       "      <td>...</td>\n",
       "      <td>...</td>\n",
       "      <td>...</td>\n",
       "      <td>...</td>\n",
       "      <td>...</td>\n",
       "      <td>...</td>\n",
       "      <td>...</td>\n",
       "      <td>...</td>\n",
       "      <td>...</td>\n",
       "      <td>...</td>\n",
       "      <td>...</td>\n",
       "      <td>...</td>\n",
       "      <td>...</td>\n",
       "      <td>...</td>\n",
       "      <td>...</td>\n",
       "      <td>...</td>\n",
       "      <td>...</td>\n",
       "      <td>...</td>\n",
       "    </tr>\n",
       "    <tr>\n",
       "      <th>49516</th>\n",
       "      <td>11500</td>\n",
       "      <td>2011</td>\n",
       "      <td>jeep grand cherokee</td>\n",
       "      <td>excellent</td>\n",
       "      <td>6</td>\n",
       "      <td>gas</td>\n",
       "      <td>6.0</td>\n",
       "      <td>automatic</td>\n",
       "      <td>SUV</td>\n",
       "      <td>black</td>\n",
       "      <td>0</td>\n",
       "      <td>2018-06-21</td>\n",
       "      <td>65 days</td>\n",
       "      <td>3</td>\n",
       "      <td>6</td>\n",
       "      <td>2018</td>\n",
       "      <td>2018-08-25</td>\n",
       "      <td>8</td>\n",
       "      <td>0.750000</td>\n",
       "      <td>5</td>\n",
       "    </tr>\n",
       "    <tr>\n",
       "      <th>24949</th>\n",
       "      <td>11900</td>\n",
       "      <td>2014</td>\n",
       "      <td>nissan frontier</td>\n",
       "      <td>good</td>\n",
       "      <td>6</td>\n",
       "      <td>gas</td>\n",
       "      <td>6.0</td>\n",
       "      <td>automatic</td>\n",
       "      <td>truck</td>\n",
       "      <td>white</td>\n",
       "      <td>1</td>\n",
       "      <td>2019-03-10</td>\n",
       "      <td>84 days</td>\n",
       "      <td>6</td>\n",
       "      <td>3</td>\n",
       "      <td>2019</td>\n",
       "      <td>2019-06-02</td>\n",
       "      <td>6</td>\n",
       "      <td>1.000000</td>\n",
       "      <td>4</td>\n",
       "    </tr>\n",
       "    <tr>\n",
       "      <th>25693</th>\n",
       "      <td>5500</td>\n",
       "      <td>1984</td>\n",
       "      <td>chevrolet corvette</td>\n",
       "      <td>good</td>\n",
       "      <td>8</td>\n",
       "      <td>gas</td>\n",
       "      <td>8.0</td>\n",
       "      <td>automatic</td>\n",
       "      <td>coupe</td>\n",
       "      <td>others</td>\n",
       "      <td>0</td>\n",
       "      <td>2019-03-30</td>\n",
       "      <td>27 days</td>\n",
       "      <td>5</td>\n",
       "      <td>3</td>\n",
       "      <td>2019</td>\n",
       "      <td>2019-04-26</td>\n",
       "      <td>36</td>\n",
       "      <td>0.222222</td>\n",
       "      <td>4</td>\n",
       "    </tr>\n",
       "    <tr>\n",
       "      <th>32190</th>\n",
       "      <td>10495</td>\n",
       "      <td>2013</td>\n",
       "      <td>ford explorer</td>\n",
       "      <td>excellent</td>\n",
       "      <td>6</td>\n",
       "      <td>gas</td>\n",
       "      <td>6.0</td>\n",
       "      <td>automatic</td>\n",
       "      <td>other</td>\n",
       "      <td>others</td>\n",
       "      <td>1</td>\n",
       "      <td>2018-10-07</td>\n",
       "      <td>20 days</td>\n",
       "      <td>6</td>\n",
       "      <td>10</td>\n",
       "      <td>2018</td>\n",
       "      <td>2018-10-27</td>\n",
       "      <td>6</td>\n",
       "      <td>1.000000</td>\n",
       "      <td>5</td>\n",
       "    </tr>\n",
       "    <tr>\n",
       "      <th>36502</th>\n",
       "      <td>5995</td>\n",
       "      <td>2008</td>\n",
       "      <td>hyundai santa fe</td>\n",
       "      <td>good</td>\n",
       "      <td>6</td>\n",
       "      <td>gas</td>\n",
       "      <td>6.0</td>\n",
       "      <td>other</td>\n",
       "      <td>SUV</td>\n",
       "      <td>white</td>\n",
       "      <td>0</td>\n",
       "      <td>2018-07-22</td>\n",
       "      <td>44 days</td>\n",
       "      <td>6</td>\n",
       "      <td>7</td>\n",
       "      <td>2018</td>\n",
       "      <td>2018-09-04</td>\n",
       "      <td>11</td>\n",
       "      <td>0.545455</td>\n",
       "      <td>4</td>\n",
       "    </tr>\n",
       "  </tbody>\n",
       "</table>\n",
       "<p>25762 rows × 20 columns</p>\n",
       "</div>"
      ],
      "text/plain": [
       "       price  model_year                model  condition  cylinders    fuel  \\\n",
       "42801   9999        2006            ford f250       good          8  diesel   \n",
       "45203   4000        1983  chevrolet silverado       good          8     gas   \n",
       "28437  25000        2014        toyota tundra  excellent          8     gas   \n",
       "17158  12299        2018        nissan sentra  excellent          4     gas   \n",
       "46249  24950        2013        toyota tundra  excellent          8     gas   \n",
       "...      ...         ...                  ...        ...        ...     ...   \n",
       "49516  11500        2011  jeep grand cherokee  excellent          6     gas   \n",
       "24949  11900        2014      nissan frontier       good          6     gas   \n",
       "25693   5500        1984   chevrolet corvette       good          8     gas   \n",
       "32190  10495        2013        ford explorer  excellent          6     gas   \n",
       "36502   5995        2008     hyundai santa fe       good          6     gas   \n",
       "\n",
       "       odometer transmission    type paint_color  is_4wd date_posted  \\\n",
       "42801       8.0    automatic   truck       white       1  2018-12-14   \n",
       "45203       8.0    automatic   truck      silver       1  2018-09-27   \n",
       "28437       8.0    automatic  pickup       black       1  2019-01-17   \n",
       "17158       4.0    automatic   other      silver       0  2018-11-14   \n",
       "46249       8.0    automatic  pickup        grey       1  2018-10-31   \n",
       "...         ...          ...     ...         ...     ...         ...   \n",
       "49516       6.0    automatic     SUV       black       0  2018-06-21   \n",
       "24949       6.0    automatic   truck       white       1  2019-03-10   \n",
       "25693       8.0    automatic   coupe      others       0  2019-03-30   \n",
       "32190       6.0    automatic   other      others       1  2018-10-07   \n",
       "36502       6.0        other     SUV       white       0  2018-07-22   \n",
       "\n",
       "      days_listed  days  months  years last_listed  age_of_car  avg_miles  \\\n",
       "42801     30 days     4      12   2018  2019-01-13          13   0.615385   \n",
       "45203     16 days     3       9   2018  2018-10-13          36   0.222222   \n",
       "28437     26 days     3       1   2019  2019-02-12           6   1.333333   \n",
       "17158     19 days     2      11   2018  2018-12-03           1   4.000000   \n",
       "46249     29 days     2      10   2018  2018-11-29           6   1.333333   \n",
       "...           ...   ...     ...    ...         ...         ...        ...   \n",
       "49516     65 days     3       6   2018  2018-08-25           8   0.750000   \n",
       "24949     84 days     6       3   2019  2019-06-02           6   1.000000   \n",
       "25693     27 days     5       3   2019  2019-04-26          36   0.222222   \n",
       "32190     20 days     6      10   2018  2018-10-27           6   1.000000   \n",
       "36502     44 days     6       7   2018  2018-09-04          11   0.545455   \n",
       "\n",
       "       scale_of_condition  \n",
       "42801                   4  \n",
       "45203                   4  \n",
       "28437                   5  \n",
       "17158                   5  \n",
       "46249                   5  \n",
       "...                   ...  \n",
       "49516                   5  \n",
       "24949                   4  \n",
       "25693                   4  \n",
       "32190                   5  \n",
       "36502                   4  \n",
       "\n",
       "[25762 rows x 20 columns]"
      ]
     },
     "execution_count": 79,
     "metadata": {},
     "output_type": "execute_result"
    }
   ],
   "source": [
    "# melakukan sampling dataset yang sudah di perbahaui\n",
    "df.sample(frac=0.5)"
   ]
  },
  {
   "cell_type": "markdown",
   "metadata": {},
   "source": [
    "## Mempelajari Parameter Inti\n",
    "\n",
    "\n",
    "\n",
    "Parameternya adalah\n",
    "- Harga\n",
    "- Usia kendaraan ketika iklan ditayangkan\n",
    "- Jarak tempuh\n",
    "- Jumlah silinder\n",
    "- Kondisi"
   ]
  },
  {
   "cell_type": "code",
   "execution_count": 80,
   "metadata": {},
   "outputs": [
    {
     "data": {
      "image/png": "[encoded data removed]",
      "text/plain": [
       "<Figure size 1080x504 with 1 Axes>"
      ]
     },
     "metadata": {
      "needs_background": "light"
     },
     "output_type": "display_data"
    },
    {
     "data": {
      "image/png": "[encoded data removed]",
      "text/plain": [
       "<Figure size 1080x504 with 1 Axes>"
      ]
     },
     "metadata": {
      "needs_background": "light"
     },
     "output_type": "display_data"
    }
   ],
   "source": [
    "#Membuat histogram dari kolom price\n",
    "df['price'].hist(figsize=(15,7), bins= 100)\n",
    "plt.title('histogram price column')\n",
    "plt.show()\n",
    "\n",
    "#Membuat boxplot dari kolom 'price' \n",
    "plt.figure(figsize= (15,7))\n",
    "sns.boxplot(data=df , x='price')\n",
    "plt.title('Price column dataframe')\n",
    "plt.show()\n",
    "\n"
   ]
  },
  {
   "cell_type": "markdown",
   "metadata": {},
   "source": [
    "*Dengan membandingkan 2 plot, histogram memperlihatkan banyaknya pembelian truck dan jika di bandingkan dengan boxplot dataframe price column terlihat pembelian truck dengan penumpukan sampai 65000 dan memperlihatkan adanya outlier dengan harga 350000 lebih*"
   ]
  },
  {
   "cell_type": "code",
   "execution_count": 69,
   "metadata": {},
   "outputs": [
    {
     "data": {
      "image/png": "[encoded data removed]",
      "text/plain": [
       "<Figure size 1080x648 with 1 Axes>"
      ]
     },
     "metadata": {
      "needs_background": "light"
     },
     "output_type": "display_data"
    },
    {
     "data": {
      "image/png": "[encoded data removed]",
      "text/plain": [
       "<Figure size 1080x648 with 1 Axes>"
      ]
     },
     "metadata": {
      "needs_background": "light"
     },
     "output_type": "display_data"
    }
   ],
   "source": [
    "#Membuat histogram age_of_car \n",
    "df['age_of_car'].hist(bins= 100, figsize= (15,9))\n",
    "plt.title('histogram in age_of_car ')\n",
    "plt.show()\n",
    "\n",
    "# Membuat boxplot age_of_size\n",
    "plt.figure(figsize= (15,9))\n",
    "sns.boxplot(data=df , x='age_of_car')\n",
    "plt.title('age_of_car dataframe boxplot')\n",
    "plt.show()\n",
    "\n"
   ]
  },
  {
   "cell_type": "markdown",
   "metadata": {},
   "source": [
    "*Jika di lihat dari boxplot dan histogram yang tersedia, terlihat age_of_car banyak yang mendekati angka 0. hal ini memberikan kesimpulan banyak yang menjual mobil baru. dan terdapat outlier yang bisa jadi merupakan mobil classic*"
   ]
  },
  {
   "cell_type": "code",
   "execution_count": 70,
   "metadata": {},
   "outputs": [
    {
     "data": {
      "image/png": "[encoded data removed]",
      "text/plain": [
       "<Figure size 1080x648 with 1 Axes>"
      ]
     },
     "metadata": {
      "needs_background": "light"
     },
     "output_type": "display_data"
    },
    {
     "data": {
      "image/png": "[encoded data removed]",
      "text/plain": [
       "<Figure size 1080x648 with 1 Axes>"
      ]
     },
     "metadata": {
      "needs_background": "light"
     },
     "output_type": "display_data"
    }
   ],
   "source": [
    "# jarak tempuh terlihat di odomater menggunakan histogram\n",
    "df['avg_miles'].hist(figsize= (15,9))\n",
    "plt.title('histogram of avg_miles')\n",
    "plt.show()\n",
    "\n",
    "#melihat kolom Jarak tempuh dengan boxplot\n",
    "plt.figure(figsize= (15,9))\n",
    "sns.boxplot(data=df , x='avg_miles')\n",
    "plt.title('avg_miles data with outlier')\n",
    "plt.show()\n",
    "\n"
   ]
  },
  {
   "cell_type": "markdown",
   "metadata": {},
   "source": [
    "*Pada histogram untuk jarak tempuh terdapat keganjilan dimana jumlah data di sumbu x dimana banyak mobil baru yang ingin di jual dan di iklankan, pada boxplot juga terlihat semakin jelas ketika banyak data yang mendekati 0 dan terus mengarah ke kanan menjadi outlier, di karenakan banyak mobil classic yang juga sering digunakan*"
   ]
  },
  {
   "cell_type": "code",
   "execution_count": 71,
   "metadata": {},
   "outputs": [
    {
     "data": {
      "image/png": "[encoded data removed]",
      "text/plain": [
       "<Figure size 1080x432 with 1 Axes>"
      ]
     },
     "metadata": {
      "needs_background": "light"
     },
     "output_type": "display_data"
    },
    {
     "data": {
      "image/png": "[encoded data removed]",
      "text/plain": [
       "<Figure size 1080x648 with 1 Axes>"
      ]
     },
     "metadata": {
      "needs_background": "light"
     },
     "output_type": "display_data"
    }
   ],
   "source": [
    "# Histogram cylynders \n",
    "df.hist('cylinders', bins=10, figsize= (15,6), range=(0,12))\n",
    "plt.title('cylinders by car')\n",
    "plt.show()\n",
    "\n",
    "#melihat kolom cylinders dengan boxplot\n",
    "plt.figure(figsize= (15,9))\n",
    "sns.boxplot(data=df , x='cylinders')\n",
    "plt.title('cylinders data with outlier')\n",
    "plt.show()\n",
    "\n"
   ]
  },
  {
   "cell_type": "markdown",
   "metadata": {},
   "source": [
    "*dengan histogram terlihat cylynders kebanyakan ada 6,dan 8 sama seperti dengan boxplot yang memperlihatkan hal yang serupa. Akan tetapi tidak memperlihatkan outlier di karenakan jumlah data yang minim, dan mungkin hanya bisa di lihat dari histogram*"
   ]
  },
  {
   "cell_type": "code",
   "execution_count": 72,
   "metadata": {
    "scrolled": true
   },
   "outputs": [
    {
     "data": {
      "image/png": "[encoded data removed]",
      "text/plain": [
       "<Figure size 1080x648 with 1 Axes>"
      ]
     },
     "metadata": {
      "needs_background": "light"
     },
     "output_type": "display_data"
    }
   ],
   "source": [
    "#condition\n",
    "plt.figure(figsize=(15,9))\n",
    "sns.histplot(data=df, x=\"condition\")\n",
    "plt.show()\n",
    "\n"
   ]
  },
  {
   "cell_type": "markdown",
   "metadata": {},
   "source": [
    "*Lebih dari 15000 mobil dengan kondisi 'good'dan 'excellent' mempunyai kecenderungan untuk selalu di iklankan. hal ini mempunyai korelasi dengan kecenderungan daya beli*"
   ]
  },
  {
   "cell_type": "markdown",
   "metadata": {},
   "source": [
    "## Mempelajari dan Menangani Outlier\n",
    "\n",
    "[Dengan hasil di atas, tentukan kolom apa yang mungkin berisi *outlier*, dan buatlah sebuah DataFrame tanpa *outlier* tersebut. Petunjuk: *Outlier* dapat diidentifikasi dengan menentukan batas bawah/atas untuk rentang nilai normal.]"
   ]
  },
  {
   "cell_type": "code",
   "execution_count": 81,
   "metadata": {},
   "outputs": [],
   "source": [
    "#menentukan paramater untuk membatas atas dan bawah outlier dengan membuat fungsi\n",
    "\n",
    "def remove_outlier_IQR(data, col):\n",
    "    Q1=data[col].quantile(0.25)\n",
    "    Q3=data[col].quantile(0.75)\n",
    "    IQR=Q3-Q1\n",
    "    data_new = data[~((data[col] < (Q1 - 1.5*IQR)) | (data[col] > (Q3 + 1.5*IQR)))]\n",
    "    return data_new"
   ]
  },
  {
   "cell_type": "code",
   "execution_count": 82,
   "metadata": {},
   "outputs": [],
   "source": [
    "# Melakukan pemisahan outlier \n",
    "data_for_price = remove_outlier_IQR(data= df, col= 'price')\n",
    "data_for_odometer = remove_outlier_IQR(data= df, col= 'odometer')\n",
    "data_for_age_of_car = remove_outlier_IQR(data= df, col= 'age_of_car')\n"
   ]
  },
  {
   "cell_type": "markdown",
   "metadata": {},
   "source": [
    "## Mempelajari Parameter Inti Tanpa Outlier"
   ]
  },
  {
   "cell_type": "markdown",
   "metadata": {},
   "source": [
    "[Gunakan data yang telah difilter untuk membuat grafik baru. Bandingkan dengan data sebelumnya (yang berisi *outlier*). Tarik kesimpulan masing-masing.]"
   ]
  },
  {
   "cell_type": "code",
   "execution_count": 75,
   "metadata": {
    "scrolled": true
   },
   "outputs": [
    {
     "data": {
      "image/png": "[encoded data removed]",
      "text/plain": [
       "<Figure size 864x648 with 1 Axes>"
      ]
     },
     "metadata": {
      "needs_background": "light"
     },
     "output_type": "display_data"
    },
    {
     "data": {
      "image/png": "[encoded data removed]",
      "text/plain": [
       "<Figure size 864x648 with 1 Axes>"
      ]
     },
     "metadata": {
      "needs_background": "light"
     },
     "output_type": "display_data"
    }
   ],
   "source": [
    "#Membuat perbandingan kolom 'price' dengan dan tidak menggunakan outlier\n",
    "\n",
    "plt.figure(figsize= (12,9))\n",
    "sns.boxplot(data=df , x='price')\n",
    "plt.title('Price data with outlier')\n",
    "plt.show()\n",
    "\n",
    "plt.figure(figsize= (12,9))\n",
    "sns.boxplot(data=data_for_price , x='price')\n",
    "plt.title('Price data without outlier')\n",
    "plt.show()\n"
   ]
  },
  {
   "cell_type": "markdown",
   "metadata": {},
   "source": [
    "*Perbedaan data di lihat pada Q1,Q2,Q3,dan IQR setelah melakukan perkalian dengan 1.5 dengen data yang sudan di filter*"
   ]
  },
  {
   "cell_type": "code",
   "execution_count": 76,
   "metadata": {},
   "outputs": [
    {
     "data": {
      "image/png": "[encoded data removed]",
      "text/plain": [
       "<Figure size 864x648 with 1 Axes>"
      ]
     },
     "metadata": {
      "needs_background": "light"
     },
     "output_type": "display_data"
    },
    {
     "data": {
      "image/png": "[encoded data removed]",
      "text/plain": [
       "<Figure size 864x648 with 1 Axes>"
      ]
     },
     "metadata": {
      "needs_background": "light"
     },
     "output_type": "display_data"
    }
   ],
   "source": [
    "#membandingkan kolom odometer dengan outlier dan tanpa outlier menggunakan boxplot\n",
    "\n",
    "plt.figure(figsize= (12,9))\n",
    "sns.boxplot(data=df , x='odometer')\n",
    "plt.title('Odometer data with outlier')\n",
    "plt.show()\n",
    "\n",
    "plt.figure(figsize= (12,9))\n",
    "sns.boxplot(data=data_for_odometer , x='odometer')\n",
    "plt.title('Odometer data without outlier')\n",
    "plt.show()"
   ]
  },
  {
   "cell_type": "markdown",
   "metadata": {},
   "source": [
    "*Perbandingan odomater dengan tidak adanya outlier terlihat dari range sumbu y yang mengalami penyesuaian dengan metode filter yang di lakukan*"
   ]
  },
  {
   "cell_type": "code",
   "execution_count": 77,
   "metadata": {},
   "outputs": [
    {
     "data": {
      "image/png": "[encoded data removed]",
      "text/plain": [
       "<Figure size 1080x648 with 1 Axes>"
      ]
     },
     "metadata": {
      "needs_background": "light"
     },
     "output_type": "display_data"
    },
    {
     "data": {
      "image/png": "[encoded data removed]",
      "text/plain": [
       "<Figure size 1080x648 with 1 Axes>"
      ]
     },
     "metadata": {
      "needs_background": "light"
     },
     "output_type": "display_data"
    }
   ],
   "source": [
    "# Kolom jarak tempuh yang di berikan perbedaan yang tadinya memiliki Nilai outlier mencapai 990000 Semarang menjadi 250000. Hal ini adalah penyesuaian jarak tempuh maksimal\n",
    "\n",
    "plt.figure(figsize= (15,9))\n",
    "sns.boxplot(data=df , x='age_of_car')\n",
    "plt.title('age_of_car data with outlier')\n",
    "plt.show()\n",
    "\n",
    "plt.figure(figsize= (15,9))\n",
    "sns.boxplot(data=data_for_age_of_car , x='age_of_car')\n",
    "plt.title('age_of_car data without outlier')\n",
    "plt.show()\n",
    "\n"
   ]
  },
  {
   "cell_type": "markdown",
   "metadata": {},
   "source": [
    "*Perbedaan dapat di lihat dari quartil dan interquartil secara menyeluruh dengan hasil dari metode filter yang di terapkan. Di tambah lagi adanya penyesuaian outlier dari 990000 menjadi 250000*"
   ]
  },
  {
   "cell_type": "code",
   "execution_count": 78,
   "metadata": {},
   "outputs": [
    {
     "data": {
      "image/png": "[encoded data removed]",
      "text/plain": [
       "<Figure size 1080x648 with 1 Axes>"
      ]
     },
     "metadata": {
      "needs_background": "light"
     },
     "output_type": "display_data"
    },
    {
     "data": {
      "image/png": "[encoded data removed]",
      "text/plain": [
       "<Figure size 1080x648 with 1 Axes>"
      ]
     },
     "metadata": {
      "needs_background": "light"
     },
     "output_type": "display_data"
    }
   ],
   "source": [
    "# Memperlihatkan perbandingan usia kendaraan age_of_cars dengan menggunakan boxplot dengan dan tanpa outlier\n",
    "\n",
    "plt.figure(figsize= (15,9))\n",
    "sns.boxplot(data=df , x='age_of_car')\n",
    "plt.title('age_of_car data with outlier')\n",
    "plt.show()\n",
    "\n",
    "plt.figure(figsize= (15,9))\n",
    "sns.boxplot(data=data_for_age_of_car , x='age_of_car')\n",
    "plt.title('age_of_car data without outlier')\n",
    "plt.show()"
   ]
  },
  {
   "cell_type": "markdown",
   "metadata": {},
   "source": [
    "*Dengan melihat kolom usia kendaraan pun sudah terlihat dengan jelas perbedaan dengan adanya penyesuaian maksimal outlier dari 100 tahun ke 25 tahun*"
   ]
  },
  {
   "cell_type": "markdown",
   "metadata": {},
   "source": [
    "## Masa Berlaku Iklan\n"
   ]
  },
  {
   "cell_type": "code",
   "execution_count": 79,
   "metadata": {},
   "outputs": [],
   "source": [
    "# Melakukan pengembalian tipe data menjadi integer untuk pembuatan histogram\n",
    "df['days_listed'] = df['days_listed'].dt.days.astype(int)"
   ]
  },
  {
   "cell_type": "code",
   "execution_count": 80,
   "metadata": {},
   "outputs": [
    {
     "data": {
      "image/png": "[encoded data removed]",
      "text/plain": [
       "<Figure size 864x432 with 1 Axes>"
      ]
     },
     "metadata": {
      "needs_background": "light"
     },
     "output_type": "display_data"
    }
   ],
   "source": [
    "# memperlihatkan histogram days_listed untuk dapat melakukan analysa\n",
    "df['days_listed'].hist(bins= 10, figsize= (12,6))\n",
    "plt.show()"
   ]
  },
  {
   "cell_type": "code",
   "execution_count": 81,
   "metadata": {},
   "outputs": [
    {
     "data": {
      "text/plain": [
       "count    51525.00000\n",
       "mean        39.55476\n",
       "std         28.20427\n",
       "min          0.00000\n",
       "25%         19.00000\n",
       "50%         33.00000\n",
       "75%         53.00000\n",
       "max        271.00000\n",
       "Name: days_listed, dtype: float64"
      ]
     },
     "execution_count": 81,
     "metadata": {},
     "output_type": "execute_result"
    }
   ],
   "source": [
    "# melakuakn pengecekan distribusi varibale yanga ada di kolom days_listed\n",
    "df['days_listed'].describe()"
   ]
  },
  {
   "cell_type": "code",
   "execution_count": 82,
   "metadata": {},
   "outputs": [
    {
     "data": {
      "text/plain": [
       "truck          14\n",
       "sedan          13\n",
       "SUV             8\n",
       "pickup          6\n",
       "hatchback       4\n",
       "van             3\n",
       "coupe           3\n",
       "mini-van        2\n",
       "convertible     1\n",
       "Name: type, dtype: int64"
      ]
     },
     "execution_count": 82,
     "metadata": {},
     "output_type": "execute_result"
    }
   ],
   "source": [
    "df.loc[df['days_listed'] == 0, 'type'].value_counts()"
   ]
  },
  {
   "cell_type": "code",
   "execution_count": 83,
   "metadata": {},
   "outputs": [
    {
     "data": {
      "text/html": [
       "<div>\n",
       "<style scoped>\n",
       "    .dataframe tbody tr th:only-of-type {\n",
       "        vertical-align: middle;\n",
       "    }\n",
       "\n",
       "    .dataframe tbody tr th {\n",
       "        vertical-align: top;\n",
       "    }\n",
       "\n",
       "    .dataframe thead th {\n",
       "        text-align: right;\n",
       "    }\n",
       "</style>\n",
       "<table border=\"1\" class=\"dataframe\">\n",
       "  <thead>\n",
       "    <tr style=\"text-align: right;\">\n",
       "      <th></th>\n",
       "      <th>price</th>\n",
       "      <th>model_year</th>\n",
       "      <th>model</th>\n",
       "      <th>condition</th>\n",
       "      <th>cylinders</th>\n",
       "      <th>fuel</th>\n",
       "      <th>odometer</th>\n",
       "      <th>transmission</th>\n",
       "      <th>type</th>\n",
       "      <th>paint_color</th>\n",
       "      <th>is_4wd</th>\n",
       "      <th>date_posted</th>\n",
       "      <th>days_listed</th>\n",
       "      <th>days</th>\n",
       "      <th>months</th>\n",
       "      <th>years</th>\n",
       "      <th>last_listed</th>\n",
       "      <th>age_of_car</th>\n",
       "      <th>avg_miles</th>\n",
       "      <th>scale_of_condition</th>\n",
       "    </tr>\n",
       "  </thead>\n",
       "  <tbody>\n",
       "    <tr>\n",
       "      <th>4360</th>\n",
       "      <td>5200</td>\n",
       "      <td>2011</td>\n",
       "      <td>chevrolet impala</td>\n",
       "      <td>like new</td>\n",
       "      <td>6</td>\n",
       "      <td>gas</td>\n",
       "      <td>6.0</td>\n",
       "      <td>automatic</td>\n",
       "      <td>sedan</td>\n",
       "      <td>others</td>\n",
       "      <td>0</td>\n",
       "      <td>2018-05-24</td>\n",
       "      <td>271</td>\n",
       "      <td>3</td>\n",
       "      <td>5</td>\n",
       "      <td>2018</td>\n",
       "      <td>2019-02-19</td>\n",
       "      <td>8</td>\n",
       "      <td>0.75</td>\n",
       "      <td>3</td>\n",
       "    </tr>\n",
       "  </tbody>\n",
       "</table>\n",
       "</div>"
      ],
      "text/plain": [
       "      price  model_year             model condition  cylinders fuel  odometer  \\\n",
       "4360   5200        2011  chevrolet impala  like new          6  gas       6.0   \n",
       "\n",
       "     transmission   type paint_color  is_4wd date_posted  days_listed  days  \\\n",
       "4360    automatic  sedan      others       0  2018-05-24          271     3   \n",
       "\n",
       "      months  years last_listed  age_of_car  avg_miles  scale_of_condition  \n",
       "4360       5   2018  2019-02-19           8       0.75                   3  "
      ]
     },
     "execution_count": 83,
     "metadata": {},
     "output_type": "execute_result"
    }
   ],
   "source": [
    "df.loc[df['days_listed'] == 271]"
   ]
  },
  {
   "cell_type": "markdown",
   "metadata": {},
   "source": [
    "**Dengan menggunakan metode describe di atas, bisa di ketahui bahwa iklan tercepat dan iklan terlama yang di tayangkan**\n",
    "\n",
    "1. iklan tercepat jatuh kepada 0 hari, bisa jadi karena iklan tersebut di tarik setelah di tayangkan atau memang mobil sudah laku dengan cepat \n",
    "\n",
    "2. Iklan terlama jatuh kepada 271 hari yang merupakan hanya 1 iklan chevrolet impala, yang mungkin jarang di minati\n",
    "\n",
    "3. Truck, sedan, dan SUV merupakan mobil yang paling sering di iklankan, hal ini mungkin karena ke dua tipe mobil itu paling di minati dan laku di situs ini\n"
   ]
  },
  {
   "cell_type": "markdown",
   "metadata": {},
   "source": [
    "## Harga Rata-Rata Setiap Jenis Kendaraan"
   ]
  },
  {
   "cell_type": "code",
   "execution_count": 83,
   "metadata": {},
   "outputs": [
    {
     "data": {
      "text/html": [
       "<div>\n",
       "<style scoped>\n",
       "    .dataframe tbody tr th:only-of-type {\n",
       "        vertical-align: middle;\n",
       "    }\n",
       "\n",
       "    .dataframe tbody tr th {\n",
       "        vertical-align: top;\n",
       "    }\n",
       "\n",
       "    .dataframe thead th {\n",
       "        text-align: right;\n",
       "    }\n",
       "</style>\n",
       "<table border=\"1\" class=\"dataframe\">\n",
       "  <thead>\n",
       "    <tr style=\"text-align: right;\">\n",
       "      <th></th>\n",
       "      <th>type</th>\n",
       "      <th>median_price</th>\n",
       "      <th>mean_price</th>\n",
       "      <th>count</th>\n",
       "    </tr>\n",
       "  </thead>\n",
       "  <tbody>\n",
       "    <tr>\n",
       "      <th>9</th>\n",
       "      <td>sedan</td>\n",
       "      <td>5995.0</td>\n",
       "      <td>6942.349551</td>\n",
       "      <td>12147</td>\n",
       "    </tr>\n",
       "    <tr>\n",
       "      <th>0</th>\n",
       "      <td>SUV</td>\n",
       "      <td>8500.0</td>\n",
       "      <td>10359.897968</td>\n",
       "      <td>12104</td>\n",
       "    </tr>\n",
       "    <tr>\n",
       "      <th>10</th>\n",
       "      <td>truck</td>\n",
       "      <td>14000.0</td>\n",
       "      <td>14820.840606</td>\n",
       "      <td>11550</td>\n",
       "    </tr>\n",
       "    <tr>\n",
       "      <th>8</th>\n",
       "      <td>pickup</td>\n",
       "      <td>13500.0</td>\n",
       "      <td>14609.742072</td>\n",
       "      <td>6622</td>\n",
       "    </tr>\n",
       "    <tr>\n",
       "      <th>3</th>\n",
       "      <td>coupe</td>\n",
       "      <td>11999.0</td>\n",
       "      <td>13269.010782</td>\n",
       "      <td>2226</td>\n",
       "    </tr>\n",
       "    <tr>\n",
       "      <th>12</th>\n",
       "      <td>wagon</td>\n",
       "      <td>7896.0</td>\n",
       "      <td>8880.496408</td>\n",
       "      <td>1531</td>\n",
       "    </tr>\n",
       "    <tr>\n",
       "      <th>5</th>\n",
       "      <td>mini-van</td>\n",
       "      <td>6495.0</td>\n",
       "      <td>8004.687986</td>\n",
       "      <td>1157</td>\n",
       "    </tr>\n",
       "    <tr>\n",
       "      <th>4</th>\n",
       "      <td>hatchback</td>\n",
       "      <td>5977.5</td>\n",
       "      <td>6841.620459</td>\n",
       "      <td>1046</td>\n",
       "    </tr>\n",
       "    <tr>\n",
       "      <th>11</th>\n",
       "      <td>van</td>\n",
       "      <td>7495.0</td>\n",
       "      <td>8743.340102</td>\n",
       "      <td>591</td>\n",
       "    </tr>\n",
       "    <tr>\n",
       "      <th>2</th>\n",
       "      <td>convertible</td>\n",
       "      <td>11000.0</td>\n",
       "      <td>12511.617021</td>\n",
       "      <td>423</td>\n",
       "    </tr>\n",
       "    <tr>\n",
       "      <th>7</th>\n",
       "      <td>other</td>\n",
       "      <td>8995.0</td>\n",
       "      <td>10507.194444</td>\n",
       "      <td>252</td>\n",
       "    </tr>\n",
       "    <tr>\n",
       "      <th>6</th>\n",
       "      <td>offroad</td>\n",
       "      <td>11450.0</td>\n",
       "      <td>13177.674757</td>\n",
       "      <td>206</td>\n",
       "    </tr>\n",
       "    <tr>\n",
       "      <th>1</th>\n",
       "      <td>bus</td>\n",
       "      <td>10500.0</td>\n",
       "      <td>17135.666667</td>\n",
       "      <td>24</td>\n",
       "    </tr>\n",
       "  </tbody>\n",
       "</table>\n",
       "</div>"
      ],
      "text/plain": [
       "           type  median_price    mean_price  count\n",
       "9         sedan        5995.0   6942.349551  12147\n",
       "0           SUV        8500.0  10359.897968  12104\n",
       "10        truck       14000.0  14820.840606  11550\n",
       "8        pickup       13500.0  14609.742072   6622\n",
       "3         coupe       11999.0  13269.010782   2226\n",
       "12        wagon        7896.0   8880.496408   1531\n",
       "5      mini-van        6495.0   8004.687986   1157\n",
       "4     hatchback        5977.5   6841.620459   1046\n",
       "11          van        7495.0   8743.340102    591\n",
       "2   convertible       11000.0  12511.617021    423\n",
       "7         other        8995.0  10507.194444    252\n",
       "6       offroad       11450.0  13177.674757    206\n",
       "1           bus       10500.0  17135.666667     24"
      ]
     },
     "execution_count": 83,
     "metadata": {},
     "output_type": "execute_result"
    }
   ],
   "source": [
    "#Membuat pivot table untuk memberikan rata rata jumlah kendaraan berdasarkan tipe yang akan di jual \n",
    "\n",
    "data_pivot = data_for_price.pivot_table(index='type',values= 'price', \n",
    "                                        aggfunc=['median', 'mean', 'count']).reset_index()\n",
    "\n",
    "data_pivot.columns = ['type', 'median_price', 'mean_price', 'count']\n",
    "data_pivot.sort_values('count',ascending=False)"
   ]
  },
  {
   "cell_type": "code",
   "execution_count": 85,
   "metadata": {},
   "outputs": [
    {
     "data": {
      "image/png": "[encoded data removed]",
      "text/plain": [
       "<Figure size 864x432 with 1 Axes>"
      ]
     },
     "metadata": {
      "needs_background": "light"
     },
     "output_type": "display_data"
    }
   ],
   "source": [
    "#Membuat histogram yang memperlihatkan jumlah dari setiap jenis kendaraan \n",
    "plt.figure(figsize=(12,6))\n",
    "sns.barplot(data=data_pivot, x='type', y='count',\n",
    "            order=data_pivot.sort_values('count', ascending=False).type)\n",
    "plt.show()"
   ]
  },
  {
   "cell_type": "markdown",
   "metadata": {},
   "source": [
    "*Dengan membuat histogram dapat lebih cepat mengambil kesimpulan sedan merupakan kendaraan yang paling banyak di iklankan, ke dua merupakan SUV lalu truck. Seterusnya mengalami penurunan di pick up dan lebih drastis lagi di coupe, lalu secara berangsur sampán pada bus yang merupakan kendaraan yang paling sedikit di iklankan.*"
   ]
  },
  {
   "cell_type": "markdown",
   "metadata": {},
   "source": [
    "## Faktor Harga"
   ]
  },
  {
   "cell_type": "markdown",
   "metadata": {},
   "source": [
    "[Apakah faktor yang paling memengaruhi harga kendaraan? Ambil masing-masing jenis kendaraan populer yang Anda temukan pada tahap sebelumnya dan pelajari apakah harganya bergantung pada usia, jarak tempuh, kondisi, tipe transmisi, dan warnanya. Buatlah grafik *boxplot* untuk variabel kategorik (jenis transmisi dan warna), lalu buatlah *scatterplot* untuk sisanya. Ketika menganalisis variabel kategorik, ingatlah bahwa kategori harus memiliki setidaknya 50 iklan. Jika tidak, parameternya tidak akan valid untuk digunakan saat analisis.]"
   ]
  },
  {
   "cell_type": "markdown",
   "metadata": {},
   "source": [
    "[Manfaatkan matriks korelasi dan plot korelasi]"
   ]
  },
  {
   "cell_type": "code",
   "execution_count": 86,
   "metadata": {},
   "outputs": [
    {
     "data": {
      "text/html": [
       "<div>\n",
       "<style scoped>\n",
       "    .dataframe tbody tr th:only-of-type {\n",
       "        vertical-align: middle;\n",
       "    }\n",
       "\n",
       "    .dataframe tbody tr th {\n",
       "        vertical-align: top;\n",
       "    }\n",
       "\n",
       "    .dataframe thead th {\n",
       "        text-align: right;\n",
       "    }\n",
       "</style>\n",
       "<table border=\"1\" class=\"dataframe\">\n",
       "  <thead>\n",
       "    <tr style=\"text-align: right;\">\n",
       "      <th></th>\n",
       "      <th>type</th>\n",
       "      <th>price</th>\n",
       "      <th>age_of_car</th>\n",
       "      <th>odometer</th>\n",
       "      <th>scale_of_condition</th>\n",
       "      <th>transmission</th>\n",
       "      <th>paint_color</th>\n",
       "    </tr>\n",
       "  </thead>\n",
       "  <tbody>\n",
       "    <tr>\n",
       "      <th>0</th>\n",
       "      <td>SUV</td>\n",
       "      <td>9400</td>\n",
       "      <td>8</td>\n",
       "      <td>6.0</td>\n",
       "      <td>4</td>\n",
       "      <td>automatic</td>\n",
       "      <td>others</td>\n",
       "    </tr>\n",
       "    <tr>\n",
       "      <th>2</th>\n",
       "      <td>sedan</td>\n",
       "      <td>5500</td>\n",
       "      <td>7</td>\n",
       "      <td>4.0</td>\n",
       "      <td>3</td>\n",
       "      <td>automatic</td>\n",
       "      <td>red</td>\n",
       "    </tr>\n",
       "    <tr>\n",
       "      <th>4</th>\n",
       "      <td>sedan</td>\n",
       "      <td>14900</td>\n",
       "      <td>3</td>\n",
       "      <td>4.0</td>\n",
       "      <td>5</td>\n",
       "      <td>automatic</td>\n",
       "      <td>black</td>\n",
       "    </tr>\n",
       "    <tr>\n",
       "      <th>5</th>\n",
       "      <td>sedan</td>\n",
       "      <td>14990</td>\n",
       "      <td>5</td>\n",
       "      <td>6.0</td>\n",
       "      <td>5</td>\n",
       "      <td>automatic</td>\n",
       "      <td>black</td>\n",
       "    </tr>\n",
       "    <tr>\n",
       "      <th>6</th>\n",
       "      <td>sedan</td>\n",
       "      <td>12990</td>\n",
       "      <td>4</td>\n",
       "      <td>4.0</td>\n",
       "      <td>5</td>\n",
       "      <td>automatic</td>\n",
       "      <td>white</td>\n",
       "    </tr>\n",
       "  </tbody>\n",
       "</table>\n",
       "</div>"
      ],
      "text/plain": [
       "    type  price  age_of_car  odometer  scale_of_condition transmission  \\\n",
       "0    SUV   9400           8       6.0                   4    automatic   \n",
       "2  sedan   5500           7       4.0                   3    automatic   \n",
       "4  sedan  14900           3       4.0                   5    automatic   \n",
       "5  sedan  14990           5       6.0                   5    automatic   \n",
       "6  sedan  12990           4       4.0                   5    automatic   \n",
       "\n",
       "  paint_color  \n",
       "0      others  \n",
       "2         red  \n",
       "4       black  \n",
       "5       black  \n",
       "6       white  "
      ]
     },
     "execution_count": 86,
     "metadata": {},
     "output_type": "execute_result"
    }
   ],
   "source": [
    "#membuat dataFrame yang hanya berisi 2 jenis kendaraan paling populer\n",
    "data_corr = df[['type', 'price', 'age_of_car', 'odometer', 'scale_of_condition',\n",
    "                'transmission', 'paint_color']].query(\"type == ['sedan', 'SUV']\")\n",
    "data_corr.head()"
   ]
  },
  {
   "cell_type": "code",
   "execution_count": 87,
   "metadata": {},
   "outputs": [
    {
     "data": {
      "image/png": "[encoded data removed]",
      "text/plain": [
       "<Figure size 1080x720 with 16 Axes>"
      ]
     },
     "metadata": {
      "needs_background": "light"
     },
     "output_type": "display_data"
    }
   ],
   "source": [
    "#Membuat scatter plot matrix untuk memberikan untuk dapat melihat penyebaran data yang sudah di filter\n",
    "pd.plotting.scatter_matrix(data_corr, figsize = (15,10))\n",
    "plt.show()"
   ]
  },
  {
   "cell_type": "code",
   "execution_count": 88,
   "metadata": {},
   "outputs": [
    {
     "data": {
      "image/png": "[encoded data removed]",
      "text/plain": [
       "<Figure size 720x720 with 2 Axes>"
      ]
     },
     "metadata": {
      "needs_background": "light"
     },
     "output_type": "display_data"
    }
   ],
   "source": [
    "# Pembuatan correlation dengan metode heatmap untuk dapat melihat plot yang tersebar dengan di kombinasikan dengan scatter plot bisa melihat distribusi variable lebih mudah untuk menarik kesimpulan sementara\n",
    "plt.figure(figsize=(10,10))\n",
    "data_corr.corr()\n",
    "sns.heatmap(data_corr.corr(), annot=True)\n",
    "plt.title('Correlation Matrix Plot Heat Maps')\n",
    "plt.show()"
   ]
  },
  {
   "cell_type": "code",
   "execution_count": 89,
   "metadata": {},
   "outputs": [
    {
     "data": {
      "image/png": "[encoded data removed]",
      "text/plain": [
       "<Figure size 1368x648 with 1 Axes>"
      ]
     },
     "metadata": {
      "needs_background": "light"
     },
     "output_type": "display_data"
    }
   ],
   "source": [
    "# Membuat boxplot untuk memperlihatkan korelasi antara harga dan transmisi mobil yang bisa di gunakan untuk pengelompokan data \n",
    "plt.figure(figsize= (19,9))\n",
    "sns.boxplot(data=data_corr , x='price', y='transmission')\n",
    "plt.title('correlation between price and transmission')\n",
    "plt.show()"
   ]
  },
  {
   "cell_type": "code",
   "execution_count": 90,
   "metadata": {
    "scrolled": true
   },
   "outputs": [
    {
     "data": {
      "image/png": "[encoded data removed]",
      "text/plain": [
       "<Figure size 648x648 with 1 Axes>"
      ]
     },
     "metadata": {
      "needs_background": "light"
     },
     "output_type": "display_data"
    }
   ],
   "source": [
    "#Membuat boxplot untuk mengambil kesimpulan korelasi harga mobil dan warna mobil\n",
    "plt.figure(figsize= (9,9))\n",
    "sns.boxplot(data=data_corr , x='price', y='paint_color')\n",
    "plt.title('correlation between price and paint_color')\n",
    "plt.show()"
   ]
  },
  {
   "cell_type": "markdown",
   "metadata": {},
   "source": [
    "<div class=\"alert alert-danger\">\n",
    "<b>Reviewer's comment v1</b> <a class=\"tocSkip\"></a>\n",
    "\n",
    "Sebelum membahas terkait analisa yang dilakukan coba pastikan bahwa jumlah iklan pada kategori yang digunakan paling tidak sebanyak 50 iklan sesuai dengan ketentuan yang ada pada brief project ini."
   ]
  },
  {
   "cell_type": "markdown",
   "metadata": {},
   "source": [
    "<div class=\"alert alert-block alert-info\">\n",
    "<b> Mohon berikan bimbingan untuk apa yang haruds di lakukan untuk revisi yang kak naufal inginkan. akan sangat baik untuk pembelajaran saya ?\n",
    "sebelumnya saya ucapkan terima kasih.\n",
    "</b> <a class=\"tocSkip\"></a>\n",
    "</div>"
   ]
  },
  {
   "cell_type": "code",
   "execution_count": 91,
   "metadata": {},
   "outputs": [
    {
     "data": {
      "text/plain": [
       "automatic    23156\n",
       "manual        1111\n",
       "other          292\n",
       "Name: transmission, dtype: int64"
      ]
     },
     "execution_count": 91,
     "metadata": {},
     "output_type": "execute_result"
    }
   ],
   "source": [
    "data_corr['transmission'].value_counts()"
   ]
  },
  {
   "cell_type": "markdown",
   "metadata": {},
   "source": [
    "**Bisa di lihat dari kategori transmission iklan yang di siarkan lebih dari 50. Dengan di hitung dari kolom sesuai dengan transmission**"
   ]
  },
  {
   "cell_type": "code",
   "execution_count": 92,
   "metadata": {},
   "outputs": [
    {
     "data": {
      "text/plain": [
       "others    4425\n",
       "black     3990\n",
       "silver    3614\n",
       "white     3472\n",
       "grey      2806\n",
       "blue      2286\n",
       "red       1851\n",
       "green      645\n",
       "brown      628\n",
       "custom     611\n",
       "orange      93\n",
       "yellow      73\n",
       "purple      65\n",
       "Name: paint_color, dtype: int64"
      ]
     },
     "execution_count": 92,
     "metadata": {},
     "output_type": "execute_result"
    }
   ],
   "source": [
    "data_corr['paint_color'].value_counts()"
   ]
  },
  {
   "cell_type": "markdown",
   "metadata": {},
   "source": [
    "# Kesimpulan dari grafik-grafik diatas:\n",
    "\n",
    "*Kesimplulan pengelompokan faktor faktor yang mempengaruhi mmenggunakan grafik*\n",
    "\n",
    "*1. Korelasi harga dan usia kendaraan di lihat dari ketergantungannya menggunakan scatter matrix memperlihatkan usia kendaraan sangat mempengaruhi harga untuk penjualan mobil untuk yang bisa melakukan pemilihan untuk di iklankan.*\n",
    "\n",
    "*2. Harga dan jarak tempuh juga memiliki korelasi dimana bisa di ilihat untuk di iklankan atau tidak, berbeda dengan korelasi usia kendaraan yang lebih significant Mika di kelompokan datanya untuk bisa di presentasikan.*\n",
    "\n",
    "*3. Memberikan filter untuk kondisi kendaraan memberikan kemudahan untuk membuat korelasi dengan 2 point dilihat dari korelasi positif sebanyak 0.086 yang mempunyai arti semakin bagus kondisi kendaraan maka semakin bagus harga dan kecenderungan untuk di iklankan kendaraannya.*\n",
    "\n",
    "*4. Korelasi harga dengan tipe transmisi bisa menyimpulkan rata rata harga tipe automatic di Jual lebih tinggi bisa mencapai 120000. Sedangkan transmisi manual tidak sebanyak automatic yang terjual jika di iklankan.*\n",
    "\n",
    "*5. Korelasi harga dan warna  mempunyai variable data yang banyak Tanya ada 1 yang merupakan outlier di wanna silver mencapai 120000 lebih memiliki, dan white lalu merah. Walaupun tergolong lebih banyak.*"
   ]
  },
  {
   "cell_type": "markdown",
   "metadata": {},
   "source": [
    "## Kesimpulan Umum\n",
    "[Tuliskan kesimpulan penting Anda di bagian akhir ini, pastikan kesimpulan tersebut menyertakan kesimpulan yang menjelaskan cara Anda memproses dan menganalisis data. Laporkan nilai yang hilang, duplikat, *outlier*, dan kemungkinan alasan serta solusi untuk permasalahan yang harus Anda tangani. Jangan lupa untuk menghapus semua komentar dalam tanda kurung sebelum mengirimkan proyek Anda.]"
   ]
  },
  {
   "cell_type": "markdown",
   "metadata": {},
   "source": [
    "*- Mengolah data mengenai kendaraan harus mengerti kendaraan tersebut.*\n",
    "\n",
    "*- oleh Karena itu variable data yang tersedia pasti menunjukan hubungan antara harga mobil dan kecenderungan untuk di iklankan.*\n",
    "\n",
    "*- Melakukan eksplorasi untuk melihat dan meiihat data yang memiliki. berbagai variable yang mempengaruhi faktor penjualan ataupun di iklankan*\n",
    "\n",
    "*- Faktor faktor yang bisa di olah atau manipulasi dengan data merupakan hal yang menjadi pekerjaan seorang data analysis untuk bisa mempresentasikan dengan jelas.*\n",
    "\n",
    "*- Pembuatan table baru untuk dapat mengelompokan dan moengolah nilai yang hilang sebagai proses untuk mengetahui faktor dari harga mobil. Faktor yang di lihat dari.*\n",
    "\n",
    "*1. Model_year*\n",
    "*2. Cylinders*\n",
    "*3. Odometer*\n",
    "*4. paint_colour*\n",
    "*5. is_4wd*\n",
    "\n",
    "\n",
    "*- Faktor yang bisa di jadikan paramater untuk analysis lebih lancet dengan menggunakan graphic*\n",
    "\n",
    "*- Bisa di gaditan sebagai analis lebih menyeluruh sebagai bántuk eksplorasi data*\n",
    "\n",
    "*- Bisa embuât kesimpulan untuk membuat hipotesis untuk pengambilan keputusan di iklankan atau tirai dari perhitungan berdasarkan faktor yang Sudan di sebutkan*\n"
   ]
  }
 ],
 "metadata": {
  "ExecuteTimeLog": [
   {
    "duration": 828,
    "start_time": "2021-11-16T09:21:11.304Z"
   },
   {
    "duration": 893,
    "start_time": "2021-11-16T09:21:17.728Z"
   },
   {
    "duration": 1150,
    "start_time": "2021-11-16T09:21:29.568Z"
   },
   {
    "duration": 3,
    "start_time": "2021-11-16T09:24:14.495Z"
   },
   {
    "duration": 120,
    "start_time": "2021-11-16T09:24:46.630Z"
   },
   {
    "duration": 3,
    "start_time": "2021-11-16T09:28:27.882Z"
   },
   {
    "duration": 4,
    "start_time": "2021-11-16T09:29:54.281Z"
   },
   {
    "duration": 3,
    "start_time": "2021-11-16T09:30:45.936Z"
   },
   {
    "duration": 4,
    "start_time": "2021-11-16T09:31:06.300Z"
   },
   {
    "duration": 113,
    "start_time": "2021-11-16T09:31:37.208Z"
   },
   {
    "duration": 143,
    "start_time": "2021-11-16T09:31:48.656Z"
   },
   {
    "duration": 98,
    "start_time": "2021-11-16T09:31:55.678Z"
   },
   {
    "duration": 3,
    "start_time": "2021-11-16T09:32:08.535Z"
   },
   {
    "duration": 111,
    "start_time": "2021-11-16T09:32:10.120Z"
   },
   {
    "duration": 3,
    "start_time": "2021-11-16T09:32:15.732Z"
   },
   {
    "duration": 4,
    "start_time": "2021-11-16T09:32:29.423Z"
   },
   {
    "duration": 3,
    "start_time": "2021-11-16T10:03:03.074Z"
   },
   {
    "duration": 3,
    "start_time": "2021-11-16T10:10:01.288Z"
   },
   {
    "duration": 3,
    "start_time": "2021-11-16T10:10:46.923Z"
   },
   {
    "duration": 121,
    "start_time": "2021-11-16T10:37:46.494Z"
   },
   {
    "duration": 125,
    "start_time": "2021-11-16T10:38:20.632Z"
   },
   {
    "duration": 112,
    "start_time": "2021-11-16T10:46:53.001Z"
   },
   {
    "duration": 110,
    "start_time": "2021-11-16T10:48:25.775Z"
   },
   {
    "duration": 3,
    "start_time": "2021-11-16T10:50:18.720Z"
   },
   {
    "duration": 4,
    "start_time": "2021-11-16T10:50:37.649Z"
   },
   {
    "duration": 2,
    "start_time": "2021-11-16T10:50:51.884Z"
   },
   {
    "duration": 3,
    "start_time": "2021-11-16T10:51:56.237Z"
   },
   {
    "duration": 101,
    "start_time": "2021-11-16T10:53:13.791Z"
   },
   {
    "duration": 3,
    "start_time": "2021-11-16T10:55:59.186Z"
   },
   {
    "duration": 3,
    "start_time": "2021-11-16T10:56:10.751Z"
   },
   {
    "duration": 3,
    "start_time": "2021-11-16T10:56:49.038Z"
   },
   {
    "duration": 3,
    "start_time": "2021-11-16T10:56:49.174Z"
   },
   {
    "duration": 4,
    "start_time": "2021-11-16T10:56:49.414Z"
   },
   {
    "duration": 3,
    "start_time": "2021-11-16T10:56:49.680Z"
   },
   {
    "duration": 3,
    "start_time": "2021-11-16T10:56:50.370Z"
   },
   {
    "duration": 114,
    "start_time": "2021-11-16T10:59:34.518Z"
   },
   {
    "duration": 3,
    "start_time": "2021-11-16T11:01:41.201Z"
   },
   {
    "duration": 116,
    "start_time": "2021-11-16T11:01:48.754Z"
   },
   {
    "duration": 3,
    "start_time": "2021-11-16T11:02:16.685Z"
   },
   {
    "duration": 3,
    "start_time": "2021-11-16T11:02:19.479Z"
   },
   {
    "duration": 3,
    "start_time": "2021-11-16T11:02:47.067Z"
   },
   {
    "duration": 3,
    "start_time": "2021-11-16T11:02:49.353Z"
   },
   {
    "duration": 3,
    "start_time": "2021-11-16T11:03:07.835Z"
   },
   {
    "duration": 3,
    "start_time": "2021-11-16T11:03:07.953Z"
   },
   {
    "duration": 112,
    "start_time": "2021-11-16T11:07:52.072Z"
   },
   {
    "duration": 187,
    "start_time": "2021-11-16T11:09:23.468Z"
   },
   {
    "duration": 4,
    "start_time": "2021-11-16T11:10:01.455Z"
   },
   {
    "duration": 3,
    "start_time": "2021-11-16T11:10:05.069Z"
   },
   {
    "duration": 4,
    "start_time": "2021-11-16T11:10:13.376Z"
   },
   {
    "duration": 3,
    "start_time": "2021-11-16T11:10:14.434Z"
   },
   {
    "duration": 3,
    "start_time": "2021-11-16T11:10:22.853Z"
   },
   {
    "duration": 4,
    "start_time": "2021-11-16T11:27:29.279Z"
   },
   {
    "duration": 4,
    "start_time": "2021-11-16T11:29:08.919Z"
   },
   {
    "duration": 118,
    "start_time": "2021-11-16T11:29:46.703Z"
   },
   {
    "duration": 437,
    "start_time": "2021-11-16T11:36:02.181Z"
   },
   {
    "duration": 157,
    "start_time": "2021-11-16T11:36:14.388Z"
   },
   {
    "duration": 207,
    "start_time": "2021-11-16T11:47:15.898Z"
   },
   {
    "duration": 3,
    "start_time": "2021-11-16T11:53:52.092Z"
   },
   {
    "duration": 3,
    "start_time": "2021-11-16T11:53:52.236Z"
   },
   {
    "duration": 3,
    "start_time": "2021-11-16T11:59:12.005Z"
   },
   {
    "duration": 112,
    "start_time": "2021-11-16T12:00:33.446Z"
   },
   {
    "duration": 3,
    "start_time": "2021-11-16T12:02:14.453Z"
   },
   {
    "duration": 3,
    "start_time": "2021-11-16T12:02:39.512Z"
   },
   {
    "duration": 106,
    "start_time": "2021-11-16T12:03:03.460Z"
   }
  ],
  "kernelspec": {
   "display_name": "Python 3 (ipykernel)",
   "language": "python",
   "name": "python3"
  },
  "language_info": {
   "codemirror_mode": {
    "name": "ipython",
    "version": 3
   },
   "file_extension": ".py",
   "mimetype": "text/x-python",
   "name": "python",
   "nbconvert_exporter": "python",
   "pygments_lexer": "ipython3",
   "version": "3.9.12"
  },
  "toc": {
   "base_numbering": 1,
   "nav_menu": {},
   "number_sections": true,
   "sideBar": true,
   "skip_h1_title": false,
   "title_cell": "Table of Contents",
   "title_sidebar": "Contents",
   "toc_cell": false,
   "toc_position": {
    "height": "calc(100% - 180px)",
    "left": "10px",
    "top": "150px",
    "width": "165px"
   },
   "toc_section_display": true,
   "toc_window_display": false
  }
 },
 "nbformat": 4,
 "nbformat_minor": 2
}
