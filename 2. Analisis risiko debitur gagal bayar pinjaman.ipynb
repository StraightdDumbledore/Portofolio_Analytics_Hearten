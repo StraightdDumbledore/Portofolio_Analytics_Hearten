{
 "cells": [
  {
   "cell_type": "markdown",
   "metadata": {},
   "source": [
    "# Menganalisis risiko peminjam gagal membayar\n",
    "\n",
    "Menyiapkan laporan untuk bank bagian kredit. Melakukan analysis  pengaruh status perkawinan seorang nasabah dan jumlah anak terhadap probabilitas ketepatan waktu dalam melunasi pinjaman. Dengan data yang sudah di siapkan bank\n",
    "\n",
    "Laporan Anda akan dipertimbangkan pada saat membuat **penilaian kredit** untuk calon nasabah. **Penilaian kredit** digunakan untuk mengevaluasi kemampuan calon peminjam untuk melunasi pinjaman mereka.\n",
    "\n"
   ]
  },
  {
   "cell_type": "markdown",
   "metadata": {},
   "source": [
    "# Langkah-langkah yang akan diambil diantaranya:\n",
    "\n",
    "1. Memeriksa nilai yang hilang & memperbaikinya dengan metode fillna\n",
    "2. Memeriksa value unique di setiap kolom untuk memeriksa apakah ada keanehan & memperbaikinya dengan str.lower()\n",
    "3. Memeriksa apakah ada value yang tidak masuk akal pada setiap kolom & memperbaikinya dengan nilai median/mean (tergantung kondisi value)\n",
    "4. Membuat kelompok data untuk nilai kategoris dan numerik yang valuenya banyak untuk mempermudah analisis"
   ]
  },
  {
   "cell_type": "markdown",
   "metadata": {},
   "source": [
    "# Ikhtisar Data"
   ]
  },
  {
   "cell_type": "code",
   "execution_count": 1,
   "metadata": {},
   "outputs": [],
   "source": [
    "# Memuat semua perpustakaan\n",
    "import pandas as pd \n"
   ]
  },
  {
   "cell_type": "code",
   "execution_count": 2,
   "metadata": {},
   "outputs": [],
   "source": [
    "# Menggunakan fungsi numpy di seluruh puustaka ini \n",
    "\n",
    "import numpy as np\n"
   ]
  },
  {
   "cell_type": "code",
   "execution_count": 3,
   "metadata": {},
   "outputs": [],
   "source": [
    "# Membuat variable  untuk penggunaan di jupyter notebook\n",
    "\n",
    "data = pd.read_csv('credit_scoring_eng.csv')# muat data"
   ]
  },
  {
   "cell_type": "code",
   "execution_count": 4,
   "metadata": {},
   "outputs": [
    {
     "name": "stdout",
     "output_type": "stream",
     "text": [
      "<class 'pandas.core.frame.DataFrame'>\n",
      "RangeIndex: 21525 entries, 0 to 21524\n",
      "Data columns (total 12 columns):\n",
      " #   Column            Non-Null Count  Dtype  \n",
      "---  ------            --------------  -----  \n",
      " 0   children          21525 non-null  int64  \n",
      " 1   days_employed     19351 non-null  float64\n",
      " 2   dob_years         21525 non-null  int64  \n",
      " 3   education         21525 non-null  object \n",
      " 4   education_id      21525 non-null  int64  \n",
      " 5   family_status     21525 non-null  object \n",
      " 6   family_status_id  21525 non-null  int64  \n",
      " 7   gender            21525 non-null  object \n",
      " 8   income_type       21525 non-null  object \n",
      " 9   debt              21525 non-null  int64  \n",
      " 10  total_income      19351 non-null  float64\n",
      " 11  purpose           21525 non-null  object \n",
      "dtypes: float64(2), int64(5), object(5)\n",
      "memory usage: 2.0+ MB\n"
     ]
    }
   ],
   "source": [
    "# Tahapan untuk mengksplorasi dataset\n",
    "\n",
    "data.info()"
   ]
  },
  {
   "cell_type": "code",
   "execution_count": 5,
   "metadata": {},
   "outputs": [
    {
     "data": {
      "text/plain": [
       "(21525, 12)"
      ]
     },
     "execution_count": 5,
     "metadata": {},
     "output_type": "execute_result"
    }
   ],
   "source": [
    "# Mari kita lihat berapa banyak baris dan kolom yang dimiliki oleh dataset kita\n",
    "\n",
    "data.shape"
   ]
  },
  {
   "cell_type": "code",
   "execution_count": 7,
   "metadata": {
    "scrolled": true
   },
   "outputs": [
    {
     "data": {
      "text/html": [
       "<div>\n",
       "<style scoped>\n",
       "    .dataframe tbody tr th:only-of-type {\n",
       "        vertical-align: middle;\n",
       "    }\n",
       "\n",
       "    .dataframe tbody tr th {\n",
       "        vertical-align: top;\n",
       "    }\n",
       "\n",
       "    .dataframe thead th {\n",
       "        text-align: right;\n",
       "    }\n",
       "</style>\n",
       "<table border=\"1\" class=\"dataframe\">\n",
       "  <thead>\n",
       "    <tr style=\"text-align: right;\">\n",
       "      <th></th>\n",
       "      <th>children</th>\n",
       "      <th>days_employed</th>\n",
       "      <th>dob_years</th>\n",
       "      <th>education</th>\n",
       "      <th>education_id</th>\n",
       "      <th>family_status</th>\n",
       "      <th>family_status_id</th>\n",
       "      <th>gender</th>\n",
       "      <th>income_type</th>\n",
       "      <th>debt</th>\n",
       "      <th>total_income</th>\n",
       "      <th>purpose</th>\n",
       "    </tr>\n",
       "  </thead>\n",
       "  <tbody>\n",
       "    <tr>\n",
       "      <th>0</th>\n",
       "      <td>1</td>\n",
       "      <td>-8437.673028</td>\n",
       "      <td>42</td>\n",
       "      <td>bachelor's degree</td>\n",
       "      <td>0</td>\n",
       "      <td>married</td>\n",
       "      <td>0</td>\n",
       "      <td>F</td>\n",
       "      <td>employee</td>\n",
       "      <td>0</td>\n",
       "      <td>40620.102</td>\n",
       "      <td>purchase of the house</td>\n",
       "    </tr>\n",
       "    <tr>\n",
       "      <th>1</th>\n",
       "      <td>1</td>\n",
       "      <td>-4024.803754</td>\n",
       "      <td>36</td>\n",
       "      <td>secondary education</td>\n",
       "      <td>1</td>\n",
       "      <td>married</td>\n",
       "      <td>0</td>\n",
       "      <td>F</td>\n",
       "      <td>employee</td>\n",
       "      <td>0</td>\n",
       "      <td>17932.802</td>\n",
       "      <td>car purchase</td>\n",
       "    </tr>\n",
       "    <tr>\n",
       "      <th>2</th>\n",
       "      <td>0</td>\n",
       "      <td>-5623.422610</td>\n",
       "      <td>33</td>\n",
       "      <td>Secondary Education</td>\n",
       "      <td>1</td>\n",
       "      <td>married</td>\n",
       "      <td>0</td>\n",
       "      <td>M</td>\n",
       "      <td>employee</td>\n",
       "      <td>0</td>\n",
       "      <td>23341.752</td>\n",
       "      <td>purchase of the house</td>\n",
       "    </tr>\n",
       "    <tr>\n",
       "      <th>3</th>\n",
       "      <td>3</td>\n",
       "      <td>-4124.747207</td>\n",
       "      <td>32</td>\n",
       "      <td>secondary education</td>\n",
       "      <td>1</td>\n",
       "      <td>married</td>\n",
       "      <td>0</td>\n",
       "      <td>M</td>\n",
       "      <td>employee</td>\n",
       "      <td>0</td>\n",
       "      <td>42820.568</td>\n",
       "      <td>supplementary education</td>\n",
       "    </tr>\n",
       "    <tr>\n",
       "      <th>4</th>\n",
       "      <td>0</td>\n",
       "      <td>340266.072047</td>\n",
       "      <td>53</td>\n",
       "      <td>secondary education</td>\n",
       "      <td>1</td>\n",
       "      <td>civil partnership</td>\n",
       "      <td>1</td>\n",
       "      <td>F</td>\n",
       "      <td>retiree</td>\n",
       "      <td>0</td>\n",
       "      <td>25378.572</td>\n",
       "      <td>to have a wedding</td>\n",
       "    </tr>\n",
       "    <tr>\n",
       "      <th>5</th>\n",
       "      <td>0</td>\n",
       "      <td>-926.185831</td>\n",
       "      <td>27</td>\n",
       "      <td>bachelor's degree</td>\n",
       "      <td>0</td>\n",
       "      <td>civil partnership</td>\n",
       "      <td>1</td>\n",
       "      <td>M</td>\n",
       "      <td>business</td>\n",
       "      <td>0</td>\n",
       "      <td>40922.170</td>\n",
       "      <td>purchase of the house</td>\n",
       "    </tr>\n",
       "    <tr>\n",
       "      <th>6</th>\n",
       "      <td>0</td>\n",
       "      <td>-2879.202052</td>\n",
       "      <td>43</td>\n",
       "      <td>bachelor's degree</td>\n",
       "      <td>0</td>\n",
       "      <td>married</td>\n",
       "      <td>0</td>\n",
       "      <td>F</td>\n",
       "      <td>business</td>\n",
       "      <td>0</td>\n",
       "      <td>38484.156</td>\n",
       "      <td>housing transactions</td>\n",
       "    </tr>\n",
       "    <tr>\n",
       "      <th>7</th>\n",
       "      <td>0</td>\n",
       "      <td>-152.779569</td>\n",
       "      <td>50</td>\n",
       "      <td>SECONDARY EDUCATION</td>\n",
       "      <td>1</td>\n",
       "      <td>married</td>\n",
       "      <td>0</td>\n",
       "      <td>M</td>\n",
       "      <td>employee</td>\n",
       "      <td>0</td>\n",
       "      <td>21731.829</td>\n",
       "      <td>education</td>\n",
       "    </tr>\n",
       "    <tr>\n",
       "      <th>8</th>\n",
       "      <td>2</td>\n",
       "      <td>-6929.865299</td>\n",
       "      <td>35</td>\n",
       "      <td>BACHELOR'S DEGREE</td>\n",
       "      <td>0</td>\n",
       "      <td>civil partnership</td>\n",
       "      <td>1</td>\n",
       "      <td>F</td>\n",
       "      <td>employee</td>\n",
       "      <td>0</td>\n",
       "      <td>15337.093</td>\n",
       "      <td>having a wedding</td>\n",
       "    </tr>\n",
       "    <tr>\n",
       "      <th>9</th>\n",
       "      <td>0</td>\n",
       "      <td>-2188.756445</td>\n",
       "      <td>41</td>\n",
       "      <td>secondary education</td>\n",
       "      <td>1</td>\n",
       "      <td>married</td>\n",
       "      <td>0</td>\n",
       "      <td>M</td>\n",
       "      <td>employee</td>\n",
       "      <td>0</td>\n",
       "      <td>23108.150</td>\n",
       "      <td>purchase of the house for my family</td>\n",
       "    </tr>\n",
       "  </tbody>\n",
       "</table>\n",
       "</div>"
      ],
      "text/plain": [
       "   children  days_employed  dob_years            education  education_id  \\\n",
       "0         1   -8437.673028         42    bachelor's degree             0   \n",
       "1         1   -4024.803754         36  secondary education             1   \n",
       "2         0   -5623.422610         33  Secondary Education             1   \n",
       "3         3   -4124.747207         32  secondary education             1   \n",
       "4         0  340266.072047         53  secondary education             1   \n",
       "5         0    -926.185831         27    bachelor's degree             0   \n",
       "6         0   -2879.202052         43    bachelor's degree             0   \n",
       "7         0    -152.779569         50  SECONDARY EDUCATION             1   \n",
       "8         2   -6929.865299         35    BACHELOR'S DEGREE             0   \n",
       "9         0   -2188.756445         41  secondary education             1   \n",
       "\n",
       "       family_status  family_status_id gender income_type  debt  total_income  \\\n",
       "0            married                 0      F    employee     0     40620.102   \n",
       "1            married                 0      F    employee     0     17932.802   \n",
       "2            married                 0      M    employee     0     23341.752   \n",
       "3            married                 0      M    employee     0     42820.568   \n",
       "4  civil partnership                 1      F     retiree     0     25378.572   \n",
       "5  civil partnership                 1      M    business     0     40922.170   \n",
       "6            married                 0      F    business     0     38484.156   \n",
       "7            married                 0      M    employee     0     21731.829   \n",
       "8  civil partnership                 1      F    employee     0     15337.093   \n",
       "9            married                 0      M    employee     0     23108.150   \n",
       "\n",
       "                               purpose  \n",
       "0                purchase of the house  \n",
       "1                         car purchase  \n",
       "2                purchase of the house  \n",
       "3              supplementary education  \n",
       "4                    to have a wedding  \n",
       "5                purchase of the house  \n",
       "6                 housing transactions  \n",
       "7                            education  \n",
       "8                     having a wedding  \n",
       "9  purchase of the house for my family  "
      ]
     },
     "execution_count": 7,
     "metadata": {},
     "output_type": "execute_result"
    }
   ],
   "source": [
    "# mari menampilkan N baris pertama\n",
    "\n",
    "data.head(10)"
   ]
  },
  {
   "cell_type": "markdown",
   "metadata": {},
   "source": [
    "### Kesimpulan awal\n",
    "\n",
    "\n",
    "- [days_employed] data float minus menimbulkan pertanyaan bagaimana memproses data pada kolom tersebut \n",
    "- Kolom days_employed bernilai negatif dimana seharusnya bekerja tidak mungkin negatif.\n",
    "- [dob_years] tidak ada informasi lebih detail mengenai dob dimana kemungkinan besar adalah singakatan\n",
    "- Kolom days_employed jumlah hari kerjanya ada yang tidak masuk akal 340266 hari / 365 hari = 932 tahun.\n",
    "- banyak bentuk data float yang tidak memiliki detail lebih lanjut\n"
   ]
  },
  {
   "cell_type": "code",
   "execution_count": 6,
   "metadata": {
    "scrolled": true
   },
   "outputs": [
    {
     "name": "stdout",
     "output_type": "stream",
     "text": [
      "<class 'pandas.core.frame.DataFrame'>\n",
      "RangeIndex: 21525 entries, 0 to 21524\n",
      "Data columns (total 12 columns):\n",
      " #   Column            Non-Null Count  Dtype  \n",
      "---  ------            --------------  -----  \n",
      " 0   children          21525 non-null  int64  \n",
      " 1   days_employed     19351 non-null  float64\n",
      " 2   dob_years         21525 non-null  int64  \n",
      " 3   education         21525 non-null  object \n",
      " 4   education_id      21525 non-null  int64  \n",
      " 5   family_status     21525 non-null  object \n",
      " 6   family_status_id  21525 non-null  int64  \n",
      " 7   gender            21525 non-null  object \n",
      " 8   income_type       21525 non-null  object \n",
      " 9   debt              21525 non-null  int64  \n",
      " 10  total_income      19351 non-null  float64\n",
      " 11  purpose           21525 non-null  object \n",
      "dtypes: float64(2), int64(5), object(5)\n",
      "memory usage: 2.0+ MB\n"
     ]
    }
   ],
   "source": [
    "# Mendapatkan informasi data\n",
    "data.info()"
   ]
  },
  {
   "cell_type": "markdown",
   "metadata": {},
   "source": [
    "\n",
    "\n",
    "- Nilai yang biasanya di sebut null terlihat tidak memiliki nilai yang hilang terlihat dengan deskrpisi kolom non-null count \n",
    "\n",
    "- Oleh karena itu di butuhkan pengecekan"
   ]
  },
  {
   "cell_type": "code",
   "execution_count": 8,
   "metadata": {
    "scrolled": true
   },
   "outputs": [
    {
     "data": {
      "text/html": [
       "<div>\n",
       "<style scoped>\n",
       "    .dataframe tbody tr th:only-of-type {\n",
       "        vertical-align: middle;\n",
       "    }\n",
       "\n",
       "    .dataframe tbody tr th {\n",
       "        vertical-align: top;\n",
       "    }\n",
       "\n",
       "    .dataframe thead th {\n",
       "        text-align: right;\n",
       "    }\n",
       "</style>\n",
       "<table border=\"1\" class=\"dataframe\">\n",
       "  <thead>\n",
       "    <tr style=\"text-align: right;\">\n",
       "      <th></th>\n",
       "      <th>children</th>\n",
       "      <th>days_employed</th>\n",
       "      <th>dob_years</th>\n",
       "      <th>education</th>\n",
       "      <th>education_id</th>\n",
       "      <th>family_status</th>\n",
       "      <th>family_status_id</th>\n",
       "      <th>gender</th>\n",
       "      <th>income_type</th>\n",
       "      <th>debt</th>\n",
       "      <th>total_income</th>\n",
       "      <th>purpose</th>\n",
       "    </tr>\n",
       "  </thead>\n",
       "  <tbody>\n",
       "    <tr>\n",
       "      <th>12</th>\n",
       "      <td>0</td>\n",
       "      <td>NaN</td>\n",
       "      <td>65</td>\n",
       "      <td>secondary education</td>\n",
       "      <td>1</td>\n",
       "      <td>civil partnership</td>\n",
       "      <td>1</td>\n",
       "      <td>M</td>\n",
       "      <td>retiree</td>\n",
       "      <td>0</td>\n",
       "      <td>NaN</td>\n",
       "      <td>to have a wedding</td>\n",
       "    </tr>\n",
       "    <tr>\n",
       "      <th>26</th>\n",
       "      <td>0</td>\n",
       "      <td>NaN</td>\n",
       "      <td>41</td>\n",
       "      <td>secondary education</td>\n",
       "      <td>1</td>\n",
       "      <td>married</td>\n",
       "      <td>0</td>\n",
       "      <td>M</td>\n",
       "      <td>civil servant</td>\n",
       "      <td>0</td>\n",
       "      <td>NaN</td>\n",
       "      <td>education</td>\n",
       "    </tr>\n",
       "    <tr>\n",
       "      <th>29</th>\n",
       "      <td>0</td>\n",
       "      <td>NaN</td>\n",
       "      <td>63</td>\n",
       "      <td>secondary education</td>\n",
       "      <td>1</td>\n",
       "      <td>unmarried</td>\n",
       "      <td>4</td>\n",
       "      <td>F</td>\n",
       "      <td>retiree</td>\n",
       "      <td>0</td>\n",
       "      <td>NaN</td>\n",
       "      <td>building a real estate</td>\n",
       "    </tr>\n",
       "    <tr>\n",
       "      <th>41</th>\n",
       "      <td>0</td>\n",
       "      <td>NaN</td>\n",
       "      <td>50</td>\n",
       "      <td>secondary education</td>\n",
       "      <td>1</td>\n",
       "      <td>married</td>\n",
       "      <td>0</td>\n",
       "      <td>F</td>\n",
       "      <td>civil servant</td>\n",
       "      <td>0</td>\n",
       "      <td>NaN</td>\n",
       "      <td>second-hand car purchase</td>\n",
       "    </tr>\n",
       "    <tr>\n",
       "      <th>55</th>\n",
       "      <td>0</td>\n",
       "      <td>NaN</td>\n",
       "      <td>54</td>\n",
       "      <td>secondary education</td>\n",
       "      <td>1</td>\n",
       "      <td>civil partnership</td>\n",
       "      <td>1</td>\n",
       "      <td>F</td>\n",
       "      <td>retiree</td>\n",
       "      <td>1</td>\n",
       "      <td>NaN</td>\n",
       "      <td>to have a wedding</td>\n",
       "    </tr>\n",
       "    <tr>\n",
       "      <th>...</th>\n",
       "      <td>...</td>\n",
       "      <td>...</td>\n",
       "      <td>...</td>\n",
       "      <td>...</td>\n",
       "      <td>...</td>\n",
       "      <td>...</td>\n",
       "      <td>...</td>\n",
       "      <td>...</td>\n",
       "      <td>...</td>\n",
       "      <td>...</td>\n",
       "      <td>...</td>\n",
       "      <td>...</td>\n",
       "    </tr>\n",
       "    <tr>\n",
       "      <th>21489</th>\n",
       "      <td>2</td>\n",
       "      <td>NaN</td>\n",
       "      <td>47</td>\n",
       "      <td>Secondary Education</td>\n",
       "      <td>1</td>\n",
       "      <td>married</td>\n",
       "      <td>0</td>\n",
       "      <td>M</td>\n",
       "      <td>business</td>\n",
       "      <td>0</td>\n",
       "      <td>NaN</td>\n",
       "      <td>purchase of a car</td>\n",
       "    </tr>\n",
       "    <tr>\n",
       "      <th>21495</th>\n",
       "      <td>1</td>\n",
       "      <td>NaN</td>\n",
       "      <td>50</td>\n",
       "      <td>secondary education</td>\n",
       "      <td>1</td>\n",
       "      <td>civil partnership</td>\n",
       "      <td>1</td>\n",
       "      <td>F</td>\n",
       "      <td>employee</td>\n",
       "      <td>0</td>\n",
       "      <td>NaN</td>\n",
       "      <td>wedding ceremony</td>\n",
       "    </tr>\n",
       "    <tr>\n",
       "      <th>21497</th>\n",
       "      <td>0</td>\n",
       "      <td>NaN</td>\n",
       "      <td>48</td>\n",
       "      <td>BACHELOR'S DEGREE</td>\n",
       "      <td>0</td>\n",
       "      <td>married</td>\n",
       "      <td>0</td>\n",
       "      <td>F</td>\n",
       "      <td>business</td>\n",
       "      <td>0</td>\n",
       "      <td>NaN</td>\n",
       "      <td>building a property</td>\n",
       "    </tr>\n",
       "    <tr>\n",
       "      <th>21502</th>\n",
       "      <td>1</td>\n",
       "      <td>NaN</td>\n",
       "      <td>42</td>\n",
       "      <td>secondary education</td>\n",
       "      <td>1</td>\n",
       "      <td>married</td>\n",
       "      <td>0</td>\n",
       "      <td>F</td>\n",
       "      <td>employee</td>\n",
       "      <td>0</td>\n",
       "      <td>NaN</td>\n",
       "      <td>building a real estate</td>\n",
       "    </tr>\n",
       "    <tr>\n",
       "      <th>21510</th>\n",
       "      <td>2</td>\n",
       "      <td>NaN</td>\n",
       "      <td>28</td>\n",
       "      <td>secondary education</td>\n",
       "      <td>1</td>\n",
       "      <td>married</td>\n",
       "      <td>0</td>\n",
       "      <td>F</td>\n",
       "      <td>employee</td>\n",
       "      <td>0</td>\n",
       "      <td>NaN</td>\n",
       "      <td>car purchase</td>\n",
       "    </tr>\n",
       "  </tbody>\n",
       "</table>\n",
       "<p>2174 rows × 12 columns</p>\n",
       "</div>"
      ],
      "text/plain": [
       "       children  days_employed  dob_years            education  education_id  \\\n",
       "12            0            NaN         65  secondary education             1   \n",
       "26            0            NaN         41  secondary education             1   \n",
       "29            0            NaN         63  secondary education             1   \n",
       "41            0            NaN         50  secondary education             1   \n",
       "55            0            NaN         54  secondary education             1   \n",
       "...         ...            ...        ...                  ...           ...   \n",
       "21489         2            NaN         47  Secondary Education             1   \n",
       "21495         1            NaN         50  secondary education             1   \n",
       "21497         0            NaN         48    BACHELOR'S DEGREE             0   \n",
       "21502         1            NaN         42  secondary education             1   \n",
       "21510         2            NaN         28  secondary education             1   \n",
       "\n",
       "           family_status  family_status_id gender    income_type  debt  \\\n",
       "12     civil partnership                 1      M        retiree     0   \n",
       "26               married                 0      M  civil servant     0   \n",
       "29             unmarried                 4      F        retiree     0   \n",
       "41               married                 0      F  civil servant     0   \n",
       "55     civil partnership                 1      F        retiree     1   \n",
       "...                  ...               ...    ...            ...   ...   \n",
       "21489            married                 0      M       business     0   \n",
       "21495  civil partnership                 1      F       employee     0   \n",
       "21497            married                 0      F       business     0   \n",
       "21502            married                 0      F       employee     0   \n",
       "21510            married                 0      F       employee     0   \n",
       "\n",
       "       total_income                   purpose  \n",
       "12              NaN         to have a wedding  \n",
       "26              NaN                 education  \n",
       "29              NaN    building a real estate  \n",
       "41              NaN  second-hand car purchase  \n",
       "55              NaN         to have a wedding  \n",
       "...             ...                       ...  \n",
       "21489           NaN         purchase of a car  \n",
       "21495           NaN          wedding ceremony  \n",
       "21497           NaN       building a property  \n",
       "21502           NaN    building a real estate  \n",
       "21510           NaN              car purchase  \n",
       "\n",
       "[2174 rows x 12 columns]"
      ]
     },
     "execution_count": 8,
     "metadata": {},
     "output_type": "execute_result"
    }
   ],
   "source": [
    "# Mari kita melihat tabel yang telah difilter dengan nilai yang hilang di kolom pertama dengan data yang hilang\n",
    "\n",
    "data.loc[data['days_employed'].isna()]"
   ]
  },
  {
   "cell_type": "markdown",
   "metadata": {},
   "source": [
    "### Kesimpulan Awal \n",
    "- data [days_employed] dan [total_income] berubah menjadi nan atau object\n",
    "- Terlihat nilang yang hilang di kolom days_employed simetris dengan kolom total_income. Mungkin saja terjadi error system pada saat data diinput."
   ]
  },
  {
   "cell_type": "code",
   "execution_count": 12,
   "metadata": {},
   "outputs": [
    {
     "data": {
      "text/plain": [
       "children            2174\n",
       "days_employed          0\n",
       "dob_years           2174\n",
       "education           2174\n",
       "education_id        2174\n",
       "family_status       2174\n",
       "family_status_id    2174\n",
       "gender              2174\n",
       "income_type         2174\n",
       "debt                2174\n",
       "total_income           0\n",
       "purpose             2174\n",
       "dtype: int64"
      ]
     },
     "execution_count": 12,
     "metadata": {},
     "output_type": "execute_result"
    }
   ],
   "source": [
    "# Mari kita menerapkan beberapa persyaratan untuk memfilter data dan melihat jumlah baris dalam tabel yang difilter.\n",
    "\n",
    "data_null = data.loc[(data['days_employed'].isna()) & (data['total_income'].isna())]\n",
    "\n",
    "data_null.count()\n"
   ]
  },
  {
   "cell_type": "markdown",
   "metadata": {},
   "source": [
    "## Kesimpulan awal\n",
    "\n",
    "[Apakah jumlah baris dalam tabel yang difilter sesuai dengan jumlah nilai yang hilang? Kesimpulan apa yang bisa kita buat dari hal ini?]\n",
    "\n",
    "- tabel yang di hasilkan dari filter tidak spesifik untuk mengetahui jumlah nilai yang hilang, untuk itu membuat factor count\n",
    "\n",
    "- Jumlah nilai yang hilang pada kolom days_employed & total_income saling beririsan dengan jumlah 2174 rows.\n",
    "\n",
    "- Selanjutnya, untuk lebih memastikan, kita akan mengecek persentase jumlah baris atas nilai yang hilang terhadap keseluruhan data.\n",
    "\n",
    "[Hitung persentase nilai yang hilang yang dibandingkan dengan seluruh kumpulan data. Apakah ini merupakan bagian data yang sangat besar? Jika demikian, Anda mungkin ingin mengisi nilai yang hilang. Untuk melakukannya, pertama-tama kita harus mempertimbangkan apakah data yang hilang bisa jadi disebabkan oleh karakteristik klien tertentu, seperti jenis pekerjaan atau yang lainnya. Anda perlu memutuskan karakteristik mana yang *Anda* pikir mungkin menjadi alasannya. Kedua, kita harus memeriksa apakah terdapat ketergantungan nilai yang hilang pada nilai indikator lain dengan kolom yang berisi karakteristik klien spesifik yang teridentifikasi.]\n",
    "\n",
    "\n",
    "\n",
    "[Jelaskan langkah Anda selanjutnya dan bagaimana hubungannya dengan kesimpulan yang Anda buat sejauh ini.]\n",
    "\n",
    "- Melakukan pemisahan data menggunakan isna(). hal ini di lakukan untuk dapat memberikan pengelihatan data yang berbeda dalam kasus ini float"
   ]
  },
  {
   "cell_type": "code",
   "execution_count": 13,
   "metadata": {
    "scrolled": true
   },
   "outputs": [
    {
     "data": {
      "text/plain": [
       "children             0.000000\n",
       "days_employed       10.099884\n",
       "dob_years            0.000000\n",
       "education            0.000000\n",
       "education_id         0.000000\n",
       "family_status        0.000000\n",
       "family_status_id     0.000000\n",
       "gender               0.000000\n",
       "income_type          0.000000\n",
       "debt                 0.000000\n",
       "total_income        10.099884\n",
       "purpose              0.000000\n",
       "dtype: float64"
      ]
     },
     "execution_count": 13,
     "metadata": {},
     "output_type": "execute_result"
    }
   ],
   "source": [
    "# Mari kita memeriksa klien yang tidak memiliki data tentang karakteristik yang teridentifikasi dan kolom dengan nilai yang hilang\n",
    "\n",
    "data.isna().sum() / len(data) * 100"
   ]
  },
  {
   "cell_type": "code",
   "execution_count": 18,
   "metadata": {},
   "outputs": [
    {
     "name": "stdout",
     "output_type": "stream",
     "text": [
      "\n",
      "Unique Values for children in filtered data\n",
      "[-1, 0, 1, 2, 3, 4, 5, 20]\n",
      "\n",
      "Unique Values for children in fullset data\n",
      "[-1, 0, 1, 2, 3, 4, 5, 20]\n",
      "\n",
      "Unique Values for education in filtered data\n",
      "[\"BACHELOR'S DEGREE\", \"Bachelor's Degree\", 'PRIMARY EDUCATION', 'Primary Education', 'SECONDARY EDUCATION', 'SOME COLLEGE', 'Secondary Education', 'Some College', \"bachelor's degree\", 'primary education', 'secondary education', 'some college']\n",
      "\n",
      "Unique Values for education in fullset data\n",
      "[\"BACHELOR'S DEGREE\", \"Bachelor's Degree\", 'GRADUATE DEGREE', 'Graduate Degree', 'PRIMARY EDUCATION', 'Primary Education', 'SECONDARY EDUCATION', 'SOME COLLEGE', 'Secondary Education', 'Some College', \"bachelor's degree\", 'graduate degree', 'primary education', 'secondary education', 'some college']\n",
      "\n",
      "Unique Values for education_id in filtered data\n",
      "[0, 1, 2, 3]\n",
      "\n",
      "Unique Values for education_id in fullset data\n",
      "[0, 1, 2, 3, 4]\n",
      "\n",
      "Unique Values for family_status in filtered data\n",
      "['civil partnership', 'divorced', 'married', 'unmarried', 'widow / widower']\n",
      "\n",
      "Unique Values for family_status in fullset data\n",
      "['civil partnership', 'divorced', 'married', 'unmarried', 'widow / widower']\n",
      "\n",
      "Unique Values for family_status_id in filtered data\n",
      "[0, 1, 2, 3, 4]\n",
      "\n",
      "Unique Values for family_status_id in fullset data\n",
      "[0, 1, 2, 3, 4]\n",
      "\n",
      "Unique Values for gender in filtered data\n",
      "['F', 'M']\n",
      "\n",
      "Unique Values for gender in fullset data\n",
      "['F', 'M', 'XNA']\n",
      "\n",
      "Unique Values for income_type in filtered data\n",
      "['business', 'civil servant', 'employee', 'entrepreneur', 'retiree']\n",
      "\n",
      "Unique Values for income_type in fullset data\n",
      "['business', 'civil servant', 'employee', 'entrepreneur', 'paternity / maternity leave', 'retiree', 'student', 'unemployed']\n",
      "\n",
      "Unique Values for debt in filtered data\n",
      "[0, 1]\n",
      "\n",
      "Unique Values for debt in fullset data\n",
      "[0, 1]\n"
     ]
    }
   ],
   "source": [
    "# Memeriksa distribusi \n",
    "# Membandingkan value antara data_null dan data asli\n",
    "# Mencari unique value yang ada pada kolom di setiap kolom\n",
    "\n",
    "\n",
    "categorical_columns = ['children','education','education_id', 'family_status', \n",
    "                       'family_status_id', 'gender', 'income_type','debt', ]\n",
    "\n",
    "for col in categorical_columns:\n",
    "    print ('\\nUnique Values for %s in filtered data'%col)\n",
    "    print (sorted(data_null[col].unique()))\n",
    "    print('\\nUnique Values for %s in fullset data'%col)\n",
    "    print (sorted(data[col].unique()))\n",
    "   \n"
   ]
  },
  {
   "cell_type": "markdown",
   "metadata": {},
   "source": [
    "### Kesimpulan awal \n",
    "\n",
    "- Terdapat berbagai cara untuk memerikas distribusi dari variabel data null \n",
    "- Data yang sudah di gilter hanya berisi data yang mempunyai value yang hilang atau nan\n",
    "- Hanya ada perbedaan minor pada kolom education di data_null tidak memiliki value graduate degree dan pada kolom gender tidak memiliki value XNA.\n",
    "\n",
    "**Kemungkinan penyebab hilangnya nilai dalam data**\n",
    "\n",
    "[Ajukan ide-ide Anda tentang mengapa menurut Anda nilai-nilai tersebut kemungkinan hilang. Apakah menurut Anda mereka hilang secara acak atau terdapat pola?]\n",
    "\n",
    "- absen yang tidak beraturan dan bonus dari setiap perusahan berbeda\n",
    "\n",
    "[Mari kita mulai memeriksa apakah nilai hilang secara acak.]"
   ]
  },
  {
   "cell_type": "markdown",
   "metadata": {},
   "source": [
    "# Pra Pemrosesan Data"
   ]
  },
  {
   "cell_type": "code",
   "execution_count": 12,
   "metadata": {},
   "outputs": [
    {
     "name": "stdout",
     "output_type": "stream",
     "text": [
      "\n",
      "Unique Values and distribution for education in data_null:\n",
      "secondary education    0.647654\n",
      "bachelor's degree      0.228151\n",
      "SECONDARY EDUCATION    0.030819\n",
      "Secondary Education    0.029899\n",
      "some college           0.025299\n",
      "Bachelor's Degree      0.011500\n",
      "BACHELOR'S DEGREE      0.010580\n",
      "primary education      0.008740\n",
      "Some College           0.003220\n",
      "SOME COLLEGE           0.003220\n",
      "Primary Education      0.000460\n",
      "PRIMARY EDUCATION      0.000460\n",
      "Name: education, dtype: float64\n",
      "\n",
      "Unique Values  and distribution for education in data:\n",
      "secondary education    0.638792\n",
      "bachelor's degree      0.219187\n",
      "SECONDARY EDUCATION    0.035865\n",
      "Secondary Education    0.033031\n",
      "some college           0.031034\n",
      "BACHELOR'S DEGREE      0.012729\n",
      "Bachelor's Degree      0.012451\n",
      "primary education      0.011614\n",
      "Some College           0.002184\n",
      "SOME COLLEGE           0.001347\n",
      "PRIMARY EDUCATION      0.000790\n",
      "Primary Education      0.000697\n",
      "graduate degree        0.000186\n",
      "GRADUATE DEGREE        0.000046\n",
      "Graduate Degree        0.000046\n",
      "Name: education, dtype: float64\n"
     ]
    }
   ],
   "source": [
    "# Memeriksa distribusi di seluruh dataset\n",
    "# Menggunakan fungsi \n",
    "print ('\\nUnique Values and distribution for education in data_null:')\n",
    "print(data_null['education'].value_counts(normalize=True))\n",
    "print ('\\nUnique Values  and distribution for education in data:')\n",
    "print(data['education'].value_counts(normalize=True))"
   ]
  },
  {
   "cell_type": "markdown",
   "metadata": {},
   "source": [
    "**Kesimpulan menengah**\n",
    "\n",
    "\n",
    "\n",
    "- Terdapat data unik di [children, days_employed, total_income, purpose] biasanya di sebut outliner\n",
    "\n"
   ]
  },
  {
   "cell_type": "markdown",
   "metadata": {},
   "source": [
    "# Periksa penyebab dan pola lain yang dapat mengakibatkan nilai yang hilang\n"
   ]
  },
  {
   "cell_type": "markdown",
   "metadata": {},
   "source": [
    "**Kesimpulan menengah**\n",
    "\n",
    "- Terdapat berbagai outliner dimana hal ini terjadi karena berbagai macam input data yang berbeda beda bisa di lihat dari hasil kesimpulan di atas\n"
   ]
  },
  {
   "cell_type": "markdown",
   "metadata": {
    "scrolled": true
   },
   "source": [
    "# Memeriksa pola lainnya - jelaskan pola tersebut\n",
    "\n",
    "- Terdapat data unik di [children, days_employed, total_income, purpose] biasanya di sebut outliner\n",
    "- Seperti kesimpulan sebelumnya hal ini memberikan berbagai macam data unik yang dapat memberikan analisis tambahan untuk memberikan hipotesis baru"
   ]
  },
  {
   "cell_type": "markdown",
   "metadata": {},
   "source": [
    "**Kesimpulan**\n",
    "\n",
    "\n",
    "- Di butuhkan perbaikan dari beberapa tabel yang sudah saya jabarkan di atas\n",
    "\n",
    "\n",
    "\n",
    "- NIlai yang hilang di atasi dengan membuat fungsi \n",
    "\n"
   ]
  },
  {
   "cell_type": "markdown",
   "metadata": {},
   "source": [
    "## Transformasi data\n"
   ]
  },
  {
   "cell_type": "code",
   "execution_count": 13,
   "metadata": {},
   "outputs": [
    {
     "data": {
      "text/plain": [
       "[\"BACHELOR'S DEGREE\",\n",
       " \"Bachelor's Degree\",\n",
       " 'GRADUATE DEGREE',\n",
       " 'Graduate Degree',\n",
       " 'PRIMARY EDUCATION',\n",
       " 'Primary Education',\n",
       " 'SECONDARY EDUCATION',\n",
       " 'SOME COLLEGE',\n",
       " 'Secondary Education',\n",
       " 'Some College',\n",
       " \"bachelor's degree\",\n",
       " 'graduate degree',\n",
       " 'primary education',\n",
       " 'secondary education',\n",
       " 'some college']"
      ]
     },
     "execution_count": 13,
     "metadata": {},
     "output_type": "execute_result"
    }
   ],
   "source": [
    "# Mari kita lihat semua nilai di kolom pendidikan untuk memeriksa ejaan apa yang perlu diperbaiki\n",
    "sorted(data['education'].unique())"
   ]
  },
  {
   "cell_type": "code",
   "execution_count": 14,
   "metadata": {},
   "outputs": [
    {
     "name": "stdout",
     "output_type": "stream",
     "text": [
      "\n",
      "Unique Values and distribution for education in data_null:\n",
      "secondary education    1408\n",
      "bachelor's degree       496\n",
      "SECONDARY EDUCATION      67\n",
      "Secondary Education      65\n",
      "some college             55\n",
      "Bachelor's Degree        25\n",
      "BACHELOR'S DEGREE        23\n",
      "primary education        19\n",
      "Some College              7\n",
      "SOME COLLEGE              7\n",
      "Primary Education         1\n",
      "PRIMARY EDUCATION         1\n",
      "Name: education, dtype: int64\n"
     ]
    }
   ],
   "source": [
    "print ('\\nUnique Values and distribution for education in data_null:')\n",
    "print(data_null['education'].value_counts())"
   ]
  },
  {
   "cell_type": "code",
   "execution_count": 15,
   "metadata": {
    "scrolled": true
   },
   "outputs": [
    {
     "name": "stdout",
     "output_type": "stream",
     "text": [
      "[\"bachelor's degree\" 'secondary education' 'some college'\n",
      " 'primary education' 'graduate degree']\n"
     ]
    }
   ],
   "source": [
    "# Perbaiki register jika diperlukan\n",
    "data['education'] = data['education'].str.lower()\n",
    "\n",
    "print(data['education'].unique())\n"
   ]
  },
  {
   "cell_type": "code",
   "execution_count": 16,
   "metadata": {},
   "outputs": [
    {
     "name": "stdout",
     "output_type": "stream",
     "text": [
      "\n",
      "Unique Values  and distribution for education in data:\n",
      "secondary education    15233\n",
      "bachelor's degree       5260\n",
      "some college             744\n",
      "primary education        282\n",
      "graduate degree            6\n",
      "Name: education, dtype: int64\n"
     ]
    }
   ],
   "source": [
    "# Mengelompokan distribusi data yang tersebar di kolom tertentu\n",
    "\n",
    "print ('\\nUnique Values  and distribution for education in data:')\n",
    "print(data['education'].value_counts())"
   ]
  },
  {
   "cell_type": "code",
   "execution_count": 17,
   "metadata": {},
   "outputs": [
    {
     "data": {
      "text/plain": [
       "array([\"bachelor's degree\", 'secondary education', 'some college',\n",
       "       'primary education', 'graduate degree'], dtype=object)"
      ]
     },
     "execution_count": 17,
     "metadata": {},
     "output_type": "execute_result"
    }
   ],
   "source": [
    "# Memeriksa semua nilai di kolom untuk memastikan kita telah memperbaikinya\n",
    "\n",
    "data['education'].unique()"
   ]
  },
  {
   "cell_type": "markdown",
   "metadata": {},
   "source": [
    "[Periksa data kolom `children`]"
   ]
  },
  {
   "cell_type": "code",
   "execution_count": 20,
   "metadata": {},
   "outputs": [
    {
     "data": {
      "text/plain": [
       "[-1, 0, 1, 2, 3, 4, 5, 20]"
      ]
     },
     "execution_count": 20,
     "metadata": {},
     "output_type": "execute_result"
    }
   ],
   "source": [
    "# Mari kita lihat distribusi nilai pada kolom `children`\n",
    "\n",
    "sorted(data['children'].unique())"
   ]
  },
  {
   "cell_type": "code",
   "execution_count": 21,
   "metadata": {},
   "outputs": [
    {
     "name": "stdout",
     "output_type": "stream",
     "text": [
      "123\n"
     ]
    }
   ],
   "source": [
    "# Menghitung jumlah value 20 dan -1 di column children\n",
    "\n",
    "print(len(data.loc[(data['children'] == 20) | (data['children'] == -1)]))"
   ]
  },
  {
   "cell_type": "code",
   "execution_count": 26,
   "metadata": {},
   "outputs": [
    {
     "data": {
      "text/plain": [
       "0.5714285714285714"
      ]
     },
     "execution_count": 26,
     "metadata": {},
     "output_type": "execute_result"
    }
   ],
   "source": [
    "# Menghitung presentase nilai unique di kolom children\n",
    "\n",
    "len(data.loc[(data['children'] == 20) | (data['children'] == -1)]) / len(data) *100\n"
   ]
  },
  {
   "cell_type": "markdown",
   "metadata": {},
   "source": [
    "### Kesimpulan awal\n",
    "\n",
    "- ada dua value yang bisa di bilang sangat berbeda -1 dan 20\n",
    "- Kemungkinan besar ada kesalahan pada system\n"
   ]
  },
  {
   "cell_type": "code",
   "execution_count": 27,
   "metadata": {},
   "outputs": [],
   "source": [
    "# Melakukan perbaikan pada kolum dengan cara re\n",
    "\n",
    "data['children'] = data['children'].replace(-1,0).replace(20,0)\n"
   ]
  },
  {
   "cell_type": "code",
   "execution_count": 28,
   "metadata": {},
   "outputs": [
    {
     "data": {
      "text/plain": [
       "[0, 1, 2, 3, 4, 5]"
      ]
     },
     "execution_count": 28,
     "metadata": {},
     "output_type": "execute_result"
    }
   ],
   "source": [
    "# Periksa kembali kolom `children` untuk memastikan semua telah diperbaiki\n",
    "\n",
    "sorted(data['children'].unique())"
   ]
  },
  {
   "cell_type": "code",
   "execution_count": 29,
   "metadata": {},
   "outputs": [
    {
     "data": {
      "text/plain": [
       "0    14272\n",
       "1     4818\n",
       "2     2055\n",
       "3      330\n",
       "4       41\n",
       "5        9\n",
       "Name: children, dtype: int64"
      ]
     },
     "execution_count": 29,
     "metadata": {},
     "output_type": "execute_result"
    }
   ],
   "source": [
    "data['children'].value_counts()"
   ]
  },
  {
   "cell_type": "markdown",
   "metadata": {},
   "source": [
    "## Melakukan pengecekan di kolom days_employed"
   ]
  },
  {
   "cell_type": "code",
   "execution_count": 21,
   "metadata": {},
   "outputs": [
    {
     "name": "stdout",
     "output_type": "stream",
     "text": [
      "73.89547038327527\n",
      "16.004645760743323\n"
     ]
    }
   ],
   "source": [
    "# Temukan data yang bermasalah di `days_employed`, jika terdapat masalah, dan hitung persentasenya\n",
    "\n",
    "print(len(data.loc[(data['days_employed']< 0)]) / len(data) * 100)\n",
    "\n",
    "print(len(data.loc[(data['days_employed']> 16790)]) / len(data) * 100)"
   ]
  },
  {
   "cell_type": "markdown",
   "metadata": {},
   "source": [
    "[Jika jumlah data yang bermasalah tinggi, hal tersebut mungkin dikarenakan beberapa masalah teknis. Kami mungkin ingin mengusulkan alasan paling jelas mengapa hal tersebut dapat terjadi dan bagaimanakah kemungkinan data yang benar, karena kita tidak dapat menghapus baris yang bermasalah ini.]"
   ]
  },
  {
   "cell_type": "code",
   "execution_count": 31,
   "metadata": {},
   "outputs": [],
   "source": [
    "# Atasi nilai yang bermasalah, jika ada\n",
    "\n",
    "data['days_employed'] = data['days_employed'].abs()\n",
    "\n",
    "data.loc[data['days_employed'] > 16790, 'days_employed'] = (data['dob_years'] - 19) * 365"
   ]
  },
  {
   "cell_type": "code",
   "execution_count": 23,
   "metadata": {},
   "outputs": [
    {
     "data": {
      "text/html": [
       "<div>\n",
       "<style scoped>\n",
       "    .dataframe tbody tr th:only-of-type {\n",
       "        vertical-align: middle;\n",
       "    }\n",
       "\n",
       "    .dataframe tbody tr th {\n",
       "        vertical-align: top;\n",
       "    }\n",
       "\n",
       "    .dataframe thead th {\n",
       "        text-align: right;\n",
       "    }\n",
       "</style>\n",
       "<table border=\"1\" class=\"dataframe\">\n",
       "  <thead>\n",
       "    <tr style=\"text-align: right;\">\n",
       "      <th></th>\n",
       "      <th>children</th>\n",
       "      <th>days_employed</th>\n",
       "      <th>dob_years</th>\n",
       "      <th>education</th>\n",
       "      <th>education_id</th>\n",
       "      <th>family_status</th>\n",
       "      <th>family_status_id</th>\n",
       "      <th>gender</th>\n",
       "      <th>income_type</th>\n",
       "      <th>debt</th>\n",
       "      <th>total_income</th>\n",
       "      <th>purpose</th>\n",
       "    </tr>\n",
       "  </thead>\n",
       "  <tbody>\n",
       "    <tr>\n",
       "      <th>0</th>\n",
       "      <td>1</td>\n",
       "      <td>8437.673028</td>\n",
       "      <td>42</td>\n",
       "      <td>bachelor's degree</td>\n",
       "      <td>0</td>\n",
       "      <td>married</td>\n",
       "      <td>0</td>\n",
       "      <td>F</td>\n",
       "      <td>employee</td>\n",
       "      <td>0</td>\n",
       "      <td>40620.102</td>\n",
       "      <td>purchase of the house</td>\n",
       "    </tr>\n",
       "    <tr>\n",
       "      <th>1</th>\n",
       "      <td>1</td>\n",
       "      <td>4024.803754</td>\n",
       "      <td>36</td>\n",
       "      <td>secondary education</td>\n",
       "      <td>1</td>\n",
       "      <td>married</td>\n",
       "      <td>0</td>\n",
       "      <td>F</td>\n",
       "      <td>employee</td>\n",
       "      <td>0</td>\n",
       "      <td>17932.802</td>\n",
       "      <td>car purchase</td>\n",
       "    </tr>\n",
       "    <tr>\n",
       "      <th>2</th>\n",
       "      <td>0</td>\n",
       "      <td>5623.422610</td>\n",
       "      <td>33</td>\n",
       "      <td>secondary education</td>\n",
       "      <td>1</td>\n",
       "      <td>married</td>\n",
       "      <td>0</td>\n",
       "      <td>M</td>\n",
       "      <td>employee</td>\n",
       "      <td>0</td>\n",
       "      <td>23341.752</td>\n",
       "      <td>purchase of the house</td>\n",
       "    </tr>\n",
       "    <tr>\n",
       "      <th>3</th>\n",
       "      <td>3</td>\n",
       "      <td>4124.747207</td>\n",
       "      <td>32</td>\n",
       "      <td>secondary education</td>\n",
       "      <td>1</td>\n",
       "      <td>married</td>\n",
       "      <td>0</td>\n",
       "      <td>M</td>\n",
       "      <td>employee</td>\n",
       "      <td>0</td>\n",
       "      <td>42820.568</td>\n",
       "      <td>supplementary education</td>\n",
       "    </tr>\n",
       "    <tr>\n",
       "      <th>4</th>\n",
       "      <td>0</td>\n",
       "      <td>12410.000000</td>\n",
       "      <td>53</td>\n",
       "      <td>secondary education</td>\n",
       "      <td>1</td>\n",
       "      <td>civil partnership</td>\n",
       "      <td>1</td>\n",
       "      <td>F</td>\n",
       "      <td>retiree</td>\n",
       "      <td>0</td>\n",
       "      <td>25378.572</td>\n",
       "      <td>to have a wedding</td>\n",
       "    </tr>\n",
       "    <tr>\n",
       "      <th>5</th>\n",
       "      <td>0</td>\n",
       "      <td>926.185831</td>\n",
       "      <td>27</td>\n",
       "      <td>bachelor's degree</td>\n",
       "      <td>0</td>\n",
       "      <td>civil partnership</td>\n",
       "      <td>1</td>\n",
       "      <td>M</td>\n",
       "      <td>business</td>\n",
       "      <td>0</td>\n",
       "      <td>40922.170</td>\n",
       "      <td>purchase of the house</td>\n",
       "    </tr>\n",
       "    <tr>\n",
       "      <th>6</th>\n",
       "      <td>0</td>\n",
       "      <td>2879.202052</td>\n",
       "      <td>43</td>\n",
       "      <td>bachelor's degree</td>\n",
       "      <td>0</td>\n",
       "      <td>married</td>\n",
       "      <td>0</td>\n",
       "      <td>F</td>\n",
       "      <td>business</td>\n",
       "      <td>0</td>\n",
       "      <td>38484.156</td>\n",
       "      <td>housing transactions</td>\n",
       "    </tr>\n",
       "    <tr>\n",
       "      <th>7</th>\n",
       "      <td>0</td>\n",
       "      <td>152.779569</td>\n",
       "      <td>50</td>\n",
       "      <td>secondary education</td>\n",
       "      <td>1</td>\n",
       "      <td>married</td>\n",
       "      <td>0</td>\n",
       "      <td>M</td>\n",
       "      <td>employee</td>\n",
       "      <td>0</td>\n",
       "      <td>21731.829</td>\n",
       "      <td>education</td>\n",
       "    </tr>\n",
       "    <tr>\n",
       "      <th>8</th>\n",
       "      <td>2</td>\n",
       "      <td>6929.865299</td>\n",
       "      <td>35</td>\n",
       "      <td>bachelor's degree</td>\n",
       "      <td>0</td>\n",
       "      <td>civil partnership</td>\n",
       "      <td>1</td>\n",
       "      <td>F</td>\n",
       "      <td>employee</td>\n",
       "      <td>0</td>\n",
       "      <td>15337.093</td>\n",
       "      <td>having a wedding</td>\n",
       "    </tr>\n",
       "    <tr>\n",
       "      <th>9</th>\n",
       "      <td>0</td>\n",
       "      <td>2188.756445</td>\n",
       "      <td>41</td>\n",
       "      <td>secondary education</td>\n",
       "      <td>1</td>\n",
       "      <td>married</td>\n",
       "      <td>0</td>\n",
       "      <td>M</td>\n",
       "      <td>employee</td>\n",
       "      <td>0</td>\n",
       "      <td>23108.150</td>\n",
       "      <td>purchase of the house for my family</td>\n",
       "    </tr>\n",
       "  </tbody>\n",
       "</table>\n",
       "</div>"
      ],
      "text/plain": [
       "   children  days_employed  dob_years            education  education_id  \\\n",
       "0         1    8437.673028         42    bachelor's degree             0   \n",
       "1         1    4024.803754         36  secondary education             1   \n",
       "2         0    5623.422610         33  secondary education             1   \n",
       "3         3    4124.747207         32  secondary education             1   \n",
       "4         0   12410.000000         53  secondary education             1   \n",
       "5         0     926.185831         27    bachelor's degree             0   \n",
       "6         0    2879.202052         43    bachelor's degree             0   \n",
       "7         0     152.779569         50  secondary education             1   \n",
       "8         2    6929.865299         35    bachelor's degree             0   \n",
       "9         0    2188.756445         41  secondary education             1   \n",
       "\n",
       "       family_status  family_status_id gender income_type  debt  total_income  \\\n",
       "0            married                 0      F    employee     0     40620.102   \n",
       "1            married                 0      F    employee     0     17932.802   \n",
       "2            married                 0      M    employee     0     23341.752   \n",
       "3            married                 0      M    employee     0     42820.568   \n",
       "4  civil partnership                 1      F     retiree     0     25378.572   \n",
       "5  civil partnership                 1      M    business     0     40922.170   \n",
       "6            married                 0      F    business     0     38484.156   \n",
       "7            married                 0      M    employee     0     21731.829   \n",
       "8  civil partnership                 1      F    employee     0     15337.093   \n",
       "9            married                 0      M    employee     0     23108.150   \n",
       "\n",
       "                               purpose  \n",
       "0                purchase of the house  \n",
       "1                         car purchase  \n",
       "2                purchase of the house  \n",
       "3              supplementary education  \n",
       "4                    to have a wedding  \n",
       "5                purchase of the house  \n",
       "6                 housing transactions  \n",
       "7                            education  \n",
       "8                     having a wedding  \n",
       "9  purchase of the house for my family  "
      ]
     },
     "execution_count": 23,
     "metadata": {},
     "output_type": "execute_result"
    }
   ],
   "source": [
    "# Periksa hasilnya - pastikan telah diperbaiki\n",
    "data.head(10)"
   ]
  },
  {
   "cell_type": "code",
   "execution_count": 34,
   "metadata": {},
   "outputs": [
    {
     "name": "stdout",
     "output_type": "stream",
     "text": [
      "0        23.116912\n",
      "1        11.026860\n",
      "2        15.406637\n",
      "3        11.300677\n",
      "4        34.000000\n",
      "           ...    \n",
      "21520    12.409087\n",
      "21521    48.000000\n",
      "21522     5.789991\n",
      "21523     8.527347\n",
      "21524     5.437007\n",
      "Name: days_employed, Length: 21525, dtype: float64\n"
     ]
    }
   ],
   "source": [
    "print(data['days_employed'] / 365)"
   ]
  },
  {
   "cell_type": "markdown",
   "metadata": {},
   "source": [
    "Di lakukan pengecekan lanjutan terhadap kolom days employed untu mengetahui nilai nilai yang mencirigakan karena kesalahan system"
   ]
  },
  {
   "cell_type": "code",
   "execution_count": 35,
   "metadata": {},
   "outputs": [
    {
     "data": {
      "text/plain": [
       "0.0"
      ]
     },
     "execution_count": 35,
     "metadata": {},
     "output_type": "execute_result"
    }
   ],
   "source": [
    "# hitung persentase yang bermasalah\n",
    "\n",
    "len(data.loc[(data['days_employed'] < 0)]) / len(data) * 100\n"
   ]
  },
  {
   "cell_type": "code",
   "execution_count": 24,
   "metadata": {
    "scrolled": true
   },
   "outputs": [
    {
     "data": {
      "text/plain": [
       "35    2.866434\n",
       "40    2.829268\n",
       "41    2.819977\n",
       "34    2.801394\n",
       "38    2.778165\n",
       "42    2.773519\n",
       "33    2.699187\n",
       "39    2.662021\n",
       "31    2.601626\n",
       "36    2.578397\n",
       "44    2.541231\n",
       "29    2.531940\n",
       "30    2.508711\n",
       "48    2.499419\n",
       "37    2.494774\n",
       "50    2.387921\n",
       "43    2.383275\n",
       "32    2.369338\n",
       "49    2.360046\n",
       "28    2.336818\n",
       "45    2.308943\n",
       "27    2.290360\n",
       "56    2.262485\n",
       "52    2.248548\n",
       "47    2.229965\n",
       "54    2.225319\n",
       "46    2.206736\n",
       "58    2.141696\n",
       "57    2.137050\n",
       "53    2.132404\n",
       "51    2.081301\n",
       "59    2.062718\n",
       "55    2.058072\n",
       "26    1.895470\n",
       "60    1.751452\n",
       "25    1.658537\n",
       "61    1.649245\n",
       "62    1.635308\n",
       "63    1.249710\n",
       "64    1.231127\n",
       "24    1.226481\n",
       "23    1.180023\n",
       "65    0.901278\n",
       "66    0.850174\n",
       "22    0.850174\n",
       "67    0.775842\n",
       "21    0.515679\n",
       "0     0.469222\n",
       "68    0.459930\n",
       "69    0.394890\n",
       "70    0.301974\n",
       "71    0.269454\n",
       "20    0.236934\n",
       "72    0.153310\n",
       "19    0.065041\n",
       "73    0.037166\n",
       "74    0.027875\n",
       "75    0.004646\n",
       "Name: dob_years, dtype: float64"
      ]
     },
     "execution_count": 24,
     "metadata": {},
     "output_type": "execute_result"
    }
   ],
   "source": [
    "# Periksa `dob_years` untuk nilai yang mencurigakan dan hitung persentasenya\n",
    "\n",
    "data['dob_years'].value_counts()/ len(data) * 100\n"
   ]
  },
  {
   "cell_type": "markdown",
   "metadata": {},
   "source": [
    "[Putuskan apa yang akan Anda lakukan dengan nilai yang bermasalah dan jelaskan alasannya.]\n",
    "\n",
    "Terdapat data pada [dob_years] berumur 0 tahun pada dengan presentase 0,4%. nilai ini bisa di bilang merupakan keganjilan pada table yang sebaiknya tidak di ubah menjadi [NaN] dan jika di lingkungan kerja bagus untuk mengkonsultasikan terlebih dahulu dengan atasan "
   ]
  },
  {
   "cell_type": "code",
   "execution_count": 37,
   "metadata": {},
   "outputs": [],
   "source": [
    "# Atasi masalah pada kolom `dob_years`, jika terdapat masalah\n",
    "\n",
    "data.loc[(data['dob_years'] == 0), 'dob_years'] = data['dob_years'].median()"
   ]
  },
  {
   "cell_type": "code",
   "execution_count": 39,
   "metadata": {},
   "outputs": [
    {
     "data": {
      "text/plain": [
       "75      1\n",
       "74      6\n",
       "73      8\n",
       "19     14\n",
       "72     33\n",
       "20     51\n",
       "71     58\n",
       "70     65\n",
       "69     85\n",
       "68     99\n",
       "21    111\n",
       "67    167\n",
       "66    183\n",
       "22    183\n",
       "65    194\n",
       "23    254\n",
       "24    264\n",
       "64    265\n",
       "63    269\n",
       "62    352\n",
       "61    355\n",
       "25    357\n",
       "60    377\n",
       "26    408\n",
       "55    443\n",
       "59    444\n",
       "51    448\n",
       "53    459\n",
       "57    460\n",
       "58    461\n",
       "46    475\n",
       "54    479\n",
       "47    480\n",
       "52    484\n",
       "56    487\n",
       "27    493\n",
       "45    497\n",
       "28    503\n",
       "49    508\n",
       "32    510\n",
       "43    513\n",
       "50    514\n",
       "37    537\n",
       "48    538\n",
       "30    540\n",
       "29    545\n",
       "44    547\n",
       "36    555\n",
       "31    560\n",
       "39    573\n",
       "33    581\n",
       "38    598\n",
       "34    603\n",
       "41    607\n",
       "40    609\n",
       "35    617\n",
       "42    698\n",
       "Name: dob_years, dtype: int64"
      ]
     },
     "execution_count": 39,
     "metadata": {},
     "output_type": "execute_result"
    }
   ],
   "source": [
    "# Periksa hasilnya - pastikan telah diperbaiki\n",
    "data['dob_years'].value_counts().sort_values()"
   ]
  },
  {
   "cell_type": "markdown",
   "metadata": {},
   "source": [
    "## Pengecekan kolom di family _status"
   ]
  },
  {
   "cell_type": "code",
   "execution_count": 27,
   "metadata": {},
   "outputs": [
    {
     "data": {
      "text/plain": [
       "married              12380\n",
       "civil partnership     4177\n",
       "unmarried             2813\n",
       "divorced              1195\n",
       "widow / widower        960\n",
       "Name: family_status, dtype: int64"
      ]
     },
     "execution_count": 27,
     "metadata": {},
     "output_type": "execute_result"
    }
   ],
   "source": [
    "# Mari kita lihat nilai untuk kolom\n",
    "\n",
    "data['family_status'].value_counts()"
   ]
  },
  {
   "cell_type": "markdown",
   "metadata": {},
   "source": [
    "### Kesimpulan awal\n",
    "- Distribusi persebaran value object data di dalam kolum merata dan tidak ada data yang mencurigakan"
   ]
  },
  {
   "cell_type": "markdown",
   "metadata": {},
   "source": [
    "### Melakukan pemerikasan pada kolom Gender"
   ]
  },
  {
   "cell_type": "code",
   "execution_count": 30,
   "metadata": {},
   "outputs": [
    {
     "data": {
      "text/plain": [
       "F      14236\n",
       "M       7288\n",
       "XNA        1\n",
       "Name: gender, dtype: int64"
      ]
     },
     "execution_count": 30,
     "metadata": {},
     "output_type": "execute_result"
    }
   ],
   "source": [
    "# Mari kita melihat nilainya di kolom\n",
    "\n",
    "data['gender'].value_counts()"
   ]
  },
  {
   "cell_type": "code",
   "execution_count": 43,
   "metadata": {},
   "outputs": [],
   "source": [
    "# Atasi nilai-nilai yang bermasalah, jika ada\n",
    "\n",
    "data.loc[data['gender'] == 'nan', 'gender'] = 'F'\n",
    "data.loc[data['gender'] == 'XNA', 'gender'] = 'unknown'"
   ]
  },
  {
   "cell_type": "code",
   "execution_count": 44,
   "metadata": {},
   "outputs": [
    {
     "data": {
      "text/plain": [
       "['F', 'M', 'unknown']"
      ]
     },
     "execution_count": 44,
     "metadata": {},
     "output_type": "execute_result"
    }
   ],
   "source": [
    "# Periksa hasilnya - pastikan telah diperbaiki\n",
    "\n",
    "sorted(data.gender.unique())"
   ]
  },
  {
   "cell_type": "code",
   "execution_count": 45,
   "metadata": {},
   "outputs": [
    {
     "data": {
      "text/plain": [
       "F          14236\n",
       "M           7288\n",
       "unknown        1\n",
       "Name: gender, dtype: int64"
      ]
     },
     "execution_count": 45,
     "metadata": {},
     "output_type": "execute_result"
    }
   ],
   "source": [
    "data['gender'].value_counts()"
   ]
  },
  {
   "cell_type": "markdown",
   "metadata": {},
   "source": [
    "### Melakukan kolom income_type"
   ]
  },
  {
   "cell_type": "code",
   "execution_count": 46,
   "metadata": {},
   "outputs": [
    {
     "data": {
      "text/plain": [
       "employee                       11119\n",
       "business                        5085\n",
       "retiree                         3856\n",
       "civil servant                   1459\n",
       "unemployed                         2\n",
       "entrepreneur                       2\n",
       "student                            1\n",
       "paternity / maternity leave        1\n",
       "Name: income_type, dtype: int64"
      ]
     },
     "execution_count": 46,
     "metadata": {},
     "output_type": "execute_result"
    }
   ],
   "source": [
    "# Mari kita lihat nilai dalam kolom\n",
    "\n",
    "data['income_type'].value_counts()"
   ]
  },
  {
   "cell_type": "markdown",
   "metadata": {},
   "source": [
    "## Melakukan pemeriksaan nilai nilai duplikat\n",
    "- Dilihat dari distribusi data yang sepertinya merata, bisa di simpulkan tidak ada masalah"
   ]
  },
  {
   "cell_type": "code",
   "execution_count": 34,
   "metadata": {},
   "outputs": [
    {
     "data": {
      "text/plain": [
       "21517"
      ]
     },
     "execution_count": 34,
     "metadata": {},
     "output_type": "execute_result"
    }
   ],
   "source": [
    "# Periksa hasilnya - pastikan telah diperbaiki\n",
    "data['income_type'].duplicated().sum()"
   ]
  },
  {
   "cell_type": "markdown",
   "metadata": {},
   "source": [
    "[Sekarang saatnya melihat apakah terdapat duplikasi di dalam data kita. Jika kita menemukannya, Anda harus memutuskan apa yang akan Anda lakukan dengan duplikat tersebut dan menjelaskan alasannya.]"
   ]
  },
  {
   "cell_type": "code",
   "execution_count": 35,
   "metadata": {},
   "outputs": [
    {
     "data": {
      "text/plain": [
       "72"
      ]
     },
     "execution_count": 35,
     "metadata": {},
     "output_type": "execute_result"
    }
   ],
   "source": [
    "# Memeriksa duplikat\n",
    "\n",
    "data.duplicated().sum()"
   ]
  },
  {
   "cell_type": "code",
   "execution_count": 36,
   "metadata": {},
   "outputs": [],
   "source": [
    "# Atasi duplikat, jika ada\n",
    "\n",
    "data = data.drop_duplicates().reset_index(drop=True)"
   ]
  },
  {
   "cell_type": "code",
   "execution_count": 37,
   "metadata": {},
   "outputs": [
    {
     "data": {
      "text/plain": [
       "0"
      ]
     },
     "execution_count": 37,
     "metadata": {},
     "output_type": "execute_result"
    }
   ],
   "source": [
    "# Terakhir periksa apakah kita memiliki duplikat\n",
    "data.duplicated().sum()"
   ]
  },
  {
   "cell_type": "code",
   "execution_count": 38,
   "metadata": {},
   "outputs": [
    {
     "data": {
      "text/plain": [
       "(21453, 12)"
      ]
     },
     "execution_count": 38,
     "metadata": {},
     "output_type": "execute_result"
    }
   ],
   "source": [
    "# Periksa ukuran dataset yang sekarang Anda miliki setelah manipulasi pertama yang Anda lakukan\n",
    "\n",
    "data.shape"
   ]
  },
  {
   "cell_type": "code",
   "execution_count": 47,
   "metadata": {},
   "outputs": [
    {
     "name": "stdout",
     "output_type": "stream",
     "text": [
      "<class 'pandas.core.frame.DataFrame'>\n",
      "RangeIndex: 21525 entries, 0 to 21524\n",
      "Data columns (total 12 columns):\n",
      " #   Column            Non-Null Count  Dtype  \n",
      "---  ------            --------------  -----  \n",
      " 0   children          21525 non-null  int64  \n",
      " 1   days_employed     19351 non-null  float64\n",
      " 2   dob_years         21525 non-null  int64  \n",
      " 3   education         21525 non-null  object \n",
      " 4   education_id      21525 non-null  int64  \n",
      " 5   family_status     21525 non-null  object \n",
      " 6   family_status_id  21525 non-null  int64  \n",
      " 7   gender            21525 non-null  object \n",
      " 8   income_type       21525 non-null  object \n",
      " 9   debt              21525 non-null  int64  \n",
      " 10  total_income      19351 non-null  float64\n",
      " 11  purpose           21525 non-null  object \n",
      "dtypes: float64(2), int64(5), object(5)\n",
      "memory usage: 2.0+ MB\n"
     ]
    }
   ],
   "source": [
    "data.info()"
   ]
  },
  {
   "cell_type": "code",
   "execution_count": 48,
   "metadata": {},
   "outputs": [
    {
     "data": {
      "text/plain": [
       "0.0035140302826727303"
      ]
     },
     "execution_count": 48,
     "metadata": {},
     "output_type": "execute_result"
    }
   ],
   "source": [
    "# Persentase perubahan kolom days_employed setelah manipulasi pertama diatas \n",
    "(19419 - 19351) / 19351"
   ]
  },
  {
   "cell_type": "markdown",
   "metadata": {},
   "source": [
    "### Kesimpulan awal \n",
    "- Days employed memiliki nilai yang janggal dimana terdapat 0.35 % perubahan value setelah di lakukan pemeriksaan nilai nilai yang hilang"
   ]
  },
  {
   "cell_type": "markdown",
   "metadata": {},
   "source": [
    "# Bekerja dengan nilai yang hilang"
   ]
  },
  {
   "cell_type": "markdown",
   "metadata": {},
   "source": [
    "[Untuk mempercepat pekerjaan dengan beberapa data, Anda mungkin ingin menggunakan dictionary untuk beberapa nilai, di mana tersedia ID. Jelaskan mengapa dan dictionary apakah yang akan Anda gunakan.]"
   ]
  },
  {
   "cell_type": "code",
   "execution_count": 39,
   "metadata": {},
   "outputs": [
    {
     "data": {
      "text/plain": [
       "[19.0,\n",
       " 20.0,\n",
       " 21.0,\n",
       " 22.0,\n",
       " 23.0,\n",
       " 24.0,\n",
       " 25.0,\n",
       " 26.0,\n",
       " 27.0,\n",
       " 28.0,\n",
       " 29.0,\n",
       " 30.0,\n",
       " 31.0,\n",
       " 32.0,\n",
       " 33.0,\n",
       " 34.0,\n",
       " 35.0,\n",
       " 36.0,\n",
       " 37.0,\n",
       " 38.0,\n",
       " 39.0,\n",
       " 40.0,\n",
       " 41.0,\n",
       " 42.0,\n",
       " 43.0,\n",
       " 44.0,\n",
       " 45.0,\n",
       " 46.0,\n",
       " 47.0,\n",
       " 48.0,\n",
       " 49.0,\n",
       " 50.0,\n",
       " 51.0,\n",
       " 52.0,\n",
       " 53.0,\n",
       " 54.0,\n",
       " 55.0,\n",
       " 56.0,\n",
       " 57.0,\n",
       " 58.0,\n",
       " 59.0,\n",
       " 60.0,\n",
       " 61.0,\n",
       " 62.0,\n",
       " 63.0,\n",
       " 64.0,\n",
       " 65.0,\n",
       " 66.0,\n",
       " 67.0,\n",
       " 68.0,\n",
       " 69.0,\n",
       " 70.0,\n",
       " 71.0,\n",
       " 72.0,\n",
       " 73.0,\n",
       " 74.0,\n",
       " 75.0]"
      ]
     },
     "execution_count": 39,
     "metadata": {},
     "output_type": "execute_result"
    }
   ],
   "source": [
    "# Temukan dictionary\n",
    "\n",
    "sorted(data.dob_years.unique())\n",
    "       "
   ]
  },
  {
   "cell_type": "markdown",
   "metadata": {},
   "source": [
    "### Memperbaiki nilai yang hilang di `total_income`"
   ]
  },
  {
   "cell_type": "code",
   "execution_count": 51,
   "metadata": {},
   "outputs": [],
   "source": [
    "# Mari menulis fungsi untuk menghitung kategori usia\n",
    "def age_group(age):\n",
    "\n",
    "    if age <= 19:\n",
    "        return 'Siap Kerja'\n",
    "    if age >= 22:\n",
    "        return 'Sudah Kerja'\n",
    "    if age <= 64:\n",
    "        return 'Eksekutif Kerja'\n",
    "    return 'Pensiun'\n",
    "\n",
    "\n",
    "    "
   ]
  },
  {
   "cell_type": "markdown",
   "metadata": {},
   "source": [
    "<div class=\"alert alert-warning\">\n",
    "<b>Reviewer's comment v1</b> <a class=\"tocSkip\"></a>\n",
    "\n",
    "Untuk menghindari subjektifitas dan tidak adanya referensi yang digunakan dalam pengelompokan, kategori dapat dinamai sesuai dengan batas atas dan bawah pada tiap kelompok misa, `sampai 24 tahun` dan `64 tahun keatas`.\n",
    "\n",
    "</div>"
   ]
  },
  {
   "cell_type": "code",
   "execution_count": 52,
   "metadata": {},
   "outputs": [
    {
     "data": {
      "text/plain": [
       "'Sudah Kerja'"
      ]
     },
     "execution_count": 52,
     "metadata": {},
     "output_type": "execute_result"
    }
   ],
   "source": [
    "# Lakukan pengujian apakah fungsi bekerja atau tidak\n",
    "age_group(55)"
   ]
  },
  {
   "cell_type": "code",
   "execution_count": 53,
   "metadata": {},
   "outputs": [],
   "source": [
    "# Membuat kolom baru berdasarkan fungsi\n",
    "\n",
    "data['age_group'] = data['dob_years'].apply(age_group)"
   ]
  },
  {
   "cell_type": "code",
   "execution_count": 54,
   "metadata": {},
   "outputs": [
    {
     "data": {
      "text/plain": [
       "Sudah Kerja        21349\n",
       "Eksekutif Kerja      162\n",
       "Siap Kerja            14\n",
       "Name: age_group, dtype: int64"
      ]
     },
     "execution_count": 54,
     "metadata": {},
     "output_type": "execute_result"
    }
   ],
   "source": [
    "# Memeriksa bagaimana nilai di dalam kolom baru\n",
    "\n",
    "data['age_group'].value_counts()"
   ]
  },
  {
   "cell_type": "code",
   "execution_count": 44,
   "metadata": {},
   "outputs": [
    {
     "data": {
      "text/html": [
       "<div>\n",
       "<style scoped>\n",
       "    .dataframe tbody tr th:only-of-type {\n",
       "        vertical-align: middle;\n",
       "    }\n",
       "\n",
       "    .dataframe tbody tr th {\n",
       "        vertical-align: top;\n",
       "    }\n",
       "\n",
       "    .dataframe thead th {\n",
       "        text-align: right;\n",
       "    }\n",
       "</style>\n",
       "<table border=\"1\" class=\"dataframe\">\n",
       "  <thead>\n",
       "    <tr style=\"text-align: right;\">\n",
       "      <th></th>\n",
       "      <th>children</th>\n",
       "      <th>days_employed</th>\n",
       "      <th>dob_years</th>\n",
       "      <th>education</th>\n",
       "      <th>education_id</th>\n",
       "      <th>family_status</th>\n",
       "      <th>family_status_id</th>\n",
       "      <th>gender</th>\n",
       "      <th>income_type</th>\n",
       "      <th>debt</th>\n",
       "      <th>total_income</th>\n",
       "      <th>purpose</th>\n",
       "      <th>age_group</th>\n",
       "    </tr>\n",
       "  </thead>\n",
       "  <tbody>\n",
       "    <tr>\n",
       "      <th>0</th>\n",
       "      <td>1</td>\n",
       "      <td>8437.673028</td>\n",
       "      <td>42.0</td>\n",
       "      <td>bachelor's degree</td>\n",
       "      <td>0</td>\n",
       "      <td>married</td>\n",
       "      <td>0</td>\n",
       "      <td>F</td>\n",
       "      <td>employee</td>\n",
       "      <td>0</td>\n",
       "      <td>40620.102</td>\n",
       "      <td>purchase of the house</td>\n",
       "      <td>Sudah Kerja</td>\n",
       "    </tr>\n",
       "    <tr>\n",
       "      <th>1</th>\n",
       "      <td>1</td>\n",
       "      <td>4024.803754</td>\n",
       "      <td>36.0</td>\n",
       "      <td>secondary education</td>\n",
       "      <td>1</td>\n",
       "      <td>married</td>\n",
       "      <td>0</td>\n",
       "      <td>F</td>\n",
       "      <td>employee</td>\n",
       "      <td>0</td>\n",
       "      <td>17932.802</td>\n",
       "      <td>car purchase</td>\n",
       "      <td>Sudah Kerja</td>\n",
       "    </tr>\n",
       "    <tr>\n",
       "      <th>2</th>\n",
       "      <td>0</td>\n",
       "      <td>5623.422610</td>\n",
       "      <td>33.0</td>\n",
       "      <td>secondary education</td>\n",
       "      <td>1</td>\n",
       "      <td>married</td>\n",
       "      <td>0</td>\n",
       "      <td>M</td>\n",
       "      <td>employee</td>\n",
       "      <td>0</td>\n",
       "      <td>23341.752</td>\n",
       "      <td>purchase of the house</td>\n",
       "      <td>Sudah Kerja</td>\n",
       "    </tr>\n",
       "    <tr>\n",
       "      <th>3</th>\n",
       "      <td>3</td>\n",
       "      <td>4124.747207</td>\n",
       "      <td>32.0</td>\n",
       "      <td>secondary education</td>\n",
       "      <td>1</td>\n",
       "      <td>married</td>\n",
       "      <td>0</td>\n",
       "      <td>M</td>\n",
       "      <td>employee</td>\n",
       "      <td>0</td>\n",
       "      <td>42820.568</td>\n",
       "      <td>supplementary education</td>\n",
       "      <td>Sudah Kerja</td>\n",
       "    </tr>\n",
       "    <tr>\n",
       "      <th>4</th>\n",
       "      <td>0</td>\n",
       "      <td>12410.000000</td>\n",
       "      <td>53.0</td>\n",
       "      <td>secondary education</td>\n",
       "      <td>1</td>\n",
       "      <td>civil partnership</td>\n",
       "      <td>1</td>\n",
       "      <td>F</td>\n",
       "      <td>retiree</td>\n",
       "      <td>0</td>\n",
       "      <td>25378.572</td>\n",
       "      <td>to have a wedding</td>\n",
       "      <td>Sudah Kerja</td>\n",
       "    </tr>\n",
       "  </tbody>\n",
       "</table>\n",
       "</div>"
      ],
      "text/plain": [
       "   children  days_employed  dob_years            education  education_id  \\\n",
       "0         1    8437.673028       42.0    bachelor's degree             0   \n",
       "1         1    4024.803754       36.0  secondary education             1   \n",
       "2         0    5623.422610       33.0  secondary education             1   \n",
       "3         3    4124.747207       32.0  secondary education             1   \n",
       "4         0   12410.000000       53.0  secondary education             1   \n",
       "\n",
       "       family_status  family_status_id gender income_type  debt  total_income  \\\n",
       "0            married                 0      F    employee     0     40620.102   \n",
       "1            married                 0      F    employee     0     17932.802   \n",
       "2            married                 0      M    employee     0     23341.752   \n",
       "3            married                 0      M    employee     0     42820.568   \n",
       "4  civil partnership                 1      F     retiree     0     25378.572   \n",
       "\n",
       "                   purpose    age_group  \n",
       "0    purchase of the house  Sudah Kerja  \n",
       "1             car purchase  Sudah Kerja  \n",
       "2    purchase of the house  Sudah Kerja  \n",
       "3  supplementary education  Sudah Kerja  \n",
       "4        to have a wedding  Sudah Kerja  "
      ]
     },
     "execution_count": 44,
     "metadata": {},
     "output_type": "execute_result"
    }
   ],
   "source": [
    "# Membuat tabel tanpa nilai yang hilang dan menampilkan beberapa barisnya untuk memastikan semuanya berjalan dengan baik\n",
    "# exclude missing value data\n",
    "\n",
    "data_clean = data.loc[~(data['total_income'].isna()) & ~(data['income_type'].isna())]\n",
    "\n",
    "data_clean.head()"
   ]
  },
  {
   "cell_type": "code",
   "execution_count": 45,
   "metadata": {},
   "outputs": [
    {
     "data": {
      "text/html": [
       "<div>\n",
       "<style scoped>\n",
       "    .dataframe tbody tr th:only-of-type {\n",
       "        vertical-align: middle;\n",
       "    }\n",
       "\n",
       "    .dataframe tbody tr th {\n",
       "        vertical-align: top;\n",
       "    }\n",
       "\n",
       "    .dataframe thead th {\n",
       "        text-align: right;\n",
       "    }\n",
       "</style>\n",
       "<table border=\"1\" class=\"dataframe\">\n",
       "  <thead>\n",
       "    <tr style=\"text-align: right;\">\n",
       "      <th></th>\n",
       "      <th>total_income</th>\n",
       "    </tr>\n",
       "    <tr>\n",
       "      <th>income_type</th>\n",
       "      <th></th>\n",
       "    </tr>\n",
       "  </thead>\n",
       "  <tbody>\n",
       "    <tr>\n",
       "      <th>business</th>\n",
       "      <td>32386.793835</td>\n",
       "    </tr>\n",
       "    <tr>\n",
       "      <th>civil servant</th>\n",
       "      <td>27343.729582</td>\n",
       "    </tr>\n",
       "    <tr>\n",
       "      <th>employee</th>\n",
       "      <td>25820.841683</td>\n",
       "    </tr>\n",
       "    <tr>\n",
       "      <th>entrepreneur</th>\n",
       "      <td>79866.103000</td>\n",
       "    </tr>\n",
       "    <tr>\n",
       "      <th>paternity / maternity leave</th>\n",
       "      <td>8612.661000</td>\n",
       "    </tr>\n",
       "    <tr>\n",
       "      <th>retiree</th>\n",
       "      <td>21940.394503</td>\n",
       "    </tr>\n",
       "    <tr>\n",
       "      <th>student</th>\n",
       "      <td>15712.260000</td>\n",
       "    </tr>\n",
       "    <tr>\n",
       "      <th>unemployed</th>\n",
       "      <td>21014.360500</td>\n",
       "    </tr>\n",
       "  </tbody>\n",
       "</table>\n",
       "</div>"
      ],
      "text/plain": [
       "                             total_income\n",
       "income_type                              \n",
       "business                     32386.793835\n",
       "civil servant                27343.729582\n",
       "employee                     25820.841683\n",
       "entrepreneur                 79866.103000\n",
       "paternity / maternity leave   8612.661000\n",
       "retiree                      21940.394503\n",
       "student                      15712.260000\n",
       "unemployed                   21014.360500"
      ]
     },
     "execution_count": 45,
     "metadata": {},
     "output_type": "execute_result"
    }
   ],
   "source": [
    "# Perhatikan nilai rata-rata untuk pendapatan berdasarkan faktor yang telah Anda identifikasi\n",
    "\n",
    "data.pivot_table(index='income_type', values='total_income', aggfunc='mean')\n"
   ]
  },
  {
   "cell_type": "code",
   "execution_count": 46,
   "metadata": {
    "scrolled": true
   },
   "outputs": [
    {
     "data": {
      "text/html": [
       "<div>\n",
       "<style scoped>\n",
       "    .dataframe tbody tr th:only-of-type {\n",
       "        vertical-align: middle;\n",
       "    }\n",
       "\n",
       "    .dataframe tbody tr th {\n",
       "        vertical-align: top;\n",
       "    }\n",
       "\n",
       "    .dataframe thead th {\n",
       "        text-align: right;\n",
       "    }\n",
       "</style>\n",
       "<table border=\"1\" class=\"dataframe\">\n",
       "  <thead>\n",
       "    <tr style=\"text-align: right;\">\n",
       "      <th></th>\n",
       "      <th>total_income</th>\n",
       "    </tr>\n",
       "    <tr>\n",
       "      <th>income_type</th>\n",
       "      <th></th>\n",
       "    </tr>\n",
       "  </thead>\n",
       "  <tbody>\n",
       "    <tr>\n",
       "      <th>business</th>\n",
       "      <td>27577.2720</td>\n",
       "    </tr>\n",
       "    <tr>\n",
       "      <th>civil servant</th>\n",
       "      <td>24071.6695</td>\n",
       "    </tr>\n",
       "    <tr>\n",
       "      <th>employee</th>\n",
       "      <td>22815.1035</td>\n",
       "    </tr>\n",
       "    <tr>\n",
       "      <th>entrepreneur</th>\n",
       "      <td>79866.1030</td>\n",
       "    </tr>\n",
       "    <tr>\n",
       "      <th>paternity / maternity leave</th>\n",
       "      <td>8612.6610</td>\n",
       "    </tr>\n",
       "    <tr>\n",
       "      <th>retiree</th>\n",
       "      <td>18962.3180</td>\n",
       "    </tr>\n",
       "    <tr>\n",
       "      <th>student</th>\n",
       "      <td>15712.2600</td>\n",
       "    </tr>\n",
       "    <tr>\n",
       "      <th>unemployed</th>\n",
       "      <td>21014.3605</td>\n",
       "    </tr>\n",
       "  </tbody>\n",
       "</table>\n",
       "</div>"
      ],
      "text/plain": [
       "                             total_income\n",
       "income_type                              \n",
       "business                       27577.2720\n",
       "civil servant                  24071.6695\n",
       "employee                       22815.1035\n",
       "entrepreneur                   79866.1030\n",
       "paternity / maternity leave     8612.6610\n",
       "retiree                        18962.3180\n",
       "student                        15712.2600\n",
       "unemployed                     21014.3605"
      ]
     },
     "execution_count": 46,
     "metadata": {},
     "output_type": "execute_result"
    }
   ],
   "source": [
    "# Perhatikan nilai median untuk pendapatan berdasarkan faktor yang telah Anda identifikasi\n",
    "\n",
    "data.pivot_table(index='income_type', values='total_income', aggfunc='median')"
   ]
  },
  {
   "cell_type": "markdown",
   "metadata": {},
   "source": [
    "Kita akan memakai median untuk mengganti nilai yang hilang karena income setiap orang bervariasi, jika menggunakan mean dirasa kurang tepat untuk merepresentasikan nilai yang hilang."
   ]
  },
  {
   "cell_type": "code",
   "execution_count": 58,
   "metadata": {},
   "outputs": [],
   "source": [
    "#  Tulis fungsi yang akan kita gunakan untuk mengisi nilai yang hilang\n",
    "\n",
    "rules = data['income_type'].unique()\n",
    "\n",
    "def data_imputation(data, column_filter, column_selected, column_target, rules): #paramater\n",
    "    data[column_target] = data[column_selected]\n",
    "    for rule in rules:\n",
    "        # get median\n",
    "        median = data.loc[(data[column_filter]==rule) & ~(data[column_target].isna()), column_target].median()\n",
    "        # change missing value\n",
    "        data.loc[(data[column_filter]==rule) & (data[column_target].isna()), column_target] = median\n",
    "    return data\n",
    " \n"
   ]
  },
  {
   "cell_type": "code",
   "execution_count": 59,
   "metadata": {},
   "outputs": [
    {
     "data": {
      "text/html": [
       "<div>\n",
       "<style scoped>\n",
       "    .dataframe tbody tr th:only-of-type {\n",
       "        vertical-align: middle;\n",
       "    }\n",
       "\n",
       "    .dataframe tbody tr th {\n",
       "        vertical-align: top;\n",
       "    }\n",
       "\n",
       "    .dataframe thead th {\n",
       "        text-align: right;\n",
       "    }\n",
       "</style>\n",
       "<table border=\"1\" class=\"dataframe\">\n",
       "  <thead>\n",
       "    <tr style=\"text-align: right;\">\n",
       "      <th></th>\n",
       "      <th>children</th>\n",
       "      <th>days_employed</th>\n",
       "      <th>dob_years</th>\n",
       "      <th>education</th>\n",
       "      <th>education_id</th>\n",
       "      <th>family_status</th>\n",
       "      <th>family_status_id</th>\n",
       "      <th>gender</th>\n",
       "      <th>income_type</th>\n",
       "      <th>debt</th>\n",
       "      <th>total_income</th>\n",
       "      <th>purpose</th>\n",
       "      <th>age_group</th>\n",
       "      <th>total_income_clean</th>\n",
       "    </tr>\n",
       "  </thead>\n",
       "  <tbody>\n",
       "    <tr>\n",
       "      <th>0</th>\n",
       "      <td>1</td>\n",
       "      <td>8437.673028</td>\n",
       "      <td>42</td>\n",
       "      <td>bachelor's degree</td>\n",
       "      <td>0</td>\n",
       "      <td>married</td>\n",
       "      <td>0</td>\n",
       "      <td>F</td>\n",
       "      <td>employee</td>\n",
       "      <td>0</td>\n",
       "      <td>40620.102</td>\n",
       "      <td>purchase of the house</td>\n",
       "      <td>Sudah Kerja</td>\n",
       "      <td>40620.102</td>\n",
       "    </tr>\n",
       "    <tr>\n",
       "      <th>1</th>\n",
       "      <td>1</td>\n",
       "      <td>4024.803754</td>\n",
       "      <td>36</td>\n",
       "      <td>secondary education</td>\n",
       "      <td>1</td>\n",
       "      <td>married</td>\n",
       "      <td>0</td>\n",
       "      <td>F</td>\n",
       "      <td>employee</td>\n",
       "      <td>0</td>\n",
       "      <td>17932.802</td>\n",
       "      <td>car purchase</td>\n",
       "      <td>Sudah Kerja</td>\n",
       "      <td>17932.802</td>\n",
       "    </tr>\n",
       "    <tr>\n",
       "      <th>2</th>\n",
       "      <td>0</td>\n",
       "      <td>5623.422610</td>\n",
       "      <td>33</td>\n",
       "      <td>Secondary Education</td>\n",
       "      <td>1</td>\n",
       "      <td>married</td>\n",
       "      <td>0</td>\n",
       "      <td>M</td>\n",
       "      <td>employee</td>\n",
       "      <td>0</td>\n",
       "      <td>23341.752</td>\n",
       "      <td>purchase of the house</td>\n",
       "      <td>Sudah Kerja</td>\n",
       "      <td>23341.752</td>\n",
       "    </tr>\n",
       "    <tr>\n",
       "      <th>3</th>\n",
       "      <td>3</td>\n",
       "      <td>4124.747207</td>\n",
       "      <td>32</td>\n",
       "      <td>secondary education</td>\n",
       "      <td>1</td>\n",
       "      <td>married</td>\n",
       "      <td>0</td>\n",
       "      <td>M</td>\n",
       "      <td>employee</td>\n",
       "      <td>0</td>\n",
       "      <td>42820.568</td>\n",
       "      <td>supplementary education</td>\n",
       "      <td>Sudah Kerja</td>\n",
       "      <td>42820.568</td>\n",
       "    </tr>\n",
       "    <tr>\n",
       "      <th>4</th>\n",
       "      <td>0</td>\n",
       "      <td>12410.000000</td>\n",
       "      <td>53</td>\n",
       "      <td>secondary education</td>\n",
       "      <td>1</td>\n",
       "      <td>civil partnership</td>\n",
       "      <td>1</td>\n",
       "      <td>F</td>\n",
       "      <td>retiree</td>\n",
       "      <td>0</td>\n",
       "      <td>25378.572</td>\n",
       "      <td>to have a wedding</td>\n",
       "      <td>Sudah Kerja</td>\n",
       "      <td>25378.572</td>\n",
       "    </tr>\n",
       "    <tr>\n",
       "      <th>...</th>\n",
       "      <td>...</td>\n",
       "      <td>...</td>\n",
       "      <td>...</td>\n",
       "      <td>...</td>\n",
       "      <td>...</td>\n",
       "      <td>...</td>\n",
       "      <td>...</td>\n",
       "      <td>...</td>\n",
       "      <td>...</td>\n",
       "      <td>...</td>\n",
       "      <td>...</td>\n",
       "      <td>...</td>\n",
       "      <td>...</td>\n",
       "      <td>...</td>\n",
       "    </tr>\n",
       "    <tr>\n",
       "      <th>21520</th>\n",
       "      <td>1</td>\n",
       "      <td>4529.316663</td>\n",
       "      <td>43</td>\n",
       "      <td>secondary education</td>\n",
       "      <td>1</td>\n",
       "      <td>civil partnership</td>\n",
       "      <td>1</td>\n",
       "      <td>F</td>\n",
       "      <td>business</td>\n",
       "      <td>0</td>\n",
       "      <td>35966.698</td>\n",
       "      <td>housing transactions</td>\n",
       "      <td>Sudah Kerja</td>\n",
       "      <td>35966.698</td>\n",
       "    </tr>\n",
       "    <tr>\n",
       "      <th>21521</th>\n",
       "      <td>0</td>\n",
       "      <td>17520.000000</td>\n",
       "      <td>67</td>\n",
       "      <td>secondary education</td>\n",
       "      <td>1</td>\n",
       "      <td>married</td>\n",
       "      <td>0</td>\n",
       "      <td>F</td>\n",
       "      <td>retiree</td>\n",
       "      <td>0</td>\n",
       "      <td>24959.969</td>\n",
       "      <td>purchase of a car</td>\n",
       "      <td>Sudah Kerja</td>\n",
       "      <td>24959.969</td>\n",
       "    </tr>\n",
       "    <tr>\n",
       "      <th>21522</th>\n",
       "      <td>1</td>\n",
       "      <td>2113.346888</td>\n",
       "      <td>38</td>\n",
       "      <td>secondary education</td>\n",
       "      <td>1</td>\n",
       "      <td>civil partnership</td>\n",
       "      <td>1</td>\n",
       "      <td>M</td>\n",
       "      <td>employee</td>\n",
       "      <td>1</td>\n",
       "      <td>14347.610</td>\n",
       "      <td>property</td>\n",
       "      <td>Sudah Kerja</td>\n",
       "      <td>14347.610</td>\n",
       "    </tr>\n",
       "    <tr>\n",
       "      <th>21523</th>\n",
       "      <td>3</td>\n",
       "      <td>3112.481705</td>\n",
       "      <td>38</td>\n",
       "      <td>secondary education</td>\n",
       "      <td>1</td>\n",
       "      <td>married</td>\n",
       "      <td>0</td>\n",
       "      <td>M</td>\n",
       "      <td>employee</td>\n",
       "      <td>1</td>\n",
       "      <td>39054.888</td>\n",
       "      <td>buying my own car</td>\n",
       "      <td>Sudah Kerja</td>\n",
       "      <td>39054.888</td>\n",
       "    </tr>\n",
       "    <tr>\n",
       "      <th>21524</th>\n",
       "      <td>2</td>\n",
       "      <td>1984.507589</td>\n",
       "      <td>40</td>\n",
       "      <td>secondary education</td>\n",
       "      <td>1</td>\n",
       "      <td>married</td>\n",
       "      <td>0</td>\n",
       "      <td>F</td>\n",
       "      <td>employee</td>\n",
       "      <td>0</td>\n",
       "      <td>13127.587</td>\n",
       "      <td>to buy a car</td>\n",
       "      <td>Sudah Kerja</td>\n",
       "      <td>13127.587</td>\n",
       "    </tr>\n",
       "  </tbody>\n",
       "</table>\n",
       "<p>21525 rows × 14 columns</p>\n",
       "</div>"
      ],
      "text/plain": [
       "       children  days_employed  dob_years            education  education_id  \\\n",
       "0             1    8437.673028         42    bachelor's degree             0   \n",
       "1             1    4024.803754         36  secondary education             1   \n",
       "2             0    5623.422610         33  Secondary Education             1   \n",
       "3             3    4124.747207         32  secondary education             1   \n",
       "4             0   12410.000000         53  secondary education             1   \n",
       "...         ...            ...        ...                  ...           ...   \n",
       "21520         1    4529.316663         43  secondary education             1   \n",
       "21521         0   17520.000000         67  secondary education             1   \n",
       "21522         1    2113.346888         38  secondary education             1   \n",
       "21523         3    3112.481705         38  secondary education             1   \n",
       "21524         2    1984.507589         40  secondary education             1   \n",
       "\n",
       "           family_status  family_status_id gender income_type  debt  \\\n",
       "0                married                 0      F    employee     0   \n",
       "1                married                 0      F    employee     0   \n",
       "2                married                 0      M    employee     0   \n",
       "3                married                 0      M    employee     0   \n",
       "4      civil partnership                 1      F     retiree     0   \n",
       "...                  ...               ...    ...         ...   ...   \n",
       "21520  civil partnership                 1      F    business     0   \n",
       "21521            married                 0      F     retiree     0   \n",
       "21522  civil partnership                 1      M    employee     1   \n",
       "21523            married                 0      M    employee     1   \n",
       "21524            married                 0      F    employee     0   \n",
       "\n",
       "       total_income                  purpose    age_group  total_income_clean  \n",
       "0         40620.102    purchase of the house  Sudah Kerja           40620.102  \n",
       "1         17932.802             car purchase  Sudah Kerja           17932.802  \n",
       "2         23341.752    purchase of the house  Sudah Kerja           23341.752  \n",
       "3         42820.568  supplementary education  Sudah Kerja           42820.568  \n",
       "4         25378.572        to have a wedding  Sudah Kerja           25378.572  \n",
       "...             ...                      ...          ...                 ...  \n",
       "21520     35966.698     housing transactions  Sudah Kerja           35966.698  \n",
       "21521     24959.969        purchase of a car  Sudah Kerja           24959.969  \n",
       "21522     14347.610                 property  Sudah Kerja           14347.610  \n",
       "21523     39054.888        buying my own car  Sudah Kerja           39054.888  \n",
       "21524     13127.587             to buy a car  Sudah Kerja           13127.587  \n",
       "\n",
       "[21525 rows x 14 columns]"
      ]
     },
     "execution_count": 59,
     "metadata": {},
     "output_type": "execute_result"
    }
   ],
   "source": [
    "# Memeriksa bagaimana nilai di dalam kolom baru\n",
    "\n",
    "data_imputation(data, column_filter='income_type', column_selected='total_income',column_target='total_income_clean', rules=rules)"
   ]
  },
  {
   "cell_type": "code",
   "execution_count": 60,
   "metadata": {},
   "outputs": [
    {
     "data": {
      "text/html": [
       "<div>\n",
       "<style scoped>\n",
       "    .dataframe tbody tr th:only-of-type {\n",
       "        vertical-align: middle;\n",
       "    }\n",
       "\n",
       "    .dataframe tbody tr th {\n",
       "        vertical-align: top;\n",
       "    }\n",
       "\n",
       "    .dataframe thead th {\n",
       "        text-align: right;\n",
       "    }\n",
       "</style>\n",
       "<table border=\"1\" class=\"dataframe\">\n",
       "  <thead>\n",
       "    <tr style=\"text-align: right;\">\n",
       "      <th></th>\n",
       "      <th>children</th>\n",
       "      <th>days_employed</th>\n",
       "      <th>dob_years</th>\n",
       "      <th>education</th>\n",
       "      <th>education_id</th>\n",
       "      <th>family_status</th>\n",
       "      <th>family_status_id</th>\n",
       "      <th>gender</th>\n",
       "      <th>income_type</th>\n",
       "      <th>debt</th>\n",
       "      <th>total_income</th>\n",
       "      <th>purpose</th>\n",
       "      <th>age_group</th>\n",
       "      <th>total_income_clean</th>\n",
       "    </tr>\n",
       "  </thead>\n",
       "  <tbody>\n",
       "    <tr>\n",
       "      <th>0</th>\n",
       "      <td>1</td>\n",
       "      <td>8437.673028</td>\n",
       "      <td>42</td>\n",
       "      <td>bachelor's degree</td>\n",
       "      <td>0</td>\n",
       "      <td>married</td>\n",
       "      <td>0</td>\n",
       "      <td>F</td>\n",
       "      <td>employee</td>\n",
       "      <td>0</td>\n",
       "      <td>40620.102</td>\n",
       "      <td>purchase of the house</td>\n",
       "      <td>Sudah Kerja</td>\n",
       "      <td>40620.102</td>\n",
       "    </tr>\n",
       "    <tr>\n",
       "      <th>1</th>\n",
       "      <td>1</td>\n",
       "      <td>4024.803754</td>\n",
       "      <td>36</td>\n",
       "      <td>secondary education</td>\n",
       "      <td>1</td>\n",
       "      <td>married</td>\n",
       "      <td>0</td>\n",
       "      <td>F</td>\n",
       "      <td>employee</td>\n",
       "      <td>0</td>\n",
       "      <td>17932.802</td>\n",
       "      <td>car purchase</td>\n",
       "      <td>Sudah Kerja</td>\n",
       "      <td>17932.802</td>\n",
       "    </tr>\n",
       "    <tr>\n",
       "      <th>2</th>\n",
       "      <td>0</td>\n",
       "      <td>5623.422610</td>\n",
       "      <td>33</td>\n",
       "      <td>Secondary Education</td>\n",
       "      <td>1</td>\n",
       "      <td>married</td>\n",
       "      <td>0</td>\n",
       "      <td>M</td>\n",
       "      <td>employee</td>\n",
       "      <td>0</td>\n",
       "      <td>23341.752</td>\n",
       "      <td>purchase of the house</td>\n",
       "      <td>Sudah Kerja</td>\n",
       "      <td>23341.752</td>\n",
       "    </tr>\n",
       "    <tr>\n",
       "      <th>3</th>\n",
       "      <td>3</td>\n",
       "      <td>4124.747207</td>\n",
       "      <td>32</td>\n",
       "      <td>secondary education</td>\n",
       "      <td>1</td>\n",
       "      <td>married</td>\n",
       "      <td>0</td>\n",
       "      <td>M</td>\n",
       "      <td>employee</td>\n",
       "      <td>0</td>\n",
       "      <td>42820.568</td>\n",
       "      <td>supplementary education</td>\n",
       "      <td>Sudah Kerja</td>\n",
       "      <td>42820.568</td>\n",
       "    </tr>\n",
       "    <tr>\n",
       "      <th>4</th>\n",
       "      <td>0</td>\n",
       "      <td>12410.000000</td>\n",
       "      <td>53</td>\n",
       "      <td>secondary education</td>\n",
       "      <td>1</td>\n",
       "      <td>civil partnership</td>\n",
       "      <td>1</td>\n",
       "      <td>F</td>\n",
       "      <td>retiree</td>\n",
       "      <td>0</td>\n",
       "      <td>25378.572</td>\n",
       "      <td>to have a wedding</td>\n",
       "      <td>Sudah Kerja</td>\n",
       "      <td>25378.572</td>\n",
       "    </tr>\n",
       "    <tr>\n",
       "      <th>...</th>\n",
       "      <td>...</td>\n",
       "      <td>...</td>\n",
       "      <td>...</td>\n",
       "      <td>...</td>\n",
       "      <td>...</td>\n",
       "      <td>...</td>\n",
       "      <td>...</td>\n",
       "      <td>...</td>\n",
       "      <td>...</td>\n",
       "      <td>...</td>\n",
       "      <td>...</td>\n",
       "      <td>...</td>\n",
       "      <td>...</td>\n",
       "      <td>...</td>\n",
       "    </tr>\n",
       "    <tr>\n",
       "      <th>21520</th>\n",
       "      <td>1</td>\n",
       "      <td>4529.316663</td>\n",
       "      <td>43</td>\n",
       "      <td>secondary education</td>\n",
       "      <td>1</td>\n",
       "      <td>civil partnership</td>\n",
       "      <td>1</td>\n",
       "      <td>F</td>\n",
       "      <td>business</td>\n",
       "      <td>0</td>\n",
       "      <td>35966.698</td>\n",
       "      <td>housing transactions</td>\n",
       "      <td>Sudah Kerja</td>\n",
       "      <td>35966.698</td>\n",
       "    </tr>\n",
       "    <tr>\n",
       "      <th>21521</th>\n",
       "      <td>0</td>\n",
       "      <td>17520.000000</td>\n",
       "      <td>67</td>\n",
       "      <td>secondary education</td>\n",
       "      <td>1</td>\n",
       "      <td>married</td>\n",
       "      <td>0</td>\n",
       "      <td>F</td>\n",
       "      <td>retiree</td>\n",
       "      <td>0</td>\n",
       "      <td>24959.969</td>\n",
       "      <td>purchase of a car</td>\n",
       "      <td>Sudah Kerja</td>\n",
       "      <td>24959.969</td>\n",
       "    </tr>\n",
       "    <tr>\n",
       "      <th>21522</th>\n",
       "      <td>1</td>\n",
       "      <td>2113.346888</td>\n",
       "      <td>38</td>\n",
       "      <td>secondary education</td>\n",
       "      <td>1</td>\n",
       "      <td>civil partnership</td>\n",
       "      <td>1</td>\n",
       "      <td>M</td>\n",
       "      <td>employee</td>\n",
       "      <td>1</td>\n",
       "      <td>14347.610</td>\n",
       "      <td>property</td>\n",
       "      <td>Sudah Kerja</td>\n",
       "      <td>14347.610</td>\n",
       "    </tr>\n",
       "    <tr>\n",
       "      <th>21523</th>\n",
       "      <td>3</td>\n",
       "      <td>3112.481705</td>\n",
       "      <td>38</td>\n",
       "      <td>secondary education</td>\n",
       "      <td>1</td>\n",
       "      <td>married</td>\n",
       "      <td>0</td>\n",
       "      <td>M</td>\n",
       "      <td>employee</td>\n",
       "      <td>1</td>\n",
       "      <td>39054.888</td>\n",
       "      <td>buying my own car</td>\n",
       "      <td>Sudah Kerja</td>\n",
       "      <td>39054.888</td>\n",
       "    </tr>\n",
       "    <tr>\n",
       "      <th>21524</th>\n",
       "      <td>2</td>\n",
       "      <td>1984.507589</td>\n",
       "      <td>40</td>\n",
       "      <td>secondary education</td>\n",
       "      <td>1</td>\n",
       "      <td>married</td>\n",
       "      <td>0</td>\n",
       "      <td>F</td>\n",
       "      <td>employee</td>\n",
       "      <td>0</td>\n",
       "      <td>13127.587</td>\n",
       "      <td>to buy a car</td>\n",
       "      <td>Sudah Kerja</td>\n",
       "      <td>13127.587</td>\n",
       "    </tr>\n",
       "  </tbody>\n",
       "</table>\n",
       "<p>21525 rows × 14 columns</p>\n",
       "</div>"
      ],
      "text/plain": [
       "       children  days_employed  dob_years            education  education_id  \\\n",
       "0             1    8437.673028         42    bachelor's degree             0   \n",
       "1             1    4024.803754         36  secondary education             1   \n",
       "2             0    5623.422610         33  Secondary Education             1   \n",
       "3             3    4124.747207         32  secondary education             1   \n",
       "4             0   12410.000000         53  secondary education             1   \n",
       "...         ...            ...        ...                  ...           ...   \n",
       "21520         1    4529.316663         43  secondary education             1   \n",
       "21521         0   17520.000000         67  secondary education             1   \n",
       "21522         1    2113.346888         38  secondary education             1   \n",
       "21523         3    3112.481705         38  secondary education             1   \n",
       "21524         2    1984.507589         40  secondary education             1   \n",
       "\n",
       "           family_status  family_status_id gender income_type  debt  \\\n",
       "0                married                 0      F    employee     0   \n",
       "1                married                 0      F    employee     0   \n",
       "2                married                 0      M    employee     0   \n",
       "3                married                 0      M    employee     0   \n",
       "4      civil partnership                 1      F     retiree     0   \n",
       "...                  ...               ...    ...         ...   ...   \n",
       "21520  civil partnership                 1      F    business     0   \n",
       "21521            married                 0      F     retiree     0   \n",
       "21522  civil partnership                 1      M    employee     1   \n",
       "21523            married                 0      M    employee     1   \n",
       "21524            married                 0      F    employee     0   \n",
       "\n",
       "       total_income                  purpose    age_group  total_income_clean  \n",
       "0         40620.102    purchase of the house  Sudah Kerja           40620.102  \n",
       "1         17932.802             car purchase  Sudah Kerja           17932.802  \n",
       "2         23341.752    purchase of the house  Sudah Kerja           23341.752  \n",
       "3         42820.568  supplementary education  Sudah Kerja           42820.568  \n",
       "4         25378.572        to have a wedding  Sudah Kerja           25378.572  \n",
       "...             ...                      ...          ...                 ...  \n",
       "21520     35966.698     housing transactions  Sudah Kerja           35966.698  \n",
       "21521     24959.969        purchase of a car  Sudah Kerja           24959.969  \n",
       "21522     14347.610                 property  Sudah Kerja           14347.610  \n",
       "21523     39054.888        buying my own car  Sudah Kerja           39054.888  \n",
       "21524     13127.587             to buy a car  Sudah Kerja           13127.587  \n",
       "\n",
       "[21525 rows x 14 columns]"
      ]
     },
     "execution_count": 60,
     "metadata": {},
     "output_type": "execute_result"
    }
   ],
   "source": [
    "# Terapkan fungsi ke setiap baris\n",
    "# Terapkan fungsi ke income_type\n",
    " \n",
    "\n",
    "data_imputation(data, column_filter='income_type', column_selected='total_income',column_target='total_income', rules=rules)\n"
   ]
  },
  {
   "cell_type": "code",
   "execution_count": 61,
   "metadata": {
    "scrolled": true
   },
   "outputs": [
    {
     "data": {
      "text/plain": [
       "0"
      ]
     },
     "execution_count": 61,
     "metadata": {},
     "output_type": "execute_result"
    }
   ],
   "source": [
    "# Periksa apakah kita mendapatkan kesalahan\n",
    "data['total_income_clean'].isna().sum()"
   ]
  },
  {
   "cell_type": "code",
   "execution_count": 62,
   "metadata": {},
   "outputs": [
    {
     "data": {
      "text/html": [
       "<div>\n",
       "<style scoped>\n",
       "    .dataframe tbody tr th:only-of-type {\n",
       "        vertical-align: middle;\n",
       "    }\n",
       "\n",
       "    .dataframe tbody tr th {\n",
       "        vertical-align: top;\n",
       "    }\n",
       "\n",
       "    .dataframe thead th {\n",
       "        text-align: right;\n",
       "    }\n",
       "</style>\n",
       "<table border=\"1\" class=\"dataframe\">\n",
       "  <thead>\n",
       "    <tr style=\"text-align: right;\">\n",
       "      <th></th>\n",
       "      <th>children</th>\n",
       "      <th>days_employed</th>\n",
       "      <th>dob_years</th>\n",
       "      <th>education</th>\n",
       "      <th>education_id</th>\n",
       "      <th>family_status</th>\n",
       "      <th>family_status_id</th>\n",
       "      <th>gender</th>\n",
       "      <th>income_type</th>\n",
       "      <th>debt</th>\n",
       "      <th>total_income</th>\n",
       "      <th>purpose</th>\n",
       "      <th>age_group</th>\n",
       "      <th>total_income_clean</th>\n",
       "    </tr>\n",
       "  </thead>\n",
       "  <tbody>\n",
       "    <tr>\n",
       "      <th>0</th>\n",
       "      <td>1</td>\n",
       "      <td>8437.673028</td>\n",
       "      <td>42</td>\n",
       "      <td>bachelor's degree</td>\n",
       "      <td>0</td>\n",
       "      <td>married</td>\n",
       "      <td>0</td>\n",
       "      <td>F</td>\n",
       "      <td>employee</td>\n",
       "      <td>0</td>\n",
       "      <td>40620.102</td>\n",
       "      <td>purchase of the house</td>\n",
       "      <td>Sudah Kerja</td>\n",
       "      <td>40620.102</td>\n",
       "    </tr>\n",
       "    <tr>\n",
       "      <th>1</th>\n",
       "      <td>1</td>\n",
       "      <td>4024.803754</td>\n",
       "      <td>36</td>\n",
       "      <td>secondary education</td>\n",
       "      <td>1</td>\n",
       "      <td>married</td>\n",
       "      <td>0</td>\n",
       "      <td>F</td>\n",
       "      <td>employee</td>\n",
       "      <td>0</td>\n",
       "      <td>17932.802</td>\n",
       "      <td>car purchase</td>\n",
       "      <td>Sudah Kerja</td>\n",
       "      <td>17932.802</td>\n",
       "    </tr>\n",
       "    <tr>\n",
       "      <th>2</th>\n",
       "      <td>0</td>\n",
       "      <td>5623.422610</td>\n",
       "      <td>33</td>\n",
       "      <td>Secondary Education</td>\n",
       "      <td>1</td>\n",
       "      <td>married</td>\n",
       "      <td>0</td>\n",
       "      <td>M</td>\n",
       "      <td>employee</td>\n",
       "      <td>0</td>\n",
       "      <td>23341.752</td>\n",
       "      <td>purchase of the house</td>\n",
       "      <td>Sudah Kerja</td>\n",
       "      <td>23341.752</td>\n",
       "    </tr>\n",
       "    <tr>\n",
       "      <th>3</th>\n",
       "      <td>3</td>\n",
       "      <td>4124.747207</td>\n",
       "      <td>32</td>\n",
       "      <td>secondary education</td>\n",
       "      <td>1</td>\n",
       "      <td>married</td>\n",
       "      <td>0</td>\n",
       "      <td>M</td>\n",
       "      <td>employee</td>\n",
       "      <td>0</td>\n",
       "      <td>42820.568</td>\n",
       "      <td>supplementary education</td>\n",
       "      <td>Sudah Kerja</td>\n",
       "      <td>42820.568</td>\n",
       "    </tr>\n",
       "    <tr>\n",
       "      <th>4</th>\n",
       "      <td>0</td>\n",
       "      <td>12410.000000</td>\n",
       "      <td>53</td>\n",
       "      <td>secondary education</td>\n",
       "      <td>1</td>\n",
       "      <td>civil partnership</td>\n",
       "      <td>1</td>\n",
       "      <td>F</td>\n",
       "      <td>retiree</td>\n",
       "      <td>0</td>\n",
       "      <td>25378.572</td>\n",
       "      <td>to have a wedding</td>\n",
       "      <td>Sudah Kerja</td>\n",
       "      <td>25378.572</td>\n",
       "    </tr>\n",
       "  </tbody>\n",
       "</table>\n",
       "</div>"
      ],
      "text/plain": [
       "   children  days_employed  dob_years            education  education_id  \\\n",
       "0         1    8437.673028         42    bachelor's degree             0   \n",
       "1         1    4024.803754         36  secondary education             1   \n",
       "2         0    5623.422610         33  Secondary Education             1   \n",
       "3         3    4124.747207         32  secondary education             1   \n",
       "4         0   12410.000000         53  secondary education             1   \n",
       "\n",
       "       family_status  family_status_id gender income_type  debt  total_income  \\\n",
       "0            married                 0      F    employee     0     40620.102   \n",
       "1            married                 0      F    employee     0     17932.802   \n",
       "2            married                 0      M    employee     0     23341.752   \n",
       "3            married                 0      M    employee     0     42820.568   \n",
       "4  civil partnership                 1      F     retiree     0     25378.572   \n",
       "\n",
       "                   purpose    age_group  total_income_clean  \n",
       "0    purchase of the house  Sudah Kerja           40620.102  \n",
       "1             car purchase  Sudah Kerja           17932.802  \n",
       "2    purchase of the house  Sudah Kerja           23341.752  \n",
       "3  supplementary education  Sudah Kerja           42820.568  \n",
       "4        to have a wedding  Sudah Kerja           25378.572  "
      ]
     },
     "execution_count": 62,
     "metadata": {},
     "output_type": "execute_result"
    }
   ],
   "source": [
    "data.head()"
   ]
  },
  {
   "cell_type": "markdown",
   "metadata": {},
   "source": [
    "[Jika Anda menemukan kesalahan dalam menyiapkan nilai data yang hilang, artinya mungkin terdapat sesuatu yang khusus terkait dengan data untuk kategori tersebut. Mari pikirkan - Anda mungkin ingin memperbaiki beberapa hal secara manual, jika terdapat cukup data untuk menemukan median/rata-rata.]\n"
   ]
  },
  {
   "cell_type": "code",
   "execution_count": 51,
   "metadata": {},
   "outputs": [
    {
     "data": {
      "text/plain": [
       "[3306.762,\n",
       " 3392.845,\n",
       " 3418.824,\n",
       " 3471.216,\n",
       " 3503.298,\n",
       " 3595.641,\n",
       " 3815.153,\n",
       " 3913.227,\n",
       " 4036.463,\n",
       " 4049.374,\n",
       " 4212.77,\n",
       " 4245.348,\n",
       " 4386.4,\n",
       " 4444.179,\n",
       " 4465.254,\n",
       " 4494.861,\n",
       " 4592.45,\n",
       " 4650.812,\n",
       " 4664.644,\n",
       " 4672.012,\n",
       " 4708.271,\n",
       " 4759.97,\n",
       " 4812.103,\n",
       " 4818.545999999999,\n",
       " 4860.001,\n",
       " 4919.749,\n",
       " 5002.295,\n",
       " 5028.623,\n",
       " 5029.439,\n",
       " 5037.321,\n",
       " 5045.56,\n",
       " 5053.838,\n",
       " 5090.55,\n",
       " 5112.186,\n",
       " 5137.573,\n",
       " 5148.514,\n",
       " 5167.9940000000015,\n",
       " 5168.082,\n",
       " 5172.669,\n",
       " 5195.285,\n",
       " 5208.353,\n",
       " 5217.0340000000015,\n",
       " 5220.544,\n",
       " 5259.254,\n",
       " 5274.611,\n",
       " 5288.165,\n",
       " 5290.465,\n",
       " 5330.769,\n",
       " 5331.621,\n",
       " 5335.014,\n",
       " 5402.85,\n",
       " 5409.738,\n",
       " 5430.683000000001,\n",
       " 5443.908,\n",
       " 5452.4940000000015,\n",
       " 5461.996,\n",
       " 5464.092,\n",
       " 5478.583000000001,\n",
       " 5490.018,\n",
       " 5496.834,\n",
       " 5514.581,\n",
       " 5515.539000000002,\n",
       " 5529.334,\n",
       " 5531.2040000000015,\n",
       " 5562.874,\n",
       " 5577.521,\n",
       " 5579.965,\n",
       " 5591.44,\n",
       " 5595.911999999998,\n",
       " 5604.991999999998,\n",
       " 5622.0790000000015,\n",
       " 5630.865,\n",
       " 5639.846,\n",
       " 5651.584,\n",
       " 5703.853,\n",
       " 5768.392,\n",
       " 5772.8780000000015,\n",
       " 5801.651,\n",
       " 5803.271,\n",
       " 5820.374,\n",
       " 5826.733,\n",
       " 5831.255,\n",
       " 5837.099,\n",
       " 5863.853,\n",
       " 5876.366999999998,\n",
       " 5885.856,\n",
       " 5905.745,\n",
       " 5968.521,\n",
       " 5979.176,\n",
       " 5982.694,\n",
       " 6017.603,\n",
       " 6023.274,\n",
       " 6027.214,\n",
       " 6029.458000000001,\n",
       " 6037.916,\n",
       " 6042.769,\n",
       " 6066.085,\n",
       " 6067.147,\n",
       " 6067.397,\n",
       " 6124.012,\n",
       " 6141.791,\n",
       " 6157.545999999999,\n",
       " 6167.401,\n",
       " 6183.627,\n",
       " 6185.945,\n",
       " 6187.263000000001,\n",
       " 6208.323,\n",
       " 6227.21,\n",
       " 6239.686,\n",
       " 6242.321,\n",
       " 6253.313,\n",
       " 6257.265,\n",
       " 6261.519,\n",
       " 6264.531999999998,\n",
       " 6264.665,\n",
       " 6286.894,\n",
       " 6290.377,\n",
       " 6295.399,\n",
       " 6301.408,\n",
       " 6305.036999999998,\n",
       " 6316.23,\n",
       " 6322.163000000001,\n",
       " 6330.524,\n",
       " 6354.569,\n",
       " 6369.195,\n",
       " 6420.49,\n",
       " 6427.379,\n",
       " 6431.765,\n",
       " 6434.8690000000015,\n",
       " 6442.342,\n",
       " 6487.946,\n",
       " 6514.588000000002,\n",
       " 6528.385,\n",
       " 6537.880999999999,\n",
       " 6542.581,\n",
       " 6548.851,\n",
       " 6550.432,\n",
       " 6557.178000000001,\n",
       " 6564.906,\n",
       " 6567.414000000002,\n",
       " 6574.414000000002,\n",
       " 6593.551,\n",
       " 6604.913000000001,\n",
       " 6605.21,\n",
       " 6611.845,\n",
       " 6625.892,\n",
       " 6634.772,\n",
       " 6637.729,\n",
       " 6646.607,\n",
       " 6649.353,\n",
       " 6666.741,\n",
       " 6689.661,\n",
       " 6701.803000000001,\n",
       " 6703.261,\n",
       " 6704.075,\n",
       " 6709.151,\n",
       " 6730.584,\n",
       " 6731.343000000002,\n",
       " 6734.609,\n",
       " 6744.18,\n",
       " 6747.052,\n",
       " 6751.776999999999,\n",
       " 6753.853,\n",
       " 6754.893,\n",
       " 6757.274,\n",
       " 6764.879,\n",
       " 6766.734,\n",
       " 6770.851,\n",
       " 6771.186,\n",
       " 6774.802,\n",
       " 6789.2930000000015,\n",
       " 6825.629,\n",
       " 6832.725,\n",
       " 6844.451999999998,\n",
       " 6845.201,\n",
       " 6851.051,\n",
       " 6857.654,\n",
       " 6857.978,\n",
       " 6858.682,\n",
       " 6866.453,\n",
       " 6868.19,\n",
       " 6868.368,\n",
       " 6886.538000000001,\n",
       " 6890.73,\n",
       " 6900.637,\n",
       " 6904.632,\n",
       " 6906.651,\n",
       " 6930.52,\n",
       " 6931.656999999998,\n",
       " 6945.621999999999,\n",
       " 6961.438,\n",
       " 6961.638000000001,\n",
       " 6966.223000000001,\n",
       " 6975.773,\n",
       " 6994.401,\n",
       " 6995.833000000001,\n",
       " 7005.825,\n",
       " 7028.751,\n",
       " 7034.877,\n",
       " 7073.155,\n",
       " 7077.915,\n",
       " 7086.267,\n",
       " 7105.919,\n",
       " 7117.498000000001,\n",
       " 7132.445,\n",
       " 7134.689,\n",
       " 7151.145,\n",
       " 7151.297,\n",
       " 7154.823,\n",
       " 7155.03,\n",
       " 7157.482,\n",
       " 7162.598000000001,\n",
       " 7175.371,\n",
       " 7180.439,\n",
       " 7191.755,\n",
       " 7197.573,\n",
       " 7199.874,\n",
       " 7205.312,\n",
       " 7214.326999999998,\n",
       " 7225.524,\n",
       " 7227.155,\n",
       " 7240.0059999999985,\n",
       " 7240.223000000001,\n",
       " 7241.453,\n",
       " 7259.2440000000015,\n",
       " 7264.550999999998,\n",
       " 7265.278,\n",
       " 7272.395,\n",
       " 7277.896,\n",
       " 7286.736999999999,\n",
       " 7292.9090000000015,\n",
       " 7304.674,\n",
       " 7323.363,\n",
       " 7327.981,\n",
       " 7334.035,\n",
       " 7341.274,\n",
       " 7349.507,\n",
       " 7365.89,\n",
       " 7366.366999999998,\n",
       " 7375.78,\n",
       " 7383.236,\n",
       " 7388.226,\n",
       " 7391.353,\n",
       " 7399.364,\n",
       " 7402.649,\n",
       " 7404.766,\n",
       " 7415.092,\n",
       " 7422.205,\n",
       " 7433.092,\n",
       " 7434.175999999998,\n",
       " 7435.709,\n",
       " 7441.7959999999985,\n",
       " 7451.482,\n",
       " 7453.63,\n",
       " 7472.661999999998,\n",
       " 7482.1190000000015,\n",
       " 7488.858,\n",
       " 7520.864,\n",
       " 7540.3409999999985,\n",
       " 7547.183000000001,\n",
       " 7548.861999999999,\n",
       " 7548.964,\n",
       " 7561.809,\n",
       " 7565.268,\n",
       " 7572.936,\n",
       " 7578.588000000002,\n",
       " 7580.581,\n",
       " 7581.018,\n",
       " 7582.23,\n",
       " 7583.27,\n",
       " 7586.471,\n",
       " 7586.866,\n",
       " 7593.276999999999,\n",
       " 7597.196,\n",
       " 7599.559,\n",
       " 7605.863,\n",
       " 7615.566,\n",
       " 7625.653,\n",
       " 7632.026999999999,\n",
       " 7642.623,\n",
       " 7644.045,\n",
       " 7646.149,\n",
       " 7651.768,\n",
       " 7656.482,\n",
       " 7659.414000000002,\n",
       " 7660.710999999998,\n",
       " 7660.946999999999,\n",
       " 7681.2559999999985,\n",
       " 7683.118,\n",
       " 7685.186,\n",
       " 7697.143,\n",
       " 7697.661,\n",
       " 7698.01,\n",
       " 7710.874,\n",
       " 7712.028,\n",
       " 7718.29,\n",
       " 7718.772,\n",
       " 7725.831,\n",
       " 7727.371,\n",
       " 7727.476,\n",
       " 7735.389,\n",
       " 7737.235,\n",
       " 7740.834,\n",
       " 7745.574,\n",
       " 7754.358,\n",
       " 7755.578,\n",
       " 7757.068,\n",
       " 7764.299,\n",
       " 7764.336999999998,\n",
       " 7766.383000000002,\n",
       " 7771.774,\n",
       " 7772.395,\n",
       " 7773.486999999999,\n",
       " 7777.42,\n",
       " 7780.778,\n",
       " 7782.166999999998,\n",
       " 7787.566,\n",
       " 7789.81,\n",
       " 7797.513000000001,\n",
       " 7798.248,\n",
       " 7799.196,\n",
       " 7803.663,\n",
       " 7812.005,\n",
       " 7822.828,\n",
       " 7826.522,\n",
       " 7828.0030000000015,\n",
       " 7829.433000000001,\n",
       " 7833.555,\n",
       " 7833.795,\n",
       " 7836.017,\n",
       " 7840.161,\n",
       " 7844.7159999999985,\n",
       " 7845.451999999998,\n",
       " 7850.343000000002,\n",
       " 7853.161999999998,\n",
       " 7855.54,\n",
       " 7860.81,\n",
       " 7862.656,\n",
       " 7863.603,\n",
       " 7874.9659999999985,\n",
       " 7876.010999999998,\n",
       " 7882.236999999999,\n",
       " 7882.948,\n",
       " 7888.85,\n",
       " 7890.931,\n",
       " 7894.071,\n",
       " 7895.78,\n",
       " 7897.656,\n",
       " 7907.044,\n",
       " 7910.731,\n",
       " 7914.227,\n",
       " 7914.873,\n",
       " 7925.919,\n",
       " 7926.2559999999985,\n",
       " 7941.232,\n",
       " 7941.472,\n",
       " 7943.741999999998,\n",
       " 7947.001999999998,\n",
       " 7948.4659999999985,\n",
       " 7958.201,\n",
       " 7958.536,\n",
       " 7958.852,\n",
       " 7968.343000000002,\n",
       " 7968.848000000001,\n",
       " 7973.876999999998,\n",
       " 7978.384,\n",
       " 7979.6190000000015,\n",
       " 7982.215,\n",
       " 7988.785,\n",
       " 7996.8780000000015,\n",
       " 7997.883000000002,\n",
       " 7999.371,\n",
       " 8004.154,\n",
       " 8015.655,\n",
       " 8021.723000000001,\n",
       " 8023.875,\n",
       " 8025.727,\n",
       " 8030.755,\n",
       " 8036.927,\n",
       " 8042.76,\n",
       " 8054.156999999998,\n",
       " 8064.835,\n",
       " 8072.144,\n",
       " 8072.196999999999,\n",
       " 8072.573,\n",
       " 8074.093000000002,\n",
       " 8074.979,\n",
       " 8083.467,\n",
       " 8087.795,\n",
       " 8093.481,\n",
       " 8094.861,\n",
       " 8098.985,\n",
       " 8107.303000000001,\n",
       " 8112.177,\n",
       " 8121.52,\n",
       " 8126.783,\n",
       " 8128.550999999998,\n",
       " 8129.411,\n",
       " 8134.4209999999985,\n",
       " 8136.0340000000015,\n",
       " 8136.258000000002,\n",
       " 8136.274,\n",
       " 8140.71,\n",
       " 8153.959,\n",
       " 8154.029,\n",
       " 8155.094,\n",
       " 8157.6280000000015,\n",
       " 8159.172,\n",
       " 8160.416,\n",
       " 8162.357,\n",
       " 8163.589,\n",
       " 8168.094,\n",
       " 8168.392,\n",
       " 8172.688,\n",
       " 8178.799,\n",
       " 8182.9090000000015,\n",
       " 8184.071999999999,\n",
       " 8186.023,\n",
       " 8189.61,\n",
       " 8190.53,\n",
       " 8196.335,\n",
       " 8198.235,\n",
       " 8198.739,\n",
       " 8199.59,\n",
       " 8203.737,\n",
       " 8207.823,\n",
       " 8209.097,\n",
       " 8214.076,\n",
       " 8229.904,\n",
       " 8231.177,\n",
       " 8231.966,\n",
       " 8232.164,\n",
       " 8234.199,\n",
       " 8237.966,\n",
       " 8243.363000000001,\n",
       " 8243.728000000001,\n",
       " 8255.157,\n",
       " 8255.81,\n",
       " 8259.862,\n",
       " 8274.47,\n",
       " 8279.112,\n",
       " 8282.714,\n",
       " 8293.454,\n",
       " 8293.705,\n",
       " 8302.171,\n",
       " 8311.304,\n",
       " 8314.21,\n",
       " 8319.232,\n",
       " 8319.808,\n",
       " 8320.6,\n",
       " 8324.883,\n",
       " 8324.949,\n",
       " 8339.044,\n",
       " 8347.992,\n",
       " 8348.851,\n",
       " 8352.197,\n",
       " 8353.164,\n",
       " 8365.966999999999,\n",
       " 8371.021,\n",
       " 8371.266,\n",
       " 8375.071,\n",
       " 8376.360999999999,\n",
       " 8376.92,\n",
       " 8384.917,\n",
       " 8386.739,\n",
       " 8388.329,\n",
       " 8389.58,\n",
       " 8390.546,\n",
       " 8393.761,\n",
       " 8395.11,\n",
       " 8396.332,\n",
       " 8404.257,\n",
       " 8416.589,\n",
       " 8438.872,\n",
       " 8439.428,\n",
       " 8448.568000000001,\n",
       " 8453.127,\n",
       " 8457.309000000001,\n",
       " 8459.679,\n",
       " 8460.209,\n",
       " 8462.315,\n",
       " 8468.389000000001,\n",
       " 8469.247,\n",
       " 8470.271999999999,\n",
       " 8471.098,\n",
       " 8471.347,\n",
       " 8473.41,\n",
       " 8483.559000000001,\n",
       " 8486.503,\n",
       " 8487.341,\n",
       " 8493.794,\n",
       " 8495.926,\n",
       " 8505.835,\n",
       " 8512.091,\n",
       " 8514.371,\n",
       " 8523.607,\n",
       " 8532.328000000001,\n",
       " 8537.142,\n",
       " 8538.125,\n",
       " 8538.716999999999,\n",
       " 8545.226999999999,\n",
       " 8545.862,\n",
       " 8546.684000000001,\n",
       " 8547.997,\n",
       " 8548.648000000001,\n",
       " 8556.219000000001,\n",
       " 8561.061,\n",
       " 8570.972,\n",
       " 8577.948,\n",
       " 8592.287,\n",
       " 8596.723,\n",
       " 8598.879,\n",
       " 8600.277,\n",
       " 8601.655999999999,\n",
       " 8607.267,\n",
       " 8609.246,\n",
       " 8612.661,\n",
       " 8613.205,\n",
       " 8617.214,\n",
       " 8619.706,\n",
       " 8620.065,\n",
       " 8625.894,\n",
       " 8627.354,\n",
       " 8632.582,\n",
       " 8635.452,\n",
       " 8639.908000000001,\n",
       " 8641.282,\n",
       " 8643.091,\n",
       " 8648.266,\n",
       " 8650.449,\n",
       " 8653.954,\n",
       " 8654.133,\n",
       " 8659.403,\n",
       " 8659.769,\n",
       " 8662.721,\n",
       " 8668.663,\n",
       " 8670.671,\n",
       " 8673.509,\n",
       " 8674.212,\n",
       " 8675.506,\n",
       " 8677.451,\n",
       " 8678.712,\n",
       " 8680.25,\n",
       " 8680.525,\n",
       " 8684.231,\n",
       " 8688.555,\n",
       " 8691.072,\n",
       " 8691.234,\n",
       " 8692.165,\n",
       " 8696.499,\n",
       " 8696.693000000001,\n",
       " 8702.576,\n",
       " 8705.030999999999,\n",
       " 8705.929,\n",
       " 8706.475,\n",
       " 8706.805,\n",
       " 8706.902,\n",
       " 8708.896,\n",
       " 8720.888,\n",
       " 8724.224,\n",
       " 8735.003,\n",
       " 8739.726999999999,\n",
       " 8757.815999999999,\n",
       " 8760.759,\n",
       " 8760.863000000001,\n",
       " 8764.996,\n",
       " 8765.302,\n",
       " 8767.534,\n",
       " 8770.519,\n",
       " 8772.203000000001,\n",
       " 8774.978000000001,\n",
       " 8777.038,\n",
       " 8778.47,\n",
       " 8779.761999999999,\n",
       " 8781.25,\n",
       " 8785.565999999999,\n",
       " 8788.169,\n",
       " 8788.626,\n",
       " 8788.985999999999,\n",
       " 8795.385,\n",
       " 8802.244,\n",
       " 8804.584,\n",
       " 8806.834,\n",
       " 8807.117,\n",
       " 8807.219000000001,\n",
       " 8808.546999999999,\n",
       " 8810.593,\n",
       " 8811.515,\n",
       " 8813.099,\n",
       " 8813.565,\n",
       " 8814.678,\n",
       " 8818.041,\n",
       " 8821.593,\n",
       " 8828.192,\n",
       " 8838.158000000001,\n",
       " 8843.222,\n",
       " 8847.009,\n",
       " 8851.09,\n",
       " 8857.308,\n",
       " 8858.293,\n",
       " 8859.203000000001,\n",
       " 8862.065,\n",
       " 8862.145,\n",
       " 8862.25,\n",
       " 8867.08,\n",
       " 8867.155,\n",
       " 8868.062,\n",
       " 8869.47,\n",
       " 8873.755,\n",
       " 8876.017,\n",
       " 8887.987,\n",
       " 8889.382,\n",
       " 8889.817,\n",
       " 8890.061,\n",
       " 8893.518,\n",
       " 8895.421999999999,\n",
       " 8895.596,\n",
       " 8905.229,\n",
       " 8906.845,\n",
       " 8911.41,\n",
       " 8919.823,\n",
       " 8921.287,\n",
       " 8938.22,\n",
       " 8938.692,\n",
       " 8939.633,\n",
       " 8941.85,\n",
       " 8953.542,\n",
       " 8965.132,\n",
       " 8971.844000000001,\n",
       " 8974.005,\n",
       " 8977.624,\n",
       " 8980.323,\n",
       " 8982.005,\n",
       " 8987.072,\n",
       " 8987.315,\n",
       " 8988.221,\n",
       " 9004.962,\n",
       " 9019.09,\n",
       " 9023.078,\n",
       " 9024.307,\n",
       " 9024.393,\n",
       " 9030.921,\n",
       " 9034.326,\n",
       " 9034.445,\n",
       " 9042.657,\n",
       " 9043.052,\n",
       " 9045.182,\n",
       " 9045.861,\n",
       " 9057.31,\n",
       " 9057.967,\n",
       " 9060.414,\n",
       " 9063.313,\n",
       " 9065.139,\n",
       " 9071.237,\n",
       " 9074.223,\n",
       " 9075.274,\n",
       " 9082.743,\n",
       " 9091.493,\n",
       " 9091.804,\n",
       " 9092.382,\n",
       " 9094.353,\n",
       " 9097.503,\n",
       " 9100.663,\n",
       " 9102.823,\n",
       " 9104.231,\n",
       " 9107.736,\n",
       " 9107.739,\n",
       " 9107.873,\n",
       " 9113.664,\n",
       " 9121.731,\n",
       " 9124.97,\n",
       " 9128.451,\n",
       " 9129.974,\n",
       " 9135.619,\n",
       " 9137.86,\n",
       " 9147.012,\n",
       " 9147.787,\n",
       " 9148.751,\n",
       " 9154.054,\n",
       " 9154.337,\n",
       " 9154.399,\n",
       " 9156.449,\n",
       " 9161.936,\n",
       " 9172.47,\n",
       " 9172.738,\n",
       " 9182.441,\n",
       " 9189.389,\n",
       " 9191.57,\n",
       " 9192.549,\n",
       " 9196.012,\n",
       " 9200.016,\n",
       " 9201.289,\n",
       " 9201.524,\n",
       " 9201.897,\n",
       " 9206.703,\n",
       " 9206.834,\n",
       " 9214.315,\n",
       " 9216.557,\n",
       " 9217.12,\n",
       " 9217.697,\n",
       " 9222.473,\n",
       " 9222.873,\n",
       " 9225.487,\n",
       " 9229.407,\n",
       " 9232.4,\n",
       " 9235.216,\n",
       " 9241.485,\n",
       " 9246.183,\n",
       " 9251.547,\n",
       " 9259.435,\n",
       " 9264.44,\n",
       " 9270.942,\n",
       " 9273.96,\n",
       " 9287.188,\n",
       " 9291.173,\n",
       " 9291.258,\n",
       " 9291.797,\n",
       " 9292.747,\n",
       " 9296.966,\n",
       " 9301.678,\n",
       " 9302.11,\n",
       " 9308.953,\n",
       " 9310.3,\n",
       " 9315.768,\n",
       " 9326.92,\n",
       " 9332.336,\n",
       " 9333.515,\n",
       " 9342.22,\n",
       " 9344.647,\n",
       " 9347.581,\n",
       " 9348.68,\n",
       " 9352.721,\n",
       " 9353.668,\n",
       " 9356.77,\n",
       " 9356.967,\n",
       " 9364.764,\n",
       " 9365.88,\n",
       " 9367.94,\n",
       " 9369.601,\n",
       " 9371.943,\n",
       " 9377.765,\n",
       " 9378.625,\n",
       " 9382.862,\n",
       " 9385.917,\n",
       " 9387.92,\n",
       " 9396.234,\n",
       " 9397.149,\n",
       " 9401.076,\n",
       " 9401.771,\n",
       " 9405.41,\n",
       " 9409.91,\n",
       " 9413.504,\n",
       " 9414.536,\n",
       " 9418.629,\n",
       " 9421.143,\n",
       " 9426.066,\n",
       " 9428.73,\n",
       " 9438.972,\n",
       " 9439.292,\n",
       " 9439.838,\n",
       " 9442.406,\n",
       " 9454.151,\n",
       " 9459.851,\n",
       " 9463.566,\n",
       " 9466.843,\n",
       " 9468.616,\n",
       " 9469.592,\n",
       " 9469.796,\n",
       " 9473.969,\n",
       " 9483.167,\n",
       " 9491.761,\n",
       " 9497.638,\n",
       " 9498.503,\n",
       " 9500.807,\n",
       " 9501.919,\n",
       " 9502.306,\n",
       " 9514.677,\n",
       " 9517.34,\n",
       " 9521.968,\n",
       " 9522.99,\n",
       " 9525.822,\n",
       " 9528.126,\n",
       " 9532.217,\n",
       " 9534.07,\n",
       " 9545.726,\n",
       " 9549.388,\n",
       " 9550.749,\n",
       " 9552.343,\n",
       " 9552.381,\n",
       " 9554.916,\n",
       " 9554.981,\n",
       " 9556.879,\n",
       " 9563.753,\n",
       " 9572.307,\n",
       " 9572.346,\n",
       " 9577.48,\n",
       " 9579.136,\n",
       " 9579.657,\n",
       " 9586.125,\n",
       " 9588.307,\n",
       " 9589.269,\n",
       " 9591.219,\n",
       " 9591.824,\n",
       " 9593.119,\n",
       " 9594.625,\n",
       " 9598.112,\n",
       " 9601.986,\n",
       " 9606.294,\n",
       " 9608.492,\n",
       " 9608.615,\n",
       " 9609.198,\n",
       " 9609.215,\n",
       " 9610.248,\n",
       " 9614.879,\n",
       " 9615.919,\n",
       " 9618.714,\n",
       " 9626.664,\n",
       " 9627.053,\n",
       " 9627.961,\n",
       " 9628.688,\n",
       " 9629.969,\n",
       " 9634.735,\n",
       " 9649.542,\n",
       " 9649.84,\n",
       " 9651.991,\n",
       " 9665.221,\n",
       " 9667.859,\n",
       " 9668.263,\n",
       " 9671.633,\n",
       " 9673.184,\n",
       " 9683.011,\n",
       " 9684.573,\n",
       " 9687.837,\n",
       " 9693.913,\n",
       " 9700.675,\n",
       " 9701.368,\n",
       " 9701.662,\n",
       " 9710.311,\n",
       " 9710.78,\n",
       " 9712.563,\n",
       " 9722.895,\n",
       " 9723.147,\n",
       " 9731.527,\n",
       " 9736.096,\n",
       " 9737.635,\n",
       " 9738.8,\n",
       " 9746.35,\n",
       " 9748.79,\n",
       " 9755.713,\n",
       " 9757.902,\n",
       " 9762.824,\n",
       " 9764.076,\n",
       " 9781.049,\n",
       " 9781.051,\n",
       " 9782.386,\n",
       " 9787.809,\n",
       " 9788.898,\n",
       " 9794.076,\n",
       " 9797.809,\n",
       " 9800.376,\n",
       " 9806.992,\n",
       " 9809.491,\n",
       " 9811.692,\n",
       " 9814.84,\n",
       " 9816.437,\n",
       " 9822.17,\n",
       " 9823.039,\n",
       " 9826.636,\n",
       " 9830.631,\n",
       " 9830.74,\n",
       " 9832.891,\n",
       " 9840.587,\n",
       " 9841.484,\n",
       " 9843.992,\n",
       " 9858.406,\n",
       " 9860.482,\n",
       " 9860.925,\n",
       " 9861.738,\n",
       " 9863.48,\n",
       " 9863.493,\n",
       " 9863.746,\n",
       " 9867.297,\n",
       " 9875.698,\n",
       " 9875.888,\n",
       " 9879.29,\n",
       " 9880.457,\n",
       " 9886.936,\n",
       " 9888.551,\n",
       " 9888.684,\n",
       " 9893.691,\n",
       " 9893.711,\n",
       " 9893.924,\n",
       " 9899.078,\n",
       " 9901.415,\n",
       " 9902.905,\n",
       " 9903.982,\n",
       " 9906.358,\n",
       " 9911.007,\n",
       " 9911.881,\n",
       " 9914.341,\n",
       " 9920.223,\n",
       " 9923.431,\n",
       " 9940.303,\n",
       " 9941.149,\n",
       " 9941.919,\n",
       " 9942.045,\n",
       " 9943.02,\n",
       " 9943.48,\n",
       " 9944.631,\n",
       " 9944.645,\n",
       " 9948.497,\n",
       " 9954.932,\n",
       " 9961.687,\n",
       " 9965.884,\n",
       " 9976.01,\n",
       " 9978.046,\n",
       " 9979.291,\n",
       " 9981.058,\n",
       " 9984.011,\n",
       " 9988.06,\n",
       " 9988.629,\n",
       " 9992.14,\n",
       " 9992.615,\n",
       " 9993.31,\n",
       " 9995.396,\n",
       " 9996.183,\n",
       " 10000.392,\n",
       " 10001.459,\n",
       " 10004.303,\n",
       " 10006.857,\n",
       " 10011.361,\n",
       " 10013.861,\n",
       " 10022.261,\n",
       " 10028.085,\n",
       " 10035.876,\n",
       " 10037.939,\n",
       " 10046.605,\n",
       " 10048.878,\n",
       " 10049.334,\n",
       " 10051.604,\n",
       " 10055.43,\n",
       " 10060.709,\n",
       " 10061.48,\n",
       " 10066.611,\n",
       " 10067.108,\n",
       " 10072.077,\n",
       " 10074.983,\n",
       " 10075.345,\n",
       " 10077.567,\n",
       " 10079.223,\n",
       " 10081.358,\n",
       " 10084.722,\n",
       " 10085.365,\n",
       " 10087.689,\n",
       " 10090.037,\n",
       " 10095.142,\n",
       " 10097.085,\n",
       " 10097.172,\n",
       " 10102.701,\n",
       " 10105.798,\n",
       " 10108.235,\n",
       " 10114.716,\n",
       " 10120.562,\n",
       " 10126.141,\n",
       " 10127.222,\n",
       " 10127.944,\n",
       " 10129.066,\n",
       " 10130.36,\n",
       " 10132.951,\n",
       " 10134.333,\n",
       " 10137.058,\n",
       " 10137.273,\n",
       " 10140.055,\n",
       " 10141.989,\n",
       " 10142.797,\n",
       " 10144.536,\n",
       " 10146.226,\n",
       " 10147.76,\n",
       " 10148.051,\n",
       " 10148.965,\n",
       " 10150.899,\n",
       " 10151.267,\n",
       " 10161.308,\n",
       " 10161.765,\n",
       " 10161.907,\n",
       " 10166.417,\n",
       " 10167.767,\n",
       " 10167.784,\n",
       " 10167.95,\n",
       " 10168.324,\n",
       " 10170.101,\n",
       " 10171.943,\n",
       " 10172.602,\n",
       " 10172.617,\n",
       " 10173.088,\n",
       " 10175.058,\n",
       " 10175.915,\n",
       " 10176.089,\n",
       " 10179.555,\n",
       " 10180.821,\n",
       " ...]"
      ]
     },
     "execution_count": 51,
     "metadata": {},
     "output_type": "execute_result"
    }
   ],
   "source": [
    "# Mengganti nilai yang hilang jika terdapat kesalahan\n",
    "sorted(data['total_income'].unique())\n",
    "\n",
    "# Tidak Terdapat Kesalahan di lihat dari hasil koding"
   ]
  },
  {
   "cell_type": "markdown",
   "metadata": {},
   "source": [
    "[Ketika Anda berpikir Anda telah selesai dengan `total_income`, periksa apakah jumlah total nilai di kolom ini sesuai dengan jumlah nilai di kolom lain.]"
   ]
  },
  {
   "cell_type": "code",
   "execution_count": 52,
   "metadata": {},
   "outputs": [
    {
     "data": {
      "text/plain": [
       "children              21453\n",
       "days_employed         19351\n",
       "dob_years             21453\n",
       "education             21453\n",
       "education_id          21453\n",
       "family_status         21453\n",
       "family_status_id      21453\n",
       "gender                21453\n",
       "income_type           21453\n",
       "debt                  21453\n",
       "total_income          21453\n",
       "purpose               21453\n",
       "age_group             21453\n",
       "total_income_clean    21453\n",
       "dtype: int64"
      ]
     },
     "execution_count": 52,
     "metadata": {},
     "output_type": "execute_result"
    }
   ],
   "source": [
    "# Memeriksa jumlah entri di kolom\n",
    "\n",
    "data.count()\n",
    "\n",
    "# Tidak Terdapat Kesalahan di lihat dari hasil koding"
   ]
  },
  {
   "cell_type": "code",
   "execution_count": 63,
   "metadata": {},
   "outputs": [
    {
     "data": {
      "text/plain": [
       "0"
      ]
     },
     "execution_count": 63,
     "metadata": {},
     "output_type": "execute_result"
    }
   ],
   "source": [
    "data['total_income_clean'].isna().sum()"
   ]
  },
  {
   "cell_type": "markdown",
   "metadata": {},
   "source": [
    "###  Memperbaiki nilai di `days_employed`"
   ]
  },
  {
   "cell_type": "code",
   "execution_count": 53,
   "metadata": {
    "pycharm": {
     "name": "#%%\n"
    },
    "scrolled": true
   },
   "outputs": [
    {
     "data": {
      "text/html": [
       "<div>\n",
       "<style scoped>\n",
       "    .dataframe tbody tr th:only-of-type {\n",
       "        vertical-align: middle;\n",
       "    }\n",
       "\n",
       "    .dataframe tbody tr th {\n",
       "        vertical-align: top;\n",
       "    }\n",
       "\n",
       "    .dataframe thead th {\n",
       "        text-align: right;\n",
       "    }\n",
       "</style>\n",
       "<table border=\"1\" class=\"dataframe\">\n",
       "  <thead>\n",
       "    <tr style=\"text-align: right;\">\n",
       "      <th></th>\n",
       "      <th>days_employed</th>\n",
       "    </tr>\n",
       "    <tr>\n",
       "      <th>age_group</th>\n",
       "      <th></th>\n",
       "    </tr>\n",
       "  </thead>\n",
       "  <tbody>\n",
       "    <tr>\n",
       "      <th>Eksekutif Kerja</th>\n",
       "      <td>627.368203</td>\n",
       "    </tr>\n",
       "    <tr>\n",
       "      <th>Siap Kerja</th>\n",
       "      <td>724.492610</td>\n",
       "    </tr>\n",
       "    <tr>\n",
       "      <th>Sudah Kerja</th>\n",
       "      <td>2214.576518</td>\n",
       "    </tr>\n",
       "  </tbody>\n",
       "</table>\n",
       "</div>"
      ],
      "text/plain": [
       "                 days_employed\n",
       "age_group                     \n",
       "Eksekutif Kerja     627.368203\n",
       "Siap Kerja          724.492610\n",
       "Sudah Kerja        2214.576518"
      ]
     },
     "execution_count": 53,
     "metadata": {},
     "output_type": "execute_result"
    }
   ],
   "source": [
    "# Distribusi median dari `days_employed` berdasarkan parameter yang Anda identifikasi\n",
    "\n",
    "data.pivot_table(index='age_group', values='days_employed', aggfunc='median')"
   ]
  },
  {
   "cell_type": "code",
   "execution_count": 54,
   "metadata": {},
   "outputs": [
    {
     "data": {
      "text/html": [
       "<div>\n",
       "<style scoped>\n",
       "    .dataframe tbody tr th:only-of-type {\n",
       "        vertical-align: middle;\n",
       "    }\n",
       "\n",
       "    .dataframe tbody tr th {\n",
       "        vertical-align: top;\n",
       "    }\n",
       "\n",
       "    .dataframe thead th {\n",
       "        text-align: right;\n",
       "    }\n",
       "</style>\n",
       "<table border=\"1\" class=\"dataframe\">\n",
       "  <thead>\n",
       "    <tr style=\"text-align: right;\">\n",
       "      <th></th>\n",
       "      <th>days_employed</th>\n",
       "    </tr>\n",
       "    <tr>\n",
       "      <th>age_group</th>\n",
       "      <th></th>\n",
       "    </tr>\n",
       "  </thead>\n",
       "  <tbody>\n",
       "    <tr>\n",
       "      <th>Eksekutif Kerja</th>\n",
       "      <td>701.334134</td>\n",
       "    </tr>\n",
       "    <tr>\n",
       "      <th>Siap Kerja</th>\n",
       "      <td>633.678086</td>\n",
       "    </tr>\n",
       "    <tr>\n",
       "      <th>Sudah Kerja</th>\n",
       "      <td>4571.589856</td>\n",
       "    </tr>\n",
       "  </tbody>\n",
       "</table>\n",
       "</div>"
      ],
      "text/plain": [
       "                 days_employed\n",
       "age_group                     \n",
       "Eksekutif Kerja     701.334134\n",
       "Siap Kerja          633.678086\n",
       "Sudah Kerja        4571.589856"
      ]
     },
     "execution_count": 54,
     "metadata": {},
     "output_type": "execute_result"
    }
   ],
   "source": [
    "# Distribusi rata-rata dari `days_employed` berdasarkan parameter yang Anda identifikasi\n",
    "data.pivot_table(index='age_group', values='days_employed', aggfunc='mean')"
   ]
  },
  {
   "cell_type": "markdown",
   "metadata": {},
   "source": [
    "Kita memilih menggunakan median untuk mengganti nilai yang hilang pad kolom days_employed karena value yang bervariasi pada kolom days_employed tidak memungkinkan memakai mean."
   ]
  },
  {
   "cell_type": "code",
   "execution_count": 64,
   "metadata": {},
   "outputs": [],
   "source": [
    "# Mari tulis fungsi yang menghitung rata-rata atau median (tergantung keputusan Anda) berdasarkan parameter yang Anda identifikasi\n",
    "\n",
    "rules = data['age_group'].unique()\n",
    "\n",
    "def data_imputation(data, column_filter, column_selected, rules):\n",
    "    for rule in rules:\n",
    "        # get median\n",
    "        median = data.loc[(data[column_filter]==rule) & ~(data[column_selected].isna()), column_selected].median()\n",
    "        # change missing value\n",
    "        data.loc[(data[column_filter]==rule) & (data[column_selected].isna()), column_selected] = median\n",
    "    return data \n",
    "\n"
   ]
  },
  {
   "cell_type": "code",
   "execution_count": 65,
   "metadata": {},
   "outputs": [
    {
     "data": {
      "text/html": [
       "<div>\n",
       "<style scoped>\n",
       "    .dataframe tbody tr th:only-of-type {\n",
       "        vertical-align: middle;\n",
       "    }\n",
       "\n",
       "    .dataframe tbody tr th {\n",
       "        vertical-align: top;\n",
       "    }\n",
       "\n",
       "    .dataframe thead th {\n",
       "        text-align: right;\n",
       "    }\n",
       "</style>\n",
       "<table border=\"1\" class=\"dataframe\">\n",
       "  <thead>\n",
       "    <tr style=\"text-align: right;\">\n",
       "      <th></th>\n",
       "      <th>children</th>\n",
       "      <th>days_employed</th>\n",
       "      <th>dob_years</th>\n",
       "      <th>education</th>\n",
       "      <th>education_id</th>\n",
       "      <th>family_status</th>\n",
       "      <th>family_status_id</th>\n",
       "      <th>gender</th>\n",
       "      <th>income_type</th>\n",
       "      <th>debt</th>\n",
       "      <th>total_income</th>\n",
       "      <th>purpose</th>\n",
       "      <th>age_group</th>\n",
       "      <th>total_income_clean</th>\n",
       "    </tr>\n",
       "  </thead>\n",
       "  <tbody>\n",
       "    <tr>\n",
       "      <th>0</th>\n",
       "      <td>1</td>\n",
       "      <td>8437.673028</td>\n",
       "      <td>42</td>\n",
       "      <td>bachelor's degree</td>\n",
       "      <td>0</td>\n",
       "      <td>married</td>\n",
       "      <td>0</td>\n",
       "      <td>F</td>\n",
       "      <td>employee</td>\n",
       "      <td>0</td>\n",
       "      <td>40620.102</td>\n",
       "      <td>purchase of the house</td>\n",
       "      <td>Sudah Kerja</td>\n",
       "      <td>40620.102</td>\n",
       "    </tr>\n",
       "    <tr>\n",
       "      <th>1</th>\n",
       "      <td>1</td>\n",
       "      <td>4024.803754</td>\n",
       "      <td>36</td>\n",
       "      <td>secondary education</td>\n",
       "      <td>1</td>\n",
       "      <td>married</td>\n",
       "      <td>0</td>\n",
       "      <td>F</td>\n",
       "      <td>employee</td>\n",
       "      <td>0</td>\n",
       "      <td>17932.802</td>\n",
       "      <td>car purchase</td>\n",
       "      <td>Sudah Kerja</td>\n",
       "      <td>17932.802</td>\n",
       "    </tr>\n",
       "    <tr>\n",
       "      <th>2</th>\n",
       "      <td>0</td>\n",
       "      <td>5623.422610</td>\n",
       "      <td>33</td>\n",
       "      <td>Secondary Education</td>\n",
       "      <td>1</td>\n",
       "      <td>married</td>\n",
       "      <td>0</td>\n",
       "      <td>M</td>\n",
       "      <td>employee</td>\n",
       "      <td>0</td>\n",
       "      <td>23341.752</td>\n",
       "      <td>purchase of the house</td>\n",
       "      <td>Sudah Kerja</td>\n",
       "      <td>23341.752</td>\n",
       "    </tr>\n",
       "    <tr>\n",
       "      <th>3</th>\n",
       "      <td>3</td>\n",
       "      <td>4124.747207</td>\n",
       "      <td>32</td>\n",
       "      <td>secondary education</td>\n",
       "      <td>1</td>\n",
       "      <td>married</td>\n",
       "      <td>0</td>\n",
       "      <td>M</td>\n",
       "      <td>employee</td>\n",
       "      <td>0</td>\n",
       "      <td>42820.568</td>\n",
       "      <td>supplementary education</td>\n",
       "      <td>Sudah Kerja</td>\n",
       "      <td>42820.568</td>\n",
       "    </tr>\n",
       "    <tr>\n",
       "      <th>4</th>\n",
       "      <td>0</td>\n",
       "      <td>12410.000000</td>\n",
       "      <td>53</td>\n",
       "      <td>secondary education</td>\n",
       "      <td>1</td>\n",
       "      <td>civil partnership</td>\n",
       "      <td>1</td>\n",
       "      <td>F</td>\n",
       "      <td>retiree</td>\n",
       "      <td>0</td>\n",
       "      <td>25378.572</td>\n",
       "      <td>to have a wedding</td>\n",
       "      <td>Sudah Kerja</td>\n",
       "      <td>25378.572</td>\n",
       "    </tr>\n",
       "    <tr>\n",
       "      <th>...</th>\n",
       "      <td>...</td>\n",
       "      <td>...</td>\n",
       "      <td>...</td>\n",
       "      <td>...</td>\n",
       "      <td>...</td>\n",
       "      <td>...</td>\n",
       "      <td>...</td>\n",
       "      <td>...</td>\n",
       "      <td>...</td>\n",
       "      <td>...</td>\n",
       "      <td>...</td>\n",
       "      <td>...</td>\n",
       "      <td>...</td>\n",
       "      <td>...</td>\n",
       "    </tr>\n",
       "    <tr>\n",
       "      <th>21520</th>\n",
       "      <td>1</td>\n",
       "      <td>4529.316663</td>\n",
       "      <td>43</td>\n",
       "      <td>secondary education</td>\n",
       "      <td>1</td>\n",
       "      <td>civil partnership</td>\n",
       "      <td>1</td>\n",
       "      <td>F</td>\n",
       "      <td>business</td>\n",
       "      <td>0</td>\n",
       "      <td>35966.698</td>\n",
       "      <td>housing transactions</td>\n",
       "      <td>Sudah Kerja</td>\n",
       "      <td>35966.698</td>\n",
       "    </tr>\n",
       "    <tr>\n",
       "      <th>21521</th>\n",
       "      <td>0</td>\n",
       "      <td>17520.000000</td>\n",
       "      <td>67</td>\n",
       "      <td>secondary education</td>\n",
       "      <td>1</td>\n",
       "      <td>married</td>\n",
       "      <td>0</td>\n",
       "      <td>F</td>\n",
       "      <td>retiree</td>\n",
       "      <td>0</td>\n",
       "      <td>24959.969</td>\n",
       "      <td>purchase of a car</td>\n",
       "      <td>Sudah Kerja</td>\n",
       "      <td>24959.969</td>\n",
       "    </tr>\n",
       "    <tr>\n",
       "      <th>21522</th>\n",
       "      <td>1</td>\n",
       "      <td>2113.346888</td>\n",
       "      <td>38</td>\n",
       "      <td>secondary education</td>\n",
       "      <td>1</td>\n",
       "      <td>civil partnership</td>\n",
       "      <td>1</td>\n",
       "      <td>M</td>\n",
       "      <td>employee</td>\n",
       "      <td>1</td>\n",
       "      <td>14347.610</td>\n",
       "      <td>property</td>\n",
       "      <td>Sudah Kerja</td>\n",
       "      <td>14347.610</td>\n",
       "    </tr>\n",
       "    <tr>\n",
       "      <th>21523</th>\n",
       "      <td>3</td>\n",
       "      <td>3112.481705</td>\n",
       "      <td>38</td>\n",
       "      <td>secondary education</td>\n",
       "      <td>1</td>\n",
       "      <td>married</td>\n",
       "      <td>0</td>\n",
       "      <td>M</td>\n",
       "      <td>employee</td>\n",
       "      <td>1</td>\n",
       "      <td>39054.888</td>\n",
       "      <td>buying my own car</td>\n",
       "      <td>Sudah Kerja</td>\n",
       "      <td>39054.888</td>\n",
       "    </tr>\n",
       "    <tr>\n",
       "      <th>21524</th>\n",
       "      <td>2</td>\n",
       "      <td>1984.507589</td>\n",
       "      <td>40</td>\n",
       "      <td>secondary education</td>\n",
       "      <td>1</td>\n",
       "      <td>married</td>\n",
       "      <td>0</td>\n",
       "      <td>F</td>\n",
       "      <td>employee</td>\n",
       "      <td>0</td>\n",
       "      <td>13127.587</td>\n",
       "      <td>to buy a car</td>\n",
       "      <td>Sudah Kerja</td>\n",
       "      <td>13127.587</td>\n",
       "    </tr>\n",
       "  </tbody>\n",
       "</table>\n",
       "<p>21525 rows × 14 columns</p>\n",
       "</div>"
      ],
      "text/plain": [
       "       children  days_employed  dob_years            education  education_id  \\\n",
       "0             1    8437.673028         42    bachelor's degree             0   \n",
       "1             1    4024.803754         36  secondary education             1   \n",
       "2             0    5623.422610         33  Secondary Education             1   \n",
       "3             3    4124.747207         32  secondary education             1   \n",
       "4             0   12410.000000         53  secondary education             1   \n",
       "...         ...            ...        ...                  ...           ...   \n",
       "21520         1    4529.316663         43  secondary education             1   \n",
       "21521         0   17520.000000         67  secondary education             1   \n",
       "21522         1    2113.346888         38  secondary education             1   \n",
       "21523         3    3112.481705         38  secondary education             1   \n",
       "21524         2    1984.507589         40  secondary education             1   \n",
       "\n",
       "           family_status  family_status_id gender income_type  debt  \\\n",
       "0                married                 0      F    employee     0   \n",
       "1                married                 0      F    employee     0   \n",
       "2                married                 0      M    employee     0   \n",
       "3                married                 0      M    employee     0   \n",
       "4      civil partnership                 1      F     retiree     0   \n",
       "...                  ...               ...    ...         ...   ...   \n",
       "21520  civil partnership                 1      F    business     0   \n",
       "21521            married                 0      F     retiree     0   \n",
       "21522  civil partnership                 1      M    employee     1   \n",
       "21523            married                 0      M    employee     1   \n",
       "21524            married                 0      F    employee     0   \n",
       "\n",
       "       total_income                  purpose    age_group  total_income_clean  \n",
       "0         40620.102    purchase of the house  Sudah Kerja           40620.102  \n",
       "1         17932.802             car purchase  Sudah Kerja           17932.802  \n",
       "2         23341.752    purchase of the house  Sudah Kerja           23341.752  \n",
       "3         42820.568  supplementary education  Sudah Kerja           42820.568  \n",
       "4         25378.572        to have a wedding  Sudah Kerja           25378.572  \n",
       "...             ...                      ...          ...                 ...  \n",
       "21520     35966.698     housing transactions  Sudah Kerja           35966.698  \n",
       "21521     24959.969        purchase of a car  Sudah Kerja           24959.969  \n",
       "21522     14347.610                 property  Sudah Kerja           14347.610  \n",
       "21523     39054.888        buying my own car  Sudah Kerja           39054.888  \n",
       "21524     13127.587             to buy a car  Sudah Kerja           13127.587  \n",
       "\n",
       "[21525 rows x 14 columns]"
      ]
     },
     "execution_count": 65,
     "metadata": {},
     "output_type": "execute_result"
    }
   ],
   "source": [
    "# Periksa bahwa fungsi bekerja\n",
    "\n",
    "data_imputation(data = data, column_filter='age_group', column_selected='days_employed', rules=rules)"
   ]
  },
  {
   "cell_type": "code",
   "execution_count": 57,
   "metadata": {},
   "outputs": [
    {
     "data": {
      "text/plain": [
       "0"
      ]
     },
     "execution_count": 57,
     "metadata": {},
     "output_type": "execute_result"
    }
   ],
   "source": [
    "# Periksa bahwa fungsi bekerja\n",
    "data['days_employed'].isna().sum()\n"
   ]
  },
  {
   "cell_type": "code",
   "execution_count": 59,
   "metadata": {},
   "outputs": [
    {
     "data": {
      "text/plain": [
       "children              21453\n",
       "days_employed         21453\n",
       "dob_years             21453\n",
       "education             21453\n",
       "education_id          21453\n",
       "family_status         21453\n",
       "family_status_id      21453\n",
       "gender                21453\n",
       "income_type           21453\n",
       "debt                  21453\n",
       "total_income          21453\n",
       "purpose               21453\n",
       "age_group             21453\n",
       "total_income_clean    21453\n",
       "dtype: int64"
      ]
     },
     "execution_count": 59,
     "metadata": {},
     "output_type": "execute_result"
    }
   ],
   "source": [
    "# Periksa entri di semua kolom - pastikan kita memperbaiki semua nilai yang hilang\n",
    "data.count()"
   ]
  },
  {
   "cell_type": "markdown",
   "metadata": {},
   "source": [
    "## Analisis Data Eksploratif"
   ]
  },
  {
   "cell_type": "markdown",
   "metadata": {},
   "source": [
    "Pada bagian Hipotesis kita akan menjawab pertanyaan-pertanyaan berikut ini:\n",
    "\n",
    "1.Apakah terdapat hubungan antara memiliki anak dan probabilitas seseorang melakukan gagal bayar pinjaman?\n",
    "\n",
    "2.Apakah terdapat hubungan antara status perkawinan dan probabilitas seseorang melakukan gagal bayar pinjaman?\n",
    "\n",
    "3.Apakah terdapat hubungan antara tingkat pendapatan dan probabilitas seseorang melakukan gagal bayar pinjaman?\n",
    "\n",
    "4.Bagaimana perbedaan tujuan pinjaman memengaruhi probabilitas seseorang melakukan gagal bayar pinjaman?"
   ]
  },
  {
   "cell_type": "code",
   "execution_count": 69,
   "metadata": {
    "scrolled": true
   },
   "outputs": [],
   "source": [
    "# Tampilkan nilai data yang Anda pilih untuk pengkategorian\n",
    "\n",
    "categorical_column = ['gender', 'children', 'education', 'debt']"
   ]
  },
  {
   "cell_type": "markdown",
   "metadata": {},
   "source": [
    "[Let's check unique values]"
   ]
  },
  {
   "cell_type": "code",
   "execution_count": 61,
   "metadata": {
    "scrolled": true
   },
   "outputs": [
    {
     "data": {
      "text/plain": [
       "array(['F', 'M', 'XNA'], dtype=object)"
      ]
     },
     "execution_count": 61,
     "metadata": {},
     "output_type": "execute_result"
    }
   ],
   "source": [
    "# Periksa nilai unik\n",
    "\n",
    "data['gender'].unique()"
   ]
  },
  {
   "cell_type": "code",
   "execution_count": 62,
   "metadata": {},
   "outputs": [
    {
     "data": {
      "text/plain": [
       "array([1, 0, 3, 2, 4, 5])"
      ]
     },
     "execution_count": 62,
     "metadata": {},
     "output_type": "execute_result"
    }
   ],
   "source": [
    "data['children'].unique()"
   ]
  },
  {
   "cell_type": "code",
   "execution_count": 63,
   "metadata": {},
   "outputs": [
    {
     "data": {
      "text/plain": [
       "array([\"bachelor's degree\", 'secondary education', 'some college',\n",
       "       'primary education', 'graduate degree'], dtype=object)"
      ]
     },
     "execution_count": 63,
     "metadata": {},
     "output_type": "execute_result"
    }
   ],
   "source": [
    "data['education'].unique()"
   ]
  },
  {
   "cell_type": "code",
   "execution_count": 70,
   "metadata": {},
   "outputs": [
    {
     "data": {
      "text/plain": [
       "[\"BACHELOR'S DEGREE\",\n",
       " \"Bachelor's Degree\",\n",
       " 'GRADUATE DEGREE',\n",
       " 'Graduate Degree',\n",
       " 'PRIMARY EDUCATION',\n",
       " 'Primary Education',\n",
       " 'SECONDARY EDUCATION',\n",
       " 'SOME COLLEGE',\n",
       " 'Secondary Education',\n",
       " 'Some College',\n",
       " \"bachelor's degree\",\n",
       " 'graduate degree',\n",
       " 'primary education',\n",
       " 'secondary education',\n",
       " 'some college']"
      ]
     },
     "execution_count": 70,
     "metadata": {},
     "output_type": "execute_result"
    }
   ],
   "source": [
    "sorted(data['education'].unique())"
   ]
  },
  {
   "cell_type": "code",
   "execution_count": 64,
   "metadata": {},
   "outputs": [
    {
     "data": {
      "text/plain": [
       "array([0, 1])"
      ]
     },
     "execution_count": 64,
     "metadata": {},
     "output_type": "execute_result"
    }
   ],
   "source": [
    "data['debt'].unique()"
   ]
  },
  {
   "cell_type": "markdown",
   "metadata": {},
   "source": [
    "[Kelompok utama apakah yang dapat Anda identifikasi berdasarkan nilai uniknya?]\n",
    "\n",
    "- Kelompok utama untuk memeriksa nilai unik yang menggunakan['days_employed]\n",
    "\n",
    "[Berdasarkan topik ini, kita ingin mengkategorikan data kita.]\n"
   ]
  },
  {
   "cell_type": "code",
   "execution_count": 72,
   "metadata": {},
   "outputs": [],
   "source": [
    "# Mari kita menulis fungsi untuk mengkategorikan data berdasarkan topik umum\n",
    "\n",
    "value= data['debt']\n",
    "\n",
    "def debt_probability(value):\n",
    "    if value == 1:\n",
    "        return 'failed'\n",
    "    else:\n",
    "        return 'pass'\n"
   ]
  },
  {
   "cell_type": "code",
   "execution_count": 73,
   "metadata": {},
   "outputs": [
    {
     "data": {
      "text/html": [
       "<div>\n",
       "<style scoped>\n",
       "    .dataframe tbody tr th:only-of-type {\n",
       "        vertical-align: middle;\n",
       "    }\n",
       "\n",
       "    .dataframe tbody tr th {\n",
       "        vertical-align: top;\n",
       "    }\n",
       "\n",
       "    .dataframe thead th {\n",
       "        text-align: right;\n",
       "    }\n",
       "</style>\n",
       "<table border=\"1\" class=\"dataframe\">\n",
       "  <thead>\n",
       "    <tr style=\"text-align: right;\">\n",
       "      <th></th>\n",
       "      <th>children</th>\n",
       "      <th>days_employed</th>\n",
       "      <th>dob_years</th>\n",
       "      <th>education</th>\n",
       "      <th>education_id</th>\n",
       "      <th>family_status</th>\n",
       "      <th>family_status_id</th>\n",
       "      <th>gender</th>\n",
       "      <th>income_type</th>\n",
       "      <th>debt</th>\n",
       "      <th>total_income</th>\n",
       "      <th>purpose</th>\n",
       "      <th>age_group</th>\n",
       "      <th>total_income_clean</th>\n",
       "      <th>debt_probability</th>\n",
       "    </tr>\n",
       "  </thead>\n",
       "  <tbody>\n",
       "    <tr>\n",
       "      <th>0</th>\n",
       "      <td>1</td>\n",
       "      <td>8437.673028</td>\n",
       "      <td>42</td>\n",
       "      <td>bachelor's degree</td>\n",
       "      <td>0</td>\n",
       "      <td>married</td>\n",
       "      <td>0</td>\n",
       "      <td>F</td>\n",
       "      <td>employee</td>\n",
       "      <td>0</td>\n",
       "      <td>40620.102</td>\n",
       "      <td>purchase of the house</td>\n",
       "      <td>Sudah Kerja</td>\n",
       "      <td>40620.102</td>\n",
       "      <td>pass</td>\n",
       "    </tr>\n",
       "    <tr>\n",
       "      <th>1</th>\n",
       "      <td>1</td>\n",
       "      <td>4024.803754</td>\n",
       "      <td>36</td>\n",
       "      <td>secondary education</td>\n",
       "      <td>1</td>\n",
       "      <td>married</td>\n",
       "      <td>0</td>\n",
       "      <td>F</td>\n",
       "      <td>employee</td>\n",
       "      <td>0</td>\n",
       "      <td>17932.802</td>\n",
       "      <td>car purchase</td>\n",
       "      <td>Sudah Kerja</td>\n",
       "      <td>17932.802</td>\n",
       "      <td>pass</td>\n",
       "    </tr>\n",
       "    <tr>\n",
       "      <th>2</th>\n",
       "      <td>0</td>\n",
       "      <td>5623.422610</td>\n",
       "      <td>33</td>\n",
       "      <td>Secondary Education</td>\n",
       "      <td>1</td>\n",
       "      <td>married</td>\n",
       "      <td>0</td>\n",
       "      <td>M</td>\n",
       "      <td>employee</td>\n",
       "      <td>0</td>\n",
       "      <td>23341.752</td>\n",
       "      <td>purchase of the house</td>\n",
       "      <td>Sudah Kerja</td>\n",
       "      <td>23341.752</td>\n",
       "      <td>pass</td>\n",
       "    </tr>\n",
       "    <tr>\n",
       "      <th>3</th>\n",
       "      <td>3</td>\n",
       "      <td>4124.747207</td>\n",
       "      <td>32</td>\n",
       "      <td>secondary education</td>\n",
       "      <td>1</td>\n",
       "      <td>married</td>\n",
       "      <td>0</td>\n",
       "      <td>M</td>\n",
       "      <td>employee</td>\n",
       "      <td>0</td>\n",
       "      <td>42820.568</td>\n",
       "      <td>supplementary education</td>\n",
       "      <td>Sudah Kerja</td>\n",
       "      <td>42820.568</td>\n",
       "      <td>pass</td>\n",
       "    </tr>\n",
       "    <tr>\n",
       "      <th>4</th>\n",
       "      <td>0</td>\n",
       "      <td>12410.000000</td>\n",
       "      <td>53</td>\n",
       "      <td>secondary education</td>\n",
       "      <td>1</td>\n",
       "      <td>civil partnership</td>\n",
       "      <td>1</td>\n",
       "      <td>F</td>\n",
       "      <td>retiree</td>\n",
       "      <td>0</td>\n",
       "      <td>25378.572</td>\n",
       "      <td>to have a wedding</td>\n",
       "      <td>Sudah Kerja</td>\n",
       "      <td>25378.572</td>\n",
       "      <td>pass</td>\n",
       "    </tr>\n",
       "  </tbody>\n",
       "</table>\n",
       "</div>"
      ],
      "text/plain": [
       "   children  days_employed  dob_years            education  education_id  \\\n",
       "0         1    8437.673028         42    bachelor's degree             0   \n",
       "1         1    4024.803754         36  secondary education             1   \n",
       "2         0    5623.422610         33  Secondary Education             1   \n",
       "3         3    4124.747207         32  secondary education             1   \n",
       "4         0   12410.000000         53  secondary education             1   \n",
       "\n",
       "       family_status  family_status_id gender income_type  debt  total_income  \\\n",
       "0            married                 0      F    employee     0     40620.102   \n",
       "1            married                 0      F    employee     0     17932.802   \n",
       "2            married                 0      M    employee     0     23341.752   \n",
       "3            married                 0      M    employee     0     42820.568   \n",
       "4  civil partnership                 1      F     retiree     0     25378.572   \n",
       "\n",
       "                   purpose    age_group  total_income_clean debt_probability  \n",
       "0    purchase of the house  Sudah Kerja           40620.102             pass  \n",
       "1             car purchase  Sudah Kerja           17932.802             pass  \n",
       "2    purchase of the house  Sudah Kerja           23341.752             pass  \n",
       "3  supplementary education  Sudah Kerja           42820.568             pass  \n",
       "4        to have a wedding  Sudah Kerja           25378.572             pass  "
      ]
     },
     "execution_count": 73,
     "metadata": {},
     "output_type": "execute_result"
    }
   ],
   "source": [
    "# Buat kolom dengan kategori dan hitung nilainya\n",
    "\n",
    "data['debt_probability'] = data['days_employed'].apply(debt_probability)\n",
    "\n",
    "data.head()"
   ]
  },
  {
   "cell_type": "markdown",
   "metadata": {},
   "source": [
    "## Pengkategorian Data"
   ]
  },
  {
   "cell_type": "code",
   "execution_count": 74,
   "metadata": {},
   "outputs": [
    {
     "data": {
      "text/html": [
       "<div>\n",
       "<style scoped>\n",
       "    .dataframe tbody tr th:only-of-type {\n",
       "        vertical-align: middle;\n",
       "    }\n",
       "\n",
       "    .dataframe tbody tr th {\n",
       "        vertical-align: top;\n",
       "    }\n",
       "\n",
       "    .dataframe thead th {\n",
       "        text-align: right;\n",
       "    }\n",
       "</style>\n",
       "<table border=\"1\" class=\"dataframe\">\n",
       "  <thead>\n",
       "    <tr style=\"text-align: right;\">\n",
       "      <th></th>\n",
       "      <th>children</th>\n",
       "      <th>days_employed</th>\n",
       "      <th>dob_years</th>\n",
       "      <th>education</th>\n",
       "      <th>education_id</th>\n",
       "      <th>family_status</th>\n",
       "      <th>family_status_id</th>\n",
       "      <th>gender</th>\n",
       "      <th>income_type</th>\n",
       "      <th>debt</th>\n",
       "      <th>total_income</th>\n",
       "      <th>purpose</th>\n",
       "      <th>age_group</th>\n",
       "      <th>total_income_clean</th>\n",
       "      <th>debt_probability</th>\n",
       "    </tr>\n",
       "  </thead>\n",
       "  <tbody>\n",
       "    <tr>\n",
       "      <th>0</th>\n",
       "      <td>1</td>\n",
       "      <td>8437.673028</td>\n",
       "      <td>42</td>\n",
       "      <td>bachelor's degree</td>\n",
       "      <td>0</td>\n",
       "      <td>married</td>\n",
       "      <td>0</td>\n",
       "      <td>F</td>\n",
       "      <td>employee</td>\n",
       "      <td>0</td>\n",
       "      <td>40620.102</td>\n",
       "      <td>purchase of the house</td>\n",
       "      <td>Sudah Kerja</td>\n",
       "      <td>40620.102</td>\n",
       "      <td>pass</td>\n",
       "    </tr>\n",
       "    <tr>\n",
       "      <th>1</th>\n",
       "      <td>1</td>\n",
       "      <td>4024.803754</td>\n",
       "      <td>36</td>\n",
       "      <td>secondary education</td>\n",
       "      <td>1</td>\n",
       "      <td>married</td>\n",
       "      <td>0</td>\n",
       "      <td>F</td>\n",
       "      <td>employee</td>\n",
       "      <td>0</td>\n",
       "      <td>17932.802</td>\n",
       "      <td>car purchase</td>\n",
       "      <td>Sudah Kerja</td>\n",
       "      <td>17932.802</td>\n",
       "      <td>pass</td>\n",
       "    </tr>\n",
       "    <tr>\n",
       "      <th>2</th>\n",
       "      <td>0</td>\n",
       "      <td>5623.422610</td>\n",
       "      <td>33</td>\n",
       "      <td>Secondary Education</td>\n",
       "      <td>1</td>\n",
       "      <td>married</td>\n",
       "      <td>0</td>\n",
       "      <td>M</td>\n",
       "      <td>employee</td>\n",
       "      <td>0</td>\n",
       "      <td>23341.752</td>\n",
       "      <td>purchase of the house</td>\n",
       "      <td>Sudah Kerja</td>\n",
       "      <td>23341.752</td>\n",
       "      <td>pass</td>\n",
       "    </tr>\n",
       "    <tr>\n",
       "      <th>3</th>\n",
       "      <td>3</td>\n",
       "      <td>4124.747207</td>\n",
       "      <td>32</td>\n",
       "      <td>secondary education</td>\n",
       "      <td>1</td>\n",
       "      <td>married</td>\n",
       "      <td>0</td>\n",
       "      <td>M</td>\n",
       "      <td>employee</td>\n",
       "      <td>0</td>\n",
       "      <td>42820.568</td>\n",
       "      <td>supplementary education</td>\n",
       "      <td>Sudah Kerja</td>\n",
       "      <td>42820.568</td>\n",
       "      <td>pass</td>\n",
       "    </tr>\n",
       "    <tr>\n",
       "      <th>4</th>\n",
       "      <td>0</td>\n",
       "      <td>12410.000000</td>\n",
       "      <td>53</td>\n",
       "      <td>secondary education</td>\n",
       "      <td>1</td>\n",
       "      <td>civil partnership</td>\n",
       "      <td>1</td>\n",
       "      <td>F</td>\n",
       "      <td>retiree</td>\n",
       "      <td>0</td>\n",
       "      <td>25378.572</td>\n",
       "      <td>to have a wedding</td>\n",
       "      <td>Sudah Kerja</td>\n",
       "      <td>25378.572</td>\n",
       "      <td>pass</td>\n",
       "    </tr>\n",
       "  </tbody>\n",
       "</table>\n",
       "</div>"
      ],
      "text/plain": [
       "   children  days_employed  dob_years            education  education_id  \\\n",
       "0         1    8437.673028         42    bachelor's degree             0   \n",
       "1         1    4024.803754         36  secondary education             1   \n",
       "2         0    5623.422610         33  Secondary Education             1   \n",
       "3         3    4124.747207         32  secondary education             1   \n",
       "4         0   12410.000000         53  secondary education             1   \n",
       "\n",
       "       family_status  family_status_id gender income_type  debt  total_income  \\\n",
       "0            married                 0      F    employee     0     40620.102   \n",
       "1            married                 0      F    employee     0     17932.802   \n",
       "2            married                 0      M    employee     0     23341.752   \n",
       "3            married                 0      M    employee     0     42820.568   \n",
       "4  civil partnership                 1      F     retiree     0     25378.572   \n",
       "\n",
       "                   purpose    age_group  total_income_clean debt_probability  \n",
       "0    purchase of the house  Sudah Kerja           40620.102             pass  \n",
       "1             car purchase  Sudah Kerja           17932.802             pass  \n",
       "2    purchase of the house  Sudah Kerja           23341.752             pass  \n",
       "3  supplementary education  Sudah Kerja           42820.568             pass  \n",
       "4        to have a wedding  Sudah Kerja           25378.572             pass  "
      ]
     },
     "execution_count": 74,
     "metadata": {},
     "output_type": "execute_result"
    }
   ],
   "source": [
    "# Lihat melalui semua data numerik di kolom yang Anda pilih untuk pengkategorian\n",
    "\n",
    "selected_category = ['education','family_status','debt_probability']\n",
    "\n",
    "selected_num_columns = ['days_employed','dob_years','total_income']\n",
    "\n",
    "data.head()"
   ]
  },
  {
   "cell_type": "code",
   "execution_count": 68,
   "metadata": {},
   "outputs": [
    {
     "data": {
      "text/html": [
       "<div>\n",
       "<style scoped>\n",
       "    .dataframe tbody tr th:only-of-type {\n",
       "        vertical-align: middle;\n",
       "    }\n",
       "\n",
       "    .dataframe tbody tr th {\n",
       "        vertical-align: top;\n",
       "    }\n",
       "\n",
       "    .dataframe thead th {\n",
       "        text-align: right;\n",
       "    }\n",
       "</style>\n",
       "<table border=\"1\" class=\"dataframe\">\n",
       "  <thead>\n",
       "    <tr style=\"text-align: right;\">\n",
       "      <th></th>\n",
       "      <th>days_employed</th>\n",
       "      <th>dob_years</th>\n",
       "      <th>total_income</th>\n",
       "    </tr>\n",
       "  </thead>\n",
       "  <tbody>\n",
       "    <tr>\n",
       "      <th>count</th>\n",
       "      <td>21453.000000</td>\n",
       "      <td>21453.000000</td>\n",
       "      <td>21453.000000</td>\n",
       "    </tr>\n",
       "    <tr>\n",
       "      <th>mean</th>\n",
       "      <td>4311.411964</td>\n",
       "      <td>43.469025</td>\n",
       "      <td>26451.382421</td>\n",
       "    </tr>\n",
       "    <tr>\n",
       "      <th>std</th>\n",
       "      <td>5059.112470</td>\n",
       "      <td>12.214162</td>\n",
       "      <td>15710.314734</td>\n",
       "    </tr>\n",
       "    <tr>\n",
       "      <th>min</th>\n",
       "      <td>-6935.000000</td>\n",
       "      <td>19.000000</td>\n",
       "      <td>3306.762000</td>\n",
       "    </tr>\n",
       "    <tr>\n",
       "      <th>25%</th>\n",
       "      <td>1016.929210</td>\n",
       "      <td>33.000000</td>\n",
       "      <td>17219.352000</td>\n",
       "    </tr>\n",
       "    <tr>\n",
       "      <th>50%</th>\n",
       "      <td>2214.576518</td>\n",
       "      <td>42.000000</td>\n",
       "      <td>22815.103500</td>\n",
       "    </tr>\n",
       "    <tr>\n",
       "      <th>75%</th>\n",
       "      <td>4769.746242</td>\n",
       "      <td>53.000000</td>\n",
       "      <td>31331.461000</td>\n",
       "    </tr>\n",
       "    <tr>\n",
       "      <th>max</th>\n",
       "      <td>20075.000000</td>\n",
       "      <td>75.000000</td>\n",
       "      <td>362496.645000</td>\n",
       "    </tr>\n",
       "  </tbody>\n",
       "</table>\n",
       "</div>"
      ],
      "text/plain": [
       "       days_employed     dob_years   total_income\n",
       "count   21453.000000  21453.000000   21453.000000\n",
       "mean     4311.411964     43.469025   26451.382421\n",
       "std      5059.112470     12.214162   15710.314734\n",
       "min     -6935.000000     19.000000    3306.762000\n",
       "25%      1016.929210     33.000000   17219.352000\n",
       "50%      2214.576518     42.000000   22815.103500\n",
       "75%      4769.746242     53.000000   31331.461000\n",
       "max     20075.000000     75.000000  362496.645000"
      ]
     },
     "execution_count": 68,
     "metadata": {},
     "output_type": "execute_result"
    }
   ],
   "source": [
    "# Mendapatkan kesimpulan statistik untuk kolomnya\n",
    "\n",
    "data[selected_num_columns].describe()"
   ]
  },
  {
   "cell_type": "markdown",
   "metadata": {},
   "source": [
    "Untuk memberikan variable perhitungan dalam analysis yang di lakukan "
   ]
  },
  {
   "cell_type": "code",
   "execution_count": 76,
   "metadata": {},
   "outputs": [],
   "source": [
    "# Membuat fungsi untuk pengkategorian menjadi kelompok numerik yang berbeda berdasarkan rentang\n",
    "value = data['total_income']\n",
    "\n",
    "def categorical_total_income(value):\n",
    "    if value <= 11234:\n",
    "        return 'poor'\n",
    "    elif value <= 17983:\n",
    "        return 'medium wealty'\n",
    "    else:\n",
    "        return 'rich'"
   ]
  },
  {
   "cell_type": "code",
   "execution_count": 77,
   "metadata": {},
   "outputs": [
    {
     "name": "stdout",
     "output_type": "stream",
     "text": [
      "poor\n"
     ]
    }
   ],
   "source": [
    "# Lakukan pengujian apakah fungsi bekerja atau tidak\n",
    "print(categorical_total_income(15))\n"
   ]
  },
  {
   "cell_type": "code",
   "execution_count": 78,
   "metadata": {},
   "outputs": [
    {
     "data": {
      "text/html": [
       "<div>\n",
       "<style scoped>\n",
       "    .dataframe tbody tr th:only-of-type {\n",
       "        vertical-align: middle;\n",
       "    }\n",
       "\n",
       "    .dataframe tbody tr th {\n",
       "        vertical-align: top;\n",
       "    }\n",
       "\n",
       "    .dataframe thead th {\n",
       "        text-align: right;\n",
       "    }\n",
       "</style>\n",
       "<table border=\"1\" class=\"dataframe\">\n",
       "  <thead>\n",
       "    <tr style=\"text-align: right;\">\n",
       "      <th></th>\n",
       "      <th>children</th>\n",
       "      <th>days_employed</th>\n",
       "      <th>dob_years</th>\n",
       "      <th>education</th>\n",
       "      <th>education_id</th>\n",
       "      <th>family_status</th>\n",
       "      <th>family_status_id</th>\n",
       "      <th>gender</th>\n",
       "      <th>income_type</th>\n",
       "      <th>debt</th>\n",
       "      <th>total_income</th>\n",
       "      <th>purpose</th>\n",
       "      <th>age_group</th>\n",
       "      <th>total_income_clean</th>\n",
       "      <th>debt_probability</th>\n",
       "      <th>categorical_total_income</th>\n",
       "    </tr>\n",
       "  </thead>\n",
       "  <tbody>\n",
       "    <tr>\n",
       "      <th>0</th>\n",
       "      <td>1</td>\n",
       "      <td>8437.673028</td>\n",
       "      <td>42</td>\n",
       "      <td>bachelor's degree</td>\n",
       "      <td>0</td>\n",
       "      <td>married</td>\n",
       "      <td>0</td>\n",
       "      <td>F</td>\n",
       "      <td>employee</td>\n",
       "      <td>0</td>\n",
       "      <td>40620.102</td>\n",
       "      <td>purchase of the house</td>\n",
       "      <td>Sudah Kerja</td>\n",
       "      <td>40620.102</td>\n",
       "      <td>pass</td>\n",
       "      <td>poor</td>\n",
       "    </tr>\n",
       "    <tr>\n",
       "      <th>1</th>\n",
       "      <td>1</td>\n",
       "      <td>4024.803754</td>\n",
       "      <td>36</td>\n",
       "      <td>secondary education</td>\n",
       "      <td>1</td>\n",
       "      <td>married</td>\n",
       "      <td>0</td>\n",
       "      <td>F</td>\n",
       "      <td>employee</td>\n",
       "      <td>0</td>\n",
       "      <td>17932.802</td>\n",
       "      <td>car purchase</td>\n",
       "      <td>Sudah Kerja</td>\n",
       "      <td>17932.802</td>\n",
       "      <td>pass</td>\n",
       "      <td>poor</td>\n",
       "    </tr>\n",
       "    <tr>\n",
       "      <th>2</th>\n",
       "      <td>0</td>\n",
       "      <td>5623.422610</td>\n",
       "      <td>33</td>\n",
       "      <td>Secondary Education</td>\n",
       "      <td>1</td>\n",
       "      <td>married</td>\n",
       "      <td>0</td>\n",
       "      <td>M</td>\n",
       "      <td>employee</td>\n",
       "      <td>0</td>\n",
       "      <td>23341.752</td>\n",
       "      <td>purchase of the house</td>\n",
       "      <td>Sudah Kerja</td>\n",
       "      <td>23341.752</td>\n",
       "      <td>pass</td>\n",
       "      <td>poor</td>\n",
       "    </tr>\n",
       "    <tr>\n",
       "      <th>3</th>\n",
       "      <td>3</td>\n",
       "      <td>4124.747207</td>\n",
       "      <td>32</td>\n",
       "      <td>secondary education</td>\n",
       "      <td>1</td>\n",
       "      <td>married</td>\n",
       "      <td>0</td>\n",
       "      <td>M</td>\n",
       "      <td>employee</td>\n",
       "      <td>0</td>\n",
       "      <td>42820.568</td>\n",
       "      <td>supplementary education</td>\n",
       "      <td>Sudah Kerja</td>\n",
       "      <td>42820.568</td>\n",
       "      <td>pass</td>\n",
       "      <td>poor</td>\n",
       "    </tr>\n",
       "    <tr>\n",
       "      <th>4</th>\n",
       "      <td>0</td>\n",
       "      <td>12410.000000</td>\n",
       "      <td>53</td>\n",
       "      <td>secondary education</td>\n",
       "      <td>1</td>\n",
       "      <td>civil partnership</td>\n",
       "      <td>1</td>\n",
       "      <td>F</td>\n",
       "      <td>retiree</td>\n",
       "      <td>0</td>\n",
       "      <td>25378.572</td>\n",
       "      <td>to have a wedding</td>\n",
       "      <td>Sudah Kerja</td>\n",
       "      <td>25378.572</td>\n",
       "      <td>pass</td>\n",
       "      <td>medium wealty</td>\n",
       "    </tr>\n",
       "    <tr>\n",
       "      <th>5</th>\n",
       "      <td>0</td>\n",
       "      <td>926.185831</td>\n",
       "      <td>27</td>\n",
       "      <td>bachelor's degree</td>\n",
       "      <td>0</td>\n",
       "      <td>civil partnership</td>\n",
       "      <td>1</td>\n",
       "      <td>M</td>\n",
       "      <td>business</td>\n",
       "      <td>0</td>\n",
       "      <td>40922.170</td>\n",
       "      <td>purchase of the house</td>\n",
       "      <td>Sudah Kerja</td>\n",
       "      <td>40922.170</td>\n",
       "      <td>pass</td>\n",
       "      <td>poor</td>\n",
       "    </tr>\n",
       "    <tr>\n",
       "      <th>6</th>\n",
       "      <td>0</td>\n",
       "      <td>2879.202052</td>\n",
       "      <td>43</td>\n",
       "      <td>bachelor's degree</td>\n",
       "      <td>0</td>\n",
       "      <td>married</td>\n",
       "      <td>0</td>\n",
       "      <td>F</td>\n",
       "      <td>business</td>\n",
       "      <td>0</td>\n",
       "      <td>38484.156</td>\n",
       "      <td>housing transactions</td>\n",
       "      <td>Sudah Kerja</td>\n",
       "      <td>38484.156</td>\n",
       "      <td>pass</td>\n",
       "      <td>poor</td>\n",
       "    </tr>\n",
       "    <tr>\n",
       "      <th>7</th>\n",
       "      <td>0</td>\n",
       "      <td>152.779569</td>\n",
       "      <td>50</td>\n",
       "      <td>SECONDARY EDUCATION</td>\n",
       "      <td>1</td>\n",
       "      <td>married</td>\n",
       "      <td>0</td>\n",
       "      <td>M</td>\n",
       "      <td>employee</td>\n",
       "      <td>0</td>\n",
       "      <td>21731.829</td>\n",
       "      <td>education</td>\n",
       "      <td>Sudah Kerja</td>\n",
       "      <td>21731.829</td>\n",
       "      <td>pass</td>\n",
       "      <td>poor</td>\n",
       "    </tr>\n",
       "    <tr>\n",
       "      <th>8</th>\n",
       "      <td>2</td>\n",
       "      <td>6929.865299</td>\n",
       "      <td>35</td>\n",
       "      <td>BACHELOR'S DEGREE</td>\n",
       "      <td>0</td>\n",
       "      <td>civil partnership</td>\n",
       "      <td>1</td>\n",
       "      <td>F</td>\n",
       "      <td>employee</td>\n",
       "      <td>0</td>\n",
       "      <td>15337.093</td>\n",
       "      <td>having a wedding</td>\n",
       "      <td>Sudah Kerja</td>\n",
       "      <td>15337.093</td>\n",
       "      <td>pass</td>\n",
       "      <td>poor</td>\n",
       "    </tr>\n",
       "    <tr>\n",
       "      <th>9</th>\n",
       "      <td>0</td>\n",
       "      <td>2188.756445</td>\n",
       "      <td>41</td>\n",
       "      <td>secondary education</td>\n",
       "      <td>1</td>\n",
       "      <td>married</td>\n",
       "      <td>0</td>\n",
       "      <td>M</td>\n",
       "      <td>employee</td>\n",
       "      <td>0</td>\n",
       "      <td>23108.150</td>\n",
       "      <td>purchase of the house for my family</td>\n",
       "      <td>Sudah Kerja</td>\n",
       "      <td>23108.150</td>\n",
       "      <td>pass</td>\n",
       "      <td>poor</td>\n",
       "    </tr>\n",
       "  </tbody>\n",
       "</table>\n",
       "</div>"
      ],
      "text/plain": [
       "   children  days_employed  dob_years            education  education_id  \\\n",
       "0         1    8437.673028         42    bachelor's degree             0   \n",
       "1         1    4024.803754         36  secondary education             1   \n",
       "2         0    5623.422610         33  Secondary Education             1   \n",
       "3         3    4124.747207         32  secondary education             1   \n",
       "4         0   12410.000000         53  secondary education             1   \n",
       "5         0     926.185831         27    bachelor's degree             0   \n",
       "6         0    2879.202052         43    bachelor's degree             0   \n",
       "7         0     152.779569         50  SECONDARY EDUCATION             1   \n",
       "8         2    6929.865299         35    BACHELOR'S DEGREE             0   \n",
       "9         0    2188.756445         41  secondary education             1   \n",
       "\n",
       "       family_status  family_status_id gender income_type  debt  total_income  \\\n",
       "0            married                 0      F    employee     0     40620.102   \n",
       "1            married                 0      F    employee     0     17932.802   \n",
       "2            married                 0      M    employee     0     23341.752   \n",
       "3            married                 0      M    employee     0     42820.568   \n",
       "4  civil partnership                 1      F     retiree     0     25378.572   \n",
       "5  civil partnership                 1      M    business     0     40922.170   \n",
       "6            married                 0      F    business     0     38484.156   \n",
       "7            married                 0      M    employee     0     21731.829   \n",
       "8  civil partnership                 1      F    employee     0     15337.093   \n",
       "9            married                 0      M    employee     0     23108.150   \n",
       "\n",
       "                               purpose    age_group  total_income_clean  \\\n",
       "0                purchase of the house  Sudah Kerja           40620.102   \n",
       "1                         car purchase  Sudah Kerja           17932.802   \n",
       "2                purchase of the house  Sudah Kerja           23341.752   \n",
       "3              supplementary education  Sudah Kerja           42820.568   \n",
       "4                    to have a wedding  Sudah Kerja           25378.572   \n",
       "5                purchase of the house  Sudah Kerja           40922.170   \n",
       "6                 housing transactions  Sudah Kerja           38484.156   \n",
       "7                            education  Sudah Kerja           21731.829   \n",
       "8                     having a wedding  Sudah Kerja           15337.093   \n",
       "9  purchase of the house for my family  Sudah Kerja           23108.150   \n",
       "\n",
       "  debt_probability categorical_total_income  \n",
       "0             pass                     poor  \n",
       "1             pass                     poor  \n",
       "2             pass                     poor  \n",
       "3             pass                     poor  \n",
       "4             pass            medium wealty  \n",
       "5             pass                     poor  \n",
       "6             pass                     poor  \n",
       "7             pass                     poor  \n",
       "8             pass                     poor  \n",
       "9             pass                     poor  "
      ]
     },
     "execution_count": 78,
     "metadata": {},
     "output_type": "execute_result"
    }
   ],
   "source": [
    "# Membuat kolom dengan kategori\n",
    "\n",
    "\n",
    "data['categorical_total_income'] = data['days_employed'].apply(categorical_total_income)\n",
    "\n",
    "data.head(10)"
   ]
  },
  {
   "cell_type": "code",
   "execution_count": 79,
   "metadata": {
    "scrolled": true
   },
   "outputs": [
    {
     "data": {
      "text/plain": [
       "poor             18106\n",
       "medium wealty     3205\n",
       "rich               214\n",
       "Name: categorical_total_income, dtype: int64"
      ]
     },
     "execution_count": 79,
     "metadata": {},
     "output_type": "execute_result"
    }
   ],
   "source": [
    "# Menghitung setiap nilai kategori untuk melihat pendistribusian\n",
    "data['categorical_total_income'].value_counts()"
   ]
  },
  {
   "cell_type": "code",
   "execution_count": 80,
   "metadata": {},
   "outputs": [
    {
     "data": {
      "text/html": [
       "<div>\n",
       "<style scoped>\n",
       "    .dataframe tbody tr th:only-of-type {\n",
       "        vertical-align: middle;\n",
       "    }\n",
       "\n",
       "    .dataframe tbody tr th {\n",
       "        vertical-align: top;\n",
       "    }\n",
       "\n",
       "    .dataframe thead th {\n",
       "        text-align: right;\n",
       "    }\n",
       "</style>\n",
       "<table border=\"1\" class=\"dataframe\">\n",
       "  <thead>\n",
       "    <tr style=\"text-align: right;\">\n",
       "      <th></th>\n",
       "      <th>children</th>\n",
       "      <th>days_employed</th>\n",
       "      <th>dob_years</th>\n",
       "      <th>education</th>\n",
       "      <th>education_id</th>\n",
       "      <th>family_status</th>\n",
       "      <th>family_status_id</th>\n",
       "      <th>gender</th>\n",
       "      <th>income_type</th>\n",
       "      <th>debt</th>\n",
       "      <th>total_income</th>\n",
       "      <th>purpose</th>\n",
       "      <th>age_group</th>\n",
       "      <th>total_income_clean</th>\n",
       "      <th>debt_probability</th>\n",
       "      <th>categorical_total_income</th>\n",
       "      <th>purpose_group</th>\n",
       "    </tr>\n",
       "  </thead>\n",
       "  <tbody>\n",
       "    <tr>\n",
       "      <th>0</th>\n",
       "      <td>1</td>\n",
       "      <td>8437.673028</td>\n",
       "      <td>42</td>\n",
       "      <td>bachelor's degree</td>\n",
       "      <td>0</td>\n",
       "      <td>married</td>\n",
       "      <td>0</td>\n",
       "      <td>F</td>\n",
       "      <td>employee</td>\n",
       "      <td>0</td>\n",
       "      <td>40620.102</td>\n",
       "      <td>purchase of the house</td>\n",
       "      <td>Sudah Kerja</td>\n",
       "      <td>40620.102</td>\n",
       "      <td>pass</td>\n",
       "      <td>poor</td>\n",
       "      <td>buy house</td>\n",
       "    </tr>\n",
       "    <tr>\n",
       "      <th>1</th>\n",
       "      <td>1</td>\n",
       "      <td>4024.803754</td>\n",
       "      <td>36</td>\n",
       "      <td>secondary education</td>\n",
       "      <td>1</td>\n",
       "      <td>married</td>\n",
       "      <td>0</td>\n",
       "      <td>F</td>\n",
       "      <td>employee</td>\n",
       "      <td>0</td>\n",
       "      <td>17932.802</td>\n",
       "      <td>car purchase</td>\n",
       "      <td>Sudah Kerja</td>\n",
       "      <td>17932.802</td>\n",
       "      <td>pass</td>\n",
       "      <td>poor</td>\n",
       "      <td>car purchase</td>\n",
       "    </tr>\n",
       "    <tr>\n",
       "      <th>2</th>\n",
       "      <td>0</td>\n",
       "      <td>5623.422610</td>\n",
       "      <td>33</td>\n",
       "      <td>Secondary Education</td>\n",
       "      <td>1</td>\n",
       "      <td>married</td>\n",
       "      <td>0</td>\n",
       "      <td>M</td>\n",
       "      <td>employee</td>\n",
       "      <td>0</td>\n",
       "      <td>23341.752</td>\n",
       "      <td>purchase of the house</td>\n",
       "      <td>Sudah Kerja</td>\n",
       "      <td>23341.752</td>\n",
       "      <td>pass</td>\n",
       "      <td>poor</td>\n",
       "      <td>buy house</td>\n",
       "    </tr>\n",
       "    <tr>\n",
       "      <th>3</th>\n",
       "      <td>3</td>\n",
       "      <td>4124.747207</td>\n",
       "      <td>32</td>\n",
       "      <td>secondary education</td>\n",
       "      <td>1</td>\n",
       "      <td>married</td>\n",
       "      <td>0</td>\n",
       "      <td>M</td>\n",
       "      <td>employee</td>\n",
       "      <td>0</td>\n",
       "      <td>42820.568</td>\n",
       "      <td>supplementary education</td>\n",
       "      <td>Sudah Kerja</td>\n",
       "      <td>42820.568</td>\n",
       "      <td>pass</td>\n",
       "      <td>poor</td>\n",
       "      <td>education</td>\n",
       "    </tr>\n",
       "    <tr>\n",
       "      <th>4</th>\n",
       "      <td>0</td>\n",
       "      <td>12410.000000</td>\n",
       "      <td>53</td>\n",
       "      <td>secondary education</td>\n",
       "      <td>1</td>\n",
       "      <td>civil partnership</td>\n",
       "      <td>1</td>\n",
       "      <td>F</td>\n",
       "      <td>retiree</td>\n",
       "      <td>0</td>\n",
       "      <td>25378.572</td>\n",
       "      <td>to have a wedding</td>\n",
       "      <td>Sudah Kerja</td>\n",
       "      <td>25378.572</td>\n",
       "      <td>pass</td>\n",
       "      <td>medium wealty</td>\n",
       "      <td>wedding</td>\n",
       "    </tr>\n",
       "  </tbody>\n",
       "</table>\n",
       "</div>"
      ],
      "text/plain": [
       "   children  days_employed  dob_years            education  education_id  \\\n",
       "0         1    8437.673028         42    bachelor's degree             0   \n",
       "1         1    4024.803754         36  secondary education             1   \n",
       "2         0    5623.422610         33  Secondary Education             1   \n",
       "3         3    4124.747207         32  secondary education             1   \n",
       "4         0   12410.000000         53  secondary education             1   \n",
       "\n",
       "       family_status  family_status_id gender income_type  debt  total_income  \\\n",
       "0            married                 0      F    employee     0     40620.102   \n",
       "1            married                 0      F    employee     0     17932.802   \n",
       "2            married                 0      M    employee     0     23341.752   \n",
       "3            married                 0      M    employee     0     42820.568   \n",
       "4  civil partnership                 1      F     retiree     0     25378.572   \n",
       "\n",
       "                   purpose    age_group  total_income_clean debt_probability  \\\n",
       "0    purchase of the house  Sudah Kerja           40620.102             pass   \n",
       "1             car purchase  Sudah Kerja           17932.802             pass   \n",
       "2    purchase of the house  Sudah Kerja           23341.752             pass   \n",
       "3  supplementary education  Sudah Kerja           42820.568             pass   \n",
       "4        to have a wedding  Sudah Kerja           25378.572             pass   \n",
       "\n",
       "  categorical_total_income purpose_group  \n",
       "0                     poor     buy house  \n",
       "1                     poor  car purchase  \n",
       "2                     poor     buy house  \n",
       "3                     poor     education  \n",
       "4            medium wealty       wedding  "
      ]
     },
     "execution_count": 80,
     "metadata": {},
     "output_type": "execute_result"
    }
   ],
   "source": [
    "# membuat kategori dari kolom purpose\n",
    "# Mari kita menulis fungsi untuk mengkategorikan data berdasarkan topik umum\n",
    "# kategori untuk kolom purpose karena nilai unik pada kolom purpose >10 dan beberapa value mengandung arti yang sama\n",
    "# kelompok kategori dibuat ke kolom baru\n",
    "\n",
    "data.loc[data['purpose'].isin(['real estate transactions', 'purchase of my own house', 'transactions with my real estate', 'housing', 'purchase of the house', 'housing transactions', 'transactions with commercial real estate', 'purchase of the house for my family', 'buy real estate', 'buy commercial real estate', 'buy residential real estate']), 'purpose_group'] = 'buy house'\n",
    "data.loc[data['purpose'].isin(['wedding ceremony', 'to have a wedding', 'having a wedding']), 'purpose_group'] = 'wedding'\n",
    "data.loc[data['purpose'].isin(['to become educated', 'profile education', 'getting higher education', 'going to university', 'university education', 'getting an education', 'supplementary education', 'to get a supplementary education', 'education']), 'purpose_group'] = 'education'\n",
    "data.loc[data['purpose'].isin(['construction of own property', 'housing renovation', 'building a real estate']), 'purpose_group'] = 'housing renovation'\n",
    "data.loc[data['purpose'].isin(['buying property for renting out', 'building a property', 'property']), 'purpose_group'] = 'buy property'\n",
    "data.loc[data['purpose'].isin(['to buy a car', 'to own a car', 'second-hand car purchase', 'purchase of a car', 'buying my own car', 'buying a second-hand car', 'cars', 'car', 'car purchase']), 'purpose_group'] = 'car purchase'\n",
    "\n",
    "data.head()"
   ]
  },
  {
   "cell_type": "code",
   "execution_count": 83,
   "metadata": {},
   "outputs": [
    {
     "data": {
      "text/html": [
       "<div>\n",
       "<style scoped>\n",
       "    .dataframe tbody tr th:only-of-type {\n",
       "        vertical-align: middle;\n",
       "    }\n",
       "\n",
       "    .dataframe tbody tr th {\n",
       "        vertical-align: top;\n",
       "    }\n",
       "\n",
       "    .dataframe thead th {\n",
       "        text-align: right;\n",
       "    }\n",
       "</style>\n",
       "<table border=\"1\" class=\"dataframe\">\n",
       "  <thead>\n",
       "    <tr style=\"text-align: right;\">\n",
       "      <th></th>\n",
       "      <th>children</th>\n",
       "      <th>days_employed</th>\n",
       "      <th>dob_years</th>\n",
       "      <th>education</th>\n",
       "      <th>education_id</th>\n",
       "      <th>family_status</th>\n",
       "      <th>family_status_id</th>\n",
       "      <th>gender</th>\n",
       "      <th>income_type</th>\n",
       "      <th>debt</th>\n",
       "      <th>total_income</th>\n",
       "      <th>purpose</th>\n",
       "      <th>age_group</th>\n",
       "      <th>total_income_clean</th>\n",
       "      <th>debt_probability</th>\n",
       "      <th>categorical_total_income</th>\n",
       "      <th>purpose_group</th>\n",
       "    </tr>\n",
       "  </thead>\n",
       "  <tbody>\n",
       "    <tr>\n",
       "      <th>1</th>\n",
       "      <td>1</td>\n",
       "      <td>4024.803754</td>\n",
       "      <td>36</td>\n",
       "      <td>secondary education</td>\n",
       "      <td>1</td>\n",
       "      <td>married</td>\n",
       "      <td>0</td>\n",
       "      <td>F</td>\n",
       "      <td>employee</td>\n",
       "      <td>0</td>\n",
       "      <td>17932.802</td>\n",
       "      <td>car purchase</td>\n",
       "      <td>Sudah Kerja</td>\n",
       "      <td>17932.802</td>\n",
       "      <td>pass</td>\n",
       "      <td>poor</td>\n",
       "      <td>car purchase</td>\n",
       "    </tr>\n",
       "    <tr>\n",
       "      <th>13</th>\n",
       "      <td>0</td>\n",
       "      <td>1846.641941</td>\n",
       "      <td>54</td>\n",
       "      <td>some college</td>\n",
       "      <td>2</td>\n",
       "      <td>married</td>\n",
       "      <td>0</td>\n",
       "      <td>F</td>\n",
       "      <td>employee</td>\n",
       "      <td>0</td>\n",
       "      <td>20873.317</td>\n",
       "      <td>car purchase</td>\n",
       "      <td>Sudah Kerja</td>\n",
       "      <td>20873.317</td>\n",
       "      <td>pass</td>\n",
       "      <td>poor</td>\n",
       "      <td>car purchase</td>\n",
       "    </tr>\n",
       "    <tr>\n",
       "      <th>21</th>\n",
       "      <td>1</td>\n",
       "      <td>253.685166</td>\n",
       "      <td>33</td>\n",
       "      <td>secondary education</td>\n",
       "      <td>1</td>\n",
       "      <td>civil partnership</td>\n",
       "      <td>1</td>\n",
       "      <td>F</td>\n",
       "      <td>employee</td>\n",
       "      <td>0</td>\n",
       "      <td>21089.953</td>\n",
       "      <td>car purchase</td>\n",
       "      <td>Sudah Kerja</td>\n",
       "      <td>21089.953</td>\n",
       "      <td>pass</td>\n",
       "      <td>poor</td>\n",
       "      <td>car purchase</td>\n",
       "    </tr>\n",
       "    <tr>\n",
       "      <th>37</th>\n",
       "      <td>0</td>\n",
       "      <td>6448.810860</td>\n",
       "      <td>43</td>\n",
       "      <td>BACHELOR'S DEGREE</td>\n",
       "      <td>0</td>\n",
       "      <td>civil partnership</td>\n",
       "      <td>1</td>\n",
       "      <td>F</td>\n",
       "      <td>business</td>\n",
       "      <td>0</td>\n",
       "      <td>24660.621</td>\n",
       "      <td>car purchase</td>\n",
       "      <td>Sudah Kerja</td>\n",
       "      <td>24660.621</td>\n",
       "      <td>pass</td>\n",
       "      <td>poor</td>\n",
       "      <td>car purchase</td>\n",
       "    </tr>\n",
       "    <tr>\n",
       "      <th>43</th>\n",
       "      <td>0</td>\n",
       "      <td>4375.681384</td>\n",
       "      <td>43</td>\n",
       "      <td>some college</td>\n",
       "      <td>2</td>\n",
       "      <td>divorced</td>\n",
       "      <td>3</td>\n",
       "      <td>F</td>\n",
       "      <td>business</td>\n",
       "      <td>0</td>\n",
       "      <td>43673.141</td>\n",
       "      <td>car purchase</td>\n",
       "      <td>Sudah Kerja</td>\n",
       "      <td>43673.141</td>\n",
       "      <td>pass</td>\n",
       "      <td>poor</td>\n",
       "      <td>car purchase</td>\n",
       "    </tr>\n",
       "  </tbody>\n",
       "</table>\n",
       "</div>"
      ],
      "text/plain": [
       "    children  days_employed  dob_years            education  education_id  \\\n",
       "1          1    4024.803754         36  secondary education             1   \n",
       "13         0    1846.641941         54         some college             2   \n",
       "21         1     253.685166         33  secondary education             1   \n",
       "37         0    6448.810860         43    BACHELOR'S DEGREE             0   \n",
       "43         0    4375.681384         43         some college             2   \n",
       "\n",
       "        family_status  family_status_id gender income_type  debt  \\\n",
       "1             married                 0      F    employee     0   \n",
       "13            married                 0      F    employee     0   \n",
       "21  civil partnership                 1      F    employee     0   \n",
       "37  civil partnership                 1      F    business     0   \n",
       "43           divorced                 3      F    business     0   \n",
       "\n",
       "    total_income       purpose    age_group  total_income_clean  \\\n",
       "1      17932.802  car purchase  Sudah Kerja           17932.802   \n",
       "13     20873.317  car purchase  Sudah Kerja           20873.317   \n",
       "21     21089.953  car purchase  Sudah Kerja           21089.953   \n",
       "37     24660.621  car purchase  Sudah Kerja           24660.621   \n",
       "43     43673.141  car purchase  Sudah Kerja           43673.141   \n",
       "\n",
       "   debt_probability categorical_total_income purpose_group  \n",
       "1              pass                     poor  car purchase  \n",
       "13             pass                     poor  car purchase  \n",
       "21             pass                     poor  car purchase  \n",
       "37             pass                     poor  car purchase  \n",
       "43             pass                     poor  car purchase  "
      ]
     },
     "execution_count": 83,
     "metadata": {},
     "output_type": "execute_result"
    }
   ],
   "source": [
    "# Memeriksa fungsi bekerja untuk salah satu kategori di kolom purpose\n",
    "\n",
    "data.loc[data['purpose'] == 'car purchase'].head()"
   ]
  },
  {
   "cell_type": "markdown",
   "metadata": {},
   "source": [
    "# Memeriksa Hipotesis\n"
   ]
  },
  {
   "cell_type": "markdown",
   "metadata": {},
   "source": [
    "**Apakah terdapat korelasi antara memiliki anak dengan membayar kembali tepat waktu?**"
   ]
  },
  {
   "cell_type": "code",
   "execution_count": 84,
   "metadata": {},
   "outputs": [
    {
     "data": {
      "text/plain": [
       "0    14272\n",
       "1     4818\n",
       "2     2055\n",
       "3      330\n",
       "4       41\n",
       "5        9\n",
       "Name: children, dtype: int64"
      ]
     },
     "execution_count": 84,
     "metadata": {},
     "output_type": "execute_result"
    }
   ],
   "source": [
    "# Periksa data anak dan membayar kembali dengan tepat waktu\n",
    "\n",
    "data['children'].value_counts() \n"
   ]
  },
  {
   "cell_type": "code",
   "execution_count": 85,
   "metadata": {
    "scrolled": true
   },
   "outputs": [
    {
     "data": {
      "text/html": [
       "<div>\n",
       "<style scoped>\n",
       "    .dataframe tbody tr th:only-of-type {\n",
       "        vertical-align: middle;\n",
       "    }\n",
       "\n",
       "    .dataframe tbody tr th {\n",
       "        vertical-align: top;\n",
       "    }\n",
       "\n",
       "    .dataframe thead th {\n",
       "        text-align: right;\n",
       "    }\n",
       "</style>\n",
       "<table border=\"1\" class=\"dataframe\">\n",
       "  <thead>\n",
       "    <tr style=\"text-align: right;\">\n",
       "      <th>debt</th>\n",
       "      <th>0</th>\n",
       "      <th>1</th>\n",
       "      <th>percent</th>\n",
       "    </tr>\n",
       "    <tr>\n",
       "      <th>children</th>\n",
       "      <th></th>\n",
       "      <th></th>\n",
       "      <th></th>\n",
       "    </tr>\n",
       "  </thead>\n",
       "  <tbody>\n",
       "    <tr>\n",
       "      <th>0</th>\n",
       "      <td>13200.0</td>\n",
       "      <td>1072.0</td>\n",
       "      <td>7.511211</td>\n",
       "    </tr>\n",
       "    <tr>\n",
       "      <th>1</th>\n",
       "      <td>4374.0</td>\n",
       "      <td>444.0</td>\n",
       "      <td>9.215442</td>\n",
       "    </tr>\n",
       "    <tr>\n",
       "      <th>2</th>\n",
       "      <td>1861.0</td>\n",
       "      <td>194.0</td>\n",
       "      <td>9.440389</td>\n",
       "    </tr>\n",
       "    <tr>\n",
       "      <th>3</th>\n",
       "      <td>303.0</td>\n",
       "      <td>27.0</td>\n",
       "      <td>8.181818</td>\n",
       "    </tr>\n",
       "    <tr>\n",
       "      <th>4</th>\n",
       "      <td>37.0</td>\n",
       "      <td>4.0</td>\n",
       "      <td>9.756098</td>\n",
       "    </tr>\n",
       "    <tr>\n",
       "      <th>5</th>\n",
       "      <td>9.0</td>\n",
       "      <td>NaN</td>\n",
       "      <td>NaN</td>\n",
       "    </tr>\n",
       "  </tbody>\n",
       "</table>\n",
       "</div>"
      ],
      "text/plain": [
       "debt            0       1   percent\n",
       "children                           \n",
       "0         13200.0  1072.0  7.511211\n",
       "1          4374.0   444.0  9.215442\n",
       "2          1861.0   194.0  9.440389\n",
       "3           303.0    27.0  8.181818\n",
       "4            37.0     4.0  9.756098\n",
       "5             9.0     NaN       NaN"
      ]
     },
     "execution_count": 85,
     "metadata": {},
     "output_type": "execute_result"
    }
   ],
   "source": [
    "# Menghitung tarif otomatis berdasarkan jumlah anak\n",
    "\n",
    "children_debt = data.pivot_table(index='children', columns= 'debt', values= 'debt_probability', aggfunc= 'count')\n",
    "children_debt['percent'] = children_debt[1]/ (children_debt[0] + children_debt[1]) * 100\n",
    "children_debt"
   ]
  },
  {
   "cell_type": "markdown",
   "metadata": {},
   "source": [
    "**Kesimpulan**\n",
    "\n",
    "[Tulis kesimpulan Anda berdasarkan manipulasi dan pengamatan Anda.]\n",
    "\n",
    "- Semakin banyak anak semakin besar presentase untuk melunasi hutang \n"
   ]
  },
  {
   "cell_type": "markdown",
   "metadata": {},
   "source": [
    "**Apakah terdapat korelasi antara status keluarga dengan membayar kembali tepat waktu?**"
   ]
  },
  {
   "cell_type": "code",
   "execution_count": 86,
   "metadata": {},
   "outputs": [
    {
     "data": {
      "text/html": [
       "<div>\n",
       "<style scoped>\n",
       "    .dataframe tbody tr th:only-of-type {\n",
       "        vertical-align: middle;\n",
       "    }\n",
       "\n",
       "    .dataframe tbody tr th {\n",
       "        vertical-align: top;\n",
       "    }\n",
       "\n",
       "    .dataframe thead th {\n",
       "        text-align: right;\n",
       "    }\n",
       "</style>\n",
       "<table border=\"1\" class=\"dataframe\">\n",
       "  <thead>\n",
       "    <tr style=\"text-align: right;\">\n",
       "      <th></th>\n",
       "      <th>family_status</th>\n",
       "      <th>debt</th>\n",
       "    </tr>\n",
       "  </thead>\n",
       "  <tbody>\n",
       "    <tr>\n",
       "      <th>0</th>\n",
       "      <td>married</td>\n",
       "      <td>0</td>\n",
       "    </tr>\n",
       "    <tr>\n",
       "      <th>1</th>\n",
       "      <td>married</td>\n",
       "      <td>0</td>\n",
       "    </tr>\n",
       "    <tr>\n",
       "      <th>2</th>\n",
       "      <td>married</td>\n",
       "      <td>0</td>\n",
       "    </tr>\n",
       "    <tr>\n",
       "      <th>3</th>\n",
       "      <td>married</td>\n",
       "      <td>0</td>\n",
       "    </tr>\n",
       "    <tr>\n",
       "      <th>4</th>\n",
       "      <td>civil partnership</td>\n",
       "      <td>0</td>\n",
       "    </tr>\n",
       "    <tr>\n",
       "      <th>...</th>\n",
       "      <td>...</td>\n",
       "      <td>...</td>\n",
       "    </tr>\n",
       "    <tr>\n",
       "      <th>21520</th>\n",
       "      <td>civil partnership</td>\n",
       "      <td>0</td>\n",
       "    </tr>\n",
       "    <tr>\n",
       "      <th>21521</th>\n",
       "      <td>married</td>\n",
       "      <td>0</td>\n",
       "    </tr>\n",
       "    <tr>\n",
       "      <th>21522</th>\n",
       "      <td>civil partnership</td>\n",
       "      <td>1</td>\n",
       "    </tr>\n",
       "    <tr>\n",
       "      <th>21523</th>\n",
       "      <td>married</td>\n",
       "      <td>1</td>\n",
       "    </tr>\n",
       "    <tr>\n",
       "      <th>21524</th>\n",
       "      <td>married</td>\n",
       "      <td>0</td>\n",
       "    </tr>\n",
       "  </tbody>\n",
       "</table>\n",
       "<p>21525 rows × 2 columns</p>\n",
       "</div>"
      ],
      "text/plain": [
       "           family_status  debt\n",
       "0                married     0\n",
       "1                married     0\n",
       "2                married     0\n",
       "3                married     0\n",
       "4      civil partnership     0\n",
       "...                  ...   ...\n",
       "21520  civil partnership     0\n",
       "21521            married     0\n",
       "21522  civil partnership     1\n",
       "21523            married     1\n",
       "21524            married     0\n",
       "\n",
       "[21525 rows x 2 columns]"
      ]
     },
     "execution_count": 86,
     "metadata": {},
     "output_type": "execute_result"
    }
   ],
   "source": [
    "# Periksa data status keluarga dan membayar kembali dengan tepat waktu\n",
    "\n",
    "data[['family_status','debt']] \n"
   ]
  },
  {
   "cell_type": "code",
   "execution_count": 87,
   "metadata": {
    "scrolled": true
   },
   "outputs": [
    {
     "data": {
      "text/html": [
       "<div>\n",
       "<style scoped>\n",
       "    .dataframe tbody tr th:only-of-type {\n",
       "        vertical-align: middle;\n",
       "    }\n",
       "\n",
       "    .dataframe tbody tr th {\n",
       "        vertical-align: top;\n",
       "    }\n",
       "\n",
       "    .dataframe thead th {\n",
       "        text-align: right;\n",
       "    }\n",
       "</style>\n",
       "<table border=\"1\" class=\"dataframe\">\n",
       "  <thead>\n",
       "    <tr style=\"text-align: right;\">\n",
       "      <th>debt</th>\n",
       "      <th>0</th>\n",
       "      <th>1</th>\n",
       "      <th>percent</th>\n",
       "    </tr>\n",
       "    <tr>\n",
       "      <th>family_status</th>\n",
       "      <th></th>\n",
       "      <th></th>\n",
       "      <th></th>\n",
       "    </tr>\n",
       "  </thead>\n",
       "  <tbody>\n",
       "    <tr>\n",
       "      <th>civil partnership</th>\n",
       "      <td>3789</td>\n",
       "      <td>388</td>\n",
       "      <td>9.288963</td>\n",
       "    </tr>\n",
       "    <tr>\n",
       "      <th>divorced</th>\n",
       "      <td>1110</td>\n",
       "      <td>85</td>\n",
       "      <td>7.112971</td>\n",
       "    </tr>\n",
       "    <tr>\n",
       "      <th>married</th>\n",
       "      <td>11449</td>\n",
       "      <td>931</td>\n",
       "      <td>7.520194</td>\n",
       "    </tr>\n",
       "    <tr>\n",
       "      <th>unmarried</th>\n",
       "      <td>2539</td>\n",
       "      <td>274</td>\n",
       "      <td>9.740491</td>\n",
       "    </tr>\n",
       "    <tr>\n",
       "      <th>widow / widower</th>\n",
       "      <td>897</td>\n",
       "      <td>63</td>\n",
       "      <td>6.562500</td>\n",
       "    </tr>\n",
       "  </tbody>\n",
       "</table>\n",
       "</div>"
      ],
      "text/plain": [
       "debt                   0    1   percent\n",
       "family_status                          \n",
       "civil partnership   3789  388  9.288963\n",
       "divorced            1110   85  7.112971\n",
       "married            11449  931  7.520194\n",
       "unmarried           2539  274  9.740491\n",
       "widow / widower      897   63  6.562500"
      ]
     },
     "execution_count": 87,
     "metadata": {},
     "output_type": "execute_result"
    }
   ],
   "source": [
    "family_debt = data.pivot_table(index='family_status', columns= 'debt', values= 'debt_probability', aggfunc= 'count')\n",
    "family_debt['percent'] = family_debt[1]/ (family_debt[0] + family_debt[1]) * 100\n",
    "family_debt"
   ]
  },
  {
   "cell_type": "markdown",
   "metadata": {},
   "source": [
    "**Kesimpulan**\n",
    "\n",
    "[Tulis kesimpulan Anda berdasarkan manipulasi dan pengamatan Anda.]\n",
    "\n",
    "- Yang berstatus janda memiliki kemampuan bayar hutang lebih vesar dari pada family_status yang lain "
   ]
  },
  {
   "cell_type": "markdown",
   "metadata": {},
   "source": [
    "**Apakah terdapat korelasi antara tingkat pendapatan dengan membayar kembali tepat waktu?**"
   ]
  },
  {
   "cell_type": "code",
   "execution_count": 88,
   "metadata": {},
   "outputs": [
    {
     "data": {
      "text/html": [
       "<div>\n",
       "<style scoped>\n",
       "    .dataframe tbody tr th:only-of-type {\n",
       "        vertical-align: middle;\n",
       "    }\n",
       "\n",
       "    .dataframe tbody tr th {\n",
       "        vertical-align: top;\n",
       "    }\n",
       "\n",
       "    .dataframe thead th {\n",
       "        text-align: right;\n",
       "    }\n",
       "</style>\n",
       "<table border=\"1\" class=\"dataframe\">\n",
       "  <thead>\n",
       "    <tr style=\"text-align: right;\">\n",
       "      <th></th>\n",
       "      <th>total_income</th>\n",
       "      <th>categorical_total_income</th>\n",
       "      <th>debt</th>\n",
       "    </tr>\n",
       "  </thead>\n",
       "  <tbody>\n",
       "    <tr>\n",
       "      <th>0</th>\n",
       "      <td>40620.102</td>\n",
       "      <td>poor</td>\n",
       "      <td>0</td>\n",
       "    </tr>\n",
       "    <tr>\n",
       "      <th>1</th>\n",
       "      <td>17932.802</td>\n",
       "      <td>poor</td>\n",
       "      <td>0</td>\n",
       "    </tr>\n",
       "    <tr>\n",
       "      <th>2</th>\n",
       "      <td>23341.752</td>\n",
       "      <td>poor</td>\n",
       "      <td>0</td>\n",
       "    </tr>\n",
       "    <tr>\n",
       "      <th>3</th>\n",
       "      <td>42820.568</td>\n",
       "      <td>poor</td>\n",
       "      <td>0</td>\n",
       "    </tr>\n",
       "    <tr>\n",
       "      <th>4</th>\n",
       "      <td>25378.572</td>\n",
       "      <td>medium wealty</td>\n",
       "      <td>0</td>\n",
       "    </tr>\n",
       "    <tr>\n",
       "      <th>...</th>\n",
       "      <td>...</td>\n",
       "      <td>...</td>\n",
       "      <td>...</td>\n",
       "    </tr>\n",
       "    <tr>\n",
       "      <th>21520</th>\n",
       "      <td>35966.698</td>\n",
       "      <td>poor</td>\n",
       "      <td>0</td>\n",
       "    </tr>\n",
       "    <tr>\n",
       "      <th>21521</th>\n",
       "      <td>24959.969</td>\n",
       "      <td>medium wealty</td>\n",
       "      <td>0</td>\n",
       "    </tr>\n",
       "    <tr>\n",
       "      <th>21522</th>\n",
       "      <td>14347.610</td>\n",
       "      <td>poor</td>\n",
       "      <td>1</td>\n",
       "    </tr>\n",
       "    <tr>\n",
       "      <th>21523</th>\n",
       "      <td>39054.888</td>\n",
       "      <td>poor</td>\n",
       "      <td>1</td>\n",
       "    </tr>\n",
       "    <tr>\n",
       "      <th>21524</th>\n",
       "      <td>13127.587</td>\n",
       "      <td>poor</td>\n",
       "      <td>0</td>\n",
       "    </tr>\n",
       "  </tbody>\n",
       "</table>\n",
       "<p>21525 rows × 3 columns</p>\n",
       "</div>"
      ],
      "text/plain": [
       "       total_income categorical_total_income  debt\n",
       "0         40620.102                     poor     0\n",
       "1         17932.802                     poor     0\n",
       "2         23341.752                     poor     0\n",
       "3         42820.568                     poor     0\n",
       "4         25378.572            medium wealty     0\n",
       "...             ...                      ...   ...\n",
       "21520     35966.698                     poor     0\n",
       "21521     24959.969            medium wealty     0\n",
       "21522     14347.610                     poor     1\n",
       "21523     39054.888                     poor     1\n",
       "21524     13127.587                     poor     0\n",
       "\n",
       "[21525 rows x 3 columns]"
      ]
     },
     "execution_count": 88,
     "metadata": {},
     "output_type": "execute_result"
    }
   ],
   "source": [
    "data[['total_income','categorical_total_income','debt']]"
   ]
  },
  {
   "cell_type": "code",
   "execution_count": 89,
   "metadata": {
    "scrolled": true
   },
   "outputs": [
    {
     "data": {
      "text/html": [
       "<div>\n",
       "<style scoped>\n",
       "    .dataframe tbody tr th:only-of-type {\n",
       "        vertical-align: middle;\n",
       "    }\n",
       "\n",
       "    .dataframe tbody tr th {\n",
       "        vertical-align: top;\n",
       "    }\n",
       "\n",
       "    .dataframe thead th {\n",
       "        text-align: right;\n",
       "    }\n",
       "</style>\n",
       "<table border=\"1\" class=\"dataframe\">\n",
       "  <thead>\n",
       "    <tr style=\"text-align: right;\">\n",
       "      <th>debt</th>\n",
       "      <th>0</th>\n",
       "      <th>1</th>\n",
       "      <th>percent</th>\n",
       "    </tr>\n",
       "    <tr>\n",
       "      <th>categorical_total_income</th>\n",
       "      <th></th>\n",
       "      <th></th>\n",
       "      <th></th>\n",
       "    </tr>\n",
       "  </thead>\n",
       "  <tbody>\n",
       "    <tr>\n",
       "      <th>medium wealty</th>\n",
       "      <td>3040</td>\n",
       "      <td>165</td>\n",
       "      <td>5.148206</td>\n",
       "    </tr>\n",
       "    <tr>\n",
       "      <th>poor</th>\n",
       "      <td>16536</td>\n",
       "      <td>1570</td>\n",
       "      <td>8.671159</td>\n",
       "    </tr>\n",
       "    <tr>\n",
       "      <th>rich</th>\n",
       "      <td>208</td>\n",
       "      <td>6</td>\n",
       "      <td>2.803738</td>\n",
       "    </tr>\n",
       "  </tbody>\n",
       "</table>\n",
       "</div>"
      ],
      "text/plain": [
       "debt                          0     1   percent\n",
       "categorical_total_income                       \n",
       "medium wealty              3040   165  5.148206\n",
       "poor                      16536  1570  8.671159\n",
       "rich                        208     6  2.803738"
      ]
     },
     "execution_count": 89,
     "metadata": {},
     "output_type": "execute_result"
    }
   ],
   "source": [
    "# Menghitung tarif otomatis berdasarkan tingkat pendapatan\n",
    "\n",
    "income_debt = data.pivot_table(index='categorical_total_income', columns= 'debt', values= 'debt_probability', aggfunc= 'count')\n",
    "income_debt['percent'] = income_debt[1]/ (income_debt[0] + income_debt[1]) * 100\n",
    "income_debt"
   ]
  },
  {
   "cell_type": "markdown",
   "metadata": {},
   "source": [
    "**Kesimpulan**\n",
    "\n",
    "[Tulis kesimpulan Anda berdasarkan manipulasi dan pengamatan Anda.]\n",
    "\n",
    "- Dari pembuatan analisis [income_categorical] bisa membuat analyis baru untuk pembayaran kredit dengan paramater dari kolom ini "
   ]
  },
  {
   "cell_type": "markdown",
   "metadata": {},
   "source": [
    "**Bagaimana tujuan kredit memengaruhi tarif otomatis?**"
   ]
  },
  {
   "cell_type": "code",
   "execution_count": 80,
   "metadata": {},
   "outputs": [
    {
     "name": "stdout",
     "output_type": "stream",
     "text": [
      "      purpose_group  debt debt_probability\n",
      "0         buy house     0             pass\n",
      "1      car purchase     0             pass\n",
      "2         buy house     0             pass\n",
      "3         education     0             pass\n",
      "4           wedding     0             pass\n",
      "...             ...   ...              ...\n",
      "21448     buy house     0             pass\n",
      "21449  car purchase     0             pass\n",
      "21450  buy property     1             pass\n",
      "21451  car purchase     1             pass\n",
      "21452  car purchase     0             pass\n",
      "\n",
      "[21453 rows x 3 columns]\n"
     ]
    }
   ],
   "source": [
    "# Periksa persentase tarif otomatis untuk setiap tujuan kredit dan lakukan penganalisisan\n",
    "\n",
    "print(data[['purpose_group', 'debt','debt_probability']])"
   ]
  },
  {
   "cell_type": "code",
   "execution_count": 90,
   "metadata": {
    "scrolled": true
   },
   "outputs": [
    {
     "data": {
      "text/html": [
       "<div>\n",
       "<style scoped>\n",
       "    .dataframe tbody tr th:only-of-type {\n",
       "        vertical-align: middle;\n",
       "    }\n",
       "\n",
       "    .dataframe tbody tr th {\n",
       "        vertical-align: top;\n",
       "    }\n",
       "\n",
       "    .dataframe thead th {\n",
       "        text-align: right;\n",
       "    }\n",
       "</style>\n",
       "<table border=\"1\" class=\"dataframe\">\n",
       "  <thead>\n",
       "    <tr style=\"text-align: right;\">\n",
       "      <th>debt</th>\n",
       "      <th>0</th>\n",
       "      <th>1</th>\n",
       "      <th>percent</th>\n",
       "    </tr>\n",
       "    <tr>\n",
       "      <th>purpose_group</th>\n",
       "      <th></th>\n",
       "      <th></th>\n",
       "      <th></th>\n",
       "    </tr>\n",
       "  </thead>\n",
       "  <tbody>\n",
       "    <tr>\n",
       "      <th>buy house</th>\n",
       "      <td>6551</td>\n",
       "      <td>509</td>\n",
       "      <td>7.209632</td>\n",
       "    </tr>\n",
       "    <tr>\n",
       "      <th>buy property</th>\n",
       "      <td>1759</td>\n",
       "      <td>148</td>\n",
       "      <td>7.760881</td>\n",
       "    </tr>\n",
       "    <tr>\n",
       "      <th>car purchase</th>\n",
       "      <td>3912</td>\n",
       "      <td>403</td>\n",
       "      <td>9.339513</td>\n",
       "    </tr>\n",
       "    <tr>\n",
       "      <th>education</th>\n",
       "      <td>3652</td>\n",
       "      <td>370</td>\n",
       "      <td>9.199403</td>\n",
       "    </tr>\n",
       "    <tr>\n",
       "      <th>housing renovation</th>\n",
       "      <td>1748</td>\n",
       "      <td>125</td>\n",
       "      <td>6.673785</td>\n",
       "    </tr>\n",
       "    <tr>\n",
       "      <th>wedding</th>\n",
       "      <td>2162</td>\n",
       "      <td>186</td>\n",
       "      <td>7.921635</td>\n",
       "    </tr>\n",
       "  </tbody>\n",
       "</table>\n",
       "</div>"
      ],
      "text/plain": [
       "debt                   0    1   percent\n",
       "purpose_group                          \n",
       "buy house           6551  509  7.209632\n",
       "buy property        1759  148  7.760881\n",
       "car purchase        3912  403  9.339513\n",
       "education           3652  370  9.199403\n",
       "housing renovation  1748  125  6.673785\n",
       "wedding             2162  186  7.921635"
      ]
     },
     "execution_count": 90,
     "metadata": {},
     "output_type": "execute_result"
    }
   ],
   "source": [
    "# Periksa persentase tarif otomatis untuk setiap tujuan kredit dan lakukan penganalisisan\n",
    "\n",
    "purpose_debt = data.pivot_table(index='purpose_group', columns= 'debt', values= 'debt_probability', aggfunc= 'count')\n",
    "purpose_debt['percent'] = purpose_debt[1]/ (purpose_debt[0] + purpose_debt[1]) * 100\n",
    "purpose_debt\n"
   ]
  },
  {
   "cell_type": "markdown",
   "metadata": {},
   "source": [
    "**Kesimpulan**\n",
    "\n",
    "\n",
    "\n",
    "- Dari kesimpulan dengan menggunakan [value_counts] dari table [purpose] fungsi tersebut memperlihatkan pemberian kredit. dimana presentasi paling banyak adalah pembelian mobil second\n",
    "\n",
    "- Pembelian mobil second ada di atas 15 %\n",
    "\n",
    "- properti juga merupakan sektor yang banyak mendapatkan hasil dari pemberian kredit melebihi otomotif\n",
    "\n",
    "- begitu pula dengan pendidikan melebihi properti\n",
    "\n"
   ]
  },
  {
   "cell_type": "markdown",
   "metadata": {},
   "source": [
    "# Kesimpulan Umum \n",
    "\n",
    "\n",
    "- Dalam memberikan evaluasi kredit sebuah perusahaan untuk bisa memberikan kesimpulan apakah bisa memberikan pinjaman atau tidak di butuhkan evaluasi secara mendalam.\n",
    "\n",
    "- hal pertama yang bisa di lakukan adalah melihat data yang ada\n",
    "\n",
    "- mengetahui tipe data yang di dapatkan\n",
    "\n",
    "- melakukan pengecekan terhadap data yang ada dengan mengetahui nilai nilai yang unique dalam project ini data float yang mempunyai 'NaN'\n",
    "\n",
    "- outliner di [days_employed] banyak memiliki nilai minus\n",
    "    - Apa yang harus di lakukan jika memiliki nilai minus dalam kasus dalam perusahaan yang sebenarnyajika data tidak bisa di lakukan pengecekan langsung dari sumbernya?\n",
    "    \n",
    "- Kategori pendidikan yang memiliki value dengan penulisan berbeda beda mungkin bisa jadi masalah oleh karena itu di butuhkan perbaikan\n",
    "\n",
    "- [Gender] memiliki masalah yang harus di perbaiki dikarenakan ada jenis data yang salah \n",
    "\n",
    "- [days_employed] dan [total_income] memiliki menjadi bermasalah karena membutuhkan kategori di tambahan dalam kolom untuk di jadikan sebagai paramater untuk memudahkan menganalisis data \n",
    "\n",
    "    - dalam project ini [age_group,total_income_clean,debt_probability,income_categorical]\n",
    "    \n",
    "    - ada beberapa penambahan kolom dan tidak bisa di hapus karena walaupun fungsi [def] sudah di ganti dengan fungsi baru. tetap muncul di fungsi koding baru di tabel nya ? apakah bisa menghapus kolom ? apakah kolom bisa di pindahkan ?\n",
    "\n",
    "- Pengkategorian data di lakukan untuk bisa memberikan kemudahan dalam memilah data yang sudah di perbaiki dan membuat kategori baru untuk bisa memberikan pinjaman\n",
    "\n",
    "- memeriksa hipotesis untuk dapat memberikan gambaran pemberian kredit yang bermasalah atau tidak\n",
    "\n",
    "    - presentase bisa dilihat untuk dapat memberikan sebuah kemudahan dalam analysis data yang sudah di perbaiki\n",
    "    \n",
    "- dari hipotesis bisa memberikan analysis baru yang bisa di olah lagi untuk kredit baru dan berkelanjutan \n"
   ]
  },
  {
   "cell_type": "code",
   "execution_count": null,
   "metadata": {},
   "outputs": [],
   "source": []
  }
 ],
 "metadata": {
  "ExecuteTimeLog": [
   {
    "duration": 2741,
    "start_time": "2021-10-21T01:08:49.480Z"
   },
   {
    "duration": 52,
    "start_time": "2021-10-21T01:08:53.315Z"
   },
   {
    "duration": 49,
    "start_time": "2021-10-21T01:08:57.432Z"
   },
   {
    "duration": 70,
    "start_time": "2021-10-21T01:09:07.706Z"
   },
   {
    "duration": 848,
    "start_time": "2022-08-11T16:59:31.462Z"
   },
   {
    "duration": 588,
    "start_time": "2022-09-06T12:42:21.849Z"
   },
   {
    "duration": 18,
    "start_time": "2022-09-06T12:42:41.121Z"
   },
   {
    "duration": 13,
    "start_time": "2022-09-06T12:43:39.498Z"
   },
   {
    "duration": 4,
    "start_time": "2022-09-06T13:13:21.336Z"
   },
   {
    "duration": 11,
    "start_time": "2022-09-06T13:13:27.500Z"
   },
   {
    "duration": 16,
    "start_time": "2022-09-06T13:13:54.091Z"
   },
   {
    "duration": 15,
    "start_time": "2022-09-06T13:14:00.850Z"
   },
   {
    "duration": 50,
    "start_time": "2022-09-07T06:24:26.072Z"
   },
   {
    "duration": 680,
    "start_time": "2022-09-07T06:24:49.170Z"
   },
   {
    "duration": 10,
    "start_time": "2022-09-07T06:24:52.840Z"
   },
   {
    "duration": 20,
    "start_time": "2022-09-07T06:24:54.926Z"
   },
   {
    "duration": 15,
    "start_time": "2022-09-07T06:24:59.885Z"
   },
   {
    "duration": 21,
    "start_time": "2022-09-07T06:25:06.449Z"
   },
   {
    "duration": 32,
    "start_time": "2022-09-07T06:52:30.094Z"
   },
   {
    "duration": 12,
    "start_time": "2022-09-07T06:53:18.806Z"
   },
   {
    "duration": 13,
    "start_time": "2022-09-07T06:53:52.414Z"
   },
   {
    "duration": 23,
    "start_time": "2022-09-07T06:54:33.993Z"
   },
   {
    "duration": 7,
    "start_time": "2022-09-07T06:55:02.178Z"
   },
   {
    "duration": 8,
    "start_time": "2022-09-07T07:20:49.370Z"
   },
   {
    "duration": 7,
    "start_time": "2022-09-07T07:22:17.029Z"
   },
   {
    "duration": 8,
    "start_time": "2022-09-07T07:27:11.573Z"
   },
   {
    "duration": 7,
    "start_time": "2022-09-07T07:28:36.301Z"
   },
   {
    "duration": 11,
    "start_time": "2022-09-07T07:28:55.177Z"
   },
   {
    "duration": 7,
    "start_time": "2022-09-07T07:29:14.525Z"
   },
   {
    "duration": 8,
    "start_time": "2022-09-07T07:29:24.842Z"
   },
   {
    "duration": 8,
    "start_time": "2022-09-07T07:29:37.649Z"
   },
   {
    "duration": 7,
    "start_time": "2022-09-07T07:32:53.555Z"
   },
   {
    "duration": 9,
    "start_time": "2022-09-07T07:40:18.301Z"
   },
   {
    "duration": 7,
    "start_time": "2022-09-07T07:49:09.093Z"
   },
   {
    "duration": 4,
    "start_time": "2022-09-07T07:58:37.935Z"
   },
   {
    "duration": 21,
    "start_time": "2022-09-07T07:59:59.038Z"
   },
   {
    "duration": 16,
    "start_time": "2022-09-07T08:20:16.311Z"
   },
   {
    "duration": 10,
    "start_time": "2022-09-07T08:20:45.997Z"
   },
   {
    "duration": 10,
    "start_time": "2022-09-07T08:35:27.633Z"
   },
   {
    "duration": 11,
    "start_time": "2022-09-07T08:37:37.830Z"
   },
   {
    "duration": 6,
    "start_time": "2022-09-07T08:37:46.389Z"
   },
   {
    "duration": 8,
    "start_time": "2022-09-07T08:38:33.165Z"
   },
   {
    "duration": 5,
    "start_time": "2022-09-07T08:38:38.998Z"
   },
   {
    "duration": 5,
    "start_time": "2022-09-07T08:40:22.904Z"
   },
   {
    "duration": 5,
    "start_time": "2022-09-07T08:47:24.066Z"
   },
   {
    "duration": 13,
    "start_time": "2022-09-07T08:48:18.432Z"
   },
   {
    "duration": 11,
    "start_time": "2022-09-07T08:48:28.602Z"
   },
   {
    "duration": 2,
    "start_time": "2022-09-07T08:48:57.057Z"
   },
   {
    "duration": 5,
    "start_time": "2022-09-07T08:49:42.470Z"
   },
   {
    "duration": 7,
    "start_time": "2022-09-07T08:50:34.982Z"
   },
   {
    "duration": 4,
    "start_time": "2022-09-07T08:51:15.630Z"
   },
   {
    "duration": 5,
    "start_time": "2022-09-07T08:51:25.979Z"
   },
   {
    "duration": 6,
    "start_time": "2022-09-07T09:03:37.021Z"
   },
   {
    "duration": 4,
    "start_time": "2022-09-07T09:03:40.707Z"
   },
   {
    "duration": 623,
    "start_time": "2022-09-07T14:32:42.355Z"
   },
   {
    "duration": 11,
    "start_time": "2022-09-07T14:32:45.722Z"
   },
   {
    "duration": 15,
    "start_time": "2022-09-07T14:32:49.405Z"
   },
   {
    "duration": 15,
    "start_time": "2022-09-07T14:32:54.105Z"
   },
   {
    "duration": 22,
    "start_time": "2022-09-07T14:32:59.079Z"
   },
   {
    "duration": 11,
    "start_time": "2022-09-07T14:33:36.046Z"
   },
   {
    "duration": 71,
    "start_time": "2022-09-07T15:02:41.434Z"
   },
   {
    "duration": 67,
    "start_time": "2022-09-07T15:02:50.506Z"
   },
   {
    "duration": 56,
    "start_time": "2022-09-07T15:03:00.899Z"
   },
   {
    "duration": 4,
    "start_time": "2022-09-07T15:03:04.674Z"
   },
   {
    "duration": 12,
    "start_time": "2022-09-07T15:03:07.800Z"
   },
   {
    "duration": 16,
    "start_time": "2022-09-07T15:03:11.192Z"
   },
   {
    "duration": 24,
    "start_time": "2022-09-07T15:03:16.082Z"
   },
   {
    "duration": 9,
    "start_time": "2022-09-07T15:03:21.634Z"
   },
   {
    "duration": 9,
    "start_time": "2022-09-07T15:03:28.076Z"
   },
   {
    "duration": 3,
    "start_time": "2022-09-07T15:03:32.320Z"
   },
   {
    "duration": 56,
    "start_time": "2022-09-07T15:12:05.852Z"
   },
   {
    "duration": 5,
    "start_time": "2022-09-07T15:12:05.910Z"
   },
   {
    "duration": 15,
    "start_time": "2022-09-07T15:12:05.917Z"
   },
   {
    "duration": 16,
    "start_time": "2022-09-07T15:12:05.934Z"
   },
   {
    "duration": 35,
    "start_time": "2022-09-07T15:12:05.952Z"
   },
   {
    "duration": 13,
    "start_time": "2022-09-07T15:12:05.989Z"
   },
   {
    "duration": 10,
    "start_time": "2022-09-07T15:12:06.003Z"
   },
   {
    "duration": 5,
    "start_time": "2022-09-07T15:12:06.015Z"
   },
   {
    "duration": 5,
    "start_time": "2022-09-07T15:12:06.022Z"
   },
   {
    "duration": 39,
    "start_time": "2022-09-07T15:12:06.029Z"
   },
   {
    "duration": 3,
    "start_time": "2022-09-07T15:12:06.070Z"
   },
   {
    "duration": 5,
    "start_time": "2022-09-07T15:12:06.075Z"
   },
   {
    "duration": 4,
    "start_time": "2022-09-07T15:12:06.082Z"
   },
   {
    "duration": 4,
    "start_time": "2022-09-07T15:12:06.089Z"
   },
   {
    "duration": 6,
    "start_time": "2022-09-07T15:12:06.095Z"
   },
   {
    "duration": 5,
    "start_time": "2022-09-07T15:12:06.102Z"
   },
   {
    "duration": 6,
    "start_time": "2022-09-07T15:12:06.108Z"
   },
   {
    "duration": 5,
    "start_time": "2022-09-07T15:12:06.115Z"
   },
   {
    "duration": 6,
    "start_time": "2022-09-07T15:12:06.122Z"
   },
   {
    "duration": 37,
    "start_time": "2022-09-07T15:12:06.130Z"
   },
   {
    "duration": 6,
    "start_time": "2022-09-07T15:12:06.169Z"
   },
   {
    "duration": 6,
    "start_time": "2022-09-07T15:12:06.177Z"
   },
   {
    "duration": 7,
    "start_time": "2022-09-07T15:12:06.184Z"
   },
   {
    "duration": 6,
    "start_time": "2022-09-07T15:12:06.193Z"
   },
   {
    "duration": 3,
    "start_time": "2022-09-07T15:12:06.202Z"
   },
   {
    "duration": 5,
    "start_time": "2022-09-07T15:12:06.206Z"
   },
   {
    "duration": 6,
    "start_time": "2022-09-07T15:12:06.213Z"
   },
   {
    "duration": 8,
    "start_time": "2022-09-07T15:12:06.220Z"
   },
   {
    "duration": 6,
    "start_time": "2022-09-07T15:12:06.229Z"
   },
   {
    "duration": 4,
    "start_time": "2022-09-07T15:12:06.237Z"
   },
   {
    "duration": 5,
    "start_time": "2022-09-07T15:12:06.243Z"
   },
   {
    "duration": 17,
    "start_time": "2022-09-07T15:12:06.250Z"
   },
   {
    "duration": 2,
    "start_time": "2022-09-07T15:12:06.269Z"
   },
   {
    "duration": 6,
    "start_time": "2022-09-07T15:12:06.272Z"
   },
   {
    "duration": 5,
    "start_time": "2022-09-07T15:12:06.279Z"
   },
   {
    "duration": 4,
    "start_time": "2022-09-07T15:12:06.285Z"
   },
   {
    "duration": 8,
    "start_time": "2022-09-07T15:12:06.291Z"
   },
   {
    "duration": 5,
    "start_time": "2022-09-07T15:12:06.301Z"
   },
   {
    "duration": 5,
    "start_time": "2022-09-07T15:12:06.307Z"
   },
   {
    "duration": 5,
    "start_time": "2022-09-07T15:12:06.313Z"
   },
   {
    "duration": 4,
    "start_time": "2022-09-07T15:12:06.320Z"
   },
   {
    "duration": 5,
    "start_time": "2022-09-07T15:12:06.325Z"
   },
   {
    "duration": 3,
    "start_time": "2022-09-07T15:12:06.333Z"
   },
   {
    "duration": 3,
    "start_time": "2022-09-07T15:12:06.369Z"
   },
   {
    "duration": 7,
    "start_time": "2022-09-07T15:12:06.373Z"
   },
   {
    "duration": 5,
    "start_time": "2022-09-07T15:12:06.382Z"
   },
   {
    "duration": 6,
    "start_time": "2022-09-07T15:12:06.388Z"
   },
   {
    "duration": 6,
    "start_time": "2022-09-07T15:12:06.396Z"
   },
   {
    "duration": 5,
    "start_time": "2022-09-07T15:12:06.403Z"
   },
   {
    "duration": 8,
    "start_time": "2022-09-07T15:12:06.410Z"
   },
   {
    "duration": 5,
    "start_time": "2022-09-07T15:12:06.420Z"
   },
   {
    "duration": 5,
    "start_time": "2022-09-07T15:12:06.427Z"
   },
   {
    "duration": 24,
    "start_time": "2022-09-07T15:12:06.433Z"
   },
   {
    "duration": 17,
    "start_time": "2022-09-07T15:12:06.459Z"
   },
   {
    "duration": 23,
    "start_time": "2022-09-07T15:12:06.477Z"
   },
   {
    "duration": 30,
    "start_time": "2022-09-07T15:12:06.502Z"
   },
   {
    "duration": 11,
    "start_time": "2022-09-07T15:12:06.534Z"
   },
   {
    "duration": 17,
    "start_time": "2022-09-07T15:12:06.547Z"
   },
   {
    "duration": 11,
    "start_time": "2022-09-07T15:12:06.566Z"
   },
   {
    "duration": 28,
    "start_time": "2022-09-07T15:12:06.580Z"
   },
   {
    "duration": 24,
    "start_time": "2022-09-07T15:12:06.610Z"
   },
   {
    "duration": 16,
    "start_time": "2022-09-07T15:12:06.638Z"
   },
   {
    "duration": 23,
    "start_time": "2022-09-07T15:12:06.656Z"
   },
   {
    "duration": 21,
    "start_time": "2022-09-07T15:12:06.681Z"
   },
   {
    "duration": 19,
    "start_time": "2022-09-07T15:12:06.704Z"
   },
   {
    "duration": 15,
    "start_time": "2022-09-07T15:12:06.725Z"
   },
   {
    "duration": 23,
    "start_time": "2022-09-07T15:12:06.741Z"
   },
   {
    "duration": 6,
    "start_time": "2022-09-07T15:12:06.767Z"
   },
   {
    "duration": 7,
    "start_time": "2022-09-07T15:12:06.775Z"
   },
   {
    "duration": 11,
    "start_time": "2022-09-07T15:12:06.784Z"
   },
   {
    "duration": 4,
    "start_time": "2022-09-07T15:12:06.798Z"
   },
   {
    "duration": 7,
    "start_time": "2022-09-07T15:22:00.505Z"
   },
   {
    "duration": 101,
    "start_time": "2022-09-07T15:37:31.109Z"
   },
   {
    "duration": 95,
    "start_time": "2022-09-07T15:37:44.174Z"
   },
   {
    "duration": 11,
    "start_time": "2022-09-07T15:37:52.722Z"
   },
   {
    "duration": 80,
    "start_time": "2022-09-07T15:38:26.158Z"
   },
   {
    "duration": 77,
    "start_time": "2022-09-07T15:39:04.779Z"
   },
   {
    "duration": 2733,
    "start_time": "2022-09-07T15:40:25.672Z"
   },
   {
    "duration": 10,
    "start_time": "2022-09-07T15:41:52.886Z"
   },
   {
    "duration": 5,
    "start_time": "2022-09-07T15:59:58.613Z"
   },
   {
    "duration": 4,
    "start_time": "2022-09-07T16:22:24.959Z"
   },
   {
    "duration": 5,
    "start_time": "2022-09-07T16:35:20.739Z"
   },
   {
    "duration": 595,
    "start_time": "2022-09-08T06:39:17.563Z"
   },
   {
    "duration": 9,
    "start_time": "2022-09-08T06:39:18.160Z"
   },
   {
    "duration": 16,
    "start_time": "2022-09-08T06:39:18.170Z"
   },
   {
    "duration": 14,
    "start_time": "2022-09-08T06:39:18.189Z"
   },
   {
    "duration": 20,
    "start_time": "2022-09-08T06:39:18.205Z"
   },
   {
    "duration": 9,
    "start_time": "2022-09-08T06:39:18.227Z"
   },
   {
    "duration": 12,
    "start_time": "2022-09-08T06:39:18.238Z"
   },
   {
    "duration": 36,
    "start_time": "2022-09-08T06:39:18.252Z"
   },
   {
    "duration": 10,
    "start_time": "2022-09-08T06:39:18.290Z"
   },
   {
    "duration": 3,
    "start_time": "2022-09-08T06:39:18.304Z"
   },
   {
    "duration": 6,
    "start_time": "2022-09-08T06:39:18.309Z"
   },
   {
    "duration": 6,
    "start_time": "2022-09-08T06:39:18.317Z"
   },
   {
    "duration": 5,
    "start_time": "2022-09-08T06:39:18.324Z"
   },
   {
    "duration": 4,
    "start_time": "2022-09-08T06:39:18.331Z"
   },
   {
    "duration": 5,
    "start_time": "2022-09-08T06:39:18.337Z"
   },
   {
    "duration": 4,
    "start_time": "2022-09-08T06:39:18.344Z"
   },
   {
    "duration": 5,
    "start_time": "2022-09-08T06:39:18.350Z"
   },
   {
    "duration": 7,
    "start_time": "2022-09-08T06:39:18.357Z"
   },
   {
    "duration": 21,
    "start_time": "2022-09-08T06:39:18.366Z"
   },
   {
    "duration": 5,
    "start_time": "2022-09-08T06:39:18.390Z"
   },
   {
    "duration": 6,
    "start_time": "2022-09-08T06:39:18.396Z"
   },
   {
    "duration": 6,
    "start_time": "2022-09-08T06:39:18.404Z"
   },
   {
    "duration": 5,
    "start_time": "2022-09-08T06:39:18.411Z"
   },
   {
    "duration": 8,
    "start_time": "2022-09-08T06:39:18.417Z"
   },
   {
    "duration": 18,
    "start_time": "2022-09-08T06:39:18.426Z"
   },
   {
    "duration": 10,
    "start_time": "2022-09-08T06:39:18.447Z"
   },
   {
    "duration": 6,
    "start_time": "2022-09-08T06:39:18.458Z"
   },
   {
    "duration": 5,
    "start_time": "2022-09-08T06:39:18.467Z"
   },
   {
    "duration": 10,
    "start_time": "2022-09-08T06:39:18.473Z"
   },
   {
    "duration": 6,
    "start_time": "2022-09-08T06:39:18.484Z"
   },
   {
    "duration": 5,
    "start_time": "2022-09-08T06:39:18.492Z"
   },
   {
    "duration": 6,
    "start_time": "2022-09-08T06:39:18.498Z"
   },
   {
    "duration": 6,
    "start_time": "2022-09-08T06:39:18.506Z"
   },
   {
    "duration": 5,
    "start_time": "2022-09-08T06:39:18.513Z"
   },
   {
    "duration": 6,
    "start_time": "2022-09-08T06:39:18.520Z"
   },
   {
    "duration": 6,
    "start_time": "2022-09-08T06:39:18.528Z"
   },
   {
    "duration": 6,
    "start_time": "2022-09-08T06:39:18.535Z"
   },
   {
    "duration": 9,
    "start_time": "2022-09-08T06:39:18.544Z"
   },
   {
    "duration": 7,
    "start_time": "2022-09-08T06:39:18.555Z"
   },
   {
    "duration": 7,
    "start_time": "2022-09-08T06:39:18.564Z"
   },
   {
    "duration": 6,
    "start_time": "2022-09-08T06:39:18.572Z"
   },
   {
    "duration": 11,
    "start_time": "2022-09-08T06:39:18.579Z"
   },
   {
    "duration": 6,
    "start_time": "2022-09-08T06:39:18.591Z"
   },
   {
    "duration": 6,
    "start_time": "2022-09-08T06:39:18.598Z"
   },
   {
    "duration": 13,
    "start_time": "2022-09-08T06:39:18.605Z"
   },
   {
    "duration": 7,
    "start_time": "2022-09-08T06:39:18.619Z"
   },
   {
    "duration": 3,
    "start_time": "2022-09-08T06:39:18.702Z"
   },
   {
    "duration": 6,
    "start_time": "2022-09-08T06:39:18.708Z"
   },
   {
    "duration": 6,
    "start_time": "2022-09-08T06:39:18.716Z"
   },
   {
    "duration": 4,
    "start_time": "2022-09-08T06:39:18.724Z"
   },
   {
    "duration": 6,
    "start_time": "2022-09-08T06:39:18.730Z"
   },
   {
    "duration": 6,
    "start_time": "2022-09-08T06:39:18.738Z"
   },
   {
    "duration": 6,
    "start_time": "2022-09-08T06:39:18.745Z"
   },
   {
    "duration": 5,
    "start_time": "2022-09-08T06:39:18.753Z"
   },
   {
    "duration": 8,
    "start_time": "2022-09-08T06:39:18.760Z"
   },
   {
    "duration": 9,
    "start_time": "2022-09-08T06:39:18.770Z"
   },
   {
    "duration": 3,
    "start_time": "2022-09-08T06:39:18.922Z"
   },
   {
    "duration": 15,
    "start_time": "2022-09-08T06:39:18.927Z"
   },
   {
    "duration": 10,
    "start_time": "2022-09-08T06:39:18.943Z"
   },
   {
    "duration": 5,
    "start_time": "2022-09-08T06:39:18.955Z"
   },
   {
    "duration": 5,
    "start_time": "2022-09-08T06:39:18.962Z"
   },
   {
    "duration": 6,
    "start_time": "2022-09-08T06:39:18.968Z"
   },
   {
    "duration": 3,
    "start_time": "2022-09-08T06:39:18.981Z"
   },
   {
    "duration": 11,
    "start_time": "2022-09-08T06:39:18.986Z"
   },
   {
    "duration": 6,
    "start_time": "2022-09-08T06:39:18.999Z"
   },
   {
    "duration": 3,
    "start_time": "2022-09-08T06:39:19.143Z"
   },
   {
    "duration": 6,
    "start_time": "2022-09-08T06:39:19.148Z"
   },
   {
    "duration": 6,
    "start_time": "2022-09-08T06:39:19.155Z"
   },
   {
    "duration": 5,
    "start_time": "2022-09-08T06:39:19.164Z"
   },
   {
    "duration": 9,
    "start_time": "2022-09-08T06:39:19.170Z"
   },
   {
    "duration": 7,
    "start_time": "2022-09-08T06:39:19.181Z"
   },
   {
    "duration": 18,
    "start_time": "2022-09-08T06:56:33.540Z"
   },
   {
    "duration": 9560,
    "start_time": "2022-09-08T06:59:03.335Z"
   },
   {
    "duration": 5,
    "start_time": "2022-09-08T08:10:15.879Z"
   },
   {
    "duration": 50,
    "start_time": "2022-09-08T08:53:20.875Z"
   },
   {
    "duration": 55,
    "start_time": "2022-09-08T08:53:27.267Z"
   },
   {
    "duration": 70,
    "start_time": "2022-09-08T08:53:37.562Z"
   },
   {
    "duration": 88,
    "start_time": "2022-09-08T08:55:10.630Z"
   },
   {
    "duration": 78,
    "start_time": "2022-09-08T08:55:26.726Z"
   },
   {
    "duration": 48,
    "start_time": "2022-09-08T08:55:34.080Z"
   },
   {
    "duration": 55,
    "start_time": "2022-09-08T08:55:58.166Z"
   },
   {
    "duration": 143,
    "start_time": "2022-09-08T08:56:21.977Z"
   },
   {
    "duration": 57,
    "start_time": "2022-09-08T08:56:32.349Z"
   },
   {
    "duration": 42,
    "start_time": "2022-09-08T08:58:36.314Z"
   },
   {
    "duration": 48,
    "start_time": "2022-09-08T08:59:21.816Z"
   },
   {
    "duration": 52,
    "start_time": "2022-09-08T08:59:27.503Z"
   },
   {
    "duration": 3,
    "start_time": "2022-09-08T08:59:36.837Z"
   },
   {
    "duration": 100,
    "start_time": "2022-09-08T08:59:45.729Z"
   },
   {
    "duration": 105,
    "start_time": "2022-09-08T09:01:25.148Z"
   },
   {
    "duration": 657,
    "start_time": "2022-09-08T12:45:59.250Z"
   },
   {
    "duration": 8,
    "start_time": "2022-09-08T12:45:59.909Z"
   },
   {
    "duration": 15,
    "start_time": "2022-09-08T12:45:59.919Z"
   },
   {
    "duration": 15,
    "start_time": "2022-09-08T12:45:59.935Z"
   },
   {
    "duration": 18,
    "start_time": "2022-09-08T12:45:59.952Z"
   },
   {
    "duration": 7,
    "start_time": "2022-09-08T12:45:59.971Z"
   },
   {
    "duration": 36,
    "start_time": "2022-09-08T12:45:59.980Z"
   },
   {
    "duration": 31,
    "start_time": "2022-09-08T12:46:00.018Z"
   },
   {
    "duration": 8813,
    "start_time": "2022-09-08T12:46:00.050Z"
   },
   {
    "duration": 49,
    "start_time": "2022-09-08T12:46:08.864Z"
   },
   {
    "duration": 0,
    "start_time": "2022-09-08T12:46:08.915Z"
   },
   {
    "duration": 0,
    "start_time": "2022-09-08T12:46:08.916Z"
   },
   {
    "duration": 0,
    "start_time": "2022-09-08T12:46:08.917Z"
   },
   {
    "duration": 0,
    "start_time": "2022-09-08T12:46:08.918Z"
   },
   {
    "duration": 0,
    "start_time": "2022-09-08T12:46:08.919Z"
   },
   {
    "duration": 0,
    "start_time": "2022-09-08T12:46:08.919Z"
   },
   {
    "duration": 0,
    "start_time": "2022-09-08T12:46:08.920Z"
   },
   {
    "duration": 0,
    "start_time": "2022-09-08T12:46:08.922Z"
   },
   {
    "duration": 0,
    "start_time": "2022-09-08T12:46:08.923Z"
   },
   {
    "duration": 0,
    "start_time": "2022-09-08T12:46:08.923Z"
   },
   {
    "duration": 0,
    "start_time": "2022-09-08T12:46:08.925Z"
   },
   {
    "duration": 0,
    "start_time": "2022-09-08T12:46:08.925Z"
   },
   {
    "duration": 0,
    "start_time": "2022-09-08T12:46:08.926Z"
   },
   {
    "duration": 0,
    "start_time": "2022-09-08T12:46:08.928Z"
   },
   {
    "duration": 0,
    "start_time": "2022-09-08T12:46:08.929Z"
   },
   {
    "duration": 0,
    "start_time": "2022-09-08T12:46:08.930Z"
   },
   {
    "duration": 0,
    "start_time": "2022-09-08T12:46:08.931Z"
   },
   {
    "duration": 0,
    "start_time": "2022-09-08T12:46:08.932Z"
   },
   {
    "duration": 0,
    "start_time": "2022-09-08T12:46:08.932Z"
   },
   {
    "duration": 0,
    "start_time": "2022-09-08T12:46:08.933Z"
   },
   {
    "duration": 0,
    "start_time": "2022-09-08T12:46:08.934Z"
   },
   {
    "duration": 0,
    "start_time": "2022-09-08T12:46:08.935Z"
   },
   {
    "duration": 0,
    "start_time": "2022-09-08T12:46:08.935Z"
   },
   {
    "duration": 0,
    "start_time": "2022-09-08T12:46:08.936Z"
   },
   {
    "duration": 0,
    "start_time": "2022-09-08T12:46:08.937Z"
   },
   {
    "duration": 0,
    "start_time": "2022-09-08T12:46:08.938Z"
   },
   {
    "duration": 0,
    "start_time": "2022-09-08T12:46:08.938Z"
   },
   {
    "duration": 0,
    "start_time": "2022-09-08T12:46:08.939Z"
   },
   {
    "duration": 0,
    "start_time": "2022-09-08T12:46:08.940Z"
   },
   {
    "duration": 0,
    "start_time": "2022-09-08T12:46:08.940Z"
   },
   {
    "duration": 0,
    "start_time": "2022-09-08T12:46:08.941Z"
   },
   {
    "duration": 0,
    "start_time": "2022-09-08T12:46:08.942Z"
   },
   {
    "duration": 0,
    "start_time": "2022-09-08T12:46:08.943Z"
   },
   {
    "duration": 0,
    "start_time": "2022-09-08T12:46:08.944Z"
   },
   {
    "duration": 0,
    "start_time": "2022-09-08T12:46:08.944Z"
   },
   {
    "duration": 0,
    "start_time": "2022-09-08T12:46:08.945Z"
   },
   {
    "duration": 0,
    "start_time": "2022-09-08T12:46:08.946Z"
   },
   {
    "duration": 0,
    "start_time": "2022-09-08T12:46:08.946Z"
   },
   {
    "duration": 0,
    "start_time": "2022-09-08T12:46:08.947Z"
   },
   {
    "duration": 0,
    "start_time": "2022-09-08T12:46:08.948Z"
   },
   {
    "duration": 0,
    "start_time": "2022-09-08T12:46:08.948Z"
   },
   {
    "duration": 0,
    "start_time": "2022-09-08T12:46:08.949Z"
   },
   {
    "duration": 0,
    "start_time": "2022-09-08T12:46:08.950Z"
   },
   {
    "duration": 0,
    "start_time": "2022-09-08T12:46:08.950Z"
   },
   {
    "duration": 0,
    "start_time": "2022-09-08T12:46:09.009Z"
   },
   {
    "duration": 0,
    "start_time": "2022-09-08T12:46:09.010Z"
   },
   {
    "duration": 0,
    "start_time": "2022-09-08T12:46:09.011Z"
   },
   {
    "duration": 0,
    "start_time": "2022-09-08T12:46:09.012Z"
   },
   {
    "duration": 0,
    "start_time": "2022-09-08T12:46:09.013Z"
   },
   {
    "duration": 0,
    "start_time": "2022-09-08T12:46:09.014Z"
   },
   {
    "duration": 0,
    "start_time": "2022-09-08T12:46:09.014Z"
   },
   {
    "duration": 0,
    "start_time": "2022-09-08T12:46:09.015Z"
   },
   {
    "duration": 0,
    "start_time": "2022-09-08T12:46:09.016Z"
   },
   {
    "duration": 0,
    "start_time": "2022-09-08T12:46:09.017Z"
   },
   {
    "duration": 0,
    "start_time": "2022-09-08T12:46:09.017Z"
   },
   {
    "duration": 0,
    "start_time": "2022-09-08T12:46:09.018Z"
   },
   {
    "duration": 0,
    "start_time": "2022-09-08T12:46:09.019Z"
   },
   {
    "duration": 0,
    "start_time": "2022-09-08T12:46:09.020Z"
   },
   {
    "duration": 0,
    "start_time": "2022-09-08T12:46:09.021Z"
   },
   {
    "duration": 0,
    "start_time": "2022-09-08T12:46:09.022Z"
   },
   {
    "duration": 0,
    "start_time": "2022-09-08T12:46:09.023Z"
   },
   {
    "duration": 0,
    "start_time": "2022-09-08T12:46:09.024Z"
   },
   {
    "duration": 55,
    "start_time": "2022-09-08T12:46:19.503Z"
   },
   {
    "duration": 54,
    "start_time": "2022-09-08T12:55:49.282Z"
   },
   {
    "duration": 78,
    "start_time": "2022-09-08T13:02:09.834Z"
   },
   {
    "duration": 4,
    "start_time": "2022-09-08T13:02:22.539Z"
   },
   {
    "duration": 8,
    "start_time": "2022-09-08T13:02:33.455Z"
   },
   {
    "duration": 20,
    "start_time": "2022-09-08T13:02:38.656Z"
   },
   {
    "duration": 12,
    "start_time": "2022-09-08T13:02:41.971Z"
   },
   {
    "duration": 11,
    "start_time": "2022-09-08T13:02:45.039Z"
   },
   {
    "duration": 3,
    "start_time": "2022-09-08T13:02:47.492Z"
   },
   {
    "duration": 55,
    "start_time": "2022-09-08T13:02:51.522Z"
   },
   {
    "duration": 8,
    "start_time": "2022-09-08T13:04:02.292Z"
   },
   {
    "duration": 7,
    "start_time": "2022-09-08T13:04:29.710Z"
   },
   {
    "duration": 457,
    "start_time": "2022-09-08T13:07:25.288Z"
   },
   {
    "duration": 7,
    "start_time": "2022-09-08T13:07:41.192Z"
   },
   {
    "duration": 8697,
    "start_time": "2022-09-08T13:11:40.665Z"
   },
   {
    "duration": 3,
    "start_time": "2022-09-08T13:11:49.364Z"
   },
   {
    "duration": 9,
    "start_time": "2022-09-08T13:11:53.699Z"
   },
   {
    "duration": 7,
    "start_time": "2022-09-08T13:12:05.798Z"
   },
   {
    "duration": 17,
    "start_time": "2022-09-08T13:12:09.847Z"
   },
   {
    "duration": 13,
    "start_time": "2022-09-08T13:12:13.512Z"
   },
   {
    "duration": 10,
    "start_time": "2022-09-08T13:12:16.656Z"
   },
   {
    "duration": 4,
    "start_time": "2022-09-08T13:12:19.280Z"
   },
   {
    "duration": 55,
    "start_time": "2022-09-08T13:12:24.710Z"
   },
   {
    "duration": 8,
    "start_time": "2022-09-08T13:16:27.185Z"
   },
   {
    "duration": 5,
    "start_time": "2022-09-08T13:16:51.143Z"
   },
   {
    "duration": 4,
    "start_time": "2022-09-08T13:17:48.061Z"
   },
   {
    "duration": 4,
    "start_time": "2022-09-08T13:40:50.651Z"
   },
   {
    "duration": 11,
    "start_time": "2022-09-08T13:41:37.647Z"
   },
   {
    "duration": 3,
    "start_time": "2022-09-08T13:59:52.352Z"
   },
   {
    "duration": 3,
    "start_time": "2022-09-08T14:00:04.837Z"
   },
   {
    "duration": 5,
    "start_time": "2022-09-08T14:00:37.085Z"
   },
   {
    "duration": 4,
    "start_time": "2022-09-08T14:02:26.182Z"
   },
   {
    "duration": 5,
    "start_time": "2022-09-08T14:02:28.994Z"
   },
   {
    "duration": 3,
    "start_time": "2022-09-08T14:03:24.903Z"
   },
   {
    "duration": 5,
    "start_time": "2022-09-08T14:03:26.103Z"
   },
   {
    "duration": 4,
    "start_time": "2022-09-08T14:17:15.716Z"
   },
   {
    "duration": 5,
    "start_time": "2022-09-08T14:17:18.982Z"
   },
   {
    "duration": 3,
    "start_time": "2022-09-08T14:18:06.621Z"
   },
   {
    "duration": 4,
    "start_time": "2022-09-08T14:18:09.352Z"
   },
   {
    "duration": 3,
    "start_time": "2022-09-08T14:22:25.794Z"
   },
   {
    "duration": 5,
    "start_time": "2022-09-08T14:22:28.277Z"
   },
   {
    "duration": 5,
    "start_time": "2022-09-08T14:56:44.474Z"
   },
   {
    "duration": 4,
    "start_time": "2022-09-08T14:56:46.230Z"
   },
   {
    "duration": 12,
    "start_time": "2022-09-08T14:59:47.213Z"
   },
   {
    "duration": 7,
    "start_time": "2022-09-08T15:06:06.756Z"
   },
   {
    "duration": 7,
    "start_time": "2022-09-08T15:06:08.162Z"
   },
   {
    "duration": 8,
    "start_time": "2022-09-08T15:06:43.483Z"
   },
   {
    "duration": 6,
    "start_time": "2022-09-08T15:06:44.542Z"
   },
   {
    "duration": 4,
    "start_time": "2022-09-08T15:07:19.576Z"
   },
   {
    "duration": 6,
    "start_time": "2022-09-08T15:07:20.542Z"
   },
   {
    "duration": 48,
    "start_time": "2022-09-08T15:11:30.794Z"
   },
   {
    "duration": 61,
    "start_time": "2022-09-08T15:11:37.328Z"
   },
   {
    "duration": 1199,
    "start_time": "2022-09-08T15:11:44.647Z"
   },
   {
    "duration": 4,
    "start_time": "2022-09-08T15:11:46.320Z"
   },
   {
    "duration": 72,
    "start_time": "2022-09-08T15:23:38.885Z"
   },
   {
    "duration": 223,
    "start_time": "2022-09-08T15:24:12.402Z"
   },
   {
    "duration": 75,
    "start_time": "2022-09-08T15:24:20.590Z"
   },
   {
    "duration": 92,
    "start_time": "2022-09-08T15:25:26.394Z"
   },
   {
    "duration": 11,
    "start_time": "2022-09-08T15:28:56.357Z"
   },
   {
    "duration": 10,
    "start_time": "2022-09-08T15:34:07.159Z"
   },
   {
    "duration": 7,
    "start_time": "2022-09-08T15:37:13.891Z"
   },
   {
    "duration": 8,
    "start_time": "2022-09-08T15:37:33.409Z"
   },
   {
    "duration": 4,
    "start_time": "2022-09-08T15:37:35.196Z"
   },
   {
    "duration": 4,
    "start_time": "2022-09-08T15:39:26.755Z"
   },
   {
    "duration": 4,
    "start_time": "2022-09-08T15:39:28.521Z"
   },
   {
    "duration": 24,
    "start_time": "2022-09-08T15:55:47.558Z"
   },
   {
    "duration": 4,
    "start_time": "2022-09-08T16:00:39.445Z"
   },
   {
    "duration": 23,
    "start_time": "2022-09-08T16:23:16.059Z"
   },
   {
    "duration": 23,
    "start_time": "2022-09-08T16:23:37.453Z"
   },
   {
    "duration": 6,
    "start_time": "2022-09-08T16:29:39.496Z"
   },
   {
    "duration": 7,
    "start_time": "2022-09-08T16:33:04.450Z"
   },
   {
    "duration": 769,
    "start_time": "2022-09-11T13:34:58.849Z"
   },
   {
    "duration": 8,
    "start_time": "2022-09-11T13:34:59.620Z"
   },
   {
    "duration": 28,
    "start_time": "2022-09-11T13:34:59.630Z"
   },
   {
    "duration": 15,
    "start_time": "2022-09-11T13:34:59.660Z"
   },
   {
    "duration": 21,
    "start_time": "2022-09-11T13:34:59.677Z"
   },
   {
    "duration": 27,
    "start_time": "2022-09-11T13:34:59.700Z"
   },
   {
    "duration": 10,
    "start_time": "2022-09-11T13:34:59.728Z"
   },
   {
    "duration": 4,
    "start_time": "2022-09-11T13:34:59.740Z"
   },
   {
    "duration": 10123,
    "start_time": "2022-09-11T13:34:59.747Z"
   },
   {
    "duration": 78,
    "start_time": "2022-09-11T13:35:09.873Z"
   },
   {
    "duration": 0,
    "start_time": "2022-09-11T13:35:09.954Z"
   },
   {
    "duration": 0,
    "start_time": "2022-09-11T13:35:09.955Z"
   },
   {
    "duration": 0,
    "start_time": "2022-09-11T13:35:09.956Z"
   },
   {
    "duration": 0,
    "start_time": "2022-09-11T13:35:09.958Z"
   },
   {
    "duration": 0,
    "start_time": "2022-09-11T13:35:09.959Z"
   },
   {
    "duration": 0,
    "start_time": "2022-09-11T13:35:09.960Z"
   },
   {
    "duration": 0,
    "start_time": "2022-09-11T13:35:09.961Z"
   },
   {
    "duration": 0,
    "start_time": "2022-09-11T13:35:09.962Z"
   },
   {
    "duration": 0,
    "start_time": "2022-09-11T13:35:09.963Z"
   },
   {
    "duration": 0,
    "start_time": "2022-09-11T13:35:09.964Z"
   },
   {
    "duration": 0,
    "start_time": "2022-09-11T13:35:09.965Z"
   },
   {
    "duration": 0,
    "start_time": "2022-09-11T13:35:09.967Z"
   },
   {
    "duration": 0,
    "start_time": "2022-09-11T13:35:09.968Z"
   },
   {
    "duration": 0,
    "start_time": "2022-09-11T13:35:09.969Z"
   },
   {
    "duration": 0,
    "start_time": "2022-09-11T13:35:09.970Z"
   },
   {
    "duration": 0,
    "start_time": "2022-09-11T13:35:09.971Z"
   },
   {
    "duration": 0,
    "start_time": "2022-09-11T13:35:09.973Z"
   },
   {
    "duration": 0,
    "start_time": "2022-09-11T13:35:09.974Z"
   },
   {
    "duration": 0,
    "start_time": "2022-09-11T13:35:09.976Z"
   },
   {
    "duration": 0,
    "start_time": "2022-09-11T13:35:09.977Z"
   },
   {
    "duration": 0,
    "start_time": "2022-09-11T13:35:09.978Z"
   },
   {
    "duration": 0,
    "start_time": "2022-09-11T13:35:09.979Z"
   },
   {
    "duration": 0,
    "start_time": "2022-09-11T13:35:09.980Z"
   },
   {
    "duration": 0,
    "start_time": "2022-09-11T13:35:09.981Z"
   },
   {
    "duration": 0,
    "start_time": "2022-09-11T13:35:09.982Z"
   },
   {
    "duration": 0,
    "start_time": "2022-09-11T13:35:09.983Z"
   },
   {
    "duration": 0,
    "start_time": "2022-09-11T13:35:09.985Z"
   },
   {
    "duration": 0,
    "start_time": "2022-09-11T13:35:09.986Z"
   },
   {
    "duration": 0,
    "start_time": "2022-09-11T13:35:09.987Z"
   },
   {
    "duration": 0,
    "start_time": "2022-09-11T13:35:09.988Z"
   },
   {
    "duration": 0,
    "start_time": "2022-09-11T13:35:09.990Z"
   },
   {
    "duration": 0,
    "start_time": "2022-09-11T13:35:09.991Z"
   },
   {
    "duration": 0,
    "start_time": "2022-09-11T13:35:10.021Z"
   },
   {
    "duration": 0,
    "start_time": "2022-09-11T13:35:10.022Z"
   },
   {
    "duration": 0,
    "start_time": "2022-09-11T13:35:10.023Z"
   },
   {
    "duration": 0,
    "start_time": "2022-09-11T13:35:10.024Z"
   },
   {
    "duration": 0,
    "start_time": "2022-09-11T13:35:10.026Z"
   },
   {
    "duration": 0,
    "start_time": "2022-09-11T13:35:10.026Z"
   },
   {
    "duration": 0,
    "start_time": "2022-09-11T13:35:10.028Z"
   },
   {
    "duration": 0,
    "start_time": "2022-09-11T13:35:10.029Z"
   },
   {
    "duration": 0,
    "start_time": "2022-09-11T13:35:10.030Z"
   },
   {
    "duration": 0,
    "start_time": "2022-09-11T13:35:10.031Z"
   },
   {
    "duration": 0,
    "start_time": "2022-09-11T13:35:10.033Z"
   },
   {
    "duration": 0,
    "start_time": "2022-09-11T13:35:10.034Z"
   },
   {
    "duration": 0,
    "start_time": "2022-09-11T13:35:10.035Z"
   },
   {
    "duration": 0,
    "start_time": "2022-09-11T13:35:10.037Z"
   },
   {
    "duration": 0,
    "start_time": "2022-09-11T13:35:10.038Z"
   },
   {
    "duration": 0,
    "start_time": "2022-09-11T13:35:10.039Z"
   },
   {
    "duration": 0,
    "start_time": "2022-09-11T13:35:10.041Z"
   },
   {
    "duration": 0,
    "start_time": "2022-09-11T13:35:10.042Z"
   },
   {
    "duration": 0,
    "start_time": "2022-09-11T13:35:10.043Z"
   },
   {
    "duration": 0,
    "start_time": "2022-09-11T13:35:10.044Z"
   },
   {
    "duration": 0,
    "start_time": "2022-09-11T13:35:10.045Z"
   },
   {
    "duration": 0,
    "start_time": "2022-09-11T13:35:10.046Z"
   },
   {
    "duration": 0,
    "start_time": "2022-09-11T13:35:10.047Z"
   },
   {
    "duration": 0,
    "start_time": "2022-09-11T13:35:10.048Z"
   },
   {
    "duration": 0,
    "start_time": "2022-09-11T13:35:10.049Z"
   },
   {
    "duration": 0,
    "start_time": "2022-09-11T13:35:10.050Z"
   },
   {
    "duration": 0,
    "start_time": "2022-09-11T13:35:10.051Z"
   },
   {
    "duration": 0,
    "start_time": "2022-09-11T13:35:10.052Z"
   },
   {
    "duration": 0,
    "start_time": "2022-09-11T13:35:10.054Z"
   },
   {
    "duration": 6,
    "start_time": "2022-09-11T13:35:18.410Z"
   },
   {
    "duration": 58,
    "start_time": "2022-09-11T13:35:25.058Z"
   },
   {
    "duration": 4,
    "start_time": "2022-09-11T13:35:25.118Z"
   },
   {
    "duration": 19,
    "start_time": "2022-09-11T13:35:25.123Z"
   },
   {
    "duration": 19,
    "start_time": "2022-09-11T13:35:25.143Z"
   },
   {
    "duration": 19,
    "start_time": "2022-09-11T13:35:25.164Z"
   },
   {
    "duration": 36,
    "start_time": "2022-09-11T13:35:25.185Z"
   },
   {
    "duration": 9,
    "start_time": "2022-09-11T13:35:25.223Z"
   },
   {
    "duration": 4,
    "start_time": "2022-09-11T13:35:25.234Z"
   },
   {
    "duration": 9788,
    "start_time": "2022-09-11T13:35:25.239Z"
   },
   {
    "duration": 46,
    "start_time": "2022-09-11T13:35:35.030Z"
   },
   {
    "duration": 1,
    "start_time": "2022-09-11T13:35:35.079Z"
   },
   {
    "duration": 0,
    "start_time": "2022-09-11T13:35:35.081Z"
   },
   {
    "duration": 0,
    "start_time": "2022-09-11T13:35:35.082Z"
   },
   {
    "duration": 0,
    "start_time": "2022-09-11T13:35:35.083Z"
   },
   {
    "duration": 0,
    "start_time": "2022-09-11T13:35:35.084Z"
   },
   {
    "duration": 0,
    "start_time": "2022-09-11T13:35:35.085Z"
   },
   {
    "duration": 0,
    "start_time": "2022-09-11T13:35:35.086Z"
   },
   {
    "duration": 0,
    "start_time": "2022-09-11T13:35:35.087Z"
   },
   {
    "duration": 0,
    "start_time": "2022-09-11T13:35:35.088Z"
   },
   {
    "duration": 0,
    "start_time": "2022-09-11T13:35:35.090Z"
   },
   {
    "duration": 0,
    "start_time": "2022-09-11T13:35:35.091Z"
   },
   {
    "duration": 0,
    "start_time": "2022-09-11T13:35:35.093Z"
   },
   {
    "duration": 0,
    "start_time": "2022-09-11T13:35:35.094Z"
   },
   {
    "duration": 0,
    "start_time": "2022-09-11T13:35:35.096Z"
   },
   {
    "duration": 0,
    "start_time": "2022-09-11T13:35:35.097Z"
   },
   {
    "duration": 0,
    "start_time": "2022-09-11T13:35:35.099Z"
   },
   {
    "duration": 0,
    "start_time": "2022-09-11T13:35:35.101Z"
   },
   {
    "duration": 0,
    "start_time": "2022-09-11T13:35:35.102Z"
   },
   {
    "duration": 0,
    "start_time": "2022-09-11T13:35:35.105Z"
   },
   {
    "duration": 0,
    "start_time": "2022-09-11T13:35:35.106Z"
   },
   {
    "duration": 0,
    "start_time": "2022-09-11T13:35:35.121Z"
   },
   {
    "duration": 0,
    "start_time": "2022-09-11T13:35:35.122Z"
   },
   {
    "duration": 0,
    "start_time": "2022-09-11T13:35:35.124Z"
   },
   {
    "duration": 0,
    "start_time": "2022-09-11T13:35:35.125Z"
   },
   {
    "duration": 0,
    "start_time": "2022-09-11T13:35:35.127Z"
   },
   {
    "duration": 0,
    "start_time": "2022-09-11T13:35:35.128Z"
   },
   {
    "duration": 0,
    "start_time": "2022-09-11T13:35:35.130Z"
   },
   {
    "duration": 0,
    "start_time": "2022-09-11T13:35:35.131Z"
   },
   {
    "duration": 0,
    "start_time": "2022-09-11T13:35:35.132Z"
   },
   {
    "duration": 0,
    "start_time": "2022-09-11T13:35:35.134Z"
   },
   {
    "duration": 0,
    "start_time": "2022-09-11T13:35:35.135Z"
   },
   {
    "duration": 0,
    "start_time": "2022-09-11T13:35:35.136Z"
   },
   {
    "duration": 0,
    "start_time": "2022-09-11T13:35:35.138Z"
   },
   {
    "duration": 0,
    "start_time": "2022-09-11T13:35:35.139Z"
   },
   {
    "duration": 0,
    "start_time": "2022-09-11T13:35:35.141Z"
   },
   {
    "duration": 0,
    "start_time": "2022-09-11T13:35:35.142Z"
   },
   {
    "duration": 0,
    "start_time": "2022-09-11T13:35:35.143Z"
   },
   {
    "duration": 0,
    "start_time": "2022-09-11T13:35:35.145Z"
   },
   {
    "duration": 0,
    "start_time": "2022-09-11T13:35:35.146Z"
   },
   {
    "duration": 0,
    "start_time": "2022-09-11T13:35:35.148Z"
   },
   {
    "duration": 0,
    "start_time": "2022-09-11T13:35:35.149Z"
   },
   {
    "duration": 0,
    "start_time": "2022-09-11T13:35:35.151Z"
   },
   {
    "duration": 0,
    "start_time": "2022-09-11T13:35:35.152Z"
   },
   {
    "duration": 0,
    "start_time": "2022-09-11T13:35:35.154Z"
   },
   {
    "duration": 0,
    "start_time": "2022-09-11T13:35:35.155Z"
   },
   {
    "duration": 0,
    "start_time": "2022-09-11T13:35:35.156Z"
   },
   {
    "duration": 0,
    "start_time": "2022-09-11T13:35:35.158Z"
   },
   {
    "duration": 0,
    "start_time": "2022-09-11T13:35:35.159Z"
   },
   {
    "duration": 0,
    "start_time": "2022-09-11T13:35:35.221Z"
   },
   {
    "duration": 0,
    "start_time": "2022-09-11T13:35:35.223Z"
   },
   {
    "duration": 0,
    "start_time": "2022-09-11T13:35:35.224Z"
   },
   {
    "duration": 0,
    "start_time": "2022-09-11T13:35:35.226Z"
   },
   {
    "duration": 0,
    "start_time": "2022-09-11T13:35:35.227Z"
   },
   {
    "duration": 0,
    "start_time": "2022-09-11T13:35:35.229Z"
   },
   {
    "duration": 0,
    "start_time": "2022-09-11T13:35:35.233Z"
   },
   {
    "duration": 0,
    "start_time": "2022-09-11T13:35:35.234Z"
   },
   {
    "duration": 0,
    "start_time": "2022-09-11T13:35:35.235Z"
   },
   {
    "duration": 0,
    "start_time": "2022-09-11T13:35:35.236Z"
   },
   {
    "duration": 0,
    "start_time": "2022-09-11T13:35:35.237Z"
   },
   {
    "duration": 0,
    "start_time": "2022-09-11T13:35:35.238Z"
   },
   {
    "duration": 0,
    "start_time": "2022-09-11T13:35:35.239Z"
   },
   {
    "duration": 7,
    "start_time": "2022-09-11T13:35:59.807Z"
   },
   {
    "duration": 9,
    "start_time": "2022-09-11T13:36:03.740Z"
   },
   {
    "duration": 5,
    "start_time": "2022-09-11T13:36:08.008Z"
   },
   {
    "duration": 4,
    "start_time": "2022-09-11T13:36:16.990Z"
   },
   {
    "duration": 8,
    "start_time": "2022-09-11T13:37:10.871Z"
   },
   {
    "duration": 6,
    "start_time": "2022-09-11T13:40:48.750Z"
   },
   {
    "duration": 6,
    "start_time": "2022-09-11T13:41:06.875Z"
   },
   {
    "duration": 4,
    "start_time": "2022-09-11T13:57:09.368Z"
   },
   {
    "duration": 5,
    "start_time": "2022-09-11T13:57:36.686Z"
   },
   {
    "duration": 3,
    "start_time": "2022-09-11T13:57:59.206Z"
   },
   {
    "duration": 53,
    "start_time": "2022-09-11T13:58:08.037Z"
   },
   {
    "duration": 5,
    "start_time": "2022-09-11T13:58:15.734Z"
   },
   {
    "duration": 4,
    "start_time": "2022-09-11T13:58:36.691Z"
   },
   {
    "duration": 52,
    "start_time": "2022-09-11T13:59:18.156Z"
   },
   {
    "duration": 64,
    "start_time": "2022-09-11T14:00:51.242Z"
   },
   {
    "duration": 8,
    "start_time": "2022-09-11T14:01:02.275Z"
   },
   {
    "duration": 52,
    "start_time": "2022-09-11T14:05:48.536Z"
   },
   {
    "duration": 6,
    "start_time": "2022-09-11T14:07:29.508Z"
   },
   {
    "duration": 14,
    "start_time": "2022-09-11T14:07:40.811Z"
   },
   {
    "duration": 5,
    "start_time": "2022-09-11T14:08:15.992Z"
   },
   {
    "duration": 3,
    "start_time": "2022-09-11T14:09:07.470Z"
   },
   {
    "duration": 51,
    "start_time": "2022-09-11T14:09:23.619Z"
   },
   {
    "duration": 4,
    "start_time": "2022-09-11T14:09:30.818Z"
   },
   {
    "duration": 54,
    "start_time": "2022-09-11T14:09:38.733Z"
   },
   {
    "duration": 9,
    "start_time": "2022-09-11T14:10:42.237Z"
   },
   {
    "duration": 7,
    "start_time": "2022-09-11T14:10:50.360Z"
   },
   {
    "duration": 5,
    "start_time": "2022-09-11T14:36:17.667Z"
   },
   {
    "duration": 12,
    "start_time": "2022-09-11T14:36:33.152Z"
   },
   {
    "duration": 8,
    "start_time": "2022-09-11T14:36:55.946Z"
   },
   {
    "duration": 8,
    "start_time": "2022-09-11T14:37:03.543Z"
   },
   {
    "duration": 52,
    "start_time": "2022-09-11T14:39:44.515Z"
   },
   {
    "duration": 65,
    "start_time": "2022-09-11T14:40:37.690Z"
   },
   {
    "duration": 41,
    "start_time": "2022-09-11T14:41:07.743Z"
   },
   {
    "duration": 8,
    "start_time": "2022-09-11T14:42:09.718Z"
   },
   {
    "duration": 9,
    "start_time": "2022-09-11T15:00:37.032Z"
   },
   {
    "duration": 5,
    "start_time": "2022-09-11T15:00:45.361Z"
   },
   {
    "duration": 7,
    "start_time": "2022-09-11T15:00:55.671Z"
   },
   {
    "duration": 7,
    "start_time": "2022-09-11T15:01:00.844Z"
   },
   {
    "duration": 7,
    "start_time": "2022-09-11T15:03:37.225Z"
   },
   {
    "duration": 17,
    "start_time": "2022-09-11T15:17:30.290Z"
   },
   {
    "duration": 19,
    "start_time": "2022-09-11T15:21:51.275Z"
   },
   {
    "duration": 18,
    "start_time": "2022-09-11T15:21:58.446Z"
   },
   {
    "duration": 21,
    "start_time": "2022-09-11T15:25:01.838Z"
   },
   {
    "duration": 648,
    "start_time": "2022-09-12T06:18:52.262Z"
   },
   {
    "duration": 15,
    "start_time": "2022-09-12T06:18:56.181Z"
   },
   {
    "duration": 15,
    "start_time": "2022-09-12T06:19:00.423Z"
   },
   {
    "duration": 20,
    "start_time": "2022-09-12T06:19:04.190Z"
   },
   {
    "duration": 10,
    "start_time": "2022-09-12T06:19:07.625Z"
   },
   {
    "duration": 10,
    "start_time": "2022-09-12T06:19:11.637Z"
   },
   {
    "duration": 4,
    "start_time": "2022-09-12T06:19:14.755Z"
   },
   {
    "duration": 8962,
    "start_time": "2022-09-12T06:19:19.998Z"
   },
   {
    "duration": 5,
    "start_time": "2022-09-12T06:19:30.676Z"
   },
   {
    "duration": 8,
    "start_time": "2022-09-12T06:19:34.623Z"
   },
   {
    "duration": 6,
    "start_time": "2022-09-12T06:19:38.050Z"
   },
   {
    "duration": 4,
    "start_time": "2022-09-12T06:19:42.300Z"
   },
   {
    "duration": 4,
    "start_time": "2022-09-12T06:19:53.553Z"
   },
   {
    "duration": 4,
    "start_time": "2022-09-12T06:19:56.253Z"
   },
   {
    "duration": 9,
    "start_time": "2022-09-12T06:20:05.431Z"
   },
   {
    "duration": 6,
    "start_time": "2022-09-12T06:20:09.665Z"
   },
   {
    "duration": 7,
    "start_time": "2022-09-12T06:20:13.995Z"
   },
   {
    "duration": 7,
    "start_time": "2022-09-12T06:20:48.701Z"
   },
   {
    "duration": 6,
    "start_time": "2022-09-12T06:20:55.146Z"
   },
   {
    "duration": 6,
    "start_time": "2022-09-12T06:21:01.361Z"
   },
   {
    "duration": 10,
    "start_time": "2022-09-12T06:21:10.216Z"
   },
   {
    "duration": 6,
    "start_time": "2022-09-12T06:22:37.607Z"
   },
   {
    "duration": 5,
    "start_time": "2022-09-12T06:22:43.696Z"
   },
   {
    "duration": 16,
    "start_time": "2022-09-12T06:22:56.355Z"
   },
   {
    "duration": 18,
    "start_time": "2022-09-12T06:22:58.632Z"
   },
   {
    "duration": 16,
    "start_time": "2022-09-12T06:23:00.840Z"
   },
   {
    "duration": 57,
    "start_time": "2022-09-12T06:39:11.164Z"
   },
   {
    "duration": 4,
    "start_time": "2022-09-12T06:39:17.636Z"
   },
   {
    "duration": 192,
    "start_time": "2022-09-12T06:41:49.739Z"
   },
   {
    "duration": 67,
    "start_time": "2022-09-12T06:42:01.954Z"
   },
   {
    "duration": 47,
    "start_time": "2022-09-12T06:42:07.968Z"
   },
   {
    "duration": 47,
    "start_time": "2022-09-12T06:42:22.426Z"
   },
   {
    "duration": 49,
    "start_time": "2022-09-12T06:42:56.761Z"
   },
   {
    "duration": 56,
    "start_time": "2022-09-12T06:43:32.896Z"
   },
   {
    "duration": 3,
    "start_time": "2022-09-12T06:43:32.954Z"
   },
   {
    "duration": 13,
    "start_time": "2022-09-12T06:43:32.959Z"
   },
   {
    "duration": 15,
    "start_time": "2022-09-12T06:43:32.974Z"
   },
   {
    "duration": 19,
    "start_time": "2022-09-12T06:43:32.991Z"
   },
   {
    "duration": 25,
    "start_time": "2022-09-12T06:43:33.012Z"
   },
   {
    "duration": 8,
    "start_time": "2022-09-12T06:43:33.039Z"
   },
   {
    "duration": 4,
    "start_time": "2022-09-12T06:43:33.048Z"
   },
   {
    "duration": 9222,
    "start_time": "2022-09-12T06:43:33.053Z"
   },
   {
    "duration": 44,
    "start_time": "2022-09-12T06:43:42.277Z"
   },
   {
    "duration": 0,
    "start_time": "2022-09-12T06:43:42.324Z"
   },
   {
    "duration": 0,
    "start_time": "2022-09-12T06:43:42.325Z"
   },
   {
    "duration": 1,
    "start_time": "2022-09-12T06:43:42.326Z"
   },
   {
    "duration": 0,
    "start_time": "2022-09-12T06:43:42.327Z"
   },
   {
    "duration": 0,
    "start_time": "2022-09-12T06:43:42.329Z"
   },
   {
    "duration": 0,
    "start_time": "2022-09-12T06:43:42.330Z"
   },
   {
    "duration": 0,
    "start_time": "2022-09-12T06:43:42.331Z"
   },
   {
    "duration": 0,
    "start_time": "2022-09-12T06:43:42.333Z"
   },
   {
    "duration": 0,
    "start_time": "2022-09-12T06:43:42.334Z"
   },
   {
    "duration": 0,
    "start_time": "2022-09-12T06:43:42.337Z"
   },
   {
    "duration": 0,
    "start_time": "2022-09-12T06:43:42.338Z"
   },
   {
    "duration": 0,
    "start_time": "2022-09-12T06:43:42.339Z"
   },
   {
    "duration": 0,
    "start_time": "2022-09-12T06:43:42.341Z"
   },
   {
    "duration": 0,
    "start_time": "2022-09-12T06:43:42.342Z"
   },
   {
    "duration": 0,
    "start_time": "2022-09-12T06:43:42.343Z"
   },
   {
    "duration": 0,
    "start_time": "2022-09-12T06:43:42.344Z"
   },
   {
    "duration": 0,
    "start_time": "2022-09-12T06:43:42.345Z"
   },
   {
    "duration": 0,
    "start_time": "2022-09-12T06:43:42.346Z"
   },
   {
    "duration": 1,
    "start_time": "2022-09-12T06:43:42.347Z"
   },
   {
    "duration": 0,
    "start_time": "2022-09-12T06:43:42.348Z"
   },
   {
    "duration": 0,
    "start_time": "2022-09-12T06:43:42.349Z"
   },
   {
    "duration": 0,
    "start_time": "2022-09-12T06:43:42.350Z"
   },
   {
    "duration": 0,
    "start_time": "2022-09-12T06:43:42.351Z"
   },
   {
    "duration": 0,
    "start_time": "2022-09-12T06:43:42.351Z"
   },
   {
    "duration": 0,
    "start_time": "2022-09-12T06:43:42.352Z"
   },
   {
    "duration": 0,
    "start_time": "2022-09-12T06:43:42.353Z"
   },
   {
    "duration": 0,
    "start_time": "2022-09-12T06:43:42.354Z"
   },
   {
    "duration": 0,
    "start_time": "2022-09-12T06:43:42.355Z"
   },
   {
    "duration": 0,
    "start_time": "2022-09-12T06:43:42.355Z"
   },
   {
    "duration": 0,
    "start_time": "2022-09-12T06:43:42.356Z"
   },
   {
    "duration": 0,
    "start_time": "2022-09-12T06:43:42.357Z"
   },
   {
    "duration": 0,
    "start_time": "2022-09-12T06:43:42.358Z"
   },
   {
    "duration": 0,
    "start_time": "2022-09-12T06:43:42.359Z"
   },
   {
    "duration": 0,
    "start_time": "2022-09-12T06:43:42.359Z"
   },
   {
    "duration": 0,
    "start_time": "2022-09-12T06:43:42.360Z"
   },
   {
    "duration": 0,
    "start_time": "2022-09-12T06:43:42.361Z"
   },
   {
    "duration": 0,
    "start_time": "2022-09-12T06:43:42.362Z"
   },
   {
    "duration": 0,
    "start_time": "2022-09-12T06:43:42.362Z"
   },
   {
    "duration": 0,
    "start_time": "2022-09-12T06:43:42.363Z"
   },
   {
    "duration": 0,
    "start_time": "2022-09-12T06:43:42.364Z"
   },
   {
    "duration": 0,
    "start_time": "2022-09-12T06:43:42.365Z"
   },
   {
    "duration": 0,
    "start_time": "2022-09-12T06:43:42.366Z"
   },
   {
    "duration": 0,
    "start_time": "2022-09-12T06:43:42.366Z"
   },
   {
    "duration": 0,
    "start_time": "2022-09-12T06:43:42.367Z"
   },
   {
    "duration": 0,
    "start_time": "2022-09-12T06:43:42.368Z"
   },
   {
    "duration": 0,
    "start_time": "2022-09-12T06:43:42.369Z"
   },
   {
    "duration": 1,
    "start_time": "2022-09-12T06:43:42.369Z"
   },
   {
    "duration": 0,
    "start_time": "2022-09-12T06:43:42.370Z"
   },
   {
    "duration": 0,
    "start_time": "2022-09-12T06:43:42.371Z"
   },
   {
    "duration": 0,
    "start_time": "2022-09-12T06:43:42.372Z"
   },
   {
    "duration": 0,
    "start_time": "2022-09-12T06:43:42.437Z"
   },
   {
    "duration": 0,
    "start_time": "2022-09-12T06:43:42.438Z"
   },
   {
    "duration": 0,
    "start_time": "2022-09-12T06:43:42.439Z"
   },
   {
    "duration": 0,
    "start_time": "2022-09-12T06:43:42.440Z"
   },
   {
    "duration": 0,
    "start_time": "2022-09-12T06:43:42.441Z"
   },
   {
    "duration": 0,
    "start_time": "2022-09-12T06:43:42.442Z"
   },
   {
    "duration": 0,
    "start_time": "2022-09-12T06:43:42.443Z"
   },
   {
    "duration": 0,
    "start_time": "2022-09-12T06:43:42.444Z"
   },
   {
    "duration": 0,
    "start_time": "2022-09-12T06:43:42.445Z"
   },
   {
    "duration": 0,
    "start_time": "2022-09-12T06:43:42.446Z"
   },
   {
    "duration": 0,
    "start_time": "2022-09-12T06:43:42.447Z"
   },
   {
    "duration": 68,
    "start_time": "2022-09-12T06:43:45.388Z"
   },
   {
    "duration": 5,
    "start_time": "2022-09-12T06:44:01.216Z"
   },
   {
    "duration": 4,
    "start_time": "2022-09-12T06:58:42.153Z"
   },
   {
    "duration": 2,
    "start_time": "2022-09-12T06:59:07.976Z"
   },
   {
    "duration": 3,
    "start_time": "2022-09-12T09:32:50.874Z"
   },
   {
    "duration": 4,
    "start_time": "2022-09-12T09:35:47.261Z"
   },
   {
    "duration": 9,
    "start_time": "2022-09-12T09:37:43.265Z"
   },
   {
    "duration": 8,
    "start_time": "2022-09-12T09:38:09.064Z"
   },
   {
    "duration": 13,
    "start_time": "2022-09-12T09:38:16.591Z"
   },
   {
    "duration": 3,
    "start_time": "2022-09-12T09:41:02.834Z"
   },
   {
    "duration": 3,
    "start_time": "2022-09-12T09:41:03.914Z"
   },
   {
    "duration": 9,
    "start_time": "2022-09-12T09:41:05.154Z"
   },
   {
    "duration": 4,
    "start_time": "2022-09-12T09:41:18.226Z"
   },
   {
    "duration": 4,
    "start_time": "2022-09-12T09:41:19.129Z"
   },
   {
    "duration": 7,
    "start_time": "2022-09-12T09:41:20.113Z"
   },
   {
    "duration": 13,
    "start_time": "2022-09-12T09:41:21.338Z"
   },
   {
    "duration": 590,
    "start_time": "2022-09-12T12:43:49.917Z"
   },
   {
    "duration": 9,
    "start_time": "2022-09-12T12:43:50.509Z"
   },
   {
    "duration": 16,
    "start_time": "2022-09-12T12:43:50.520Z"
   },
   {
    "duration": 16,
    "start_time": "2022-09-12T12:43:50.538Z"
   },
   {
    "duration": 21,
    "start_time": "2022-09-12T12:43:50.555Z"
   },
   {
    "duration": 9,
    "start_time": "2022-09-12T12:43:50.578Z"
   },
   {
    "duration": 14,
    "start_time": "2022-09-12T12:43:50.589Z"
   },
   {
    "duration": 4,
    "start_time": "2022-09-12T12:43:50.605Z"
   },
   {
    "duration": 9592,
    "start_time": "2022-09-12T12:43:50.610Z"
   },
   {
    "duration": 162,
    "start_time": "2022-09-12T12:44:00.205Z"
   },
   {
    "duration": 0,
    "start_time": "2022-09-12T12:44:00.370Z"
   },
   {
    "duration": 0,
    "start_time": "2022-09-12T12:44:00.371Z"
   },
   {
    "duration": 0,
    "start_time": "2022-09-12T12:44:00.372Z"
   },
   {
    "duration": 0,
    "start_time": "2022-09-12T12:44:00.373Z"
   },
   {
    "duration": 0,
    "start_time": "2022-09-12T12:44:00.374Z"
   },
   {
    "duration": 0,
    "start_time": "2022-09-12T12:44:00.376Z"
   },
   {
    "duration": 0,
    "start_time": "2022-09-12T12:44:00.377Z"
   },
   {
    "duration": 0,
    "start_time": "2022-09-12T12:44:00.378Z"
   },
   {
    "duration": 0,
    "start_time": "2022-09-12T12:44:00.379Z"
   },
   {
    "duration": 0,
    "start_time": "2022-09-12T12:44:00.380Z"
   },
   {
    "duration": 0,
    "start_time": "2022-09-12T12:44:00.381Z"
   },
   {
    "duration": 0,
    "start_time": "2022-09-12T12:44:00.382Z"
   },
   {
    "duration": 0,
    "start_time": "2022-09-12T12:44:00.383Z"
   },
   {
    "duration": 0,
    "start_time": "2022-09-12T12:44:00.384Z"
   },
   {
    "duration": 0,
    "start_time": "2022-09-12T12:44:00.385Z"
   },
   {
    "duration": 0,
    "start_time": "2022-09-12T12:44:00.386Z"
   },
   {
    "duration": 1,
    "start_time": "2022-09-12T12:44:00.387Z"
   },
   {
    "duration": 0,
    "start_time": "2022-09-12T12:44:00.389Z"
   },
   {
    "duration": 0,
    "start_time": "2022-09-12T12:44:00.390Z"
   },
   {
    "duration": 0,
    "start_time": "2022-09-12T12:44:00.391Z"
   },
   {
    "duration": 0,
    "start_time": "2022-09-12T12:44:00.392Z"
   },
   {
    "duration": 0,
    "start_time": "2022-09-12T12:44:00.394Z"
   },
   {
    "duration": 0,
    "start_time": "2022-09-12T12:44:00.394Z"
   },
   {
    "duration": 0,
    "start_time": "2022-09-12T12:44:00.396Z"
   },
   {
    "duration": 0,
    "start_time": "2022-09-12T12:44:00.397Z"
   },
   {
    "duration": 0,
    "start_time": "2022-09-12T12:44:00.398Z"
   },
   {
    "duration": 0,
    "start_time": "2022-09-12T12:44:00.399Z"
   },
   {
    "duration": 0,
    "start_time": "2022-09-12T12:44:00.400Z"
   },
   {
    "duration": 0,
    "start_time": "2022-09-12T12:44:00.401Z"
   },
   {
    "duration": 0,
    "start_time": "2022-09-12T12:44:00.403Z"
   },
   {
    "duration": 0,
    "start_time": "2022-09-12T12:44:00.404Z"
   },
   {
    "duration": 0,
    "start_time": "2022-09-12T12:44:00.405Z"
   },
   {
    "duration": 0,
    "start_time": "2022-09-12T12:44:00.447Z"
   },
   {
    "duration": 0,
    "start_time": "2022-09-12T12:44:00.449Z"
   },
   {
    "duration": 0,
    "start_time": "2022-09-12T12:44:00.451Z"
   },
   {
    "duration": 0,
    "start_time": "2022-09-12T12:44:00.452Z"
   },
   {
    "duration": 0,
    "start_time": "2022-09-12T12:44:00.453Z"
   },
   {
    "duration": 0,
    "start_time": "2022-09-12T12:44:00.454Z"
   },
   {
    "duration": 0,
    "start_time": "2022-09-12T12:44:00.455Z"
   },
   {
    "duration": 0,
    "start_time": "2022-09-12T12:44:00.457Z"
   },
   {
    "duration": 0,
    "start_time": "2022-09-12T12:44:00.458Z"
   },
   {
    "duration": 0,
    "start_time": "2022-09-12T12:44:00.459Z"
   },
   {
    "duration": 0,
    "start_time": "2022-09-12T12:44:00.460Z"
   },
   {
    "duration": 0,
    "start_time": "2022-09-12T12:44:00.461Z"
   },
   {
    "duration": 0,
    "start_time": "2022-09-12T12:44:00.462Z"
   },
   {
    "duration": 0,
    "start_time": "2022-09-12T12:44:00.464Z"
   },
   {
    "duration": 0,
    "start_time": "2022-09-12T12:44:00.465Z"
   },
   {
    "duration": 0,
    "start_time": "2022-09-12T12:44:00.466Z"
   },
   {
    "duration": 0,
    "start_time": "2022-09-12T12:44:00.467Z"
   },
   {
    "duration": 0,
    "start_time": "2022-09-12T12:44:00.468Z"
   },
   {
    "duration": 0,
    "start_time": "2022-09-12T12:44:00.470Z"
   },
   {
    "duration": 0,
    "start_time": "2022-09-12T12:44:00.471Z"
   },
   {
    "duration": 0,
    "start_time": "2022-09-12T12:44:00.472Z"
   },
   {
    "duration": 0,
    "start_time": "2022-09-12T12:44:00.474Z"
   },
   {
    "duration": 0,
    "start_time": "2022-09-12T12:44:00.474Z"
   },
   {
    "duration": 0,
    "start_time": "2022-09-12T12:44:00.475Z"
   },
   {
    "duration": 0,
    "start_time": "2022-09-12T12:44:00.477Z"
   },
   {
    "duration": 0,
    "start_time": "2022-09-12T12:44:00.481Z"
   },
   {
    "duration": 0,
    "start_time": "2022-09-12T12:44:00.482Z"
   },
   {
    "duration": 0,
    "start_time": "2022-09-12T12:44:00.483Z"
   },
   {
    "duration": 0,
    "start_time": "2022-09-12T12:44:00.547Z"
   },
   {
    "duration": 13,
    "start_time": "2022-09-12T12:44:09.030Z"
   },
   {
    "duration": 62,
    "start_time": "2022-09-12T12:44:11.901Z"
   },
   {
    "duration": 57,
    "start_time": "2022-09-12T12:44:26.585Z"
   },
   {
    "duration": 4,
    "start_time": "2022-09-12T12:44:26.644Z"
   },
   {
    "duration": 23,
    "start_time": "2022-09-12T12:44:26.650Z"
   },
   {
    "duration": 28,
    "start_time": "2022-09-12T12:44:26.674Z"
   },
   {
    "duration": 30,
    "start_time": "2022-09-12T12:44:26.704Z"
   },
   {
    "duration": 10,
    "start_time": "2022-09-12T12:44:26.802Z"
   },
   {
    "duration": 23,
    "start_time": "2022-09-12T12:44:26.815Z"
   },
   {
    "duration": 18,
    "start_time": "2022-09-12T12:44:26.842Z"
   },
   {
    "duration": 10286,
    "start_time": "2022-09-12T12:44:26.862Z"
   },
   {
    "duration": 111,
    "start_time": "2022-09-12T12:44:37.150Z"
   },
   {
    "duration": 0,
    "start_time": "2022-09-12T12:44:37.264Z"
   },
   {
    "duration": 0,
    "start_time": "2022-09-12T12:44:37.265Z"
   },
   {
    "duration": 0,
    "start_time": "2022-09-12T12:44:37.267Z"
   },
   {
    "duration": 0,
    "start_time": "2022-09-12T12:44:37.269Z"
   },
   {
    "duration": 0,
    "start_time": "2022-09-12T12:44:37.270Z"
   },
   {
    "duration": 0,
    "start_time": "2022-09-12T12:44:37.271Z"
   },
   {
    "duration": 0,
    "start_time": "2022-09-12T12:44:37.273Z"
   },
   {
    "duration": 0,
    "start_time": "2022-09-12T12:44:37.274Z"
   },
   {
    "duration": 0,
    "start_time": "2022-09-12T12:44:37.275Z"
   },
   {
    "duration": 0,
    "start_time": "2022-09-12T12:44:37.276Z"
   },
   {
    "duration": 0,
    "start_time": "2022-09-12T12:44:37.277Z"
   },
   {
    "duration": 0,
    "start_time": "2022-09-12T12:44:37.278Z"
   },
   {
    "duration": 0,
    "start_time": "2022-09-12T12:44:37.279Z"
   },
   {
    "duration": 0,
    "start_time": "2022-09-12T12:44:37.281Z"
   },
   {
    "duration": 1,
    "start_time": "2022-09-12T12:44:37.281Z"
   },
   {
    "duration": 0,
    "start_time": "2022-09-12T12:44:37.282Z"
   },
   {
    "duration": 0,
    "start_time": "2022-09-12T12:44:37.283Z"
   },
   {
    "duration": 0,
    "start_time": "2022-09-12T12:44:37.284Z"
   },
   {
    "duration": 0,
    "start_time": "2022-09-12T12:44:37.286Z"
   },
   {
    "duration": 0,
    "start_time": "2022-09-12T12:44:37.287Z"
   },
   {
    "duration": 0,
    "start_time": "2022-09-12T12:44:37.289Z"
   },
   {
    "duration": 0,
    "start_time": "2022-09-12T12:44:37.290Z"
   },
   {
    "duration": 0,
    "start_time": "2022-09-12T12:44:37.291Z"
   },
   {
    "duration": 0,
    "start_time": "2022-09-12T12:44:37.292Z"
   },
   {
    "duration": 0,
    "start_time": "2022-09-12T12:44:37.293Z"
   },
   {
    "duration": 0,
    "start_time": "2022-09-12T12:44:37.294Z"
   },
   {
    "duration": 0,
    "start_time": "2022-09-12T12:44:37.295Z"
   },
   {
    "duration": 0,
    "start_time": "2022-09-12T12:44:37.296Z"
   },
   {
    "duration": 0,
    "start_time": "2022-09-12T12:44:37.297Z"
   },
   {
    "duration": 0,
    "start_time": "2022-09-12T12:44:37.298Z"
   },
   {
    "duration": 0,
    "start_time": "2022-09-12T12:44:37.299Z"
   },
   {
    "duration": 0,
    "start_time": "2022-09-12T12:44:37.300Z"
   },
   {
    "duration": 0,
    "start_time": "2022-09-12T12:44:37.347Z"
   },
   {
    "duration": 0,
    "start_time": "2022-09-12T12:44:37.348Z"
   },
   {
    "duration": 0,
    "start_time": "2022-09-12T12:44:37.349Z"
   },
   {
    "duration": 0,
    "start_time": "2022-09-12T12:44:37.350Z"
   },
   {
    "duration": 0,
    "start_time": "2022-09-12T12:44:37.351Z"
   },
   {
    "duration": 0,
    "start_time": "2022-09-12T12:44:37.352Z"
   },
   {
    "duration": 0,
    "start_time": "2022-09-12T12:44:37.353Z"
   },
   {
    "duration": 1,
    "start_time": "2022-09-12T12:44:37.353Z"
   },
   {
    "duration": 0,
    "start_time": "2022-09-12T12:44:37.354Z"
   },
   {
    "duration": 0,
    "start_time": "2022-09-12T12:44:37.355Z"
   },
   {
    "duration": 0,
    "start_time": "2022-09-12T12:44:37.356Z"
   },
   {
    "duration": 0,
    "start_time": "2022-09-12T12:44:37.358Z"
   },
   {
    "duration": 0,
    "start_time": "2022-09-12T12:44:37.359Z"
   },
   {
    "duration": 0,
    "start_time": "2022-09-12T12:44:37.363Z"
   },
   {
    "duration": 0,
    "start_time": "2022-09-12T12:44:37.364Z"
   },
   {
    "duration": 0,
    "start_time": "2022-09-12T12:44:37.364Z"
   },
   {
    "duration": 0,
    "start_time": "2022-09-12T12:44:37.365Z"
   },
   {
    "duration": 0,
    "start_time": "2022-09-12T12:44:37.366Z"
   },
   {
    "duration": 0,
    "start_time": "2022-09-12T12:44:37.366Z"
   },
   {
    "duration": 0,
    "start_time": "2022-09-12T12:44:37.367Z"
   },
   {
    "duration": 0,
    "start_time": "2022-09-12T12:44:37.369Z"
   },
   {
    "duration": 0,
    "start_time": "2022-09-12T12:44:37.370Z"
   },
   {
    "duration": 0,
    "start_time": "2022-09-12T12:44:37.371Z"
   },
   {
    "duration": 0,
    "start_time": "2022-09-12T12:44:37.372Z"
   },
   {
    "duration": 0,
    "start_time": "2022-09-12T12:44:37.373Z"
   },
   {
    "duration": 0,
    "start_time": "2022-09-12T12:44:37.378Z"
   },
   {
    "duration": 0,
    "start_time": "2022-09-12T12:44:37.384Z"
   },
   {
    "duration": 0,
    "start_time": "2022-09-12T12:44:37.385Z"
   },
   {
    "duration": 0,
    "start_time": "2022-09-12T12:44:37.386Z"
   },
   {
    "duration": 7,
    "start_time": "2022-09-12T12:44:43.051Z"
   },
   {
    "duration": 10,
    "start_time": "2022-09-12T12:44:51.763Z"
   },
   {
    "duration": 6,
    "start_time": "2022-09-12T12:44:53.331Z"
   },
   {
    "duration": 6,
    "start_time": "2022-09-12T12:44:56.403Z"
   },
   {
    "duration": 13,
    "start_time": "2022-09-12T12:45:15.411Z"
   },
   {
    "duration": 6,
    "start_time": "2022-09-12T12:45:19.649Z"
   },
   {
    "duration": 5,
    "start_time": "2022-09-12T12:45:21.738Z"
   },
   {
    "duration": 10,
    "start_time": "2022-09-12T12:45:24.924Z"
   },
   {
    "duration": 6,
    "start_time": "2022-09-12T12:45:26.074Z"
   },
   {
    "duration": 9,
    "start_time": "2022-09-12T12:45:52.649Z"
   },
   {
    "duration": 6,
    "start_time": "2022-09-12T12:45:55.785Z"
   },
   {
    "duration": 18,
    "start_time": "2022-09-12T12:45:56.913Z"
   },
   {
    "duration": 8,
    "start_time": "2022-09-12T12:46:03.105Z"
   },
   {
    "duration": 7,
    "start_time": "2022-09-12T12:46:29.972Z"
   },
   {
    "duration": 6,
    "start_time": "2022-09-12T12:46:32.275Z"
   },
   {
    "duration": 7,
    "start_time": "2022-09-12T12:46:35.393Z"
   },
   {
    "duration": 7,
    "start_time": "2022-09-12T12:46:38.009Z"
   },
   {
    "duration": 17,
    "start_time": "2022-09-12T12:47:05.243Z"
   },
   {
    "duration": 19,
    "start_time": "2022-09-12T12:47:08.922Z"
   },
   {
    "duration": 20,
    "start_time": "2022-09-12T12:47:10.270Z"
   },
   {
    "duration": 4,
    "start_time": "2022-09-12T12:47:11.379Z"
   },
   {
    "duration": 7,
    "start_time": "2022-09-12T12:47:15.370Z"
   },
   {
    "duration": 2,
    "start_time": "2022-09-12T12:47:20.635Z"
   },
   {
    "duration": 4,
    "start_time": "2022-09-12T12:47:22.076Z"
   },
   {
    "duration": 6,
    "start_time": "2022-09-12T12:47:25.690Z"
   },
   {
    "duration": 16,
    "start_time": "2022-09-12T12:47:27.998Z"
   },
   {
    "duration": 9,
    "start_time": "2022-09-12T13:08:25.198Z"
   },
   {
    "duration": 17,
    "start_time": "2022-09-12T13:09:07.649Z"
   },
   {
    "duration": 5,
    "start_time": "2022-09-12T13:09:50.863Z"
   },
   {
    "duration": 6,
    "start_time": "2022-09-12T13:09:55.207Z"
   },
   {
    "duration": 23,
    "start_time": "2022-09-12T13:15:44.370Z"
   },
   {
    "duration": 5,
    "start_time": "2022-09-12T13:35:37.049Z"
   },
   {
    "duration": 3,
    "start_time": "2022-09-12T13:49:57.016Z"
   },
   {
    "duration": 1133,
    "start_time": "2022-09-12T13:50:15.052Z"
   },
   {
    "duration": 4,
    "start_time": "2022-09-12T14:20:56.218Z"
   },
   {
    "duration": 109,
    "start_time": "2022-09-12T14:21:21.917Z"
   },
   {
    "duration": 110,
    "start_time": "2022-09-12T14:21:36.571Z"
   },
   {
    "duration": 777,
    "start_time": "2022-09-12T14:22:14.818Z"
   },
   {
    "duration": 5,
    "start_time": "2022-09-12T14:48:13.442Z"
   },
   {
    "duration": 4,
    "start_time": "2022-09-12T14:48:23.212Z"
   },
   {
    "duration": 4,
    "start_time": "2022-09-12T14:48:31.133Z"
   },
   {
    "duration": 804,
    "start_time": "2022-09-12T14:55:18.421Z"
   },
   {
    "duration": 13,
    "start_time": "2022-09-12T14:57:02.107Z"
   },
   {
    "duration": 14,
    "start_time": "2022-09-12T14:57:40.251Z"
   },
   {
    "duration": 4,
    "start_time": "2022-09-12T14:57:45.970Z"
   },
   {
    "duration": 12,
    "start_time": "2022-09-12T14:57:47.768Z"
   },
   {
    "duration": 12,
    "start_time": "2022-09-12T14:58:37.930Z"
   },
   {
    "duration": 11,
    "start_time": "2022-09-12T14:59:02.239Z"
   },
   {
    "duration": 11,
    "start_time": "2022-09-12T14:59:15.014Z"
   },
   {
    "duration": 238,
    "start_time": "2022-09-12T15:01:54.154Z"
   },
   {
    "duration": 9,
    "start_time": "2022-09-12T15:03:10.209Z"
   },
   {
    "duration": 243,
    "start_time": "2022-09-12T15:03:13.857Z"
   },
   {
    "duration": 3,
    "start_time": "2022-09-12T15:03:33.192Z"
   },
   {
    "duration": 12,
    "start_time": "2022-09-12T15:03:37.264Z"
   },
   {
    "duration": 5,
    "start_time": "2022-09-12T15:42:51.043Z"
   },
   {
    "duration": 9,
    "start_time": "2022-09-12T15:43:13.417Z"
   },
   {
    "duration": 5,
    "start_time": "2022-09-12T15:43:21.118Z"
   },
   {
    "duration": 8,
    "start_time": "2022-09-12T15:44:29.652Z"
   },
   {
    "duration": 3,
    "start_time": "2022-09-12T15:48:04.699Z"
   },
   {
    "duration": 6,
    "start_time": "2022-09-12T15:48:15.508Z"
   },
   {
    "duration": 4,
    "start_time": "2022-09-12T15:52:04.434Z"
   },
   {
    "duration": 6,
    "start_time": "2022-09-12T15:52:05.714Z"
   },
   {
    "duration": 4,
    "start_time": "2022-09-12T15:52:10.129Z"
   },
   {
    "duration": 5,
    "start_time": "2022-09-12T15:52:12.130Z"
   },
   {
    "duration": 4,
    "start_time": "2022-09-12T15:52:13.706Z"
   },
   {
    "duration": 5,
    "start_time": "2022-09-12T15:52:14.656Z"
   },
   {
    "duration": 2,
    "start_time": "2022-09-12T16:03:33.597Z"
   },
   {
    "duration": 4,
    "start_time": "2022-09-12T16:03:34.507Z"
   },
   {
    "duration": 3,
    "start_time": "2022-09-12T16:03:35.315Z"
   },
   {
    "duration": 5,
    "start_time": "2022-09-12T16:03:35.874Z"
   },
   {
    "duration": 4,
    "start_time": "2022-09-12T16:04:02.577Z"
   },
   {
    "duration": 7,
    "start_time": "2022-09-12T16:39:52.174Z"
   },
   {
    "duration": 4,
    "start_time": "2022-09-12T16:40:55.724Z"
   },
   {
    "duration": 41,
    "start_time": "2022-09-12T16:48:14.079Z"
   },
   {
    "duration": 70,
    "start_time": "2022-09-12T16:48:28.541Z"
   },
   {
    "duration": 74,
    "start_time": "2022-09-12T16:48:42.227Z"
   },
   {
    "duration": 12,
    "start_time": "2022-09-12T16:49:19.099Z"
   },
   {
    "duration": 21,
    "start_time": "2022-09-12T16:50:06.667Z"
   },
   {
    "duration": 12,
    "start_time": "2022-09-12T17:26:02.774Z"
   },
   {
    "duration": 17,
    "start_time": "2022-09-12T17:27:06.367Z"
   },
   {
    "duration": 11,
    "start_time": "2022-09-12T17:43:57.573Z"
   },
   {
    "duration": 13,
    "start_time": "2022-09-12T17:44:07.347Z"
   },
   {
    "duration": 4,
    "start_time": "2022-09-12T17:44:15.805Z"
   },
   {
    "duration": 7,
    "start_time": "2022-09-12T17:47:30.910Z"
   },
   {
    "duration": 5,
    "start_time": "2022-09-12T17:48:06.327Z"
   },
   {
    "duration": 4,
    "start_time": "2022-09-12T17:48:44.712Z"
   },
   {
    "duration": 5,
    "start_time": "2022-09-12T17:48:54.949Z"
   },
   {
    "duration": 13,
    "start_time": "2022-09-12T17:53:46.293Z"
   },
   {
    "duration": 728,
    "start_time": "2022-09-13T06:34:40.392Z"
   },
   {
    "duration": 13,
    "start_time": "2022-09-13T06:34:45.644Z"
   },
   {
    "duration": 18,
    "start_time": "2022-09-13T06:34:50.216Z"
   },
   {
    "duration": 15,
    "start_time": "2022-09-13T06:35:01.839Z"
   },
   {
    "duration": 20,
    "start_time": "2022-09-13T06:35:07.980Z"
   },
   {
    "duration": 10,
    "start_time": "2022-09-13T06:35:16.654Z"
   },
   {
    "duration": 11,
    "start_time": "2022-09-13T06:36:19.326Z"
   },
   {
    "duration": 22,
    "start_time": "2022-09-13T06:36:24.368Z"
   },
   {
    "duration": 4,
    "start_time": "2022-09-13T06:36:29.200Z"
   },
   {
    "duration": 10854,
    "start_time": "2022-09-13T06:36:34.757Z"
   },
   {
    "duration": 53,
    "start_time": "2022-09-13T06:36:59.869Z"
   },
   {
    "duration": 6,
    "start_time": "2022-09-13T06:42:04.720Z"
   },
   {
    "duration": 13,
    "start_time": "2022-09-13T06:42:11.281Z"
   },
   {
    "duration": 8,
    "start_time": "2022-09-13T06:42:18.648Z"
   },
   {
    "duration": 6,
    "start_time": "2022-09-13T06:42:33.128Z"
   },
   {
    "duration": 4,
    "start_time": "2022-09-13T06:42:41.136Z"
   },
   {
    "duration": 5,
    "start_time": "2022-09-13T06:42:44.738Z"
   },
   {
    "duration": 10,
    "start_time": "2022-09-13T06:42:49.022Z"
   },
   {
    "duration": 7,
    "start_time": "2022-09-13T06:42:53.173Z"
   },
   {
    "duration": 17,
    "start_time": "2022-09-13T06:42:56.558Z"
   },
   {
    "duration": 7,
    "start_time": "2022-09-13T06:43:20.692Z"
   },
   {
    "duration": 7,
    "start_time": "2022-09-13T06:43:31.632Z"
   },
   {
    "duration": 7,
    "start_time": "2022-09-13T06:43:37.238Z"
   },
   {
    "duration": 5,
    "start_time": "2022-09-13T06:43:48.425Z"
   },
   {
    "duration": 7,
    "start_time": "2022-09-13T06:43:51.684Z"
   },
   {
    "duration": 10,
    "start_time": "2022-09-13T07:11:59.390Z"
   },
   {
    "duration": 65,
    "start_time": "2022-09-13T07:12:31.870Z"
   },
   {
    "duration": 21,
    "start_time": "2022-09-13T07:12:49.594Z"
   },
   {
    "duration": 11,
    "start_time": "2022-09-13T07:13:04.185Z"
   },
   {
    "duration": 11,
    "start_time": "2022-09-13T07:16:35.584Z"
   },
   {
    "duration": 9,
    "start_time": "2022-09-13T07:21:37.892Z"
   },
   {
    "duration": 3,
    "start_time": "2022-09-13T07:21:43.659Z"
   },
   {
    "duration": 8,
    "start_time": "2022-09-13T07:21:45.458Z"
   },
   {
    "duration": 5,
    "start_time": "2022-09-13T07:23:46.505Z"
   },
   {
    "duration": 9,
    "start_time": "2022-09-13T07:37:57.270Z"
   },
   {
    "duration": 6,
    "start_time": "2022-09-13T07:38:13.430Z"
   },
   {
    "duration": 23,
    "start_time": "2022-09-13T07:38:48.140Z"
   },
   {
    "duration": 9,
    "start_time": "2022-09-13T07:39:05.644Z"
   },
   {
    "duration": 21,
    "start_time": "2022-09-13T07:39:21.327Z"
   },
   {
    "duration": 34,
    "start_time": "2022-09-13T07:39:29.243Z"
   },
   {
    "duration": 4,
    "start_time": "2022-09-13T07:40:03.235Z"
   },
   {
    "duration": 21,
    "start_time": "2022-09-13T07:40:14.194Z"
   },
   {
    "duration": 2,
    "start_time": "2022-09-13T07:40:57.561Z"
   },
   {
    "duration": 7,
    "start_time": "2022-09-13T07:41:04.736Z"
   },
   {
    "duration": 3,
    "start_time": "2022-09-13T07:46:31.524Z"
   },
   {
    "duration": 4,
    "start_time": "2022-09-13T07:53:55.459Z"
   },
   {
    "duration": 3,
    "start_time": "2022-09-13T07:54:05.401Z"
   },
   {
    "duration": 3,
    "start_time": "2022-09-13T08:25:05.232Z"
   },
   {
    "duration": 23,
    "start_time": "2022-09-13T08:25:08.168Z"
   },
   {
    "duration": 8,
    "start_time": "2022-09-13T08:25:12.768Z"
   },
   {
    "duration": 3,
    "start_time": "2022-09-13T08:25:16.054Z"
   },
   {
    "duration": 7,
    "start_time": "2022-09-13T08:26:18.582Z"
   },
   {
    "duration": 6,
    "start_time": "2022-09-13T08:26:48.110Z"
   },
   {
    "duration": 16,
    "start_time": "2022-09-13T08:28:21.292Z"
   },
   {
    "duration": 4,
    "start_time": "2022-09-13T08:38:10.129Z"
   },
   {
    "duration": 92,
    "start_time": "2022-09-13T08:38:26.401Z"
   },
   {
    "duration": 4,
    "start_time": "2022-09-13T08:38:39.968Z"
   },
   {
    "duration": 54,
    "start_time": "2022-09-13T08:38:46.000Z"
   },
   {
    "duration": 49,
    "start_time": "2022-09-13T08:38:50.472Z"
   },
   {
    "duration": 89,
    "start_time": "2022-09-13T08:39:03.247Z"
   },
   {
    "duration": 80,
    "start_time": "2022-09-13T08:39:08.270Z"
   },
   {
    "duration": 104,
    "start_time": "2022-09-13T08:39:15.334Z"
   },
   {
    "duration": 58,
    "start_time": "2022-09-13T08:39:25.463Z"
   },
   {
    "duration": 53,
    "start_time": "2022-09-13T08:39:34.141Z"
   },
   {
    "duration": 4,
    "start_time": "2022-09-13T08:39:41.957Z"
   },
   {
    "duration": 3,
    "start_time": "2022-09-13T08:39:45.341Z"
   },
   {
    "duration": 47,
    "start_time": "2022-09-13T08:39:49.383Z"
   },
   {
    "duration": 90,
    "start_time": "2022-09-13T08:40:14.060Z"
   },
   {
    "duration": 78,
    "start_time": "2022-09-13T08:40:26.181Z"
   },
   {
    "duration": 5,
    "start_time": "2022-09-13T08:40:32.241Z"
   },
   {
    "duration": 81,
    "start_time": "2022-09-13T08:40:36.788Z"
   },
   {
    "duration": 71,
    "start_time": "2022-09-13T08:46:45.130Z"
   },
   {
    "duration": 94,
    "start_time": "2022-09-13T08:47:16.584Z"
   },
   {
    "duration": 43,
    "start_time": "2022-09-13T08:47:26.192Z"
   },
   {
    "duration": 60,
    "start_time": "2022-09-13T08:47:38.841Z"
   },
   {
    "duration": 46,
    "start_time": "2022-09-13T08:47:45.763Z"
   },
   {
    "duration": 61,
    "start_time": "2022-09-13T08:48:02.214Z"
   },
   {
    "duration": 43,
    "start_time": "2022-09-13T08:48:07.743Z"
   },
   {
    "duration": 3,
    "start_time": "2022-09-13T08:49:03.686Z"
   },
   {
    "duration": 16,
    "start_time": "2022-09-13T08:49:07.110Z"
   },
   {
    "duration": 3,
    "start_time": "2022-09-13T08:50:17.100Z"
   },
   {
    "duration": 7,
    "start_time": "2022-09-13T08:50:39.241Z"
   },
   {
    "duration": 17,
    "start_time": "2022-09-13T08:50:45.605Z"
   },
   {
    "duration": 2,
    "start_time": "2022-09-13T08:53:13.070Z"
   },
   {
    "duration": 8,
    "start_time": "2022-09-13T08:53:15.022Z"
   },
   {
    "duration": 3,
    "start_time": "2022-09-13T08:53:17.611Z"
   },
   {
    "duration": 15,
    "start_time": "2022-09-13T08:53:21.537Z"
   },
   {
    "duration": 16,
    "start_time": "2022-09-13T09:32:16.990Z"
   },
   {
    "duration": 18,
    "start_time": "2022-09-13T09:33:01.303Z"
   },
   {
    "duration": 8,
    "start_time": "2022-09-13T09:41:40.752Z"
   },
   {
    "duration": 7,
    "start_time": "2022-09-13T09:41:55.889Z"
   },
   {
    "duration": 1412,
    "start_time": "2022-09-13T09:42:20.916Z"
   },
   {
    "duration": 10,
    "start_time": "2022-09-13T09:42:41.745Z"
   },
   {
    "duration": 0,
    "start_time": "2022-09-13T09:47:24.379Z"
   },
   {
    "duration": 2027,
    "start_time": "2022-09-13T09:48:58.519Z"
   },
   {
    "duration": 113,
    "start_time": "2022-09-13T09:49:45.658Z"
   },
   {
    "duration": 164,
    "start_time": "2022-09-13T09:50:14.089Z"
   },
   {
    "duration": 1965,
    "start_time": "2022-09-13T09:50:29.426Z"
   },
   {
    "duration": 12,
    "start_time": "2022-09-13T10:00:27.392Z"
   },
   {
    "duration": 10,
    "start_time": "2022-09-13T10:01:10.043Z"
   },
   {
    "duration": 18,
    "start_time": "2022-09-13T10:01:14.528Z"
   },
   {
    "duration": 25,
    "start_time": "2022-09-13T10:01:26.501Z"
   },
   {
    "duration": 15,
    "start_time": "2022-09-13T10:01:55.399Z"
   },
   {
    "duration": 16,
    "start_time": "2022-09-13T10:01:59.178Z"
   },
   {
    "duration": 25,
    "start_time": "2022-09-13T10:02:17.773Z"
   },
   {
    "duration": 13,
    "start_time": "2022-09-13T10:02:21.835Z"
   },
   {
    "duration": 19,
    "start_time": "2022-09-13T10:02:24.601Z"
   },
   {
    "duration": 13,
    "start_time": "2022-09-13T10:02:29.859Z"
   },
   {
    "duration": 11,
    "start_time": "2022-09-13T10:02:39.805Z"
   },
   {
    "duration": 10,
    "start_time": "2022-09-13T10:02:51.043Z"
   },
   {
    "duration": 15,
    "start_time": "2022-09-13T10:02:58.961Z"
   },
   {
    "duration": 2291,
    "start_time": "2022-09-13T10:03:30.624Z"
   },
   {
    "duration": 14,
    "start_time": "2022-09-13T10:03:59.872Z"
   },
   {
    "duration": 6,
    "start_time": "2022-09-13T10:04:10.142Z"
   },
   {
    "duration": 14,
    "start_time": "2022-09-13T10:06:44.632Z"
   },
   {
    "duration": 2,
    "start_time": "2022-09-13T10:09:12.150Z"
   },
   {
    "duration": 20,
    "start_time": "2022-09-13T10:09:14.469Z"
   },
   {
    "duration": 4,
    "start_time": "2022-09-13T10:11:17.920Z"
   },
   {
    "duration": 16,
    "start_time": "2022-09-13T10:11:21.240Z"
   },
   {
    "duration": 17,
    "start_time": "2022-09-13T10:11:34.425Z"
   },
   {
    "duration": 12,
    "start_time": "2022-09-13T10:11:44.574Z"
   },
   {
    "duration": 15,
    "start_time": "2022-09-13T10:12:44.759Z"
   },
   {
    "duration": 12,
    "start_time": "2022-09-13T10:12:47.732Z"
   },
   {
    "duration": 9,
    "start_time": "2022-09-13T10:12:59.757Z"
   },
   {
    "duration": 7,
    "start_time": "2022-09-13T10:36:14.781Z"
   },
   {
    "duration": 3,
    "start_time": "2022-09-13T12:00:31.111Z"
   },
   {
    "duration": 55,
    "start_time": "2022-09-13T13:27:57.406Z"
   },
   {
    "duration": 53,
    "start_time": "2022-09-13T13:28:09.509Z"
   },
   {
    "duration": 54,
    "start_time": "2022-09-13T13:28:40.862Z"
   },
   {
    "duration": 66,
    "start_time": "2022-09-13T13:28:45.016Z"
   },
   {
    "duration": 78,
    "start_time": "2022-09-13T13:28:52.776Z"
   },
   {
    "duration": 132,
    "start_time": "2022-09-13T13:29:00.112Z"
   },
   {
    "duration": 46,
    "start_time": "2022-09-13T13:33:15.791Z"
   },
   {
    "duration": 82,
    "start_time": "2022-09-13T13:33:37.368Z"
   },
   {
    "duration": 3,
    "start_time": "2022-09-13T13:34:32.619Z"
   },
   {
    "duration": 2,
    "start_time": "2022-09-13T13:35:58.417Z"
   },
   {
    "duration": 3,
    "start_time": "2022-09-13T13:36:22.755Z"
   },
   {
    "duration": 3,
    "start_time": "2022-09-13T13:36:31.985Z"
   },
   {
    "duration": 4,
    "start_time": "2022-09-13T13:40:32.808Z"
   },
   {
    "duration": 7,
    "start_time": "2022-09-13T13:41:38.912Z"
   },
   {
    "duration": 8,
    "start_time": "2022-09-13T13:42:03.949Z"
   },
   {
    "duration": 20,
    "start_time": "2022-09-13T13:42:33.245Z"
   },
   {
    "duration": 19,
    "start_time": "2022-09-13T13:42:57.360Z"
   },
   {
    "duration": 8,
    "start_time": "2022-09-13T13:43:14.676Z"
   },
   {
    "duration": 6,
    "start_time": "2022-09-13T13:54:25.561Z"
   },
   {
    "duration": 8,
    "start_time": "2022-09-13T13:54:35.878Z"
   },
   {
    "duration": 10,
    "start_time": "2022-09-13T13:54:42.615Z"
   },
   {
    "duration": 3,
    "start_time": "2022-09-13T13:56:22.346Z"
   },
   {
    "duration": 25,
    "start_time": "2022-09-13T13:56:23.662Z"
   },
   {
    "duration": 7,
    "start_time": "2022-09-13T13:56:28.271Z"
   },
   {
    "duration": 122,
    "start_time": "2022-09-13T14:01:24.004Z"
   },
   {
    "duration": 24,
    "start_time": "2022-09-13T14:01:34.648Z"
   },
   {
    "duration": 17,
    "start_time": "2022-09-13T14:05:16.505Z"
   },
   {
    "duration": 8,
    "start_time": "2022-09-13T14:06:04.461Z"
   },
   {
    "duration": 13,
    "start_time": "2022-09-13T14:06:11.718Z"
   },
   {
    "duration": 23,
    "start_time": "2022-09-13T14:06:17.789Z"
   },
   {
    "duration": 22,
    "start_time": "2022-09-13T14:06:45.571Z"
   },
   {
    "duration": 12,
    "start_time": "2022-09-13T14:06:54.032Z"
   },
   {
    "duration": 13,
    "start_time": "2022-09-13T14:06:58.164Z"
   },
   {
    "duration": 18,
    "start_time": "2022-09-13T14:07:01.049Z"
   },
   {
    "duration": 10,
    "start_time": "2022-09-13T14:16:18.119Z"
   },
   {
    "duration": 11,
    "start_time": "2022-09-13T14:21:24.464Z"
   },
   {
    "duration": 13,
    "start_time": "2022-09-13T14:21:56.270Z"
   },
   {
    "duration": 13,
    "start_time": "2022-09-13T14:22:37.908Z"
   },
   {
    "duration": 13,
    "start_time": "2022-09-13T14:23:19.047Z"
   },
   {
    "duration": 49,
    "start_time": "2022-09-13T14:23:29.735Z"
   },
   {
    "duration": 14,
    "start_time": "2022-09-13T14:23:57.167Z"
   },
   {
    "duration": 15,
    "start_time": "2022-09-13T14:24:04.476Z"
   },
   {
    "duration": 12,
    "start_time": "2022-09-13T14:28:16.947Z"
   },
   {
    "duration": 22,
    "start_time": "2022-09-13T14:29:51.604Z"
   },
   {
    "duration": 3,
    "start_time": "2022-09-13T14:39:54.189Z"
   },
   {
    "duration": 3,
    "start_time": "2022-09-13T14:39:55.967Z"
   },
   {
    "duration": 247,
    "start_time": "2022-09-13T14:40:27.389Z"
   },
   {
    "duration": 4,
    "start_time": "2022-09-13T14:40:42.509Z"
   },
   {
    "duration": 448,
    "start_time": "2022-09-13T14:40:56.414Z"
   },
   {
    "duration": 4,
    "start_time": "2022-09-13T14:41:16.083Z"
   },
   {
    "duration": 3,
    "start_time": "2022-09-13T14:41:18.766Z"
   },
   {
    "duration": 19,
    "start_time": "2022-09-13T14:41:26.375Z"
   },
   {
    "duration": 6,
    "start_time": "2022-09-13T14:41:26.576Z"
   },
   {
    "duration": 14,
    "start_time": "2022-09-13T14:42:16.653Z"
   },
   {
    "duration": 17,
    "start_time": "2022-09-13T14:43:35.295Z"
   },
   {
    "duration": 13,
    "start_time": "2022-09-13T15:29:34.357Z"
   },
   {
    "duration": 202,
    "start_time": "2022-09-13T15:30:04.450Z"
   },
   {
    "duration": 4,
    "start_time": "2022-09-13T15:30:04.654Z"
   },
   {
    "duration": 22,
    "start_time": "2022-09-13T15:30:04.659Z"
   },
   {
    "duration": 18,
    "start_time": "2022-09-13T15:30:04.682Z"
   },
   {
    "duration": 18,
    "start_time": "2022-09-13T15:30:04.702Z"
   },
   {
    "duration": 8,
    "start_time": "2022-09-13T15:30:04.721Z"
   },
   {
    "duration": 13,
    "start_time": "2022-09-13T15:30:04.730Z"
   },
   {
    "duration": 10,
    "start_time": "2022-09-13T15:30:04.744Z"
   },
   {
    "duration": 9405,
    "start_time": "2022-09-13T15:30:04.759Z"
   },
   {
    "duration": 50,
    "start_time": "2022-09-13T15:30:14.165Z"
   },
   {
    "duration": 0,
    "start_time": "2022-09-13T15:30:14.218Z"
   },
   {
    "duration": 0,
    "start_time": "2022-09-13T15:30:14.219Z"
   },
   {
    "duration": 0,
    "start_time": "2022-09-13T15:30:14.220Z"
   },
   {
    "duration": 0,
    "start_time": "2022-09-13T15:30:14.221Z"
   },
   {
    "duration": 0,
    "start_time": "2022-09-13T15:30:14.222Z"
   },
   {
    "duration": 0,
    "start_time": "2022-09-13T15:30:14.223Z"
   },
   {
    "duration": 0,
    "start_time": "2022-09-13T15:30:14.224Z"
   },
   {
    "duration": 0,
    "start_time": "2022-09-13T15:30:14.224Z"
   },
   {
    "duration": 0,
    "start_time": "2022-09-13T15:30:14.225Z"
   },
   {
    "duration": 0,
    "start_time": "2022-09-13T15:30:14.226Z"
   },
   {
    "duration": 0,
    "start_time": "2022-09-13T15:30:14.227Z"
   },
   {
    "duration": 0,
    "start_time": "2022-09-13T15:30:14.228Z"
   },
   {
    "duration": 0,
    "start_time": "2022-09-13T15:30:14.229Z"
   },
   {
    "duration": 0,
    "start_time": "2022-09-13T15:30:14.231Z"
   },
   {
    "duration": 0,
    "start_time": "2022-09-13T15:30:14.232Z"
   },
   {
    "duration": 0,
    "start_time": "2022-09-13T15:30:14.234Z"
   },
   {
    "duration": 0,
    "start_time": "2022-09-13T15:30:14.235Z"
   },
   {
    "duration": 0,
    "start_time": "2022-09-13T15:30:14.236Z"
   },
   {
    "duration": 0,
    "start_time": "2022-09-13T15:30:14.238Z"
   },
   {
    "duration": 0,
    "start_time": "2022-09-13T15:30:14.239Z"
   },
   {
    "duration": 0,
    "start_time": "2022-09-13T15:30:14.240Z"
   },
   {
    "duration": 0,
    "start_time": "2022-09-13T15:30:14.241Z"
   },
   {
    "duration": 0,
    "start_time": "2022-09-13T15:30:14.241Z"
   },
   {
    "duration": 0,
    "start_time": "2022-09-13T15:30:14.242Z"
   },
   {
    "duration": 0,
    "start_time": "2022-09-13T15:30:14.243Z"
   },
   {
    "duration": 0,
    "start_time": "2022-09-13T15:30:14.244Z"
   },
   {
    "duration": 0,
    "start_time": "2022-09-13T15:30:14.245Z"
   },
   {
    "duration": 0,
    "start_time": "2022-09-13T15:30:14.246Z"
   },
   {
    "duration": 1,
    "start_time": "2022-09-13T15:30:14.246Z"
   },
   {
    "duration": 0,
    "start_time": "2022-09-13T15:30:14.248Z"
   },
   {
    "duration": 0,
    "start_time": "2022-09-13T15:30:14.249Z"
   },
   {
    "duration": 0,
    "start_time": "2022-09-13T15:30:14.250Z"
   },
   {
    "duration": 0,
    "start_time": "2022-09-13T15:30:14.251Z"
   },
   {
    "duration": 0,
    "start_time": "2022-09-13T15:30:14.252Z"
   },
   {
    "duration": 0,
    "start_time": "2022-09-13T15:30:14.253Z"
   },
   {
    "duration": 0,
    "start_time": "2022-09-13T15:30:14.254Z"
   },
   {
    "duration": 0,
    "start_time": "2022-09-13T15:30:14.309Z"
   },
   {
    "duration": 0,
    "start_time": "2022-09-13T15:30:14.310Z"
   },
   {
    "duration": 0,
    "start_time": "2022-09-13T15:30:14.310Z"
   },
   {
    "duration": 0,
    "start_time": "2022-09-13T15:30:14.312Z"
   },
   {
    "duration": 0,
    "start_time": "2022-09-13T15:30:14.312Z"
   },
   {
    "duration": 0,
    "start_time": "2022-09-13T15:30:14.313Z"
   },
   {
    "duration": 0,
    "start_time": "2022-09-13T15:30:14.315Z"
   },
   {
    "duration": 0,
    "start_time": "2022-09-13T15:30:14.315Z"
   },
   {
    "duration": 0,
    "start_time": "2022-09-13T15:30:14.316Z"
   },
   {
    "duration": 0,
    "start_time": "2022-09-13T15:30:14.317Z"
   },
   {
    "duration": 0,
    "start_time": "2022-09-13T15:30:14.318Z"
   },
   {
    "duration": 0,
    "start_time": "2022-09-13T15:30:14.319Z"
   },
   {
    "duration": 0,
    "start_time": "2022-09-13T15:30:14.320Z"
   },
   {
    "duration": 0,
    "start_time": "2022-09-13T15:30:14.321Z"
   },
   {
    "duration": 0,
    "start_time": "2022-09-13T15:30:14.322Z"
   },
   {
    "duration": 0,
    "start_time": "2022-09-13T15:30:14.323Z"
   },
   {
    "duration": 1,
    "start_time": "2022-09-13T15:30:14.323Z"
   },
   {
    "duration": 0,
    "start_time": "2022-09-13T15:30:14.324Z"
   },
   {
    "duration": 0,
    "start_time": "2022-09-13T15:30:14.325Z"
   },
   {
    "duration": 0,
    "start_time": "2022-09-13T15:30:14.326Z"
   },
   {
    "duration": 0,
    "start_time": "2022-09-13T15:30:14.327Z"
   },
   {
    "duration": 0,
    "start_time": "2022-09-13T15:30:14.328Z"
   },
   {
    "duration": 0,
    "start_time": "2022-09-13T15:30:14.328Z"
   },
   {
    "duration": 0,
    "start_time": "2022-09-13T15:30:14.329Z"
   },
   {
    "duration": 0,
    "start_time": "2022-09-13T15:30:14.330Z"
   },
   {
    "duration": 0,
    "start_time": "2022-09-13T15:30:14.331Z"
   },
   {
    "duration": 10,
    "start_time": "2022-09-13T15:31:01.365Z"
   },
   {
    "duration": 12,
    "start_time": "2022-09-13T15:38:14.852Z"
   }
  ],
  "kernelspec": {
   "display_name": "Python 3 (ipykernel)",
   "language": "python",
   "name": "python3"
  },
  "language_info": {
   "codemirror_mode": {
    "name": "ipython",
    "version": 3
   },
   "file_extension": ".py",
   "mimetype": "text/x-python",
   "name": "python",
   "nbconvert_exporter": "python",
   "pygments_lexer": "ipython3",
   "version": "3.9.12"
  },
  "toc": {
   "base_numbering": 1,
   "nav_menu": {},
   "number_sections": true,
   "sideBar": true,
   "skip_h1_title": true,
   "title_cell": "Table of Contents",
   "title_sidebar": "Contents",
   "toc_cell": false,
   "toc_position": {},
   "toc_section_display": true,
   "toc_window_display": false
  }
 },
 "nbformat": 4,
 "nbformat_minor": 2
}
