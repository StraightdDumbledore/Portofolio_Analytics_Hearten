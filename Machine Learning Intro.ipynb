{
 "cells": [
  {
   "cell_type": "markdown",
   "id": "28d9dc8e",
   "metadata": {},
   "source": [
    "# Pendahuluan"
   ]
  },
  {
   "cell_type": "markdown",
   "id": "0db0ef89",
   "metadata": {},
   "source": [
    "Bekerja sebagai data analyst di Megaline, dimana mereka ingin membuat plan baru bernama Smart atau Ultra. Hal ini di karenakan user lebih cepat beralih di karenakan ke plan baru, untuk itu di perlukan model untuk memberikan pilihan yang tepat kepada user dengan posibilitas 75% akurasi. "
   ]
  },
  {
   "cell_type": "code",
   "execution_count": 1,
   "id": "9c0badb4",
   "metadata": {},
   "outputs": [],
   "source": [
    "import pandas as pd\n",
    "from sklearn.tree import DecisionTreeClassifier\n",
    "from sklearn.ensemble import RandomForestClassifier\n",
    "from sklearn.linear_model import LogisticRegression\n",
    "from sklearn.model_selection import train_test_split"
   ]
  },
  {
   "cell_type": "code",
   "execution_count": 2,
   "id": "3e07ebc3",
   "metadata": {},
   "outputs": [
    {
     "data": {
      "text/html": [
       "<div>\n",
       "<style scoped>\n",
       "    .dataframe tbody tr th:only-of-type {\n",
       "        vertical-align: middle;\n",
       "    }\n",
       "\n",
       "    .dataframe tbody tr th {\n",
       "        vertical-align: top;\n",
       "    }\n",
       "\n",
       "    .dataframe thead th {\n",
       "        text-align: right;\n",
       "    }\n",
       "</style>\n",
       "<table border=\"1\" class=\"dataframe\">\n",
       "  <thead>\n",
       "    <tr style=\"text-align: right;\">\n",
       "      <th></th>\n",
       "      <th>calls</th>\n",
       "      <th>minutes</th>\n",
       "      <th>messages</th>\n",
       "      <th>mb_used</th>\n",
       "      <th>is_ultra</th>\n",
       "    </tr>\n",
       "  </thead>\n",
       "  <tbody>\n",
       "    <tr>\n",
       "      <th>0</th>\n",
       "      <td>40.0</td>\n",
       "      <td>311.90</td>\n",
       "      <td>83.0</td>\n",
       "      <td>19915.42</td>\n",
       "      <td>0</td>\n",
       "    </tr>\n",
       "    <tr>\n",
       "      <th>1</th>\n",
       "      <td>85.0</td>\n",
       "      <td>516.75</td>\n",
       "      <td>56.0</td>\n",
       "      <td>22696.96</td>\n",
       "      <td>0</td>\n",
       "    </tr>\n",
       "    <tr>\n",
       "      <th>2</th>\n",
       "      <td>77.0</td>\n",
       "      <td>467.66</td>\n",
       "      <td>86.0</td>\n",
       "      <td>21060.45</td>\n",
       "      <td>0</td>\n",
       "    </tr>\n",
       "    <tr>\n",
       "      <th>3</th>\n",
       "      <td>106.0</td>\n",
       "      <td>745.53</td>\n",
       "      <td>81.0</td>\n",
       "      <td>8437.39</td>\n",
       "      <td>1</td>\n",
       "    </tr>\n",
       "    <tr>\n",
       "      <th>4</th>\n",
       "      <td>66.0</td>\n",
       "      <td>418.74</td>\n",
       "      <td>1.0</td>\n",
       "      <td>14502.75</td>\n",
       "      <td>0</td>\n",
       "    </tr>\n",
       "  </tbody>\n",
       "</table>\n",
       "</div>"
      ],
      "text/plain": [
       "   calls  minutes  messages   mb_used  is_ultra\n",
       "0   40.0   311.90      83.0  19915.42         0\n",
       "1   85.0   516.75      56.0  22696.96         0\n",
       "2   77.0   467.66      86.0  21060.45         0\n",
       "3  106.0   745.53      81.0   8437.39         1\n",
       "4   66.0   418.74       1.0  14502.75         0"
      ]
     },
     "execution_count": 2,
     "metadata": {},
     "output_type": "execute_result"
    }
   ],
   "source": [
    "df = pd.read_csv('users_behavior.csv')\n",
    "df.head()"
   ]
  },
  {
   "cell_type": "code",
   "execution_count": 4,
   "id": "c36baa06",
   "metadata": {},
   "outputs": [
    {
     "name": "stdout",
     "output_type": "stream",
     "text": [
      "<class 'pandas.core.frame.DataFrame'>\n",
      "RangeIndex: 3214 entries, 0 to 3213\n",
      "Data columns (total 5 columns):\n",
      " #   Column    Non-Null Count  Dtype  \n",
      "---  ------    --------------  -----  \n",
      " 0   calls     3214 non-null   float64\n",
      " 1   minutes   3214 non-null   float64\n",
      " 2   messages  3214 non-null   float64\n",
      " 3   mb_used   3214 non-null   float64\n",
      " 4   is_ultra  3214 non-null   int64  \n",
      "dtypes: float64(4), int64(1)\n",
      "memory usage: 125.7 KB\n"
     ]
    }
   ],
   "source": [
    "df.info()"
   ]
  },
  {
   "cell_type": "markdown",
   "id": "4636337c",
   "metadata": {},
   "source": [
    "## Splitting data into sets"
   ]
  },
  {
   "cell_type": "code",
   "execution_count": 5,
   "id": "b500daf9",
   "metadata": {},
   "outputs": [
    {
     "name": "stdout",
     "output_type": "stream",
     "text": [
      "(1928, 4)\n",
      "(643, 4)\n",
      "(643, 4)\n"
     ]
    }
   ],
   "source": [
    "from sklearn.model_selection import train_test_split\n",
    "\n",
    "train_valid, test = train_test_split(df, test_size=0.2)\n",
    "train, valid = train_test_split(train_valid, test_size=0.25)\n",
    "\n",
    "features_train = train.drop(['is_ultra'], axis=1)\n",
    "target_train = train['is_ultra']\n",
    "features_valid = valid.drop(['is_ultra'], axis=1)\n",
    "target_valid = valid['is_ultra']\n",
    "features_test = test.drop(['is_ultra'], axis=1)\n",
    "target_test = test['is_ultra']\n",
    "\n",
    "print(features_train.shape)\n",
    "print(features_valid.shape)\n",
    "print(features_test.shape)"
   ]
  },
  {
   "cell_type": "markdown",
   "id": "f4e705bd",
   "metadata": {},
   "source": [
    "## Tuning Models"
   ]
  },
  {
   "cell_type": "code",
   "execution_count": 6,
   "id": "75594861",
   "metadata": {},
   "outputs": [
    {
     "name": "stdout",
     "output_type": "stream",
     "text": [
      "Decision Tree\n",
      "max_depth = 1\n",
      "Train: 0.7546680497925311\n",
      "Valid: 0.7433903576982893\n",
      "max_depth = 2\n",
      "Train: 0.7894190871369294\n",
      "Valid: 0.7698289269051322\n",
      "max_depth = 3\n",
      "Train: 0.8029045643153527\n",
      "Valid: 0.7869362363919129\n",
      "max_depth = 4\n",
      "Train: 0.8049792531120332\n",
      "Valid: 0.7729393468118196\n",
      "max_depth = 5\n",
      "Train: 0.8241701244813278\n",
      "Valid: 0.7884914463452566\n",
      "max_depth = 6\n",
      "Train: 0.8355809128630706\n",
      "Valid: 0.7776049766718507\n",
      "max_depth = 7\n",
      "Train: 0.8495850622406639\n",
      "Valid: 0.7900466562986003\n",
      "max_depth = 8\n",
      "Train: 0.8651452282157677\n",
      "Valid: 0.7900466562986003\n",
      "max_depth = 9\n",
      "Train: 0.8781120331950207\n",
      "Valid: 0.7931570762052877\n",
      "max_depth = 10\n",
      "Train: 0.8853734439834025\n",
      "Valid: 0.7822706065318819\n"
     ]
    }
   ],
   "source": [
    "print(\"Decision Tree\")\n",
    "for depth in range(1, 11):\n",
    "    model = DecisionTreeClassifier(max_depth=depth, random_state=12345)\n",
    "    model.fit(features_train, target_train)\n",
    "    print(\"max_depth =\", depth)\n",
    "    print(\"Train:\", model.score(features_train, target_train))\n",
    "    print(\"Valid:\", model.score(features_valid, target_valid))"
   ]
  },
  {
   "cell_type": "code",
   "execution_count": 7,
   "id": "5cab7cd5",
   "metadata": {},
   "outputs": [
    {
     "name": "stdout",
     "output_type": "stream",
     "text": [
      "Random Forest\n",
      "n_estimators = 10\n",
      "Train: 0.9808091286307054\n",
      "Valid: 0.7853810264385692\n",
      "n_estimators = 20\n",
      "Train: 0.9963692946058091\n",
      "Valid: 0.7962674961119751\n",
      "n_estimators = 30\n",
      "Train: 0.9968879668049793\n",
      "Valid: 0.7947122861586314\n",
      "n_estimators = 40\n",
      "Train: 0.9984439834024896\n",
      "Valid: 0.8009331259720062\n",
      "n_estimators = 50\n",
      "Train: 0.9989626556016598\n",
      "Valid: 0.7947122861586314\n",
      "n_estimators = 60\n",
      "Train: 0.9994813278008299\n",
      "Valid: 0.7962674961119751\n",
      "n_estimators = 70\n",
      "Train: 1.0\n",
      "Valid: 0.7916018662519441\n",
      "n_estimators = 80\n",
      "Train: 1.0\n",
      "Valid: 0.7947122861586314\n",
      "n_estimators = 90\n",
      "Train: 1.0\n",
      "Valid: 0.7931570762052877\n",
      "n_estimators = 100\n",
      "Train: 1.0\n",
      "Valid: 0.7900466562986003\n"
     ]
    }
   ],
   "source": [
    "print(\"Random Forest\")\n",
    "for estim in range(10, 101, 10):\n",
    "    model = RandomForestClassifier(n_estimators=estim, random_state=12345)\n",
    "    model.fit(features_train, target_train)\n",
    "    print(\"n_estimators =\", estim)\n",
    "    print(\"Train:\", model.score(features_train, target_train))\n",
    "    print(\"Valid:\", model.score(features_valid, target_valid))"
   ]
  },
  {
   "cell_type": "code",
   "execution_count": 8,
   "id": "5ddd3f69",
   "metadata": {},
   "outputs": [
    {
     "name": "stdout",
     "output_type": "stream",
     "text": [
      "Logistic Regression\n",
      "Train: 0.6981327800829875\n",
      "Valid: 0.702954898911353\n"
     ]
    }
   ],
   "source": [
    "print(\"Logistic Regression\")\n",
    "model = LogisticRegression(random_state=12345)\n",
    "model.fit(features_train, target_train)\n",
    "print(\"Train:\", model.score(features_train, target_train))\n",
    "print(\"Valid:\", model.score(features_valid, target_valid))"
   ]
  },
  {
   "cell_type": "markdown",
   "id": "8418e86f",
   "metadata": {},
   "source": [
    "### Kesimpulan Awal\n",
    "\n",
    "- Linear regression shows the worst performance but it is not overfitted\n",
    "- Decision tree is overfitted but the accuracy is higher\n",
    "- Random forrest is also overfitted but the accuracy is slightly higher compared to decision tree"
   ]
  },
  {
   "cell_type": "markdown",
   "id": "82aff88a",
   "metadata": {},
   "source": [
    "## Testing model"
   ]
  },
  {
   "cell_type": "code",
   "execution_count": 10,
   "id": "3356cc03",
   "metadata": {},
   "outputs": [],
   "source": [
    "features_full_train = train_valid.drop(['is_ultra'], axis=1)\n",
    "target_full_train = train_valid['is_ultra']"
   ]
  },
  {
   "cell_type": "code",
   "execution_count": 11,
   "id": "7923742c",
   "metadata": {},
   "outputs": [
    {
     "data": {
      "text/plain": [
       "0.7993779160186625"
      ]
     },
     "execution_count": 11,
     "metadata": {},
     "output_type": "execute_result"
    }
   ],
   "source": [
    "model = RandomForestClassifier(n_estimators=80, random_state=12345)\n",
    "model.fit(features_full_train, target_full_train)\n",
    "model.score(features_test, target_test)"
   ]
  },
  {
   "cell_type": "markdown",
   "id": "04766fb5",
   "metadata": {},
   "source": [
    "### Additional task is ultra "
   ]
  },
  {
   "cell_type": "code",
   "execution_count": 13,
   "id": "29f74d2d",
   "metadata": {},
   "outputs": [
    {
     "data": {
      "text/plain": [
       "0    0.693528\n",
       "1    0.306472\n",
       "Name: is_ultra, dtype: float64"
      ]
     },
     "execution_count": 13,
     "metadata": {},
     "output_type": "execute_result"
    }
   ],
   "source": [
    "df['is_ultra'].value_counts() / df.shape[0]"
   ]
  },
  {
   "cell_type": "markdown",
   "id": "db1e49da",
   "metadata": {},
   "source": [
    "Sanity check score is ~69%, so the logistic regression hasn't learned much."
   ]
  },
  {
   "cell_type": "code",
   "execution_count": null,
   "id": "fc428753",
   "metadata": {},
   "outputs": [],
   "source": []
  }
 ],
 "metadata": {
  "kernelspec": {
   "display_name": "Python 3 (ipykernel)",
   "language": "python",
   "name": "python3"
  },
  "language_info": {
   "codemirror_mode": {
    "name": "ipython",
    "version": 3
   },
   "file_extension": ".py",
   "mimetype": "text/x-python",
   "name": "python",
   "nbconvert_exporter": "python",
   "pygments_lexer": "ipython3",
   "version": "3.9.12"
  },
  "toc": {
   "base_numbering": 1,
   "nav_menu": {},
   "number_sections": true,
   "sideBar": true,
   "skip_h1_title": false,
   "title_cell": "Table of Contents",
   "title_sidebar": "Contents",
   "toc_cell": false,
   "toc_position": {},
   "toc_section_display": true,
   "toc_window_display": false
  }
 },
 "nbformat": 4,
 "nbformat_minor": 5
}
